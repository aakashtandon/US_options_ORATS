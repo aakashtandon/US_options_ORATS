{
 "cells": [
  {
   "cell_type": "code",
   "execution_count": 2,
   "id": "cf8eb7b0",
   "metadata": {},
   "outputs": [],
   "source": [
    "import pandas as pd\n",
    "import numpy as np\n",
    "import gzip\n",
    "import os\n",
    "import datetime\n",
    "import pandas as pd\n",
    "import calendar\n",
    "import numpy as np\n",
    "import glob\n",
    "import sys\n",
    "import gc\n",
    "import re\n",
    "#import quantstats as qs\n",
    "import time\n",
    "\n",
    "import matplotlib.pyplot as plt\n",
    "\n",
    "import nest_asyncio # install this package to avoid running in loop\n",
    "\n",
    "import urllib\n",
    "import pandas_ta as ta\n",
    "\n",
    "import warnings\n",
    "\n",
    "import requests\n",
    "\n",
    "import hmac\n",
    "import hashlib\n",
    "\n",
    "import aiohttp\n",
    "import asyncio\n",
    "\n",
    "import logging\n",
    "from datetime import timezone\n",
    "\n",
    "import nest_asyncio\n",
    "\n",
    "# Filter depreciation warnings from pandas regarding the append method\n",
    "warnings.filterwarnings('ignore', category=FutureWarning, message=\".*append.*\")\n",
    "pd.options.mode.chained_assignment = None\n",
    "\n",
    "# Set pandas to display all digits for floating-point numbers\n",
    "pd.options.display.float_format = '{:.8f}'.format\n",
    "\n",
    "import os\n",
    "from dotenv import load_dotenv\n",
    "\n",
    "import warnings\n",
    "warnings.simplefilter(action='ignore', category=pd.errors.PerformanceWarning)\n",
    "\n",
    "# Ignore only FutureWarning\n",
    "warnings.filterwarnings('ignore', category=FutureWarning)\n",
    "\n",
    "# Ignore only RuntimeWarning\n",
    "warnings.filterwarnings('ignore', category=RuntimeWarning)\n",
    "\n",
    "import importlib\n",
    "\n",
    "\n",
    "from Orats_options_fetch_functions import *\n",
    "\n",
    "from faster_numba_strategy_functions import *\n",
    "\n",
    "import strategy_functions\n",
    "\n",
    "importlib.reload(strategy_functions)\n",
    "from strategy_functions import *\n",
    "\n",
    "# import Common_functions\n",
    "\n",
    "# importlib.reload(strategy_functions)\n",
    "# importlib.reload(Common_functions)\n",
    "\n",
    "# from Common_functions import *\n",
    "# coin_desk_api_key =  \"e43c1fd991e660b9bf959645f0800bb7e76fb4a3537ab773cec62b2fad31af2d\"\n",
    "from datetime import time\n",
    "from pathlib import Path\n",
    "# Get the user's home directory dynamically\n",
    "home_dir = r\"C:\\Data\\Options_logs\"\n",
    "#====================================\n",
    "\n",
    "strategy_name = \"Backtest_v1\"\n",
    "\n",
    "# Create a folder for the strategy_name if it doesn't exist in home directory\n",
    "\n",
    "strategy_folder = os.path.join(home_dir, strategy_name)\n",
    "if not os.path.exists(strategy_folder):\n",
    "    os.makedirs(strategy_folder)\n",
    "\n",
    "# Create the full path to the output file. this file contains all the trades\n",
    "\n",
    "output_all_trades_file = os.path.join(strategy_folder, f\"All_trades_{strategy_name}.csv\")\n",
    "trade_html_file = os.path.join(strategy_folder, f\"Trade_stats_{strategy_name}.html\")\n",
    "\n",
    "#=== location to store the trade dataframe for debug\n",
    "\n",
    "base_folder_df = \"strategy_dataframe\"\n",
    "df_folder = os.path.join(strategy_folder, base_folder_df)\n",
    "if not os.path.exists(df_folder):\n",
    "    os.makedirs(df_folder)\n",
    "    print(\"\\n Created strategy dataframe folder : \" ,df_folder )\n",
    "\n",
    "#----- symbol_wise_trades\n",
    "\n",
    "trades_folder = \"sym_wise_trades\"\n",
    "trades_strategy_folder = os.path.join(strategy_folder, trades_folder)\n",
    "\n",
    "if not os.path.exists(trades_strategy_folder):\n",
    "    print(\"\\n Making folder for symbol wise trades of strategy\" , trades_strategy_folder)\n",
    "    os.makedirs(trades_strategy_folder)\n",
    "\n",
    "logger = setup_logger(\"Straddle_0DTE\", strategy_folder, log_file=\"strategy.log\" , to_console=False)\n"
   ]
  },
  {
   "cell_type": "code",
   "execution_count": 3,
   "id": "0f6f7dd1",
   "metadata": {},
   "outputs": [
    {
     "name": "stdout",
     "output_type": "stream",
     "text": [
      "Querying data from: s3://duckdata/ORATS/Options/**/*.parquet\n"
     ]
    },
    {
     "data": {
      "application/vnd.jupyter.widget-view+json": {
       "model_id": "7742f4da3c404d069f194da1ccf065f3",
       "version_major": 2,
       "version_minor": 0
      },
      "text/plain": [
       "FloatProgress(value=0.0, layout=Layout(width='auto'), style=ProgressStyle(bar_color='black'))"
      ]
     },
     "metadata": {},
     "output_type": "display_data"
    },
    {
     "name": "stdout",
     "output_type": "stream",
     "text": [
      "\n",
      "✅ Query successful! First 5 rows of data:\n",
      "      expiry       strike  dte  optionType                  ts         low  \\\n",
      "0 2024-01-26 421.00000000   25          -1 2024-01-02 17:13:00 17.18000000   \n",
      "1 2024-01-12 414.00000000   11          -1 2024-01-02 17:13:00 10.41500000   \n",
      "\n",
      "         high        open       close     volume  ...      askSize  \\\n",
      "0 17.18000000 17.18000000 17.18000000 0.00000000  ...  50.00000000   \n",
      "1 10.41500000 10.41500000 10.41500000 0.00000000  ... 151.00000000   \n",
      "\n",
      "     bidPrice    askPrice      bidIv      askIv         iv          oi  \\\n",
      "0 17.12000000 17.24000000 0.13785700 0.14511500 0.14148600 15.00000000   \n",
      "1 10.34000000 10.49000000 0.14267100 0.15199600 0.14733300 54.00000000   \n",
      "\n",
      "    stockPrice        day ticker  \n",
      "0 404.00000000 2024-01-02    QQQ  \n",
      "1 404.00000000 2024-01-02    QQQ  \n",
      "\n",
      "[2 rows x 21 columns]\n"
     ]
    }
   ],
   "source": [
    "import duckdb\n",
    "import pandas as pd\n",
    "import matplotlib.pyplot as plt\n",
    "\n",
    "# Connect to an in-memory database\n",
    "con = duckdb.connect()\n",
    "\n",
    "# --- Your setup code (which is correct) ---\n",
    "con.execute(\"INSTALL httpfs;\")\n",
    "con.execute(\"LOAD httpfs;\")\n",
    "con.execute(\"\"\"\n",
    "SET s3_endpoint='122.176.133.73:9000';\n",
    "SET s3_use_ssl=false;\n",
    "SET s3_access_key_id='minioadmin';\n",
    "SET s3_secret_access_key='minioadmin';\n",
    "\"\"\")\n",
    "con.execute(\"SET s3_url_style='path';\") \n",
    "con.execute(\"PRAGMA threads=12;\")\n",
    "con.execute(\"PRAGMA enable_object_cache;\")\n",
    "\n",
    "\n",
    "# CORRECTED HTTPFS OPTIMIZATIONS\n",
    "con.execute(\"\"\"\n",
    "SET http_keep_alive=true;\n",
    "SET http_retries=5;\n",
    "SET http_timeout=180;\n",
    "\"\"\")\n",
    "\n",
    "\n",
    "# --- THE MISSING STEP: Querying a file from S3 ---\n",
    "# Replace with your actual S3 bucket and file path\n",
    "# This can be a .parquet, .csv, or .json file\n",
    "s3_file_path = 's3://duckdata/ORATS/Options/**/*.parquet'\n",
    "\n",
    "try:\n",
    "    # Execute a query on the S3 file and fetch the result as a Pandas DataFrame\n",
    "    print(f\"Querying data from: {s3_file_path}\")\n",
    "    df = con.execute(f\"\"\"\n",
    "        SELECT *\n",
    "        FROM '{s3_file_path}'\n",
    "        LIMIT 2;\n",
    "    \"\"\").df()\n",
    "\n",
    "    print(\"\\n✅ Query successful! First 5 rows of data:\")\n",
    "    print(df.head())\n",
    "\n",
    "except Exception as e:\n",
    "    print(f\"\\n❌ An error occurred during the query: {e}\")\n",
    "\n",
    "# finally:\n",
    "#     # It's good practice to close the connection\n",
    "#     con.close()"
   ]
  },
  {
   "cell_type": "code",
   "execution_count": 4,
   "id": "eb6303c5",
   "metadata": {},
   "outputs": [],
   "source": [
    "# --- STRATEGY CONFIGURATION ---\n",
    "\n",
    "# This defines the value of one strike step (e.g., for SPY, strikes are 1 point apart)\n",
    "strike_interval = 1.0\n",
    "\n",
    "# Example 1: 0DTE At-the-Money LONG STRADDLE\n",
    "strategy_config = {\n",
    "    'Leg1': {'action': 'SELL', 'option_type': 1, 'expiry_offset': 0, 'strike_offset': 1},  # Sell ATM Call\n",
    "    }   # Buy 1DTE call\n",
    "\n",
    "# 'Leg2': {'action': 'BUY', 'option_type': 1, 'expiry_offset': 1, 'strike_offset': 3"
   ]
  },
  {
   "cell_type": "code",
   "execution_count": null,
   "id": "aaeb8dc0",
   "metadata": {},
   "outputs": [
    {
     "name": "stdout",
     "output_type": "stream",
     "text": [
      "Total symbols found after all filtering:  2\n",
      "Calculating 3-day MA for 2 symbols...\n"
     ]
    }
   ],
   "source": [
    "\n",
    "\n",
    "ifol = r\"C:\\Data\\Aggregate_Data\\Options\\USA\\Raw_SPY_1min_2024_2025_ORATS_close.parquet\"\n",
    "#== read the RELIANCE data\n",
    "\n",
    "com_df2 = pd.read_parquet(ifol)\n",
    "\n",
    "if 'timestamp' in com_df2.columns:\n",
    "\n",
    "    com_df2['timestamp'] = pd.to_datetime(com_df2['timestamp'])\n",
    "    com_df2.set_index('timestamp' , inplace=True)\n",
    "com_df2 = com_df2[~com_df2.index.duplicated(keep='first')]\n",
    "\n",
    "com_df2.dropna(how='all', inplace=True)\n",
    "\n",
    "vix_df = pd.read_parquet(r\"C:\\Data\\Aggregate_Data\\VIX_1_min_2019_2025.parquet\")\n",
    "com_df2 = com_df2.join(vix_df)\n",
    "\n",
    "\n",
    "final_symbols = com_df2.filter(like='close').columns.str.replace('_close', '')\n",
    "print(\"Total symbols found after all filtering: \", len(final_symbols))\n",
    "\n",
    "# Calculate the number of rows in the DataFrame\n",
    "\n",
    "com_df2[[f\"{symbol}_intraday_low\" for symbol in final_symbols]] =com_df2[[f\"{symbol}_close\" for symbol in final_symbols]].apply(lambda x: intraday_low(com_df2, low_col=x.name,agg_func='min'))\n",
    "\n",
    "com_df2[[f\"{symbol}_intraday_high\" for symbol in final_symbols]] =com_df2[[f\"{symbol}_close\" for symbol in final_symbols]].apply(lambda x: intraday_high(com_df2, high_col=x.name,agg_func='max'))\n",
    "\n",
    "com_df2[[f\"{symbol}_todayo\" for symbol in final_symbols]] = com_df2[[f'{symbol}_close' for symbol in final_symbols]].resample('D').transform('first')\n",
    "\n",
    "# com_df2[[f\"{symbol}_daily_ROC\" for symbol in final_symbols]] = com_df2[[f\"{symbol}_close\" for symbol in final_symbols]].pct_change(periods=50)\n",
    "\n",
    "# com_df2[[f\"{symbol}_ROC\" for symbol in final_symbols]] = com_df2[[f\"{symbol}_close\" for symbol in final_symbols]].pct_change()\n",
    "\n",
    "# com_df2[[f\"{symbol}_ROC_4\" for symbol in final_symbols]] = com_df2[[f\"{symbol}_close\" for symbol in final_symbols]].pct_change(periods=4)\n",
    "\n",
    "com_df2[[f\"{symbol}_prevdayl\" for symbol in final_symbols]] = com_df2[[f\"{symbol}_close\" for symbol in final_symbols]].apply(lambda x: get_x_day_low_numba(com_df2, n=1, column=x.name))\n",
    "\n",
    "com_df2[[f\"{symbol}_prevdayh\" for symbol in final_symbols]] = com_df2[[f\"{symbol}_close\" for symbol in final_symbols]].apply(lambda x: get_x_day_high_numba(com_df2, n=1, column=x.name))\n",
    "\n",
    "com_df2[[f\"{symbol}_secdayh\" for symbol in final_symbols]] = com_df2[[f\"{symbol}_close\" for symbol in final_symbols]].apply(lambda x: get_x_day_high_numba(com_df2, n=2, column=x.name))\n",
    "\n",
    "\n",
    "# This single call does it for the 20-day MA\n",
    "ma_20d_df = calculate_daily_ma_vectorized(df=com_df2, symbols=final_symbols, periods=3 , agg_func='last' , col_suffix='close')\n",
    "\n",
    "    # Join the new features back to the main DataFrame\n",
    "com_df2 = pd.concat([com_df2, ma_20d_df] , axis=1 , join='outer')\n",
    "\n",
    "\n",
    "com_df2[[f\"{symbol}_ma\" for symbol in final_symbols]] = com_df2[[f\"{symbol}_close\" for symbol in final_symbols]].rolling(2).mean()\n",
    "\n",
    "com_df2[[f\"{symbol}_ROC_30\" for symbol in final_symbols]] = com_df2[[f\"{symbol}_ma\" for symbol in final_symbols]].pct_change(periods=30)\n",
    "\n",
    "\n",
    "#com_df2[[f\"{symbol}_ma_3d_low\" for symbol in final_symbols]] = com_df2[[f\"{symbol}_ma\" for symbol in final_symbols]].values / com_df2[[f\"{symbol}_3d_MA\" for symbol in final_symbols]].values\n",
    "\n",
    "com_df2[[f\"{symbol}_prevdayc\" for symbol in final_symbols]] = com_df2[[f\"{symbol}_close\" for symbol in final_symbols]].apply(lambda x: calculate_prev_day_close(com_df2, close_col=x.name, n_days=1))\n",
    "\n",
    "com_df2[[f\"{symbol}_secdayc\" for symbol in final_symbols]] = com_df2[[f\"{symbol}_close\" for symbol in final_symbols]].apply(lambda x: calculate_prev_day_close(com_df2, close_col=x.name, n_days=2))\n",
    "\n",
    "\n",
    "# #=== hourly volume\n",
    "# com_df2[[f\"{symbol}_vol_ma\" for symbol in final_symbols]] = com_df2[[f\"{symbol}_volume\" for symbol in final_symbols]].rolling(4).mean()\n",
    "\n",
    "# #==avg 3 day volume\n",
    "\n",
    "# com_df2[[f\"{symbol}_3d_vol_MA\" for symbol in final_symbols]] = com_df2[[f\"{symbol}_volume\" for symbol in final_symbols]].apply(lambda x: daily_moving_average(com_df2, timeframe='1D', column=x.name, periods=3, agg_func='last'))\n",
    "\n",
    "com_df2[[f\"{symbol}_ma2_low\" for symbol in final_symbols]] = com_df2[[f\"{symbol}_close\" for symbol in final_symbols]].rolling(5).mean()\n",
    "\n",
    "\n",
    "com_df2[[f\"{symbol}_3dlow\" for symbol in final_symbols]] = com_df2[[f\"{symbol}_ma2_low\" for symbol in final_symbols]].apply(lambda x: get_x_day_low_numba(com_df2, n=3, column=x.name))\n",
    "\n",
    "com_df2[[f\"{symbol}_3dhigh\" for symbol in final_symbols]] = com_df2[[f\"{symbol}_ma2_low\" for symbol in final_symbols]].apply(lambda x: get_x_day_high_numba(com_df2, n=3, column=x.name))\n",
    "\n",
    "\n",
    "\n",
    "# 1. Get the lists of column names\n",
    "high_3d_cols = [f\"{symbol}_3dhigh\" for symbol in final_symbols]\n",
    "low_3d_cols = [f\"{symbol}_3dlow\" for symbol in final_symbols]\n",
    "\n",
    "# 2. Perform the calculation on NumPy arrays\n",
    "range_values = (com_df2[high_3d_cols].values / com_df2[low_3d_cols].values) - 1\n",
    "\n",
    "# 3. Create a new DataFrame from the results\n",
    "# This is the key step to avoid the error.\n",
    "range_cols = [f\"{symbol}_3d_rng\" for symbol in final_symbols]\n",
    "range_df = pd.DataFrame(range_values, index=com_df2.index, columns=range_cols)\n",
    "\n",
    "# 4. Join the new DataFrame back to the main one\n",
    "com_df2 = com_df2.join(range_df)\n",
    "\n",
    "\n",
    "\n",
    "# # Calculate highest high of last 4 bars\n",
    "# com_df2[[f\"{symbol}_high_4bar\" for symbol in final_symbols]] = com_df2[[f\"{symbol}_close\" for symbol in final_symbols]].rolling(10).max()\n",
    "\n",
    "# # Calculate lowest low of last 4 bars\n",
    "# com_df2[[f\"{symbol}_low_4bar\" for symbol in final_symbols]] = com_df2[[f\"{symbol}_close\" for symbol in final_symbols]].rolling(10).min()\n",
    "\n",
    "# # 1. Get the lists of column names\n",
    "# high_cols = [f\"{symbol}_high_4bar\" for symbol in final_symbols]\n",
    "# low_cols = [f\"{symbol}_low_4bar\" for symbol in final_symbols]\n",
    "\n",
    "# # 2. Perform the calculation on the NumPy arrays\n",
    "# range_values = com_df2[high_cols].values - com_df2[low_cols].values\n",
    "\n",
    "# # 3. Create a new DataFrame from the result (This is the key step)\n",
    "# range_cols = [f\"{symbol}_range_4bar\" for symbol in final_symbols]\n",
    "# range_df = pd.DataFrame(range_values, index=com_df2.index, columns=range_cols)\n",
    "\n",
    "# # 4. Join the new DataFrame back to the main one\n",
    "# com_df2 = com_df2.join(range_df)\n",
    "\n",
    "\n",
    "# # Calculate mean range (average of the 4-bar ranges)\n",
    "# com_df2[[f\"{symbol}_mean_range_4bar\" for symbol in final_symbols]] = com_df2[[f\"{symbol}_range_4bar\" for symbol in final_symbols]].rolling(12).mean()\n",
    "\n",
    "\n",
    "# gc.collect()\n",
    "\n",
    "# for symbol in final_symbols:\n",
    "\n",
    "   \n",
    "#     com_df2[f'{symbol}_iATR2'] = com_df2[f\"{symbol}_ATR\"].values / com_df2[f\"{symbol}_close\"].values\n",
    "\n",
    "\n",
    "# 1. Define the column groups\n",
    "close_cols = [f\"{symbol}_close\" for symbol in final_symbols]\n",
    "low_3d_cols = [f\"{symbol}_3dlow\" for symbol in final_symbols]\n",
    "high_3d_cols = [f\"{symbol}_3dhigh\" for symbol in final_symbols]\n",
    "\n",
    "# 2. Perform the calculation in a more chained and memory-conscious way\n",
    "# Using .to_numpy(dtype=np.float32) can cut memory usage by 50%\n",
    "numerator = com_df2[close_cols].to_numpy(dtype=np.float32) - com_df2[low_3d_cols].to_numpy(dtype=np.float32)\n",
    "denominator = com_df2[high_3d_cols].to_numpy(dtype=np.float32) - com_df2[low_3d_cols].to_numpy(dtype=np.float32)\n",
    "\n",
    "# np.divide handles division by zero safely\n",
    "percentile_values = np.divide(numerator, denominator, where=denominator != 0)\n",
    "\n",
    "# 3. Create the new feature DataFrame\n",
    "pctl_cols = [f\"{symbol}_3d_Pctl\" for symbol in final_symbols]\n",
    "percentile_df = pd.DataFrame(percentile_values, index=com_df2.index, columns=pctl_cols)\n",
    "\n",
    "# 4. Clip values and join back (same as your code)\n",
    "percentile_df = percentile_df.clip(0, 1)\n",
    "com_df2 = com_df2.join(percentile_df)\n",
    "\n",
    "com_df2['decent'] = np.where((com_df2['SPY_todayo'] < com_df2['SPY_prevdayc'] * 1.015) , 1, 0)\n",
    "com_df = com_df2[com_df2['decent']==1]\n",
    "com_df = com_df[com_df.index.year>=2024]\n",
    "#com_df = com_df[com_df.index.year<2024]\n"
   ]
  },
  {
   "cell_type": "code",
   "execution_count": 6,
   "id": "9bcba291",
   "metadata": {},
   "outputs": [
    {
     "data": {
      "application/vnd.jupyter.widget-view+json": {
       "model_id": "cd23c9aa5c104ff381af51e114054032",
       "version_major": 2,
       "version_minor": 0
      },
      "text/plain": [
       "FloatProgress(value=0.0, layout=Layout(width='auto'), style=ProgressStyle(bar_color='black'))"
      ]
     },
     "metadata": {},
     "output_type": "display_data"
    },
    {
     "name": "stdout",
     "output_type": "stream",
     "text": [
      "\n",
      "--- Found Data for Date Range ---\n",
      "                          strike     expiry  dte  optionType         volume  \\\n",
      "ts                                                                            \n",
      "2024-04-12 09:30:00 510.00000000 2024-04-12    1           1 -1514.00000000   \n",
      "2024-04-12 09:31:00 510.00000000 2024-04-12    1           1    30.00000000   \n",
      "2024-04-12 09:32:00 510.00000000 2024-04-12    1           1     6.00000000   \n",
      "2024-04-12 09:33:00 510.00000000 2024-04-12    1           1    34.00000000   \n",
      "2024-04-12 09:34:00 510.00000000 2024-04-12    1           1    72.00000000   \n",
      "...                          ...        ...  ...         ...            ...   \n",
      "2024-04-12 15:56:00 510.00000000 2024-04-12    1           1  1958.00000000   \n",
      "2024-04-12 15:57:00 510.00000000 2024-04-12    1           1   695.00000000   \n",
      "2024-04-12 15:58:00 510.00000000 2024-04-12    1           1   604.00000000   \n",
      "2024-04-12 15:59:00 510.00000000 2024-04-12    1           1   609.00000000   \n",
      "2024-04-12 16:00:00 510.00000000 2024-04-12    1           1  1229.00000000   \n",
      "\n",
      "                               oi      close   bidPrice   askPrice         iv  \\\n",
      "ts                                                                              \n",
      "2024-04-12 09:30:00 2692.00000000 8.35000000 8.28000000 8.42000000 2.22587700   \n",
      "2024-04-12 09:31:00 2692.00000000 4.86000000 4.77000000 4.95000000 0.30508600   \n",
      "2024-04-12 09:32:00 2692.00000000 5.07000000 5.02000000 5.12000000 0.34011500   \n",
      "2024-04-12 09:33:00 2692.00000000 5.41000000 5.35000000 5.47000000 0.33757400   \n",
      "2024-04-12 09:34:00 2692.00000000 5.44500000 5.40000000 5.49000000 0.32165300   \n",
      "...                           ...        ...        ...        ...        ...   \n",
      "2024-04-12 15:56:00 2692.00000000 0.67500000 0.66000000 0.69000000 0.15471300   \n",
      "2024-04-12 15:57:00 2692.00000000 0.68500000 0.67000000 0.70000000 0.15918100   \n",
      "2024-04-12 15:58:00 2692.00000000 0.69000000 0.67000000 0.71000000 0.15793700   \n",
      "2024-04-12 15:59:00 2692.00000000 0.73000000 0.70000000 0.76000000 0.16718600   \n",
      "2024-04-12 16:00:00 2692.00000000 0.81500000 0.78000000 0.85000000 0.15913800   \n",
      "\n",
      "                      stockPrice ticker  \n",
      "ts                                       \n",
      "2024-04-12 09:30:00 514.29000000    SPY  \n",
      "2024-04-12 09:31:00 514.55000000    SPY  \n",
      "2024-04-12 09:32:00 514.68000000    SPY  \n",
      "2024-04-12 09:33:00 515.05000000    SPY  \n",
      "2024-04-12 09:34:00 515.13000000    SPY  \n",
      "...                          ...    ...  \n",
      "2024-04-12 15:56:00 510.50000000    SPY  \n",
      "2024-04-12 15:57:00 510.50000000    SPY  \n",
      "2024-04-12 15:58:00 510.53000000    SPY  \n",
      "2024-04-12 15:59:00 510.56000000    SPY  \n",
      "2024-04-12 16:00:00 510.70000000    SPY  \n",
      "\n",
      "[391 rows x 12 columns]\n"
     ]
    }
   ],
   "source": [
    "import pandas as pd\n",
    "import pandas_market_calendars as mcal\n",
    "\n",
    "def fetch_option_data_for_n_days(con, ticker, end_date_str, n_days, strike, expiry_str, option_type):\n",
    "    \"\"\"\n",
    "    Fetches a range of minute-level data for a single option contract\n",
    "    for a specified number of business days ending on a given date.\n",
    "\n",
    "    Args:\n",
    "        con: The DuckDB connection object.\n",
    "        ticker (str): The stock ticker (e.g., 'SPY').\n",
    "        end_date_str (str): The last day to query, in 'YYYY-MM-DD' format.\n",
    "        n_days (int): The number of business days of data to fetch.\n",
    "        strike (float): The specific strike price.\n",
    "        expiry_str (str): The expiry date to filter for, in 'YYYY-MM-DD' format.\n",
    "        option_type (int): The type of option to fetch (1 for Calls, 0 for Puts).\n",
    "\n",
    "    Returns:\n",
    "        pd.DataFrame: A DataFrame containing the minute-by-minute data.\n",
    "    \"\"\"\n",
    "    option_name = \"Call\" if option_type == 1 else \"Put\"\n",
    "    #print(f\"Fetching last {n_days} b-days of data ending on {end_date_str} for {ticker} {strike} {option_name} expiring {expiry_str}...\")\n",
    "    \n",
    "    try:\n",
    "        # --- Business Day Calculation Logic ---\n",
    "        # 1. Get the market calendar\n",
    "        nyse = mcal.get_calendar('NYSE')\n",
    "        \n",
    "        # 2. To be safe, find a start date far enough in the past\n",
    "        #    (n * 2 is a safe buffer for weekends/holidays)\n",
    "        start_buffer = pd.to_datetime(end_date_str) - pd.Timedelta(days=n_days * 2)\n",
    "        \n",
    "        # 3. Generate a schedule of valid trading days\n",
    "        schedule = nyse.schedule(start_date=start_buffer, end_date=end_date_str)\n",
    "        \n",
    "        # 4. Get the last 'n_days' from the schedule and format them\n",
    "        business_day_list = [d.strftime('%Y-%m-%d') for d in schedule.index[-n_days:]]\n",
    "        \n",
    "        # --- Query Logic (remains the same) ---\n",
    "        path_list = [\n",
    "            f\"'s3://duckdata/ORATS/Options/ticker={ticker}/day={d}/*.parquet'\"\n",
    "            for d in business_day_list\n",
    "        ]\n",
    "        \n",
    "        query = f\"\"\"\n",
    "            SELECT ts, strike, expiry, dte, optionType, volume, oi, close,\n",
    "                bidPrice, askPrice, iv, stockPrice, ticker\n",
    "            FROM read_parquet([{\",\".join(path_list)}])\n",
    "            WHERE \n",
    "                CAST(strike AS FLOAT) = {strike} AND\n",
    "                expiry = '{expiry_str}' AND\n",
    "                optionType = {option_type}\n",
    "            ORDER BY ts;\n",
    "        \"\"\"\n",
    "        \n",
    "        multi_day_df = con.execute(query).df()\n",
    "        \n",
    "        if multi_day_df.empty:\n",
    "            print(\"INFO: No data found for this contract in the specified date range.\")\n",
    "        \n",
    "        multi_day_df['ts'] = pd.to_datetime(multi_day_df['ts'].dt.tz_localize('UTC').dt.tz_convert('America/New_York').dt.tz_localize(None))\n",
    "        multi_day_df.set_index('ts' , inplace=True)\n",
    "        return multi_day_df\n",
    "\n",
    "    except Exception as e:\n",
    "        print(f\"An error occurred: {e}\")\n",
    "        return pd.DataFrame()\n",
    "\n",
    "# ==============================================================================\n",
    "# --- Example Usage ---\n",
    "# ==============================================================================\n",
    "# Assume 'con' is your active DuckDB connection\n",
    "\n",
    "# Get data for the 5 business days ending on September 12, 2025\n",
    "multi_day_df = fetch_option_data_for_n_days(\n",
    "    con=con,\n",
    "    ticker='SPY',\n",
    "    end_date_str='2024-04-12', # The last day of the range\n",
    "    n_days=1,                  # How many business days to go back\n",
    "    strike=510.0,\n",
    "    expiry_str='2024-04-12',\n",
    "    option_type=1              # 1 for Call\n",
    ")\n",
    "\n",
    "if not multi_day_df.empty:\n",
    "    print(\"\\n--- Found Data for Date Range ---\")\n",
    "    print(multi_day_df)"
   ]
  },
  {
   "cell_type": "code",
   "execution_count": 6,
   "id": "4f55c570",
   "metadata": {},
   "outputs": [],
   "source": [
    "\n",
    "def fetch_bulk_option_data_call_put(con, ticker, end_date_str, n_days, strikes: List[float], expiries: List[str] , option_type: int = 0 ):\n",
    "    \n",
    "    \"\"\"\n",
    "    Fetches a range of minute-level data for MULTIPLE option contracts\n",
    "    in a single, efficient query.\n",
    "\n",
    "    Args:\n",
    "        con: The database connection object.\n",
    "        ticker (str): The stock ticker (e.g., 'SPY').\n",
    "        end_date_str (str): The end date for the data fetch in 'YYYY-MM-DD' format.\n",
    "        n_days (int): The number of business days to look back.\n",
    "        strikes (List[float]): A list of strike prices to fetch.\n",
    "        expiries (List[str]): A list of expiry dates in 'YYYY-MM-DD' format.\n",
    "        option_type (int, optional): The type of option to fetch. \n",
    "                                     1 for Calls, -1 for Puts, 0 for Both. \n",
    "                                     Defaults to 0.\n",
    "    \n",
    "    Returns:\n",
    "        pd.DataFrame: A DataFrame containing the requested option data, or an empty\n",
    "                      DataFrame if no data is found or an error occurs.\n",
    "    \"\"\"\n",
    "\n",
    "    # 1. Get the list of business days to query (same as before)\n",
    "    nyse = mcal.get_calendar('NYSE')\n",
    "    start_buffer = pd.to_datetime(end_date_str) - pd.Timedelta(days=n_days)\n",
    "    schedule = nyse.schedule(start_date=start_buffer, end_date=end_date_str)\n",
    "    business_day_list = [d.strftime('%Y-%m-%d') for d in schedule.index[-n_days:]]\n",
    "    \n",
    "    # 1. Validate the option_type parameter first\n",
    "    if option_type not in [1, -1, 0]:\n",
    "        print(f\"❌ Bad input for option_type: '{option_type}'. Must be 1 (Call), -1 (Put), or 0 (Both).\")\n",
    "        return pd.DataFrame()\n",
    "\n",
    "\n",
    "    # 2. Build the list of S3 paths (same as before)\n",
    "    path_list = [\n",
    "        f\"'s3://duckdata/ORATS/Options/ticker={ticker}/day={d}/*.parquet'\"\n",
    "        for d in business_day_list ]\n",
    "    \n",
    "    # ▼▼▼ NEW QUERY LOGIC ▼▼▼\n",
    "    # 3. Format the lists for the SQL 'IN' clause\n",
    "    strikes_str = \",\".join(map(str, strikes)) # For numbers: 470.0,471.0,472.0\n",
    "    expiries_str = \",\".join([f\"'{e}'\" for e in expiries]) # For strings: '2024-01-05','2024-01-08'\n",
    "    \n",
    "    # ▼▼▼ NEW LOGIC: DYNAMIC QUERY FILTER ▼▼▼\n",
    "    # 2. Build the optionType filter string based on the parameter\n",
    "    option_type_filter_str = \"\"\n",
    "    if option_type == 1:\n",
    "        option_type_filter_str = \"AND optionType = 1\"\n",
    "    elif option_type == -1:\n",
    "        option_type_filter_str = \"AND optionType = -1\"\n",
    "\n",
    "\n",
    "\n",
    "    query = f\"\"\"\n",
    "        SELECT ts, strike, expiry, close, bidPrice, askPrice, oi, dte, optionType , iv\n",
    "        FROM read_parquet([{\",\".join(path_list)}])\n",
    "        WHERE \n",
    "            CAST(strike AS FLOAT) IN ({strikes_str}) AND\n",
    "            expiry IN ({expiries_str})\n",
    "            {option_type_filter_str} \n",
    "        ORDER BY ts;\n",
    "    \"\"\"\n",
    "    \n",
    "    try:\n",
    "        bulk_df = con.execute(query).df()\n",
    "        \n",
    "        if bulk_df.empty:\n",
    "            return pd.DataFrame()\n",
    "            \n",
    "        # Perform timezone conversion and set index (same as before)\n",
    "        bulk_df['ts'] = pd.to_datetime(bulk_df['ts'].dt.tz_localize('UTC').dt.tz_convert('America/New_York').dt.tz_localize(None))\n",
    "        bulk_df.set_index('ts' , inplace=True)\n",
    "        return bulk_df\n",
    "        \n",
    "    except Exception as e:\n",
    "        print(f\"An error occurred during bulk fetch: {e}\")\n",
    "        return pd.DataFrame()"
   ]
  },
  {
   "cell_type": "code",
   "execution_count": null,
   "id": "e3188a3b",
   "metadata": {},
   "outputs": [],
   "source": [
    "\n",
    "com_legs_df[[f\"{legs}_intraday_low\" for legs in legs_to_process]] =com_legs_df[[f\"{legs}_bidPrice\" for legs in legs_to_process]].apply(lambda x: intraday_low(com_legs_df, low_col=x.name,agg_func='min'))\n",
    "\n",
    "com_legs_df[[f\"{legs}_intraday_high\" for legs in legs_to_process]] =com_legs_df[[f\"{legs}_askPrice\" for legs in legs_to_process]].apply(lambda x: intraday_high(com_legs_df, high_col=x.name,agg_func='max'))\n",
    "\n",
    "# Calculate Today's Opening Price for each leg\n",
    "com_legs_df[[f'{leg}_todayo' for leg in legs_to_process]] =  com_legs_df[[f'{leg}_close' for leg in legs_to_process]].resample('D').transform('first')\n",
    "\n",
    "# Calculate Previous Day's Low (using bidPrice) for each leg\n",
    "com_legs_df[[f\"{leg}_prevdayl\" for leg in legs_to_process]] = com_legs_df[[f\"{leg}_bidPrice\" for leg in legs_to_process]].apply(lambda x: get_x_day_low_numba(com_legs_df, n=1, column=x.name))\n",
    "\n",
    "# Calculate Previous Day's High (using askPrice) for each leg\n",
    "com_legs_df[[f\"{leg}_prevdayh\" for leg in legs_to_process]] = \\\n",
    "    com_legs_df[[f\"{leg}_askPrice\" for leg in legs_to_process]].apply(lambda x: get_x_day_high_numba(com_legs_df, n=1, column=x.name) )\n",
    "\n",
    "close_cols = [f'{leg}_close' for leg in legs_to_process]\n",
    "window_size = 15\n",
    "\n",
    "# 1. Rolling 15-Bar Highest Close\n",
    "com_legs_df[[f'{leg}_15min_high' for leg in legs_to_process]] = \\\n",
    "    com_legs_df[close_cols].rolling(window=window_size).max()\n",
    "\n",
    "# 2. Rolling 15-Bar Lowest Close\n",
    "com_legs_df[[f'{leg}_15min_low' for leg in legs_to_process]] = \\\n",
    "    com_legs_df[close_cols].rolling(window=window_size).min()\n",
    "\n",
    "# 3. Rolling 15-Bar Mean Close\n",
    "com_legs_df[[f'{leg}_15min_mean' for leg in legs_to_process]] = \\\n",
    "    com_legs_df[close_cols].rolling(window=window_size).mean()\n",
    "\n",
    "com_legs_df[[f'{leg}_ROC_5' for leg in legs_to_process]] = com_legs_df[[f\"{leg}_close\" for leg in legs_to_process]].pct_change(periods=5)\n",
    "\n"
   ]
  },
  {
   "cell_type": "code",
   "execution_count": 7,
   "id": "fefc8931",
   "metadata": {},
   "outputs": [],
   "source": [
    "def log_and_close_trade(leg_name, exit_timestamp, exit_price, exit_reason, state_dicts, final_trade_log_list, option_multiplier=1):\n",
    "    \"\"\"\n",
    "    Logs the details of a closed trade, calculates profit, and resets all state variables for that leg.\n",
    "    \"\"\"\n",
    "    # Unpack the state dictionaries for easier access\n",
    "    is_in_position, position_side, entry_price, qty, entry_timestamp, bar_count = \\\n",
    "        state_dicts['is_in_position'], state_dicts['position_side'], state_dicts['entry_price'], \\\n",
    "        state_dicts['qty'], state_dicts['entry_timestamp'], state_dicts['bar_count']\n",
    "\n",
    "    # Check if the position actually exists before trying to close it\n",
    "    if leg_name not in entry_price:\n",
    "        print(f\"⚠️  Warning: Trying to close non-existent position {leg_name}. Skipping.\")\n",
    "        return\n",
    "    \n",
    "    # Get the details of the position being closed\n",
    "    side = position_side.get(leg_name)\n",
    "    \n",
    "    # Additional safety checks\n",
    "    if side is None:\n",
    "        print(f\"⚠️  Warning: No position side found for {leg_name}. Skipping.\")\n",
    "        return\n",
    "        \n",
    "    if leg_name not in qty:\n",
    "        print(f\"⚠️  Warning: No quantity found for {leg_name}. Skipping.\")\n",
    "        return\n",
    "\n",
    "    # Calculate profit\n",
    "    profit = (exit_price - entry_price[leg_name]) * qty[leg_name] * side * option_multiplier\n",
    "\n",
    "    # Create the trade log entry\n",
    "    trade_details = {\n",
    "        'name': leg_name,\n",
    "        'Side': 'BUY' if side == 1 else 'SELL',\n",
    "        'entry_date': entry_timestamp.get(leg_name, exit_timestamp),  # Use exit timestamp as fallback\n",
    "        'entry_price': entry_price[leg_name],\n",
    "        'qty': qty[leg_name],\n",
    "        'exit_date': exit_timestamp,\n",
    "        'exit_price': exit_price,\n",
    "        'profit': profit,\n",
    "        'bars_held': bar_count.get(leg_name, 0),\n",
    "        'exit_reason': exit_reason\n",
    "    }\n",
    "    final_trade_log_list.append(trade_details)\n",
    "    \n",
    "    print(f\"  -> {exit_reason} EXIT for {leg_name}. Profit: ${profit:.2f} and exit price is {exit_price:.2f}\")\n",
    "\n",
    "    # Reset all state variables for this leg (with safety checks)\n",
    "    for dict_name, state_dict in state_dicts.items():\n",
    "        if leg_name in state_dict:\n",
    "            del state_dict[leg_name]\n",
    "            #print(f\"    Cleared {leg_name} from {dict_name}\")"
   ]
  },
  {
   "cell_type": "code",
   "execution_count": null,
   "id": "74b00b87",
   "metadata": {},
   "outputs": [
    {
     "name": "stdout",
     "output_type": "stream",
     "text": [
      "🚀 Starting backtest for 239 unique days...\n",
      "\n",
      "--- Processing Day: 2024-01-04 ---\n",
      "Fetching options across 468.44\n",
      "Both expiries are 2024-01-04 and 2024-01-05\n"
     ]
    },
    {
     "data": {
      "application/vnd.jupyter.widget-view+json": {
       "model_id": "ce216d89f12140a4ad94d788f73595ff",
       "version_major": 2,
       "version_minor": 0
      },
      "text/plain": [
       "FloatProgress(value=0.0, layout=Layout(width='auto'), style=ProgressStyle(bar_color='black'))"
      ]
     },
     "metadata": {},
     "output_type": "display_data"
    },
    {
     "name": "stdout",
     "output_type": "stream",
     "text": [
      "\n",
      "--- Phase 2: Preparing Master DataFrame ---\n",
      "✅ Successfully created master DataFrame with 180 total columns.\n",
      "\n",
      "--- Processing Day: 2024-01-05 ---\n",
      "Fetching options across 468.15\n",
      "Both expiries are 2024-01-05 and 2024-01-08\n"
     ]
    },
    {
     "data": {
      "application/vnd.jupyter.widget-view+json": {
       "model_id": "24f6e57277d4413dac5e98bc2f8f4f09",
       "version_major": 2,
       "version_minor": 0
      },
      "text/plain": [
       "FloatProgress(value=0.0, layout=Layout(width='auto'), style=ProgressStyle(bar_color='black'))"
      ]
     },
     "metadata": {},
     "output_type": "display_data"
    },
    {
     "name": "stdout",
     "output_type": "stream",
     "text": [
      "\n",
      "--- Phase 2: Preparing Master DataFrame ---\n",
      "✅ Successfully created master DataFrame with 180 total columns.\n",
      "\n",
      "--- Processing Day: 2024-01-08 ---\n",
      "Fetching options across 468.64\n",
      "Both expiries are 2024-01-08 and 2024-01-09\n"
     ]
    },
    {
     "data": {
      "application/vnd.jupyter.widget-view+json": {
       "model_id": "ffc41969e6644749a84024de17bcc7cf",
       "version_major": 2,
       "version_minor": 0
      },
      "text/plain": [
       "FloatProgress(value=0.0, layout=Layout(width='auto'), style=ProgressStyle(bar_color='black'))"
      ]
     },
     "metadata": {},
     "output_type": "display_data"
    },
    {
     "name": "stdout",
     "output_type": "stream",
     "text": [
      "\n",
      "--- Phase 2: Preparing Master DataFrame ---\n",
      "✅ Successfully created master DataFrame with 180 total columns.\n",
      "\n",
      "--- Processing Day: 2024-01-09 ---\n",
      "Fetching options across 472.0\n",
      "Both expiries are 2024-01-09 and 2024-01-10\n"
     ]
    },
    {
     "data": {
      "application/vnd.jupyter.widget-view+json": {
       "model_id": "0f20acd8c6864f239d43393130bc935a",
       "version_major": 2,
       "version_minor": 0
      },
      "text/plain": [
       "FloatProgress(value=0.0, layout=Layout(width='auto'), style=ProgressStyle(bar_color='black'))"
      ]
     },
     "metadata": {},
     "output_type": "display_data"
    },
    {
     "name": "stdout",
     "output_type": "stream",
     "text": [
      "\n",
      "--- Phase 2: Preparing Master DataFrame ---\n",
      "✅ Successfully created master DataFrame with 180 total columns.\n",
      "\n",
      "--- Processing Day: 2024-01-10 ---\n",
      "Fetching options across 474.35\n",
      "Both expiries are 2024-01-10 and 2024-01-11\n"
     ]
    },
    {
     "data": {
      "application/vnd.jupyter.widget-view+json": {
       "model_id": "fa29b027806047db91dfe736fecb7573",
       "version_major": 2,
       "version_minor": 0
      },
      "text/plain": [
       "FloatProgress(value=0.0, layout=Layout(width='auto'), style=ProgressStyle(bar_color='black'))"
      ]
     },
     "metadata": {},
     "output_type": "display_data"
    },
    {
     "name": "stdout",
     "output_type": "stream",
     "text": [
      "\n",
      "--- Phase 2: Preparing Master DataFrame ---\n",
      "✅ Successfully created master DataFrame with 180 total columns.\n",
      "\n",
      "--- Processing Day: 2024-01-11 ---\n",
      "Fetching options across 477.93\n",
      "Both expiries are 2024-01-11 and 2024-01-12\n"
     ]
    },
    {
     "data": {
      "application/vnd.jupyter.widget-view+json": {
       "model_id": "e83f21c2104b474ea51c0eed31396043",
       "version_major": 2,
       "version_minor": 0
      },
      "text/plain": [
       "FloatProgress(value=0.0, layout=Layout(width='auto'), style=ProgressStyle(bar_color='black'))"
      ]
     },
     "metadata": {},
     "output_type": "display_data"
    },
    {
     "name": "stdout",
     "output_type": "stream",
     "text": [
      "\n",
      "--- Phase 2: Preparing Master DataFrame ---\n",
      "✅ Successfully created master DataFrame with 180 total columns.\n",
      "  -> SHORT ENTRY for C_478.0_20240111 at 10:00:00 at 0.51\n",
      "  -> HEDGE ENTRY of qty 82 for C_480.0_20240112 against C_478.0_20240111 and primary qty of 100 at price 0.3\n",
      "  -> COMBINED: Net credit = $25.40\n",
      "  [EOD] Checking positions to close at 15:45:00\n",
      "  [EOD] Current positions: ['C_478.0_20240111', 'C_480.0_20240112']\n",
      "  [EOD] Processing C_478.0_20240111: side=-1, price=0.01\n",
      "  -> EOD EXIT for C_478.0_20240111. Profit: $49.00 and exit price is 0.01\n",
      "  [EOD] Processing C_480.0_20240112: side=1, price=0.13\n",
      "  -> EOD EXIT for C_480.0_20240112. Profit: $-13.94 and exit price is 0.13\n",
      "\n",
      "--- Processing Day: 2024-01-12 ---\n",
      "Fetching options across 477.91\n",
      "Both expiries are 2024-01-12 and 2024-01-16\n"
     ]
    },
    {
     "data": {
      "application/vnd.jupyter.widget-view+json": {
       "model_id": "d3d7323044f3410cae7a244d7e7fdf76",
       "version_major": 2,
       "version_minor": 0
      },
      "text/plain": [
       "FloatProgress(value=0.0, layout=Layout(width='auto'), style=ProgressStyle(bar_color='black'))"
      ]
     },
     "metadata": {},
     "output_type": "display_data"
    },
    {
     "name": "stdout",
     "output_type": "stream",
     "text": [
      "\n",
      "--- Phase 2: Preparing Master DataFrame ---\n",
      "✅ Successfully created master DataFrame with 180 total columns.\n",
      "\n",
      "--- Processing Day: 2024-01-16 ---\n",
      "Fetching options across 475.37\n",
      "Both expiries are 2024-01-16 and 2024-01-17\n"
     ]
    },
    {
     "data": {
      "application/vnd.jupyter.widget-view+json": {
       "model_id": "dc07d0903285473ca633e54d23bdd3f4",
       "version_major": 2,
       "version_minor": 0
      },
      "text/plain": [
       "FloatProgress(value=0.0, layout=Layout(width='auto'), style=ProgressStyle(bar_color='black'))"
      ]
     },
     "metadata": {},
     "output_type": "display_data"
    },
    {
     "name": "stdout",
     "output_type": "stream",
     "text": [
      "\n",
      "--- Phase 2: Preparing Master DataFrame ---\n",
      "✅ Successfully created master DataFrame with 180 total columns.\n",
      "\n",
      "--- Processing Day: 2024-01-17 ---\n",
      "Fetching options across 471.78\n",
      "Both expiries are 2024-01-17 and 2024-01-18\n"
     ]
    },
    {
     "data": {
      "application/vnd.jupyter.widget-view+json": {
       "model_id": "8e958f6f845140bc96a81524c9ab8415",
       "version_major": 2,
       "version_minor": 0
      },
      "text/plain": [
       "FloatProgress(value=0.0, layout=Layout(width='auto'), style=ProgressStyle(bar_color='black'))"
      ]
     },
     "metadata": {},
     "output_type": "display_data"
    },
    {
     "name": "stdout",
     "output_type": "stream",
     "text": [
      "\n",
      "--- Phase 2: Preparing Master DataFrame ---\n",
      "✅ Successfully created master DataFrame with 180 total columns.\n",
      "\n",
      "--- Processing Day: 2024-01-18 ---\n",
      "Fetching options across 474.0\n",
      "Both expiries are 2024-01-18 and 2024-01-19\n"
     ]
    },
    {
     "data": {
      "application/vnd.jupyter.widget-view+json": {
       "model_id": "1250b793836a4d6eb3381fa628a62239",
       "version_major": 2,
       "version_minor": 0
      },
      "text/plain": [
       "FloatProgress(value=0.0, layout=Layout(width='auto'), style=ProgressStyle(bar_color='black'))"
      ]
     },
     "metadata": {},
     "output_type": "display_data"
    },
    {
     "name": "stdout",
     "output_type": "stream",
     "text": [
      "\n",
      "--- Phase 2: Preparing Master DataFrame ---\n",
      "✅ Successfully created master DataFrame with 180 total columns.\n",
      "\n",
      "--- Processing Day: 2024-01-19 ---\n",
      "Fetching options across 477.44\n",
      "Both expiries are 2024-01-19 and 2024-01-22\n"
     ]
    },
    {
     "data": {
      "application/vnd.jupyter.widget-view+json": {
       "model_id": "071170911d6442249d886ec95a87b8ce",
       "version_major": 2,
       "version_minor": 0
      },
      "text/plain": [
       "FloatProgress(value=0.0, layout=Layout(width='auto'), style=ProgressStyle(bar_color='black'))"
      ]
     },
     "metadata": {},
     "output_type": "display_data"
    },
    {
     "name": "stdout",
     "output_type": "stream",
     "text": [
      "\n",
      "--- Phase 2: Preparing Master DataFrame ---\n",
      "✅ Successfully created master DataFrame with 180 total columns.\n",
      "\n",
      "--- Processing Day: 2024-01-22 ---\n",
      "Fetching options across 484.13\n",
      "Both expiries are 2024-01-22 and 2024-01-23\n"
     ]
    },
    {
     "data": {
      "application/vnd.jupyter.widget-view+json": {
       "model_id": "5c9a51c2db2a4e6ba473c15cec1a13ed",
       "version_major": 2,
       "version_minor": 0
      },
      "text/plain": [
       "FloatProgress(value=0.0, layout=Layout(width='auto'), style=ProgressStyle(bar_color='black'))"
      ]
     },
     "metadata": {},
     "output_type": "display_data"
    },
    {
     "name": "stdout",
     "output_type": "stream",
     "text": [
      "\n",
      "--- Phase 2: Preparing Master DataFrame ---\n",
      "✅ Successfully created master DataFrame with 180 total columns.\n",
      "\n",
      "--- Processing Day: 2024-01-23 ---\n",
      "Fetching options across 484.23\n",
      "Both expiries are 2024-01-23 and 2024-01-24\n"
     ]
    },
    {
     "data": {
      "application/vnd.jupyter.widget-view+json": {
       "model_id": "980e49ad5e0d4f2ba25cf3410cf781a6",
       "version_major": 2,
       "version_minor": 0
      },
      "text/plain": [
       "FloatProgress(value=0.0, layout=Layout(width='auto'), style=ProgressStyle(bar_color='black'))"
      ]
     },
     "metadata": {},
     "output_type": "display_data"
    },
    {
     "name": "stdout",
     "output_type": "stream",
     "text": [
      "\n",
      "--- Phase 2: Preparing Master DataFrame ---\n",
      "✅ Successfully created master DataFrame with 180 total columns.\n",
      "\n",
      "--- Processing Day: 2024-01-24 ---\n",
      "Fetching options across 487.47\n",
      "Both expiries are 2024-01-24 and 2024-01-25\n"
     ]
    },
    {
     "data": {
      "application/vnd.jupyter.widget-view+json": {
       "model_id": "9e5de7ccab684a2ba90080bcbc4b449d",
       "version_major": 2,
       "version_minor": 0
      },
      "text/plain": [
       "FloatProgress(value=0.0, layout=Layout(width='auto'), style=ProgressStyle(bar_color='black'))"
      ]
     },
     "metadata": {},
     "output_type": "display_data"
    },
    {
     "name": "stdout",
     "output_type": "stream",
     "text": [
      "\n",
      "--- Phase 2: Preparing Master DataFrame ---\n",
      "✅ Successfully created master DataFrame with 180 total columns.\n",
      "\n",
      "--- Processing Day: 2024-01-25 ---\n",
      "Fetching options across 487.11\n",
      "Both expiries are 2024-01-25 and 2024-01-26\n"
     ]
    },
    {
     "data": {
      "application/vnd.jupyter.widget-view+json": {
       "model_id": "e34dcbd38c234ad0adfa0240892452a1",
       "version_major": 2,
       "version_minor": 0
      },
      "text/plain": [
       "FloatProgress(value=0.0, layout=Layout(width='auto'), style=ProgressStyle(bar_color='black'))"
      ]
     },
     "metadata": {},
     "output_type": "display_data"
    },
    {
     "name": "stdout",
     "output_type": "stream",
     "text": [
      "\n",
      "--- Phase 2: Preparing Master DataFrame ---\n",
      "✅ Successfully created master DataFrame with 180 total columns.\n",
      "\n",
      "--- Processing Day: 2024-01-26 ---\n",
      "Fetching options across 487.8\n",
      "Both expiries are 2024-01-26 and 2024-01-29\n"
     ]
    },
    {
     "data": {
      "application/vnd.jupyter.widget-view+json": {
       "model_id": "e7f6398a32544b7b8b61f5af5c7c7038",
       "version_major": 2,
       "version_minor": 0
      },
      "text/plain": [
       "FloatProgress(value=0.0, layout=Layout(width='auto'), style=ProgressStyle(bar_color='black'))"
      ]
     },
     "metadata": {},
     "output_type": "display_data"
    },
    {
     "name": "stdout",
     "output_type": "stream",
     "text": [
      "\n",
      "--- Phase 2: Preparing Master DataFrame ---\n",
      "✅ Successfully created master DataFrame with 180 total columns.\n",
      "\n",
      "--- Processing Day: 2024-01-29 ---\n",
      "Fetching options across 487.7\n",
      "Both expiries are 2024-01-29 and 2024-01-30\n"
     ]
    },
    {
     "data": {
      "application/vnd.jupyter.widget-view+json": {
       "model_id": "0f1b3652d0d942a297b42fb183f0d483",
       "version_major": 2,
       "version_minor": 0
      },
      "text/plain": [
       "FloatProgress(value=0.0, layout=Layout(width='auto'), style=ProgressStyle(bar_color='black'))"
      ]
     },
     "metadata": {},
     "output_type": "display_data"
    },
    {
     "name": "stdout",
     "output_type": "stream",
     "text": [
      "\n",
      "--- Phase 2: Preparing Master DataFrame ---\n",
      "✅ Successfully created master DataFrame with 180 total columns.\n",
      "\n",
      "--- Processing Day: 2024-01-30 ---\n",
      "Fetching options across 490.89\n",
      "Both expiries are 2024-01-30 and 2024-01-31\n"
     ]
    },
    {
     "data": {
      "application/vnd.jupyter.widget-view+json": {
       "model_id": "ee4afc6ea48244c4974fc2b3d7ace233",
       "version_major": 2,
       "version_minor": 0
      },
      "text/plain": [
       "FloatProgress(value=0.0, layout=Layout(width='auto'), style=ProgressStyle(bar_color='black'))"
      ]
     },
     "metadata": {},
     "output_type": "display_data"
    },
    {
     "name": "stdout",
     "output_type": "stream",
     "text": [
      "\n",
      "--- Phase 2: Preparing Master DataFrame ---\n",
      "✅ Successfully created master DataFrame with 180 total columns.\n",
      "\n",
      "--- Processing Day: 2024-01-31 ---\n",
      "Fetching options across 488.7\n",
      "Both expiries are 2024-01-31 and 2024-02-01\n"
     ]
    },
    {
     "data": {
      "application/vnd.jupyter.widget-view+json": {
       "model_id": "0fbf32951df6421eafd69bb7ec1094e6",
       "version_major": 2,
       "version_minor": 0
      },
      "text/plain": [
       "FloatProgress(value=0.0, layout=Layout(width='auto'), style=ProgressStyle(bar_color='black'))"
      ]
     },
     "metadata": {},
     "output_type": "display_data"
    },
    {
     "name": "stdout",
     "output_type": "stream",
     "text": [
      "\n",
      "--- Phase 2: Preparing Master DataFrame ---\n",
      "✅ Successfully created master DataFrame with 180 total columns.\n",
      "  -> SHORT ENTRY for C_490.0_20240131 at 09:47:00 at 0.7\n",
      "  -> HEDGE ENTRY of qty 55 for C_492.0_20240201 against C_490.0_20240131 and primary qty of 100 at price 0.72\n",
      "  -> COMBINED: Net credit = $29.40\n",
      "  [EOD] Checking positions to close at 15:45:00\n",
      "  [EOD] Current positions: ['C_490.0_20240131', 'C_492.0_20240201']\n",
      "  [EOD] Processing C_490.0_20240131: side=-1, price=0.01\n",
      "  -> EOD EXIT for C_490.0_20240131. Profit: $68.00 and exit price is 0.01\n",
      "  [EOD] Processing C_492.0_20240201: side=1, price=0.06\n",
      "  -> EOD EXIT for C_492.0_20240201. Profit: $-36.30 and exit price is 0.06\n",
      "\n",
      "--- Processing Day: 2024-02-01 ---\n",
      "Fetching options across 485.15\n",
      "Both expiries are 2024-02-01 and 2024-02-02\n"
     ]
    },
    {
     "data": {
      "application/vnd.jupyter.widget-view+json": {
       "model_id": "e1ed86169c21445099b729eaeb292673",
       "version_major": 2,
       "version_minor": 0
      },
      "text/plain": [
       "FloatProgress(value=0.0, layout=Layout(width='auto'), style=ProgressStyle(bar_color='black'))"
      ]
     },
     "metadata": {},
     "output_type": "display_data"
    },
    {
     "name": "stdout",
     "output_type": "stream",
     "text": [
      "\n",
      "--- Phase 2: Preparing Master DataFrame ---\n",
      "✅ Successfully created master DataFrame with 180 total columns.\n",
      "  -> SHORT ENTRY for C_486.0_20240201 at 10:02:00 at 0.69\n",
      "  -> HEDGE ENTRY of qty 87 for C_488.0_20240202 against C_486.0_20240201 and primary qty of 100 at price 1.01\n",
      "  -> COMBINED: Net credit = $-19.87\n",
      "  🚨 STOP-LOSS TRIGGERED for C_486.0_20240201+C_488.0_20240202\n",
      "     Entry short was : $0.68, Current short leg price: $0.95\n",
      "     Entry long was : $1.01, Current short leg price: $1.02\n",
      "   Total  Loss: $-26.13\n",
      "  -> SPREAD_STOP_LOSS EXIT for C_486.0_20240201. Profit: $-27.00 and exit price is 0.95\n",
      "  -> SPREAD_STOP_LOSS EXIT for C_488.0_20240202. Profit: $0.87 and exit price is 1.02\n",
      "  -> SHORT ENTRY for C_486.0_20240201 at 10:56:00 at 0.62\n",
      "  -> HEDGE ENTRY of qty 79 for C_488.0_20240202 against C_486.0_20240201 and primary qty of 100 at price 0.87\n",
      "  -> COMBINED: Net credit = $-7.73\n",
      "  🚨 STOP-LOSS TRIGGERED for C_486.0_20240201+C_488.0_20240202\n",
      "     Entry short was : $0.61, Current short leg price: $0.86\n",
      "     Entry long was : $0.87, Current short leg price: $0.96\n",
      "   Total  Loss: $-17.89\n",
      "  -> SPREAD_STOP_LOSS EXIT for C_486.0_20240201. Profit: $-25.00 and exit price is 0.86\n",
      "  -> SPREAD_STOP_LOSS EXIT for C_488.0_20240202. Profit: $7.11 and exit price is 0.96\n",
      "  -> SHORT ENTRY for C_488.0_20240201 at 13:08:00 at 0.51\n",
      "  -> HEDGE ENTRY of qty 67 for C_490.0_20240202 against C_488.0_20240201 and primary qty of 100 at price 0.85\n",
      "  -> COMBINED: Net credit = $-6.95\n",
      "  🚨 STOP-LOSS TRIGGERED for C_488.0_20240201+C_490.0_20240202\n",
      "     Entry short was : $0.50, Current short leg price: $0.77\n",
      "     Entry long was : $0.85, Current short leg price: $0.96\n",
      "   Total  Loss: $-19.63\n",
      "  -> SPREAD_STOP_LOSS EXIT for C_488.0_20240201. Profit: $-27.00 and exit price is 0.77\n",
      "  -> SPREAD_STOP_LOSS EXIT for C_490.0_20240202. Profit: $7.37 and exit price is 0.96\n",
      "\n",
      "--- Processing Day: 2024-02-02 ---\n",
      "Fetching options across 489.85\n",
      "Both expiries are 2024-02-02 and 2024-02-05\n"
     ]
    },
    {
     "data": {
      "application/vnd.jupyter.widget-view+json": {
       "model_id": "de537aeb3b684d73a23e97cd332f3bc0",
       "version_major": 2,
       "version_minor": 0
      },
      "text/plain": [
       "FloatProgress(value=0.0, layout=Layout(width='auto'), style=ProgressStyle(bar_color='black'))"
      ]
     },
     "metadata": {},
     "output_type": "display_data"
    },
    {
     "name": "stdout",
     "output_type": "stream",
     "text": [
      "\n",
      "--- Phase 2: Preparing Master DataFrame ---\n",
      "✅ Successfully created master DataFrame with 180 total columns.\n",
      "\n",
      "--- Processing Day: 2024-02-05 ---\n",
      "Fetching options across 493.25\n",
      "Both expiries are 2024-02-05 and 2024-02-06\n"
     ]
    },
    {
     "data": {
      "application/vnd.jupyter.widget-view+json": {
       "model_id": "0836b792078f4de4bedf210bc67e86a5",
       "version_major": 2,
       "version_minor": 0
      },
      "text/plain": [
       "FloatProgress(value=0.0, layout=Layout(width='auto'), style=ProgressStyle(bar_color='black'))"
      ]
     },
     "metadata": {},
     "output_type": "display_data"
    },
    {
     "name": "stdout",
     "output_type": "stream",
     "text": [
      "\n",
      "--- Phase 2: Preparing Master DataFrame ---\n",
      "✅ Successfully created master DataFrame with 180 total columns.\n",
      "\n",
      "--- Processing Day: 2024-02-06 ---\n",
      "Fetching options across 493.98\n",
      "Both expiries are 2024-02-06 and 2024-02-07\n"
     ]
    },
    {
     "data": {
      "application/vnd.jupyter.widget-view+json": {
       "model_id": "4e22b9a2150a441182ae02c1b15700b3",
       "version_major": 2,
       "version_minor": 0
      },
      "text/plain": [
       "FloatProgress(value=0.0, layout=Layout(width='auto'), style=ProgressStyle(bar_color='black'))"
      ]
     },
     "metadata": {},
     "output_type": "display_data"
    },
    {
     "name": "stdout",
     "output_type": "stream",
     "text": [
      "\n",
      "--- Phase 2: Preparing Master DataFrame ---\n",
      "✅ Successfully created master DataFrame with 171 total columns.\n",
      "\n",
      "--- Processing Day: 2024-02-07 ---\n",
      "Fetching options across 496.32\n",
      "Both expiries are 2024-02-07 and 2024-02-08\n"
     ]
    },
    {
     "data": {
      "application/vnd.jupyter.widget-view+json": {
       "model_id": "61f344dbc616471bad64fb18027b77c6",
       "version_major": 2,
       "version_minor": 0
      },
      "text/plain": [
       "FloatProgress(value=0.0, layout=Layout(width='auto'), style=ProgressStyle(bar_color='black'))"
      ]
     },
     "metadata": {},
     "output_type": "display_data"
    },
    {
     "name": "stdout",
     "output_type": "stream",
     "text": [
      "\n",
      "--- Phase 2: Preparing Master DataFrame ---\n",
      "✅ Successfully created master DataFrame with 144 total columns.\n",
      "\n",
      "--- Processing Day: 2024-02-08 ---\n",
      "Fetching options across 497.78\n",
      "Both expiries are 2024-02-08 and 2024-02-09\n"
     ]
    },
    {
     "data": {
      "application/vnd.jupyter.widget-view+json": {
       "model_id": "dbf9c73b07264da2b37f9365c71b73e6",
       "version_major": 2,
       "version_minor": 0
      },
      "text/plain": [
       "FloatProgress(value=0.0, layout=Layout(width='auto'), style=ProgressStyle(bar_color='black'))"
      ]
     },
     "metadata": {},
     "output_type": "display_data"
    },
    {
     "name": "stdout",
     "output_type": "stream",
     "text": [
      "\n",
      "--- Phase 2: Preparing Master DataFrame ---\n",
      "✅ Successfully created master DataFrame with 162 total columns.\n",
      "\n",
      "--- Processing Day: 2024-02-09 ---\n",
      "Fetching options across 499.13\n",
      "Both expiries are 2024-02-09 and 2024-02-12\n"
     ]
    },
    {
     "data": {
      "application/vnd.jupyter.widget-view+json": {
       "model_id": "ec9d3a1227ad48fc94801705677fa677",
       "version_major": 2,
       "version_minor": 0
      },
      "text/plain": [
       "FloatProgress(value=0.0, layout=Layout(width='auto'), style=ProgressStyle(bar_color='black'))"
      ]
     },
     "metadata": {},
     "output_type": "display_data"
    },
    {
     "name": "stdout",
     "output_type": "stream",
     "text": [
      "\n",
      "--- Phase 2: Preparing Master DataFrame ---\n",
      "✅ Successfully created master DataFrame with 180 total columns.\n",
      "\n",
      "--- Processing Day: 2024-02-12 ---\n",
      "Fetching options across 501.24\n",
      "Both expiries are 2024-02-12 and 2024-02-13\n"
     ]
    },
    {
     "data": {
      "application/vnd.jupyter.widget-view+json": {
       "model_id": "957edc9a37af452e9790bc62141115e4",
       "version_major": 2,
       "version_minor": 0
      },
      "text/plain": [
       "FloatProgress(value=0.0, layout=Layout(width='auto'), style=ProgressStyle(bar_color='black'))"
      ]
     },
     "metadata": {},
     "output_type": "display_data"
    },
    {
     "name": "stdout",
     "output_type": "stream",
     "text": [
      "\n",
      "--- Phase 2: Preparing Master DataFrame ---\n",
      "✅ Successfully created master DataFrame with 216 total columns.\n",
      "\n",
      "--- Processing Day: 2024-02-13 ---\n",
      "Fetching options across 494.3\n",
      "Both expiries are 2024-02-13 and 2024-02-14\n"
     ]
    },
    {
     "data": {
      "application/vnd.jupyter.widget-view+json": {
       "model_id": "3f319b53d171429da184be5ab3b7e313",
       "version_major": 2,
       "version_minor": 0
      },
      "text/plain": [
       "FloatProgress(value=0.0, layout=Layout(width='auto'), style=ProgressStyle(bar_color='black'))"
      ]
     },
     "metadata": {},
     "output_type": "display_data"
    },
    {
     "name": "stdout",
     "output_type": "stream",
     "text": [
      "\n",
      "--- Phase 2: Preparing Master DataFrame ---\n",
      "✅ Successfully created master DataFrame with 180 total columns.\n",
      "  -> SHORT ENTRY for C_496.0_20240213 at 09:50:00 at 0.53\n",
      "  -> HEDGE ENTRY of qty 73 for C_498.0_20240214 against C_496.0_20240213 and primary qty of 100 at price 0.31\n",
      "  -> COMBINED: Net credit = $29.37\n",
      "  [EOD] Checking positions to close at 15:45:00\n",
      "  [EOD] Current positions: ['C_496.0_20240213', 'C_498.0_20240214']\n",
      "  [EOD] Processing C_496.0_20240213: side=-1, price=0.01\n",
      "  -> EOD EXIT for C_496.0_20240213. Profit: $51.00 and exit price is 0.01\n",
      "  [EOD] Processing C_498.0_20240214: side=1, price=0.13\n",
      "  -> EOD EXIT for C_498.0_20240214. Profit: $-13.14 and exit price is 0.13\n",
      "\n",
      "--- Processing Day: 2024-02-14 ---\n",
      "Fetching options across 497.01\n",
      "Both expiries are 2024-02-14 and 2024-02-15\n"
     ]
    },
    {
     "data": {
      "application/vnd.jupyter.widget-view+json": {
       "model_id": "b403879728a74cfbb9dfc54571ff899c",
       "version_major": 2,
       "version_minor": 0
      },
      "text/plain": [
       "FloatProgress(value=0.0, layout=Layout(width='auto'), style=ProgressStyle(bar_color='black'))"
      ]
     },
     "metadata": {},
     "output_type": "display_data"
    },
    {
     "name": "stdout",
     "output_type": "stream",
     "text": [
      "\n",
      "--- Phase 2: Preparing Master DataFrame ---\n",
      "✅ Successfully created master DataFrame with 180 total columns.\n",
      "\n",
      "--- Processing Day: 2024-02-15 ---\n",
      "Fetching options across 499.49\n",
      "Both expiries are 2024-02-15 and 2024-02-16\n"
     ]
    },
    {
     "data": {
      "application/vnd.jupyter.widget-view+json": {
       "model_id": "817f97b5912b48818f43540a537e53d9",
       "version_major": 2,
       "version_minor": 0
      },
      "text/plain": [
       "FloatProgress(value=0.0, layout=Layout(width='auto'), style=ProgressStyle(bar_color='black'))"
      ]
     },
     "metadata": {},
     "output_type": "display_data"
    },
    {
     "name": "stdout",
     "output_type": "stream",
     "text": [
      "\n",
      "--- Phase 2: Preparing Master DataFrame ---\n",
      "✅ Successfully created master DataFrame with 180 total columns.\n",
      "\n",
      "--- Processing Day: 2024-02-16 ---\n",
      "Fetching options across 501.71\n",
      "Both expiries are 2024-02-16 and 2024-02-20\n"
     ]
    },
    {
     "data": {
      "application/vnd.jupyter.widget-view+json": {
       "model_id": "b3285dcef92f4599b0568fa79e800746",
       "version_major": 2,
       "version_minor": 0
      },
      "text/plain": [
       "FloatProgress(value=0.0, layout=Layout(width='auto'), style=ProgressStyle(bar_color='black'))"
      ]
     },
     "metadata": {},
     "output_type": "display_data"
    },
    {
     "name": "stdout",
     "output_type": "stream",
     "text": [
      "\n",
      "--- Phase 2: Preparing Master DataFrame ---\n",
      "✅ Successfully created master DataFrame with 216 total columns.\n",
      "  -> SHORT ENTRY for C_502.0_20240216 at 09:53:00 at 0.54\n",
      "  -> HEDGE ENTRY of qty 70 for C_504.0_20240220 against C_502.0_20240216 and primary qty of 100 at price 0.47\n",
      "  -> COMBINED: Net credit = $20.10\n",
      "  🚨 STOP-LOSS TRIGGERED for C_502.0_20240216+C_504.0_20240220\n",
      "     Entry short was : $0.53, Current short leg price: $0.82\n",
      "     Entry long was : $0.47, Current short leg price: $0.76\n",
      "   Total  Loss: $-8.70\n",
      "  -> SPREAD_STOP_LOSS EXIT for C_502.0_20240216. Profit: $-29.00 and exit price is 0.82\n",
      "  -> SPREAD_STOP_LOSS EXIT for C_504.0_20240220. Profit: $20.30 and exit price is 0.76\n",
      "\n",
      "--- Processing Day: 2024-02-20 ---\n",
      "Fetching options across 497.88\n",
      "Both expiries are 2024-02-20 and 2024-02-21\n"
     ]
    },
    {
     "data": {
      "application/vnd.jupyter.widget-view+json": {
       "model_id": "62a22ac95fd0464583613f2fcbe8b52d",
       "version_major": 2,
       "version_minor": 0
      },
      "text/plain": [
       "FloatProgress(value=0.0, layout=Layout(width='auto'), style=ProgressStyle(bar_color='black'))"
      ]
     },
     "metadata": {},
     "output_type": "display_data"
    },
    {
     "name": "stdout",
     "output_type": "stream",
     "text": [
      "\n",
      "--- Phase 2: Preparing Master DataFrame ---\n",
      "✅ Successfully created master DataFrame with 180 total columns.\n",
      "\n",
      "--- Processing Day: 2024-02-21 ---\n",
      "Fetching options across 495.45\n",
      "Both expiries are 2024-02-21 and 2024-02-22\n"
     ]
    },
    {
     "data": {
      "application/vnd.jupyter.widget-view+json": {
       "model_id": "22036adfd7cc435fac349401dcc34bdd",
       "version_major": 2,
       "version_minor": 0
      },
      "text/plain": [
       "FloatProgress(value=0.0, layout=Layout(width='auto'), style=ProgressStyle(bar_color='black'))"
      ]
     },
     "metadata": {},
     "output_type": "display_data"
    },
    {
     "name": "stdout",
     "output_type": "stream",
     "text": [
      "\n",
      "--- Phase 2: Preparing Master DataFrame ---\n",
      "✅ Successfully created master DataFrame with 180 total columns.\n",
      "  -> SHORT ENTRY for C_497.0_20240221 at 12:07:00 at 0.61\n",
      "  -> HEDGE ENTRY of qty 66 for C_499.0_20240222 against C_497.0_20240221 and primary qty of 100 at price 1.06\n",
      "  -> COMBINED: Net credit = $-9.96\n",
      "  [EOD] Checking positions to close at 15:45:00\n",
      "  [EOD] Current positions: ['C_497.0_20240221', 'C_499.0_20240222']\n",
      "  [EOD] Processing C_497.0_20240221: side=-1, price=0.74\n",
      "  -> EOD EXIT for C_497.0_20240221. Profit: $-14.00 and exit price is 0.74\n",
      "  [EOD] Processing C_499.0_20240222: side=1, price=1.14\n",
      "  -> EOD EXIT for C_499.0_20240222. Profit: $5.28 and exit price is 1.14\n",
      "\n",
      "--- Processing Day: 2024-02-22 ---\n",
      "Fetching options across 503.44\n",
      "Both expiries are 2024-02-22 and 2024-02-23\n"
     ]
    },
    {
     "data": {
      "application/vnd.jupyter.widget-view+json": {
       "model_id": "246ffcdca5d7439ebe7c33cdbf92c159",
       "version_major": 2,
       "version_minor": 0
      },
      "text/plain": [
       "FloatProgress(value=0.0, layout=Layout(width='auto'), style=ProgressStyle(bar_color='black'))"
      ]
     },
     "metadata": {},
     "output_type": "display_data"
    },
    {
     "name": "stdout",
     "output_type": "stream",
     "text": [
      "\n",
      "--- Phase 2: Preparing Master DataFrame ---\n",
      "✅ Successfully created master DataFrame with 216 total columns.\n",
      "\n",
      "--- Processing Day: 2024-02-23 ---\n",
      "Fetching options across 509.27\n",
      "Both expiries are 2024-02-23 and 2024-02-26\n"
     ]
    },
    {
     "data": {
      "application/vnd.jupyter.widget-view+json": {
       "model_id": "8cc57258dd3b44088e04e050e03988f7",
       "version_major": 2,
       "version_minor": 0
      },
      "text/plain": [
       "FloatProgress(value=0.0, layout=Layout(width='auto'), style=ProgressStyle(bar_color='black'))"
      ]
     },
     "metadata": {},
     "output_type": "display_data"
    },
    {
     "name": "stdout",
     "output_type": "stream",
     "text": [
      "\n",
      "--- Phase 2: Preparing Master DataFrame ---\n",
      "✅ Successfully created master DataFrame with 162 total columns.\n",
      "\n",
      "--- Processing Day: 2024-02-26 ---\n",
      "Fetching options across 508.37\n",
      "Both expiries are 2024-02-26 and 2024-02-27\n"
     ]
    },
    {
     "data": {
      "application/vnd.jupyter.widget-view+json": {
       "model_id": "025e920004d048f1a88a0925e4d03352",
       "version_major": 2,
       "version_minor": 0
      },
      "text/plain": [
       "FloatProgress(value=0.0, layout=Layout(width='auto'), style=ProgressStyle(bar_color='black'))"
      ]
     },
     "metadata": {},
     "output_type": "display_data"
    },
    {
     "name": "stdout",
     "output_type": "stream",
     "text": [
      "\n",
      "--- Phase 2: Preparing Master DataFrame ---\n",
      "✅ Successfully created master DataFrame with 144 total columns.\n",
      "\n",
      "--- Processing Day: 2024-02-27 ---\n",
      "Fetching options across 506.53\n",
      "Both expiries are 2024-02-27 and 2024-02-28\n"
     ]
    },
    {
     "data": {
      "application/vnd.jupyter.widget-view+json": {
       "model_id": "0d164cb4a9de495fa4693343f79e89a0",
       "version_major": 2,
       "version_minor": 0
      },
      "text/plain": [
       "FloatProgress(value=0.0, layout=Layout(width='auto'), style=ProgressStyle(bar_color='black'))"
      ]
     },
     "metadata": {},
     "output_type": "display_data"
    },
    {
     "name": "stdout",
     "output_type": "stream",
     "text": [
      "\n",
      "--- Phase 2: Preparing Master DataFrame ---\n",
      "✅ Successfully created master DataFrame with 216 total columns.\n",
      "\n",
      "--- Processing Day: 2024-02-28 ---\n",
      "Fetching options across 505.53\n",
      "Both expiries are 2024-02-28 and 2024-02-29\n"
     ]
    },
    {
     "data": {
      "application/vnd.jupyter.widget-view+json": {
       "model_id": "0b154985241643559a8ee1d6dcb36a70",
       "version_major": 2,
       "version_minor": 0
      },
      "text/plain": [
       "FloatProgress(value=0.0, layout=Layout(width='auto'), style=ProgressStyle(bar_color='black'))"
      ]
     },
     "metadata": {},
     "output_type": "display_data"
    },
    {
     "name": "stdout",
     "output_type": "stream",
     "text": [
      "\n",
      "--- Phase 2: Preparing Master DataFrame ---\n",
      "✅ Successfully created master DataFrame with 216 total columns.\n",
      "\n",
      "--- Processing Day: 2024-02-29 ---\n",
      "Fetching options across 508.17\n",
      "Both expiries are 2024-02-29 and 2024-03-01\n"
     ]
    },
    {
     "data": {
      "application/vnd.jupyter.widget-view+json": {
       "model_id": "a6e358514def42d8abed89f5bce2307f",
       "version_major": 2,
       "version_minor": 0
      },
      "text/plain": [
       "FloatProgress(value=0.0, layout=Layout(width='auto'), style=ProgressStyle(bar_color='black'))"
      ]
     },
     "metadata": {},
     "output_type": "display_data"
    },
    {
     "name": "stdout",
     "output_type": "stream",
     "text": [
      "\n",
      "--- Phase 2: Preparing Master DataFrame ---\n",
      "✅ Successfully created master DataFrame with 216 total columns.\n",
      "\n",
      "--- Processing Day: 2024-03-01 ---\n",
      "Fetching options across 509.44\n",
      "Both expiries are 2024-03-01 and 2024-03-04\n"
     ]
    },
    {
     "data": {
      "application/vnd.jupyter.widget-view+json": {
       "model_id": "64a2a28ecee44fa1ba682c74078f1327",
       "version_major": 2,
       "version_minor": 0
      },
      "text/plain": [
       "FloatProgress(value=0.0, layout=Layout(width='auto'), style=ProgressStyle(bar_color='black'))"
      ]
     },
     "metadata": {},
     "output_type": "display_data"
    },
    {
     "name": "stdout",
     "output_type": "stream",
     "text": [
      "\n",
      "--- Phase 2: Preparing Master DataFrame ---\n",
      "✅ Successfully created master DataFrame with 216 total columns.\n",
      "\n",
      "--- Processing Day: 2024-03-04 ---\n",
      "Fetching options across 512.16\n",
      "Both expiries are 2024-03-04 and 2024-03-05\n"
     ]
    },
    {
     "data": {
      "application/vnd.jupyter.widget-view+json": {
       "model_id": "54ac8a5b30a54b1d8d4840320182ecf5",
       "version_major": 2,
       "version_minor": 0
      },
      "text/plain": [
       "FloatProgress(value=0.0, layout=Layout(width='auto'), style=ProgressStyle(bar_color='black'))"
      ]
     },
     "metadata": {},
     "output_type": "display_data"
    },
    {
     "name": "stdout",
     "output_type": "stream",
     "text": [
      "\n",
      "--- Phase 2: Preparing Master DataFrame ---\n",
      "✅ Successfully created master DataFrame with 216 total columns.\n",
      "\n",
      "--- Processing Day: 2024-03-05 ---\n",
      "Fetching options across 510.15\n",
      "Both expiries are 2024-03-05 and 2024-03-06\n"
     ]
    },
    {
     "data": {
      "application/vnd.jupyter.widget-view+json": {
       "model_id": "e48ee1e8c708431ba54cce92df968f83",
       "version_major": 2,
       "version_minor": 0
      },
      "text/plain": [
       "FloatProgress(value=0.0, layout=Layout(width='auto'), style=ProgressStyle(bar_color='black'))"
      ]
     },
     "metadata": {},
     "output_type": "display_data"
    },
    {
     "name": "stdout",
     "output_type": "stream",
     "text": [
      "\n",
      "--- Phase 2: Preparing Master DataFrame ---\n",
      "✅ Successfully created master DataFrame with 216 total columns.\n",
      "\n",
      "--- Processing Day: 2024-03-06 ---\n",
      "Fetching options across 510.43\n",
      "Both expiries are 2024-03-06 and 2024-03-07\n"
     ]
    },
    {
     "data": {
      "application/vnd.jupyter.widget-view+json": {
       "model_id": "c025cf8e81b1437fa116f39e06ccdbe9",
       "version_major": 2,
       "version_minor": 0
      },
      "text/plain": [
       "FloatProgress(value=0.0, layout=Layout(width='auto'), style=ProgressStyle(bar_color='black'))"
      ]
     },
     "metadata": {},
     "output_type": "display_data"
    },
    {
     "name": "stdout",
     "output_type": "stream",
     "text": [
      "\n",
      "--- Phase 2: Preparing Master DataFrame ---\n",
      "✅ Successfully created master DataFrame with 216 total columns.\n",
      "  -> SHORT ENTRY for C_511.0_20240306 at 10:04:00 at 0.61\n",
      "  -> HEDGE ENTRY of qty 63 for C_513.0_20240307 against C_511.0_20240306 and primary qty of 100 at price 0.48\n",
      "  -> COMBINED: Net credit = $29.76\n",
      "  🚨 STOP-LOSS TRIGGERED for C_511.0_20240306+C_513.0_20240307\n",
      "     Entry short was : $0.60, Current short leg price: $0.86\n",
      "     Entry long was : $0.48, Current short leg price: $0.86\n",
      "   Total  Loss: $-2.06\n",
      "  -> SPREAD_STOP_LOSS EXIT for C_511.0_20240306. Profit: $-26.00 and exit price is 0.86\n",
      "  -> SPREAD_STOP_LOSS EXIT for C_513.0_20240307. Profit: $23.94 and exit price is 0.86\n",
      "\n",
      "--- Processing Day: 2024-03-07 ---\n",
      "Fetching options across 513.39\n",
      "Both expiries are 2024-03-07 and 2024-03-08\n"
     ]
    },
    {
     "data": {
      "application/vnd.jupyter.widget-view+json": {
       "model_id": "0b620d798f604154bdc7807434defc08",
       "version_major": 2,
       "version_minor": 0
      },
      "text/plain": [
       "FloatProgress(value=0.0, layout=Layout(width='auto'), style=ProgressStyle(bar_color='black'))"
      ]
     },
     "metadata": {},
     "output_type": "display_data"
    },
    {
     "name": "stdout",
     "output_type": "stream",
     "text": [
      "\n",
      "--- Phase 2: Preparing Master DataFrame ---\n",
      "✅ Successfully created master DataFrame with 216 total columns.\n",
      "\n",
      "--- Processing Day: 2024-03-08 ---\n",
      "Fetching options across 515.42\n",
      "Both expiries are 2024-03-08 and 2024-03-11\n"
     ]
    },
    {
     "data": {
      "application/vnd.jupyter.widget-view+json": {
       "model_id": "ed220dadcad34952a7d96a3d6642768c",
       "version_major": 2,
       "version_minor": 0
      },
      "text/plain": [
       "FloatProgress(value=0.0, layout=Layout(width='auto'), style=ProgressStyle(bar_color='black'))"
      ]
     },
     "metadata": {},
     "output_type": "display_data"
    },
    {
     "name": "stdout",
     "output_type": "stream",
     "text": [
      "\n",
      "--- Phase 2: Preparing Master DataFrame ---\n",
      "✅ Successfully created master DataFrame with 216 total columns.\n",
      "\n",
      "--- Processing Day: 2024-03-11 ---\n",
      "Fetching options across 510.3\n",
      "Both expiries are 2024-03-11 and 2024-03-12\n"
     ]
    },
    {
     "data": {
      "application/vnd.jupyter.widget-view+json": {
       "model_id": "59541a335ba64cf9a6869686d7c7de55",
       "version_major": 2,
       "version_minor": 0
      },
      "text/plain": [
       "FloatProgress(value=0.0, layout=Layout(width='auto'), style=ProgressStyle(bar_color='black'))"
      ]
     },
     "metadata": {},
     "output_type": "display_data"
    },
    {
     "name": "stdout",
     "output_type": "stream",
     "text": [
      "\n",
      "--- Phase 2: Preparing Master DataFrame ---\n",
      "✅ Successfully created master DataFrame with 216 total columns.\n",
      "  -> SHORT ENTRY for C_511.0_20240311 at 10:02:00 at 0.54\n",
      "  -> HEDGE ENTRY of qty 30 for C_513.0_20240312 against C_511.0_20240311 and primary qty of 100 at price 0.99\n",
      "  -> COMBINED: Net credit = $23.30\n",
      "  🚨 STOP-LOSS TRIGGERED for C_511.0_20240311+C_513.0_20240312\n",
      "     Entry short was : $0.53, Current short leg price: $0.82\n",
      "     Entry long was : $0.99, Current short leg price: $1.46\n",
      "   Total  Loss: $-14.90\n",
      "  -> SPREAD_STOP_LOSS EXIT for C_511.0_20240311. Profit: $-29.00 and exit price is 0.82\n",
      "  -> SPREAD_STOP_LOSS EXIT for C_513.0_20240312. Profit: $14.10 and exit price is 1.46\n",
      "\n",
      "--- Processing Day: 2024-03-12 ---\n",
      "Fetching options across 513.57\n",
      "Both expiries are 2024-03-12 and 2024-03-13\n"
     ]
    },
    {
     "data": {
      "application/vnd.jupyter.widget-view+json": {
       "model_id": "a93f0f30f99c4d59ac9aed6ecfac2f4a",
       "version_major": 2,
       "version_minor": 0
      },
      "text/plain": [
       "FloatProgress(value=0.0, layout=Layout(width='auto'), style=ProgressStyle(bar_color='black'))"
      ]
     },
     "metadata": {},
     "output_type": "display_data"
    },
    {
     "name": "stdout",
     "output_type": "stream",
     "text": [
      "\n",
      "--- Phase 2: Preparing Master DataFrame ---\n",
      "✅ Successfully created master DataFrame with 216 total columns.\n",
      "\n",
      "--- Processing Day: 2024-03-13 ---\n",
      "Fetching options across 517.03\n",
      "Both expiries are 2024-03-13 and 2024-03-14\n"
     ]
    },
    {
     "data": {
      "application/vnd.jupyter.widget-view+json": {
       "model_id": "663415ecf9ba45fbad86aa4da4d34278",
       "version_major": 2,
       "version_minor": 0
      },
      "text/plain": [
       "FloatProgress(value=0.0, layout=Layout(width='auto'), style=ProgressStyle(bar_color='black'))"
      ]
     },
     "metadata": {},
     "output_type": "display_data"
    },
    {
     "name": "stdout",
     "output_type": "stream",
     "text": [
      "\n",
      "--- Phase 2: Preparing Master DataFrame ---\n",
      "✅ Successfully created master DataFrame with 216 total columns.\n",
      "\n",
      "--- Processing Day: 2024-03-14 ---\n",
      "Fetching options across 516.71\n",
      "Both expiries are 2024-03-14 and 2024-03-15\n"
     ]
    },
    {
     "data": {
      "application/vnd.jupyter.widget-view+json": {
       "model_id": "6a5e9dfc85be47478f4d9cffed2df8c0",
       "version_major": 2,
       "version_minor": 0
      },
      "text/plain": [
       "FloatProgress(value=0.0, layout=Layout(width='auto'), style=ProgressStyle(bar_color='black'))"
      ]
     },
     "metadata": {},
     "output_type": "display_data"
    },
    {
     "name": "stdout",
     "output_type": "stream",
     "text": [
      "\n",
      "--- Phase 2: Preparing Master DataFrame ---\n",
      "✅ Successfully created master DataFrame with 216 total columns.\n",
      "  -> SHORT ENTRY for C_517.0_20240314 at 09:49:00 at 0.55\n",
      "  -> HEDGE ENTRY of qty 115 for C_519.0_20240315 against C_517.0_20240314 and primary qty of 100 at price 0.3\n",
      "  -> COMBINED: Net credit = $19.50\n",
      "  [EOD] Checking positions to close at 15:45:00\n",
      "  [EOD] Current positions: ['C_517.0_20240314', 'C_519.0_20240315']\n",
      "  [EOD] Processing C_517.0_20240314: side=-1, price=0.01\n",
      "  -> EOD EXIT for C_517.0_20240314. Profit: $53.00 and exit price is 0.01\n",
      "  [EOD] Processing C_519.0_20240315: side=1, price=0.06\n",
      "  -> EOD EXIT for C_519.0_20240315. Profit: $-27.60 and exit price is 0.06\n",
      "\n",
      "--- Processing Day: 2024-03-15 ---\n",
      "Fetching options across 510.77\n",
      "Both expiries are 2024-03-15 and 2024-03-18\n"
     ]
    },
    {
     "data": {
      "application/vnd.jupyter.widget-view+json": {
       "model_id": "95cf54eb23694f718f21fde9f66cefa8",
       "version_major": 2,
       "version_minor": 0
      },
      "text/plain": [
       "FloatProgress(value=0.0, layout=Layout(width='auto'), style=ProgressStyle(bar_color='black'))"
      ]
     },
     "metadata": {},
     "output_type": "display_data"
    },
    {
     "name": "stdout",
     "output_type": "stream",
     "text": [
      "\n",
      "--- Phase 2: Preparing Master DataFrame ---\n",
      "✅ Successfully created master DataFrame with 216 total columns.\n",
      "  -> SHORT ENTRY for C_512.0_20240315 at 09:45:00 at 0.64\n",
      "  -> HEDGE ENTRY of qty 55 for C_514.0_20240318 against C_512.0_20240315 and primary qty of 100 at price 0.69\n",
      "  -> COMBINED: Net credit = $24.05\n",
      "  🚨 STOP-LOSS TRIGGERED for C_512.0_20240315+C_514.0_20240318\n",
      "     Entry short was : $0.62, Current short leg price: $0.89\n",
      "     Entry long was : $0.69, Current short leg price: $0.95\n",
      "   Total  Loss: $-12.70\n",
      "  -> SPREAD_STOP_LOSS EXIT for C_512.0_20240315. Profit: $-27.00 and exit price is 0.89\n",
      "  -> SPREAD_STOP_LOSS EXIT for C_514.0_20240318. Profit: $14.30 and exit price is 0.95\n",
      "\n",
      "--- Processing Day: 2024-03-18 ---\n",
      "Fetching options across 514.14\n",
      "Both expiries are 2024-03-18 and 2024-03-19\n"
     ]
    },
    {
     "data": {
      "application/vnd.jupyter.widget-view+json": {
       "model_id": "3b20350963304e6aad7c4709a9062059",
       "version_major": 2,
       "version_minor": 0
      },
      "text/plain": [
       "FloatProgress(value=0.0, layout=Layout(width='auto'), style=ProgressStyle(bar_color='black'))"
      ]
     },
     "metadata": {},
     "output_type": "display_data"
    },
    {
     "name": "stdout",
     "output_type": "stream",
     "text": [
      "\n",
      "--- Phase 2: Preparing Master DataFrame ---\n",
      "✅ Successfully created master DataFrame with 216 total columns.\n",
      "\n",
      "--- Processing Day: 2024-03-19 ---\n",
      "Fetching options across 511.8\n",
      "Both expiries are 2024-03-19 and 2024-03-20\n"
     ]
    },
    {
     "data": {
      "application/vnd.jupyter.widget-view+json": {
       "model_id": "6f008248a640440ea4eeb37aa081f23e",
       "version_major": 2,
       "version_minor": 0
      },
      "text/plain": [
       "FloatProgress(value=0.0, layout=Layout(width='auto'), style=ProgressStyle(bar_color='black'))"
      ]
     },
     "metadata": {},
     "output_type": "display_data"
    },
    {
     "name": "stdout",
     "output_type": "stream",
     "text": [
      "\n",
      "--- Phase 2: Preparing Master DataFrame ---\n",
      "✅ Successfully created master DataFrame with 216 total columns.\n",
      "\n",
      "--- Processing Day: 2024-03-20 ---\n",
      "Fetching options across 515.47\n",
      "Both expiries are 2024-03-20 and 2024-03-21\n"
     ]
    },
    {
     "data": {
      "application/vnd.jupyter.widget-view+json": {
       "model_id": "5dffd62a44a340e483261b4b9e57de0f",
       "version_major": 2,
       "version_minor": 0
      },
      "text/plain": [
       "FloatProgress(value=0.0, layout=Layout(width='auto'), style=ProgressStyle(bar_color='black'))"
      ]
     },
     "metadata": {},
     "output_type": "display_data"
    },
    {
     "name": "stdout",
     "output_type": "stream",
     "text": [
      "\n",
      "--- Phase 2: Preparing Master DataFrame ---\n",
      "✅ Successfully created master DataFrame with 216 total columns.\n",
      "\n",
      "--- Processing Day: 2024-03-21 ---\n",
      "Fetching options across 523.12\n",
      "Both expiries are 2024-03-21 and 2024-03-22\n"
     ]
    },
    {
     "data": {
      "application/vnd.jupyter.widget-view+json": {
       "model_id": "1fdd5740749e41d9b03d4efc004f68b1",
       "version_major": 2,
       "version_minor": 0
      },
      "text/plain": [
       "FloatProgress(value=0.0, layout=Layout(width='auto'), style=ProgressStyle(bar_color='black'))"
      ]
     },
     "metadata": {},
     "output_type": "display_data"
    },
    {
     "name": "stdout",
     "output_type": "stream",
     "text": [
      "\n",
      "--- Phase 2: Preparing Master DataFrame ---\n",
      "✅ Successfully created master DataFrame with 216 total columns.\n",
      "\n",
      "--- Processing Day: 2024-03-22 ---\n",
      "Fetching options across 522.11\n",
      "Both expiries are 2024-03-22 and 2024-03-25\n"
     ]
    },
    {
     "data": {
      "application/vnd.jupyter.widget-view+json": {
       "model_id": "a58c38c20f294f9b98b3a79719678c33",
       "version_major": 2,
       "version_minor": 0
      },
      "text/plain": [
       "FloatProgress(value=0.0, layout=Layout(width='auto'), style=ProgressStyle(bar_color='black'))"
      ]
     },
     "metadata": {},
     "output_type": "display_data"
    },
    {
     "name": "stdout",
     "output_type": "stream",
     "text": [
      "\n",
      "--- Phase 2: Preparing Master DataFrame ---\n",
      "✅ Successfully created master DataFrame with 216 total columns.\n",
      "\n",
      "--- Processing Day: 2024-03-25 ---\n",
      "Fetching options across 519.95\n",
      "Both expiries are 2024-03-25 and 2024-03-26\n"
     ]
    },
    {
     "data": {
      "application/vnd.jupyter.widget-view+json": {
       "model_id": "01fe7c9eb02f46b994470c9d4205dc22",
       "version_major": 2,
       "version_minor": 0
      },
      "text/plain": [
       "FloatProgress(value=0.0, layout=Layout(width='auto'), style=ProgressStyle(bar_color='black'))"
      ]
     },
     "metadata": {},
     "output_type": "display_data"
    },
    {
     "name": "stdout",
     "output_type": "stream",
     "text": [
      "\n",
      "--- Phase 2: Preparing Master DataFrame ---\n",
      "✅ Successfully created master DataFrame with 216 total columns.\n",
      "\n",
      "--- Processing Day: 2024-03-26 ---\n",
      "Fetching options across 520.99\n",
      "Both expiries are 2024-03-26 and 2024-03-27\n"
     ]
    },
    {
     "data": {
      "application/vnd.jupyter.widget-view+json": {
       "model_id": "f6e12c6aaa364b4287402e0fd2338f7b",
       "version_major": 2,
       "version_minor": 0
      },
      "text/plain": [
       "FloatProgress(value=0.0, layout=Layout(width='auto'), style=ProgressStyle(bar_color='black'))"
      ]
     },
     "metadata": {},
     "output_type": "display_data"
    },
    {
     "name": "stdout",
     "output_type": "stream",
     "text": [
      "\n",
      "--- Phase 2: Preparing Master DataFrame ---\n",
      "✅ Successfully created master DataFrame with 216 total columns.\n",
      "\n",
      "--- Processing Day: 2024-03-27 ---\n",
      "Fetching options across 521.52\n",
      "Both expiries are 2024-03-27 and 2024-03-28\n"
     ]
    },
    {
     "data": {
      "application/vnd.jupyter.widget-view+json": {
       "model_id": "0f9b99cfa4ad49139f25365eecf7e11d",
       "version_major": 2,
       "version_minor": 0
      },
      "text/plain": [
       "FloatProgress(value=0.0, layout=Layout(width='auto'), style=ProgressStyle(bar_color='black'))"
      ]
     },
     "metadata": {},
     "output_type": "display_data"
    },
    {
     "name": "stdout",
     "output_type": "stream",
     "text": [
      "\n",
      "--- Phase 2: Preparing Master DataFrame ---\n",
      "✅ Successfully created master DataFrame with 216 total columns.\n",
      "\n",
      "--- Processing Day: 2024-03-28 ---\n",
      "Fetching options across 523.04\n",
      "Both expiries are 2024-03-28 and 2024-04-01\n"
     ]
    },
    {
     "data": {
      "application/vnd.jupyter.widget-view+json": {
       "model_id": "2a854a89e8e94467815a31f6e1c963fa",
       "version_major": 2,
       "version_minor": 0
      },
      "text/plain": [
       "FloatProgress(value=0.0, layout=Layout(width='auto'), style=ProgressStyle(bar_color='black'))"
      ]
     },
     "metadata": {},
     "output_type": "display_data"
    },
    {
     "name": "stdout",
     "output_type": "stream",
     "text": [
      "\n",
      "--- Phase 2: Preparing Master DataFrame ---\n",
      "✅ Successfully created master DataFrame with 207 total columns.\n",
      "\n",
      "--- Processing Day: 2024-04-01 ---\n",
      "Fetching options across 523.63\n",
      "Both expiries are 2024-04-01 and 2024-04-02\n"
     ]
    },
    {
     "data": {
      "application/vnd.jupyter.widget-view+json": {
       "model_id": "7a8286255d45410c9f890bc9f136e2c3",
       "version_major": 2,
       "version_minor": 0
      },
      "text/plain": [
       "FloatProgress(value=0.0, layout=Layout(width='auto'), style=ProgressStyle(bar_color='black'))"
      ]
     },
     "metadata": {},
     "output_type": "display_data"
    },
    {
     "name": "stdout",
     "output_type": "stream",
     "text": [
      "\n",
      "--- Phase 2: Preparing Master DataFrame ---\n",
      "✅ Successfully created master DataFrame with 180 total columns.\n",
      "\n",
      "--- Processing Day: 2024-04-02 ---\n",
      "Fetching options across 518.42\n",
      "Both expiries are 2024-04-02 and 2024-04-03\n"
     ]
    },
    {
     "data": {
      "application/vnd.jupyter.widget-view+json": {
       "model_id": "3e9ab118433e4f85b0ad3de8c7ffa6b0",
       "version_major": 2,
       "version_minor": 0
      },
      "text/plain": [
       "FloatProgress(value=0.0, layout=Layout(width='auto'), style=ProgressStyle(bar_color='black'))"
      ]
     },
     "metadata": {},
     "output_type": "display_data"
    },
    {
     "name": "stdout",
     "output_type": "stream",
     "text": [
      "\n",
      "--- Phase 2: Preparing Master DataFrame ---\n",
      "✅ Successfully created master DataFrame with 216 total columns.\n",
      "\n",
      "--- Processing Day: 2024-04-03 ---\n",
      "Fetching options across 518.4\n",
      "Both expiries are 2024-04-03 and 2024-04-04\n"
     ]
    },
    {
     "data": {
      "application/vnd.jupyter.widget-view+json": {
       "model_id": "b26da2b6e4bb419f8d3786ee8a5bd9b2",
       "version_major": 2,
       "version_minor": 0
      },
      "text/plain": [
       "FloatProgress(value=0.0, layout=Layout(width='auto'), style=ProgressStyle(bar_color='black'))"
      ]
     },
     "metadata": {},
     "output_type": "display_data"
    },
    {
     "name": "stdout",
     "output_type": "stream",
     "text": [
      "\n",
      "--- Phase 2: Preparing Master DataFrame ---\n",
      "✅ Successfully created master DataFrame with 216 total columns.\n",
      "\n",
      "--- Processing Day: 2024-04-04 ---\n",
      "Fetching options across 523.39\n",
      "Both expiries are 2024-04-04 and 2024-04-05\n"
     ]
    },
    {
     "data": {
      "application/vnd.jupyter.widget-view+json": {
       "model_id": "8d55e60cf6254a1f871d708b7fbe0d3e",
       "version_major": 2,
       "version_minor": 0
      },
      "text/plain": [
       "FloatProgress(value=0.0, layout=Layout(width='auto'), style=ProgressStyle(bar_color='black'))"
      ]
     },
     "metadata": {},
     "output_type": "display_data"
    },
    {
     "name": "stdout",
     "output_type": "stream",
     "text": [
      "\n",
      "--- Phase 2: Preparing Master DataFrame ---\n",
      "✅ Successfully created master DataFrame with 216 total columns.\n",
      "\n",
      "--- Processing Day: 2024-04-05 ---\n",
      "Fetching options across 514.25\n",
      "Both expiries are 2024-04-05 and 2024-04-08\n"
     ]
    },
    {
     "data": {
      "application/vnd.jupyter.widget-view+json": {
       "model_id": "76f0fa11083e429e90e1d10b79d58b52",
       "version_major": 2,
       "version_minor": 0
      },
      "text/plain": [
       "FloatProgress(value=0.0, layout=Layout(width='auto'), style=ProgressStyle(bar_color='black'))"
      ]
     },
     "metadata": {},
     "output_type": "display_data"
    },
    {
     "name": "stdout",
     "output_type": "stream",
     "text": [
      "\n",
      "--- Phase 2: Preparing Master DataFrame ---\n",
      "✅ Successfully created master DataFrame with 216 total columns.\n",
      "  -> SHORT ENTRY for C_517.0_20240405 at 10:27:00 at 0.68\n",
      "  -> HEDGE ENTRY of qty 74 for C_519.0_20240408 against C_517.0_20240405 and primary qty of 100 at price 1.12\n",
      "  -> COMBINED: Net credit = $-15.88\n",
      "  🚨 STOP-LOSS TRIGGERED for C_517.0_20240405+C_519.0_20240408\n",
      "     Entry short was : $0.67, Current short leg price: $0.92\n",
      "     Entry long was : $1.12, Current short leg price: $1.14\n",
      "   Total  Loss: $-23.52\n",
      "  -> SPREAD_STOP_LOSS EXIT for C_517.0_20240405. Profit: $-25.00 and exit price is 0.92\n",
      "  -> SPREAD_STOP_LOSS EXIT for C_519.0_20240408. Profit: $1.48 and exit price is 1.14\n",
      "\n",
      "--- Processing Day: 2024-04-08 ---\n",
      "Fetching options across 519.08\n",
      "Both expiries are 2024-04-08 and 2024-04-09\n"
     ]
    },
    {
     "data": {
      "application/vnd.jupyter.widget-view+json": {
       "model_id": "e7d786bb2ff6444fb62f66c7f1d36615",
       "version_major": 2,
       "version_minor": 0
      },
      "text/plain": [
       "FloatProgress(value=0.0, layout=Layout(width='auto'), style=ProgressStyle(bar_color='black'))"
      ]
     },
     "metadata": {},
     "output_type": "display_data"
    },
    {
     "name": "stdout",
     "output_type": "stream",
     "text": [
      "\n",
      "--- Phase 2: Preparing Master DataFrame ---\n",
      "✅ Successfully created master DataFrame with 216 total columns.\n",
      "\n",
      "--- Processing Day: 2024-04-09 ---\n",
      "Fetching options across 520.49\n",
      "Both expiries are 2024-04-09 and 2024-04-10\n"
     ]
    },
    {
     "data": {
      "application/vnd.jupyter.widget-view+json": {
       "model_id": "e4d0bdc669a448d7887f8a225766b8eb",
       "version_major": 2,
       "version_minor": 0
      },
      "text/plain": [
       "FloatProgress(value=0.0, layout=Layout(width='auto'), style=ProgressStyle(bar_color='black'))"
      ]
     },
     "metadata": {},
     "output_type": "display_data"
    },
    {
     "name": "stdout",
     "output_type": "stream",
     "text": [
      "\n",
      "--- Phase 2: Preparing Master DataFrame ---\n",
      "✅ Successfully created master DataFrame with 216 total columns.\n",
      "  -> SHORT ENTRY for C_518.0_20240409 at 10:37:00 at 0.54\n",
      "  -> HEDGE ENTRY of qty 31 for C_520.0_20240410 against C_518.0_20240409 and primary qty of 100 at price 0.97\n",
      "  -> COMBINED: Net credit = $22.93\n",
      "  🚨 STOP-LOSS TRIGGERED for C_518.0_20240409+C_520.0_20240410\n",
      "     Entry short was : $0.53, Current short leg price: $0.78\n",
      "     Entry long was : $0.97, Current short leg price: $1.76\n",
      "   Total  Loss: $-0.51\n",
      "  -> SPREAD_STOP_LOSS EXIT for C_518.0_20240409. Profit: $-25.00 and exit price is 0.78\n",
      "  -> SPREAD_STOP_LOSS EXIT for C_520.0_20240410. Profit: $24.49 and exit price is 1.76\n",
      "\n",
      "--- Processing Day: 2024-04-10 ---\n",
      "Fetching options across 513.27\n",
      "Both expiries are 2024-04-10 and 2024-04-11\n"
     ]
    },
    {
     "data": {
      "application/vnd.jupyter.widget-view+json": {
       "model_id": "ac50f8275dfd4979a2ab42910e6533e3",
       "version_major": 2,
       "version_minor": 0
      },
      "text/plain": [
       "FloatProgress(value=0.0, layout=Layout(width='auto'), style=ProgressStyle(bar_color='black'))"
      ]
     },
     "metadata": {},
     "output_type": "display_data"
    },
    {
     "name": "stdout",
     "output_type": "stream",
     "text": [
      "\n",
      "--- Phase 2: Preparing Master DataFrame ---\n",
      "✅ Successfully created master DataFrame with 216 total columns.\n",
      "  -> SHORT ENTRY for C_515.0_20240410 at 09:48:00 at 0.94\n",
      "  -> HEDGE ENTRY of qty 86 for C_517.0_20240411 against C_515.0_20240410 and primary qty of 100 at price 1.16\n",
      "  -> COMBINED: Net credit = $-6.76\n",
      "  🚨 STOP-LOSS TRIGGERED for C_515.0_20240410+C_517.0_20240411\n",
      "     Entry short was : $0.93, Current short leg price: $1.22\n",
      "     Entry long was : $1.16, Current short leg price: $1.28\n",
      "   Total  Loss: $-18.68\n",
      "  -> SPREAD_STOP_LOSS EXIT for C_515.0_20240410. Profit: $-29.00 and exit price is 1.22\n",
      "  -> SPREAD_STOP_LOSS EXIT for C_517.0_20240411. Profit: $10.32 and exit price is 1.28\n",
      "  -> SHORT ENTRY for C_517.0_20240410 at 10:50:00 at 0.58\n",
      "  -> HEDGE ENTRY of qty 50 for C_519.0_20240411 against C_517.0_20240410 and primary qty of 100 at price 0.62\n",
      "  -> COMBINED: Net credit = $26.00\n",
      "  [EOD] Checking positions to close at 15:45:00\n",
      "  [EOD] Current positions: ['C_517.0_20240410', 'C_519.0_20240411']\n",
      "  [EOD] Processing C_517.0_20240410: side=-1, price=0.06\n",
      "  -> EOD EXIT for C_517.0_20240410. Profit: $51.00 and exit price is 0.06\n",
      "  [EOD] Processing C_519.0_20240411: side=1, price=0.55\n",
      "  -> EOD EXIT for C_519.0_20240411. Profit: $-3.50 and exit price is 0.55\n",
      "\n",
      "--- Processing Day: 2024-04-11 ---\n",
      "Fetching options across 515.55\n",
      "Both expiries are 2024-04-11 and 2024-04-12\n"
     ]
    },
    {
     "data": {
      "application/vnd.jupyter.widget-view+json": {
       "model_id": "9ce2898682f14de997bc5127e1466928",
       "version_major": 2,
       "version_minor": 0
      },
      "text/plain": [
       "FloatProgress(value=0.0, layout=Layout(width='auto'), style=ProgressStyle(bar_color='black'))"
      ]
     },
     "metadata": {},
     "output_type": "display_data"
    },
    {
     "name": "stdout",
     "output_type": "stream",
     "text": [
      "\n",
      "--- Phase 2: Preparing Master DataFrame ---\n",
      "✅ Successfully created master DataFrame with 216 total columns.\n",
      "  -> SHORT ENTRY for C_516.0_20240411 at 09:44:00 at 0.88\n",
      "  -> HEDGE ENTRY of qty 56 for C_518.0_20240412 against C_516.0_20240411 and primary qty of 100 at price 0.8\n",
      "  -> COMBINED: Net credit = $41.20\n",
      "  🚨 STOP-LOSS TRIGGERED for C_516.0_20240411+C_518.0_20240412\n",
      "     Entry short was : $0.86, Current short leg price: $1.12\n",
      "     Entry long was : $0.80, Current short leg price: $1.17\n",
      "   Total  Loss: $-5.28\n",
      "  -> SPREAD_STOP_LOSS EXIT for C_516.0_20240411. Profit: $-26.00 and exit price is 1.12\n",
      "  -> SPREAD_STOP_LOSS EXIT for C_518.0_20240412. Profit: $20.72 and exit price is 1.17\n",
      "\n",
      "--- Processing Day: 2024-04-12 ---\n",
      "Fetching options across 514.55\n",
      "Both expiries are 2024-04-12 and 2024-04-15\n"
     ]
    },
    {
     "data": {
      "application/vnd.jupyter.widget-view+json": {
       "model_id": "0e5c481739164069afd4461f87140c04",
       "version_major": 2,
       "version_minor": 0
      },
      "text/plain": [
       "FloatProgress(value=0.0, layout=Layout(width='auto'), style=ProgressStyle(bar_color='black'))"
      ]
     },
     "metadata": {},
     "output_type": "display_data"
    },
    {
     "name": "stdout",
     "output_type": "stream",
     "text": [
      "\n",
      "--- Phase 2: Preparing Master DataFrame ---\n",
      "✅ Successfully created master DataFrame with 216 total columns.\n",
      "  -> SHORT ENTRY for C_517.0_20240412 at 10:03:00 at 0.59\n",
      "  -> HEDGE ENTRY of qty 42 for C_519.0_20240415 against C_517.0_20240412 and primary qty of 100 at price 0.78\n",
      "  -> COMBINED: Net credit = $25.24\n",
      "  [EOD] Checking positions to close at 15:45:00\n",
      "  [EOD] Current positions: ['C_517.0_20240412', 'C_519.0_20240415']\n",
      "  [EOD] Processing C_517.0_20240412: side=-1, price=0.02\n",
      "  -> EOD EXIT for C_517.0_20240412. Profit: $56.00 and exit price is 0.02\n",
      "  [EOD] Processing C_519.0_20240415: side=1, price=0.19\n",
      "  -> EOD EXIT for C_519.0_20240415. Profit: $-24.78 and exit price is 0.19\n",
      "\n",
      "--- Processing Day: 2024-04-15 ---\n",
      "Fetching options across 514.7\n",
      "Both expiries are 2024-04-15 and 2024-04-16\n"
     ]
    },
    {
     "data": {
      "application/vnd.jupyter.widget-view+json": {
       "model_id": "e92967e4b01c4326ac94cb2383ab3865",
       "version_major": 2,
       "version_minor": 0
      },
      "text/plain": [
       "FloatProgress(value=0.0, layout=Layout(width='auto'), style=ProgressStyle(bar_color='black'))"
      ]
     },
     "metadata": {},
     "output_type": "display_data"
    },
    {
     "name": "stdout",
     "output_type": "stream",
     "text": [
      "\n",
      "--- Phase 2: Preparing Master DataFrame ---\n",
      "✅ Successfully created master DataFrame with 216 total columns.\n",
      "  -> SHORT ENTRY for C_516.0_20240415 at 10:08:00 at 0.51\n",
      "  -> HEDGE ENTRY of qty 45 for C_518.0_20240416 against C_516.0_20240415 and primary qty of 100 at price 0.52\n",
      "  -> COMBINED: Net credit = $26.60\n",
      "  [EOD] Checking positions to close at 15:45:00\n",
      "  [EOD] Current positions: ['C_516.0_20240415', 'C_518.0_20240416']\n",
      "  [EOD] Processing C_516.0_20240415: side=-1, price=0.01\n",
      "  -> EOD EXIT for C_516.0_20240415. Profit: $49.00 and exit price is 0.01\n",
      "  [EOD] Processing C_518.0_20240416: side=1, price=0.04\n",
      "  -> EOD EXIT for C_518.0_20240416. Profit: $-21.60 and exit price is 0.04\n",
      "\n",
      "--- Processing Day: 2024-04-16 ---\n",
      "Fetching options across 504.69\n",
      "Both expiries are 2024-04-16 and 2024-04-17\n"
     ]
    },
    {
     "data": {
      "application/vnd.jupyter.widget-view+json": {
       "model_id": "e3270e63450b45f5bb8d0539619cee0e",
       "version_major": 2,
       "version_minor": 0
      },
      "text/plain": [
       "FloatProgress(value=0.0, layout=Layout(width='auto'), style=ProgressStyle(bar_color='black'))"
      ]
     },
     "metadata": {},
     "output_type": "display_data"
    },
    {
     "name": "stdout",
     "output_type": "stream",
     "text": [
      "\n",
      "--- Phase 2: Preparing Master DataFrame ---\n",
      "✅ Successfully created master DataFrame with 216 total columns.\n",
      "  -> SHORT ENTRY for C_506.0_20240416 at 09:44:00 at 1.0\n",
      "  -> HEDGE ENTRY of qty 85 for C_508.0_20240417 against C_506.0_20240416 and primary qty of 100 at price 1.43\n",
      "  -> COMBINED: Net credit = $-22.55\n",
      "  🚨 STOP-LOSS TRIGGERED for C_506.0_20240416+C_508.0_20240417\n",
      "     Entry short was : $0.99, Current short leg price: $1.28\n",
      "     Entry long was : $1.43, Current short leg price: $1.41\n",
      "   Total  Loss: $-30.70\n",
      "  -> SPREAD_STOP_LOSS EXIT for C_506.0_20240416. Profit: $-29.00 and exit price is 1.28\n",
      "  -> SPREAD_STOP_LOSS EXIT for C_508.0_20240417. Profit: $-1.70 and exit price is 1.41\n",
      "  -> SHORT ENTRY for C_506.0_20240416 at 10:23:00 at 1.05\n",
      "  -> HEDGE ENTRY of qty 57 for C_508.0_20240417 against C_506.0_20240416 and primary qty of 100 at price 1.01\n",
      "  -> COMBINED: Net credit = $46.43\n",
      "  [EOD] Checking positions to close at 15:45:00\n",
      "  [EOD] Current positions: ['C_506.0_20240416', 'C_508.0_20240417']\n",
      "  [EOD] Processing C_506.0_20240416: side=-1, price=0.07\n",
      "  -> EOD EXIT for C_506.0_20240416. Profit: $97.00 and exit price is 0.07\n",
      "  [EOD] Processing C_508.0_20240417: side=1, price=0.84\n",
      "  -> EOD EXIT for C_508.0_20240417. Profit: $-9.69 and exit price is 0.84\n",
      "\n",
      "--- Processing Day: 2024-04-17 ---\n",
      "Fetching options across 505.66\n",
      "Both expiries are 2024-04-17 and 2024-04-18\n"
     ]
    },
    {
     "data": {
      "application/vnd.jupyter.widget-view+json": {
       "model_id": "0056b10f45b8491f8ff3c492d8f0db19",
       "version_major": 2,
       "version_minor": 0
      },
      "text/plain": [
       "FloatProgress(value=0.0, layout=Layout(width='auto'), style=ProgressStyle(bar_color='black'))"
      ]
     },
     "metadata": {},
     "output_type": "display_data"
    },
    {
     "name": "stdout",
     "output_type": "stream",
     "text": [
      "\n",
      "--- Phase 2: Preparing Master DataFrame ---\n",
      "✅ Successfully created master DataFrame with 216 total columns.\n",
      "  -> SHORT ENTRY for C_507.0_20240417 at 10:01:00 at 0.72\n",
      "  -> HEDGE ENTRY of qty 53 for C_509.0_20240418 against C_507.0_20240417 and primary qty of 100 at price 0.64\n",
      "  -> COMBINED: Net credit = $37.08\n",
      "  [EOD] Checking positions to close at 15:45:00\n",
      "  [EOD] Current positions: ['C_507.0_20240417', 'C_509.0_20240418']\n",
      "  [EOD] Processing C_507.0_20240417: side=-1, price=0.01\n",
      "  -> EOD EXIT for C_507.0_20240417. Profit: $70.00 and exit price is 0.01\n",
      "  [EOD] Processing C_509.0_20240418: side=1, price=0.18\n",
      "  -> EOD EXIT for C_509.0_20240418. Profit: $-24.38 and exit price is 0.18\n",
      "\n",
      "--- Processing Day: 2024-04-18 ---\n",
      "Fetching options across 501.94\n",
      "Both expiries are 2024-04-18 and 2024-04-19\n"
     ]
    },
    {
     "data": {
      "application/vnd.jupyter.widget-view+json": {
       "model_id": "1229b96c63c042f196b3272abc17336e",
       "version_major": 2,
       "version_minor": 0
      },
      "text/plain": [
       "FloatProgress(value=0.0, layout=Layout(width='auto'), style=ProgressStyle(bar_color='black'))"
      ]
     },
     "metadata": {},
     "output_type": "display_data"
    },
    {
     "name": "stdout",
     "output_type": "stream",
     "text": [
      "\n",
      "--- Phase 2: Preparing Master DataFrame ---\n",
      "✅ Successfully created master DataFrame with 216 total columns.\n",
      "  -> SHORT ENTRY for C_502.0_20240418 at 09:42:00 at 0.94\n",
      "  -> HEDGE ENTRY of qty 84 for C_504.0_20240419 against C_502.0_20240418 and primary qty of 100 at price 1.24\n",
      "  -> COMBINED: Net credit = $-11.16\n",
      "  🚨 STOP-LOSS TRIGGERED for C_502.0_20240418+C_504.0_20240419\n",
      "     Entry short was : $0.93, Current short leg price: $1.25\n",
      "     Entry long was : $1.24, Current short leg price: $1.36\n",
      "   Total  Loss: $-21.92\n",
      "  -> SPREAD_STOP_LOSS EXIT for C_502.0_20240418. Profit: $-32.00 and exit price is 1.25\n",
      "  -> SPREAD_STOP_LOSS EXIT for C_504.0_20240419. Profit: $10.08 and exit price is 1.36\n",
      "  -> SHORT ENTRY for C_503.0_20240418 at 10:02:00 at 0.75\n",
      "  -> HEDGE ENTRY of qty 80 for C_505.0_20240419 against C_503.0_20240418 and primary qty of 100 at price 1.11\n",
      "  -> COMBINED: Net credit = $-14.80\n",
      "  🚨 STOP-LOSS TRIGGERED for C_503.0_20240418+C_505.0_20240419\n",
      "     Entry short was : $0.74, Current short leg price: $1.04\n",
      "     Entry long was : $1.11, Current short leg price: $1.22\n",
      "   Total  Loss: $-21.20\n",
      "  -> SPREAD_STOP_LOSS EXIT for C_503.0_20240418. Profit: $-30.00 and exit price is 1.04\n",
      "  -> SPREAD_STOP_LOSS EXIT for C_505.0_20240419. Profit: $8.80 and exit price is 1.22\n",
      "  -> SHORT ENTRY for C_504.0_20240418 at 12:08:00 at 0.53\n",
      "  -> HEDGE ENTRY of qty 35 for C_506.0_20240419 against C_504.0_20240418 and primary qty of 100 at price 0.62\n",
      "  -> COMBINED: Net credit = $30.30\n",
      "  [EOD] Checking positions to close at 15:45:00\n",
      "  [EOD] Current positions: ['C_504.0_20240418', 'C_506.0_20240419']\n",
      "  [EOD] Processing C_504.0_20240418: side=-1, price=0.02\n",
      "  -> EOD EXIT for C_504.0_20240418. Profit: $50.00 and exit price is 0.02\n",
      "  [EOD] Processing C_506.0_20240419: side=1, price=0.29\n",
      "  -> EOD EXIT for C_506.0_20240419. Profit: $-11.55 and exit price is 0.29\n",
      "\n",
      "--- Processing Day: 2024-04-19 ---\n",
      "Fetching options across 499.16\n",
      "Both expiries are 2024-04-19 and 2024-04-22\n"
     ]
    },
    {
     "data": {
      "application/vnd.jupyter.widget-view+json": {
       "model_id": "ab330b0be74349f7abc9d25c8410386b",
       "version_major": 2,
       "version_minor": 0
      },
      "text/plain": [
       "FloatProgress(value=0.0, layout=Layout(width='auto'), style=ProgressStyle(bar_color='black'))"
      ]
     },
     "metadata": {},
     "output_type": "display_data"
    },
    {
     "name": "stdout",
     "output_type": "stream",
     "text": [
      "\n",
      "--- Phase 2: Preparing Master DataFrame ---\n",
      "✅ Successfully created master DataFrame with 180 total columns.\n",
      "  -> SHORT ENTRY for C_501.0_20240419 at 09:51:00 at 0.99\n",
      "  -> HEDGE ENTRY of qty 76 for C_503.0_20240422 against C_501.0_20240419 and primary qty of 100 at price 1.53\n",
      "  -> COMBINED: Net credit = $-18.28\n",
      "  🚨 STOP-LOSS TRIGGERED for C_501.0_20240419+C_503.0_20240422\n",
      "     Entry short was : $0.98, Current short leg price: $1.23\n",
      "     Entry long was : $1.53, Current short leg price: $1.52\n",
      "   Total  Loss: $-25.76\n",
      "  -> SPREAD_STOP_LOSS EXIT for C_501.0_20240419. Profit: $-25.00 and exit price is 1.23\n",
      "  -> SPREAD_STOP_LOSS EXIT for C_503.0_20240422. Profit: $-0.76 and exit price is 1.52\n",
      "  -> SHORT ENTRY for C_501.0_20240419 at 10:11:00 at 0.89\n",
      "  -> HEDGE ENTRY of qty 49 for C_503.0_20240422 against C_501.0_20240419 and primary qty of 100 at price 1.0\n",
      "  -> COMBINED: Net credit = $39.00\n",
      "  [EOD] Checking positions to close at 15:45:00\n",
      "  [EOD] Current positions: ['C_501.0_20240419', 'C_503.0_20240422']\n",
      "  [EOD] Processing C_501.0_20240419: side=-1, price=0.01\n",
      "  -> EOD EXIT for C_501.0_20240419. Profit: $87.00 and exit price is 0.01\n",
      "  [EOD] Processing C_503.0_20240422: side=1, price=0.14\n",
      "  -> EOD EXIT for C_503.0_20240422. Profit: $-42.14 and exit price is 0.14\n",
      "\n",
      "--- Processing Day: 2024-04-22 ---\n",
      "Fetching options across 497.72\n",
      "Both expiries are 2024-04-22 and 2024-04-23\n",
      "\n",
      "--- Phase 2: Preparing Master DataFrame ---\n",
      "✅ Successfully created master DataFrame with 180 total columns.\n",
      "  -> SHORT ENTRY for C_499.0_20240422 at 10:22:00 at 0.57\n",
      "  -> HEDGE ENTRY of qty 48 for C_501.0_20240423 against C_499.0_20240422 and primary qty of 100 at price 0.53\n",
      "  -> COMBINED: Net credit = $30.56\n",
      "  🚨 STOP-LOSS TRIGGERED for C_499.0_20240422+C_501.0_20240423\n",
      "     Entry short was : $0.56, Current short leg price: $0.85\n",
      "     Entry long was : $0.53, Current short leg price: $0.92\n",
      "   Total  Loss: $-10.28\n",
      "  -> SPREAD_STOP_LOSS EXIT for C_499.0_20240422. Profit: $-29.00 and exit price is 0.85\n",
      "  -> SPREAD_STOP_LOSS EXIT for C_501.0_20240423. Profit: $18.72 and exit price is 0.92\n",
      "\n",
      "--- Processing Day: 2024-04-23 ---\n",
      "Fetching options across 501.83\n",
      "Both expiries are 2024-04-23 and 2024-04-24\n",
      "\n",
      "--- Phase 2: Preparing Master DataFrame ---\n",
      "✅ Successfully created master DataFrame with 216 total columns.\n",
      "\n",
      "--- Processing Day: 2024-04-24 ---\n",
      "Fetching options across 506.52\n",
      "Both expiries are 2024-04-24 and 2024-04-25\n",
      "\n",
      "--- Phase 2: Preparing Master DataFrame ---\n",
      "✅ Successfully created master DataFrame with 216 total columns.\n",
      "  -> SHORT ENTRY for C_508.0_20240424 at 10:15:00 at 0.6\n",
      "  -> HEDGE ENTRY of qty 50 for C_510.0_20240425 against C_508.0_20240424 and primary qty of 100 at price 0.56\n",
      "  -> COMBINED: Net credit = $31.00\n",
      "  [EOD] Checking positions to close at 15:45:00\n",
      "  [EOD] Current positions: ['C_508.0_20240424', 'C_510.0_20240425']\n",
      "  [EOD] Processing C_508.0_20240424: side=-1, price=0.07\n",
      "  -> EOD EXIT for C_508.0_20240424. Profit: $52.00 and exit price is 0.07\n",
      "  [EOD] Processing C_510.0_20240425: side=1, price=0.42\n",
      "  -> EOD EXIT for C_510.0_20240425. Profit: $-7.00 and exit price is 0.42\n",
      "\n",
      "--- Processing Day: 2024-04-25 ---\n",
      "Fetching options across 499.06\n",
      "Both expiries are 2024-04-25 and 2024-04-26\n",
      "\n",
      "--- Phase 2: Preparing Master DataFrame ---\n",
      "✅ Successfully created master DataFrame with 180 total columns.\n",
      "  -> SHORT ENTRY for C_500.0_20240425 at 09:55:00 at 1.0\n",
      "  -> HEDGE ENTRY of qty 83 for C_502.0_20240426 against C_500.0_20240425 and primary qty of 100 at price 1.31\n",
      "  -> COMBINED: Net credit = $-9.73\n",
      "  🚨 STOP-LOSS TRIGGERED for C_500.0_20240425+C_502.0_20240426\n",
      "     Entry short was : $0.99, Current short leg price: $1.42\n",
      "     Entry long was : $1.31, Current short leg price: $1.51\n",
      "   Total  Loss: $-26.40\n",
      "  -> SPREAD_STOP_LOSS EXIT for C_500.0_20240425. Profit: $-43.00 and exit price is 1.42\n",
      "  -> SPREAD_STOP_LOSS EXIT for C_502.0_20240426. Profit: $16.60 and exit price is 1.51\n",
      "  -> SHORT ENTRY for C_500.0_20240425 at 10:43:00 at 0.9\n",
      "  -> HEDGE ENTRY of qty 78 for C_502.0_20240426 against C_500.0_20240425 and primary qty of 100 at price 1.31\n",
      "  -> COMBINED: Net credit = $-13.18\n",
      "  🚨 STOP-LOSS TRIGGERED for C_500.0_20240425+C_502.0_20240426\n",
      "     Entry short was : $0.89, Current short leg price: $1.18\n",
      "     Entry long was : $1.31, Current short leg price: $1.43\n",
      "   Total  Loss: $-19.64\n",
      "  -> SPREAD_STOP_LOSS EXIT for C_500.0_20240425. Profit: $-29.00 and exit price is 1.18\n",
      "  -> SPREAD_STOP_LOSS EXIT for C_502.0_20240426. Profit: $9.36 and exit price is 1.43\n",
      "\n",
      "--- Processing Day: 2024-04-26 ---\n",
      "Fetching options across 506.3\n",
      "Both expiries are 2024-04-26 and 2024-04-29\n",
      "\n",
      "--- Phase 2: Preparing Master DataFrame ---\n",
      "✅ Successfully created master DataFrame with 216 total columns.\n",
      "\n",
      "--- Processing Day: 2024-04-29 ---\n",
      "Fetching options across 510.07\n",
      "Both expiries are 2024-04-29 and 2024-04-30\n",
      "\n",
      "--- Phase 2: Preparing Master DataFrame ---\n",
      "✅ Successfully created master DataFrame with 216 total columns.\n",
      "\n",
      "--- Processing Day: 2024-04-30 ---\n",
      "Fetching options across 508.73\n",
      "Both expiries are 2024-04-30 and 2024-05-01\n",
      "\n",
      "--- Phase 2: Preparing Master DataFrame ---\n",
      "✅ Successfully created master DataFrame with 216 total columns.\n",
      "  -> SHORT ENTRY for C_510.0_20240430 at 10:31:00 at 0.57\n",
      "  -> HEDGE ENTRY of qty 65 for C_512.0_20240501 against C_510.0_20240430 and primary qty of 100 at price 1.07\n",
      "  -> COMBINED: Net credit = $-13.55\n",
      "  [EOD] Checking positions to close at 15:45:00\n",
      "  [EOD] Current positions: ['C_510.0_20240430', 'C_512.0_20240501']\n",
      "  [EOD] Processing C_510.0_20240430: side=-1, price=0.03\n",
      "  -> EOD EXIT for C_510.0_20240430. Profit: $53.00 and exit price is 0.03\n",
      "  [EOD] Processing C_512.0_20240501: side=1, price=0.26\n",
      "  -> EOD EXIT for C_512.0_20240501. Profit: $-52.65 and exit price is 0.26\n",
      "\n",
      "--- Processing Day: 2024-05-01 ---\n",
      "Fetching options across 501.6\n",
      "Both expiries are 2024-05-01 and 2024-05-02\n",
      "\n",
      "--- Phase 2: Preparing Master DataFrame ---\n",
      "✅ Successfully created master DataFrame with 216 total columns.\n",
      "  -> SHORT ENTRY for C_503.0_20240501 at 09:55:00 at 1.17\n",
      "  -> HEDGE ENTRY of qty 86 for C_505.0_20240502 against C_503.0_20240501 and primary qty of 100 at price 1.41\n",
      "  -> COMBINED: Net credit = $-5.26\n",
      "  🚨 STOP-LOSS TRIGGERED for C_503.0_20240501+C_505.0_20240502\n",
      "     Entry short was : $1.16, Current short leg price: $1.54\n",
      "     Entry long was : $1.41, Current short leg price: $1.63\n",
      "   Total  Loss: $-19.08\n",
      "  -> SPREAD_STOP_LOSS EXIT for C_503.0_20240501. Profit: $-38.00 and exit price is 1.54\n",
      "  -> SPREAD_STOP_LOSS EXIT for C_505.0_20240502. Profit: $18.92 and exit price is 1.63\n",
      "\n",
      "--- Processing Day: 2024-05-02 ---\n",
      "Fetching options across 503.26\n",
      "Both expiries are 2024-05-02 and 2024-05-03\n",
      "\n",
      "--- Phase 2: Preparing Master DataFrame ---\n",
      "✅ Successfully created master DataFrame with 216 total columns.\n",
      "  -> SHORT ENTRY for C_504.0_20240502 at 09:48:00 at 0.91\n",
      "  -> HEDGE ENTRY of qty 44 for C_506.0_20240503 against C_504.0_20240502 and primary qty of 100 at price 1.07\n",
      "  -> COMBINED: Net credit = $42.92\n",
      "  🚨 STOP-LOSS TRIGGERED for C_504.0_20240502+C_506.0_20240503\n",
      "     Entry short was : $0.90, Current short leg price: $1.26\n",
      "     Entry long was : $1.07, Current short leg price: $1.78\n",
      "   Total  Loss: $-4.76\n",
      "  -> SPREAD_STOP_LOSS EXIT for C_504.0_20240502. Profit: $-36.00 and exit price is 1.26\n",
      "  -> SPREAD_STOP_LOSS EXIT for C_506.0_20240503. Profit: $31.24 and exit price is 1.78\n",
      "\n",
      "--- Processing Day: 2024-05-03 ---\n",
      "Fetching options across 511.25\n",
      "Both expiries are 2024-05-03 and 2024-05-06\n",
      "\n",
      "--- Phase 2: Preparing Master DataFrame ---\n",
      "✅ Successfully created master DataFrame with 216 total columns.\n",
      "\n",
      "--- Processing Day: 2024-05-06 ---\n",
      "Fetching options across 513.5\n",
      "Both expiries are 2024-05-06 and 2024-05-07\n",
      "\n",
      "--- Phase 2: Preparing Master DataFrame ---\n",
      "✅ Successfully created master DataFrame with 198 total columns.\n",
      "\n",
      "--- Processing Day: 2024-05-07 ---\n",
      "Fetching options across 517.38\n",
      "Both expiries are 2024-05-07 and 2024-05-08\n",
      "\n",
      "--- Phase 2: Preparing Master DataFrame ---\n",
      "✅ Successfully created master DataFrame with 216 total columns.\n",
      "\n",
      "--- Processing Day: 2024-05-08 ---\n",
      "Fetching options across 515.54\n",
      "Both expiries are 2024-05-08 and 2024-05-09\n",
      "\n",
      "--- Phase 2: Preparing Master DataFrame ---\n",
      "✅ Successfully created master DataFrame with 216 total columns.\n",
      "\n",
      "--- Processing Day: 2024-05-09 ---\n",
      "Fetching options across 517.51\n",
      "Both expiries are 2024-05-09 and 2024-05-10\n",
      "\n",
      "--- Phase 2: Preparing Master DataFrame ---\n",
      "✅ Successfully created master DataFrame with 216 total columns.\n",
      "\n",
      "--- Processing Day: 2024-05-10 ---\n",
      "Fetching options across 521.43\n",
      "Both expiries are 2024-05-10 and 2024-05-13\n",
      "\n",
      "--- Phase 2: Preparing Master DataFrame ---\n",
      "✅ Successfully created master DataFrame with 216 total columns.\n",
      "\n",
      "--- Processing Day: 2024-05-13 ---\n",
      "Fetching options across 522.34\n",
      "Both expiries are 2024-05-13 and 2024-05-14\n",
      "\n",
      "--- Phase 2: Preparing Master DataFrame ---\n",
      "✅ Successfully created master DataFrame with 216 total columns.\n",
      "\n",
      "--- Processing Day: 2024-05-14 ---\n",
      "Fetching options across 521.25\n",
      "Both expiries are 2024-05-14 and 2024-05-15\n",
      "\n",
      "--- Phase 2: Preparing Master DataFrame ---\n",
      "✅ Successfully created master DataFrame with 216 total columns.\n",
      "\n",
      "--- Processing Day: 2024-05-15 ---\n",
      "Fetching options across 525.82\n",
      "Both expiries are 2024-05-15 and 2024-05-16\n",
      "\n",
      "--- Phase 2: Preparing Master DataFrame ---\n",
      "✅ Successfully created master DataFrame with 216 total columns.\n",
      "\n",
      "--- Processing Day: 2024-05-16 ---\n",
      "Fetching options across 530.17\n",
      "Both expiries are 2024-05-16 and 2024-05-17\n",
      "\n",
      "--- Phase 2: Preparing Master DataFrame ---\n",
      "✅ Successfully created master DataFrame with 216 total columns.\n",
      "\n",
      "--- Processing Day: 2024-05-17 ---\n",
      "Fetching options across 529.05\n",
      "Both expiries are 2024-05-17 and 2024-05-20\n"
     ]
    },
    {
     "data": {
      "application/vnd.jupyter.widget-view+json": {
       "model_id": "0014360c0a454513a365af057168f067",
       "version_major": 2,
       "version_minor": 0
      },
      "text/plain": [
       "FloatProgress(value=0.0, layout=Layout(width='auto'), style=ProgressStyle(bar_color='black'))"
      ]
     },
     "metadata": {},
     "output_type": "display_data"
    },
    {
     "name": "stdout",
     "output_type": "stream",
     "text": [
      "\n",
      "--- Phase 2: Preparing Master DataFrame ---\n",
      "✅ Successfully created master DataFrame with 216 total columns.\n",
      "\n",
      "--- Processing Day: 2024-05-20 ---\n",
      "Fetching options across 529.69\n",
      "Both expiries are 2024-05-20 and 2024-05-21\n",
      "\n",
      "--- Phase 2: Preparing Master DataFrame ---\n",
      "✅ Successfully created master DataFrame with 216 total columns.\n",
      "\n",
      "--- Processing Day: 2024-05-21 ---\n",
      "Fetching options across 529.27\n",
      "Both expiries are 2024-05-21 and 2024-05-22\n",
      "\n",
      "--- Phase 2: Preparing Master DataFrame ---\n",
      "✅ Successfully created master DataFrame with 216 total columns.\n",
      "\n",
      "--- Processing Day: 2024-05-22 ---\n",
      "Fetching options across 530.74\n",
      "Both expiries are 2024-05-22 and 2024-05-23\n",
      "\n",
      "--- Phase 2: Preparing Master DataFrame ---\n",
      "✅ Successfully created master DataFrame with 216 total columns.\n",
      "  -> SHORT ENTRY for C_532.0_20240522 at 11:51:00 at 0.8\n",
      "  -> HEDGE ENTRY of qty 96 for C_534.0_20240523 against C_532.0_20240522 and primary qty of 100 at price 0.99\n",
      "  -> COMBINED: Net credit = $-16.04\n",
      "  🚨 STOP-LOSS TRIGGERED for C_532.0_20240522+C_534.0_20240523\n",
      "     Entry short was : $0.79, Current short leg price: $1.04\n",
      "     Entry long was : $0.99, Current short leg price: $1.02\n",
      "   Total  Loss: $-22.12\n",
      "  -> SPREAD_STOP_LOSS EXIT for C_532.0_20240522. Profit: $-25.00 and exit price is 1.04\n",
      "  -> SPREAD_STOP_LOSS EXIT for C_534.0_20240523. Profit: $2.88 and exit price is 1.02\n",
      "\n",
      "--- Processing Day: 2024-05-23 ---\n",
      "Fetching options across 532.69\n",
      "Both expiries are 2024-05-23 and 2024-05-24\n"
     ]
    },
    {
     "data": {
      "application/vnd.jupyter.widget-view+json": {
       "model_id": "c1bb7c8228614d11b34993aef31ca001",
       "version_major": 2,
       "version_minor": 0
      },
      "text/plain": [
       "FloatProgress(value=0.0, layout=Layout(width='auto'), style=ProgressStyle(bar_color='black'))"
      ]
     },
     "metadata": {},
     "output_type": "display_data"
    },
    {
     "name": "stdout",
     "output_type": "stream",
     "text": [
      "\n",
      "--- Phase 2: Preparing Master DataFrame ---\n",
      "✅ Successfully created master DataFrame with 207 total columns.\n",
      "  -> SHORT ENTRY for C_532.0_20240523 at 09:58:00 at 0.55\n",
      "  -> HEDGE ENTRY of qty 113 for C_534.0_20240524 against C_532.0_20240523 and primary qty of 100 at price 0.59\n",
      "  -> COMBINED: Net credit = $-12.67\n",
      "  [EOD] Checking positions to close at 15:45:00\n",
      "  [EOD] Current positions: ['C_532.0_20240523', 'C_534.0_20240524']\n",
      "  [EOD] Processing C_532.0_20240523: side=-1, price=0.01\n",
      "  -> EOD EXIT for C_532.0_20240523. Profit: $53.00 and exit price is 0.01\n",
      "  [EOD] Processing C_534.0_20240524: side=1, price=0.03\n",
      "  -> EOD EXIT for C_534.0_20240524. Profit: $-63.28 and exit price is 0.03\n",
      "\n",
      "--- Processing Day: 2024-05-24 ---\n",
      "Fetching options across 527.58\n",
      "Both expiries are 2024-05-24 and 2024-05-28\n",
      "\n",
      "--- Phase 2: Preparing Master DataFrame ---\n",
      "✅ Successfully created master DataFrame with 216 total columns.\n",
      "\n",
      "--- Processing Day: 2024-05-28 ---\n",
      "Fetching options across 530.17\n",
      "Both expiries are 2024-05-28 and 2024-05-29\n",
      "\n",
      "--- Phase 2: Preparing Master DataFrame ---\n",
      "✅ Successfully created master DataFrame with 216 total columns.\n",
      "\n",
      "--- Processing Day: 2024-05-29 ---\n",
      "Fetching options across 525.79\n",
      "Both expiries are 2024-05-29 and 2024-05-30\n"
     ]
    },
    {
     "data": {
      "application/vnd.jupyter.widget-view+json": {
       "model_id": "d38922fe05f047f6884ff8dc5cb23b57",
       "version_major": 2,
       "version_minor": 0
      },
      "text/plain": [
       "FloatProgress(value=0.0, layout=Layout(width='auto'), style=ProgressStyle(bar_color='black'))"
      ]
     },
     "metadata": {},
     "output_type": "display_data"
    },
    {
     "name": "stdout",
     "output_type": "stream",
     "text": [
      "\n",
      "--- Phase 2: Preparing Master DataFrame ---\n",
      "✅ Successfully created master DataFrame with 216 total columns.\n",
      "\n",
      "--- Processing Day: 2024-05-30 ---\n",
      "Fetching options across 524.33\n",
      "Both expiries are 2024-05-30 and 2024-05-31\n"
     ]
    },
    {
     "data": {
      "application/vnd.jupyter.widget-view+json": {
       "model_id": "145c104d0e9642a8b0333c8a3db0e23a",
       "version_major": 2,
       "version_minor": 0
      },
      "text/plain": [
       "FloatProgress(value=0.0, layout=Layout(width='auto'), style=ProgressStyle(bar_color='black'))"
      ]
     },
     "metadata": {},
     "output_type": "display_data"
    },
    {
     "name": "stdout",
     "output_type": "stream",
     "text": [
      "\n",
      "--- Phase 2: Preparing Master DataFrame ---\n",
      "✅ Successfully created master DataFrame with 216 total columns.\n",
      "\n",
      "--- Processing Day: 2024-05-31 ---\n",
      "Fetching options across 523.85\n",
      "Both expiries are 2024-05-31 and 2024-06-03\n"
     ]
    },
    {
     "data": {
      "application/vnd.jupyter.widget-view+json": {
       "model_id": "ceb93512935f4249bc35d7ba91950972",
       "version_major": 2,
       "version_minor": 0
      },
      "text/plain": [
       "FloatProgress(value=0.0, layout=Layout(width='auto'), style=ProgressStyle(bar_color='black'))"
      ]
     },
     "metadata": {},
     "output_type": "display_data"
    },
    {
     "name": "stdout",
     "output_type": "stream",
     "text": [
      "\n",
      "--- Phase 2: Preparing Master DataFrame ---\n",
      "✅ Successfully created master DataFrame with 216 total columns.\n",
      "  -> SHORT ENTRY for C_523.0_20240531 at 10:24:00 at 0.58\n",
      "  -> HEDGE ENTRY of qty 62 for C_525.0_20240603 against C_523.0_20240531 and primary qty of 100 at price 0.46\n",
      "  -> COMBINED: Net credit = $28.48\n",
      "  🚨 STOP-LOSS TRIGGERED for C_523.0_20240531+C_525.0_20240603\n",
      "     Entry short was : $0.57, Current short leg price: $1.01\n",
      "     Entry long was : $0.46, Current short leg price: $0.86\n",
      "   Total  Loss: $-19.20\n",
      "  -> SPREAD_STOP_LOSS EXIT for C_523.0_20240531. Profit: $-44.00 and exit price is 1.01\n",
      "  -> SPREAD_STOP_LOSS EXIT for C_525.0_20240603. Profit: $24.80 and exit price is 0.86\n",
      "\n",
      "--- Processing Day: 2024-06-03 ---\n",
      "Fetching options across 528.86\n",
      "Both expiries are 2024-06-03 and 2024-06-04\n"
     ]
    },
    {
     "data": {
      "application/vnd.jupyter.widget-view+json": {
       "model_id": "86ded8a75a3d415cb45175763672ecf1",
       "version_major": 2,
       "version_minor": 0
      },
      "text/plain": [
       "FloatProgress(value=0.0, layout=Layout(width='auto'), style=ProgressStyle(bar_color='black'))"
      ]
     },
     "metadata": {},
     "output_type": "display_data"
    },
    {
     "name": "stdout",
     "output_type": "stream",
     "text": [
      "\n",
      "--- Phase 2: Preparing Master DataFrame ---\n",
      "✅ Successfully created master DataFrame with 216 total columns.\n",
      "\n",
      "--- Processing Day: 2024-06-04 ---\n",
      "Fetching options across 526.5\n",
      "Both expiries are 2024-06-04 and 2024-06-05\n"
     ]
    },
    {
     "data": {
      "application/vnd.jupyter.widget-view+json": {
       "model_id": "93d138eb1b3c4f07aff89a822babf27e",
       "version_major": 2,
       "version_minor": 0
      },
      "text/plain": [
       "FloatProgress(value=0.0, layout=Layout(width='auto'), style=ProgressStyle(bar_color='black'))"
      ]
     },
     "metadata": {},
     "output_type": "display_data"
    },
    {
     "name": "stdout",
     "output_type": "stream",
     "text": [
      "\n",
      "--- Phase 2: Preparing Master DataFrame ---\n",
      "✅ Successfully created master DataFrame with 216 total columns.\n",
      "  -> SHORT ENTRY for C_528.0_20240604 at 10:07:00 at 0.55\n",
      "  -> HEDGE ENTRY of qty 97 for C_530.0_20240605 against C_528.0_20240604 and primary qty of 100 at price 0.58\n",
      "  -> COMBINED: Net credit = $-2.26\n",
      "  🚨 STOP-LOSS TRIGGERED for C_528.0_20240604+C_530.0_20240605\n",
      "     Entry short was : $0.54, Current short leg price: $0.83\n",
      "     Entry long was : $0.58, Current short leg price: $0.80\n",
      "   Total  Loss: $-7.66\n",
      "  -> SPREAD_STOP_LOSS EXIT for C_528.0_20240604. Profit: $-29.00 and exit price is 0.83\n",
      "  -> SPREAD_STOP_LOSS EXIT for C_530.0_20240605. Profit: $21.34 and exit price is 0.80\n",
      "\n",
      "--- Processing Day: 2024-06-05 ---\n",
      "Fetching options across 530.64\n",
      "Both expiries are 2024-06-05 and 2024-06-06\n"
     ]
    },
    {
     "data": {
      "application/vnd.jupyter.widget-view+json": {
       "model_id": "4687e08d28354e6a84bd8c733a478e80",
       "version_major": 2,
       "version_minor": 0
      },
      "text/plain": [
       "FloatProgress(value=0.0, layout=Layout(width='auto'), style=ProgressStyle(bar_color='black'))"
      ]
     },
     "metadata": {},
     "output_type": "display_data"
    },
    {
     "name": "stdout",
     "output_type": "stream",
     "text": [
      "\n",
      "--- Phase 2: Preparing Master DataFrame ---\n",
      "✅ Successfully created master DataFrame with 216 total columns.\n",
      "  -> SHORT ENTRY for C_531.0_20240605 at 10:08:00 at 0.55\n",
      "  -> HEDGE ENTRY of qty 117 for C_533.0_20240606 against C_531.0_20240605 and primary qty of 100 at price 0.53\n",
      "  -> COMBINED: Net credit = $-8.01\n",
      "  🚨 STOP-LOSS TRIGGERED for C_531.0_20240605+C_533.0_20240606\n",
      "     Entry short was : $0.54, Current short leg price: $0.83\n",
      "     Entry long was : $0.53, Current short leg price: $0.61\n",
      "   Total  Loss: $-19.64\n",
      "  -> SPREAD_STOP_LOSS EXIT for C_531.0_20240605. Profit: $-29.00 and exit price is 0.83\n",
      "  -> SPREAD_STOP_LOSS EXIT for C_533.0_20240606. Profit: $9.36 and exit price is 0.61\n",
      "\n",
      "--- Processing Day: 2024-06-06 ---\n",
      "Fetching options across 534.89\n",
      "Both expiries are 2024-06-06 and 2024-06-07\n"
     ]
    },
    {
     "data": {
      "application/vnd.jupyter.widget-view+json": {
       "model_id": "ec946ee0cd624a378364e51928cd2cb0",
       "version_major": 2,
       "version_minor": 0
      },
      "text/plain": [
       "FloatProgress(value=0.0, layout=Layout(width='auto'), style=ProgressStyle(bar_color='black'))"
      ]
     },
     "metadata": {},
     "output_type": "display_data"
    },
    {
     "name": "stdout",
     "output_type": "stream",
     "text": [
      "\n",
      "--- Phase 2: Preparing Master DataFrame ---\n",
      "✅ Successfully created master DataFrame with 216 total columns.\n",
      "\n",
      "--- Processing Day: 2024-06-07 ---\n",
      "Fetching options across 533.44\n",
      "Both expiries are 2024-06-07 and 2024-06-10\n"
     ]
    },
    {
     "data": {
      "application/vnd.jupyter.widget-view+json": {
       "model_id": "c433e72ca9c44de68725033396b027b6",
       "version_major": 2,
       "version_minor": 0
      },
      "text/plain": [
       "FloatProgress(value=0.0, layout=Layout(width='auto'), style=ProgressStyle(bar_color='black'))"
      ]
     },
     "metadata": {},
     "output_type": "display_data"
    },
    {
     "name": "stdout",
     "output_type": "stream",
     "text": [
      "\n",
      "--- Phase 2: Preparing Master DataFrame ---\n",
      "✅ Successfully created master DataFrame with 216 total columns.\n",
      "\n",
      "--- Processing Day: 2024-06-10 ---\n",
      "Fetching options across 533.22\n",
      "Both expiries are 2024-06-10 and 2024-06-11\n"
     ]
    },
    {
     "data": {
      "application/vnd.jupyter.widget-view+json": {
       "model_id": "a92f20a9aadc4eb9b6bbbf8b0752b93d",
       "version_major": 2,
       "version_minor": 0
      },
      "text/plain": [
       "FloatProgress(value=0.0, layout=Layout(width='auto'), style=ProgressStyle(bar_color='black'))"
      ]
     },
     "metadata": {},
     "output_type": "display_data"
    },
    {
     "name": "stdout",
     "output_type": "stream",
     "text": [
      "\n",
      "--- Phase 2: Preparing Master DataFrame ---\n",
      "✅ Successfully created master DataFrame with 216 total columns.\n",
      "\n",
      "--- Processing Day: 2024-06-11 ---\n",
      "Fetching options across 533.74\n",
      "Both expiries are 2024-06-11 and 2024-06-12\n"
     ]
    },
    {
     "data": {
      "application/vnd.jupyter.widget-view+json": {
       "model_id": "bcd4d5de08fc45eba21e9796dd187c48",
       "version_major": 2,
       "version_minor": 0
      },
      "text/plain": [
       "FloatProgress(value=0.0, layout=Layout(width='auto'), style=ProgressStyle(bar_color='black'))"
      ]
     },
     "metadata": {},
     "output_type": "display_data"
    },
    {
     "name": "stdout",
     "output_type": "stream",
     "text": [
      "\n",
      "--- Phase 2: Preparing Master DataFrame ---\n",
      "✅ Successfully created master DataFrame with 216 total columns.\n",
      "  -> SHORT ENTRY for C_534.0_20240611 at 09:52:00 at 0.52\n",
      "  -> HEDGE ENTRY of qty 40 for C_536.0_20240612 against C_534.0_20240611 and primary qty of 100 at price 1.55\n",
      "  -> COMBINED: Net credit = $-11.00\n",
      "  🚨 STOP-LOSS TRIGGERED for C_534.0_20240611+C_536.0_20240612\n",
      "     Entry short was : $0.51, Current short leg price: $0.82\n",
      "     Entry long was : $1.55, Current short leg price: $1.74\n",
      "   Total  Loss: $-23.40\n",
      "  -> SPREAD_STOP_LOSS EXIT for C_534.0_20240611. Profit: $-31.00 and exit price is 0.82\n",
      "  -> SPREAD_STOP_LOSS EXIT for C_536.0_20240612. Profit: $7.60 and exit price is 1.74\n",
      "\n",
      "--- Processing Day: 2024-06-12 ---\n",
      "Fetching options across 541.26\n",
      "Both expiries are 2024-06-12 and 2024-06-13\n"
     ]
    },
    {
     "data": {
      "application/vnd.jupyter.widget-view+json": {
       "model_id": "ea566b6240b54c7b9ba3c10860c661ea",
       "version_major": 2,
       "version_minor": 0
      },
      "text/plain": [
       "FloatProgress(value=0.0, layout=Layout(width='auto'), style=ProgressStyle(bar_color='black'))"
      ]
     },
     "metadata": {},
     "output_type": "display_data"
    },
    {
     "name": "stdout",
     "output_type": "stream",
     "text": [
      "\n",
      "--- Phase 2: Preparing Master DataFrame ---\n",
      "✅ Successfully created master DataFrame with 216 total columns.\n",
      "\n",
      "--- Processing Day: 2024-06-13 ---\n",
      "Fetching options across 542.9\n",
      "Both expiries are 2024-06-13 and 2024-06-14\n"
     ]
    },
    {
     "data": {
      "application/vnd.jupyter.widget-view+json": {
       "model_id": "5f51df9cce214f19acff51b95c48b85a",
       "version_major": 2,
       "version_minor": 0
      },
      "text/plain": [
       "FloatProgress(value=0.0, layout=Layout(width='auto'), style=ProgressStyle(bar_color='black'))"
      ]
     },
     "metadata": {},
     "output_type": "display_data"
    },
    {
     "name": "stdout",
     "output_type": "stream",
     "text": [
      "\n",
      "--- Phase 2: Preparing Master DataFrame ---\n",
      "✅ Successfully created master DataFrame with 216 total columns.\n",
      "\n",
      "--- Processing Day: 2024-06-14 ---\n",
      "Fetching options across 540.86\n",
      "Both expiries are 2024-06-14 and 2024-06-17\n"
     ]
    },
    {
     "data": {
      "application/vnd.jupyter.widget-view+json": {
       "model_id": "b5a6523154984bf095f9003d6144986a",
       "version_major": 2,
       "version_minor": 0
      },
      "text/plain": [
       "FloatProgress(value=0.0, layout=Layout(width='auto'), style=ProgressStyle(bar_color='black'))"
      ]
     },
     "metadata": {},
     "output_type": "display_data"
    },
    {
     "name": "stdout",
     "output_type": "stream",
     "text": [
      "\n",
      "--- Phase 2: Preparing Master DataFrame ---\n",
      "✅ Successfully created master DataFrame with 216 total columns.\n",
      "\n",
      "--- Processing Day: 2024-06-17 ---\n",
      "Fetching options across 541.95\n",
      "Both expiries are 2024-06-17 and 2024-06-18\n"
     ]
    },
    {
     "data": {
      "application/vnd.jupyter.widget-view+json": {
       "model_id": "7021c07b401947bc8ca8e9665a098272",
       "version_major": 2,
       "version_minor": 0
      },
      "text/plain": [
       "FloatProgress(value=0.0, layout=Layout(width='auto'), style=ProgressStyle(bar_color='black'))"
      ]
     },
     "metadata": {},
     "output_type": "display_data"
    },
    {
     "name": "stdout",
     "output_type": "stream",
     "text": [
      "\n",
      "--- Phase 2: Preparing Master DataFrame ---\n",
      "✅ Successfully created master DataFrame with 216 total columns.\n",
      "\n",
      "--- Processing Day: 2024-06-18 ---\n",
      "Fetching options across 547.25\n",
      "Both expiries are 2024-06-18 and 2024-06-20\n"
     ]
    },
    {
     "data": {
      "application/vnd.jupyter.widget-view+json": {
       "model_id": "10541540a8e34b51af7f49ea9fcab609",
       "version_major": 2,
       "version_minor": 0
      },
      "text/plain": [
       "FloatProgress(value=0.0, layout=Layout(width='auto'), style=ProgressStyle(bar_color='black'))"
      ]
     },
     "metadata": {},
     "output_type": "display_data"
    },
    {
     "name": "stdout",
     "output_type": "stream",
     "text": [
      "\n",
      "--- Phase 2: Preparing Master DataFrame ---\n",
      "✅ Successfully created master DataFrame with 216 total columns.\n",
      "\n",
      "--- Processing Day: 2024-06-20 ---\n",
      "Fetching options across 549.18\n",
      "Both expiries are 2024-06-20 and 2024-06-21\n"
     ]
    },
    {
     "data": {
      "application/vnd.jupyter.widget-view+json": {
       "model_id": "5ae22d860f3641ff9937cd3b0ffd5043",
       "version_major": 2,
       "version_minor": 0
      },
      "text/plain": [
       "FloatProgress(value=0.0, layout=Layout(width='auto'), style=ProgressStyle(bar_color='black'))"
      ]
     },
     "metadata": {},
     "output_type": "display_data"
    },
    {
     "name": "stdout",
     "output_type": "stream",
     "text": [
      "\n",
      "--- Phase 2: Preparing Master DataFrame ---\n",
      "✅ Successfully created master DataFrame with 216 total columns.\n",
      "\n",
      "--- Processing Day: 2024-06-21 ---\n",
      "Fetching options across 544.22\n",
      "Both expiries are 2024-06-21 and 2024-06-24\n"
     ]
    },
    {
     "data": {
      "application/vnd.jupyter.widget-view+json": {
       "model_id": "b8280ae7e1144a28a8e4dd46b4efa532",
       "version_major": 2,
       "version_minor": 0
      },
      "text/plain": [
       "FloatProgress(value=0.0, layout=Layout(width='auto'), style=ProgressStyle(bar_color='black'))"
      ]
     },
     "metadata": {},
     "output_type": "display_data"
    },
    {
     "name": "stdout",
     "output_type": "stream",
     "text": [
      "\n",
      "--- Phase 2: Preparing Master DataFrame ---\n",
      "✅ Successfully created master DataFrame with 216 total columns.\n",
      "  -> SHORT ENTRY for C_545.0_20240621 at 09:46:00 at 0.61\n",
      "  -> HEDGE ENTRY of qty 111 for C_547.0_20240624 against C_545.0_20240621 and primary qty of 100 at price 0.6\n",
      "  -> COMBINED: Net credit = $-6.60\n",
      "  🚨 STOP-LOSS TRIGGERED for C_545.0_20240621+C_547.0_20240624\n",
      "     Entry short was : $0.60, Current short leg price: $0.86\n",
      "     Entry long was : $0.60, Current short leg price: $0.70\n",
      "   Total  Loss: $-14.90\n",
      "  -> SPREAD_STOP_LOSS EXIT for C_545.0_20240621. Profit: $-26.00 and exit price is 0.86\n",
      "  -> SPREAD_STOP_LOSS EXIT for C_547.0_20240624. Profit: $11.10 and exit price is 0.70\n",
      "\n",
      "--- Processing Day: 2024-06-24 ---\n",
      "Fetching options across 544.16\n",
      "Both expiries are 2024-06-24 and 2024-06-25\n"
     ]
    },
    {
     "data": {
      "application/vnd.jupyter.widget-view+json": {
       "model_id": "b008037d4bbd493e87dae3e937828b69",
       "version_major": 2,
       "version_minor": 0
      },
      "text/plain": [
       "FloatProgress(value=0.0, layout=Layout(width='auto'), style=ProgressStyle(bar_color='black'))"
      ]
     },
     "metadata": {},
     "output_type": "display_data"
    },
    {
     "name": "stdout",
     "output_type": "stream",
     "text": [
      "\n",
      "--- Phase 2: Preparing Master DataFrame ---\n",
      "✅ Successfully created master DataFrame with 216 total columns.\n",
      "\n",
      "--- Processing Day: 2024-06-25 ---\n",
      "Fetching options across 543.63\n",
      "Both expiries are 2024-06-25 and 2024-06-26\n"
     ]
    },
    {
     "data": {
      "application/vnd.jupyter.widget-view+json": {
       "model_id": "fbf860e545eb469d93f85ed82c0c9552",
       "version_major": 2,
       "version_minor": 0
      },
      "text/plain": [
       "FloatProgress(value=0.0, layout=Layout(width='auto'), style=ProgressStyle(bar_color='black'))"
      ]
     },
     "metadata": {},
     "output_type": "display_data"
    },
    {
     "name": "stdout",
     "output_type": "stream",
     "text": [
      "\n",
      "--- Phase 2: Preparing Master DataFrame ---\n",
      "✅ Successfully created master DataFrame with 216 total columns.\n",
      "\n",
      "--- Processing Day: 2024-06-26 ---\n",
      "Fetching options across 543.59\n",
      "Both expiries are 2024-06-26 and 2024-06-27\n"
     ]
    },
    {
     "data": {
      "application/vnd.jupyter.widget-view+json": {
       "model_id": "ccba89ab878e401e9e926d0863eca94c",
       "version_major": 2,
       "version_minor": 0
      },
      "text/plain": [
       "FloatProgress(value=0.0, layout=Layout(width='auto'), style=ProgressStyle(bar_color='black'))"
      ]
     },
     "metadata": {},
     "output_type": "display_data"
    },
    {
     "name": "stdout",
     "output_type": "stream",
     "text": [
      "\n",
      "--- Phase 2: Preparing Master DataFrame ---\n",
      "✅ Successfully created master DataFrame with 216 total columns.\n",
      "\n",
      "--- Processing Day: 2024-06-27 ---\n",
      "Fetching options across 545.54\n",
      "Both expiries are 2024-06-27 and 2024-06-28\n"
     ]
    },
    {
     "data": {
      "application/vnd.jupyter.widget-view+json": {
       "model_id": "8ac99a0a7cb04abcaf71db569ad0b9dc",
       "version_major": 2,
       "version_minor": 0
      },
      "text/plain": [
       "FloatProgress(value=0.0, layout=Layout(width='auto'), style=ProgressStyle(bar_color='black'))"
      ]
     },
     "metadata": {},
     "output_type": "display_data"
    },
    {
     "name": "stdout",
     "output_type": "stream",
     "text": [
      "\n",
      "--- Phase 2: Preparing Master DataFrame ---\n",
      "✅ Successfully created master DataFrame with 216 total columns.\n",
      "\n",
      "--- Processing Day: 2024-06-28 ---\n",
      "Fetching options across 546.71\n",
      "Both expiries are 2024-06-28 and 2024-07-01\n"
     ]
    },
    {
     "data": {
      "application/vnd.jupyter.widget-view+json": {
       "model_id": "d19d583d40074dbf909811b3836fad8b",
       "version_major": 2,
       "version_minor": 0
      },
      "text/plain": [
       "FloatProgress(value=0.0, layout=Layout(width='auto'), style=ProgressStyle(bar_color='black'))"
      ]
     },
     "metadata": {},
     "output_type": "display_data"
    },
    {
     "name": "stdout",
     "output_type": "stream",
     "text": [
      "\n",
      "--- Phase 2: Preparing Master DataFrame ---\n",
      "✅ Successfully created master DataFrame with 216 total columns.\n",
      "  -> SHORT ENTRY for C_549.0_20240628 at 11:09:00 at 0.55\n",
      "  -> HEDGE ENTRY of qty 117 for C_551.0_20240701 against C_549.0_20240628 and primary qty of 100 at price 0.53\n",
      "  -> COMBINED: Net credit = $-8.01\n",
      "  [EOD] Checking positions to close at 15:45:00\n",
      "  [EOD] Current positions: ['C_549.0_20240628', 'C_551.0_20240701']\n",
      "  [EOD] Processing C_549.0_20240628: side=-1, price=0.03\n",
      "  -> EOD EXIT for C_549.0_20240628. Profit: $51.00 and exit price is 0.03\n",
      "  [EOD] Processing C_551.0_20240701: side=1, price=0.07\n",
      "  -> EOD EXIT for C_551.0_20240701. Profit: $-53.82 and exit price is 0.07\n",
      "\n",
      "--- Processing Day: 2024-07-01 ---\n",
      "Fetching options across 545.28\n",
      "Both expiries are 2024-07-01 and 2024-07-02\n"
     ]
    },
    {
     "data": {
      "application/vnd.jupyter.widget-view+json": {
       "model_id": "0797e09763314e3abead4eec22145876",
       "version_major": 2,
       "version_minor": 0
      },
      "text/plain": [
       "FloatProgress(value=0.0, layout=Layout(width='auto'), style=ProgressStyle(bar_color='black'))"
      ]
     },
     "metadata": {},
     "output_type": "display_data"
    },
    {
     "name": "stdout",
     "output_type": "stream",
     "text": [
      "\n",
      "--- Phase 2: Preparing Master DataFrame ---\n",
      "✅ Successfully created master DataFrame with 216 total columns.\n",
      "  -> SHORT ENTRY for C_546.0_20240701 at 09:50:00 at 0.55\n",
      "  -> HEDGE ENTRY of qty 128 for C_548.0_20240702 against C_546.0_20240701 and primary qty of 100 at price 0.57\n",
      "  -> COMBINED: Net credit = $-18.96\n",
      "  [EOD] Checking positions to close at 15:45:00\n",
      "  [EOD] Current positions: ['C_546.0_20240701', 'C_548.0_20240702']\n",
      "  [EOD] Processing C_546.0_20240701: side=-1, price=0.03\n",
      "  -> EOD EXIT for C_546.0_20240701. Profit: $51.00 and exit price is 0.03\n",
      "  [EOD] Processing C_548.0_20240702: side=1, price=0.16\n",
      "  -> EOD EXIT for C_548.0_20240702. Profit: $-52.48 and exit price is 0.16\n",
      "\n",
      "--- Processing Day: 2024-07-02 ---\n",
      "Fetching options across 543.71\n",
      "Both expiries are 2024-07-02 and 2024-07-03\n"
     ]
    }
   ],
   "source": [
    "# ==============================================================================\n",
    "# SCRIPT STARTS HERE\n",
    "# ==============================================================================\n",
    "\n",
    "import pandas_market_calendars as mcal\n",
    "lookback_days = 1\n",
    "nyse = mcal.get_calendar('NYSE')\n",
    "\n",
    "# Initialize a list to hold all trade dictionaries.\n",
    "final_trade_log_list = []\n",
    "option_multiplier = 1\n",
    "\n",
    "# --- Main Loop: Iterate Through Each Day ---\n",
    "unique_days = com_df.index.normalize().unique()\n",
    "print(f\"🚀 Starting backtest for {len(unique_days)} unique days...\")\n",
    "for day in unique_days[1:]:\n",
    "    day_str = day.strftime('%Y-%m-%d')\n",
    "    print(f\"\\n--- Processing Day: {day_str} ---\")\n",
    "\n",
    "    try:\n",
    "        # --- PHASE 1: PRE-FETCH DATA ---\n",
    "        daily_underlying_df = com_df[com_df.index.date == day.date()]\n",
    "        if daily_underlying_df.empty: \n",
    "            continue\n",
    "            \n",
    "        open_price = daily_underlying_df['SPY_close'].iloc[0]\n",
    "        print(f\"Fetching options across {open_price}\")\n",
    "                \n",
    "        if pd.isna(open_price): \n",
    "            continue\n",
    "        \n",
    "        atm_strike_open = np.round(open_price)\n",
    "\n",
    "        # ==============================================================================\n",
    "        # --- PHASE 1: PRE-FETCH ALL POTENTIAL OPTION DATA FOR THE DAY ---\n",
    "        # ==============================================================================\n",
    "        \n",
    "        strikes_to_fetch = set()\n",
    "        expiries_to_fetch = set()\n",
    "        legs_to_trade_info = {} # Store info to map data back to legs\n",
    "\n",
    "        for leg_name, params in strategy_config.items():\n",
    "            center_target_strike = atm_strike_open \n",
    "            # 1. Calculate the lower and upper price bounds\n",
    "            lower_bound = center_target_strike * 0.995\n",
    "            upper_bound = center_target_strike * 1.015\n",
    "\n",
    "            # 2. Round the bounds to the nearest valid strike\n",
    "            rounded_lower = round_to_nearest(lower_bound, interval=strike_interval)\n",
    "            rounded_upper = round_to_nearest(upper_bound, interval=strike_interval)\n",
    "\n",
    "            # 3. Generate all strikes from the lower to upper bound, inclusive\n",
    "            all_strikes_in_range = np.arange(rounded_lower, rounded_upper + strike_interval, strike_interval)\n",
    "                    \n",
    "            # 4. Add all of these strikes to your set for fetching\n",
    "            strikes_to_fetch.update(all_strikes_in_range)\n",
    "\n",
    "            # The schedule is fetched once\n",
    "            schedule = nyse.schedule(start_date=day, end_date=day + pd.Timedelta(days=14))\n",
    "\n",
    "            # 1. Get the primary expiry offset from your config\n",
    "            primary_offset = params['expiry_offset']\n",
    "\n",
    "            # 2. Get and add the primary target expiry date\n",
    "            target_expiry_str = schedule.index[primary_offset].strftime('%Y-%m-%d')\n",
    "            expiries_to_fetch.add(target_expiry_str)\n",
    "\n",
    "            # 3. Calculate the offset for the next trading day\n",
    "            next_day_offset = primary_offset + 1\n",
    "            \n",
    "\n",
    "            # 4. Safely get and add the next day's expiry date\n",
    "            if next_day_offset < len(schedule.index):\n",
    "                next_day_expiry_str = schedule.index[next_day_offset].strftime('%Y-%m-%d')\n",
    "                expiries_to_fetch.add(next_day_expiry_str)\n",
    "            else:\n",
    "                print(f\"  -> Added expiry: {target_expiry_str} (No further date in schedule)\")\n",
    "            \n",
    "            print(f\"Both expiries are {target_expiry_str} and {next_day_expiry_str}\")\n",
    "\n",
    "            # Store the central parameters for this leg\n",
    "            legs_to_trade_info[leg_name] = {'strike': center_target_strike, 'expiry': target_expiry_str}\n",
    "\n",
    "        # Make one single, efficient call to fetch all data\n",
    "        bulk_data_df = fetch_bulk_option_data_call_put(\n",
    "            con=con, ticker='SPY', end_date_str=day_str, n_days=lookback_days,\n",
    "            strikes=list(strikes_to_fetch), expiries=list(expiries_to_fetch), option_type=1)\n",
    "\n",
    "        if bulk_data_df.empty:\n",
    "            print(\"Could not pre-fetch any option data for the day. Skipping.\")\n",
    "            continue\n",
    "\n",
    "        grps = bulk_data_df.groupby(by=['strike', 'optionType', 'expiry'])\n",
    "        total_legs = grps.ngroups \n",
    "\n",
    "        print(\"\\n--- Phase 2: Preparing Master DataFrame ---\")\n",
    "\n",
    "        # 1. Create a list to hold the processed DataFrame for each option contract\n",
    "        all_option_dfs = []\n",
    "\n",
    "        # 2. Loop through each group (each unique option contract)\n",
    "        for (strike, option_type, expiry), contract_df in grps:\n",
    "            \n",
    "            # 3. Create a unique, descriptive prefix for this specific contract\n",
    "            type_char = 'C' if option_type == 1 else 'P'\n",
    "            expiry_str = pd.to_datetime(expiry).strftime('%Y%m%d')\n",
    "            prefix = f\"{type_char}_{strike}_{expiry_str}_\"\n",
    "            \n",
    "            # 4. Add the prefix to all columns of this contract's DataFrame\n",
    "            prefixed_df = contract_df.add_prefix(prefix)\n",
    "            \n",
    "            # 5. Add the prepared DataFrame to our list\n",
    "            all_option_dfs.append(prefixed_df)\n",
    "\n",
    "        # 6. Concatenate all individual option DataFrames into one wide DataFrame\n",
    "        if all_option_dfs:\n",
    "            com_legs_df = pd.concat(all_option_dfs, axis=1, join='outer')\n",
    "            print(f\"✅ Successfully created master DataFrame with {len(com_legs_df.columns)} total columns.\")\n",
    "        else:\n",
    "            print(\"❌ No valid option groups to process.\")\n",
    "            continue\n",
    "\n",
    "        legs_to_process = [symbol for symbol in com_legs_df.filter(like='_close').columns.str.replace('_close', '').unique()\n",
    "                          if symbol.startswith('C_') or symbol.startswith('P_')]\n",
    "\n",
    "        #print(legs_to_process)\n",
    "\n",
    "        # Apply rolling calculations\n",
    "        com_legs_df[[f\"{legs}_intraday_low\" for legs in legs_to_process]] = com_legs_df[[f\"{legs}_bidPrice\" for legs in legs_to_process]].apply(lambda x: intraday_low(com_legs_df, low_col=x.name, agg_func='min'))\n",
    "\n",
    "        com_legs_df[[f\"{legs}_intraday_high\" for legs in legs_to_process]] = com_legs_df[[f\"{legs}_askPrice\" for legs in legs_to_process]].apply(lambda x: intraday_high(com_legs_df, high_col=x.name, agg_func='max'))\n",
    "\n",
    "        close_cols = [f'{leg}_close' for leg in legs_to_process]\n",
    "        com_legs_df[[f'{leg}_ma10' for leg in legs_to_process]] = com_legs_df[close_cols].rolling(window=10).mean()\n",
    "\n",
    "        # Calculate Today's Opening Price for each leg\n",
    "        com_legs_df[[f'{leg}_todayo' for leg in legs_to_process]] = com_legs_df[[f'{leg}_close' for leg in legs_to_process]].resample('D').transform('first')\n",
    "\n",
    "        com_legs_df[[f'{leg}_ROC_5' for leg in legs_to_process]] = com_legs_df[[f\"{leg}_close\" for leg in legs_to_process]].pct_change(periods=10)\n",
    "        \n",
    "        # 7. Join the wide option data with the underlying SPY data\n",
    "        com_df3 = pd.concat([daily_underlying_df, com_legs_df], join='outer', axis=1)\n",
    "                \n",
    "        # 1. Calculate the rounded ATM strike for every row\n",
    "        atm_strikes = round_to_nearest(com_df3['SPY_close'], interval=1)\n",
    "        atm1_strikes = round_to_nearest(com_df3['SPY_close'], interval=1) + 1\n",
    "\n",
    "        # 2. Build the corresponding leg name for every row\n",
    "        com_df3['current_atm_leg'] = 'C_' + atm_strikes.astype(str) + '_' + day.strftime('%Y%m%d')        \n",
    "\n",
    "        # --- STATE DICTIONARIES (Reset for each day) ---\n",
    "        is_in_position = {}\n",
    "        position_side = {}\n",
    "        entry_price = {}\n",
    "        entry_spy_price = {} \n",
    "        qty = {}\n",
    "        entry_timestamp = {}\n",
    "        has_been_hedged = {}\n",
    "        hedge_for_leg = {}\n",
    "        bar_count = {}\n",
    "        net_premiums = {}\n",
    "\n",
    "        # --- MINUTE-BY-MINUTE BACKTESTING LOOP ---\n",
    "        for i in range(len(com_df3)):\n",
    "            \n",
    "            timestamp = com_df3.index[i]\n",
    "            row = com_df3.iloc[i]\n",
    "\n",
    "                    # Package all state dictionaries to pass to the helper function\n",
    "            state_dictionaries = {\n",
    "                'is_in_position': is_in_position, 'position_side': position_side, 'entry_price': entry_price,\n",
    "                'qty': qty, 'entry_timestamp': entry_timestamp, 'bar_count': bar_count, \n",
    "                'entry_spy_price': entry_spy_price, 'has_been_hedged': has_been_hedged         }\n",
    "\n",
    "\n",
    "            # Update bar counts for existing positions\n",
    "            for leg_name in list(is_in_position.keys()):\n",
    "                bar_count[leg_name] = bar_count.get(leg_name, 0) + 1\n",
    "\n",
    "            # --- Part A: Check for NEW Short Entry ---\n",
    "            is_short_open = -1 in position_side.values()\n",
    "            \n",
    "            # Entry Condition: SPY is $1 below its open price today\n",
    "            # and row['VIX_close']<row['VIX_todayo']*0.99\n",
    "            short_entry_condition = (row['SPY_close'] < (com_df3['SPY_intraday_high'].iloc[i-1] - 1)  and row['SPY_ROC_30']<0.001 and timestamp.time() > time(9, 41) and (row['SPY_todayo'] < (com_df3['SPY_prevdayh'].iloc[i-1]*1.003)) and timestamp.time() < time(13, 35))\n",
    "\n",
    "            if not is_short_open and short_entry_condition:\n",
    "                atm_strike = round_to_nearest(row['SPY_close'], 1)\n",
    "                target_strike = atm_strike + 2\n",
    "                expiry_0dte = timestamp.strftime('%Y%m%d')\n",
    "                leg_name = f\"C_{target_strike}_{expiry_0dte}\"\n",
    "                \n",
    "                if f\"{leg_name}_askPrice\" in row and row[f\"{leg_name}_askPrice\"] > 0.5  and row[f\"{leg_name}_askPrice\"]<com_df3[f\"{leg_name}_intraday_high\"].iloc[i-1]*0.9:\n",
    "                    is_in_position[leg_name] = True\n",
    "                    position_side[leg_name] = -1  # Sell\n",
    "                    entry_price[leg_name] = row[f\"{leg_name}_bidPrice\"]\n",
    "                    qty[leg_name] = 100\n",
    "                    entry_spy_price[leg_name] = row['SPY_close']\n",
    "                    entry_timestamp[leg_name] = timestamp\n",
    "                    has_been_hedged[leg_name] = False\n",
    "                    bar_count[leg_name] = 0\n",
    "\n",
    "                    print(f\"  -> SHORT ENTRY for {leg_name} at {timestamp.time()} at {row[f'{leg_name}_askPrice']}\")\n",
    "                    \n",
    "            # --- Part B: Check for Hedge Entry ---\n",
    "            primary_short_leg = next((leg for leg, side in position_side.items() if side == -1 and not has_been_hedged.get(leg, False)), None)\n",
    "            short_strike = float(primary_short_leg.split('_')[1]) if primary_short_leg else None\n",
    "            if primary_short_leg:\n",
    "                \n",
    "                spy_at_entry = entry_spy_price[primary_short_leg]\n",
    "                current_spy = row['SPY_close']\n",
    "                            # Skip if current SPY is NaN\n",
    "                if pd.isna(current_spy):\n",
    "                    continue\n",
    "                hedge_qty = 0\n",
    "                hedge_ratio = 0 \n",
    "                \n",
    "                if current_spy >= spy_at_entry + 0.5:\n",
    "\n",
    "                    hedge_ratio = 0.95\n",
    "                elif current_spy < spy_at_entry - 0.75:\n",
    "                    hedge_ratio = 0.75    \n",
    "                \n",
    "                #print(f\"  [HEDGE CHECK] {primary_short_leg}: Entry SPY={spy_at_entry:.2f}, Current={current_spy:.2f}\")\n",
    "\n",
    "                if hedge_ratio > 0:\n",
    "                    #hedge_strike = round_to_nearest(current_spy, 1) + 2\n",
    "                    hedge_strike = short_strike + 2\n",
    "                    expiry_1dte = next_day_expiry_str.replace('-', '')\n",
    "                    hedge_leg = f\"C_{hedge_strike}_{expiry_1dte}\"\n",
    "\n",
    "                    if f\"{hedge_leg}_askPrice\" in row and row[f\"{hedge_leg}_askPrice\"] > 0:\n",
    "                        \n",
    "                        # Get the current prices and original quantity\n",
    "                        short_price = row[f\"{primary_short_leg}_askPrice\"] # Current cost to close the short\n",
    "                        hedge_price = row[f\"{hedge_leg}_askPrice\"]\n",
    "                        short_qty = qty[primary_short_leg]\n",
    "                        \n",
    "                        # ▼▼▼ THIS IS THE DYNAMIC CALCULATION ▼▼▼\n",
    "                        # Calculate the ideal quantity based on notional value\n",
    "                        dynamic_qty = (hedge_ratio * short_price * short_qty) / hedge_price\n",
    "                        \n",
    "                        # Round to the nearest whole number for the final quantity\n",
    "                        hedge_qty = max(30 , int(round(dynamic_qty, 0)))\n",
    "                       \n",
    "\n",
    "                        print(f\"  -> HEDGE ENTRY of qty {hedge_qty} for {hedge_leg} against {primary_short_leg} and primary qty of {short_qty} at price {row[f'{hedge_leg}_askPrice']}\")\n",
    "                        is_in_position[hedge_leg] = True\n",
    "                        position_side[hedge_leg] = 1  # Buy\n",
    "                        entry_price[hedge_leg] = row[f\"{hedge_leg}_askPrice\"]\n",
    "                        qty[hedge_leg] = int(hedge_qty)\n",
    "                        entry_timestamp[hedge_leg] = timestamp\n",
    "                        bar_count[hedge_leg] = 0\n",
    "                        \n",
    "                        has_been_hedged[primary_short_leg] = True\n",
    "                        hedge_for_leg[primary_short_leg] = hedge_leg\n",
    "\n",
    "                        # Track net premium\n",
    "                        short_premium = entry_price[primary_short_leg] * qty[primary_short_leg]\n",
    "                        long_premium = entry_price[hedge_leg] * qty[hedge_leg]\n",
    "                        net_credit = short_premium - long_premium\n",
    "                        net_premiums[primary_short_leg] = net_credit\n",
    "                        print(f\"  -> COMBINED: Net credit = ${net_credit:.2f}\")\n",
    "\n",
    "            # --- Part C: Check Stop-Loss for Combined Positions ---\n",
    "            for primary_leg in list(net_premiums.keys()):\n",
    "                if primary_leg not in is_in_position:\n",
    "                    continue\n",
    "                if primary_leg not in hedge_for_leg:\n",
    "                    continue\n",
    "                    \n",
    "                hedge_leg = hedge_for_leg[primary_leg]\n",
    "                short_current = row.get(f\"{primary_leg}_askPrice\", 0)\n",
    "                long_current = row.get(f\"{hedge_leg}_bidPrice\", 0)\n",
    "                \n",
    "                if short_current > 0 and long_current > 0:\n",
    "                    short_entry_price = entry_price[primary_leg]\n",
    "                    long_entry_price = entry_price[hedge_leg]\n",
    "\n",
    "                    # Get quantities\n",
    "                    short_qty = qty[primary_leg]\n",
    "                    long_qty = qty[hedge_leg]\n",
    "\n",
    "                    # 1. Calculate P&L for the SHORT leg\n",
    "                    pnl_short = (short_entry_price - short_current) * short_qty\n",
    "\n",
    "                    # 2. Calculate P&L for the LONG leg\n",
    "                    pnl_long = (long_current - long_entry_price) * long_qty\n",
    "\n",
    "                    # 3. Calculate the total combined P&L\n",
    "                    pnl_change = pnl_short + pnl_long\n",
    "                                        \n",
    "                    \n",
    "                    \n",
    "                    if pnl_change <= -30 or pnl_short <= -25:\n",
    "                        \n",
    "                        print(f\"  🚨 STOP-LOSS TRIGGERED for {primary_leg}+{hedge_leg}\")\n",
    "                        print(f\"     Entry short was : ${short_entry_price:.2f}, Current short leg price: ${short_current:.2f}\")\n",
    "                        print(f\"     Entry long was : ${long_entry_price:.2f}, Current short leg price: ${long_current:.2f}\")\n",
    "                        \n",
    "                        print(f\"   Total  Loss: ${pnl_change:.2f}\")\n",
    "\n",
    "                                            # Call the helper function for the SHORT leg\n",
    "                        log_and_close_trade(\n",
    "                            leg_name=primary_leg, \n",
    "                            exit_timestamp=timestamp, \n",
    "                            exit_price=short_current, # Use the askPrice to buy-to-close\n",
    "                            exit_reason='SPREAD_STOP_LOSS', \n",
    "                            state_dicts=state_dictionaries, \n",
    "                            final_trade_log_list=final_trade_log_list\n",
    "                        )\n",
    "                        \n",
    "                        # Call the helper function for the LONG leg\n",
    "                        log_and_close_trade(\n",
    "                            leg_name=hedge_leg, \n",
    "                            exit_timestamp=timestamp, \n",
    "                            exit_price=long_current, # Use the bidPrice to sell-to-close\n",
    "                            exit_reason='SPREAD_STOP_LOSS', \n",
    "                            state_dicts=state_dictionaries, \n",
    "                            final_trade_log_list=final_trade_log_list\n",
    "                        )\n",
    "                        \n",
    "                        # Clean up the spread-specific dictionaries\n",
    "                        del hedge_for_leg[primary_leg]\n",
    "                        del net_premiums[primary_leg]\n",
    "\n",
    "\n",
    "\n",
    "            # --- Part D: Manage EOD Exits ---\n",
    "            if timestamp.time() >= time(15, 45) and is_in_position:\n",
    "                print(f\"  [EOD] Checking positions to close at {timestamp.time()}\")\n",
    "                print(f\"  [EOD] Current positions: {list(is_in_position.keys())}\")\n",
    "                for leg_name in list(is_in_position.keys()):\n",
    "                    side = position_side[leg_name]\n",
    "\n",
    "                                # Get appropriate exit price with multiple fallbacks\n",
    "                    if side == -1:  # Short - buy to close at ask price\n",
    "                        exit_price = (row.get(f\"{leg_name}_askPrice\") or \n",
    "                                    row.get(f\"{leg_name}_close\") or \n",
    "                                    0.01)  # Final fallback\n",
    "                    else:  # Long (hedge) - sell to close at bid price\n",
    "                        exit_price = (row.get(f\"{leg_name}_bidPrice\") or \n",
    "                                    row.get(f\"{leg_name}_close\") or \n",
    "                                    0.01)  # Final fallback\n",
    "                                \n",
    "                    print(f\"  [EOD] Processing {leg_name}: side={side}, price={exit_price}\")\n",
    "                    if pd.notna(exit_price) and exit_price > 0:\n",
    "                        # ▼▼▼ REPLACED with function call ▼▼▼\n",
    "                        log_and_close_trade(leg_name, timestamp, exit_price, 'EOD', state_dictionaries, final_trade_log_list, option_multiplier)\n",
    "                        \n",
    "                        # Clean up any remaining spread-specific state if this was a primary leg\n",
    "                        if leg_name in hedge_for_leg: del hedge_for_leg[leg_name]\n",
    "                        if leg_name in net_premiums: del net_premiums[leg_name]\n",
    "                            # Clear all tracking dictionaries\n",
    "                is_in_position.clear()\n",
    "                position_side.clear()\n",
    "                entry_price.clear()\n",
    "                qty.clear()\n",
    "                entry_timestamp.clear()\n",
    "                bar_count.clear()\n",
    "                entry_spy_price.clear()\n",
    "                has_been_hedged.clear()\n",
    "                hedge_for_leg.clear()\n",
    "                net_premiums.clear()      \n",
    "                        \n",
    "    except Exception as e:\n",
    "        print(f\"  ❌ An error occurred on {day_str}: {e}\")\n",
    "        import traceback\n",
    "        traceback.print_exc()\n",
    "\n",
    "# --- Convert final log to DataFrame ---\n",
    "if final_trade_log_list:\n",
    "    local_trade_log2 = pd.DataFrame(final_trade_log_list)\n",
    "    print(f\"Trading completed. Total trades: {len(local_trade_log2)}\")\n",
    "else:\n",
    "    print(\"No trades were made.\")"
   ]
  },
  {
   "cell_type": "code",
   "execution_count": 50,
   "id": "ec5973d1",
   "metadata": {},
   "outputs": [
    {
     "data": {
      "text/html": [
       "<div>\n",
       "<style scoped>\n",
       "    .dataframe tbody tr th:only-of-type {\n",
       "        vertical-align: middle;\n",
       "    }\n",
       "\n",
       "    .dataframe tbody tr th {\n",
       "        vertical-align: top;\n",
       "    }\n",
       "\n",
       "    .dataframe thead th {\n",
       "        text-align: right;\n",
       "    }\n",
       "</style>\n",
       "<table border=\"1\" class=\"dataframe\">\n",
       "  <thead>\n",
       "    <tr style=\"text-align: right;\">\n",
       "      <th></th>\n",
       "      <th>name</th>\n",
       "      <th>Side</th>\n",
       "      <th>entry_date</th>\n",
       "      <th>entry_price</th>\n",
       "      <th>qty</th>\n",
       "      <th>exit_date</th>\n",
       "      <th>exit_price</th>\n",
       "      <th>profit</th>\n",
       "      <th>bars_held</th>\n",
       "      <th>exit_reason</th>\n",
       "    </tr>\n",
       "  </thead>\n",
       "  <tbody>\n",
       "    <tr>\n",
       "      <th>0</th>\n",
       "      <td>C_478.0_20240111</td>\n",
       "      <td>SELL</td>\n",
       "      <td>2024-01-11 10:00:00</td>\n",
       "      <td>0.50000000</td>\n",
       "      <td>100</td>\n",
       "      <td>2024-01-11 15:45:00</td>\n",
       "      <td>0.01000000</td>\n",
       "      <td>49.00000000</td>\n",
       "      <td>345</td>\n",
       "      <td>EOD</td>\n",
       "    </tr>\n",
       "    <tr>\n",
       "      <th>1</th>\n",
       "      <td>C_480.0_20240112</td>\n",
       "      <td>BUY</td>\n",
       "      <td>2024-01-11 10:04:00</td>\n",
       "      <td>0.30000000</td>\n",
       "      <td>82</td>\n",
       "      <td>2024-01-11 15:45:00</td>\n",
       "      <td>0.13000000</td>\n",
       "      <td>-13.94000000</td>\n",
       "      <td>341</td>\n",
       "      <td>EOD</td>\n",
       "    </tr>\n",
       "    <tr>\n",
       "      <th>2</th>\n",
       "      <td>C_490.0_20240131</td>\n",
       "      <td>SELL</td>\n",
       "      <td>2024-01-31 09:45:00</td>\n",
       "      <td>0.69000000</td>\n",
       "      <td>100</td>\n",
       "      <td>2024-01-31 15:45:00</td>\n",
       "      <td>0.01000000</td>\n",
       "      <td>68.00000000</td>\n",
       "      <td>360</td>\n",
       "      <td>EOD</td>\n",
       "    </tr>\n",
       "    <tr>\n",
       "      <th>3</th>\n",
       "      <td>C_492.0_20240201</td>\n",
       "      <td>BUY</td>\n",
       "      <td>2024-01-31 10:15:00</td>\n",
       "      <td>0.75000000</td>\n",
       "      <td>57</td>\n",
       "      <td>2024-01-31 15:45:00</td>\n",
       "      <td>0.06000000</td>\n",
       "      <td>-39.33000000</td>\n",
       "      <td>330</td>\n",
       "      <td>EOD</td>\n",
       "    </tr>\n",
       "    <tr>\n",
       "      <th>4</th>\n",
       "      <td>C_486.0_20240201</td>\n",
       "      <td>SELL</td>\n",
       "      <td>2024-02-01 10:02:00</td>\n",
       "      <td>0.68000000</td>\n",
       "      <td>100</td>\n",
       "      <td>2024-02-01 10:06:00</td>\n",
       "      <td>0.95000000</td>\n",
       "      <td>-27.00000000</td>\n",
       "      <td>4</td>\n",
       "      <td>SPREAD_STOP_LOSS</td>\n",
       "    </tr>\n",
       "    <tr>\n",
       "      <th>...</th>\n",
       "      <td>...</td>\n",
       "      <td>...</td>\n",
       "      <td>...</td>\n",
       "      <td>...</td>\n",
       "      <td>...</td>\n",
       "      <td>...</td>\n",
       "      <td>...</td>\n",
       "      <td>...</td>\n",
       "      <td>...</td>\n",
       "      <td>...</td>\n",
       "    </tr>\n",
       "    <tr>\n",
       "      <th>281</th>\n",
       "      <td>C_595.0_20241220</td>\n",
       "      <td>BUY</td>\n",
       "      <td>2024-12-19 10:03:00</td>\n",
       "      <td>0.66000000</td>\n",
       "      <td>85</td>\n",
       "      <td>2024-12-19 15:45:00</td>\n",
       "      <td>0.35000000</td>\n",
       "      <td>-26.35000000</td>\n",
       "      <td>342</td>\n",
       "      <td>EOD</td>\n",
       "    </tr>\n",
       "    <tr>\n",
       "      <th>282</th>\n",
       "      <td>C_585.0_20241220</td>\n",
       "      <td>SELL</td>\n",
       "      <td>2024-12-20 09:43:00</td>\n",
       "      <td>1.30000000</td>\n",
       "      <td>100</td>\n",
       "      <td>2024-12-20 10:15:00</td>\n",
       "      <td>1.61000000</td>\n",
       "      <td>-31.00000000</td>\n",
       "      <td>32</td>\n",
       "      <td>SPREAD_STOP_LOSS</td>\n",
       "    </tr>\n",
       "    <tr>\n",
       "      <th>283</th>\n",
       "      <td>C_587.0_20241223</td>\n",
       "      <td>BUY</td>\n",
       "      <td>2024-12-20 09:49:00</td>\n",
       "      <td>1.40000000</td>\n",
       "      <td>48</td>\n",
       "      <td>2024-12-20 10:15:00</td>\n",
       "      <td>2.02000000</td>\n",
       "      <td>29.76000000</td>\n",
       "      <td>26</td>\n",
       "      <td>SPREAD_STOP_LOSS</td>\n",
       "    </tr>\n",
       "    <tr>\n",
       "      <th>284</th>\n",
       "      <td>C_593.0_20241223</td>\n",
       "      <td>SELL</td>\n",
       "      <td>2024-12-23 09:44:00</td>\n",
       "      <td>0.74000000</td>\n",
       "      <td>100</td>\n",
       "      <td>2024-12-23 12:02:00</td>\n",
       "      <td>0.99000000</td>\n",
       "      <td>-25.00000000</td>\n",
       "      <td>138</td>\n",
       "      <td>SPREAD_STOP_LOSS</td>\n",
       "    </tr>\n",
       "    <tr>\n",
       "      <th>285</th>\n",
       "      <td>C_595.0_20241224</td>\n",
       "      <td>BUY</td>\n",
       "      <td>2024-12-23 09:47:00</td>\n",
       "      <td>0.63000000</td>\n",
       "      <td>69</td>\n",
       "      <td>2024-12-23 12:02:00</td>\n",
       "      <td>0.97000000</td>\n",
       "      <td>23.46000000</td>\n",
       "      <td>135</td>\n",
       "      <td>SPREAD_STOP_LOSS</td>\n",
       "    </tr>\n",
       "  </tbody>\n",
       "</table>\n",
       "<p>286 rows × 10 columns</p>\n",
       "</div>"
      ],
      "text/plain": [
       "                 name  Side          entry_date  entry_price  qty  \\\n",
       "0    C_478.0_20240111  SELL 2024-01-11 10:00:00   0.50000000  100   \n",
       "1    C_480.0_20240112   BUY 2024-01-11 10:04:00   0.30000000   82   \n",
       "2    C_490.0_20240131  SELL 2024-01-31 09:45:00   0.69000000  100   \n",
       "3    C_492.0_20240201   BUY 2024-01-31 10:15:00   0.75000000   57   \n",
       "4    C_486.0_20240201  SELL 2024-02-01 10:02:00   0.68000000  100   \n",
       "..                ...   ...                 ...          ...  ...   \n",
       "281  C_595.0_20241220   BUY 2024-12-19 10:03:00   0.66000000   85   \n",
       "282  C_585.0_20241220  SELL 2024-12-20 09:43:00   1.30000000  100   \n",
       "283  C_587.0_20241223   BUY 2024-12-20 09:49:00   1.40000000   48   \n",
       "284  C_593.0_20241223  SELL 2024-12-23 09:44:00   0.74000000  100   \n",
       "285  C_595.0_20241224   BUY 2024-12-23 09:47:00   0.63000000   69   \n",
       "\n",
       "              exit_date  exit_price       profit  bars_held       exit_reason  \n",
       "0   2024-01-11 15:45:00  0.01000000  49.00000000        345               EOD  \n",
       "1   2024-01-11 15:45:00  0.13000000 -13.94000000        341               EOD  \n",
       "2   2024-01-31 15:45:00  0.01000000  68.00000000        360               EOD  \n",
       "3   2024-01-31 15:45:00  0.06000000 -39.33000000        330               EOD  \n",
       "4   2024-02-01 10:06:00  0.95000000 -27.00000000          4  SPREAD_STOP_LOSS  \n",
       "..                  ...         ...          ...        ...               ...  \n",
       "281 2024-12-19 15:45:00  0.35000000 -26.35000000        342               EOD  \n",
       "282 2024-12-20 10:15:00  1.61000000 -31.00000000         32  SPREAD_STOP_LOSS  \n",
       "283 2024-12-20 10:15:00  2.02000000  29.76000000         26  SPREAD_STOP_LOSS  \n",
       "284 2024-12-23 12:02:00  0.99000000 -25.00000000        138  SPREAD_STOP_LOSS  \n",
       "285 2024-12-23 12:02:00  0.97000000  23.46000000        135  SPREAD_STOP_LOSS  \n",
       "\n",
       "[286 rows x 10 columns]"
      ]
     },
     "execution_count": 50,
     "metadata": {},
     "output_type": "execute_result"
    }
   ],
   "source": [
    "local_trade_log2"
   ]
  },
  {
   "cell_type": "code",
   "execution_count": 51,
   "id": "6e9d867a",
   "metadata": {},
   "outputs": [],
   "source": [
    "local_trade_log2 = pd.DataFrame(final_trade_log_list)\n",
    "daily_profits = local_trade_log2.groupby(local_trade_log2['entry_date'].dt.date)['profit'].sum()"
   ]
  },
  {
   "cell_type": "code",
   "execution_count": 52,
   "id": "7ccfc81d",
   "metadata": {},
   "outputs": [
    {
     "name": "stdout",
     "output_type": "stream",
     "text": [
      "Max loss is-89.83999999999997\n",
      "avg profit is loss is2.9565656565656586\n"
     ]
    }
   ],
   "source": [
    "print(f\"Max loss is{daily_profits.min()}\")\n",
    "print(f\"avg profit is loss is{daily_profits.mean()}\")"
   ]
  },
  {
   "cell_type": "code",
   "execution_count": 24,
   "id": "11d8866b",
   "metadata": {},
   "outputs": [
    {
     "data": {
      "text/html": [
       "<div>\n",
       "<style scoped>\n",
       "    .dataframe tbody tr th:only-of-type {\n",
       "        vertical-align: middle;\n",
       "    }\n",
       "\n",
       "    .dataframe tbody tr th {\n",
       "        vertical-align: top;\n",
       "    }\n",
       "\n",
       "    .dataframe thead th {\n",
       "        text-align: right;\n",
       "    }\n",
       "</style>\n",
       "<table border=\"1\" class=\"dataframe\">\n",
       "  <thead>\n",
       "    <tr style=\"text-align: right;\">\n",
       "      <th></th>\n",
       "      <th>name</th>\n",
       "      <th>Side</th>\n",
       "      <th>entry_date</th>\n",
       "      <th>entry_price</th>\n",
       "      <th>qty</th>\n",
       "      <th>exit_date</th>\n",
       "      <th>exit_price</th>\n",
       "      <th>profit</th>\n",
       "      <th>bars_held</th>\n",
       "      <th>exit_reason</th>\n",
       "    </tr>\n",
       "  </thead>\n",
       "  <tbody>\n",
       "    <tr>\n",
       "      <th>0</th>\n",
       "      <td>C_489.0_20240131</td>\n",
       "      <td>SELL</td>\n",
       "      <td>2024-01-31 10:14:00</td>\n",
       "      <td>0.87000000</td>\n",
       "      <td>100</td>\n",
       "      <td>2024-01-31 15:45:00</td>\n",
       "      <td>0.01000000</td>\n",
       "      <td>86.00000000</td>\n",
       "      <td>331</td>\n",
       "      <td>EOD</td>\n",
       "    </tr>\n",
       "    <tr>\n",
       "      <th>1</th>\n",
       "      <td>C_491.0_20240201</td>\n",
       "      <td>BUY</td>\n",
       "      <td>2024-01-31 10:38:00</td>\n",
       "      <td>0.86000000</td>\n",
       "      <td>60</td>\n",
       "      <td>2024-01-31 15:45:00</td>\n",
       "      <td>0.10000000</td>\n",
       "      <td>-45.60000000</td>\n",
       "      <td>307</td>\n",
       "      <td>EOD</td>\n",
       "    </tr>\n",
       "    <tr>\n",
       "      <th>2</th>\n",
       "      <td>C_501.0_20240216</td>\n",
       "      <td>SELL</td>\n",
       "      <td>2024-02-16 10:00:00</td>\n",
       "      <td>0.75000000</td>\n",
       "      <td>100</td>\n",
       "      <td>2024-02-16 10:44:00</td>\n",
       "      <td>1.00000000</td>\n",
       "      <td>-25.00000000</td>\n",
       "      <td>44</td>\n",
       "      <td>SPREAD_STOP_LOSS</td>\n",
       "    </tr>\n",
       "    <tr>\n",
       "      <th>3</th>\n",
       "      <td>C_503.0_20240220</td>\n",
       "      <td>BUY</td>\n",
       "      <td>2024-02-16 10:08:00</td>\n",
       "      <td>0.73000000</td>\n",
       "      <td>95</td>\n",
       "      <td>2024-02-16 10:44:00</td>\n",
       "      <td>0.88000000</td>\n",
       "      <td>14.25000000</td>\n",
       "      <td>36</td>\n",
       "      <td>SPREAD_STOP_LOSS</td>\n",
       "    </tr>\n",
       "    <tr>\n",
       "      <th>4</th>\n",
       "      <td>C_511.0_20240315</td>\n",
       "      <td>SELL</td>\n",
       "      <td>2024-03-15 10:02:00</td>\n",
       "      <td>0.83000000</td>\n",
       "      <td>100</td>\n",
       "      <td>2024-03-15 10:12:00</td>\n",
       "      <td>1.10000000</td>\n",
       "      <td>-27.00000000</td>\n",
       "      <td>10</td>\n",
       "      <td>SPREAD_STOP_LOSS</td>\n",
       "    </tr>\n",
       "    <tr>\n",
       "      <th>...</th>\n",
       "      <td>...</td>\n",
       "      <td>...</td>\n",
       "      <td>...</td>\n",
       "      <td>...</td>\n",
       "      <td>...</td>\n",
       "      <td>...</td>\n",
       "      <td>...</td>\n",
       "      <td>...</td>\n",
       "      <td>...</td>\n",
       "      <td>...</td>\n",
       "    </tr>\n",
       "    <tr>\n",
       "      <th>157</th>\n",
       "      <td>C_594.0_20241220</td>\n",
       "      <td>BUY</td>\n",
       "      <td>2024-12-19 10:07:00</td>\n",
       "      <td>0.79000000</td>\n",
       "      <td>83</td>\n",
       "      <td>2024-12-19 15:45:00</td>\n",
       "      <td>0.45000000</td>\n",
       "      <td>-28.22000000</td>\n",
       "      <td>338</td>\n",
       "      <td>EOD</td>\n",
       "    </tr>\n",
       "    <tr>\n",
       "      <th>158</th>\n",
       "      <td>C_585.0_20241220</td>\n",
       "      <td>SELL</td>\n",
       "      <td>2024-12-20 09:43:00</td>\n",
       "      <td>1.30000000</td>\n",
       "      <td>100</td>\n",
       "      <td>2024-12-20 10:15:00</td>\n",
       "      <td>1.61000000</td>\n",
       "      <td>-31.00000000</td>\n",
       "      <td>32</td>\n",
       "      <td>SPREAD_STOP_LOSS</td>\n",
       "    </tr>\n",
       "    <tr>\n",
       "      <th>159</th>\n",
       "      <td>C_587.0_20241223</td>\n",
       "      <td>BUY</td>\n",
       "      <td>2024-12-20 09:49:00</td>\n",
       "      <td>1.40000000</td>\n",
       "      <td>48</td>\n",
       "      <td>2024-12-20 10:15:00</td>\n",
       "      <td>2.02000000</td>\n",
       "      <td>29.76000000</td>\n",
       "      <td>26</td>\n",
       "      <td>SPREAD_STOP_LOSS</td>\n",
       "    </tr>\n",
       "    <tr>\n",
       "      <th>160</th>\n",
       "      <td>C_592.0_20241223</td>\n",
       "      <td>SELL</td>\n",
       "      <td>2024-12-23 09:47:00</td>\n",
       "      <td>0.88000000</td>\n",
       "      <td>100</td>\n",
       "      <td>2024-12-23 11:48:00</td>\n",
       "      <td>1.14000000</td>\n",
       "      <td>-26.00000000</td>\n",
       "      <td>121</td>\n",
       "      <td>SPREAD_STOP_LOSS</td>\n",
       "    </tr>\n",
       "    <tr>\n",
       "      <th>161</th>\n",
       "      <td>C_594.0_20241224</td>\n",
       "      <td>BUY</td>\n",
       "      <td>2024-12-23 09:53:00</td>\n",
       "      <td>0.76000000</td>\n",
       "      <td>74</td>\n",
       "      <td>2024-12-23 11:48:00</td>\n",
       "      <td>1.07000000</td>\n",
       "      <td>22.94000000</td>\n",
       "      <td>115</td>\n",
       "      <td>SPREAD_STOP_LOSS</td>\n",
       "    </tr>\n",
       "  </tbody>\n",
       "</table>\n",
       "<p>162 rows × 10 columns</p>\n",
       "</div>"
      ],
      "text/plain": [
       "                 name  Side          entry_date  entry_price  qty  \\\n",
       "0    C_489.0_20240131  SELL 2024-01-31 10:14:00   0.87000000  100   \n",
       "1    C_491.0_20240201   BUY 2024-01-31 10:38:00   0.86000000   60   \n",
       "2    C_501.0_20240216  SELL 2024-02-16 10:00:00   0.75000000  100   \n",
       "3    C_503.0_20240220   BUY 2024-02-16 10:08:00   0.73000000   95   \n",
       "4    C_511.0_20240315  SELL 2024-03-15 10:02:00   0.83000000  100   \n",
       "..                ...   ...                 ...          ...  ...   \n",
       "157  C_594.0_20241220   BUY 2024-12-19 10:07:00   0.79000000   83   \n",
       "158  C_585.0_20241220  SELL 2024-12-20 09:43:00   1.30000000  100   \n",
       "159  C_587.0_20241223   BUY 2024-12-20 09:49:00   1.40000000   48   \n",
       "160  C_592.0_20241223  SELL 2024-12-23 09:47:00   0.88000000  100   \n",
       "161  C_594.0_20241224   BUY 2024-12-23 09:53:00   0.76000000   74   \n",
       "\n",
       "              exit_date  exit_price       profit  bars_held       exit_reason  \n",
       "0   2024-01-31 15:45:00  0.01000000  86.00000000        331               EOD  \n",
       "1   2024-01-31 15:45:00  0.10000000 -45.60000000        307               EOD  \n",
       "2   2024-02-16 10:44:00  1.00000000 -25.00000000         44  SPREAD_STOP_LOSS  \n",
       "3   2024-02-16 10:44:00  0.88000000  14.25000000         36  SPREAD_STOP_LOSS  \n",
       "4   2024-03-15 10:12:00  1.10000000 -27.00000000         10  SPREAD_STOP_LOSS  \n",
       "..                  ...         ...          ...        ...               ...  \n",
       "157 2024-12-19 15:45:00  0.45000000 -28.22000000        338               EOD  \n",
       "158 2024-12-20 10:15:00  1.61000000 -31.00000000         32  SPREAD_STOP_LOSS  \n",
       "159 2024-12-20 10:15:00  2.02000000  29.76000000         26  SPREAD_STOP_LOSS  \n",
       "160 2024-12-23 11:48:00  1.14000000 -26.00000000        121  SPREAD_STOP_LOSS  \n",
       "161 2024-12-23 11:48:00  1.07000000  22.94000000        115  SPREAD_STOP_LOSS  \n",
       "\n",
       "[162 rows x 10 columns]"
      ]
     },
     "execution_count": 24,
     "metadata": {},
     "output_type": "execute_result"
    }
   ],
   "source": [
    "local_trade_log2"
   ]
  },
  {
   "cell_type": "code",
   "execution_count": 53,
   "id": "3d076499",
   "metadata": {},
   "outputs": [
    {
     "data": {
      "text/plain": [
       "<Axes: xlabel='entry_date'>"
      ]
     },
     "execution_count": 53,
     "metadata": {},
     "output_type": "execute_result"
    },
    {
     "data": {
      "image/png": "[encoded data removed]",
      "text/plain": [
       "<Figure size 640x480 with 1 Axes>"
      ]
     },
     "metadata": {},
     "output_type": "display_data"
    }
   ],
   "source": [
    "daily_profits.cumsum().plot()"
   ]
  },
  {
   "cell_type": "code",
   "execution_count": null,
   "id": "7fa44b6e",
   "metadata": {},
   "outputs": [],
   "source": [
    "daily_profits.mean()"
   ]
  },
  {
   "cell_type": "code",
   "execution_count": null,
   "id": "92305ca1",
   "metadata": {},
   "outputs": [],
   "source": [
    "import pandas as pd\n",
    "from io import StringIO\n",
    "\n",
    "def analyze_trading_day_summary(trade_log_df, total_business_days):\n",
    "    \"\"\"\n",
    "    Analyzes a trade log and provides a full summary of trading day types\n",
    "    including counts and percentages of the total business days in a period.\n",
    "\n",
    "    Args:\n",
    "        trade_log_df (pd.DataFrame): The DataFrame containing trade history.\n",
    "        total_business_days (int): The total number of business days in the period.\n",
    "\n",
    "    Returns:\n",
    "        pd.DataFrame: A formatted summary table of the analysis.\n",
    "    \"\"\"\n",
    "    # Ensure the entry_date is a datetime object\n",
    "    df = trade_log_df.copy()\n",
    "    df['entry_date'] = pd.to_datetime(df['entry_date'])\n",
    "    \n",
    "    # --- Part 1: Analyze the traded days ---\n",
    "    daily_status_df = df.groupby(df['entry_date'].dt.date).agg(\n",
    "        sides_traded=('Side', lambda x: set(x))\n",
    "    )\n",
    "    daily_status_df['Status'] = daily_status_df['sides_traded'].apply(\n",
    "        lambda sides: 'Hedged' if 'BUY' in sides and 'SELL' in sides else 'Naked/Not Hedged'\n",
    "    )\n",
    "    status_counts = daily_status_df['Status'].value_counts()\n",
    "    \n",
    "    # --- Part 2: Calculate all categories ---\n",
    "    hedged_days = status_counts.get('Hedged', 0)\n",
    "    naked_days = status_counts.get('Naked/Not Hedged', 0)\n",
    "    total_traded_days = hedged_days + naked_days\n",
    "    non_traded_days = total_business_days - total_traded_days\n",
    "\n",
    "    # --- Part 3: Create and format the final summary table ---\n",
    "    summary_data = {\n",
    "        'Category': ['Hedged Days', 'Naked Days (Not Hedged)', 'Total Days Traded', 'Non-Traded Days', 'Total Business Days (Approx.)'],\n",
    "        'Count': [hedged_days, naked_days, total_traded_days, non_traded_days, total_business_days]\n",
    "    }\n",
    "    final_summary = pd.DataFrame(summary_data)\n",
    "    \n",
    "    # Calculate percentages\n",
    "    final_summary['Percentage'] = (final_summary['Count'] / total_business_days * 100).map('{:.2f}%'.format)\n",
    "    \n",
    "    return final_summary\n"
   ]
  },
  {
   "cell_type": "code",
   "execution_count": null,
   "id": "501fecf0",
   "metadata": {},
   "outputs": [],
   "source": [
    "analyze_trading_day_summary(local_trade_log2 , 252)"
   ]
  },
  {
   "cell_type": "code",
   "execution_count": null,
   "id": "f0dc0b49",
   "metadata": {},
   "outputs": [],
   "source": []
  },
  {
   "cell_type": "code",
   "execution_count": null,
   "id": "cb44c490",
   "metadata": {},
   "outputs": [],
   "source": [
    "local_trade_log2"
   ]
  },
  {
   "cell_type": "code",
   "execution_count": null,
   "id": "df3ca389",
   "metadata": {},
   "outputs": [],
   "source": [
    "daily_profits = local_trade_log2.groupby(local_trade_log2['entry_date'].dt.date)['profit'].sum()"
   ]
  },
  {
   "cell_type": "code",
   "execution_count": null,
   "id": "ccdb8978",
   "metadata": {},
   "outputs": [],
   "source": [
    "daily_profits.cumsum().plot()"
   ]
  },
  {
   "cell_type": "code",
   "execution_count": null,
   "id": "f5345f69",
   "metadata": {},
   "outputs": [],
   "source": [
    "if 'entry_date' in local_trade_log2.columns:\n",
    "\n",
    "    local_trade_log2.set_index('entry_date' , inplace=True)\n",
    "\n",
    "    local_trade_log2.sort_index( ascending=True, inplace=True)\n",
    "\n",
    "if 'exit_date' in local_trade_log2.columns:\n",
    "    local_trade_log2['exit_date'] = pd.to_datetime(local_trade_log2['exit_date'])\n",
    "\n",
    "# Calculate the absolute percentage difference between entry and exit prices\n",
    "local_trade_log2['price_change_pct'] = (local_trade_log2['exit_price'] - local_trade_log2['entry_price']).abs() / local_trade_log2['entry_price']\n",
    "\n",
    "# Count trades before filtering\n",
    "trades_before_filtering = len(local_trade_log2)\n",
    "\n",
    "average_trade_profit = local_trade_log2['profit'].mean()\n",
    "\n",
    "# First ensure consistent case for Side column\n",
    "local_trade_log2['Side'] = local_trade_log2['Side'].str.lower()\n",
    "\n",
    "# Calculate profit in bps (handles both buy/long and sell/short)\n",
    "local_trade_log2['profit_bps'] = np.where(\n",
    "    local_trade_log2['Side'].isin(['buy', 'long']),\n",
    "    ((local_trade_log2['exit_price'] - local_trade_log2['entry_price']) / local_trade_log2['entry_price']) * 10000,\n",
    "    ((local_trade_log2['entry_price'] - local_trade_log2['exit_price']) / local_trade_log2['entry_price']) * 10000)\n",
    "\n",
    "# open_positions = list(long_position_count.values())\n",
    "# print(f\"Max open long positions are: {np.max(open_positions)}\")\n",
    "\n",
    "# open__short_positions = list(short_position_count.values())\n",
    "# print(f\"Max open shrt positions are: {np.max(open__short_positions)}\")\n",
    "\n",
    "total_trade_count = len(local_trade_log2)\n",
    "max_entries_per_day = local_trade_log2.groupby(local_trade_log2.index.date).size().max()\n",
    "\n",
    "# Identify losing trades and percentage\n",
    "\n",
    "losers = local_trade_log2[local_trade_log2['profit'] < 0]\n",
    "num_losing_trades = len(losers)\n",
    "losers_percentage = (num_losing_trades / total_trade_count) * 100 if total_trade_count > 0 else 0\n",
    "\n",
    "winners = local_trade_log2[local_trade_log2['profit'] > 0]\n",
    "\n",
    "# 1. Create a pandas Series from your PnL data\n",
    "pnl_series = pd.Series(total_pnl_series)\n",
    "\n",
    "# 2. Find the minimum value in the series\n",
    "max_unrealized_loss = pnl_series.min()\n",
    "\n",
    "print(f\"The highest unrealized loss (minimum PnL) was: ${max_unrealized_loss:,.2f}\")\n",
    "\n",
    "# Updated side checks throughout\n",
    "num_long_trades = len(local_trade_log2[local_trade_log2['Side'].isin(['buy', 'long'])])\n",
    "num_short_trades = len(local_trade_log2[local_trade_log2['Side'].isin(['sell', 'short'])])\n",
    "print(f\"Number of long trades: {num_long_trades} and short trades: {num_short_trades} out of total trades: {total_trade_count}\")\n",
    "\n",
    "# Updated profit calculations\n",
    "avg_long_profit_bps = local_trade_log2[local_trade_log2['Side'].isin(['buy', 'long'])]['profit_bps'].mean()\n",
    "avg_short_profit_bps = local_trade_log2[local_trade_log2['Side'].isin(['sell', 'short'])]['profit_bps'].mean()\n",
    "print(f\"Average long trade profit: {avg_long_profit_bps:.2f} bps and short: {avg_short_profit_bps:.2f} bps\")\n",
    "\n",
    "profit_total_long = local_trade_log2[local_trade_log2['Side'].isin(['buy', 'long'])]['profit'].sum()\n",
    "profit_total_short = local_trade_log2[local_trade_log2['Side'].isin(['sell', 'short'])]['profit'].sum()\n",
    "print(f\"Net long profit: {profit_total_long:.2f} and short profit: {profit_total_short:.2f}\")\n",
    "\n",
    "# Compute holding period\n",
    "local_trade_log2['holding_days'] = (local_trade_log2['exit_date'] - local_trade_log2.index).dt.days\n",
    "\n",
    "# Compute equity curve (EC)\n",
    "local_trade_log2['EC'] = (position_cap*100) + local_trade_log2['profit'].cumsum()\n",
    "\n",
    "#============================================\n",
    "\n",
    "# The index should be the 'exit_date' because that's when the equity changes\n",
    "equity_at_exit = pd.Series(data=local_trade_log2['EC'].values, index=pd.to_datetime(local_trade_log2['exit_date']))\n",
    "\n",
    "print(f\"Equity at exit is : {equity_at_exit}\")\n",
    "\n",
    "# Print average trade profit\n",
    "print(f\"Average Trade Profit: {average_trade_profit:.2f}\")\n",
    "\n",
    "# Print profit in basis points (bps)\n",
    "print(\"Profit (bps) for each trade:\")\n",
    "print(f\"Avergae trade profit in bps : {local_trade_log2['profit_bps'].mean()}\" )\n",
    "\n",
    "# Print total trade count\n",
    "print(f\"Total Trade Count: {total_trade_count}\")\n",
    "\n",
    "# Print max entries per day\n",
    "print(f\"Max Entries Per Day: {max_entries_per_day}\")\n",
    "\n",
    "# Print number of losing trades\n",
    "print(f\"Number of Losing Trades: {num_losing_trades}\")\n",
    "\n",
    "print(f\"Losing Trades Percentage: {losers_percentage:.2f}%\")\n",
    "\n",
    "# Print holding period\n",
    "print(\"Avg Holding Period in (Days) :\")\n",
    "print(local_trade_log2['holding_days'].mean())\n",
    "\n",
    "# Add: Number of trades with loss greater than 10% (i.e. -1000 bps)\n",
    "loss_threshold_bps = -1000  # -10%\n",
    "deep_losers = local_trade_log2[local_trade_log2['profit_bps'] < loss_threshold_bps]\n",
    "num_deep_losers = len(deep_losers)\n",
    "\n",
    "print(f\"Number of Losing Trades > 10% Loss: {num_deep_losers}\")\n",
    "\n",
    "# Add: Average loss of all losing trades\n",
    "avg_losing_trade = losers['profit'].mean()\n",
    "print(f\"Average Loss per Losing Trade: {avg_losing_trade:.4f}\")\n",
    "\n",
    "# Calculate average profit percentage (in % terms)\n",
    "average_profit_percent = local_trade_log2['profit'].mean() / position_cap * 100\n",
    "print(f\"\\nAverage Profit Percentage per Trade: {average_profit_percent:.2f}%\")\n",
    "\n",
    "# Calculate Trade Expectancy (in monetary terms)\n",
    "win_rate = len(winners) / total_trade_count\n",
    "avg_win = winners['profit'].mean()\n",
    "avg_loss = losers['profit'].mean()\n",
    "trade_expectancy = (win_rate * avg_win) - ((1 - win_rate) * abs(avg_loss))\n",
    "print(f\"Trade Expectancy: ${trade_expectancy:.2f} per trade\")\n",
    "\n",
    "# Calculate Risk-Adjusted Metrics\n",
    "risk_reward_ratio = abs(avg_win / avg_loss) if avg_loss != 0 else float('inf')\n",
    "print(f\"Risk-Reward Ratio: {risk_reward_ratio:.2f}:1\")\n",
    "\n",
    "\n",
    "# Add: Average loss of all losing trades\n",
    "avg_winning_trade = winners['profit'].mean()\n",
    "print(f\"Average Loss per Losing Trade: {avg_winning_trade:.4f}\")\n",
    "\n",
    "\n",
    "abs_profit_df =  pd.DataFrame()\n",
    "for symbol , data in absolute_symbol_pnl_series.items():\n",
    "\n",
    "    tdf = pd.DataFrame(data , columns=['timestamp' , symbol])\n",
    "    tdf.set_index('timestamp' , inplace=True)\n",
    "\n",
    "    # Reindex to match df_index, filling missing values with 0\n",
    "    abs_profit_df[symbol] = tdf.reindex(com_df2.index, fill_value=0)\n",
    "\n",
    "max_unrealised_drawdown = abs_profit_df.sum(axis=1).min()\n",
    "print(f\"Max unrealised loss ( which is unrealised drawdown on notional) is {max_unrealised_drawdown}\")\n",
    "\n",
    "\n",
    "# Long/Short specific metrics\n",
    "# Update all calculations to use the new condition\n",
    "long_trades = local_trade_log2[local_trade_log2['Side'].isin(['buy', 'long'])]\n",
    "short_trades = local_trade_log2[local_trade_log2['Side'].isin(['sell', 'short'])]\n",
    "\n",
    "num_long_trades = len(long_trades)\n",
    "num_short_trades = len(short_trades)\n",
    "\n",
    "# Profit metrics\n",
    "avg_long_profit_bps = long_trades['profit_bps'].mean()\n",
    "avg_short_profit_bps = short_trades['profit_bps'].mean()\n",
    "profit_total_long = long_trades['profit'].sum()\n",
    "profit_total_short = short_trades['profit'].sum()\n",
    "\n",
    "# Win/loss metrics\n",
    "def calculate_consecutive_wins_losses(trades):\n",
    "    trades = trades.sort_index()\n",
    "    consecutive = []\n",
    "    current_streak = 0\n",
    "    prev_result = None\n",
    "\n",
    "    for profit in trades['profit']:\n",
    "        current_result = 'win' if profit > 0 else 'loss'\n",
    "        if current_result == prev_result or prev_result is None:\n",
    "            current_streak += 1\n",
    "        else:\n",
    "            consecutive.append((prev_result, current_streak))\n",
    "            current_streak = 1\n",
    "        prev_result = current_result\n",
    "\n",
    "    if current_streak > 0:\n",
    "        consecutive.append((prev_result, current_streak))\n",
    "\n",
    "    return pd.DataFrame(consecutive, columns=['type', 'length'])\n",
    "\n",
    "# Calculate for long and short separately\n",
    "long_consecutive = calculate_consecutive_wins_losses(long_trades)\n",
    "short_consecutive = calculate_consecutive_wins_losses(short_trades)\n",
    "\n",
    "def print_streak_stats(name, df):\n",
    "    if len(df) > 0:\n",
    "        max_win_streak = df[df['type'] == 'win']['length'].max()\n",
    "        max_loss_streak = df[df['type'] == 'loss']['length'].max()\n",
    "        avg_win_streak = df[df['type'] == 'win']['length'].mean()\n",
    "        avg_loss_streak = df[df['type'] == 'loss']['length'].mean()\n",
    "        print(f\"\\n{name} Streaks:\")\n",
    "        print(f\"Max Winning Streak: {max_win_streak}\")\n",
    "        print(f\"Max Losing Streak: {max_loss_streak}\")\n",
    "        print(f\"Avg Winning Streak: {avg_win_streak:.1f}\")\n",
    "        print(f\"Avg Losing Streak: {avg_loss_streak:.1f}\")\n",
    "\n",
    "print_streak_stats(\"Long\", long_consecutive)\n",
    "print_streak_stats(\"Short\", short_consecutive)\n",
    "\n",
    "# Winning ratios\n",
    "long_winners = len(long_trades[long_trades['profit'] > 0])\n",
    "short_winners = len(short_trades[short_trades['profit'] > 0])\n",
    "\n",
    "long_win_ratio = long_winners / num_long_trades if num_long_trades > 0 else 0\n",
    "short_win_ratio = short_winners / num_short_trades if num_short_trades > 0 else 0\n",
    "\n",
    "print(f\"\\nLong Trades Win Ratio: {long_win_ratio:.2%}\")\n",
    "print(f\"\\nShort Trades Win Ratio: {short_win_ratio:.2%}\")\n",
    "\n",
    "# Print all metrics\n",
    "print(\"\\n==========================================\")\n",
    "print(f\"Number of long trades: {num_long_trades}\")\n",
    "print(f\"Number of short trades: {num_short_trades}\")\n",
    "print(f\"Total trades: {total_trade_count}\")\n",
    "\n",
    "print(f\"\\nAverage long trade profit: {avg_long_profit_bps:.2f} bps\")\n",
    "print(f\"Average short trade profit: {avg_short_profit_bps:.2f} bps\")\n",
    "print(f\"Net long profit: {profit_total_long:.2f}\")\n",
    "print(f\"Net short profit: {profit_total_short:.2f}\")\n",
    "\n",
    "import matplotlib.pyplot as plt\n",
    "\n",
    "# Scatter plot of trades\n",
    "plt.figure(figsize=(12, 6))\n",
    "\n",
    "# X-axis: trade index (or entry date if you want timeline)\n",
    "x = range(len(local_trade_log2))\n",
    "\n",
    "# Y-axis: profit\n",
    "y = local_trade_log2['profit']\n",
    "\n",
    "# Scatter: green for winners, red for losers\n",
    "colors = ['green' if p > 0 else 'red' for p in y]\n",
    "\n",
    "plt.scatter(x, y, c=colors, alpha=0.7, edgecolors='k')\n",
    "\n",
    "# Add horizontal line at 0 (break-even)\n",
    "plt.axhline(0, color='black', linestyle='--', linewidth=1)\n",
    "\n",
    "plt.title(\"Scatter of Trade Profits\")\n",
    "plt.xlabel(\"Trade Index\")\n",
    "plt.ylabel(\"Profit ($)\")\n",
    "plt.show()\n",
    "\n",
    "\n",
    "\n",
    "from IPython.display import HTML\n",
    "import matplotlib.pyplot as plt\n",
    "import base64\n",
    "from io import BytesIO\n",
    "\n",
    "# Create equity curve plot\n",
    "plt.figure(figsize=(10, 6))\n",
    "local_trade_log2['EC'].plot(title='Equity Curve', grid=True)\n",
    "plt.ylabel('Portfolio Value')\n",
    "plt.tight_layout()\n",
    "\n",
    "# Save plot to temporary buffer\n",
    "buffer = BytesIO()\n",
    "plt.savefig(buffer, format='png')\n",
    "plt.close()\n",
    "plot_data = base64.b64encode(buffer.getvalue()).decode('utf-8')\n",
    "\n",
    "\n",
    "#=== symbols specific\n",
    "\n",
    "# 2. Group by the symbol name and calculate the sum of profits for each.\n",
    "symbol_profits = local_trade_log2.groupby('name')['profit'].sum()\n",
    "\n",
    "# Display the total profit for each symbol\n",
    "print(\"--- Total Profit per Symbol ---\")\n",
    "print(symbol_profits)\n",
    "\n",
    "\n",
    "# 3. Sort the results to easily find the best and worst.\n",
    "sorted_symbols = symbol_profits.sort_values(ascending=False)\n",
    "\n",
    "\n",
    "# 4. Extract the best and worst symbols from the sorted list.\n",
    "# The best symbol is the first item (index 0).\n",
    "best_symbol = sorted_symbols.index[0]\n",
    "best_profit = sorted_symbols.iloc[0]\n",
    "\n",
    "# The worst symbol is the last item (index -1).\n",
    "worst_symbol = sorted_symbols.index[-1]\n",
    "worst_loss = sorted_symbols.iloc[-1]\n",
    "\n",
    "\n",
    "# 3. Sort the profits in ASCENDING order.\n",
    "#    This places the symbols with the largest losses at the top.\n",
    "sorted_by_loss = symbol_profits.sort_values(ascending=True)\n",
    "\n",
    "\n",
    "# 4. Select the first 10 rows from the sorted list using .head(10).\n",
    "worst_10_symbols = sorted_by_loss.head(10)\n",
    "\n",
    "\n",
    "# 5. Print the final result.\n",
    "print(\"--- 10 Worst Performing Symbols (by Total Profit) ---\")\n",
    "print(worst_10_symbols)\n",
    "\n",
    "#======================================\n",
    "\n",
    "\n",
    "\n",
    "# --- NEW: Calculate and print the additional statistics ---\n",
    "\n",
    "# Count the number of symbols with negative total profit (losers)\n",
    "num_loss_making_symbols = (symbol_profits <= 0).sum()\n",
    "\n",
    "# Count the number of symbols with positive total profit (winners)\n",
    "num_profit_making_symbols = (symbol_profits > 0).sum()\n",
    "\n",
    "# Calculate the ratio of losers to winners\n",
    "# Add a check to prevent division by zero if there are no winners\n",
    "if num_profit_making_symbols > 0:\n",
    "    loss_to_profit_ratio = num_loss_making_symbols / num_profit_making_symbols\n",
    "else:\n",
    "    loss_to_profit_ratio = float('inf') # Indicate infinite ratio if no winners\n",
    "\n",
    "# Print the new stats\n",
    "print(\"\\n--- Symbol Profit/Loss Summary ---\")\n",
    "print(f\"Number of Profit-Making Symbols: {num_profit_making_symbols}\")\n",
    "print(f\"Number of Loss-Making Symbols:   {num_loss_making_symbols}\")\n",
    "print(f\"Ratio of Loss-Makers to Profit-Makers: {loss_to_profit_ratio:.2f}\")\n",
    "\n",
    "\n",
    "\n",
    "\n",
    "def find_max_daily_gmv(trade_log):\n",
    "\n",
    "    \"\"\"\n",
    "    Calculates the maximum and mean Gross Merchandise Value (GMV) on a single day\n",
    "    from a trade log DataFrame. The mean calculation accounts for all days in the\n",
    "    period, including non-trading days.\n",
    "\n",
    "    Args:\n",
    "        trade_log (pd.DataFrame): DataFrame containing the trade log. \n",
    "                                  Index must be a datetime object ('entry_date').\n",
    "                                  Must contain 'entry_price', 'exit_price', \n",
    "                                  'qty', and 'exit_date' columns.\n",
    "\n",
    "    Returns:\n",
    "        tuple: A tuple containing the max_gmv_value and the mean_gmv_value.\n",
    "    \"\"\"\n",
    "\n",
    "    # Calculate the total value of each entry and exit transaction\n",
    "    trade_log['entry_value'] = trade_log['entry_price'] * trade_log['qty']\n",
    "    trade_log['exit_value'] = trade_log['exit_price'] * trade_log['qty']\n",
    "\n",
    "    # Group all entry values by their calendar day and sum them up\n",
    "    daily_entries = trade_log.groupby(trade_log.index.date)['entry_value'].sum()\n",
    "\n",
    "    # Group all exit values by their calendar day and sum them up\n",
    "    # CORRECTED: Group exits by 'exit_date', not the index ('entry_date')\n",
    "    daily_exits = trade_log.groupby(trade_log['exit_date'].dt.date)['exit_value'].sum()\n",
    "\n",
    "    # Combine the daily entry and exit sums to get the total GMV for each day\n",
    "    # This series only contains days where a trade occurred.\n",
    "    daily_gmv = daily_entries.add(daily_exits, fill_value=0)\n",
    "\n",
    "    # Find the maximum value. This can be done before reindexing for efficiency.\n",
    "    if daily_gmv.empty:\n",
    "        return 0, 0\n",
    "    max_gmv_value = daily_gmv.max()\n",
    "\n",
    "    # --- MODIFICATION TO ACCOUNT FOR NON-TRADING DAYS ---\n",
    "\n",
    "    # 1. Determine the full date range of the backtest period.\n",
    "    #    We use the earliest entry and latest exit to define the period.\n",
    "    start_date = trade_log.index.min().date()\n",
    "    end_date = trade_log['exit_date'].max().date()\n",
    "    all_days_in_period = pd.date_range(start=start_date, end=end_date, freq='D')\n",
    "\n",
    "    # 2. Reindex the 'daily_gmv' Series to include all days.\n",
    "    #    This assigns a GMV of 0 to all non-trading days.\n",
    "    daily_gmv = daily_gmv.reindex(all_days_in_period, fill_value=0)\n",
    "    \n",
    "    # --- END OF MODIFICATION ---\n",
    "\n",
    "    # Now, this calculation correctly finds the mean over the entire period.\n",
    "    mean_gmv_value = daily_gmv.mean()\n",
    "\n",
    "    return max_gmv_value, mean_gmv_value\n",
    "\n",
    "\n",
    "max_gmv , mean_gmv = find_max_daily_gmv(local_trade_log2)\n",
    "\n",
    "print(f\"Average daily GMV is {mean_gmv}\")\n",
    "print(f\"Max daily gmv is {max_gmv}\")\n",
    "\n",
    "\n",
    "print(f\"Return on average GMV is {local_trade_log2['profit'].sum()/mean_gmv}\")\n",
    "print(f\"Return on average GMV is {local_trade_log2['profit'].sum()/max_gmv}\")\n",
    "\n",
    "\n",
    "\n",
    "# Create HTML report\n",
    "html_report = f\"\"\"\n",
    "<!DOCTYPE html>\n",
    "<html>\n",
    "<head>\n",
    "    <title>Backtest Performance Report</title>\n",
    "    <style>\n",
    "        body {{ font-family: Arial, sans-serif; margin: 20px; }}\n",
    "        h1 {{ color: #2c3e50; border-bottom: 2px solid #3498db; }}\n",
    "        h2 {{ color: #2980b9; }}\n",
    "        .metric-container {{ display: flex; flex-wrap: wrap; gap: 20px; }}\n",
    "        .metric-card {{\n",
    "            background: #f8f9fa;\n",
    "            border: 1px solid #dee2e6;\n",
    "            border-radius: 5px;\n",
    "            padding: 15px;\n",
    "            flex: 1 1 300px;\n",
    "            box-shadow: 0 2px 4px rgba(0,0,0,0.1);\n",
    "        }}\n",
    "        .metric-title {{ font-weight: bold; color: #2c3e50; }}\n",
    "        .metric-value {{ font-size: 1.2em; color: #27ae60; }}\n",
    "        .negative {{ color: #e74c3c; }}\n",
    "        .plot-container {{ margin: 30px 0; text-align: center; }}\n",
    "        table {{ width: 100%; border-collapse: collapse; margin: 20px 0; }}\n",
    "        th, td {{ padding: 10px; text-align: left; border-bottom: 1px solid #ddd; }}\n",
    "        th {{ background-color: #3498db; color: white; }}\n",
    "        tr:nth-child(even) {{ background-color: #f2f2f2; }}\n",
    "    </style>\n",
    "</head>\n",
    "<body>\n",
    "    <h1>Strategy Backtest Performance Report</h1>\n",
    "\n",
    "    <div class=\"plot-container\">\n",
    "        <h2>Equity Curve</h2>\n",
    "        <img src=\"data:image/png;base64,{plot_data}\" alt=\"Equity Curve\">\n",
    "    </div>\n",
    "\n",
    "    <h2>Key Performance Metrics</h2>\n",
    "    <div class=\"metric-container\">\n",
    "        <div class=\"metric-card\">\n",
    "            <div class=\"metric-title\">Total Trades</div>\n",
    "            <div class=\"metric-value\">{total_trade_count:,}</div>\n",
    "        </div>\n",
    "        <div class=\"metric-card\">\n",
    "            <div class=\"metric-title\">Win Rate</div>\n",
    "            <div class=\"metric-value\">{100 - losers_percentage:.1f}%</div>\n",
    "        </div>\n",
    "        <div class=\"metric-card\">\n",
    "            <div class=\"metric-title\">Average Trade Profit</div>\n",
    "            <div class=\"metric-value\">${average_trade_profit:,.2f}</div>\n",
    "        </div>\n",
    "        <div class=\"metric-card\">\n",
    "            <div class=\"metric-title\">Trade Expectancy</div>\n",
    "            <div class=\"metric-value\">${trade_expectancy:,.2f}</div>\n",
    "        </div>\n",
    "        <div class=\"metric-card\">\n",
    "            <div class=\"metric-title\">Risk-Reward Ratio</div>\n",
    "            <div class=\"metric-value\">{risk_reward_ratio:.2f}:1</div>\n",
    "        </div>\n",
    "        <div class=\"metric-card\">\n",
    "            <div class=\"metric-title\">Max Drawdown</div>\n",
    "            <div class=\"metric-value negative\">${max_unrealised_drawdown:,.2f}</div>\n",
    "        </div>\n",
    "    </div>\n",
    "\n",
    "    <h2>Long/Short Breakdown</h2>\n",
    "    <table>\n",
    "        <tr>\n",
    "            <th>Metric</th>\n",
    "            <th>Long Trades</th>\n",
    "            <th>Short Trades</th>\n",
    "        </tr>\n",
    "        <tr>\n",
    "            <td>Count</td>\n",
    "            <td>{num_long_trades:,}</td>\n",
    "            <td>{num_short_trades:,}</td>\n",
    "        </tr>\n",
    "        <tr>\n",
    "            <td>Win Rate</td>\n",
    "            <td>{long_win_ratio:.1%}</td>\n",
    "            <td>{short_win_ratio:.1%}</td>\n",
    "        </tr>\n",
    "        <tr>\n",
    "            <td>Avg Profit (bps)</td>\n",
    "            <td>{avg_long_profit_bps:.1f}</td>\n",
    "            <td>{avg_short_profit_bps:.1f}</td>\n",
    "        </tr>\n",
    "        <tr>\n",
    "            <td>Total Profit</td>\n",
    "            <td>${profit_total_long:,.2f}</td>\n",
    "            <td>${profit_total_short:,.2f}</td>\n",
    "        </tr>\n",
    "        <tr>\n",
    "            <td>Max Win Streak</td>\n",
    "            <td>{long_consecutive[long_consecutive['type']=='win']['length'].max() if len(long_consecutive) > 0 else 0}</td>\n",
    "            <td>{short_consecutive[short_consecutive['type']=='win']['length'].max() if len(short_consecutive) > 0 else 0}</td>\n",
    "        </tr>\n",
    "        <tr>\n",
    "            <td>Max Loss Streak</td>\n",
    "            <td>{long_consecutive[long_consecutive['type']=='loss']['length'].max() if len(long_consecutive) > 0 else 0}</td>\n",
    "            <td>{short_consecutive[short_consecutive['type']=='loss']['length'].max() if len(short_consecutive) > 0 else 0}</td>\n",
    "        </tr>\n",
    "    </table>\n",
    "\n",
    "    <h2>Position Sizing</h2>\n",
    "    <div class=\"metric-container\">\n",
    "        \n",
    "        <div class=\"metric-card\">\n",
    "            <div class=\"metric-title\">Max Entries Per Day</div>\n",
    "            <div class=\"metric-value\">{max_entries_per_day}</div>\n",
    "        </div>\n",
    "    </div>\n",
    "\n",
    "    <h2>Trade Duration</h2>\n",
    "    <div class=\"metric-container\">\n",
    "        <div class=\"metric-card\">\n",
    "            <div class=\"metric-title\">Avg Holding Days</div>\n",
    "            <div class=\"metric-value\">{local_trade_log2['holding_days'].mean():.1f}</div>\n",
    "        </div>\n",
    "    </div>\n",
    "</body>\n",
    "</html>\n",
    "\"\"\"\n",
    "\n",
    "# Display the report\n",
    "HTML(html_report)\n",
    "\n",
    "# To save the report to a file\n",
    "with open('Nasdaq_Vol_stocks.html', 'w') as f:\n",
    "    f.write(html_report)\n",
    "\n",
    "local_trade_log2.to_csv(\"Nasdaq_TL.csv\", index=True)\n",
    "\n",
    "# Convert total_pnl_series dict (timestamp → pnl) into DataFrame\n",
    "mtm_equity_df = pd.DataFrame(list(total_pnl_series.items()), columns=[\"timestamp\", \"MTM_PnL\"])\n",
    "\n",
    "# Sort by timestamp (important to keep the curve ordered)\n",
    "mtm_equity_df.sort_values(\"timestamp\", inplace=True)\n",
    "\n",
    "# Add equity column: starting capital + cumulative PnL\n",
    "mtm_equity_df[\"Equity\"] = intial_capital + mtm_equity_df[\"MTM_PnL\"].cumsum()\n",
    "\n",
    "# Set timestamp as index for convenience\n",
    "mtm_equity_df.set_index(\"timestamp\", inplace=True)\n",
    "\n",
    "# Define full path\n",
    "mtm_equity_file = os.path.join(trades_strategy_folder, \"MTM_equity.csv\")\n",
    "\n",
    "# Save to CSV\n",
    "mtm_equity_df.to_csv(mtm_equity_file)\n",
    "\n",
    "print(f\"✅ MTM equity curve saved at: {mtm_equity_file}\")\n",
    "\n",
    "\n",
    "for symbol, data in absolute_symbol_pnl_series.items():\n",
    "    if not data:\n",
    "        print(f\"No data for {symbol}, skipping.\")\n",
    "        continue\n",
    "    try:\n",
    "        tdf = pd.DataFrame(data, columns=['timestamp', 'pnl_absolute'])\n",
    "        tdf.set_index('timestamp', inplace=True)\n",
    "        file_path = os.path.join(df_folder, f\"{symbol}_pnl.csv\")\n",
    "        tdf.to_csv(file_path)\n",
    "        print(f\"Successfully saved {file_path}\")\n",
    "    except Exception as e:\n",
    "        print(f\"Error processing {symbol}: {e}\")\n",
    "\n",
    "\n",
    "import quantstats as qs\n",
    "qs.extend_pandas()\n",
    "\n",
    "qs.reports.basic(local_trade_log2['EC'])\n",
    "\n",
    "# --- 2. Plotting the 'EC' column ---\n",
    "plt.figure(figsize=(12, 6)) # Optional: Adjust the figure size\n",
    "\n",
    "local_trade_log2['EC'].plot(grid=True) # The main plotting command\n",
    "\n",
    "# --- 3. Add labels and a title for clarity ---\n",
    "plt.title('EC Over Time')\n",
    "plt.xlabel('Date')\n",
    "plt.ylabel('EC Value')\n",
    "\n",
    "# --- 4. Display the plot ---\n",
    "plt.show()\n"
   ]
  },
  {
   "cell_type": "code",
   "execution_count": null,
   "id": "aa2ef8cb",
   "metadata": {},
   "outputs": [],
   "source": []
  },
  {
   "cell_type": "code",
   "execution_count": null,
   "id": "632dea27",
   "metadata": {},
   "outputs": [],
   "source": []
  },
  {
   "cell_type": "code",
   "execution_count": null,
   "id": "75f4dc2e",
   "metadata": {},
   "outputs": [],
   "source": [
    "# 2. Drop any duplicate rows, keeping the first occurrence\n",
    "results_df = results_df.between_time('9:31' , '16:00')\n",
    "results_df2 = results_df.rename(columns={'stockPrice': 'SPY_close'})\n",
    "results_df2 = results_df2.drop_duplicates(keep='first')\n",
    "results_df3 = results_df2[~results_df2.index.duplicated(keep='first')]"
   ]
  },
  {
   "cell_type": "code",
   "execution_count": null,
   "id": "6234f973",
   "metadata": {},
   "outputs": [],
   "source": []
  },
  {
   "cell_type": "code",
   "execution_count": null,
   "id": "12a127e6",
   "metadata": {},
   "outputs": [],
   "source": [
    "def fetch_atm_option_at_timestamp(con, ticker: str, timestamp: pd.Timestamp, option_type: int):\n",
    "    \"\"\"\n",
    "    Fetches specific data for the single, most At-The-Money (ATM) option contract \n",
    "    with DTE=1 at a specific timestamp.\n",
    "\n",
    "    Args:\n",
    "        con: The DuckDB connection object.\n",
    "        ticker (str): The stock ticker (e.g., 'SPY').\n",
    "        timestamp (pd.Timestamp): The specific timestamp to query (assumed to be in UTC).\n",
    "        option_type (int): The option type (1 for Calls, -1 for Puts).\n",
    "\n",
    "    Returns:\n",
    "        pd.DataFrame: A DataFrame with a single row containing the requested columns.\n",
    "    \"\"\"\n",
    "    try:\n",
    "        # Format the UTC timestamp for the query\n",
    "        utc_timestamp_str = timestamp.strftime('%Y-%m-%d %H:%M:%S')\n",
    "        date_str = timestamp.strftime('%Y-%m-%d')\n",
    "\n",
    "        query = f\"\"\"\n",
    "            WITH RankedOptions AS (\n",
    "                SELECT ts, strike, expiry, close, bidPrice, dte, optionType ,\n",
    "                    ROW_NUMBER() OVER(\n",
    "                        ORDER BY ABS(strike - stockPrice) ASC\n",
    "                    ) as atm_rank\n",
    "                FROM read_parquet('s3://duckdata/ORATS/Options/ticker={ticker}/day={date_str}/*.parquet')\n",
    "                WHERE \n",
    "                    ts = '{utc_timestamp_str}' AND\n",
    "                    dte = 1 AND\n",
    "                    optionType = {option_type}\n",
    "            )\n",
    "            -- VVV THIS LINE IS CHANGED VVV --\n",
    "            SELECT \n",
    "                ts, strike, expiry, stockPrice, ticker\n",
    "            FROM RankedOptions\n",
    "            WHERE atm_rank = 1;\n",
    "        \"\"\"\n",
    "        \n",
    "        option_data = con.execute(query).df()\n",
    "        return option_data\n",
    "\n",
    "    except Exception as e:\n",
    "        print(f\"An error occurred: {e}\")\n",
    "        return pd.DataFrame()"
   ]
  },
  {
   "cell_type": "code",
   "execution_count": null,
   "id": "8061b02f",
   "metadata": {},
   "outputs": [],
   "source": []
  },
  {
   "cell_type": "code",
   "execution_count": null,
   "id": "250bae62",
   "metadata": {},
   "outputs": [],
   "source": []
  },
  {
   "cell_type": "code",
   "execution_count": null,
   "id": "a64ec0d2",
   "metadata": {},
   "outputs": [],
   "source": [
    "\n",
    "# Create a sample UTC timestamp (US market open)\n",
    "example_utc_ts = pd.Timestamp('2024-04-12 14:30:00')\n",
    "\n",
    "# Call the function to find the most ATM DTE=1 Call at that exact minute\n",
    "atm_call_data = fetch_atm_option_at_timestamp(\n",
    "    con=con,\n",
    "    ticker='SPY',\n",
    "    timestamp=example_utc_ts,\n",
    "    option_type=1  # 1 for Call\n",
    ")\n",
    "\n",
    "if not atm_call_data.empty:\n",
    "    print(\"\\n--- Found Most ATM DTE=1 Call ---\")\n",
    "    print(atm_call_data)"
   ]
  },
  {
   "cell_type": "code",
   "execution_count": null,
   "id": "74979d08",
   "metadata": {},
   "outputs": [],
   "source": [
    "# 2. Group by date and side to calculate profits\n",
    "# .unstack() pivots the 'Side' into separate columns\n",
    "daily_profits_by_side = local_trade_log2.groupby([local_trade_log2['entry_date'].dt.date, 'Side'])['profit'].sum().unstack(fill_value=0)\n",
    "\n",
    "# 3. Calculate total and cumulative profits\n",
    "daily_summary = daily_profits_by_side.sum(axis=1).rename('Total_Profit')\n",
    "daily_summary = pd.concat([daily_profits_by_side, daily_summary], axis=1)\n",
    "daily_summary['Cumulative_PnL'] = daily_summary['Total_Profit'].cumsum()\n",
    "\n",
    "# Convert index to simple strings for plotting to avoid date formatting issues\n",
    "daily_summary.index = pd.to_datetime(daily_summary.index).strftime('%Y-%m-%d')\n",
    "\n",
    "print(\"## Daily Profit and Loss Summary\")\n",
    "print(daily_summary)\n",
    "\n",
    "# 4. Plotting\n",
    "plt.style.use('seaborn-v0_8-whitegrid')\n",
    "\n",
    "# --- Plot 1: Daily & Cumulative PnL ---\n",
    "fig1, ax1 = plt.subplots(figsize=(10, 6))\n",
    "\n",
    "# Bar chart for daily total profit\n",
    "colors = ['g' if x >= 0 else 'r' for x in daily_summary['Total_Profit']]\n",
    "ax1.bar(daily_summary.index, daily_summary['Total_Profit'], color=colors, alpha=0.7, label='Daily PnL')\n",
    "ax1.set_ylabel('Daily Profit/Loss ($)')\n",
    "ax1.set_title('Daily and Cumulative Profit & Loss')\n",
    "ax1.tick_params(axis='x', rotation=45)\n",
    "\n",
    "# Line chart for cumulative PnL on a secondary y-axis\n",
    "ax2 = ax1.twinx()\n",
    "ax2.plot(daily_summary.index, daily_summary['Cumulative_PnL'], color='b', marker='o', linestyle='-', label='Cumulative PnL')\n",
    "ax2.set_ylabel('Cumulative Profit/Loss ($)')\n",
    "\n",
    "# Combine legends from both axes\n",
    "lines, labels = ax1.get_legend_handles_labels()\n",
    "lines2, labels2 = ax2.get_legend_handles_labels()\n",
    "ax2.legend(lines + lines2, labels + labels2, loc='upper left')\n",
    "\n",
    "plt.tight_layout()\n",
    "plt.savefig('daily_and_cumulative_pnl.png')\n",
    "plt.show()\n",
    "\n",
    "\n",
    "# --- Plot 2: Daily PnL by Side ---\n",
    "fig2, ax = plt.subplots(figsize=(10, 6))\n",
    "daily_summary[['BUY', 'SELL']].plot(kind='bar', ax=ax, stacked=False, color=['#2ca02c', '#d62728'])\n",
    "ax.set_title('Daily PnL by Trade Side (Buy vs. Sell)')\n",
    "ax.set_ylabel('Profit/Loss ($)')\n",
    "ax.set_xlabel('Date')\n",
    "ax.tick_params(axis='x', rotation=0)\n",
    "plt.axhline(0, color='black', linewidth=0.8)\n",
    "plt.tight_layout()\n",
    "plt.savefig('pnl_by_side.png')\n",
    "plt.show()"
   ]
  },
  {
   "cell_type": "code",
   "execution_count": null,
   "id": "5a3a0b70",
   "metadata": {},
   "outputs": [],
   "source": [
    "local_trade_log2"
   ]
  },
  {
   "cell_type": "code",
   "execution_count": null,
   "id": "8dc42ba5",
   "metadata": {},
   "outputs": [],
   "source": [
    "\n",
    "# 2. Group by date and side to calculate profits\n",
    "# .unstack() pivots the 'Side' into separate columns\n",
    "daily_profits_by_side = local_trade_log2.groupby([local_trade_log2['entry_date'].dt.date, 'Side'])['profit'].sum().unstack(fill_value=0)\n"
   ]
  }
 ],
 "metadata": {
  "kernelspec": {
   "display_name": "base",
   "language": "python",
   "name": "python3"
  },
  "language_info": {
   "codemirror_mode": {
    "name": "ipython",
    "version": 3
   },
   "file_extension": ".py",
   "mimetype": "text/x-python",
   "name": "python",
   "nbconvert_exporter": "python",
   "pygments_lexer": "ipython3",
   "version": "3.12.7"
  }
 },
 "nbformat": 4,
 "nbformat_minor": 5
}
