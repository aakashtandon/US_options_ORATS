{
 "cells": [
  {
   "cell_type": "code",
   "execution_count": 1,
   "id": "4ed31a8e",
   "metadata": {},
   "outputs": [],
   "source": [
    "import pandas as pd\n",
    "import numpy as np\n",
    "import gzip\n",
    "import os\n",
    "import datetime\n",
    "import pandas as pd\n",
    "import calendar\n",
    "import numpy as np\n",
    "import glob\n",
    "import sys\n",
    "import gc\n",
    "import re\n",
    "#import quantstats as qs\n",
    "import time\n",
    "\n",
    "import matplotlib.pyplot as plt\n",
    "\n",
    "import nest_asyncio # install this package to avoid running in loop\n",
    "\n",
    "import urllib\n",
    "import pandas_ta as ta\n",
    "\n",
    "import warnings\n",
    "\n",
    "import requests\n",
    "\n",
    "import hmac\n",
    "import hashlib\n",
    "\n",
    "import aiohttp\n",
    "import asyncio\n",
    "\n",
    "import logging\n",
    "from datetime import timezone\n",
    "\n",
    "import nest_asyncio\n",
    "\n",
    "# Filter depreciation warnings from pandas regarding the append method\n",
    "warnings.filterwarnings('ignore', category=FutureWarning, message=\".*append.*\")\n",
    "pd.options.mode.chained_assignment = None\n",
    "\n",
    "# Set pandas to display all digits for floating-point numbers\n",
    "pd.options.display.float_format = '{:.8f}'.format\n",
    "\n",
    "import os\n",
    "from dotenv import load_dotenv\n",
    "\n",
    "import warnings\n",
    "warnings.simplefilter(action='ignore', category=pd.errors.PerformanceWarning)\n",
    "\n",
    "# Ignore only FutureWarning\n",
    "warnings.filterwarnings('ignore', category=FutureWarning)\n",
    "\n",
    "# Ignore only RuntimeWarning\n",
    "warnings.filterwarnings('ignore', category=RuntimeWarning)\n",
    "\n",
    "import importlib\n",
    "\n",
    "\n",
    "from Orats_options_fetch_functions import *\n",
    "\n",
    "from faster_numba_strategy_functions import *\n",
    "\n",
    "import strategy_functions\n",
    "\n",
    "importlib.reload(strategy_functions)\n",
    "from strategy_functions import *\n",
    "\n",
    "# import Common_functions\n",
    "\n",
    "# importlib.reload(strategy_functions)\n",
    "# importlib.reload(Common_functions)\n",
    "\n",
    "# from Common_functions import *\n",
    "# coin_desk_api_key =  \"e43c1fd991e660b9bf959645f0800bb7e76fb4a3537ab773cec62b2fad31af2d\"\n",
    "from datetime import time\n",
    "from pathlib import Path\n",
    "# Get the user's home directory dynamically\n",
    "home_dir = Path.home()\n",
    "#====================================\n",
    "\n",
    "strategy_name = \"Straddle_0DTE\"\n",
    "\n",
    "# Create a folder for the strategy_name if it doesn't exist in home directory\n",
    "\n",
    "strategy_folder = os.path.join(home_dir, strategy_name)\n",
    "if not os.path.exists(strategy_folder):\n",
    "    os.makedirs(strategy_folder)\n",
    "\n",
    "# Create the full path to the output file. this file contains all the trades\n",
    "\n",
    "output_all_trades_file = os.path.join(strategy_folder, f\"All_trades_{strategy_name}.csv\")\n",
    "trade_html_file = os.path.join(strategy_folder, f\"Trade_stats_{strategy_name}.html\")\n",
    "\n",
    "#=== location to store the trade dataframe for debug\n",
    "\n",
    "base_folder_df = \"strategy_dataframe\"\n",
    "df_folder = os.path.join(strategy_folder, base_folder_df)\n",
    "if not os.path.exists(df_folder):\n",
    "    os.makedirs(df_folder)\n",
    "    print(\"\\n Created strategy dataframe folder : \" ,df_folder )\n",
    "\n",
    "#----- symbol_wise_trades\n",
    "\n",
    "trades_folder = \"sym_wise_trades\"\n",
    "trades_strategy_folder = os.path.join(strategy_folder, trades_folder)\n",
    "\n",
    "if not os.path.exists(trades_strategy_folder):\n",
    "    print(\"\\n Making folder for symbol wise trades of strategy\" , trades_strategy_folder)\n",
    "    os.makedirs(trades_strategy_folder)\n",
    "\n",
    "logger = setup_logger(\"Straddle_0DTE\", strategy_folder, log_file=\"strategy.log\" , to_console=False)\n"
   ]
  },
  {
   "cell_type": "code",
   "execution_count": 2,
   "id": "c3577bdf",
   "metadata": {},
   "outputs": [
    {
     "name": "stdout",
     "output_type": "stream",
     "text": [
      "Querying data from: s3://duckdata/ORATS/Options/**/*.parquet\n"
     ]
    },
    {
     "data": {
      "application/vnd.jupyter.widget-view+json": {
       "model_id": "8657beddb2f840a0ac85a0e0d065645c",
       "version_major": 2,
       "version_minor": 0
      },
      "text/plain": [
       "FloatProgress(value=0.0, layout=Layout(width='auto'), style=ProgressStyle(bar_color='black'))"
      ]
     },
     "metadata": {},
     "output_type": "display_data"
    },
    {
     "name": "stdout",
     "output_type": "stream",
     "text": [
      "\n",
      "✅ Query successful! First 5 rows of data:\n",
      "      expiry       strike  dte  optionType                  ts         low  \\\n",
      "0 2024-01-26 421.00000000   25          -1 2024-01-02 17:13:00 17.18000000   \n",
      "1 2024-01-12 414.00000000   11          -1 2024-01-02 17:13:00 10.41500000   \n",
      "\n",
      "         high        open       close     volume  ...      askSize  \\\n",
      "0 17.18000000 17.18000000 17.18000000 0.00000000  ...  50.00000000   \n",
      "1 10.41500000 10.41500000 10.41500000 0.00000000  ... 151.00000000   \n",
      "\n",
      "     bidPrice    askPrice      bidIv      askIv         iv          oi  \\\n",
      "0 17.12000000 17.24000000 0.13785700 0.14511500 0.14148600 15.00000000   \n",
      "1 10.34000000 10.49000000 0.14267100 0.15199600 0.14733300 54.00000000   \n",
      "\n",
      "    stockPrice        day ticker  \n",
      "0 404.00000000 2024-01-02    QQQ  \n",
      "1 404.00000000 2024-01-02    QQQ  \n",
      "\n",
      "[2 rows x 21 columns]\n"
     ]
    }
   ],
   "source": [
    "import duckdb\n",
    "import pandas as pd\n",
    "import matplotlib.pyplot as plt\n",
    "\n",
    "# Connect to an in-memory database\n",
    "con = duckdb.connect()\n",
    "\n",
    "# --- Your setup code (which is correct) ---\n",
    "con.execute(\"INSTALL httpfs;\")\n",
    "con.execute(\"LOAD httpfs;\")\n",
    "con.execute(\"\"\"\n",
    "SET s3_endpoint='122.176.133.73:9000';\n",
    "SET s3_use_ssl=false;\n",
    "SET s3_access_key_id='minioadmin';\n",
    "SET s3_secret_access_key='minioadmin';\n",
    "\"\"\")\n",
    "con.execute(\"SET s3_url_style='path';\") \n",
    "con.execute(\"PRAGMA threads=8;\")\n",
    "con.execute(\"PRAGMA enable_object_cache;\")\n",
    "\n",
    "# --- THE MISSING STEP: Querying a file from S3 ---\n",
    "# Replace with your actual S3 bucket and file path\n",
    "# This can be a .parquet, .csv, or .json file\n",
    "s3_file_path = 's3://duckdata/ORATS/Options/**/*.parquet'\n",
    "\n",
    "try:\n",
    "    # Execute a query on the S3 file and fetch the result as a Pandas DataFrame\n",
    "    print(f\"Querying data from: {s3_file_path}\")\n",
    "    df = con.execute(f\"\"\"\n",
    "        SELECT *\n",
    "        FROM '{s3_file_path}'\n",
    "        LIMIT 2;\n",
    "    \"\"\").df()\n",
    "\n",
    "    print(\"\\n✅ Query successful! First 5 rows of data:\")\n",
    "    print(df.head())\n",
    "\n",
    "except Exception as e:\n",
    "    print(f\"\\n❌ An error occurred during the query: {e}\")\n",
    "\n",
    "# finally:\n",
    "#     # It's good practice to close the connection\n",
    "#     con.close()"
   ]
  },
  {
   "cell_type": "code",
   "execution_count": 7,
   "id": "d9f08aea",
   "metadata": {},
   "outputs": [
    {
     "data": {
      "text/html": [
       "<div>\n",
       "<style scoped>\n",
       "    .dataframe tbody tr th:only-of-type {\n",
       "        vertical-align: middle;\n",
       "    }\n",
       "\n",
       "    .dataframe tbody tr th {\n",
       "        vertical-align: top;\n",
       "    }\n",
       "\n",
       "    .dataframe thead th {\n",
       "        text-align: right;\n",
       "    }\n",
       "</style>\n",
       "<table border=\"1\" class=\"dataframe\">\n",
       "  <thead>\n",
       "    <tr style=\"text-align: right;\">\n",
       "      <th></th>\n",
       "      <th>timestamp</th>\n",
       "      <th>SPY_close</th>\n",
       "    </tr>\n",
       "  </thead>\n",
       "  <tbody>\n",
       "    <tr>\n",
       "      <th>0</th>\n",
       "      <td>2024-01-02 09:31:00</td>\n",
       "      <td>472.44000000</td>\n",
       "    </tr>\n",
       "    <tr>\n",
       "      <th>1</th>\n",
       "      <td>2024-01-02 09:32:00</td>\n",
       "      <td>472.63000000</td>\n",
       "    </tr>\n",
       "    <tr>\n",
       "      <th>2</th>\n",
       "      <td>2024-01-02 09:33:00</td>\n",
       "      <td>472.78000000</td>\n",
       "    </tr>\n",
       "    <tr>\n",
       "      <th>3</th>\n",
       "      <td>2024-01-02 09:34:00</td>\n",
       "      <td>472.68000000</td>\n",
       "    </tr>\n",
       "    <tr>\n",
       "      <th>4</th>\n",
       "      <td>2024-01-02 09:35:00</td>\n",
       "      <td>472.62000000</td>\n",
       "    </tr>\n",
       "    <tr>\n",
       "      <th>...</th>\n",
       "      <td>...</td>\n",
       "      <td>...</td>\n",
       "    </tr>\n",
       "    <tr>\n",
       "      <th>94266</th>\n",
       "      <td>2024-12-24 12:56:00</td>\n",
       "      <td>600.60000000</td>\n",
       "    </tr>\n",
       "    <tr>\n",
       "      <th>94267</th>\n",
       "      <td>2024-12-24 12:57:00</td>\n",
       "      <td>600.75000000</td>\n",
       "    </tr>\n",
       "    <tr>\n",
       "      <th>94268</th>\n",
       "      <td>2024-12-24 12:58:00</td>\n",
       "      <td>600.98000000</td>\n",
       "    </tr>\n",
       "    <tr>\n",
       "      <th>94269</th>\n",
       "      <td>2024-12-24 12:59:00</td>\n",
       "      <td>600.96000000</td>\n",
       "    </tr>\n",
       "    <tr>\n",
       "      <th>94270</th>\n",
       "      <td>2024-12-24 13:00:00</td>\n",
       "      <td>601.06000000</td>\n",
       "    </tr>\n",
       "  </tbody>\n",
       "</table>\n",
       "<p>94271 rows × 2 columns</p>\n",
       "</div>"
      ],
      "text/plain": [
       "                 timestamp    SPY_close\n",
       "0      2024-01-02 09:31:00 472.44000000\n",
       "1      2024-01-02 09:32:00 472.63000000\n",
       "2      2024-01-02 09:33:00 472.78000000\n",
       "3      2024-01-02 09:34:00 472.68000000\n",
       "4      2024-01-02 09:35:00 472.62000000\n",
       "...                    ...          ...\n",
       "94266  2024-12-24 12:56:00 600.60000000\n",
       "94267  2024-12-24 12:57:00 600.75000000\n",
       "94268  2024-12-24 12:58:00 600.98000000\n",
       "94269  2024-12-24 12:59:00 600.96000000\n",
       "94270  2024-12-24 13:00:00 601.06000000\n",
       "\n",
       "[94271 rows x 2 columns]"
      ]
     },
     "execution_count": 7,
     "metadata": {},
     "output_type": "execute_result"
    }
   ],
   "source": [
    "com_df2"
   ]
  },
  {
   "cell_type": "code",
   "execution_count": 15,
   "id": "a2673b38",
   "metadata": {},
   "outputs": [
    {
     "name": "stdout",
     "output_type": "stream",
     "text": [
      "Total symbols found after all filtering:  2\n",
      "Calculating 3-day MA for 2 symbols...\n"
     ]
    }
   ],
   "source": [
    "\n",
    "\n",
    "ifol = r\"C:\\Data\\Aggregate_Data\\Options\\USA\\Raw_SPY_1min_2024_2025_ORATS_close.parquet\"\n",
    "#== read the RELIANCE data\n",
    "\n",
    "com_df2 = pd.read_parquet(ifol)\n",
    "\n",
    "if 'timestamp' in com_df2.columns:\n",
    "    com_df2['timestamp'] = pd.to_datetime(com_df2['timestamp'])\n",
    "    com_df2.set_index('timestamp', inplace=True)\n",
    "\n",
    "com_df2 = com_df2[~com_df2.index.duplicated(keep='first')]\n",
    "\n",
    "com_df2.dropna(how='all', inplace=True)\n",
    "\n",
    "vix_df = pd.read_parquet(r\"C:\\Data\\Aggregate_Data\\VIX_1_min_2019_2025.parquet\")\n",
    "com_df2 = com_df2.join(vix_df)\n",
    "\n",
    "\n",
    "final_symbols = com_df2.filter(like='close').columns.str.replace('_close', '')\n",
    "print(\"Total symbols found after all filtering: \", len(final_symbols))\n",
    "\n",
    "# Calculate the number of rows in the DataFrame\n",
    "\n",
    "com_df2[[f\"{symbol}_intraday_low\" for symbol in final_symbols]] =com_df2[[f\"{symbol}_close\" for symbol in final_symbols]].apply(lambda x: intraday_low(com_df2, low_col=x.name,agg_func='min'))\n",
    "\n",
    "com_df2[[f\"{symbol}_intraday_high\" for symbol in final_symbols]] =com_df2[[f\"{symbol}_close\" for symbol in final_symbols]].apply(lambda x: intraday_high(com_df2, high_col=x.name,agg_func='max'))\n",
    "\n",
    "com_df2[[f\"{symbol}_todayo\" for symbol in final_symbols]] = com_df2[[f'{symbol}_close' for symbol in final_symbols]].resample('D').transform('first')\n",
    "\n",
    "# com_df2[[f\"{symbol}_daily_ROC\" for symbol in final_symbols]] = com_df2[[f\"{symbol}_close\" for symbol in final_symbols]].pct_change(periods=50)\n",
    "\n",
    "# com_df2[[f\"{symbol}_ROC\" for symbol in final_symbols]] = com_df2[[f\"{symbol}_close\" for symbol in final_symbols]].pct_change()\n",
    "\n",
    "# com_df2[[f\"{symbol}_ROC_4\" for symbol in final_symbols]] = com_df2[[f\"{symbol}_close\" for symbol in final_symbols]].pct_change(periods=4)\n",
    "\n",
    "com_df2[[f\"{symbol}_prevdayl\" for symbol in final_symbols]] = com_df2[[f\"{symbol}_close\" for symbol in final_symbols]].apply(lambda x: get_x_day_low_numba(com_df2, n=1, column=x.name))\n",
    "\n",
    "com_df2[[f\"{symbol}_prevdayh\" for symbol in final_symbols]] = com_df2[[f\"{symbol}_close\" for symbol in final_symbols]].apply(lambda x: get_x_day_high_numba(com_df2, n=1, column=x.name))\n",
    "\n",
    "com_df2[[f\"{symbol}_secdayh\" for symbol in final_symbols]] = com_df2[[f\"{symbol}_close\" for symbol in final_symbols]].apply(lambda x: get_x_day_high_numba(com_df2, n=2, column=x.name))\n",
    "\n",
    "\n",
    "# This single call does it for the 20-day MA\n",
    "ma_20d_df = calculate_daily_ma_vectorized(df=com_df2, symbols=final_symbols, periods=3 , agg_func='last' , col_suffix='close')\n",
    "\n",
    "    # Join the new features back to the main DataFrame\n",
    "com_df2 = pd.concat([com_df2, ma_20d_df] , axis=1 , join='outer')\n",
    "\n",
    "\n",
    "com_df2[[f\"{symbol}_ma\" for symbol in final_symbols]] = com_df2[[f\"{symbol}_close\" for symbol in final_symbols]].rolling(2).mean()\n",
    "com_df2[[f\"{symbol}_high5\" for symbol in final_symbols]] = com_df2[[f\"{symbol}_close\" for symbol in final_symbols]].rolling(15).max()\n",
    "com_df2[[f\"{symbol}_low5\" for symbol in final_symbols]] = com_df2[[f\"{symbol}_close\" for symbol in final_symbols]].rolling(15).min()\n",
    "\n",
    "com_df2[[f\"{symbol}_ROC_15\" for symbol in final_symbols]] = com_df2[[f\"{symbol}_ma\" for symbol in final_symbols]].pct_change(periods=15)\n",
    "\n",
    "\n",
    "#com_df2[[f\"{symbol}_ma_3d_low\" for symbol in final_symbols]] = com_df2[[f\"{symbol}_ma\" for symbol in final_symbols]].values / com_df2[[f\"{symbol}_3d_MA\" for symbol in final_symbols]].values\n",
    "\n",
    "com_df2[[f\"{symbol}_prevdayc\" for symbol in final_symbols]] = com_df2[[f\"{symbol}_close\" for symbol in final_symbols]].apply(lambda x: calculate_prev_day_close(com_df2, close_col=x.name, n_days=1))\n",
    "\n",
    "com_df2[[f\"{symbol}_secdayc\" for symbol in final_symbols]] = com_df2[[f\"{symbol}_close\" for symbol in final_symbols]].apply(lambda x: calculate_prev_day_close(com_df2, close_col=x.name, n_days=2))\n",
    "\n",
    "\n",
    "# #=== hourly volume\n",
    "# com_df2[[f\"{symbol}_vol_ma\" for symbol in final_symbols]] = com_df2[[f\"{symbol}_volume\" for symbol in final_symbols]].rolling(4).mean()\n",
    "\n",
    "# #==avg 3 day volume\n",
    "\n",
    "# com_df2[[f\"{symbol}_3d_vol_MA\" for symbol in final_symbols]] = com_df2[[f\"{symbol}_volume\" for symbol in final_symbols]].apply(lambda x: daily_moving_average(com_df2, timeframe='1D', column=x.name, periods=3, agg_func='last'))\n",
    "\n",
    "com_df2[[f\"{symbol}_ma2_low\" for symbol in final_symbols]] = com_df2[[f\"{symbol}_close\" for symbol in final_symbols]].rolling(5).mean()\n",
    "\n",
    "com_df2[[f\"{symbol}_3dlow\" for symbol in final_symbols]] = com_df2[[f\"{symbol}_ma2_low\" for symbol in final_symbols]].apply(lambda x: get_x_day_low_numba(com_df2, n=3, column=x.name))\n",
    "\n",
    "com_df2[[f\"{symbol}_3dhigh\" for symbol in final_symbols]] = com_df2[[f\"{symbol}_ma2_low\" for symbol in final_symbols]].apply(lambda x: get_x_day_high_numba(com_df2, n=3, column=x.name))\n",
    "\n",
    "\n",
    "\n",
    "# 1. Get the lists of column names\n",
    "high_3d_cols = [f\"{symbol}_3dhigh\" for symbol in final_symbols]\n",
    "low_3d_cols = [f\"{symbol}_3dlow\" for symbol in final_symbols]\n",
    "\n",
    "# 2. Perform the calculation on NumPy arrays\n",
    "range_values = (com_df2[high_3d_cols].values / com_df2[low_3d_cols].values) - 1\n",
    "\n",
    "# 3. Create a new DataFrame from the results\n",
    "# This is the key step to avoid the error.\n",
    "range_cols = [f\"{symbol}_3d_rng\" for symbol in final_symbols]\n",
    "range_df = pd.DataFrame(range_values, index=com_df2.index, columns=range_cols)\n",
    "\n",
    "# 4. Join the new DataFrame back to the main one\n",
    "com_df2 = com_df2.join(range_df)\n",
    "\n",
    "\n",
    "\n",
    "# # Calculate highest high of last 4 bars\n",
    "# com_df2[[f\"{symbol}_high_4bar\" for symbol in final_symbols]] = com_df2[[f\"{symbol}_close\" for symbol in final_symbols]].rolling(10).max()\n",
    "\n",
    "# # Calculate lowest low of last 4 bars\n",
    "# com_df2[[f\"{symbol}_low_4bar\" for symbol in final_symbols]] = com_df2[[f\"{symbol}_close\" for symbol in final_symbols]].rolling(10).min()\n",
    "\n",
    "# # 1. Get the lists of column names\n",
    "# high_cols = [f\"{symbol}_high_4bar\" for symbol in final_symbols]\n",
    "# low_cols = [f\"{symbol}_low_4bar\" for symbol in final_symbols]\n",
    "\n",
    "# # 2. Perform the calculation on the NumPy arrays\n",
    "# range_values = com_df2[high_cols].values - com_df2[low_cols].values\n",
    "\n",
    "# # 3. Create a new DataFrame from the result (This is the key step)\n",
    "# range_cols = [f\"{symbol}_range_4bar\" for symbol in final_symbols]\n",
    "# range_df = pd.DataFrame(range_values, index=com_df2.index, columns=range_cols)\n",
    "\n",
    "# # 4. Join the new DataFrame back to the main one\n",
    "# com_df2 = com_df2.join(range_df)\n",
    "\n",
    "\n",
    "# # Calculate mean range (average of the 4-bar ranges)\n",
    "# com_df2[[f\"{symbol}_mean_range_4bar\" for symbol in final_symbols]] = com_df2[[f\"{symbol}_range_4bar\" for symbol in final_symbols]].rolling(12).mean()\n",
    "\n",
    "\n",
    "# gc.collect()\n",
    "\n",
    "# for symbol in final_symbols:\n",
    "\n",
    "   \n",
    "#     com_df2[f'{symbol}_iATR2'] = com_df2[f\"{symbol}_ATR\"].values / com_df2[f\"{symbol}_close\"].values\n",
    "\n",
    "\n",
    "# 1. Define the column groups\n",
    "close_cols = [f\"{symbol}_close\" for symbol in final_symbols]\n",
    "low_3d_cols = [f\"{symbol}_3dlow\" for symbol in final_symbols]\n",
    "high_3d_cols = [f\"{symbol}_3dhigh\" for symbol in final_symbols]\n",
    "\n",
    "# 2. Perform the calculation in a more chained and memory-conscious way\n",
    "# Using .to_numpy(dtype=np.float32) can cut memory usage by 50%\n",
    "numerator = com_df2[close_cols].to_numpy(dtype=np.float32) - com_df2[low_3d_cols].to_numpy(dtype=np.float32)\n",
    "denominator = com_df2[high_3d_cols].to_numpy(dtype=np.float32) - com_df2[low_3d_cols].to_numpy(dtype=np.float32)\n",
    "\n",
    "# np.divide handles division by zero safely\n",
    "percentile_values = np.divide(numerator, denominator, where=denominator != 0)\n",
    "\n",
    "# 3. Create the new feature DataFrame\n",
    "pctl_cols = [f\"{symbol}_3d_Pctl\" for symbol in final_symbols]\n",
    "percentile_df = pd.DataFrame(percentile_values, index=com_df2.index, columns=pctl_cols)\n",
    "\n",
    "# 4. Clip values and join back (same as your code)\n",
    "percentile_df = percentile_df.clip(0, 1)\n",
    "com_df2 = com_df2.join(percentile_df)\n",
    "\n",
    "com_df2['decent'] = np.where((com_df2['SPY_todayo'] < com_df2['SPY_prevdayc'] * 1.01) & (com_df2['SPY_todayo'] > com_df2['SPY_prevdayc'] * 0.99), 1, 0)\n",
    "com_df = com_df2[com_df2['decent']==1]\n",
    "com_df = com_df[com_df.index.year>=2024]"
   ]
  },
  {
   "cell_type": "code",
   "execution_count": 14,
   "id": "dab70bf1",
   "metadata": {},
   "outputs": [
    {
     "data": {
      "text/plain": [
       "Index(['SPY', 'VIX'], dtype='object')"
      ]
     },
     "execution_count": 14,
     "metadata": {},
     "output_type": "execute_result"
    }
   ],
   "source": [
    "final_symbols"
   ]
  },
  {
   "cell_type": "code",
   "execution_count": 4,
   "id": "5821ca64",
   "metadata": {},
   "outputs": [],
   "source": [
    "def fetch_atm_options_for_dataframe(con, ticker, com_df, price_col='SPY_close'):\n",
    "    \"\"\"\n",
    "    Efficiently fetches the closest ATM call and put for every row in a DataFrame.\n",
    "    \"\"\"\n",
    "    print(f\"🚀 Preparing to fetch ATM options for {len(com_df)} timestamps...\")\n",
    "    \n",
    "    try:\n",
    "        # --- DATA PREPARATION ---\n",
    "        timestamps_to_query = com_df.reset_index()\n",
    "        timestamps_to_query = timestamps_to_query[['index', price_col]]\n",
    "        timestamps_to_query.rename(columns={'index': 'ts', price_col: 'ref_price'}, inplace=True)\n",
    "\n",
    "        # --- THE FIX IS HERE: Add the missing timezone handling ---\n",
    "        # 1. Check if the timestamp column is naive or aware\n",
    "        if timestamps_to_query['ts'].dt.tz is None:\n",
    "            # If naive, localize to NY first\n",
    "            aware_timestamps = timestamps_to_query['ts'].dt.tz_localize('America/New_York')\n",
    "        else:\n",
    "            # If already aware, just use it\n",
    "            aware_timestamps = timestamps_to_query['ts']\n",
    "            \n",
    "        # 2. Create the 'ts_utc' column needed for the fast JOIN\n",
    "        timestamps_to_query['ts_utc'] = aware_timestamps.dt.tz_convert('UTC')\n",
    "        \n",
    "        # 3. Add other necessary columns for filtering\n",
    "        timestamps_to_query['expiry_str'] = (aware_timestamps).dt.strftime('%Y-%m-%d')\n",
    "        print(f\"Timestamps are:{timestamps_to_query}\")\n",
    "        # --- Path generation (your existing code is correct) ---\n",
    "        unique_days = timestamps_to_query['ts'].dt.strftime('%Y-%m-%d').unique()\n",
    "        path_list = [f\"'s3://duckdata/ORATS/Options/ticker={ticker}/day={d}/*.parquet'\" for d in unique_days]\n",
    "        paths_str = \", \".join(path_list)\n",
    "        \n",
    "        con.register('timestamps_to_query', timestamps_to_query)\n",
    "\n",
    "        # (Your query follows, it will now work because 'ts_utc' exists)\n",
    "        query = f\"\"\"\n",
    "            WITH JoinedData AS (\n",
    "                SELECT \n",
    "                    t.ts AS target_ts,\n",
    "                    t.ref_price,\n",
    "                    o.ts AS option_ts, -- The actual timestamp from the options file\n",
    "                    o.strike,\n",
    "                    o.expiry,\n",
    "                    o.dte,\n",
    "                    o.optionType,\n",
    "                    o.bidPrice,\n",
    "                    o.askPrice,\n",
    "                    o.iv,\n",
    "                    o.stockPrice,\n",
    "                    o.ticker\n",
    "                FROM timestamps_to_query AS t\n",
    "                JOIN read_parquet([{paths_str}]) AS o\n",
    "                  ON t.ts_utc = o.ts -- This JOIN condition will now succeed\n",
    "                WHERE \n",
    "                    o.dte = 1 AND\n",
    "                    o.expiry = t.expiry_str AND\n",
    "                    o.optionType = 1 AND o.strike = ROUND(o.stockPrice)\n",
    "            )\n",
    "            SELECT *\n",
    "            FROM JoinedData\n",
    "            QUALIFY ROW_NUMBER() OVER (\n",
    "                PARTITION BY target_ts, optionType\n",
    "                \n",
    "            ) = 1;\n",
    "        \"\"\"\n",
    "        \n",
    "        print(\"   Executing batched query...\")\n",
    "        atm_options = con.execute(query).df()\n",
    "        \n",
    "        return atm_options\n",
    "\n",
    "    except Exception as e:\n",
    "        print(f\"An error occurred: {e}\")\n",
    "        return pd.DataFrame()"
   ]
  },
  {
   "cell_type": "code",
   "execution_count": null,
   "id": "3e668583",
   "metadata": {},
   "outputs": [],
   "source": [
    "import pandas as pd\n",
    "\n",
    "def fetch_atm_options_for_dataframe(con, ticker, com_df):\n",
    "    \"\"\"\n",
    "    Efficiently fetches the exact ATM call and put (where strike matches the\n",
    "    rounded stock price) for every row in a DataFrame.\n",
    "    \"\"\"\n",
    "    print(f\"🚀 Preparing to fetch ATM options for {len(com_df)} timestamps...\")\n",
    "    \n",
    "    try:\n",
    "        # --- SIMPLIFIED DATA PREPARATION ---\n",
    "        # 1. Reset the index to get the timestamp column\n",
    "        timestamps_to_query = com_df.reset_index()\n",
    "        \n",
    "        # 2. Select ONLY the timestamp column. price_col is no longer needed.\n",
    "        timestamps_to_query = timestamps_to_query[['index']]\n",
    "        timestamps_to_query.rename(columns={'index': 'ts'}, inplace=True)\n",
    "\n",
    "        # 3. Handle timezones and create necessary columns\n",
    "        if timestamps_to_query['ts'].dt.tz is None:\n",
    "            aware_timestamps = timestamps_to_query['ts'].dt.tz_localize('America/New_York')\n",
    "        else:\n",
    "            aware_timestamps = timestamps_to_query['ts']\n",
    "        print(f\"aware timtsamps are :{aware_timestamps}\")    \n",
    "        timestamps_to_query['ts_utc'] = aware_timestamps.dt.tz_convert('UTC')\n",
    "        timestamps_to_query['expiry_str'] = (aware_timestamps).dt.strftime('%Y-%m-%d')\n",
    "        \n",
    "        # --- Path generation ---\n",
    "        unique_days = timestamps_to_query['ts'].dt.strftime('%Y-%m-%d').unique()\n",
    "        path_list = [f\"'s3://duckdata/ORATS/Options/ticker={ticker}/day={d}/*.parquet'\" for d in unique_days]\n",
    "        paths_str = \", \".join(path_list)\n",
    "        \n",
    "        con.register('timestamps_to_query', timestamps_to_query)\n",
    "\n",
    "        # --- SIMPLIFIED QUERY ---\n",
    "        query = f\"\"\"\n",
    "            WITH JoinedData AS (\n",
    "                SELECT \n",
    "                    t.ts AS target_ts,\n",
    "                    o.ts AS option_ts, -- The actual timestamp from the options file\n",
    "                    o.strike,\n",
    "                    o.expiry,\n",
    "                    o.dte,\n",
    "                    o.optionType,\n",
    "                    o.bidPrice,\n",
    "                    o.askPrice,\n",
    "                    o.iv,\n",
    "                    o.stockPrice,\n",
    "                    o.ticker\n",
    "                FROM timestamps_to_query AS t\n",
    "                JOIN read_parquet([{paths_str}]) AS o\n",
    "                  ON t.ts_utc = o.ts\n",
    "                WHERE \n",
    "                    o.dte = 1 AND\n",
    "                    o.expiry = t.expiry_str AND\n",
    "                    \n",
    "                    CAST(o.strike AS INTEGER) = CAST(ROUND(o.stockPrice) AS INTEGER) AND\n",
    "                    o.optionType = 1\n",
    "            )\n",
    "            SELECT *\n",
    "            FROM JoinedData\n",
    "            QUALIFY ROW_NUMBER() OVER (\n",
    "                PARTITION BY target_ts\n",
    "                \n",
    "            ) = 1;\n",
    "        \n",
    "            \n",
    "        \"\"\"\n",
    "  \n",
    "        print(\"   Executing simplified batched query...\")\n",
    "        atm_options = con.execute(query).df()\n",
    "        if atm_options.empty:\n",
    "            print(f\"None of data is present \")\n",
    "        atm_options['option_ts'] = pd.to_datetime(atm_options['option_ts'].dt.tz_localize('UTC').dt.tz_convert('America/New_York').dt.tz_localize(None))\n",
    "        \n",
    "        return atm_options\n",
    "\n",
    "    except Exception as e:\n",
    "        print(f\"An error occurred: {e}\")\n",
    "        return pd.DataFrame()"
   ]
  },
  {
   "cell_type": "code",
   "execution_count": null,
   "id": "187aa917",
   "metadata": {},
   "outputs": [],
   "source": [
    "import pandas as pd\n",
    "import duckdb\n",
    "\n",
    "def fetch_atm_options_for_dataframe_CORRECTED(con, ticker, com_df):\n",
    "    \"\"\"\n",
    "    Corrected version that properly handles timezones and uses a robust\n",
    "    nearest-match query to find ATM options.\n",
    "    \"\"\"\n",
    "    print(f\"🚀 Preparing to fetch ATM options for {len(com_df)} timestamps...\")\n",
    "    \n",
    "    try:\n",
    "        # --- CORRECTED DATA PREPARATION ---\n",
    "        timestamps_to_query = com_df.reset_index()\n",
    "        timestamps_to_query.rename(columns={'index': 'ts'}, inplace=True)\n",
    "\n",
    "        # 1. Ensure the timestamp is naive (represents wall-clock time in NY)\n",
    "        if timestamps_to_query['ts'].dt.tz is not None:\n",
    "            timestamps_to_query['ts'] = timestamps_to_query['ts'].dt.tz_localize(None)\n",
    "\n",
    "        # 2. Localize to NY time, then immediately convert to UTC\n",
    "        # This is a more robust way to handle the conversion.\n",
    "        timestamps_to_query['ts_utc'] = timestamps_to_query['ts'].dt.tz_localize(\n",
    "            'America/New_York', ambiguous='infer'\n",
    "        ).dt.tz_convert('UTC')\n",
    "        \n",
    "        timestamps_to_query['expiry_str'] = timestamps_to_query['ts'].dt.strftime('%Y-%m-%d')\n",
    "        \n",
    "        # --- Path generation ---\n",
    "        unique_days = timestamps_to_query['ts'].dt.strftime('%Y-%m-%d').unique()\n",
    "        path_list = [f\"'s3://duckdata/ORATS/Options/ticker={ticker}/day={d}/*.parquet'\" for d in unique_days]\n",
    "        paths_str = \", \".join(path_list)\n",
    "        \n",
    "        con.register('timestamps_to_query', timestamps_to_query)\n",
    "\n",
    "        # --- ROBUST NEAREST MATCH QUERY (The correct long-term solution) ---\n",
    "        query = f\"\"\"\n",
    "            WITH RankedOptions AS (\n",
    "                SELECT \n",
    "                    t.ts AS target_ts,\n",
    "                    o.ts AS option_ts,\n",
    "                    o.strike,\n",
    "                    o.stockPrice,\n",
    "                    o.expiry,\n",
    "                    o.dte,\n",
    "                    o.optionType,\n",
    "                    o.bidPrice,\n",
    "                    o.askPrice,\n",
    "                    o.iv,\n",
    "                    \n",
    "                    ROW_NUMBER() OVER (\n",
    "                        PARTITION BY t.ts\n",
    "                        ORDER BY abs(epoch(o.ts) - epoch(t.ts_utc)) ASC\n",
    "                    ) as rn\n",
    "                FROM timestamps_to_query AS t\n",
    "                JOIN read_parquet([{paths_str}]) AS o\n",
    "                    ON strftime(t.ts_utc, '%Y-%m-%d') = strftime(o.ts, '%Y-%m-%d')\n",
    "                WHERE\n",
    "                    CAST(o.strike AS INTEGER) = CAST(ROUND(o.stockPrice) AS INTEGER)\n",
    "                    AND o.expiry = t.expiry_str AND o.optionType = 1\n",
    "            )\n",
    "            SELECT * EXCLUDE(rn)\n",
    "            FROM RankedOptions\n",
    "            WHERE rn = 1;\n",
    "        \"\"\"\n",
    " \n",
    "        print(\"   Executing robust batched query...\")\n",
    "        atm_options = con.execute(query).df()\n",
    "        \n",
    "        if atm_options.empty:\n",
    "            print(f\"--> No ATM options found for the given timestamps.\")\n",
    "        \n",
    "        \n",
    "        atm_options['option_ts'] = pd.to_datetime(atm_options['option_ts'].dt.tz_localize('UTC').dt.tz_convert('America/New_York').dt.tz_localize(None))\n",
    "        return atm_options\n",
    "    \n",
    "    except Exception as e:\n",
    "        print(f\"An error occurred: {e}\")\n",
    "        return pd.DataFrame()"
   ]
  },
  {
   "cell_type": "code",
   "execution_count": 16,
   "id": "b197d5e6",
   "metadata": {},
   "outputs": [],
   "source": [
    "\n",
    "def find_straddle_at_timestamp(con, ticker, timestamp, expiry_str, underlying_price, percentage_away):\n",
    "    \"\"\"\n",
    "    Finds the closest matching call and put for a straddle at a single timestamp.\n",
    "\n",
    "    Args:\n",
    "        con: The DuckDB connection object.\n",
    "        ticker (str): The stock ticker (e.g., 'SPY').\n",
    "        timestamp (pd.Timestamp): The specific timestamp to query (e.g., in EST).\n",
    "        expiry_str (str): The expiry date for the options, in 'YYYY-MM-DD' format.\n",
    "        underlying_price (float): The reference stock price to calculate strikes from.\n",
    "        percentage_away (float): The percentage to calculate strike distance.\n",
    "\n",
    "    Returns:\n",
    "        pd.DataFrame: A DataFrame with the data for the two selected options,\n",
    "                      or an empty DataFrame if not found.\n",
    "    \"\"\"\n",
    "    # date_str = timestamp.strftime('%Y-%m-%d')\n",
    "    # utc_timestamp_str = timestamp.tz_localize('America/New_York').tz_convert('UTC').strftime('%Y-%m-%d %H:%M:%S')\n",
    "    \n",
    "    # 1. Check if the input timestamp is naive (has no timezone info)\n",
    "\n",
    "   \n",
    "\n",
    "    if timestamp.tzinfo is None or timestamp.tzinfo.utcoffset(timestamp) is None:\n",
    "        # If it's naive, localize it to New York time\n",
    "        timestamp = timestamp.tz_localize('America/New_York')\n",
    "    \n",
    "    # 2. Now that we're sure it's timezone-aware, we can safely convert to UTC for the query\n",
    "    date_str = timestamp.strftime('%Y-%m-%d')\n",
    "    utc_timestamp_str = timestamp.tz_convert('UTC').strftime('%Y-%m-%d %H:%M:%S')\n",
    "    \n",
    "\n",
    "    print(f\"Finding straddle for {ticker} and expiry{expiry_str} at {timestamp} but for DB its {utc_timestamp_str} with {percentage_away:.2%} offset...\")\n",
    "\n",
    "    try:\n",
    "        # Calculate target strikes directly in Python\n",
    "        target_call_strike = (underlying_price * (1 + percentage_away))+1\n",
    "        target_put_strike = (underlying_price * (1 - percentage_away))\n",
    "        print(f\"Call fetch is {target_call_strike} and put is {target_put_strike}\")\n",
    "        print(f\"Expiries fetched are {expiry_str}\")\n",
    "        # The query is now faster with the added 'ts' filter\n",
    "        query = f\"\"\"\n",
    "            SELECT \n",
    "                ts, strike, expiry, dte, optionType, volume, oi,\n",
    "                bidPrice, askPrice, bidIv, askIv, iv, stockPrice, ticker\n",
    "            FROM read_parquet('s3://duckdata/ORATS/Options/ticker={ticker}/day={date_str}/*.parquet')\n",
    "            WHERE\n",
    "                ts = '{utc_timestamp_str}' AND -- <-- KEY CHANGE: Filter for the exact timestamp\n",
    "                expiry = '{expiry_str}' AND dte=1\n",
    "            QUALIFY\n",
    "                ROW_NUMBER() OVER (\n",
    "                    PARTITION BY optionType \n",
    "                    ORDER BY \n",
    "                        ABS(strike - CASE \n",
    "                                        WHEN optionType = 1 THEN {target_call_strike}\n",
    "                                        ELSE {target_put_strike}\n",
    "                                     END)\n",
    "                ) = 1;\n",
    "        \"\"\"\n",
    "        \n",
    "        straddle_df = con.execute(query).df()\n",
    "        \n",
    "        if straddle_df.empty:\n",
    "            print(\"INFO: Could not find matching straddle options at this timestamp.\")\n",
    "        \n",
    "        straddle_df['ts'] = pd.to_datetime(straddle_df['ts'].dt.tz_localize('UTC').dt.tz_convert('America/New_York').dt.tz_localize(None))\n",
    "\n",
    "        return straddle_df\n",
    "\n",
    "    except Exception as e:\n",
    "        print(f\"An error occurred: {e}\")\n",
    "        return pd.DataFrame()\n",
    "\n"
   ]
  },
  {
   "cell_type": "code",
   "execution_count": 17,
   "id": "4354081a",
   "metadata": {},
   "outputs": [],
   "source": [
    "\n",
    "# Example 1: 0DTE At-the-Money LONG STRADDLE\n",
    "strategy_config = {\n",
    "    'Leg1': {'action': 'SELL', 'option_type': -1, 'expiry_offset': 0, 'strike_offset': 1}  # Sell ATM Call\n",
    "    }   # Buy 1DTE call\n",
    "\n"
   ]
  },
  {
   "cell_type": "code",
   "execution_count": 6,
   "id": "d02b0c31",
   "metadata": {},
   "outputs": [],
   "source": [
    "\n",
    "\n",
    "def fetch_bulk_option_data_call_put(con, ticker, end_date_str, n_days, strikes: List[float], expiries: List[str]):\n",
    "    \n",
    "    \"\"\"\n",
    "    Fetches a range of minute-level data for MULTIPLE option contracts\n",
    "    in a single, efficient query.\n",
    "    \"\"\"\n",
    "    # 1. Get the list of business days to query (same as before)\n",
    "    nyse = mcal.get_calendar('NYSE')\n",
    "    start_buffer = pd.to_datetime(end_date_str) - pd.Timedelta(days=n_days)\n",
    "    schedule = nyse.schedule(start_date=start_buffer, end_date=end_date_str)\n",
    "    business_day_list = [d.strftime('%Y-%m-%d') for d in schedule.index[-n_days:]]\n",
    "    \n",
    "    # 2. Build the list of S3 paths (same as before)\n",
    "    path_list = [\n",
    "        f\"'s3://duckdata/ORATS/Options/ticker={ticker}/day={d}/*.parquet'\"\n",
    "        for d in business_day_list ]\n",
    "    \n",
    "    # ▼▼▼ NEW QUERY LOGIC ▼▼▼\n",
    "    # 3. Format the lists for the SQL 'IN' clause\n",
    "    strikes_str = \",\".join(map(str, strikes)) # For numbers: 470.0,471.0,472.0\n",
    "    expiries_str = \",\".join([f\"'{e}'\" for e in expiries]) # For strings: '2024-01-05','2024-01-08'\n",
    "    \n",
    "    query = f\"\"\"\n",
    "        SELECT ts, strike, expiry, close, bidPrice, askPrice, volume, oi, dte, optionType , iv\n",
    "        FROM read_parquet([{\",\".join(path_list)}])\n",
    "        WHERE \n",
    "            CAST(strike AS FLOAT) IN ({strikes_str}) AND\n",
    "            expiry IN ({expiries_str}) \n",
    "        ORDER BY ts;\n",
    "    \"\"\"\n",
    "    \n",
    "    try:\n",
    "        bulk_df = con.execute(query).df()\n",
    "        \n",
    "        if bulk_df.empty:\n",
    "            return pd.DataFrame()\n",
    "            \n",
    "        # Perform timezone conversion and set index (same as before)\n",
    "        bulk_df['ts'] = pd.to_datetime(bulk_df['ts'].dt.tz_localize('UTC').dt.tz_convert('America/New_York').dt.tz_localize(None))\n",
    "        bulk_df.set_index('ts' , inplace=True)\n",
    "        return bulk_df\n",
    "        \n",
    "    except Exception as e:\n",
    "        print(f\"An error occurred during bulk fetch: {e}\")\n",
    "        return pd.DataFrame()"
   ]
  },
  {
   "cell_type": "code",
   "execution_count": 86,
   "id": "20fb305a",
   "metadata": {},
   "outputs": [
    {
     "name": "stdout",
     "output_type": "stream",
     "text": [
      "🚀 Starting backtest for 199 unique days...\n",
      "\n",
      "--- Processing Day: 2024-01-05 ---\n",
      "Fetching options across 468.15\n"
     ]
    },
    {
     "data": {
      "application/vnd.jupyter.widget-view+json": {
       "model_id": "f145e97876e94d7a93f9b78b63d6ba46",
       "version_major": 2,
       "version_minor": 0
      },
      "text/plain": [
       "FloatProgress(value=0.0, layout=Layout(width='auto'), style=ProgressStyle(bar_color='black'))"
      ]
     },
     "metadata": {},
     "output_type": "display_data"
    },
    {
     "name": "stdout",
     "output_type": "stream",
     "text": [
      "Total options found for today are: 22\n",
      "\n",
      "--- Phase 2: Preparing Master DataFrame ---\n",
      "✅ Successfully created master DataFrame with 220 total columns.\n",
      "['P_463.0_20240105', 'C_463.0_20240105', 'P_464.0_20240105', 'C_464.0_20240105', 'P_465.0_20240105', 'C_465.0_20240105', 'P_466.0_20240105', 'C_466.0_20240105', 'P_467.0_20240105', 'C_467.0_20240105', 'P_468.0_20240105', 'C_468.0_20240105', 'P_469.0_20240105', 'C_469.0_20240105', 'P_470.0_20240105', 'C_470.0_20240105', 'P_471.0_20240105', 'C_471.0_20240105', 'P_472.0_20240105', 'C_472.0_20240105', 'P_473.0_20240105', 'C_473.0_20240105']\n",
      "  -> Short ATM put ENTRY for P_468.0_20240105 at 09:46:00 and price 0.91\n",
      "  -> SPY is 468.37 and strike is 468.0\n",
      "Stoploss of  -1 side entry was 0.91 in P_468.0_20240105 at 0.37\n",
      "  -> EOD EXIT for P_468.0_20240105 at 0.37. Profit: $5400.00\n",
      "  -> Short ATM put ENTRY for P_469.0_20240105 at 10:22:00 and price 0.8\n",
      "  -> SPY is 469.4 and strike is 469.0\n",
      "  -> Target EXIT for P_469.0_20240105 at 1.07. Profit: $-2700.00\n",
      "  -> Short ATM put ENTRY for P_468.0_20240105 at 12:15:00 and price 0.85\n",
      "  -> SPY is 467.89 and strike is 468.0\n",
      "  -> Target EXIT for P_468.0_20240105 at 1.20. Profit: $-3500.00\n",
      "  -> Short ATM put ENTRY for P_468.0_20240105 at 12:41:00 and price 1.02\n",
      "  -> SPY is 467.58 and strike is 468.0\n",
      "  -> Target EXIT for P_468.0_20240105 at 1.37. Profit: $-3500.00\n",
      "  -> Short ATM put ENTRY for P_467.0_20240105 at 13:25:00 and price 0.68\n",
      "  -> SPY is 467.12 and strike is 467.0\n",
      "  -> Short ATM put ENTRY for P_468.0_20240105 at 13:28:00 and price 0.95\n",
      "  -> SPY is 467.54 and strike is 468.0\n",
      "Stoploss of  -1 side entry was 0.68 in P_467.0_20240105 at 0.18\n",
      "  -> EOD EXIT for P_467.0_20240105 at 0.18. Profit: $5000.00\n",
      "Stoploss of  -1 side entry was 0.95 in P_468.0_20240105 at 0.41\n",
      "  -> EOD EXIT for P_468.0_20240105 at 0.41. Profit: $5400.00\n",
      "\n",
      "--- Processing Day: 2024-01-08 ---\n",
      "Fetching options across 468.43\n"
     ]
    },
    {
     "data": {
      "application/vnd.jupyter.widget-view+json": {
       "model_id": "ebf1506814cf44e0bb602c24a2eade7d",
       "version_major": 2,
       "version_minor": 0
      },
      "text/plain": [
       "FloatProgress(value=0.0, layout=Layout(width='auto'), style=ProgressStyle(bar_color='black'))"
      ]
     },
     "metadata": {},
     "output_type": "display_data"
    },
    {
     "name": "stdout",
     "output_type": "stream",
     "text": [
      "Total options found for today are: 22\n",
      "\n",
      "--- Phase 2: Preparing Master DataFrame ---\n",
      "✅ Successfully created master DataFrame with 220 total columns.\n",
      "['P_463.0_20240108', 'C_463.0_20240108', 'P_464.0_20240108', 'C_464.0_20240108', 'P_465.0_20240108', 'C_465.0_20240108', 'P_466.0_20240108', 'C_466.0_20240108', 'P_467.0_20240108', 'C_467.0_20240108', 'P_468.0_20240108', 'C_468.0_20240108', 'P_469.0_20240108', 'C_469.0_20240108', 'P_470.0_20240108', 'C_470.0_20240108', 'P_471.0_20240108', 'C_471.0_20240108', 'P_472.0_20240108', 'C_472.0_20240108', 'P_473.0_20240108', 'C_473.0_20240108']\n",
      "  -> Short ATM put ENTRY for P_470.0_20240108 at 10:06:00 and price 0.86\n",
      "  -> SPY is 469.9 and strike is 470.0\n",
      "  -> Target EXIT for P_470.0_20240108 at 1.12. Profit: $-2600.00\n",
      "  -> Short ATM put ENTRY for P_470.0_20240108 at 10:45:00 and price 0.62\n",
      "  -> SPY is 470.38 and strike is 470.0\n",
      "Stoploss of  -1 side entry was 0.62 in P_470.0_20240108 at 0.11\n",
      "  -> EOD EXIT for P_470.0_20240108 at 0.11. Profit: $5100.00\n",
      "\n",
      "--- Processing Day: 2024-01-09 ---\n",
      "Fetching options across 472.05\n"
     ]
    },
    {
     "data": {
      "application/vnd.jupyter.widget-view+json": {
       "model_id": "717f4ddfc1de4b09b1a189bdc5b77f34",
       "version_major": 2,
       "version_minor": 0
      },
      "text/plain": [
       "FloatProgress(value=0.0, layout=Layout(width='auto'), style=ProgressStyle(bar_color='black'))"
      ]
     },
     "metadata": {},
     "output_type": "display_data"
    },
    {
     "name": "stdout",
     "output_type": "stream",
     "text": [
      "Total options found for today are: 22\n",
      "\n",
      "--- Phase 2: Preparing Master DataFrame ---\n",
      "✅ Successfully created master DataFrame with 220 total columns.\n",
      "['P_467.0_20240109', 'C_467.0_20240109', 'P_468.0_20240109', 'C_468.0_20240109', 'P_469.0_20240109', 'C_469.0_20240109', 'P_470.0_20240109', 'C_470.0_20240109', 'P_471.0_20240109', 'C_471.0_20240109', 'P_472.0_20240109', 'C_472.0_20240109', 'P_473.0_20240109', 'C_473.0_20240109', 'P_474.0_20240109', 'C_474.0_20240109', 'P_475.0_20240109', 'C_475.0_20240109', 'P_476.0_20240109', 'C_476.0_20240109', 'P_477.0_20240109', 'C_477.0_20240109']\n",
      "  -> Short ATM put ENTRY for P_472.0_20240109 at 09:56:00 and price 0.95\n",
      "  -> SPY is 471.9 and strike is 472.0\n",
      "Stoploss of  -1 side entry was 0.95 in P_472.0_20240109 at 0.44\n",
      "  -> EOD EXIT for P_472.0_20240109 at 0.44. Profit: $5100.00\n",
      "  -> Short ATM put ENTRY for P_473.0_20240109 at 10:18:00 and price 0.87\n",
      "  -> SPY is 472.92 and strike is 473.0\n",
      "  -> Target EXIT for P_473.0_20240109 at 1.15. Profit: $-2800.00\n",
      "  -> Short ATM put ENTRY for P_473.0_20240109 at 10:41:00 and price 0.94\n",
      "  -> SPY is 472.72 and strike is 473.0\n",
      "Stoploss of  -1 side entry was 0.94 in P_473.0_20240109 at 0.4\n",
      "  -> EOD EXIT for P_473.0_20240109 at 0.40. Profit: $5400.00\n",
      "\n",
      "--- Processing Day: 2024-01-10 ---\n",
      "Fetching options across 474.62\n"
     ]
    },
    {
     "data": {
      "application/vnd.jupyter.widget-view+json": {
       "model_id": "cbcde8f8f472437283becb4e5fc7fd6b",
       "version_major": 2,
       "version_minor": 0
      },
      "text/plain": [
       "FloatProgress(value=0.0, layout=Layout(width='auto'), style=ProgressStyle(bar_color='black'))"
      ]
     },
     "metadata": {},
     "output_type": "display_data"
    },
    {
     "name": "stdout",
     "output_type": "stream",
     "text": [
      "Total options found for today are: 22\n",
      "\n",
      "--- Phase 2: Preparing Master DataFrame ---\n",
      "✅ Successfully created master DataFrame with 220 total columns.\n",
      "['P_470.0_20240110', 'C_470.0_20240110', 'P_471.0_20240110', 'C_471.0_20240110', 'P_472.0_20240110', 'C_472.0_20240110', 'P_473.0_20240110', 'C_473.0_20240110', 'P_474.0_20240110', 'C_474.0_20240110', 'P_475.0_20240110', 'C_475.0_20240110', 'P_476.0_20240110', 'C_476.0_20240110', 'P_477.0_20240110', 'C_477.0_20240110', 'P_478.0_20240110', 'C_478.0_20240110', 'P_479.0_20240110', 'C_479.0_20240110', 'P_480.0_20240110', 'C_480.0_20240110']\n",
      "  -> Short ATM put ENTRY for P_475.0_20240110 at 09:43:00 and price 0.85\n",
      "  -> SPY is 475.08 and strike is 475.0\n",
      "  -> Target EXIT for P_475.0_20240110 at 1.12. Profit: $-2700.00\n",
      "  -> Short ATM put ENTRY for P_475.0_20240110 at 09:59:00 and price 1.07\n",
      "  -> SPY is 474.64 and strike is 475.0\n",
      "  -> Target EXIT for P_475.0_20240110 at 1.38. Profit: $-3100.00\n",
      "  -> Short ATM put ENTRY for P_474.0_20240110 at 10:09:00 and price 0.71\n",
      "  -> SPY is 474.3 and strike is 474.0\n",
      "  -> Short ATM put ENTRY for P_475.0_20240110 at 10:14:00 and price 1.06\n",
      "  -> SPY is 474.57 and strike is 475.0\n",
      "Stoploss of  -1 side entry was 1.06 in P_475.0_20240110 at 0.55\n",
      "  -> EOD EXIT for P_475.0_20240110 at 0.55. Profit: $5100.00\n",
      "  -> Short ATM put ENTRY for P_475.0_20240110 at 12:32:00 and price 0.55\n",
      "  -> SPY is 475.18 and strike is 475.0\n",
      "Stoploss of  -1 side entry was 0.71 in P_474.0_20240110 at 0.2\n",
      "  -> EOD EXIT for P_474.0_20240110 at 0.20. Profit: $5100.00\n",
      "Stoploss of  -1 side entry was 0.55 in P_475.0_20240110 at 0.05\n",
      "  -> EOD EXIT for P_475.0_20240110 at 0.05. Profit: $5000.00\n",
      "\n",
      "--- Processing Day: 2024-01-11 ---\n",
      "Fetching options across 477.93\n"
     ]
    },
    {
     "data": {
      "application/vnd.jupyter.widget-view+json": {
       "model_id": "1b31ce23462d4edc81b7d6c24bc5c044",
       "version_major": 2,
       "version_minor": 0
      },
      "text/plain": [
       "FloatProgress(value=0.0, layout=Layout(width='auto'), style=ProgressStyle(bar_color='black'))"
      ]
     },
     "metadata": {},
     "output_type": "display_data"
    },
    {
     "name": "stdout",
     "output_type": "stream",
     "text": [
      "Total options found for today are: 22\n",
      "\n",
      "--- Phase 2: Preparing Master DataFrame ---\n",
      "✅ Successfully created master DataFrame with 220 total columns.\n",
      "['P_473.0_20240111', 'C_473.0_20240111', 'P_474.0_20240111', 'C_474.0_20240111', 'P_475.0_20240111', 'C_475.0_20240111', 'P_476.0_20240111', 'C_476.0_20240111', 'P_477.0_20240111', 'C_477.0_20240111', 'P_478.0_20240111', 'C_478.0_20240111', 'P_479.0_20240111', 'C_479.0_20240111', 'P_480.0_20240111', 'C_480.0_20240111', 'P_481.0_20240111', 'C_481.0_20240111', 'P_482.0_20240111', 'C_482.0_20240111', 'P_483.0_20240111', 'C_483.0_20240111']\n",
      "  -> Short ATM put ENTRY for P_474.0_20240111 at 11:08:00 and price 1.09\n",
      "  -> SPY is 473.89 and strike is 474.0\n",
      "  -> Target EXIT for P_474.0_20240111 at 1.56. Profit: $-4700.00\n",
      "  -> Short ATM put ENTRY for P_473.0_20240111 at 11:49:00 and price 0.91\n",
      "  -> SPY is 473.03 and strike is 473.0\n",
      "  -> Short ATM put ENTRY for P_474.0_20240111 at 12:13:00 and price 1.13\n",
      "  -> SPY is 473.53 and strike is 474.0\n",
      "  -> Target EXIT for P_474.0_20240111 at 1.41. Profit: $-2800.00\n",
      "Stoploss of  -1 side entry was 0.91 in P_473.0_20240111 at 0.41\n",
      "  -> EOD EXIT for P_473.0_20240111 at 0.41. Profit: $5000.00\n",
      "\n",
      "--- Processing Day: 2024-01-12 ---\n",
      "Fetching options across 477.82\n"
     ]
    },
    {
     "data": {
      "application/vnd.jupyter.widget-view+json": {
       "model_id": "b003dfdf934a4b4589d74695bd904c13",
       "version_major": 2,
       "version_minor": 0
      },
      "text/plain": [
       "FloatProgress(value=0.0, layout=Layout(width='auto'), style=ProgressStyle(bar_color='black'))"
      ]
     },
     "metadata": {},
     "output_type": "display_data"
    },
    {
     "name": "stdout",
     "output_type": "stream",
     "text": [
      "Total options found for today are: 22\n",
      "\n",
      "--- Phase 2: Preparing Master DataFrame ---\n",
      "✅ Successfully created master DataFrame with 220 total columns.\n",
      "['P_473.0_20240112', 'C_473.0_20240112', 'P_474.0_20240112', 'C_474.0_20240112', 'P_475.0_20240112', 'C_475.0_20240112', 'P_476.0_20240112', 'C_476.0_20240112', 'P_477.0_20240112', 'C_477.0_20240112', 'P_478.0_20240112', 'C_478.0_20240112', 'P_479.0_20240112', 'C_479.0_20240112', 'P_480.0_20240112', 'C_480.0_20240112', 'P_481.0_20240112', 'C_481.0_20240112', 'P_482.0_20240112', 'C_482.0_20240112', 'P_483.0_20240112', 'C_483.0_20240112']\n",
      "  -> Short ATM put ENTRY for P_478.0_20240112 at 09:41:00 and price 0.86\n",
      "  -> SPY is 478.48 and strike is 478.0\n",
      "  -> Target EXIT for P_478.0_20240112 at 1.14. Profit: $-2800.00\n",
      "  -> Short ATM put ENTRY for P_477.0_20240112 at 10:07:00 and price 1.03\n",
      "  -> SPY is 476.94 and strike is 477.0\n",
      "  -> Target EXIT for P_477.0_20240112 at 1.43. Profit: $-4000.00\n",
      "  -> Short ATM put ENTRY for P_476.0_20240112 at 10:24:00 and price 0.82\n",
      "  -> SPY is 476.5 and strike is 476.0\n",
      "  -> Short ATM put ENTRY for P_477.0_20240112 at 10:31:00 and price 1.06\n",
      "  -> SPY is 476.81 and strike is 477.0\n",
      "  -> Target EXIT for P_477.0_20240112 at 1.52. Profit: $-4600.00\n",
      "  -> Target EXIT for P_476.0_20240112 at 1.10. Profit: $-2800.00\n",
      "  -> Short ATM put ENTRY for P_476.0_20240112 at 11:00:00 and price 1.08\n",
      "  -> SPY is 475.77 and strike is 476.0\n",
      "  -> Short ATM put ENTRY for P_477.0_20240112 at 11:23:00 and price 1.11\n",
      "  -> SPY is 476.58 and strike is 477.0\n",
      "Stoploss of  -1 side entry was 1.08 in P_476.0_20240112 at 0.56\n",
      "  -> EOD EXIT for P_476.0_20240112 at 0.56. Profit: $5200.00\n",
      "  -> Target EXIT for P_477.0_20240112 at 1.74. Profit: $-6300.00\n",
      "  -> Short ATM put ENTRY for P_476.0_20240112 at 11:48:00 and price 0.95\n",
      "  -> SPY is 475.87 and strike is 476.0\n",
      "  -> Short ATM put ENTRY for P_477.0_20240112 at 13:11:00 and price 0.95\n",
      "  -> SPY is 476.55 and strike is 477.0\n",
      "Stoploss of  -1 side entry was 0.95 in P_476.0_20240112 at 0.42\n",
      "  -> EOD EXIT for P_476.0_20240112 at 0.42. Profit: $5300.00\n",
      "Stoploss of  -1 side entry was 0.95 in P_477.0_20240112 at 0.41\n",
      "  -> EOD EXIT for P_477.0_20240112 at 0.41. Profit: $5400.00\n",
      "\n",
      "--- Processing Day: 2024-01-16 ---\n",
      "Fetching options across 474.18\n"
     ]
    },
    {
     "data": {
      "application/vnd.jupyter.widget-view+json": {
       "model_id": "6f971c32b31a47dd9882ae10143f3073",
       "version_major": 2,
       "version_minor": 0
      },
      "text/plain": [
       "FloatProgress(value=0.0, layout=Layout(width='auto'), style=ProgressStyle(bar_color='black'))"
      ]
     },
     "metadata": {},
     "output_type": "display_data"
    },
    {
     "name": "stdout",
     "output_type": "stream",
     "text": [
      "Total options found for today are: 22\n",
      "\n",
      "--- Phase 2: Preparing Master DataFrame ---\n",
      "✅ Successfully created master DataFrame with 220 total columns.\n",
      "['P_469.0_20240116', 'C_469.0_20240116', 'P_470.0_20240116', 'C_470.0_20240116', 'P_471.0_20240116', 'C_471.0_20240116', 'P_472.0_20240116', 'C_472.0_20240116', 'P_473.0_20240116', 'C_473.0_20240116', 'P_474.0_20240116', 'C_474.0_20240116', 'P_475.0_20240116', 'C_475.0_20240116', 'P_476.0_20240116', 'C_476.0_20240116', 'P_477.0_20240116', 'C_477.0_20240116', 'P_478.0_20240116', 'C_478.0_20240116', 'P_479.0_20240116', 'C_479.0_20240116']\n",
      "  -> Short ATM put ENTRY for P_475.0_20240116 at 10:19:00 and price 0.72\n",
      "  -> SPY is 475.42 and strike is 475.0\n",
      "  -> Target EXIT for P_475.0_20240116 at 0.99. Profit: $-2700.00\n",
      "  -> Short ATM put ENTRY for P_474.0_20240116 at 13:05:00 and price 0.61\n",
      "  -> SPY is 474.09 and strike is 474.0\n",
      "  -> Target EXIT for P_474.0_20240116 at 0.87. Profit: $-2600.00\n",
      "\n",
      "--- Processing Day: 2024-01-17 ---\n",
      "Fetching options across 471.78\n"
     ]
    },
    {
     "data": {
      "application/vnd.jupyter.widget-view+json": {
       "model_id": "1462d90b628d4700acfb845f9f4a63e1",
       "version_major": 2,
       "version_minor": 0
      },
      "text/plain": [
       "FloatProgress(value=0.0, layout=Layout(width='auto'), style=ProgressStyle(bar_color='black'))"
      ]
     },
     "metadata": {},
     "output_type": "display_data"
    },
    {
     "name": "stdout",
     "output_type": "stream",
     "text": [
      "Total options found for today are: 22\n",
      "\n",
      "--- Phase 2: Preparing Master DataFrame ---\n",
      "✅ Successfully created master DataFrame with 220 total columns.\n",
      "['P_467.0_20240117', 'C_467.0_20240117', 'P_468.0_20240117', 'C_468.0_20240117', 'P_469.0_20240117', 'C_469.0_20240117', 'P_470.0_20240117', 'C_470.0_20240117', 'P_471.0_20240117', 'C_471.0_20240117', 'P_472.0_20240117', 'C_472.0_20240117', 'P_473.0_20240117', 'C_473.0_20240117', 'P_474.0_20240117', 'C_474.0_20240117', 'P_475.0_20240117', 'C_475.0_20240117', 'P_476.0_20240117', 'C_476.0_20240117', 'P_477.0_20240117', 'C_477.0_20240117']\n",
      "  -> Short ATM put ENTRY for P_472.0_20240117 at 10:35:00 and price 1.03\n",
      "  -> SPY is 471.95 and strike is 472.0\n",
      "Stoploss of  -1 side entry was 1.03 in P_472.0_20240117 at 0.52\n",
      "  -> EOD EXIT for P_472.0_20240117 at 0.52. Profit: $5100.00\n",
      "  -> Short ATM put ENTRY for P_473.0_20240117 at 11:40:00 and price 0.96\n",
      "  -> SPY is 472.7 and strike is 473.0\n",
      "  -> Target EXIT for P_473.0_20240117 at 1.23. Profit: $-2700.00\n",
      "  -> Short ATM put ENTRY for P_472.0_20240117 at 13:01:00 and price 0.81\n",
      "  -> SPY is 471.79 and strike is 472.0\n",
      "  -> Target EXIT for P_472.0_20240117 at 1.12. Profit: $-3100.00\n",
      "\n",
      "--- Processing Day: 2024-01-18 ---\n",
      "Fetching options across 473.99\n"
     ]
    },
    {
     "data": {
      "application/vnd.jupyter.widget-view+json": {
       "model_id": "9a55cf9f9d7740e5af73019ca94c46f9",
       "version_major": 2,
       "version_minor": 0
      },
      "text/plain": [
       "FloatProgress(value=0.0, layout=Layout(width='auto'), style=ProgressStyle(bar_color='black'))"
      ]
     },
     "metadata": {},
     "output_type": "display_data"
    },
    {
     "name": "stdout",
     "output_type": "stream",
     "text": [
      "Total options found for today are: 22\n",
      "\n",
      "--- Phase 2: Preparing Master DataFrame ---\n",
      "✅ Successfully created master DataFrame with 220 total columns.\n",
      "['P_469.0_20240118', 'C_469.0_20240118', 'P_470.0_20240118', 'C_470.0_20240118', 'P_471.0_20240118', 'C_471.0_20240118', 'P_472.0_20240118', 'C_472.0_20240118', 'P_473.0_20240118', 'C_473.0_20240118', 'P_474.0_20240118', 'C_474.0_20240118', 'P_475.0_20240118', 'C_475.0_20240118', 'P_476.0_20240118', 'C_476.0_20240118', 'P_477.0_20240118', 'C_477.0_20240118', 'P_478.0_20240118', 'C_478.0_20240118', 'P_479.0_20240118', 'C_479.0_20240118']\n",
      "  -> Short ATM put ENTRY for P_475.0_20240118 at 11:33:00 and price 0.85\n",
      "  -> SPY is 474.82 and strike is 475.0\n",
      "  -> Target EXIT for P_475.0_20240118 at 1.15. Profit: $-3000.00\n",
      "  -> Short ATM put ENTRY for P_475.0_20240118 at 11:52:00 and price 0.97\n",
      "  -> SPY is 474.51 and strike is 475.0\n",
      "  -> Target EXIT for P_475.0_20240118 at 1.29. Profit: $-3200.00\n",
      "  -> Short ATM put ENTRY for P_474.0_20240118 at 12:49:00 and price 0.9\n",
      "  -> SPY is 473.61 and strike is 474.0\n",
      "  -> Target EXIT for P_474.0_20240118 at 1.16. Profit: $-2600.00\n",
      "\n",
      "--- Processing Day: 2024-01-19 ---\n",
      "Fetching options across 477.75\n"
     ]
    },
    {
     "data": {
      "application/vnd.jupyter.widget-view+json": {
       "model_id": "8f1da001a12348e2ab08dade4fd2d94e",
       "version_major": 2,
       "version_minor": 0
      },
      "text/plain": [
       "FloatProgress(value=0.0, layout=Layout(width='auto'), style=ProgressStyle(bar_color='black'))"
      ]
     },
     "metadata": {},
     "output_type": "display_data"
    },
    {
     "name": "stdout",
     "output_type": "stream",
     "text": [
      "Total options found for today are: 22\n",
      "\n",
      "--- Phase 2: Preparing Master DataFrame ---\n",
      "✅ Successfully created master DataFrame with 220 total columns.\n",
      "['P_473.0_20240119', 'C_473.0_20240119', 'P_474.0_20240119', 'C_474.0_20240119', 'P_475.0_20240119', 'C_475.0_20240119', 'P_476.0_20240119', 'C_476.0_20240119', 'P_477.0_20240119', 'C_477.0_20240119', 'P_478.0_20240119', 'C_478.0_20240119', 'P_479.0_20240119', 'C_479.0_20240119', 'P_480.0_20240119', 'C_480.0_20240119', 'P_481.0_20240119', 'C_481.0_20240119', 'P_482.0_20240119', 'C_482.0_20240119', 'P_483.0_20240119', 'C_483.0_20240119']\n",
      "  -> Short ATM put ENTRY for P_477.0_20240119 at 09:50:00 and price 1.03\n",
      "  -> SPY is 477.24 and strike is 477.0\n",
      "  -> Short ATM put ENTRY for P_478.0_20240119 at 10:01:00 and price 1.02\n",
      "  -> SPY is 478.09 and strike is 478.0\n",
      "  -> Short call ENTRY for C_477.0_20240119 at 10:07:00 and price 1.31\n",
      "  -> SPY is 477.42 and strike is 477.0\n",
      "  -> Target EXIT for P_478.0_20240119 at 1.39. Profit: $-3700.00\n",
      "  -> Short ATM put ENTRY for P_478.0_20240119 at 10:19:00 and price 1.12\n",
      "  -> SPY is 477.8 and strike is 478.0\n",
      "Stoploss of  -1 side entry was 1.03 in P_477.0_20240119 at 0.51\n",
      "  -> EOD EXIT for P_477.0_20240119 at 0.51. Profit: $5200.00\n",
      "  -> Target EXIT for C_477.0_20240119 at 1.59. Profit: $-2800.00\n",
      "Stoploss of  -1 side entry was 1.12 in P_478.0_20240119 at 0.61\n",
      "  -> EOD EXIT for P_478.0_20240119 at 0.61. Profit: $5100.00\n",
      "  -> Short ATM put ENTRY for P_478.0_20240119 at 11:49:00 and price 0.64\n",
      "  -> SPY is 478.36 and strike is 478.0\n",
      "Stoploss of  -1 side entry was 0.64 in P_478.0_20240119 at 0.12\n",
      "  -> EOD EXIT for P_478.0_20240119 at 0.12. Profit: $5200.00\n",
      "\n",
      "--- Processing Day: 2024-01-22 ---\n",
      "Fetching options across 483.91\n"
     ]
    },
    {
     "data": {
      "application/vnd.jupyter.widget-view+json": {
       "model_id": "f971034689fb4452ba966304ce327e9e",
       "version_major": 2,
       "version_minor": 0
      },
      "text/plain": [
       "FloatProgress(value=0.0, layout=Layout(width='auto'), style=ProgressStyle(bar_color='black'))"
      ]
     },
     "metadata": {},
     "output_type": "display_data"
    },
    {
     "name": "stdout",
     "output_type": "stream",
     "text": [
      "Total options found for today are: 22\n",
      "\n",
      "--- Phase 2: Preparing Master DataFrame ---\n",
      "✅ Successfully created master DataFrame with 220 total columns.\n",
      "['P_479.0_20240122', 'C_479.0_20240122', 'P_480.0_20240122', 'C_480.0_20240122', 'P_481.0_20240122', 'C_481.0_20240122', 'P_482.0_20240122', 'C_482.0_20240122', 'P_483.0_20240122', 'C_483.0_20240122', 'P_484.0_20240122', 'C_484.0_20240122', 'P_485.0_20240122', 'C_485.0_20240122', 'P_486.0_20240122', 'C_486.0_20240122', 'P_487.0_20240122', 'C_487.0_20240122', 'P_488.0_20240122', 'C_488.0_20240122', 'P_489.0_20240122', 'C_489.0_20240122']\n",
      "  -> Short ATM put ENTRY for P_485.0_20240122 at 09:42:00 and price 1.08\n",
      "  -> SPY is 484.73 and strike is 485.0\n",
      "  -> Short call ENTRY for C_484.0_20240122 at 10:05:00 and price 1.17\n",
      "  -> SPY is 484.38 and strike is 484.0\n",
      "  -> Target EXIT for C_484.0_20240122 at 1.43. Profit: $-2600.00\n",
      "  -> Target EXIT for P_485.0_20240122 at 1.39. Profit: $-3100.00\n",
      "  -> Short ATM put ENTRY for P_484.0_20240122 at 10:40:00 and price 0.73\n",
      "  -> SPY is 484.15 and strike is 484.0\n",
      "  -> Target EXIT for P_484.0_20240122 at 1.09. Profit: $-3600.00\n",
      "  -> Short ATM put ENTRY for P_484.0_20240122 at 10:52:00 and price 0.85\n",
      "  -> SPY is 483.88 and strike is 484.0\n",
      "  -> Target EXIT for P_484.0_20240122 at 1.13. Profit: $-2800.00\n",
      "  -> Short ATM put ENTRY for P_484.0_20240122 at 11:07:00 and price 0.98\n",
      "  -> SPY is 483.63 and strike is 484.0\n",
      "  -> Short ATM put ENTRY for P_483.0_20240122 at 12:13:00 and price 0.49\n",
      "  -> SPY is 483.49 and strike is 483.0\n",
      "  -> Target EXIT for P_484.0_20240122 at 1.26. Profit: $-2800.00\n",
      "EOD CLosing of -1 side positon in P_483.0_20240122 at 2024-01-22 15:15:00\n",
      "  -> EOD EXIT for P_483.0_20240122 at 0.10. Profit: $3900.00\n",
      "\n",
      "--- Processing Day: 2024-01-23 ---\n",
      "Fetching options across 484.23\n"
     ]
    },
    {
     "data": {
      "application/vnd.jupyter.widget-view+json": {
       "model_id": "d2891793b9dd46e0a7b8176cb9ec8997",
       "version_major": 2,
       "version_minor": 0
      },
      "text/plain": [
       "FloatProgress(value=0.0, layout=Layout(width='auto'), style=ProgressStyle(bar_color='black'))"
      ]
     },
     "metadata": {},
     "output_type": "display_data"
    },
    {
     "name": "stdout",
     "output_type": "stream",
     "text": [
      "Total options found for today are: 22\n",
      "\n",
      "--- Phase 2: Preparing Master DataFrame ---\n",
      "✅ Successfully created master DataFrame with 220 total columns.\n",
      "['P_479.0_20240123', 'C_479.0_20240123', 'P_480.0_20240123', 'C_480.0_20240123', 'P_481.0_20240123', 'C_481.0_20240123', 'P_482.0_20240123', 'C_482.0_20240123', 'P_483.0_20240123', 'C_483.0_20240123', 'P_484.0_20240123', 'C_484.0_20240123', 'P_485.0_20240123', 'C_485.0_20240123', 'P_486.0_20240123', 'C_486.0_20240123', 'P_487.0_20240123', 'C_487.0_20240123', 'P_488.0_20240123', 'C_488.0_20240123', 'P_489.0_20240123', 'C_489.0_20240123']\n",
      "  -> Short ATM put ENTRY for P_483.0_20240123 at 10:51:00 and price 0.64\n",
      "  -> SPY is 483.28 and strike is 483.0\n",
      "  -> Short ATM put ENTRY for P_484.0_20240123 at 11:11:00 and price 0.95\n",
      "  -> SPY is 483.6 and strike is 484.0\n",
      "  -> Target EXIT for P_484.0_20240123 at 1.23. Profit: $-2800.00\n",
      "  -> Short ATM put ENTRY for P_484.0_20240123 at 13:03:00 and price 0.66\n",
      "  -> SPY is 483.84 and strike is 484.0\n",
      "Stoploss of  -1 side entry was 0.64 in P_483.0_20240123 at 0.13\n",
      "  -> EOD EXIT for P_483.0_20240123 at 0.13. Profit: $5100.00\n",
      "Stoploss of  -1 side entry was 0.66 in P_484.0_20240123 at 0.16\n",
      "  -> EOD EXIT for P_484.0_20240123 at 0.16. Profit: $5000.00\n",
      "\n",
      "--- Processing Day: 2024-01-24 ---\n",
      "Fetching options across 487.69\n"
     ]
    },
    {
     "data": {
      "application/vnd.jupyter.widget-view+json": {
       "model_id": "12dbe3cb8a0348269c2c3c362285cb79",
       "version_major": 2,
       "version_minor": 0
      },
      "text/plain": [
       "FloatProgress(value=0.0, layout=Layout(width='auto'), style=ProgressStyle(bar_color='black'))"
      ]
     },
     "metadata": {},
     "output_type": "display_data"
    },
    {
     "name": "stdout",
     "output_type": "stream",
     "text": [
      "Total options found for today are: 22\n",
      "\n",
      "--- Phase 2: Preparing Master DataFrame ---\n",
      "✅ Successfully created master DataFrame with 220 total columns.\n",
      "['P_483.0_20240124', 'C_483.0_20240124', 'P_484.0_20240124', 'C_484.0_20240124', 'P_485.0_20240124', 'C_485.0_20240124', 'P_486.0_20240124', 'C_486.0_20240124', 'P_487.0_20240124', 'C_487.0_20240124', 'P_488.0_20240124', 'C_488.0_20240124', 'P_489.0_20240124', 'C_489.0_20240124', 'P_490.0_20240124', 'C_490.0_20240124', 'P_491.0_20240124', 'C_491.0_20240124', 'P_492.0_20240124', 'C_492.0_20240124', 'P_493.0_20240124', 'C_493.0_20240124']\n",
      "  -> Short ATM put ENTRY for P_487.0_20240124 at 10:08:00 and price 0.87\n",
      "  -> SPY is 486.89 and strike is 487.0\n",
      "  -> Short ATM put ENTRY for P_488.0_20240124 at 10:33:00 and price 1.06\n",
      "  -> SPY is 487.5 and strike is 488.0\n",
      "Stoploss of  -1 side entry was 0.87 in P_487.0_20240124 at 0.33\n",
      "  -> EOD EXIT for P_487.0_20240124 at 0.33. Profit: $5400.00\n",
      "Stoploss of  -1 side entry was 1.06 in P_488.0_20240124 at 0.53\n",
      "  -> EOD EXIT for P_488.0_20240124 at 0.53. Profit: $5300.00\n",
      "  -> Short ATM put ENTRY for P_488.0_20240124 at 12:11:00 and price 0.51\n",
      "  -> SPY is 488.43 and strike is 488.0\n",
      "  -> Target EXIT for P_488.0_20240124 at 0.78. Profit: $-2700.00\n",
      "\n",
      "--- Processing Day: 2024-01-25 ---\n",
      "Fetching options across 487.25\n"
     ]
    },
    {
     "data": {
      "application/vnd.jupyter.widget-view+json": {
       "model_id": "92b96e4a0b224abaad93374cfd34b0c8",
       "version_major": 2,
       "version_minor": 0
      },
      "text/plain": [
       "FloatProgress(value=0.0, layout=Layout(width='auto'), style=ProgressStyle(bar_color='black'))"
      ]
     },
     "metadata": {},
     "output_type": "display_data"
    },
    {
     "name": "stdout",
     "output_type": "stream",
     "text": [
      "Total options found for today are: 22\n",
      "\n",
      "--- Phase 2: Preparing Master DataFrame ---\n",
      "✅ Successfully created master DataFrame with 220 total columns.\n",
      "['P_482.0_20240125', 'C_482.0_20240125', 'P_483.0_20240125', 'C_483.0_20240125', 'P_484.0_20240125', 'C_484.0_20240125', 'P_485.0_20240125', 'C_485.0_20240125', 'P_486.0_20240125', 'C_486.0_20240125', 'P_487.0_20240125', 'C_487.0_20240125', 'P_488.0_20240125', 'C_488.0_20240125', 'P_489.0_20240125', 'C_489.0_20240125', 'P_490.0_20240125', 'C_490.0_20240125', 'P_491.0_20240125', 'C_491.0_20240125', 'P_492.0_20240125', 'C_492.0_20240125']\n",
      "  -> Short ATM put ENTRY for P_487.0_20240125 at 09:49:00 and price 0.97\n",
      "  -> SPY is 487.05 and strike is 487.0\n",
      "Stoploss of  -1 side entry was 0.97 in P_487.0_20240125 at 0.46\n",
      "  -> EOD EXIT for P_487.0_20240125 at 0.46. Profit: $5100.00\n",
      "  -> Short ATM put ENTRY for P_487.0_20240125 at 10:41:00 and price 0.67\n",
      "  -> SPY is 487.45 and strike is 487.0\n",
      "  -> Target EXIT for P_487.0_20240125 at 0.93. Profit: $-2600.00\n",
      "  -> Short ATM put ENTRY for P_486.0_20240125 at 12:38:00 and price 0.57\n",
      "  -> SPY is 486.43 and strike is 486.0\n",
      "  -> Short ATM put ENTRY for P_487.0_20240125 at 12:44:00 and price 0.96\n",
      "  -> SPY is 486.6 and strike is 487.0\n",
      "  -> Target EXIT for P_487.0_20240125 at 1.36. Profit: $-4000.00\n",
      "  -> Target EXIT for P_486.0_20240125 at 0.88. Profit: $-3100.00\n",
      "\n",
      "--- Processing Day: 2024-01-26 ---\n",
      "Fetching options across 487.58\n"
     ]
    },
    {
     "data": {
      "application/vnd.jupyter.widget-view+json": {
       "model_id": "623a43e6bfe3439daefd9be4c3d8d7c9",
       "version_major": 2,
       "version_minor": 0
      },
      "text/plain": [
       "FloatProgress(value=0.0, layout=Layout(width='auto'), style=ProgressStyle(bar_color='black'))"
      ]
     },
     "metadata": {},
     "output_type": "display_data"
    },
    {
     "name": "stdout",
     "output_type": "stream",
     "text": [
      "Total options found for today are: 22\n",
      "\n",
      "--- Phase 2: Preparing Master DataFrame ---\n",
      "✅ Successfully created master DataFrame with 220 total columns.\n",
      "['P_483.0_20240126', 'C_483.0_20240126', 'P_484.0_20240126', 'C_484.0_20240126', 'P_485.0_20240126', 'C_485.0_20240126', 'P_486.0_20240126', 'C_486.0_20240126', 'P_487.0_20240126', 'C_487.0_20240126', 'P_488.0_20240126', 'C_488.0_20240126', 'P_489.0_20240126', 'C_489.0_20240126', 'P_490.0_20240126', 'C_490.0_20240126', 'P_491.0_20240126', 'C_491.0_20240126', 'P_492.0_20240126', 'C_492.0_20240126', 'P_493.0_20240126', 'C_493.0_20240126']\n",
      "  -> Short ATM put ENTRY for P_488.0_20240126 at 10:40:00 and price 0.66\n",
      "  -> SPY is 488.49 and strike is 488.0\n",
      "  -> Short ATM put ENTRY for P_489.0_20240126 at 10:43:00 and price 1.11\n",
      "  -> SPY is 488.53 and strike is 489.0\n",
      "  -> Target EXIT for P_489.0_20240126 at 1.39. Profit: $-2800.00\n",
      "  -> Target EXIT for P_488.0_20240126 at 0.98. Profit: $-3200.00\n",
      "  -> Short ATM put ENTRY for P_487.0_20240126 at 13:21:00 and price 0.61\n",
      "  -> SPY is 487.12 and strike is 487.0\n",
      "Stoploss of  -1 side entry was 0.61 in P_487.0_20240126 at 0.1\n",
      "  -> EOD EXIT for P_487.0_20240126 at 0.10. Profit: $5100.00\n",
      "\n",
      "--- Processing Day: 2024-01-29 ---\n",
      "Fetching options across 487.99\n"
     ]
    },
    {
     "data": {
      "application/vnd.jupyter.widget-view+json": {
       "model_id": "4f578b8d4296443aaf6c69f95ce1dbfe",
       "version_major": 2,
       "version_minor": 0
      },
      "text/plain": [
       "FloatProgress(value=0.0, layout=Layout(width='auto'), style=ProgressStyle(bar_color='black'))"
      ]
     },
     "metadata": {},
     "output_type": "display_data"
    },
    {
     "name": "stdout",
     "output_type": "stream",
     "text": [
      "Total options found for today are: 22\n",
      "\n",
      "--- Phase 2: Preparing Master DataFrame ---\n",
      "✅ Successfully created master DataFrame with 220 total columns.\n",
      "['P_483.0_20240129', 'C_483.0_20240129', 'P_484.0_20240129', 'C_484.0_20240129', 'P_485.0_20240129', 'C_485.0_20240129', 'P_486.0_20240129', 'C_486.0_20240129', 'P_487.0_20240129', 'C_487.0_20240129', 'P_488.0_20240129', 'C_488.0_20240129', 'P_489.0_20240129', 'C_489.0_20240129', 'P_490.0_20240129', 'C_490.0_20240129', 'P_491.0_20240129', 'C_491.0_20240129', 'P_492.0_20240129', 'C_492.0_20240129', 'P_493.0_20240129', 'C_493.0_20240129']\n",
      "  -> Short ATM put ENTRY for P_488.0_20240129 at 12:31:00 and price 0.48\n",
      "  -> SPY is 488.29 and strike is 488.0\n",
      "  -> MA cross exit for P_488.0_20240129 at 0.03. Profit: $4500.00\n",
      "\n",
      "--- Processing Day: 2024-01-30 ---\n",
      "Fetching options across 490.49\n"
     ]
    },
    {
     "data": {
      "application/vnd.jupyter.widget-view+json": {
       "model_id": "216d7c6e71dd44bab2e92980de5677ed",
       "version_major": 2,
       "version_minor": 0
      },
      "text/plain": [
       "FloatProgress(value=0.0, layout=Layout(width='auto'), style=ProgressStyle(bar_color='black'))"
      ]
     },
     "metadata": {},
     "output_type": "display_data"
    },
    {
     "name": "stdout",
     "output_type": "stream",
     "text": [
      "Total options found for today are: 22\n",
      "\n",
      "--- Phase 2: Preparing Master DataFrame ---\n",
      "✅ Successfully created master DataFrame with 220 total columns.\n",
      "['P_485.0_20240130', 'C_485.0_20240130', 'P_486.0_20240130', 'C_486.0_20240130', 'P_487.0_20240130', 'C_487.0_20240130', 'P_488.0_20240130', 'C_488.0_20240130', 'P_489.0_20240130', 'C_489.0_20240130', 'P_490.0_20240130', 'C_490.0_20240130', 'P_491.0_20240130', 'C_491.0_20240130', 'P_492.0_20240130', 'C_492.0_20240130', 'P_493.0_20240130', 'C_493.0_20240130', 'P_494.0_20240130', 'C_494.0_20240130', 'P_495.0_20240130', 'C_495.0_20240130']\n",
      "  -> Short call ENTRY for C_490.0_20240130 at 10:02:00 and price 1.3\n",
      "  -> SPY is 490.44 and strike is 490.0\n",
      "  -> Target EXIT for C_490.0_20240130 at 1.67. Profit: $-3700.00\n",
      "  -> Short ATM put ENTRY for P_491.0_20240130 at 10:19:00 and price 1.07\n",
      "  -> SPY is 490.98 and strike is 491.0\n",
      "  -> Short call ENTRY for C_490.0_20240130 at 10:27:00 and price 1.27\n",
      "  -> SPY is 490.39 and strike is 490.0\n",
      "  -> Target EXIT for P_491.0_20240130 at 1.36. Profit: $-2900.00\n",
      "  -> Short ATM put ENTRY for P_491.0_20240130 at 11:05:00 and price 1.09\n",
      "  -> SPY is 490.82 and strike is 491.0\n",
      "  -> Target EXIT for C_490.0_20240130 at 1.53. Profit: $-2600.00\n",
      "  -> Short ATM put ENTRY for P_490.0_20240130 at 12:40:00 and price 0.68\n",
      "  -> SPY is 490.45 and strike is 490.0\n",
      "  -> Short call ENTRY for C_490.0_20240130 at 13:15:00 and price 1.17\n",
      "  -> SPY is 490.5 and strike is 490.0\n",
      "  -> Target EXIT for C_490.0_20240130 at 1.45. Profit: $-2800.00\n",
      "Stoploss of  -1 side entry was 1.09 in P_491.0_20240130 at 0.57\n",
      "  -> EOD EXIT for P_491.0_20240130 at 0.57. Profit: $5200.00\n",
      "EOD CLosing of -1 side positon in P_490.0_20240130 at 2024-01-30 15:20:00\n",
      "  -> EOD EXIT for P_490.0_20240130 at 0.26. Profit: $4200.00\n",
      "\n",
      "--- Processing Day: 2024-02-02 ---\n",
      "Fetching options across 489.6\n"
     ]
    },
    {
     "data": {
      "application/vnd.jupyter.widget-view+json": {
       "model_id": "bba4ebf7a68f45228e9b263b39a96fda",
       "version_major": 2,
       "version_minor": 0
      },
      "text/plain": [
       "FloatProgress(value=0.0, layout=Layout(width='auto'), style=ProgressStyle(bar_color='black'))"
      ]
     },
     "metadata": {},
     "output_type": "display_data"
    },
    {
     "name": "stdout",
     "output_type": "stream",
     "text": [
      "Total options found for today are: 22\n",
      "\n",
      "--- Phase 2: Preparing Master DataFrame ---\n",
      "✅ Successfully created master DataFrame with 220 total columns.\n",
      "['P_485.0_20240202', 'C_485.0_20240202', 'P_486.0_20240202', 'C_486.0_20240202', 'P_487.0_20240202', 'C_487.0_20240202', 'P_488.0_20240202', 'C_488.0_20240202', 'P_489.0_20240202', 'C_489.0_20240202', 'P_490.0_20240202', 'C_490.0_20240202', 'P_491.0_20240202', 'C_491.0_20240202', 'P_492.0_20240202', 'C_492.0_20240202', 'P_493.0_20240202', 'C_493.0_20240202', 'P_494.0_20240202', 'C_494.0_20240202', 'P_495.0_20240202', 'C_495.0_20240202']\n",
      "  -> Short ATM put ENTRY for P_491.0_20240202 at 10:25:00 and price 0.96\n",
      "  -> SPY is 491.26 and strike is 491.0\n",
      "  -> Target EXIT for P_491.0_20240202 at 1.26. Profit: $-3000.00\n",
      "  -> Short call ENTRY for C_490.0_20240202 at 10:33:00 and price 1.28\n",
      "  -> SPY is 490.37 and strike is 490.0\n",
      "  -> Target EXIT for C_490.0_20240202 at 1.76. Profit: $-4800.00\n",
      "  -> Short ATM put ENTRY for P_491.0_20240202 at 10:41:00 and price 0.81\n",
      "  -> SPY is 491.47 and strike is 491.0\n",
      "Stoploss of  -1 side entry was 0.81 in P_491.0_20240202 at 0.29\n",
      "  -> EOD EXIT for P_491.0_20240202 at 0.29. Profit: $5200.00\n",
      "\n",
      "--- Processing Day: 2024-02-05 ---\n",
      "Fetching options across 493.42\n"
     ]
    },
    {
     "data": {
      "application/vnd.jupyter.widget-view+json": {
       "model_id": "acb12e48e0604fcaad25dc1f390adbf8",
       "version_major": 2,
       "version_minor": 0
      },
      "text/plain": [
       "FloatProgress(value=0.0, layout=Layout(width='auto'), style=ProgressStyle(bar_color='black'))"
      ]
     },
     "metadata": {},
     "output_type": "display_data"
    },
    {
     "name": "stdout",
     "output_type": "stream",
     "text": [
      "Total options found for today are: 22\n",
      "\n",
      "--- Phase 2: Preparing Master DataFrame ---\n",
      "✅ Successfully created master DataFrame with 220 total columns.\n",
      "['P_488.0_20240205', 'C_488.0_20240205', 'P_489.0_20240205', 'C_489.0_20240205', 'P_490.0_20240205', 'C_490.0_20240205', 'P_491.0_20240205', 'C_491.0_20240205', 'P_492.0_20240205', 'C_492.0_20240205', 'P_493.0_20240205', 'C_493.0_20240205', 'P_494.0_20240205', 'C_494.0_20240205', 'P_495.0_20240205', 'C_495.0_20240205', 'P_496.0_20240205', 'C_496.0_20240205', 'P_497.0_20240205', 'C_497.0_20240205', 'P_498.0_20240205', 'C_498.0_20240205']\n",
      "  -> Short ATM put ENTRY for P_493.0_20240205 at 09:49:00 and price 0.79\n",
      "  -> SPY is 493.4 and strike is 493.0\n",
      "  -> Target EXIT for P_493.0_20240205 at 1.07. Profit: $-2800.00\n",
      "  -> Short ATM put ENTRY for P_491.0_20240205 at 10:31:00 and price 0.82\n",
      "  -> SPY is 491.49 and strike is 491.0\n",
      "  -> Target EXIT for P_491.0_20240205 at 1.14. Profit: $-3200.00\n",
      "  -> Short ATM put ENTRY for P_492.0_20240205 at 11:13:00 and price 1.08\n",
      "  -> SPY is 491.61 and strike is 492.0\n",
      "Stoploss of  -1 side entry was 1.08 in P_492.0_20240205 at 0.55\n",
      "  -> EOD EXIT for P_492.0_20240205 at 0.55. Profit: $5300.00\n",
      "  -> Short ATM put ENTRY for P_492.0_20240205 at 12:12:00 and price 0.53\n",
      "  -> SPY is 492.49 and strike is 492.0\n",
      "Stoploss of  -1 side entry was 0.53 in P_492.0_20240205 at 0.03\n",
      "  -> EOD EXIT for P_492.0_20240205 at 0.03. Profit: $5000.00\n",
      "\n",
      "--- Processing Day: 2024-02-06 ---\n",
      "Fetching options across 493.49\n"
     ]
    },
    {
     "data": {
      "application/vnd.jupyter.widget-view+json": {
       "model_id": "8bbc94ffaaa141fd9e53a5cbc55a3eb9",
       "version_major": 2,
       "version_minor": 0
      },
      "text/plain": [
       "FloatProgress(value=0.0, layout=Layout(width='auto'), style=ProgressStyle(bar_color='black'))"
      ]
     },
     "metadata": {},
     "output_type": "display_data"
    },
    {
     "name": "stdout",
     "output_type": "stream",
     "text": [
      "Total options found for today are: 22\n",
      "\n",
      "--- Phase 2: Preparing Master DataFrame ---\n",
      "✅ Successfully created master DataFrame with 220 total columns.\n",
      "['P_488.0_20240206', 'C_488.0_20240206', 'P_489.0_20240206', 'C_489.0_20240206', 'P_490.0_20240206', 'C_490.0_20240206', 'P_491.0_20240206', 'C_491.0_20240206', 'P_492.0_20240206', 'C_492.0_20240206', 'P_493.0_20240206', 'C_493.0_20240206', 'P_494.0_20240206', 'C_494.0_20240206', 'P_495.0_20240206', 'C_495.0_20240206', 'P_496.0_20240206', 'C_496.0_20240206', 'P_497.0_20240206', 'C_497.0_20240206', 'P_498.0_20240206', 'C_498.0_20240206']\n",
      "  -> Short ATM put ENTRY for P_494.0_20240206 at 09:41:00 and price 1.05\n",
      "  -> SPY is 493.81 and strike is 494.0\n",
      "  -> Short call ENTRY for C_493.0_20240206 at 09:57:00 and price 1.17\n",
      "  -> SPY is 493.33 and strike is 493.0\n",
      "  -> Target EXIT for P_494.0_20240206 at 1.33. Profit: $-2800.00\n",
      "Stoploss of  -1 side entry was 1.17 in C_493.0_20240206 at 0.65\n",
      "  -> EOD EXIT for C_493.0_20240206 at 0.65. Profit: $5200.00\n",
      "  -> Short ATM put ENTRY for P_493.0_20240206 at 10:34:00 and price 1.12\n",
      "  -> SPY is 492.66 and strike is 493.0\n",
      "Stoploss of  -1 side entry was 1.12 in P_493.0_20240206 at 0.6\n",
      "  -> EOD EXIT for P_493.0_20240206 at 0.60. Profit: $5200.00\n",
      "\n",
      "--- Processing Day: 2024-02-07 ---\n",
      "Fetching options across 496.28\n"
     ]
    },
    {
     "data": {
      "application/vnd.jupyter.widget-view+json": {
       "model_id": "fdbab5411c5a4c6db436cad660745e5d",
       "version_major": 2,
       "version_minor": 0
      },
      "text/plain": [
       "FloatProgress(value=0.0, layout=Layout(width='auto'), style=ProgressStyle(bar_color='black'))"
      ]
     },
     "metadata": {},
     "output_type": "display_data"
    },
    {
     "name": "stdout",
     "output_type": "stream",
     "text": [
      "Total options found for today are: 20\n",
      "\n",
      "--- Phase 2: Preparing Master DataFrame ---\n",
      "✅ Successfully created master DataFrame with 200 total columns.\n",
      "['P_491.0_20240207', 'C_491.0_20240207', 'P_492.0_20240207', 'C_492.0_20240207', 'P_493.0_20240207', 'C_493.0_20240207', 'P_494.0_20240207', 'C_494.0_20240207', 'P_495.0_20240207', 'C_495.0_20240207', 'P_496.0_20240207', 'C_496.0_20240207', 'P_497.0_20240207', 'C_497.0_20240207', 'P_498.0_20240207', 'C_498.0_20240207', 'P_499.0_20240207', 'C_499.0_20240207', 'P_500.0_20240207', 'C_500.0_20240207']\n",
      "  -> Short ATM put ENTRY for P_496.0_20240207 at 09:51:00 and price 0.94\n",
      "  -> SPY is 496.03 and strike is 496.0\n",
      "  -> Target EXIT for P_496.0_20240207 at 1.21. Profit: $-2700.00\n",
      "  -> Short ATM put ENTRY for P_496.0_20240207 at 10:00:00 and price 1.0\n",
      "  -> SPY is 495.89 and strike is 496.0\n",
      "  -> Short ATM put ENTRY for P_497.0_20240207 at 10:14:00 and price 1.1\n",
      "  -> SPY is 496.69 and strike is 497.0\n",
      "Stoploss of  -1 side entry was 1.0 in P_496.0_20240207 at 0.49\n",
      "  -> EOD EXIT for P_496.0_20240207 at 0.49. Profit: $5100.00\n",
      "Stoploss of  -1 side entry was 1.1 in P_497.0_20240207 at 0.6\n",
      "  -> EOD EXIT for P_497.0_20240207 at 0.60. Profit: $5000.00\n",
      "  -> Short ATM put ENTRY for P_497.0_20240207 at 11:07:00 and price 0.84\n",
      "  -> SPY is 497.17 and strike is 497.0\n",
      "Stoploss of  -1 side entry was 0.84 in P_497.0_20240207 at 0.33\n",
      "  -> EOD EXIT for P_497.0_20240207 at 0.33. Profit: $5100.00\n",
      "\n",
      "--- Processing Day: 2024-02-08 ---\n",
      "Fetching options across 498.03\n"
     ]
    },
    {
     "data": {
      "application/vnd.jupyter.widget-view+json": {
       "model_id": "f0882acaa0f840aa958b7cb955070e3e",
       "version_major": 2,
       "version_minor": 0
      },
      "text/plain": [
       "FloatProgress(value=0.0, layout=Layout(width='auto'), style=ProgressStyle(bar_color='black'))"
      ]
     },
     "metadata": {},
     "output_type": "display_data"
    },
    {
     "name": "stdout",
     "output_type": "stream",
     "text": [
      "Total options found for today are: 18\n",
      "\n",
      "--- Phase 2: Preparing Master DataFrame ---\n",
      "✅ Successfully created master DataFrame with 180 total columns.\n",
      "['P_493.0_20240208', 'C_493.0_20240208', 'P_494.0_20240208', 'C_494.0_20240208', 'P_495.0_20240208', 'C_495.0_20240208', 'P_496.0_20240208', 'C_496.0_20240208', 'P_497.0_20240208', 'C_497.0_20240208', 'P_498.0_20240208', 'C_498.0_20240208', 'P_499.0_20240208', 'C_499.0_20240208', 'P_500.0_20240208', 'C_500.0_20240208', 'P_502.0_20240208', 'C_502.0_20240208']\n",
      "  -> Short ATM put ENTRY for P_498.0_20240208 at 10:02:00 and price 0.84\n",
      "  -> SPY is 498.11 and strike is 498.0\n",
      "  -> Target EXIT for P_498.0_20240208 at 1.13. Profit: $-2900.00\n",
      "  -> Short ATM put ENTRY for P_498.0_20240208 at 10:58:00 and price 0.73\n",
      "  -> SPY is 498.07 and strike is 498.0\n",
      "  -> Target EXIT for P_498.0_20240208 at 0.99. Profit: $-2600.00\n",
      "  -> Short ATM put ENTRY for P_498.0_20240208 at 13:03:00 and price 0.55\n",
      "  -> SPY is 498.15 and strike is 498.0\n",
      "EOD CLosing of -1 side positon in P_498.0_20240208 at 2024-02-08 15:16:00\n",
      "  -> EOD EXIT for P_498.0_20240208 at 0.17. Profit: $3800.00\n",
      "\n",
      "--- Processing Day: 2024-02-09 ---\n",
      "Fetching options across 499.13\n"
     ]
    },
    {
     "data": {
      "application/vnd.jupyter.widget-view+json": {
       "model_id": "429b01bebec1472aa309aca06f4b0c7d",
       "version_major": 2,
       "version_minor": 0
      },
      "text/plain": [
       "FloatProgress(value=0.0, layout=Layout(width='auto'), style=ProgressStyle(bar_color='black'))"
      ]
     },
     "metadata": {},
     "output_type": "display_data"
    },
    {
     "name": "stdout",
     "output_type": "stream",
     "text": [
      "Total options found for today are: 22\n",
      "\n",
      "--- Phase 2: Preparing Master DataFrame ---\n",
      "✅ Successfully created master DataFrame with 220 total columns.\n",
      "['P_494.0_20240209', 'C_494.0_20240209', 'P_495.0_20240209', 'C_495.0_20240209', 'P_496.0_20240209', 'C_496.0_20240209', 'P_497.0_20240209', 'C_497.0_20240209', 'P_498.0_20240209', 'C_498.0_20240209', 'P_499.0_20240209', 'C_499.0_20240209', 'P_500.0_20240209', 'C_500.0_20240209', 'P_501.0_20240209', 'C_501.0_20240209', 'P_502.0_20240209', 'C_502.0_20240209', 'P_503.0_20240209', 'C_503.0_20240209', 'P_504.0_20240209', 'C_504.0_20240209']\n",
      "  -> Short ATM put ENTRY for P_499.0_20240209 at 09:59:00 and price 0.8\n",
      "  -> SPY is 499.32 and strike is 499.0\n",
      "  -> Short ATM put ENTRY for P_500.0_20240209 at 10:01:00 and price 1.15\n",
      "  -> SPY is 499.58 and strike is 500.0\n",
      "Stoploss of  -1 side entry was 0.8 in P_499.0_20240209 at 0.0\n",
      "  -> EOD EXIT for P_499.0_20240209 at 0.00. Profit: $8000.00\n",
      "Stoploss of  -1 side entry was 1.15 in P_500.0_20240209 at 0.0\n",
      "  -> EOD EXIT for P_500.0_20240209 at 0.00. Profit: $11500.00\n",
      "  -> Short ATM put ENTRY for P_500.0_20240209 at 12:14:00 and price 0.81\n",
      "  -> SPY is 499.69 and strike is 500.0\n",
      "Stoploss of  -1 side entry was 0.81 in P_500.0_20240209 at 0.31\n",
      "  -> EOD EXIT for P_500.0_20240209 at 0.31. Profit: $5000.00\n",
      "  -> Short ATM put ENTRY for P_501.0_20240209 at 13:12:00 and price 0.8\n",
      "  -> SPY is 500.56 and strike is 501.0\n",
      "Stoploss of  -1 side entry was 0.8 in P_501.0_20240209 at 0.29\n",
      "  -> EOD EXIT for P_501.0_20240209 at 0.29. Profit: $5100.00\n",
      "\n",
      "--- Processing Day: 2024-02-12 ---\n",
      "Fetching options across 501.18\n"
     ]
    },
    {
     "data": {
      "application/vnd.jupyter.widget-view+json": {
       "model_id": "6bed6653e09545b19a93306651f8da84",
       "version_major": 2,
       "version_minor": 0
      },
      "text/plain": [
       "FloatProgress(value=0.0, layout=Layout(width='auto'), style=ProgressStyle(bar_color='black'))"
      ]
     },
     "metadata": {},
     "output_type": "display_data"
    },
    {
     "name": "stdout",
     "output_type": "stream",
     "text": [
      "Total options found for today are: 22\n",
      "\n",
      "--- Phase 2: Preparing Master DataFrame ---\n",
      "✅ Successfully created master DataFrame with 220 total columns.\n",
      "['P_496.0_20240212', 'C_496.0_20240212', 'P_497.0_20240212', 'C_497.0_20240212', 'P_498.0_20240212', 'C_498.0_20240212', 'P_499.0_20240212', 'C_499.0_20240212', 'P_500.0_20240212', 'C_500.0_20240212', 'P_501.0_20240212', 'C_501.0_20240212', 'P_502.0_20240212', 'C_502.0_20240212', 'P_503.0_20240212', 'C_503.0_20240212', 'P_504.0_20240212', 'C_504.0_20240212', 'P_505.0_20240212', 'C_505.0_20240212', 'P_506.0_20240212', 'C_506.0_20240212']\n",
      "  -> Short ATM put ENTRY for P_501.0_20240212 at 09:48:00 and price 0.66\n",
      "  -> SPY is 501.27 and strike is 501.0\n",
      "  -> Short ATM put ENTRY for P_502.0_20240212 at 10:32:00 and price 0.94\n",
      "  -> SPY is 501.53 and strike is 502.0\n",
      "  -> Short ATM put ENTRY for P_503.0_20240212 at 11:24:00 and price 0.88\n",
      "  -> SPY is 502.68 and strike is 503.0\n",
      "Stoploss of  -1 side entry was 0.94 in P_502.0_20240212 at 0.42\n",
      "  -> EOD EXIT for P_502.0_20240212 at 0.42. Profit: $5200.00\n",
      "Stoploss of  -1 side entry was 0.66 in P_501.0_20240212 at 0.16\n",
      "  -> EOD EXIT for P_501.0_20240212 at 0.16. Profit: $5000.00\n",
      "  -> Target EXIT for P_503.0_20240212 at 1.34. Profit: $-4600.00\n",
      "\n",
      "--- Processing Day: 2024-02-14 ---\n",
      "Fetching options across 496.75\n"
     ]
    },
    {
     "data": {
      "application/vnd.jupyter.widget-view+json": {
       "model_id": "14dac0b7fb204452aa2778fa7d02bd2c",
       "version_major": 2,
       "version_minor": 0
      },
      "text/plain": [
       "FloatProgress(value=0.0, layout=Layout(width='auto'), style=ProgressStyle(bar_color='black'))"
      ]
     },
     "metadata": {},
     "output_type": "display_data"
    },
    {
     "name": "stdout",
     "output_type": "stream",
     "text": [
      "Total options found for today are: 22\n",
      "\n",
      "--- Phase 2: Preparing Master DataFrame ---\n",
      "✅ Successfully created master DataFrame with 220 total columns.\n",
      "['P_492.0_20240214', 'C_492.0_20240214', 'P_493.0_20240214', 'C_493.0_20240214', 'P_494.0_20240214', 'C_494.0_20240214', 'P_495.0_20240214', 'C_495.0_20240214', 'P_496.0_20240214', 'C_496.0_20240214', 'P_497.0_20240214', 'C_497.0_20240214', 'P_498.0_20240214', 'C_498.0_20240214', 'P_499.0_20240214', 'C_499.0_20240214', 'P_500.0_20240214', 'C_500.0_20240214', 'P_501.0_20240214', 'C_501.0_20240214', 'P_502.0_20240214', 'C_502.0_20240214']\n",
      "  -> Short ATM put ENTRY for P_497.0_20240214 at 09:56:00 and price 1.13\n",
      "  -> SPY is 496.81 and strike is 497.0\n",
      "Stoploss of  -1 side entry was 1.13 in P_497.0_20240214 at 0.6\n",
      "  -> EOD EXIT for P_497.0_20240214 at 0.60. Profit: $5300.00\n",
      "  -> Short call ENTRY for C_496.0_20240214 at 10:55:00 and price 1.18\n",
      "  -> SPY is 496.38 and strike is 496.0\n",
      "Stoploss of  -1 side entry was 1.18 in C_496.0_20240214 at 0.65\n",
      "  -> EOD EXIT for C_496.0_20240214 at 0.65. Profit: $5300.00\n",
      "  -> Short ATM put ENTRY for P_496.0_20240214 at 11:12:00 and price 0.97\n",
      "  -> SPY is 495.99 and strike is 496.0\n",
      "  -> Target EXIT for P_496.0_20240214 at 1.27. Profit: $-3000.00\n",
      "  -> Short ATM put ENTRY for P_496.0_20240214 at 11:24:00 and price 0.99\n",
      "  -> SPY is 495.95 and strike is 496.0\n",
      "  -> Target EXIT for P_496.0_20240214 at 1.30. Profit: $-3100.00\n",
      "  -> Short ATM put ENTRY for P_495.0_20240214 at 12:15:00 and price 0.8\n",
      "  -> SPY is 495.34 and strike is 495.0\n",
      "  -> Short ATM put ENTRY for P_496.0_20240214 at 12:31:00 and price 0.84\n",
      "  -> SPY is 496.02 and strike is 496.0\n",
      "Stoploss of  -1 side entry was 0.8 in P_495.0_20240214 at 0.27\n",
      "  -> EOD EXIT for P_495.0_20240214 at 0.27. Profit: $5300.00\n",
      "  -> Target EXIT for P_496.0_20240214 at 1.11. Profit: $-2700.00\n",
      "  -> Short ATM put ENTRY for P_496.0_20240214 at 13:19:00 and price 0.85\n",
      "  -> SPY is 495.83 and strike is 496.0\n",
      "Stoploss of  -1 side entry was 0.85 in P_496.0_20240214 at 0.33\n",
      "  -> EOD EXIT for P_496.0_20240214 at 0.33. Profit: $5200.00\n",
      "\n",
      "--- Processing Day: 2024-02-15 ---\n",
      "Fetching options across 499.29\n",
      "Total options found for today are: 22\n",
      "\n",
      "--- Phase 2: Preparing Master DataFrame ---\n",
      "✅ Successfully created master DataFrame with 220 total columns.\n",
      "['P_494.0_20240215', 'C_494.0_20240215', 'P_495.0_20240215', 'C_495.0_20240215', 'P_496.0_20240215', 'C_496.0_20240215', 'P_497.0_20240215', 'C_497.0_20240215', 'P_498.0_20240215', 'C_498.0_20240215', 'P_499.0_20240215', 'C_499.0_20240215', 'P_500.0_20240215', 'C_500.0_20240215', 'P_501.0_20240215', 'C_501.0_20240215', 'P_502.0_20240215', 'C_502.0_20240215', 'P_503.0_20240215', 'C_503.0_20240215', 'P_504.0_20240215', 'C_504.0_20240215']\n",
      "  -> Short ATM put ENTRY for P_500.0_20240215 at 10:17:00 and price 0.84\n",
      "  -> SPY is 500.32 and strike is 500.0\n",
      "  -> Target EXIT for P_500.0_20240215 at 1.14. Profit: $-3000.00\n",
      "  -> Short ATM put ENTRY for P_500.0_20240215 at 10:55:00 and price 1.03\n",
      "  -> SPY is 499.86 and strike is 500.0\n",
      "  -> Target EXIT for P_500.0_20240215 at 1.41. Profit: $-3800.00\n",
      "  -> Short call ENTRY for C_499.0_20240215 at 11:13:00 and price 1.16\n",
      "  -> SPY is 499.3 and strike is 499.0\n",
      "  -> Short ATM put ENTRY for P_499.0_20240215 at 11:22:00 and price 0.8\n",
      "  -> SPY is 499.39 and strike is 499.0\n",
      "  -> Short ATM put ENTRY for P_500.0_20240215 at 11:39:00 and price 1.09\n",
      "  -> SPY is 499.65 and strike is 500.0\n",
      "  -> Target EXIT for C_499.0_20240215 at 1.45. Profit: $-2900.00\n",
      "Stoploss of  -1 side entry was 1.09 in P_500.0_20240215 at 0.59\n",
      "  -> EOD EXIT for P_500.0_20240215 at 0.59. Profit: $5000.00\n",
      "Stoploss of  -1 side entry was 0.8 in P_499.0_20240215 at 0.29\n",
      "  -> EOD EXIT for P_499.0_20240215 at 0.29. Profit: $5100.00\n",
      "  -> Short ATM put ENTRY for P_501.0_20240215 at 12:47:00 and price 1.05\n",
      "  -> SPY is 500.51 and strike is 501.0\n",
      "  -> Target EXIT for P_501.0_20240215 at 1.31. Profit: $-2600.00\n",
      "  -> Short ATM put ENTRY for P_501.0_20240215 at 13:09:00 and price 0.88\n",
      "  -> SPY is 500.8 and strike is 501.0\n",
      "Stoploss of  -1 side entry was 0.88 in P_501.0_20240215 at 0.37\n",
      "  -> EOD EXIT for P_501.0_20240215 at 0.37. Profit: $5100.00\n",
      "\n",
      "--- Processing Day: 2024-02-16 ---\n",
      "Fetching options across 501.71\n",
      "Total options found for today are: 22\n",
      "\n",
      "--- Phase 2: Preparing Master DataFrame ---\n",
      "✅ Successfully created master DataFrame with 220 total columns.\n",
      "['P_497.0_20240216', 'C_497.0_20240216', 'P_498.0_20240216', 'C_498.0_20240216', 'P_499.0_20240216', 'C_499.0_20240216', 'P_500.0_20240216', 'C_500.0_20240216', 'P_501.0_20240216', 'C_501.0_20240216', 'P_502.0_20240216', 'C_502.0_20240216', 'P_503.0_20240216', 'C_503.0_20240216', 'P_504.0_20240216', 'C_504.0_20240216', 'P_505.0_20240216', 'C_505.0_20240216', 'P_506.0_20240216', 'C_506.0_20240216', 'P_507.0_20240216', 'C_507.0_20240216']\n",
      "\n",
      "--- Processing Day: 2024-02-20 ---\n",
      "Fetching options across 498.25\n",
      "Total options found for today are: 22\n",
      "\n",
      "--- Phase 2: Preparing Master DataFrame ---\n",
      "✅ Successfully created master DataFrame with 220 total columns.\n",
      "['P_493.0_20240220', 'C_493.0_20240220', 'P_494.0_20240220', 'C_494.0_20240220', 'P_495.0_20240220', 'C_495.0_20240220', 'P_496.0_20240220', 'C_496.0_20240220', 'P_497.0_20240220', 'C_497.0_20240220', 'P_498.0_20240220', 'C_498.0_20240220', 'P_499.0_20240220', 'C_499.0_20240220', 'P_500.0_20240220', 'C_500.0_20240220', 'P_501.0_20240220', 'C_501.0_20240220', 'P_502.0_20240220', 'C_502.0_20240220', 'P_503.0_20240220', 'C_503.0_20240220']\n",
      "  -> Short ATM put ENTRY for P_497.0_20240220 at 10:54:00 and price 1.07\n",
      "  -> SPY is 496.87 and strike is 497.0\n",
      "  -> Target EXIT for P_497.0_20240220 at 1.34. Profit: $-2700.00\n",
      "  -> Short ATM put ENTRY for P_496.0_20240220 at 11:46:00 and price 0.71\n",
      "  -> SPY is 496.4 and strike is 496.0\n",
      "  -> Short ATM put ENTRY for P_497.0_20240220 at 11:47:00 and price 1.13\n",
      "  -> SPY is 496.52 and strike is 497.0\n",
      "  -> Target EXIT for P_497.0_20240220 at 1.50. Profit: $-3700.00\n",
      "  -> Target EXIT for P_496.0_20240220 at 0.97. Profit: $-2600.00\n",
      "  -> Short ATM put ENTRY for P_496.0_20240220 at 13:02:00 and price 1.05\n",
      "  -> SPY is 495.53 and strike is 496.0\n",
      "  -> Target EXIT for P_496.0_20240220 at 1.41. Profit: $-3600.00\n",
      "\n",
      "--- Processing Day: 2024-02-21 ---\n",
      "Fetching options across 495.29\n"
     ]
    },
    {
     "data": {
      "application/vnd.jupyter.widget-view+json": {
       "model_id": "510e0085cdc1439fb0a821852e14e23b",
       "version_major": 2,
       "version_minor": 0
      },
      "text/plain": [
       "FloatProgress(value=0.0, layout=Layout(width='auto'), style=ProgressStyle(bar_color='black'))"
      ]
     },
     "metadata": {},
     "output_type": "display_data"
    },
    {
     "name": "stdout",
     "output_type": "stream",
     "text": [
      "Total options found for today are: 22\n",
      "\n",
      "--- Phase 2: Preparing Master DataFrame ---\n",
      "✅ Successfully created master DataFrame with 220 total columns.\n",
      "['P_490.0_20240221', 'C_490.0_20240221', 'P_491.0_20240221', 'C_491.0_20240221', 'P_492.0_20240221', 'C_492.0_20240221', 'P_493.0_20240221', 'C_493.0_20240221', 'P_494.0_20240221', 'C_494.0_20240221', 'P_495.0_20240221', 'C_495.0_20240221', 'P_496.0_20240221', 'C_496.0_20240221', 'P_497.0_20240221', 'C_497.0_20240221', 'P_498.0_20240221', 'C_498.0_20240221', 'P_499.0_20240221', 'C_499.0_20240221', 'P_500.0_20240221', 'C_500.0_20240221']\n",
      "\n",
      "--- Processing Day: 2024-02-23 ---\n",
      "Fetching options across 509.21\n"
     ]
    },
    {
     "data": {
      "application/vnd.jupyter.widget-view+json": {
       "model_id": "f303337fdcd64a6884c5e13893dcb8d6",
       "version_major": 2,
       "version_minor": 0
      },
      "text/plain": [
       "FloatProgress(value=0.0, layout=Layout(width='auto'), style=ProgressStyle(bar_color='black'))"
      ]
     },
     "metadata": {},
     "output_type": "display_data"
    },
    {
     "name": "stdout",
     "output_type": "stream",
     "text": [
      "Total options found for today are: 22\n",
      "\n",
      "--- Phase 2: Preparing Master DataFrame ---\n",
      "✅ Successfully created master DataFrame with 220 total columns.\n",
      "['P_504.0_20240223', 'C_504.0_20240223', 'P_505.0_20240223', 'C_505.0_20240223', 'P_506.0_20240223', 'C_506.0_20240223', 'P_507.0_20240223', 'C_507.0_20240223', 'P_508.0_20240223', 'C_508.0_20240223', 'P_509.0_20240223', 'C_509.0_20240223', 'P_510.0_20240223', 'C_510.0_20240223', 'P_511.0_20240223', 'C_511.0_20240223', 'P_512.0_20240223', 'C_512.0_20240223', 'P_513.0_20240223', 'C_513.0_20240223', 'P_514.0_20240223', 'C_514.0_20240223']\n",
      "  -> Short call ENTRY for C_509.0_20240223 at 09:58:00 and price 1.19\n",
      "  -> SPY is 509.2 and strike is 509.0\n",
      "  -> Target EXIT for C_509.0_20240223 at 1.46. Profit: $-2700.00\n",
      "  -> Short call ENTRY for C_509.0_20240223 at 10:01:00 and price 1.34\n",
      "  -> SPY is 509.48 and strike is 509.0\n",
      "  -> Short ATM put ENTRY for P_509.0_20240223 at 10:35:00 and price 0.86\n",
      "  -> SPY is 509.33 and strike is 509.0\n",
      "Stoploss of  -1 side entry was 1.34 in C_509.0_20240223 at 0.82\n",
      "  -> EOD EXIT for C_509.0_20240223 at 0.82. Profit: $5200.00\n",
      "  -> Target EXIT for P_509.0_20240223 at 1.11. Profit: $-2500.00\n",
      "  -> Short ATM put ENTRY for P_509.0_20240223 at 10:59:00 and price 1.01\n",
      "  -> SPY is 508.8 and strike is 509.0\n",
      "  -> Target EXIT for P_509.0_20240223 at 1.33. Profit: $-3200.00\n",
      "  -> Short ATM put ENTRY for P_508.0_20240223 at 11:12:00 and price 1.14\n",
      "  -> SPY is 507.68 and strike is 508.0\n",
      "Stoploss of  -1 side entry was 1.14 in P_508.0_20240223 at 0.62\n",
      "  -> EOD EXIT for P_508.0_20240223 at 0.62. Profit: $5200.00\n",
      "  -> Short ATM put ENTRY for P_508.0_20240223 at 11:57:00 and price 0.66\n",
      "  -> SPY is 508.37 and strike is 508.0\n",
      "  -> Short ATM put ENTRY for P_509.0_20240223 at 12:02:00 and price 0.97\n",
      "  -> SPY is 508.64 and strike is 509.0\n",
      "  -> Target EXIT for P_509.0_20240223 at 1.29. Profit: $-3200.00\n",
      "  -> Short ATM put ENTRY for P_509.0_20240223 at 12:48:00 and price 1.0\n",
      "  -> SPY is 508.53 and strike is 509.0\n",
      "  -> Target EXIT for P_509.0_20240223 at 1.41. Profit: $-4100.00\n",
      "EOD CLosing of -1 side positon in P_508.0_20240223 at 2024-02-23 15:16:00\n",
      "  -> EOD EXIT for P_508.0_20240223 at 0.40. Profit: $2600.00\n",
      "\n",
      "--- Processing Day: 2024-02-26 ---\n",
      "Fetching options across 508.16\n",
      "Total options found for today are: 16\n",
      "\n",
      "--- Phase 2: Preparing Master DataFrame ---\n",
      "✅ Successfully created master DataFrame with 160 total columns.\n",
      "['P_503.0_20240226', 'C_503.0_20240226', 'P_504.0_20240226', 'C_504.0_20240226', 'P_505.0_20240226', 'C_505.0_20240226', 'P_506.0_20240226', 'C_506.0_20240226', 'P_507.0_20240226', 'C_507.0_20240226', 'P_508.0_20240226', 'C_508.0_20240226', 'P_509.0_20240226', 'C_509.0_20240226', 'P_510.0_20240226', 'C_510.0_20240226']\n",
      "  -> Short ATM put ENTRY for P_508.0_20240226 at 10:09:00 and price 0.7\n",
      "  -> SPY is 508.4 and strike is 508.0\n",
      "  -> Target EXIT for P_508.0_20240226 at 0.96. Profit: $-2600.00\n",
      "  -> Short ATM put ENTRY for P_507.0_20240226 at 11:13:00 and price 0.56\n",
      "  -> SPY is 507.44 and strike is 507.0\n",
      "  -> Short ATM put ENTRY for P_508.0_20240226 at 11:17:00 and price 1.0\n",
      "  -> SPY is 507.55 and strike is 508.0\n",
      "  -> Target EXIT for P_508.0_20240226 at 1.27. Profit: $-2700.00\n",
      "  -> Target EXIT for P_507.0_20240226 at 0.86. Profit: $-3000.00\n",
      "\n",
      "--- Processing Day: 2024-02-27 ---\n",
      "Fetching options across 506.72\n"
     ]
    },
    {
     "data": {
      "application/vnd.jupyter.widget-view+json": {
       "model_id": "95f76dc141af473e8cd38ac667739e99",
       "version_major": 2,
       "version_minor": 0
      },
      "text/plain": [
       "FloatProgress(value=0.0, layout=Layout(width='auto'), style=ProgressStyle(bar_color='black'))"
      ]
     },
     "metadata": {},
     "output_type": "display_data"
    },
    {
     "name": "stdout",
     "output_type": "stream",
     "text": [
      "Total options found for today are: 22\n",
      "\n",
      "--- Phase 2: Preparing Master DataFrame ---\n",
      "✅ Successfully created master DataFrame with 220 total columns.\n",
      "['P_502.0_20240227', 'C_502.0_20240227', 'P_503.0_20240227', 'C_503.0_20240227', 'P_504.0_20240227', 'C_504.0_20240227', 'P_505.0_20240227', 'C_505.0_20240227', 'P_506.0_20240227', 'C_506.0_20240227', 'P_507.0_20240227', 'C_507.0_20240227', 'P_508.0_20240227', 'C_508.0_20240227', 'P_509.0_20240227', 'C_509.0_20240227', 'P_510.0_20240227', 'C_510.0_20240227', 'P_511.0_20240227', 'C_511.0_20240227', 'P_512.0_20240227', 'C_512.0_20240227']\n",
      "  -> Short ATM put ENTRY for P_506.0_20240227 at 09:49:00 and price 0.96\n",
      "  -> SPY is 505.94 and strike is 506.0\n",
      "  -> Target EXIT for P_506.0_20240227 at 1.22. Profit: $-2600.00\n",
      "  -> Short ATM put ENTRY for P_505.0_20240227 at 13:07:00 and price 0.4\n",
      "  -> SPY is 505.46 and strike is 505.0\n",
      "  -> MA cross exit for P_505.0_20240227 at 0.01. Profit: $3900.00\n",
      "\n",
      "--- Processing Day: 2024-02-28 ---\n",
      "Fetching options across 505.29\n"
     ]
    },
    {
     "data": {
      "application/vnd.jupyter.widget-view+json": {
       "model_id": "a94175cf09324682be1b615504bda6e7",
       "version_major": 2,
       "version_minor": 0
      },
      "text/plain": [
       "FloatProgress(value=0.0, layout=Layout(width='auto'), style=ProgressStyle(bar_color='black'))"
      ]
     },
     "metadata": {},
     "output_type": "display_data"
    },
    {
     "name": "stdout",
     "output_type": "stream",
     "text": [
      "Total options found for today are: 22\n",
      "\n",
      "--- Phase 2: Preparing Master DataFrame ---\n",
      "✅ Successfully created master DataFrame with 220 total columns.\n",
      "['P_500.0_20240228', 'C_500.0_20240228', 'P_501.0_20240228', 'C_501.0_20240228', 'P_502.0_20240228', 'C_502.0_20240228', 'P_503.0_20240228', 'C_503.0_20240228', 'P_504.0_20240228', 'C_504.0_20240228', 'P_505.0_20240228', 'C_505.0_20240228', 'P_506.0_20240228', 'C_506.0_20240228', 'P_507.0_20240228', 'C_507.0_20240228', 'P_508.0_20240228', 'C_508.0_20240228', 'P_509.0_20240228', 'C_509.0_20240228', 'P_510.0_20240228', 'C_510.0_20240228']\n",
      "  -> Short ATM put ENTRY for P_506.0_20240228 at 10:37:00 and price 0.77\n",
      "  -> SPY is 506.03 and strike is 506.0\n",
      "  -> Short ATM put ENTRY for P_507.0_20240228 at 11:01:00 and price 0.94\n",
      "  -> SPY is 506.7 and strike is 507.0\n",
      "  -> Target EXIT for P_507.0_20240228 at 1.20. Profit: $-2600.00\n",
      "Stoploss of  -1 side entry was 0.77 in P_506.0_20240228 at 0.26\n",
      "  -> EOD EXIT for P_506.0_20240228 at 0.26. Profit: $5100.00\n",
      "\n",
      "--- Processing Day: 2024-03-01 ---\n",
      "Fetching options across 508.99\n"
     ]
    },
    {
     "data": {
      "application/vnd.jupyter.widget-view+json": {
       "model_id": "869ebc3e3f264153b5a4151a08b65809",
       "version_major": 2,
       "version_minor": 0
      },
      "text/plain": [
       "FloatProgress(value=0.0, layout=Layout(width='auto'), style=ProgressStyle(bar_color='black'))"
      ]
     },
     "metadata": {},
     "output_type": "display_data"
    },
    {
     "name": "stdout",
     "output_type": "stream",
     "text": [
      "Total options found for today are: 22\n",
      "\n",
      "--- Phase 2: Preparing Master DataFrame ---\n",
      "✅ Successfully created master DataFrame with 220 total columns.\n",
      "['P_504.0_20240301', 'C_504.0_20240301', 'P_505.0_20240301', 'C_505.0_20240301', 'P_506.0_20240301', 'C_506.0_20240301', 'P_507.0_20240301', 'C_507.0_20240301', 'P_508.0_20240301', 'C_508.0_20240301', 'P_509.0_20240301', 'C_509.0_20240301', 'P_510.0_20240301', 'C_510.0_20240301', 'P_511.0_20240301', 'C_511.0_20240301', 'P_512.0_20240301', 'C_512.0_20240301', 'P_513.0_20240301', 'C_513.0_20240301', 'P_514.0_20240301', 'C_514.0_20240301']\n",
      "  -> Short ATM put ENTRY for P_509.0_20240301 at 09:47:00 and price 1.06\n",
      "  -> SPY is 509.0 and strike is 509.0\n",
      "  -> Short ATM put ENTRY for P_510.0_20240301 at 10:14:00 and price 1.0\n",
      "  -> SPY is 509.9 and strike is 510.0\n",
      "Stoploss of  -1 side entry was 1.06 in P_509.0_20240301 at 0.51\n",
      "  -> EOD EXIT for P_509.0_20240301 at 0.51. Profit: $5500.00\n",
      "Stoploss of  -1 side entry was 1.0 in P_510.0_20240301 at 0.48\n",
      "  -> EOD EXIT for P_510.0_20240301 at 0.48. Profit: $5200.00\n",
      "\n",
      "--- Processing Day: 2024-03-04 ---\n",
      "Fetching options across 512.16\n"
     ]
    },
    {
     "data": {
      "application/vnd.jupyter.widget-view+json": {
       "model_id": "02d4f3699642453e8f3b1959e987783b",
       "version_major": 2,
       "version_minor": 0
      },
      "text/plain": [
       "FloatProgress(value=0.0, layout=Layout(width='auto'), style=ProgressStyle(bar_color='black'))"
      ]
     },
     "metadata": {},
     "output_type": "display_data"
    },
    {
     "name": "stdout",
     "output_type": "stream",
     "text": [
      "Total options found for today are: 22\n",
      "\n",
      "--- Phase 2: Preparing Master DataFrame ---\n",
      "✅ Successfully created master DataFrame with 220 total columns.\n",
      "['P_507.0_20240304', 'C_507.0_20240304', 'P_508.0_20240304', 'C_508.0_20240304', 'P_509.0_20240304', 'C_509.0_20240304', 'P_510.0_20240304', 'C_510.0_20240304', 'P_511.0_20240304', 'C_511.0_20240304', 'P_512.0_20240304', 'C_512.0_20240304', 'P_513.0_20240304', 'C_513.0_20240304', 'P_514.0_20240304', 'C_514.0_20240304', 'P_515.0_20240304', 'C_515.0_20240304', 'P_516.0_20240304', 'C_516.0_20240304', 'P_517.0_20240304', 'C_517.0_20240304']\n",
      "  -> Short ATM put ENTRY for P_512.0_20240304 at 09:41:00 and price 0.65\n",
      "  -> SPY is 512.29 and strike is 512.0\n",
      "  -> Short ATM put ENTRY for P_513.0_20240304 at 09:47:00 and price 1.01\n",
      "  -> SPY is 512.54 and strike is 513.0\n",
      "Stoploss of  -1 side entry was 1.01 in P_513.0_20240304 at 0.5\n",
      "  -> EOD EXIT for P_513.0_20240304 at 0.50. Profit: $5100.00\n",
      "  -> Short ATM put ENTRY for P_513.0_20240304 at 12:30:00 and price 0.5\n",
      "  -> SPY is 513.13 and strike is 513.0\n",
      "  -> Target EXIT for P_513.0_20240304 at 0.83. Profit: $-3300.00\n",
      "Stoploss of  -1 side entry was 0.65 in P_512.0_20240304 at 0.15\n",
      "  -> EOD EXIT for P_512.0_20240304 at 0.15. Profit: $5000.00\n",
      "\n",
      "--- Processing Day: 2024-03-05 ---\n",
      "Fetching options across 510.15\n"
     ]
    },
    {
     "data": {
      "application/vnd.jupyter.widget-view+json": {
       "model_id": "37b6c4795ae444e08f368223bb5c07fe",
       "version_major": 2,
       "version_minor": 0
      },
      "text/plain": [
       "FloatProgress(value=0.0, layout=Layout(width='auto'), style=ProgressStyle(bar_color='black'))"
      ]
     },
     "metadata": {},
     "output_type": "display_data"
    },
    {
     "name": "stdout",
     "output_type": "stream",
     "text": [
      "Total options found for today are: 22\n",
      "\n",
      "--- Phase 2: Preparing Master DataFrame ---\n",
      "✅ Successfully created master DataFrame with 220 total columns.\n",
      "['P_505.0_20240305', 'C_505.0_20240305', 'P_506.0_20240305', 'C_506.0_20240305', 'P_507.0_20240305', 'C_507.0_20240305', 'P_508.0_20240305', 'C_508.0_20240305', 'P_509.0_20240305', 'C_509.0_20240305', 'P_510.0_20240305', 'C_510.0_20240305', 'P_511.0_20240305', 'C_511.0_20240305', 'P_512.0_20240305', 'C_512.0_20240305', 'P_513.0_20240305', 'C_513.0_20240305', 'P_514.0_20240305', 'C_514.0_20240305', 'P_515.0_20240305', 'C_515.0_20240305']\n",
      "  -> Short ATM put ENTRY for P_510.0_20240305 at 10:02:00 and price 0.67\n",
      "  -> SPY is 510.31 and strike is 510.0\n",
      "  -> Target EXIT for P_510.0_20240305 at 0.97. Profit: $-3000.00\n",
      "  -> Short ATM put ENTRY for P_508.0_20240305 at 11:07:00 and price 0.82\n",
      "  -> SPY is 508.03 and strike is 508.0\n",
      "  -> Target EXIT for P_508.0_20240305 at 1.43. Profit: $-6100.00\n",
      "  -> Short ATM put ENTRY for P_507.0_20240305 at 11:56:00 and price 0.67\n",
      "  -> SPY is 507.22 and strike is 507.0\n",
      "  -> Target EXIT for P_507.0_20240305 at 0.93. Profit: $-2600.00\n",
      "\n",
      "--- Processing Day: 2024-03-06 ---\n",
      "Fetching options across 510.43\n"
     ]
    },
    {
     "data": {
      "application/vnd.jupyter.widget-view+json": {
       "model_id": "f9a7c1444e734b0f9509f11fe380cd8a",
       "version_major": 2,
       "version_minor": 0
      },
      "text/plain": [
       "FloatProgress(value=0.0, layout=Layout(width='auto'), style=ProgressStyle(bar_color='black'))"
      ]
     },
     "metadata": {},
     "output_type": "display_data"
    },
    {
     "name": "stdout",
     "output_type": "stream",
     "text": [
      "Total options found for today are: 22\n",
      "\n",
      "--- Phase 2: Preparing Master DataFrame ---\n",
      "✅ Successfully created master DataFrame with 220 total columns.\n",
      "['P_505.0_20240306', 'C_505.0_20240306', 'P_506.0_20240306', 'C_506.0_20240306', 'P_507.0_20240306', 'C_507.0_20240306', 'P_508.0_20240306', 'C_508.0_20240306', 'P_509.0_20240306', 'C_509.0_20240306', 'P_510.0_20240306', 'C_510.0_20240306', 'P_511.0_20240306', 'C_511.0_20240306', 'P_512.0_20240306', 'C_512.0_20240306', 'P_513.0_20240306', 'C_513.0_20240306', 'P_514.0_20240306', 'C_514.0_20240306', 'P_515.0_20240306', 'C_515.0_20240306']\n",
      "  -> Short call ENTRY for C_510.0_20240306 at 09:43:00 and price 1.24\n",
      "  -> SPY is 510.06 and strike is 510.0\n",
      "  -> Short call ENTRY for C_509.0_20240306 at 10:05:00 and price 1.19\n",
      "  -> SPY is 508.85 and strike is 509.0\n",
      "Stoploss of  -1 side entry was 1.24 in C_510.0_20240306 at 0.66\n",
      "  -> EOD EXIT for C_510.0_20240306 at 0.66. Profit: $5800.00\n",
      "  -> Short ATM put ENTRY for P_509.0_20240306 at 10:12:00 and price 1.14\n",
      "  -> SPY is 509.04 and strike is 509.0\n",
      "  -> Target EXIT for C_509.0_20240306 at 1.52. Profit: $-3300.00\n",
      "  -> Short call ENTRY for C_509.0_20240306 at 10:28:00 and price 1.23\n",
      "  -> SPY is 509.14 and strike is 509.0\n",
      "  -> Target EXIT for C_509.0_20240306 at 1.57. Profit: $-3400.00\n",
      "Stoploss of  -1 side entry was 1.14 in P_509.0_20240306 at 0.62\n",
      "  -> EOD EXIT for P_509.0_20240306 at 0.62. Profit: $5200.00\n",
      "\n",
      "--- Processing Day: 2024-03-07 ---\n",
      "Fetching options across 513.39\n"
     ]
    },
    {
     "data": {
      "application/vnd.jupyter.widget-view+json": {
       "model_id": "77ddcbbf587b4b5abd445489eda50034",
       "version_major": 2,
       "version_minor": 0
      },
      "text/plain": [
       "FloatProgress(value=0.0, layout=Layout(width='auto'), style=ProgressStyle(bar_color='black'))"
      ]
     },
     "metadata": {},
     "output_type": "display_data"
    },
    {
     "name": "stdout",
     "output_type": "stream",
     "text": [
      "Total options found for today are: 22\n",
      "\n",
      "--- Phase 2: Preparing Master DataFrame ---\n",
      "✅ Successfully created master DataFrame with 220 total columns.\n",
      "['P_508.0_20240307', 'C_508.0_20240307', 'P_509.0_20240307', 'C_509.0_20240307', 'P_510.0_20240307', 'C_510.0_20240307', 'P_511.0_20240307', 'C_511.0_20240307', 'P_512.0_20240307', 'C_512.0_20240307', 'P_513.0_20240307', 'C_513.0_20240307', 'P_514.0_20240307', 'C_514.0_20240307', 'P_515.0_20240307', 'C_515.0_20240307', 'P_516.0_20240307', 'C_516.0_20240307', 'P_517.0_20240307', 'C_517.0_20240307', 'P_518.0_20240307', 'C_518.0_20240307']\n",
      "  -> Short ATM put ENTRY for P_513.0_20240307 at 09:53:00 and price 1.05\n",
      "  -> SPY is 513.12 and strike is 513.0\n",
      "  -> Short ATM put ENTRY for P_514.0_20240307 at 10:16:00 and price 1.11\n",
      "  -> SPY is 513.88 and strike is 514.0\n",
      "Stoploss of  -1 side entry was 1.05 in P_513.0_20240307 at 0.52\n",
      "  -> EOD EXIT for P_513.0_20240307 at 0.52. Profit: $5300.00\n",
      "Stoploss of  -1 side entry was 1.11 in P_514.0_20240307 at 0.61\n",
      "  -> EOD EXIT for P_514.0_20240307 at 0.61. Profit: $5000.00\n",
      "  -> Short ATM put ENTRY for P_514.0_20240307 at 12:52:00 and price 0.66\n",
      "  -> SPY is 514.47 and strike is 514.0\n",
      "EOD CLosing of -1 side positon in P_514.0_20240307 at 2024-03-07 15:15:00\n",
      "  -> EOD EXIT for P_514.0_20240307 at 0.30. Profit: $3600.00\n",
      "\n",
      "--- Processing Day: 2024-03-08 ---\n",
      "Fetching options across 515.29\n"
     ]
    },
    {
     "data": {
      "application/vnd.jupyter.widget-view+json": {
       "model_id": "65745b721e4f4dd68cec608bfd182378",
       "version_major": 2,
       "version_minor": 0
      },
      "text/plain": [
       "FloatProgress(value=0.0, layout=Layout(width='auto'), style=ProgressStyle(bar_color='black'))"
      ]
     },
     "metadata": {},
     "output_type": "display_data"
    },
    {
     "name": "stdout",
     "output_type": "stream",
     "text": [
      "Total options found for today are: 22\n",
      "\n",
      "--- Phase 2: Preparing Master DataFrame ---\n",
      "✅ Successfully created master DataFrame with 220 total columns.\n",
      "['P_510.0_20240308', 'C_510.0_20240308', 'P_511.0_20240308', 'C_511.0_20240308', 'P_512.0_20240308', 'C_512.0_20240308', 'P_513.0_20240308', 'C_513.0_20240308', 'P_514.0_20240308', 'C_514.0_20240308', 'P_515.0_20240308', 'C_515.0_20240308', 'P_516.0_20240308', 'C_516.0_20240308', 'P_517.0_20240308', 'C_517.0_20240308', 'P_518.0_20240308', 'C_518.0_20240308', 'P_519.0_20240308', 'C_519.0_20240308', 'P_520.0_20240308', 'C_520.0_20240308']\n",
      "  -> Short call ENTRY for C_517.0_20240308 at 10:39:00 and price 1.17\n",
      "  -> SPY is 517.3 and strike is 517.0\n",
      "Stoploss of  -1 side entry was 1.17 in C_517.0_20240308 at 0.59\n",
      "  -> EOD EXIT for C_517.0_20240308 at 0.59. Profit: $5800.00\n",
      "  -> Short ATM put ENTRY for P_515.0_20240308 at 11:38:00 and price 0.96\n",
      "  -> SPY is 515.15 and strike is 515.0\n",
      "  -> Target EXIT for P_515.0_20240308 at 1.46. Profit: $-5000.00\n",
      "  -> Short ATM put ENTRY for P_514.0_20240308 at 12:15:00 and price 0.96\n",
      "  -> SPY is 514.34 and strike is 514.0\n",
      "  -> Target EXIT for P_514.0_20240308 at 1.25. Profit: $-2900.00\n",
      "  -> Short ATM put ENTRY for P_513.0_20240308 at 13:10:00 and price 0.96\n",
      "  -> SPY is 513.09 and strike is 513.0\n",
      "  -> Target EXIT for P_513.0_20240308 at 1.24. Profit: $-2800.00\n",
      "\n",
      "--- Processing Day: 2024-03-11 ---\n",
      "Fetching options across 510.74\n"
     ]
    },
    {
     "data": {
      "application/vnd.jupyter.widget-view+json": {
       "model_id": "4f36e2f529fc47938e76d8b52cbc8c89",
       "version_major": 2,
       "version_minor": 0
      },
      "text/plain": [
       "FloatProgress(value=0.0, layout=Layout(width='auto'), style=ProgressStyle(bar_color='black'))"
      ]
     },
     "metadata": {},
     "output_type": "display_data"
    },
    {
     "name": "stdout",
     "output_type": "stream",
     "text": [
      "Total options found for today are: 22\n",
      "\n",
      "--- Phase 2: Preparing Master DataFrame ---\n",
      "✅ Successfully created master DataFrame with 220 total columns.\n",
      "['P_506.0_20240311', 'C_506.0_20240311', 'P_507.0_20240311', 'C_507.0_20240311', 'P_508.0_20240311', 'C_508.0_20240311', 'P_509.0_20240311', 'C_509.0_20240311', 'P_510.0_20240311', 'C_510.0_20240311', 'P_511.0_20240311', 'C_511.0_20240311', 'P_512.0_20240311', 'C_512.0_20240311', 'P_513.0_20240311', 'C_513.0_20240311', 'P_514.0_20240311', 'C_514.0_20240311', 'P_515.0_20240311', 'C_515.0_20240311', 'P_516.0_20240311', 'C_516.0_20240311']\n",
      "  -> Short ATM put ENTRY for P_510.0_20240311 at 10:55:00 and price 0.88\n",
      "  -> SPY is 510.4 and strike is 510.0\n",
      "  -> Target EXIT for P_510.0_20240311 at 1.19. Profit: $-3100.00\n",
      "  -> Short ATM put ENTRY for P_510.0_20240311 at 11:50:00 and price 0.81\n",
      "  -> SPY is 510.36 and strike is 510.0\n",
      "Stoploss of  -1 side entry was 0.81 in P_510.0_20240311 at 0.31\n",
      "  -> EOD EXIT for P_510.0_20240311 at 0.31. Profit: $5000.00\n",
      "\n",
      "--- Processing Day: 2024-03-12 ---\n",
      "Fetching options across 513.44\n"
     ]
    },
    {
     "data": {
      "application/vnd.jupyter.widget-view+json": {
       "model_id": "07c571172bd3438f85c8f9ba39476881",
       "version_major": 2,
       "version_minor": 0
      },
      "text/plain": [
       "FloatProgress(value=0.0, layout=Layout(width='auto'), style=ProgressStyle(bar_color='black'))"
      ]
     },
     "metadata": {},
     "output_type": "display_data"
    },
    {
     "name": "stdout",
     "output_type": "stream",
     "text": [
      "Total options found for today are: 22\n",
      "\n",
      "--- Phase 2: Preparing Master DataFrame ---\n",
      "✅ Successfully created master DataFrame with 220 total columns.\n",
      "['P_508.0_20240312', 'C_508.0_20240312', 'P_509.0_20240312', 'C_509.0_20240312', 'P_510.0_20240312', 'C_510.0_20240312', 'P_511.0_20240312', 'C_511.0_20240312', 'P_512.0_20240312', 'C_512.0_20240312', 'P_513.0_20240312', 'C_513.0_20240312', 'P_514.0_20240312', 'C_514.0_20240312', 'P_515.0_20240312', 'C_515.0_20240312', 'P_516.0_20240312', 'C_516.0_20240312', 'P_517.0_20240312', 'C_517.0_20240312', 'P_518.0_20240312', 'C_518.0_20240312']\n",
      "\n",
      "--- Processing Day: 2024-03-13 ---\n",
      "Fetching options across 517.13\n"
     ]
    },
    {
     "data": {
      "application/vnd.jupyter.widget-view+json": {
       "model_id": "bb83dbc93f9f43fbaf9cddc3ca98aacb",
       "version_major": 2,
       "version_minor": 0
      },
      "text/plain": [
       "FloatProgress(value=0.0, layout=Layout(width='auto'), style=ProgressStyle(bar_color='black'))"
      ]
     },
     "metadata": {},
     "output_type": "display_data"
    },
    {
     "name": "stdout",
     "output_type": "stream",
     "text": [
      "Total options found for today are: 22\n",
      "\n",
      "--- Phase 2: Preparing Master DataFrame ---\n",
      "✅ Successfully created master DataFrame with 220 total columns.\n",
      "['P_512.0_20240313', 'C_512.0_20240313', 'P_513.0_20240313', 'C_513.0_20240313', 'P_514.0_20240313', 'C_514.0_20240313', 'P_515.0_20240313', 'C_515.0_20240313', 'P_516.0_20240313', 'C_516.0_20240313', 'P_517.0_20240313', 'C_517.0_20240313', 'P_518.0_20240313', 'C_518.0_20240313', 'P_519.0_20240313', 'C_519.0_20240313', 'P_520.0_20240313', 'C_520.0_20240313', 'P_521.0_20240313', 'C_521.0_20240313', 'P_522.0_20240313', 'C_522.0_20240313']\n",
      "  -> Short call ENTRY for C_516.0_20240313 at 09:41:00 and price 1.18\n",
      "  -> SPY is 516.22 and strike is 516.0\n",
      "  -> Short ATM put ENTRY for P_516.0_20240313 at 10:12:00 and price 0.69\n",
      "  -> SPY is 516.47 and strike is 516.0\n",
      "  -> Short ATM put ENTRY for P_517.0_20240313 at 10:34:00 and price 1.07\n",
      "  -> SPY is 516.6 and strike is 517.0\n",
      "  -> Target EXIT for P_517.0_20240313 at 1.38. Profit: $-3100.00\n",
      "  -> Short ATM put ENTRY for P_517.0_20240313 at 11:10:00 and price 1.05\n",
      "  -> SPY is 516.57 and strike is 517.0\n",
      "  -> Target EXIT for P_517.0_20240313 at 1.32. Profit: $-2700.00\n",
      "  -> Short ATM put ENTRY for P_517.0_20240313 at 13:03:00 and price 0.75\n",
      "  -> SPY is 516.87 and strike is 517.0\n",
      "Stoploss of  -1 side entry was 0.69 in P_516.0_20240313 at 0.18\n",
      "  -> EOD EXIT for P_516.0_20240313 at 0.18. Profit: $5100.00\n",
      "Stoploss of  -1 side entry was 1.18 in C_516.0_20240313 at 0.67\n",
      "  -> EOD EXIT for C_516.0_20240313 at 0.67. Profit: $5100.00\n",
      "EOD CLosing of -1 side positon in P_517.0_20240313 at 2024-03-13 15:15:00\n",
      "  -> EOD EXIT for P_517.0_20240313 at 0.75. Profit: $-0.00\n",
      "\n",
      "--- Processing Day: 2024-03-14 ---\n",
      "Fetching options across 516.92\n"
     ]
    },
    {
     "data": {
      "application/vnd.jupyter.widget-view+json": {
       "model_id": "241735be20844687ad70c6fb7e97534f",
       "version_major": 2,
       "version_minor": 0
      },
      "text/plain": [
       "FloatProgress(value=0.0, layout=Layout(width='auto'), style=ProgressStyle(bar_color='black'))"
      ]
     },
     "metadata": {},
     "output_type": "display_data"
    },
    {
     "name": "stdout",
     "output_type": "stream",
     "text": [
      "Total options found for today are: 22\n",
      "\n",
      "--- Phase 2: Preparing Master DataFrame ---\n",
      "✅ Successfully created master DataFrame with 220 total columns.\n",
      "['P_512.0_20240314', 'C_512.0_20240314', 'P_513.0_20240314', 'C_513.0_20240314', 'P_514.0_20240314', 'C_514.0_20240314', 'P_515.0_20240314', 'C_515.0_20240314', 'P_516.0_20240314', 'C_516.0_20240314', 'P_517.0_20240314', 'C_517.0_20240314', 'P_518.0_20240314', 'C_518.0_20240314', 'P_519.0_20240314', 'C_519.0_20240314', 'P_520.0_20240314', 'C_520.0_20240314', 'P_521.0_20240314', 'C_521.0_20240314', 'P_522.0_20240314', 'C_522.0_20240314']\n",
      "  -> Short ATM put ENTRY for P_515.0_20240314 at 10:15:00 and price 1.14\n",
      "  -> SPY is 515.14 and strike is 515.0\n",
      "  -> Target EXIT for P_515.0_20240314 at 1.46. Profit: $-3200.00\n",
      "  -> Short ATM put ENTRY for P_515.0_20240314 at 11:03:00 and price 0.91\n",
      "  -> SPY is 515.32 and strike is 515.0\n",
      "  -> Target EXIT for P_515.0_20240314 at 1.17. Profit: $-2600.00\n",
      "  -> Short ATM put ENTRY for P_515.0_20240314 at 11:16:00 and price 0.99\n",
      "  -> SPY is 515.05 and strike is 515.0\n",
      "  -> Target EXIT for P_515.0_20240314 at 1.36. Profit: $-3700.00\n",
      "  -> Short ATM put ENTRY for P_514.0_20240314 at 11:33:00 and price 0.94\n",
      "  -> SPY is 514.2 and strike is 514.0\n",
      "  -> Target EXIT for P_514.0_20240314 at 1.28. Profit: $-3400.00\n",
      "  -> Short ATM put ENTRY for P_514.0_20240314 at 13:26:00 and price 1.09\n",
      "  -> SPY is 513.52 and strike is 514.0\n",
      "  -> Target EXIT for P_514.0_20240314 at 1.41. Profit: $-3200.00\n",
      "  -> Short ATM put ENTRY for P_514.0_20240314 at 13:55:00 and price 0.53\n",
      "  -> SPY is 514.45 and strike is 514.0\n",
      "  -> Target EXIT for P_514.0_20240314 at 0.83. Profit: $-3000.00\n",
      "\n",
      "--- Processing Day: 2024-03-15 ---\n",
      "Fetching options across 510.45\n"
     ]
    },
    {
     "data": {
      "application/vnd.jupyter.widget-view+json": {
       "model_id": "f67e57a70c724543a16daee03ff05280",
       "version_major": 2,
       "version_minor": 0
      },
      "text/plain": [
       "FloatProgress(value=0.0, layout=Layout(width='auto'), style=ProgressStyle(bar_color='black'))"
      ]
     },
     "metadata": {},
     "output_type": "display_data"
    },
    {
     "name": "stdout",
     "output_type": "stream",
     "text": [
      "Total options found for today are: 22\n",
      "\n",
      "--- Phase 2: Preparing Master DataFrame ---\n",
      "✅ Successfully created master DataFrame with 220 total columns.\n",
      "['P_505.0_20240315', 'C_505.0_20240315', 'P_506.0_20240315', 'C_506.0_20240315', 'P_507.0_20240315', 'C_507.0_20240315', 'P_508.0_20240315', 'C_508.0_20240315', 'P_509.0_20240315', 'C_509.0_20240315', 'P_510.0_20240315', 'C_510.0_20240315', 'P_511.0_20240315', 'C_511.0_20240315', 'P_512.0_20240315', 'C_512.0_20240315', 'P_513.0_20240315', 'C_513.0_20240315', 'P_514.0_20240315', 'C_514.0_20240315', 'P_515.0_20240315', 'C_515.0_20240315']\n",
      "\n",
      "--- Processing Day: 2024-03-19 ---\n",
      "Fetching options across 511.67\n"
     ]
    },
    {
     "data": {
      "application/vnd.jupyter.widget-view+json": {
       "model_id": "609ca08a4a644547b0280f9872e02679",
       "version_major": 2,
       "version_minor": 0
      },
      "text/plain": [
       "FloatProgress(value=0.0, layout=Layout(width='auto'), style=ProgressStyle(bar_color='black'))"
      ]
     },
     "metadata": {},
     "output_type": "display_data"
    },
    {
     "name": "stdout",
     "output_type": "stream",
     "text": [
      "Total options found for today are: 22\n",
      "\n",
      "--- Phase 2: Preparing Master DataFrame ---\n",
      "✅ Successfully created master DataFrame with 220 total columns.\n",
      "['P_507.0_20240319', 'C_507.0_20240319', 'P_508.0_20240319', 'C_508.0_20240319', 'P_509.0_20240319', 'C_509.0_20240319', 'P_510.0_20240319', 'C_510.0_20240319', 'P_511.0_20240319', 'C_511.0_20240319', 'P_512.0_20240319', 'C_512.0_20240319', 'P_513.0_20240319', 'C_513.0_20240319', 'P_514.0_20240319', 'C_514.0_20240319', 'P_515.0_20240319', 'C_515.0_20240319', 'P_516.0_20240319', 'C_516.0_20240319', 'P_517.0_20240319', 'C_517.0_20240319']\n",
      "  -> Short ATM put ENTRY for P_512.0_20240319 at 10:04:00 and price 1.05\n",
      "  -> SPY is 511.98 and strike is 512.0\n",
      "  -> Target EXIT for P_512.0_20240319 at 1.38. Profit: $-3300.00\n",
      "  -> Short ATM put ENTRY for P_512.0_20240319 at 10:40:00 and price 0.81\n",
      "  -> SPY is 512.18 and strike is 512.0\n",
      "  -> Short ATM put ENTRY for P_513.0_20240319 at 11:31:00 and price 0.88\n",
      "  -> SPY is 512.85 and strike is 513.0\n",
      "Stoploss of  -1 side entry was 0.81 in P_512.0_20240319 at 0.31\n",
      "  -> EOD EXIT for P_512.0_20240319 at 0.31. Profit: $5000.00\n",
      "Stoploss of  -1 side entry was 0.88 in P_513.0_20240319 at 0.35\n",
      "  -> EOD EXIT for P_513.0_20240319 at 0.35. Profit: $5300.00\n",
      "\n",
      "--- Processing Day: 2024-03-20 ---\n",
      "Fetching options across 515.39\n"
     ]
    },
    {
     "data": {
      "application/vnd.jupyter.widget-view+json": {
       "model_id": "0d33456c6be948e2ba4bfbba745607c3",
       "version_major": 2,
       "version_minor": 0
      },
      "text/plain": [
       "FloatProgress(value=0.0, layout=Layout(width='auto'), style=ProgressStyle(bar_color='black'))"
      ]
     },
     "metadata": {},
     "output_type": "display_data"
    },
    {
     "name": "stdout",
     "output_type": "stream",
     "text": [
      "Total options found for today are: 22\n",
      "\n",
      "--- Phase 2: Preparing Master DataFrame ---\n",
      "✅ Successfully created master DataFrame with 220 total columns.\n",
      "['P_510.0_20240320', 'C_510.0_20240320', 'P_511.0_20240320', 'C_511.0_20240320', 'P_512.0_20240320', 'C_512.0_20240320', 'P_513.0_20240320', 'C_513.0_20240320', 'P_514.0_20240320', 'C_514.0_20240320', 'P_515.0_20240320', 'C_515.0_20240320', 'P_516.0_20240320', 'C_516.0_20240320', 'P_517.0_20240320', 'C_517.0_20240320', 'P_518.0_20240320', 'C_518.0_20240320', 'P_519.0_20240320', 'C_519.0_20240320', 'P_520.0_20240320', 'C_520.0_20240320']\n",
      "\n",
      "--- Processing Day: 2024-03-22 ---\n",
      "Fetching options across 522.06\n"
     ]
    },
    {
     "data": {
      "application/vnd.jupyter.widget-view+json": {
       "model_id": "cfe1848fd4db45bba509094256d33f72",
       "version_major": 2,
       "version_minor": 0
      },
      "text/plain": [
       "FloatProgress(value=0.0, layout=Layout(width='auto'), style=ProgressStyle(bar_color='black'))"
      ]
     },
     "metadata": {},
     "output_type": "display_data"
    },
    {
     "name": "stdout",
     "output_type": "stream",
     "text": [
      "Total options found for today are: 22\n",
      "\n",
      "--- Phase 2: Preparing Master DataFrame ---\n",
      "✅ Successfully created master DataFrame with 220 total columns.\n",
      "['P_517.0_20240322', 'C_517.0_20240322', 'P_518.0_20240322', 'C_518.0_20240322', 'P_519.0_20240322', 'C_519.0_20240322', 'P_520.0_20240322', 'C_520.0_20240322', 'P_521.0_20240322', 'C_521.0_20240322', 'P_522.0_20240322', 'C_522.0_20240322', 'P_523.0_20240322', 'C_523.0_20240322', 'P_524.0_20240322', 'C_524.0_20240322', 'P_525.0_20240322', 'C_525.0_20240322', 'P_526.0_20240322', 'C_526.0_20240322', 'P_527.0_20240322', 'C_527.0_20240322']\n",
      "  -> Short ATM put ENTRY for P_522.0_20240322 at 09:41:00 and price 0.78\n",
      "  -> SPY is 522.29 and strike is 522.0\n",
      "  -> Target EXIT for P_522.0_20240322 at 1.08. Profit: $-3000.00\n",
      "  -> Short ATM put ENTRY for P_522.0_20240322 at 09:55:00 and price 0.92\n",
      "  -> SPY is 521.93 and strike is 522.0\n",
      "  -> Target EXIT for P_522.0_20240322 at 1.20. Profit: $-2800.00\n",
      "  -> Short ATM put ENTRY for P_521.0_20240322 at 11:03:00 and price 0.56\n",
      "  -> SPY is 521.47 and strike is 521.0\n",
      "  -> Short ATM put ENTRY for P_522.0_20240322 at 11:06:00 and price 1.04\n",
      "  -> SPY is 521.5 and strike is 522.0\n",
      "Stoploss of  -1 side entry was 1.04 in P_522.0_20240322 at 0.53\n",
      "  -> EOD EXIT for P_522.0_20240322 at 0.53. Profit: $5100.00\n",
      "  -> Short ATM put ENTRY for P_522.0_20240322 at 13:14:00 and price 0.54\n",
      "  -> SPY is 522.01 and strike is 522.0\n",
      "  -> Short ATM put ENTRY for P_523.0_20240322 at 13:56:00 and price 0.78\n",
      "  -> SPY is 522.51 and strike is 523.0\n",
      "Stoploss of  -1 side entry was 0.56 in P_521.0_20240322 at 0.06\n",
      "  -> EOD EXIT for P_521.0_20240322 at 0.06. Profit: $5000.00\n",
      "  -> Target EXIT for P_523.0_20240322 at 1.04. Profit: $-2600.00\n",
      "  -> Target EXIT for P_522.0_20240322 at 0.85. Profit: $-3100.00\n",
      "\n",
      "--- Processing Day: 2024-03-25 ---\n",
      "Fetching options across 519.78\n"
     ]
    },
    {
     "data": {
      "application/vnd.jupyter.widget-view+json": {
       "model_id": "c820680f70d34978b021a9a18725897d",
       "version_major": 2,
       "version_minor": 0
      },
      "text/plain": [
       "FloatProgress(value=0.0, layout=Layout(width='auto'), style=ProgressStyle(bar_color='black'))"
      ]
     },
     "metadata": {},
     "output_type": "display_data"
    },
    {
     "name": "stdout",
     "output_type": "stream",
     "text": [
      "Total options found for today are: 22\n",
      "\n",
      "--- Phase 2: Preparing Master DataFrame ---\n",
      "✅ Successfully created master DataFrame with 220 total columns.\n",
      "['P_515.0_20240325', 'C_515.0_20240325', 'P_516.0_20240325', 'C_516.0_20240325', 'P_517.0_20240325', 'C_517.0_20240325', 'P_518.0_20240325', 'C_518.0_20240325', 'P_519.0_20240325', 'C_519.0_20240325', 'P_520.0_20240325', 'C_520.0_20240325', 'P_521.0_20240325', 'C_521.0_20240325', 'P_522.0_20240325', 'C_522.0_20240325', 'P_523.0_20240325', 'C_523.0_20240325', 'P_524.0_20240325', 'C_524.0_20240325', 'P_525.0_20240325', 'C_525.0_20240325']\n",
      "  -> Short ATM put ENTRY for P_520.0_20240325 at 09:50:00 and price 0.75\n",
      "  -> SPY is 520.04 and strike is 520.0\n",
      "  -> Short ATM put ENTRY for P_521.0_20240325 at 10:11:00 and price 0.94\n",
      "  -> SPY is 520.61 and strike is 521.0\n",
      "Stoploss of  -1 side entry was 0.75 in P_520.0_20240325 at 0.23\n",
      "  -> EOD EXIT for P_520.0_20240325 at 0.23. Profit: $5200.00\n",
      "Stoploss of  -1 side entry was 0.94 in P_521.0_20240325 at 0.43\n",
      "  -> EOD EXIT for P_521.0_20240325 at 0.43. Profit: $5100.00\n",
      "\n",
      "--- Processing Day: 2024-03-26 ---\n",
      "Fetching options across 520.99\n"
     ]
    },
    {
     "data": {
      "application/vnd.jupyter.widget-view+json": {
       "model_id": "eded149849674f7dbcb36ae82be1757d",
       "version_major": 2,
       "version_minor": 0
      },
      "text/plain": [
       "FloatProgress(value=0.0, layout=Layout(width='auto'), style=ProgressStyle(bar_color='black'))"
      ]
     },
     "metadata": {},
     "output_type": "display_data"
    },
    {
     "name": "stdout",
     "output_type": "stream",
     "text": [
      "Total options found for today are: 22\n",
      "\n",
      "--- Phase 2: Preparing Master DataFrame ---\n",
      "✅ Successfully created master DataFrame with 220 total columns.\n",
      "['P_516.0_20240326', 'C_516.0_20240326', 'P_517.0_20240326', 'C_517.0_20240326', 'P_518.0_20240326', 'C_518.0_20240326', 'P_519.0_20240326', 'C_519.0_20240326', 'P_520.0_20240326', 'C_520.0_20240326', 'P_521.0_20240326', 'C_521.0_20240326', 'P_522.0_20240326', 'C_522.0_20240326', 'P_523.0_20240326', 'C_523.0_20240326', 'P_524.0_20240326', 'C_524.0_20240326', 'P_525.0_20240326', 'C_525.0_20240326', 'P_526.0_20240326', 'C_526.0_20240326']\n",
      "  -> Short ATM put ENTRY for P_521.0_20240326 at 09:44:00 and price 0.74\n",
      "  -> SPY is 521.09 and strike is 521.0\n",
      "EOD CLosing of -1 side positon in P_521.0_20240326 at 2024-03-26 15:17:00\n",
      "  -> EOD EXIT for P_521.0_20240326 at 0.41. Profit: $3300.00\n",
      "\n",
      "--- Processing Day: 2024-03-27 ---\n",
      "Fetching options across 520.05\n"
     ]
    },
    {
     "data": {
      "application/vnd.jupyter.widget-view+json": {
       "model_id": "111d0ab490674c2dabb9a812de223c74",
       "version_major": 2,
       "version_minor": 0
      },
      "text/plain": [
       "FloatProgress(value=0.0, layout=Layout(width='auto'), style=ProgressStyle(bar_color='black'))"
      ]
     },
     "metadata": {},
     "output_type": "display_data"
    },
    {
     "name": "stdout",
     "output_type": "stream",
     "text": [
      "Total options found for today are: 22\n",
      "\n",
      "--- Phase 2: Preparing Master DataFrame ---\n",
      "✅ Successfully created master DataFrame with 220 total columns.\n",
      "['P_515.0_20240327', 'C_515.0_20240327', 'P_516.0_20240327', 'C_516.0_20240327', 'P_517.0_20240327', 'C_517.0_20240327', 'P_518.0_20240327', 'C_518.0_20240327', 'P_519.0_20240327', 'C_519.0_20240327', 'P_520.0_20240327', 'C_520.0_20240327', 'P_521.0_20240327', 'C_521.0_20240327', 'P_522.0_20240327', 'C_522.0_20240327', 'P_523.0_20240327', 'C_523.0_20240327', 'P_524.0_20240327', 'C_524.0_20240327', 'P_525.0_20240327', 'C_525.0_20240327']\n",
      "  -> Short ATM put ENTRY for P_520.0_20240327 at 10:34:00 and price 0.74\n",
      "  -> SPY is 520.23 and strike is 520.0\n",
      "Stoploss of  -1 side entry was 0.74 in P_520.0_20240327 at 0.23\n",
      "  -> EOD EXIT for P_520.0_20240327 at 0.23. Profit: $5100.00\n",
      "\n",
      "--- Processing Day: 2024-03-28 ---\n",
      "Fetching options across 522.93\n"
     ]
    },
    {
     "data": {
      "application/vnd.jupyter.widget-view+json": {
       "model_id": "d0e67e7315094c77ae27eb1af6e84574",
       "version_major": 2,
       "version_minor": 0
      },
      "text/plain": [
       "FloatProgress(value=0.0, layout=Layout(width='auto'), style=ProgressStyle(bar_color='black'))"
      ]
     },
     "metadata": {},
     "output_type": "display_data"
    },
    {
     "name": "stdout",
     "output_type": "stream",
     "text": [
      "Total options found for today are: 22\n",
      "\n",
      "--- Phase 2: Preparing Master DataFrame ---\n",
      "✅ Successfully created master DataFrame with 220 total columns.\n",
      "['P_518.0_20240328', 'C_518.0_20240328', 'P_519.0_20240328', 'C_519.0_20240328', 'P_520.0_20240328', 'C_520.0_20240328', 'P_521.0_20240328', 'C_521.0_20240328', 'P_522.0_20240328', 'C_522.0_20240328', 'P_523.0_20240328', 'C_523.0_20240328', 'P_524.0_20240328', 'C_524.0_20240328', 'P_525.0_20240328', 'C_525.0_20240328', 'P_526.0_20240328', 'C_526.0_20240328', 'P_527.0_20240328', 'C_527.0_20240328', 'P_528.0_20240328', 'C_528.0_20240328']\n",
      "  -> Short ATM put ENTRY for P_524.0_20240328 at 10:02:00 and price 1.12\n",
      "  -> SPY is 523.51 and strike is 524.0\n",
      "  -> Target EXIT for P_524.0_20240328 at 1.38. Profit: $-2600.00\n",
      "  -> Short ATM put ENTRY for P_523.0_20240328 at 10:36:00 and price 0.64\n",
      "  -> SPY is 523.34 and strike is 523.0\n",
      "  -> MA cross exit for P_523.0_20240328 at 0.17. Profit: $4700.00\n",
      "\n",
      "--- Processing Day: 2024-04-01 ---\n",
      "Fetching options across 524.2\n"
     ]
    },
    {
     "data": {
      "application/vnd.jupyter.widget-view+json": {
       "model_id": "6fbec258677646ff892e7be69ee05422",
       "version_major": 2,
       "version_minor": 0
      },
      "text/plain": [
       "FloatProgress(value=0.0, layout=Layout(width='auto'), style=ProgressStyle(bar_color='black'))"
      ]
     },
     "metadata": {},
     "output_type": "display_data"
    },
    {
     "name": "stdout",
     "output_type": "stream",
     "text": [
      "Total options found for today are: 22\n",
      "\n",
      "--- Phase 2: Preparing Master DataFrame ---\n",
      "✅ Successfully created master DataFrame with 220 total columns.\n",
      "['P_519.0_20240401', 'C_519.0_20240401', 'P_520.0_20240401', 'C_520.0_20240401', 'P_521.0_20240401', 'C_521.0_20240401', 'P_522.0_20240401', 'C_522.0_20240401', 'P_523.0_20240401', 'C_523.0_20240401', 'P_524.0_20240401', 'C_524.0_20240401', 'P_525.0_20240401', 'C_525.0_20240401', 'P_526.0_20240401', 'C_526.0_20240401', 'P_527.0_20240401', 'C_527.0_20240401', 'P_528.0_20240401', 'C_528.0_20240401', 'P_529.0_20240401', 'C_529.0_20240401']\n",
      "  -> Short ATM put ENTRY for P_524.0_20240401 at 09:42:00 and price 0.68\n",
      "  -> SPY is 524.25 and strike is 524.0\n",
      "  -> Target EXIT for P_524.0_20240401 at 1.17. Profit: $-4900.00\n",
      "  -> Short ATM put ENTRY for P_522.0_20240401 at 11:45:00 and price 0.83\n",
      "  -> SPY is 521.79 and strike is 522.0\n",
      "  -> Target EXIT for P_522.0_20240401 at 1.24. Profit: $-4100.00\n",
      "  -> Short ATM put ENTRY for P_522.0_20240401 at 12:43:00 and price 0.56\n",
      "  -> SPY is 522.15 and strike is 522.0\n",
      "  -> Target EXIT for P_522.0_20240401 at 0.86. Profit: $-3000.00\n",
      "\n",
      "--- Processing Day: 2024-04-02 ---\n",
      "Fetching options across 518.27\n"
     ]
    },
    {
     "data": {
      "application/vnd.jupyter.widget-view+json": {
       "model_id": "434656e9017f4687b0dd968e8a227796",
       "version_major": 2,
       "version_minor": 0
      },
      "text/plain": [
       "FloatProgress(value=0.0, layout=Layout(width='auto'), style=ProgressStyle(bar_color='black'))"
      ]
     },
     "metadata": {},
     "output_type": "display_data"
    },
    {
     "name": "stdout",
     "output_type": "stream",
     "text": [
      "Total options found for today are: 22\n",
      "\n",
      "--- Phase 2: Preparing Master DataFrame ---\n",
      "✅ Successfully created master DataFrame with 220 total columns.\n",
      "['P_513.0_20240402', 'C_513.0_20240402', 'P_514.0_20240402', 'C_514.0_20240402', 'P_515.0_20240402', 'C_515.0_20240402', 'P_516.0_20240402', 'C_516.0_20240402', 'P_517.0_20240402', 'C_517.0_20240402', 'P_518.0_20240402', 'C_518.0_20240402', 'P_519.0_20240402', 'C_519.0_20240402', 'P_520.0_20240402', 'C_520.0_20240402', 'P_521.0_20240402', 'C_521.0_20240402', 'P_522.0_20240402', 'C_522.0_20240402', 'P_523.0_20240402', 'C_523.0_20240402']\n",
      "  -> Short ATM put ENTRY for P_518.0_20240402 at 10:03:00 and price 1.11\n",
      "  -> SPY is 517.8 and strike is 518.0\n",
      "  -> Target EXIT for P_518.0_20240402 at 1.39. Profit: $-2800.00\n",
      "  -> Short ATM put ENTRY for P_517.0_20240402 at 10:22:00 and price 0.89\n",
      "  -> SPY is 517.15 and strike is 517.0\n",
      "  -> Short ATM put ENTRY for P_518.0_20240402 at 11:17:00 and price 1.01\n",
      "  -> SPY is 517.59 and strike is 518.0\n",
      "  -> Target EXIT for P_518.0_20240402 at 1.29. Profit: $-2800.00\n",
      "Stoploss of  -1 side entry was 0.89 in P_517.0_20240402 at 0.38\n",
      "  -> EOD EXIT for P_517.0_20240402 at 0.38. Profit: $5100.00\n",
      "  -> Short ATM put ENTRY for P_518.0_20240402 at 12:50:00 and price 0.71\n",
      "  -> SPY is 517.91 and strike is 518.0\n",
      "EOD CLosing of -1 side positon in P_518.0_20240402 at 2024-04-02 15:21:00\n",
      "  -> EOD EXIT for P_518.0_20240402 at 0.37. Profit: $3400.00\n",
      "\n",
      "--- Processing Day: 2024-04-03 ---\n",
      "Fetching options across 518.38\n"
     ]
    },
    {
     "data": {
      "application/vnd.jupyter.widget-view+json": {
       "model_id": "fdbcb50f52a94622ae4d5ea071e89915",
       "version_major": 2,
       "version_minor": 0
      },
      "text/plain": [
       "FloatProgress(value=0.0, layout=Layout(width='auto'), style=ProgressStyle(bar_color='black'))"
      ]
     },
     "metadata": {},
     "output_type": "display_data"
    },
    {
     "name": "stdout",
     "output_type": "stream",
     "text": [
      "Total options found for today are: 22\n",
      "\n",
      "--- Phase 2: Preparing Master DataFrame ---\n",
      "✅ Successfully created master DataFrame with 220 total columns.\n",
      "['P_513.0_20240403', 'C_513.0_20240403', 'P_514.0_20240403', 'C_514.0_20240403', 'P_515.0_20240403', 'C_515.0_20240403', 'P_516.0_20240403', 'C_516.0_20240403', 'P_517.0_20240403', 'C_517.0_20240403', 'P_518.0_20240403', 'C_518.0_20240403', 'P_519.0_20240403', 'C_519.0_20240403', 'P_520.0_20240403', 'C_520.0_20240403', 'P_521.0_20240403', 'C_521.0_20240403', 'P_522.0_20240403', 'C_522.0_20240403', 'P_523.0_20240403', 'C_523.0_20240403']\n",
      "  -> Short ATM put ENTRY for P_519.0_20240403 at 10:01:00 and price 0.87\n",
      "  -> SPY is 519.23 and strike is 519.0\n",
      "  -> Short ATM put ENTRY for P_520.0_20240403 at 10:02:00 and price 1.15\n",
      "  -> SPY is 519.6 and strike is 520.0\n",
      "Stoploss of  -1 side entry was 0.87 in P_519.0_20240403 at 0.36\n",
      "  -> EOD EXIT for P_519.0_20240403 at 0.36. Profit: $5100.00\n",
      "Stoploss of  -1 side entry was 1.15 in P_520.0_20240403 at 0.63\n",
      "  -> EOD EXIT for P_520.0_20240403 at 0.63. Profit: $5200.00\n",
      "\n",
      "--- Processing Day: 2024-04-04 ---\n",
      "Fetching options across 522.77\n"
     ]
    },
    {
     "data": {
      "application/vnd.jupyter.widget-view+json": {
       "model_id": "7a8817c45f0444168a82c490dd2ff31c",
       "version_major": 2,
       "version_minor": 0
      },
      "text/plain": [
       "FloatProgress(value=0.0, layout=Layout(width='auto'), style=ProgressStyle(bar_color='black'))"
      ]
     },
     "metadata": {},
     "output_type": "display_data"
    },
    {
     "name": "stdout",
     "output_type": "stream",
     "text": [
      "Total options found for today are: 22\n",
      "\n",
      "--- Phase 2: Preparing Master DataFrame ---\n",
      "✅ Successfully created master DataFrame with 220 total columns.\n",
      "['P_518.0_20240404', 'C_518.0_20240404', 'P_519.0_20240404', 'C_519.0_20240404', 'P_520.0_20240404', 'C_520.0_20240404', 'P_521.0_20240404', 'C_521.0_20240404', 'P_522.0_20240404', 'C_522.0_20240404', 'P_523.0_20240404', 'C_523.0_20240404', 'P_524.0_20240404', 'C_524.0_20240404', 'P_525.0_20240404', 'C_525.0_20240404', 'P_526.0_20240404', 'C_526.0_20240404', 'P_527.0_20240404', 'C_527.0_20240404', 'P_528.0_20240404', 'C_528.0_20240404']\n",
      "\n",
      "--- Processing Day: 2024-04-05 ---\n",
      "Fetching options across 518.15\n"
     ]
    },
    {
     "data": {
      "application/vnd.jupyter.widget-view+json": {
       "model_id": "ca760ce4699a440395e3e916d58c36ac",
       "version_major": 2,
       "version_minor": 0
      },
      "text/plain": [
       "FloatProgress(value=0.0, layout=Layout(width='auto'), style=ProgressStyle(bar_color='black'))"
      ]
     },
     "metadata": {},
     "output_type": "display_data"
    },
    {
     "name": "stdout",
     "output_type": "stream",
     "text": [
      "Total options found for today are: 22\n",
      "\n",
      "--- Phase 2: Preparing Master DataFrame ---\n",
      "✅ Successfully created master DataFrame with 220 total columns.\n",
      "['P_513.0_20240405', 'C_513.0_20240405', 'P_514.0_20240405', 'C_514.0_20240405', 'P_515.0_20240405', 'C_515.0_20240405', 'P_516.0_20240405', 'C_516.0_20240405', 'P_517.0_20240405', 'C_517.0_20240405', 'P_518.0_20240405', 'C_518.0_20240405', 'P_519.0_20240405', 'C_519.0_20240405', 'P_520.0_20240405', 'C_520.0_20240405', 'P_521.0_20240405', 'C_521.0_20240405', 'P_522.0_20240405', 'C_522.0_20240405', 'P_523.0_20240405', 'C_523.0_20240405']\n",
      "\n",
      "--- Processing Day: 2024-04-08 ---\n",
      "Fetching options across 519.32\n"
     ]
    },
    {
     "data": {
      "application/vnd.jupyter.widget-view+json": {
       "model_id": "7d32e82032c8464b9b5865afec7c20b5",
       "version_major": 2,
       "version_minor": 0
      },
      "text/plain": [
       "FloatProgress(value=0.0, layout=Layout(width='auto'), style=ProgressStyle(bar_color='black'))"
      ]
     },
     "metadata": {},
     "output_type": "display_data"
    },
    {
     "name": "stdout",
     "output_type": "stream",
     "text": [
      "Total options found for today are: 22\n",
      "\n",
      "--- Phase 2: Preparing Master DataFrame ---\n",
      "✅ Successfully created master DataFrame with 220 total columns.\n",
      "['P_514.0_20240408', 'C_514.0_20240408', 'P_515.0_20240408', 'C_515.0_20240408', 'P_516.0_20240408', 'C_516.0_20240408', 'P_517.0_20240408', 'C_517.0_20240408', 'P_518.0_20240408', 'C_518.0_20240408', 'P_519.0_20240408', 'C_519.0_20240408', 'P_520.0_20240408', 'C_520.0_20240408', 'P_521.0_20240408', 'C_521.0_20240408', 'P_522.0_20240408', 'C_522.0_20240408', 'P_523.0_20240408', 'C_523.0_20240408', 'P_524.0_20240408', 'C_524.0_20240408']\n",
      "  -> Short ATM put ENTRY for P_519.0_20240408 at 09:47:00 and price 1.09\n",
      "  -> SPY is 518.96 and strike is 519.0\n",
      "  -> Target EXIT for P_519.0_20240408 at 1.35. Profit: $-2600.00\n",
      "  -> Short ATM put ENTRY for P_519.0_20240408 at 10:24:00 and price 0.94\n",
      "  -> SPY is 518.98 and strike is 519.0\n",
      "Stoploss of  -1 side entry was 0.94 in P_519.0_20240408 at 0.41\n",
      "  -> EOD EXIT for P_519.0_20240408 at 0.41. Profit: $5300.00\n",
      "  -> Short ATM put ENTRY for P_519.0_20240408 at 11:42:00 and price 0.9\n",
      "  -> SPY is 518.84 and strike is 519.0\n",
      "  -> Target EXIT for P_519.0_20240408 at 1.17. Profit: $-2700.00\n",
      "  -> Short ATM put ENTRY for P_519.0_20240408 at 12:38:00 and price 0.86\n",
      "  -> SPY is 518.86 and strike is 519.0\n",
      "Stoploss of  -1 side entry was 0.86 in P_519.0_20240408 at 0.35\n",
      "  -> EOD EXIT for P_519.0_20240408 at 0.35. Profit: $5100.00\n",
      "\n",
      "--- Processing Day: 2024-04-09 ---\n",
      "Fetching options across 516.83\n"
     ]
    },
    {
     "data": {
      "application/vnd.jupyter.widget-view+json": {
       "model_id": "34f67b62ba2d429e8d3e1c1fbe72cf08",
       "version_major": 2,
       "version_minor": 0
      },
      "text/plain": [
       "FloatProgress(value=0.0, layout=Layout(width='auto'), style=ProgressStyle(bar_color='black'))"
      ]
     },
     "metadata": {},
     "output_type": "display_data"
    },
    {
     "name": "stdout",
     "output_type": "stream",
     "text": [
      "Total options found for today are: 22\n",
      "\n",
      "--- Phase 2: Preparing Master DataFrame ---\n",
      "✅ Successfully created master DataFrame with 220 total columns.\n",
      "['P_512.0_20240409', 'C_512.0_20240409', 'P_513.0_20240409', 'C_513.0_20240409', 'P_514.0_20240409', 'C_514.0_20240409', 'P_515.0_20240409', 'C_515.0_20240409', 'P_516.0_20240409', 'C_516.0_20240409', 'P_517.0_20240409', 'C_517.0_20240409', 'P_518.0_20240409', 'C_518.0_20240409', 'P_519.0_20240409', 'C_519.0_20240409', 'P_520.0_20240409', 'C_520.0_20240409', 'P_521.0_20240409', 'C_521.0_20240409', 'P_522.0_20240409', 'C_522.0_20240409']\n",
      "\n",
      "--- Processing Day: 2024-04-10 ---\n",
      "Fetching options across 513.27\n"
     ]
    },
    {
     "data": {
      "application/vnd.jupyter.widget-view+json": {
       "model_id": "b41b2b07a2e941fbb05f243a6fbcb05f",
       "version_major": 2,
       "version_minor": 0
      },
      "text/plain": [
       "FloatProgress(value=0.0, layout=Layout(width='auto'), style=ProgressStyle(bar_color='black'))"
      ]
     },
     "metadata": {},
     "output_type": "display_data"
    },
    {
     "name": "stdout",
     "output_type": "stream",
     "text": [
      "Total options found for today are: 22\n",
      "\n",
      "--- Phase 2: Preparing Master DataFrame ---\n",
      "✅ Successfully created master DataFrame with 220 total columns.\n",
      "['P_508.0_20240410', 'C_508.0_20240410', 'P_509.0_20240410', 'C_509.0_20240410', 'P_510.0_20240410', 'C_510.0_20240410', 'P_511.0_20240410', 'C_511.0_20240410', 'P_512.0_20240410', 'C_512.0_20240410', 'P_513.0_20240410', 'C_513.0_20240410', 'P_514.0_20240410', 'C_514.0_20240410', 'P_515.0_20240410', 'C_515.0_20240410', 'P_516.0_20240410', 'C_516.0_20240410', 'P_517.0_20240410', 'C_517.0_20240410', 'P_518.0_20240410', 'C_518.0_20240410']\n",
      "  -> Short ATM put ENTRY for P_513.0_20240410 at 11:56:00 and price 1.14\n",
      "  -> SPY is 513.28 and strike is 513.0\n",
      "  -> Target EXIT for P_513.0_20240410 at 1.51. Profit: $-3700.00\n",
      "\n",
      "--- Processing Day: 2024-04-11 ---\n",
      "Fetching options across 512.82\n"
     ]
    },
    {
     "data": {
      "application/vnd.jupyter.widget-view+json": {
       "model_id": "4ec74c9105634d4c91ae2c37517b9e4c",
       "version_major": 2,
       "version_minor": 0
      },
      "text/plain": [
       "FloatProgress(value=0.0, layout=Layout(width='auto'), style=ProgressStyle(bar_color='black'))"
      ]
     },
     "metadata": {},
     "output_type": "display_data"
    },
    {
     "name": "stdout",
     "output_type": "stream",
     "text": [
      "Total options found for today are: 22\n",
      "\n",
      "--- Phase 2: Preparing Master DataFrame ---\n",
      "✅ Successfully created master DataFrame with 220 total columns.\n",
      "['P_508.0_20240411', 'C_508.0_20240411', 'P_509.0_20240411', 'C_509.0_20240411', 'P_510.0_20240411', 'C_510.0_20240411', 'P_511.0_20240411', 'C_511.0_20240411', 'P_512.0_20240411', 'C_512.0_20240411', 'P_513.0_20240411', 'C_513.0_20240411', 'P_514.0_20240411', 'C_514.0_20240411', 'P_515.0_20240411', 'C_515.0_20240411', 'P_516.0_20240411', 'C_516.0_20240411', 'P_517.0_20240411', 'C_517.0_20240411', 'P_518.0_20240411', 'C_518.0_20240411']\n",
      "\n",
      "--- Processing Day: 2024-04-15 ---\n",
      "Fetching options across 511.89\n"
     ]
    },
    {
     "data": {
      "application/vnd.jupyter.widget-view+json": {
       "model_id": "f7b27772a43b413cae7e5cfcf4ef6475",
       "version_major": 2,
       "version_minor": 0
      },
      "text/plain": [
       "FloatProgress(value=0.0, layout=Layout(width='auto'), style=ProgressStyle(bar_color='black'))"
      ]
     },
     "metadata": {},
     "output_type": "display_data"
    },
    {
     "name": "stdout",
     "output_type": "stream",
     "text": [
      "Total options found for today are: 22\n",
      "\n",
      "--- Phase 2: Preparing Master DataFrame ---\n",
      "✅ Successfully created master DataFrame with 220 total columns.\n",
      "['P_507.0_20240415', 'C_507.0_20240415', 'P_508.0_20240415', 'C_508.0_20240415', 'P_509.0_20240415', 'C_509.0_20240415', 'P_510.0_20240415', 'C_510.0_20240415', 'P_511.0_20240415', 'C_511.0_20240415', 'P_512.0_20240415', 'C_512.0_20240415', 'P_513.0_20240415', 'C_513.0_20240415', 'P_514.0_20240415', 'C_514.0_20240415', 'P_515.0_20240415', 'C_515.0_20240415', 'P_516.0_20240415', 'C_516.0_20240415', 'P_517.0_20240415', 'C_517.0_20240415']\n",
      "\n",
      "--- Processing Day: 2024-04-16 ---\n",
      "Fetching options across 504.46\n"
     ]
    },
    {
     "data": {
      "application/vnd.jupyter.widget-view+json": {
       "model_id": "45a556eb2b724722823956ff98a57169",
       "version_major": 2,
       "version_minor": 0
      },
      "text/plain": [
       "FloatProgress(value=0.0, layout=Layout(width='auto'), style=ProgressStyle(bar_color='black'))"
      ]
     },
     "metadata": {},
     "output_type": "display_data"
    },
    {
     "name": "stdout",
     "output_type": "stream",
     "text": [
      "Total options found for today are: 22\n",
      "\n",
      "--- Phase 2: Preparing Master DataFrame ---\n",
      "✅ Successfully created master DataFrame with 220 total columns.\n",
      "['P_499.0_20240416', 'C_499.0_20240416', 'P_500.0_20240416', 'C_500.0_20240416', 'P_501.0_20240416', 'C_501.0_20240416', 'P_502.0_20240416', 'C_502.0_20240416', 'P_503.0_20240416', 'C_503.0_20240416', 'P_504.0_20240416', 'C_504.0_20240416', 'P_505.0_20240416', 'C_505.0_20240416', 'P_506.0_20240416', 'C_506.0_20240416', 'P_507.0_20240416', 'C_507.0_20240416', 'P_508.0_20240416', 'C_508.0_20240416', 'P_509.0_20240416', 'C_509.0_20240416']\n",
      "  -> Short call ENTRY for C_504.0_20240416 at 09:41:00 and price 1.98\n",
      "  -> SPY is 503.87 and strike is 504.0\n",
      "  -> Target EXIT for C_504.0_20240416 at 2.25. Profit: $-2700.00\n",
      "  -> Short call ENTRY for C_504.0_20240416 at 10:01:00 and price 2.06\n",
      "  -> SPY is 504.14 and strike is 504.0\n",
      "  -> Target EXIT for C_504.0_20240416 at 2.53. Profit: $-4700.00\n",
      "\n",
      "--- Processing Day: 2024-04-17 ---\n",
      "Fetching options across 506.15\n"
     ]
    },
    {
     "data": {
      "application/vnd.jupyter.widget-view+json": {
       "model_id": "12c6f1a2a3fd4899a22996f5291d8ece",
       "version_major": 2,
       "version_minor": 0
      },
      "text/plain": [
       "FloatProgress(value=0.0, layout=Layout(width='auto'), style=ProgressStyle(bar_color='black'))"
      ]
     },
     "metadata": {},
     "output_type": "display_data"
    },
    {
     "name": "stdout",
     "output_type": "stream",
     "text": [
      "Total options found for today are: 22\n",
      "\n",
      "--- Phase 2: Preparing Master DataFrame ---\n",
      "✅ Successfully created master DataFrame with 220 total columns.\n",
      "['P_501.0_20240417', 'C_501.0_20240417', 'P_502.0_20240417', 'C_502.0_20240417', 'P_503.0_20240417', 'C_503.0_20240417', 'P_504.0_20240417', 'C_504.0_20240417', 'P_505.0_20240417', 'C_505.0_20240417', 'P_506.0_20240417', 'C_506.0_20240417', 'P_507.0_20240417', 'C_507.0_20240417', 'P_508.0_20240417', 'C_508.0_20240417', 'P_509.0_20240417', 'C_509.0_20240417', 'P_510.0_20240417', 'C_510.0_20240417', 'P_511.0_20240417', 'C_511.0_20240417']\n",
      "\n",
      "--- Processing Day: 2024-04-18 ---\n",
      "Fetching options across 500.68\n"
     ]
    },
    {
     "data": {
      "application/vnd.jupyter.widget-view+json": {
       "model_id": "98c74667971f465a93f76f72d128eb5e",
       "version_major": 2,
       "version_minor": 0
      },
      "text/plain": [
       "FloatProgress(value=0.0, layout=Layout(width='auto'), style=ProgressStyle(bar_color='black'))"
      ]
     },
     "metadata": {},
     "output_type": "display_data"
    },
    {
     "name": "stdout",
     "output_type": "stream",
     "text": [
      "Total options found for today are: 22\n",
      "\n",
      "--- Phase 2: Preparing Master DataFrame ---\n",
      "✅ Successfully created master DataFrame with 220 total columns.\n",
      "['P_496.0_20240418', 'C_496.0_20240418', 'P_497.0_20240418', 'C_497.0_20240418', 'P_498.0_20240418', 'C_498.0_20240418', 'P_499.0_20240418', 'C_499.0_20240418', 'P_500.0_20240418', 'C_500.0_20240418', 'P_501.0_20240418', 'C_501.0_20240418', 'P_502.0_20240418', 'C_502.0_20240418', 'P_503.0_20240418', 'C_503.0_20240418', 'P_504.0_20240418', 'C_504.0_20240418', 'P_505.0_20240418', 'C_505.0_20240418', 'P_506.0_20240418', 'C_506.0_20240418']\n",
      "  -> Short ATM put ENTRY for P_499.0_20240418 at 14:01:00 and price 0.84\n",
      "  -> SPY is 499.46 and strike is 499.0\n",
      "  -> Target EXIT for P_499.0_20240418 at 1.17. Profit: $-3300.00\n",
      "\n",
      "--- Processing Day: 2024-04-19 ---\n",
      "Fetching options across 499.16\n"
     ]
    },
    {
     "data": {
      "application/vnd.jupyter.widget-view+json": {
       "model_id": "dcb535232f2f4fbab64a45d2e4726153",
       "version_major": 2,
       "version_minor": 0
      },
      "text/plain": [
       "FloatProgress(value=0.0, layout=Layout(width='auto'), style=ProgressStyle(bar_color='black'))"
      ]
     },
     "metadata": {},
     "output_type": "display_data"
    },
    {
     "name": "stdout",
     "output_type": "stream",
     "text": [
      "Total options found for today are: 22\n",
      "\n",
      "--- Phase 2: Preparing Master DataFrame ---\n",
      "✅ Successfully created master DataFrame with 220 total columns.\n",
      "['P_494.0_20240419', 'C_494.0_20240419', 'P_495.0_20240419', 'C_495.0_20240419', 'P_496.0_20240419', 'C_496.0_20240419', 'P_497.0_20240419', 'C_497.0_20240419', 'P_498.0_20240419', 'C_498.0_20240419', 'P_499.0_20240419', 'C_499.0_20240419', 'P_500.0_20240419', 'C_500.0_20240419', 'P_501.0_20240419', 'C_501.0_20240419', 'P_502.0_20240419', 'C_502.0_20240419', 'P_503.0_20240419', 'C_503.0_20240419', 'P_504.0_20240419', 'C_504.0_20240419']\n",
      "\n",
      "--- Processing Day: 2024-04-22 ---\n",
      "Fetching options across 497.91\n"
     ]
    },
    {
     "data": {
      "application/vnd.jupyter.widget-view+json": {
       "model_id": "76136d8e46c147b18c932262e23a36aa",
       "version_major": 2,
       "version_minor": 0
      },
      "text/plain": [
       "FloatProgress(value=0.0, layout=Layout(width='auto'), style=ProgressStyle(bar_color='black'))"
      ]
     },
     "metadata": {},
     "output_type": "display_data"
    },
    {
     "name": "stdout",
     "output_type": "stream",
     "text": [
      "Total options found for today are: 22\n",
      "\n",
      "--- Phase 2: Preparing Master DataFrame ---\n",
      "✅ Successfully created master DataFrame with 220 total columns.\n",
      "['P_493.0_20240422', 'C_493.0_20240422', 'P_494.0_20240422', 'C_494.0_20240422', 'P_495.0_20240422', 'C_495.0_20240422', 'P_496.0_20240422', 'C_496.0_20240422', 'P_497.0_20240422', 'C_497.0_20240422', 'P_498.0_20240422', 'C_498.0_20240422', 'P_499.0_20240422', 'C_499.0_20240422', 'P_500.0_20240422', 'C_500.0_20240422', 'P_501.0_20240422', 'C_501.0_20240422', 'P_502.0_20240422', 'C_502.0_20240422', 'P_503.0_20240422', 'C_503.0_20240422']\n",
      "\n",
      "--- Processing Day: 2024-04-23 ---\n",
      "Fetching options across 503.43\n"
     ]
    },
    {
     "data": {
      "application/vnd.jupyter.widget-view+json": {
       "model_id": "16982116f31745e8966d8b1657bdde4d",
       "version_major": 2,
       "version_minor": 0
      },
      "text/plain": [
       "FloatProgress(value=0.0, layout=Layout(width='auto'), style=ProgressStyle(bar_color='black'))"
      ]
     },
     "metadata": {},
     "output_type": "display_data"
    },
    {
     "name": "stdout",
     "output_type": "stream",
     "text": [
      "Total options found for today are: 22\n",
      "\n",
      "--- Phase 2: Preparing Master DataFrame ---\n",
      "✅ Successfully created master DataFrame with 220 total columns.\n",
      "['P_498.0_20240423', 'C_498.0_20240423', 'P_499.0_20240423', 'C_499.0_20240423', 'P_500.0_20240423', 'C_500.0_20240423', 'P_501.0_20240423', 'C_501.0_20240423', 'P_502.0_20240423', 'C_502.0_20240423', 'P_503.0_20240423', 'C_503.0_20240423', 'P_504.0_20240423', 'C_504.0_20240423', 'P_505.0_20240423', 'C_505.0_20240423', 'P_506.0_20240423', 'C_506.0_20240423', 'P_507.0_20240423', 'C_507.0_20240423', 'P_508.0_20240423', 'C_508.0_20240423']\n",
      "\n",
      "--- Processing Day: 2024-04-24 ---\n",
      "Fetching options across 506.59\n"
     ]
    },
    {
     "data": {
      "application/vnd.jupyter.widget-view+json": {
       "model_id": "815ce6b0542f40e4af429c605f50bc23",
       "version_major": 2,
       "version_minor": 0
      },
      "text/plain": [
       "FloatProgress(value=0.0, layout=Layout(width='auto'), style=ProgressStyle(bar_color='black'))"
      ]
     },
     "metadata": {},
     "output_type": "display_data"
    },
    {
     "name": "stdout",
     "output_type": "stream",
     "text": [
      "Total options found for today are: 22\n",
      "\n",
      "--- Phase 2: Preparing Master DataFrame ---\n",
      "✅ Successfully created master DataFrame with 220 total columns.\n",
      "['P_502.0_20240424', 'C_502.0_20240424', 'P_503.0_20240424', 'C_503.0_20240424', 'P_504.0_20240424', 'C_504.0_20240424', 'P_505.0_20240424', 'C_505.0_20240424', 'P_506.0_20240424', 'C_506.0_20240424', 'P_507.0_20240424', 'C_507.0_20240424', 'P_508.0_20240424', 'C_508.0_20240424', 'P_509.0_20240424', 'C_509.0_20240424', 'P_510.0_20240424', 'C_510.0_20240424', 'P_511.0_20240424', 'C_511.0_20240424', 'P_512.0_20240424', 'C_512.0_20240424']\n",
      "  -> Short ATM put ENTRY for P_504.0_20240424 at 13:00:00 and price 0.96\n",
      "  -> SPY is 504.36 and strike is 504.0\n",
      "Stoploss of  -1 side entry was 0.96 in P_504.0_20240424 at 0.43\n",
      "  -> EOD EXIT for P_504.0_20240424 at 0.43. Profit: $5300.00\n",
      "\n",
      "--- Processing Day: 2024-04-26 ---\n",
      "Fetching options across 506.82\n"
     ]
    },
    {
     "data": {
      "application/vnd.jupyter.widget-view+json": {
       "model_id": "7b9d81ac476247c79e1edf8810d771e8",
       "version_major": 2,
       "version_minor": 0
      },
      "text/plain": [
       "FloatProgress(value=0.0, layout=Layout(width='auto'), style=ProgressStyle(bar_color='black'))"
      ]
     },
     "metadata": {},
     "output_type": "display_data"
    },
    {
     "name": "stdout",
     "output_type": "stream",
     "text": [
      "Total options found for today are: 22\n",
      "\n",
      "--- Phase 2: Preparing Master DataFrame ---\n",
      "✅ Successfully created master DataFrame with 220 total columns.\n",
      "['P_502.0_20240426', 'C_502.0_20240426', 'P_503.0_20240426', 'C_503.0_20240426', 'P_504.0_20240426', 'C_504.0_20240426', 'P_505.0_20240426', 'C_505.0_20240426', 'P_506.0_20240426', 'C_506.0_20240426', 'P_507.0_20240426', 'C_507.0_20240426', 'P_508.0_20240426', 'C_508.0_20240426', 'P_509.0_20240426', 'C_509.0_20240426', 'P_510.0_20240426', 'C_510.0_20240426', 'P_511.0_20240426', 'C_511.0_20240426', 'P_512.0_20240426', 'C_512.0_20240426']\n",
      "\n",
      "--- Processing Day: 2024-04-29 ---\n",
      "Fetching options across 509.84\n"
     ]
    },
    {
     "data": {
      "application/vnd.jupyter.widget-view+json": {
       "model_id": "84e296877de34ab695a3fbcea45aa349",
       "version_major": 2,
       "version_minor": 0
      },
      "text/plain": [
       "FloatProgress(value=0.0, layout=Layout(width='auto'), style=ProgressStyle(bar_color='black'))"
      ]
     },
     "metadata": {},
     "output_type": "display_data"
    },
    {
     "name": "stdout",
     "output_type": "stream",
     "text": [
      "Total options found for today are: 22\n",
      "\n",
      "--- Phase 2: Preparing Master DataFrame ---\n",
      "✅ Successfully created master DataFrame with 220 total columns.\n",
      "['P_505.0_20240429', 'C_505.0_20240429', 'P_506.0_20240429', 'C_506.0_20240429', 'P_507.0_20240429', 'C_507.0_20240429', 'P_508.0_20240429', 'C_508.0_20240429', 'P_509.0_20240429', 'C_509.0_20240429', 'P_510.0_20240429', 'C_510.0_20240429', 'P_511.0_20240429', 'C_511.0_20240429', 'P_512.0_20240429', 'C_512.0_20240429', 'P_513.0_20240429', 'C_513.0_20240429', 'P_514.0_20240429', 'C_514.0_20240429', 'P_515.0_20240429', 'C_515.0_20240429']\n",
      "\n",
      "--- Processing Day: 2024-05-02 ---\n",
      "Fetching options across 502.84\n"
     ]
    },
    {
     "data": {
      "application/vnd.jupyter.widget-view+json": {
       "model_id": "41f231af0c494f908de5a271759520d0",
       "version_major": 2,
       "version_minor": 0
      },
      "text/plain": [
       "FloatProgress(value=0.0, layout=Layout(width='auto'), style=ProgressStyle(bar_color='black'))"
      ]
     },
     "metadata": {},
     "output_type": "display_data"
    },
    {
     "name": "stdout",
     "output_type": "stream",
     "text": [
      "Total options found for today are: 22\n",
      "\n",
      "--- Phase 2: Preparing Master DataFrame ---\n",
      "✅ Successfully created master DataFrame with 220 total columns.\n",
      "['P_498.0_20240502', 'C_498.0_20240502', 'P_499.0_20240502', 'C_499.0_20240502', 'P_500.0_20240502', 'C_500.0_20240502', 'P_501.0_20240502', 'C_501.0_20240502', 'P_502.0_20240502', 'C_502.0_20240502', 'P_503.0_20240502', 'C_503.0_20240502', 'P_504.0_20240502', 'C_504.0_20240502', 'P_505.0_20240502', 'C_505.0_20240502', 'P_506.0_20240502', 'C_506.0_20240502', 'P_507.0_20240502', 'C_507.0_20240502', 'P_508.0_20240502', 'C_508.0_20240502']\n",
      "  -> Short call ENTRY for C_502.0_20240502 at 09:55:00 and price 1.75\n",
      "  -> SPY is 502.11 and strike is 502.0\n",
      "Stoploss of  -1 side entry was 1.75 in C_502.0_20240502 at 1.2\n",
      "  -> EOD EXIT for C_502.0_20240502 at 1.20. Profit: $5500.00\n",
      "\n",
      "--- Processing Day: 2024-05-08 ---\n",
      "Fetching options across 516.44\n"
     ]
    },
    {
     "data": {
      "application/vnd.jupyter.widget-view+json": {
       "model_id": "a8862045655b4b7b9763f3f6bea536a5",
       "version_major": 2,
       "version_minor": 0
      },
      "text/plain": [
       "FloatProgress(value=0.0, layout=Layout(width='auto'), style=ProgressStyle(bar_color='black'))"
      ]
     },
     "metadata": {},
     "output_type": "display_data"
    },
    {
     "name": "stdout",
     "output_type": "stream",
     "text": [
      "Total options found for today are: 22\n",
      "\n",
      "--- Phase 2: Preparing Master DataFrame ---\n",
      "✅ Successfully created master DataFrame with 220 total columns.\n",
      "['P_511.0_20240508', 'C_511.0_20240508', 'P_512.0_20240508', 'C_512.0_20240508', 'P_513.0_20240508', 'C_513.0_20240508', 'P_514.0_20240508', 'C_514.0_20240508', 'P_515.0_20240508', 'C_515.0_20240508', 'P_516.0_20240508', 'C_516.0_20240508', 'P_517.0_20240508', 'C_517.0_20240508', 'P_518.0_20240508', 'C_518.0_20240508', 'P_519.0_20240508', 'C_519.0_20240508', 'P_520.0_20240508', 'C_520.0_20240508', 'P_521.0_20240508', 'C_521.0_20240508']\n",
      "\n",
      "--- Processing Day: 2024-05-09 ---\n",
      "Fetching options across 518.61\n"
     ]
    },
    {
     "data": {
      "application/vnd.jupyter.widget-view+json": {
       "model_id": "3ef986148c6744aeb90fd75c9b0f14b3",
       "version_major": 2,
       "version_minor": 0
      },
      "text/plain": [
       "FloatProgress(value=0.0, layout=Layout(width='auto'), style=ProgressStyle(bar_color='black'))"
      ]
     },
     "metadata": {},
     "output_type": "display_data"
    },
    {
     "name": "stdout",
     "output_type": "stream",
     "text": [
      "Total options found for today are: 22\n",
      "\n",
      "--- Phase 2: Preparing Master DataFrame ---\n",
      "✅ Successfully created master DataFrame with 220 total columns.\n",
      "['P_514.0_20240509', 'C_514.0_20240509', 'P_515.0_20240509', 'C_515.0_20240509', 'P_516.0_20240509', 'C_516.0_20240509', 'P_517.0_20240509', 'C_517.0_20240509', 'P_518.0_20240509', 'C_518.0_20240509', 'P_519.0_20240509', 'C_519.0_20240509', 'P_520.0_20240509', 'C_520.0_20240509', 'P_521.0_20240509', 'C_521.0_20240509', 'P_522.0_20240509', 'C_522.0_20240509', 'P_523.0_20240509', 'C_523.0_20240509', 'P_524.0_20240509', 'C_524.0_20240509']\n",
      "\n",
      "--- Processing Day: 2024-05-10 ---\n",
      "Fetching options across 521.81\n"
     ]
    },
    {
     "data": {
      "application/vnd.jupyter.widget-view+json": {
       "model_id": "9eee85e014254fdf91cff3ba7e1e67ed",
       "version_major": 2,
       "version_minor": 0
      },
      "text/plain": [
       "FloatProgress(value=0.0, layout=Layout(width='auto'), style=ProgressStyle(bar_color='black'))"
      ]
     },
     "metadata": {},
     "output_type": "display_data"
    },
    {
     "name": "stdout",
     "output_type": "stream",
     "text": [
      "Total options found for today are: 22\n",
      "\n",
      "--- Phase 2: Preparing Master DataFrame ---\n",
      "✅ Successfully created master DataFrame with 220 total columns.\n",
      "['P_517.0_20240510', 'C_517.0_20240510', 'P_518.0_20240510', 'C_518.0_20240510', 'P_519.0_20240510', 'C_519.0_20240510', 'P_520.0_20240510', 'C_520.0_20240510', 'P_521.0_20240510', 'C_521.0_20240510', 'P_522.0_20240510', 'C_522.0_20240510', 'P_523.0_20240510', 'C_523.0_20240510', 'P_524.0_20240510', 'C_524.0_20240510', 'P_525.0_20240510', 'C_525.0_20240510', 'P_526.0_20240510', 'C_526.0_20240510', 'P_527.0_20240510', 'C_527.0_20240510']\n",
      "  -> Short ATM put ENTRY for P_522.0_20240510 at 09:47:00 and price 0.78\n",
      "  -> SPY is 522.35 and strike is 522.0\n",
      "  -> Target EXIT for P_522.0_20240510 at 1.16. Profit: $-3800.00\n",
      "\n",
      "--- Processing Day: 2024-05-15 ---\n",
      "Fetching options across 525.91\n"
     ]
    },
    {
     "data": {
      "application/vnd.jupyter.widget-view+json": {
       "model_id": "60febb4f228b4048a0b1a28a0166b82c",
       "version_major": 2,
       "version_minor": 0
      },
      "text/plain": [
       "FloatProgress(value=0.0, layout=Layout(width='auto'), style=ProgressStyle(bar_color='black'))"
      ]
     },
     "metadata": {},
     "output_type": "display_data"
    },
    {
     "name": "stdout",
     "output_type": "stream",
     "text": [
      "Total options found for today are: 22\n",
      "\n",
      "--- Phase 2: Preparing Master DataFrame ---\n",
      "✅ Successfully created master DataFrame with 220 total columns.\n",
      "['P_521.0_20240515', 'C_521.0_20240515', 'P_522.0_20240515', 'C_522.0_20240515', 'P_523.0_20240515', 'C_523.0_20240515', 'P_524.0_20240515', 'C_524.0_20240515', 'P_525.0_20240515', 'C_525.0_20240515', 'P_526.0_20240515', 'C_526.0_20240515', 'P_527.0_20240515', 'C_527.0_20240515', 'P_528.0_20240515', 'C_528.0_20240515', 'P_529.0_20240515', 'C_529.0_20240515', 'P_530.0_20240515', 'C_530.0_20240515', 'P_531.0_20240515', 'C_531.0_20240515']\n",
      "  -> Short call ENTRY for C_526.0_20240515 at 09:45:00 and price 1.21\n",
      "  -> SPY is 526.12 and strike is 526.0\n",
      "  -> Short call ENTRY for C_525.0_20240515 at 09:52:00 and price 1.34\n",
      "  -> SPY is 525.37 and strike is 525.0\n",
      "  -> Target EXIT for C_525.0_20240515 at 1.63. Profit: $-2900.00\n",
      "  -> Target EXIT for C_526.0_20240515 at 1.48. Profit: $-2700.00\n",
      "\n",
      "--- Processing Day: 2024-05-16 ---\n",
      "Fetching options across 529.91\n"
     ]
    },
    {
     "data": {
      "application/vnd.jupyter.widget-view+json": {
       "model_id": "7eea3cb0ab2d419cbd435c6a1636623f",
       "version_major": 2,
       "version_minor": 0
      },
      "text/plain": [
       "FloatProgress(value=0.0, layout=Layout(width='auto'), style=ProgressStyle(bar_color='black'))"
      ]
     },
     "metadata": {},
     "output_type": "display_data"
    },
    {
     "name": "stdout",
     "output_type": "stream",
     "text": [
      "Total options found for today are: 22\n",
      "\n",
      "--- Phase 2: Preparing Master DataFrame ---\n",
      "✅ Successfully created master DataFrame with 220 total columns.\n",
      "['P_525.0_20240516', 'C_525.0_20240516', 'P_526.0_20240516', 'C_526.0_20240516', 'P_527.0_20240516', 'C_527.0_20240516', 'P_528.0_20240516', 'C_528.0_20240516', 'P_529.0_20240516', 'C_529.0_20240516', 'P_530.0_20240516', 'C_530.0_20240516', 'P_531.0_20240516', 'C_531.0_20240516', 'P_532.0_20240516', 'C_532.0_20240516', 'P_533.0_20240516', 'C_533.0_20240516', 'P_534.0_20240516', 'C_534.0_20240516', 'P_535.0_20240516', 'C_535.0_20240516']\n",
      "  -> Short ATM put ENTRY for P_530.0_20240516 at 09:46:00 and price 0.82\n",
      "  -> SPY is 530.05 and strike is 530.0\n",
      "  -> Short ATM put ENTRY for P_531.0_20240516 at 10:16:00 and price 1.01\n",
      "  -> SPY is 530.51 and strike is 531.0\n",
      "Stoploss of  -1 side entry was 0.82 in P_530.0_20240516 at 0.31\n",
      "  -> EOD EXIT for P_530.0_20240516 at 0.31. Profit: $5100.00\n",
      "  -> Short ATM put ENTRY for P_530.0_20240516 at 12:36:00 and price 0.46\n",
      "  -> SPY is 530.38 and strike is 530.0\n",
      "  -> Target EXIT for P_530.0_20240516 at 0.73. Profit: $-2700.00\n",
      "  -> Target EXIT for P_531.0_20240516 at 1.36. Profit: $-3500.00\n",
      "  -> Short ATM put ENTRY for P_530.0_20240516 at 13:31:00 and price 0.73\n",
      "  -> SPY is 529.88 and strike is 530.0\n",
      "  -> Target EXIT for P_530.0_20240516 at 1.09. Profit: $-3600.00\n",
      "\n",
      "--- Processing Day: 2024-05-17 ---\n",
      "Fetching options across 528.46\n"
     ]
    },
    {
     "data": {
      "application/vnd.jupyter.widget-view+json": {
       "model_id": "498d44f115c14e6a921f1fab797471a0",
       "version_major": 2,
       "version_minor": 0
      },
      "text/plain": [
       "FloatProgress(value=0.0, layout=Layout(width='auto'), style=ProgressStyle(bar_color='black'))"
      ]
     },
     "metadata": {},
     "output_type": "display_data"
    },
    {
     "name": "stdout",
     "output_type": "stream",
     "text": [
      "Total options found for today are: 22\n",
      "\n",
      "--- Phase 2: Preparing Master DataFrame ---\n",
      "✅ Successfully created master DataFrame with 220 total columns.\n",
      "['P_523.0_20240517', 'C_523.0_20240517', 'P_524.0_20240517', 'C_524.0_20240517', 'P_525.0_20240517', 'C_525.0_20240517', 'P_526.0_20240517', 'C_526.0_20240517', 'P_527.0_20240517', 'C_527.0_20240517', 'P_528.0_20240517', 'C_528.0_20240517', 'P_529.0_20240517', 'C_529.0_20240517', 'P_530.0_20240517', 'C_530.0_20240517', 'P_531.0_20240517', 'C_531.0_20240517', 'P_532.0_20240517', 'C_532.0_20240517', 'P_533.0_20240517', 'C_533.0_20240517']\n",
      "  -> Short ATM put ENTRY for P_529.0_20240517 at 10:28:00 and price 0.75\n",
      "  -> SPY is 529.04 and strike is 529.0\n",
      "  -> Target EXIT for P_529.0_20240517 at 1.02. Profit: $-2700.00\n",
      "  -> Short ATM put ENTRY for P_528.0_20240517 at 12:48:00 and price 0.39\n",
      "  -> SPY is 528.41 and strike is 528.0\n",
      "  -> Target EXIT for P_528.0_20240517 at 0.75. Profit: $-3600.00\n",
      "\n",
      "--- Processing Day: 2024-05-20 ---\n",
      "Fetching options across 529.69\n",
      "Total options found for today are: 22\n",
      "\n",
      "--- Phase 2: Preparing Master DataFrame ---\n",
      "✅ Successfully created master DataFrame with 220 total columns.\n",
      "['P_525.0_20240520', 'C_525.0_20240520', 'P_526.0_20240520', 'C_526.0_20240520', 'P_527.0_20240520', 'C_527.0_20240520', 'P_528.0_20240520', 'C_528.0_20240520', 'P_529.0_20240520', 'C_529.0_20240520', 'P_530.0_20240520', 'C_530.0_20240520', 'P_531.0_20240520', 'C_531.0_20240520', 'P_532.0_20240520', 'C_532.0_20240520', 'P_533.0_20240520', 'C_533.0_20240520', 'P_534.0_20240520', 'C_534.0_20240520', 'P_535.0_20240520', 'C_535.0_20240520']\n",
      "  -> Short ATM put ENTRY for P_531.0_20240520 at 09:57:00 and price 0.73\n",
      "  -> SPY is 531.16 and strike is 531.0\n",
      "  -> Short ATM put ENTRY for P_532.0_20240520 at 11:33:00 and price 0.87\n",
      "  -> SPY is 531.52 and strike is 532.0\n",
      "  -> Target EXIT for P_532.0_20240520 at 1.14. Profit: $-2700.00\n",
      "  -> Short ATM put ENTRY for P_530.0_20240520 at 13:38:00 and price 0.39\n",
      "  -> SPY is 530.33 and strike is 530.0\n",
      "  -> Target EXIT for P_531.0_20240520 at 1.01. Profit: $-2800.00\n",
      "  -> Target EXIT for P_530.0_20240520 at 0.87. Profit: $-4800.00\n",
      "  -> Short ATM put ENTRY for P_530.0_20240520 at 14:15:00 and price 0.59\n",
      "  -> SPY is 529.81 and strike is 530.0\n",
      "EOD CLosing of -1 side positon in P_530.0_20240520 at 2024-05-20 15:15:00\n",
      "  -> EOD EXIT for P_530.0_20240520 at 0.19. Profit: $4000.00\n",
      "\n",
      "--- Processing Day: 2024-05-21 ---\n",
      "Fetching options across 529.27\n",
      "Total options found for today are: 22\n",
      "\n",
      "--- Phase 2: Preparing Master DataFrame ---\n",
      "✅ Successfully created master DataFrame with 220 total columns.\n",
      "['P_524.0_20240521', 'C_524.0_20240521', 'P_525.0_20240521', 'C_525.0_20240521', 'P_526.0_20240521', 'C_526.0_20240521', 'P_527.0_20240521', 'C_527.0_20240521', 'P_528.0_20240521', 'C_528.0_20240521', 'P_529.0_20240521', 'C_529.0_20240521', 'P_530.0_20240521', 'C_530.0_20240521', 'P_531.0_20240521', 'C_531.0_20240521', 'P_532.0_20240521', 'C_532.0_20240521', 'P_533.0_20240521', 'C_533.0_20240521', 'P_534.0_20240521', 'C_534.0_20240521']\n",
      "  -> Short ATM put ENTRY for P_530.0_20240521 at 09:54:00 and price 0.94\n",
      "  -> SPY is 529.61 and strike is 530.0\n",
      "Stoploss of  -1 side entry was 0.94 in P_530.0_20240521 at 0.43\n",
      "  -> EOD EXIT for P_530.0_20240521 at 0.43. Profit: $5100.00\n",
      "  -> Short ATM put ENTRY for P_530.0_20240521 at 11:17:00 and price 0.41\n",
      "  -> SPY is 530.49 and strike is 530.0\n",
      "  -> Target EXIT for P_530.0_20240521 at 0.68. Profit: $-2700.00\n",
      "  -> Short ATM put ENTRY for P_530.0_20240521 at 13:18:00 and price 0.57\n",
      "  -> SPY is 529.87 and strike is 530.0\n",
      "Stoploss of  -1 side entry was 0.57 in P_530.0_20240521 at 0.0\n",
      "  -> EOD EXIT for P_530.0_20240521 at 0.00. Profit: $5700.00\n",
      "\n",
      "--- Processing Day: 2024-05-22 ---\n",
      "Fetching options across 531.06\n",
      "Total options found for today are: 22\n",
      "\n",
      "--- Phase 2: Preparing Master DataFrame ---\n",
      "✅ Successfully created master DataFrame with 220 total columns.\n",
      "['P_526.0_20240522', 'C_526.0_20240522', 'P_527.0_20240522', 'C_527.0_20240522', 'P_528.0_20240522', 'C_528.0_20240522', 'P_529.0_20240522', 'C_529.0_20240522', 'P_530.0_20240522', 'C_530.0_20240522', 'P_531.0_20240522', 'C_531.0_20240522', 'P_532.0_20240522', 'C_532.0_20240522', 'P_533.0_20240522', 'C_533.0_20240522', 'P_534.0_20240522', 'C_534.0_20240522', 'P_535.0_20240522', 'C_535.0_20240522', 'P_536.0_20240522', 'C_536.0_20240522']\n",
      "\n",
      "--- Processing Day: 2024-05-23 ---\n",
      "Fetching options across 532.85\n"
     ]
    },
    {
     "data": {
      "application/vnd.jupyter.widget-view+json": {
       "model_id": "32cc09d75c2d4b46aef7b4bda646db0b",
       "version_major": 2,
       "version_minor": 0
      },
      "text/plain": [
       "FloatProgress(value=0.0, layout=Layout(width='auto'), style=ProgressStyle(bar_color='black'))"
      ]
     },
     "metadata": {},
     "output_type": "display_data"
    },
    {
     "name": "stdout",
     "output_type": "stream",
     "text": [
      "Total options found for today are: 22\n",
      "\n",
      "--- Phase 2: Preparing Master DataFrame ---\n",
      "✅ Successfully created master DataFrame with 220 total columns.\n",
      "['P_528.0_20240523', 'C_528.0_20240523', 'P_529.0_20240523', 'C_529.0_20240523', 'P_530.0_20240523', 'C_530.0_20240523', 'P_531.0_20240523', 'C_531.0_20240523', 'P_532.0_20240523', 'C_532.0_20240523', 'P_533.0_20240523', 'C_533.0_20240523', 'P_534.0_20240523', 'C_534.0_20240523', 'P_535.0_20240523', 'C_535.0_20240523', 'P_536.0_20240523', 'C_536.0_20240523', 'P_537.0_20240523', 'C_537.0_20240523', 'P_538.0_20240523', 'C_538.0_20240523']\n",
      "  -> Short call ENTRY for C_531.0_20240523 at 09:42:00 and price 1.49\n",
      "  -> SPY is 531.41 and strike is 531.0\n",
      "Stoploss of  -1 side entry was 1.49 in C_531.0_20240523 at 0.95\n",
      "  -> EOD EXIT for C_531.0_20240523 at 0.95. Profit: $5400.00\n",
      "  -> Short ATM put ENTRY for P_530.0_20240523 at 11:14:00 and price 0.85\n",
      "  -> SPY is 530.31 and strike is 530.0\n",
      "Stoploss of  -1 side entry was 0.85 in P_530.0_20240523 at 0.32\n",
      "  -> EOD EXIT for P_530.0_20240523 at 0.32. Profit: $5300.00\n",
      "  -> Short ATM put ENTRY for P_529.0_20240523 at 13:33:00 and price 0.69\n",
      "  -> SPY is 529.16 and strike is 529.0\n",
      "  -> Target EXIT for P_529.0_20240523 at 0.96. Profit: $-2700.00\n",
      "\n",
      "--- Processing Day: 2024-05-24 ---\n",
      "Fetching options across 528.06\n",
      "Total options found for today are: 22\n",
      "\n",
      "--- Phase 2: Preparing Master DataFrame ---\n",
      "✅ Successfully created master DataFrame with 220 total columns.\n",
      "['P_523.0_20240524', 'C_523.0_20240524', 'P_524.0_20240524', 'C_524.0_20240524', 'P_525.0_20240524', 'C_525.0_20240524', 'P_526.0_20240524', 'C_526.0_20240524', 'P_527.0_20240524', 'C_527.0_20240524', 'P_528.0_20240524', 'C_528.0_20240524', 'P_529.0_20240524', 'C_529.0_20240524', 'P_530.0_20240524', 'C_530.0_20240524', 'P_531.0_20240524', 'C_531.0_20240524', 'P_532.0_20240524', 'C_532.0_20240524', 'P_533.0_20240524', 'C_533.0_20240524']\n",
      "  -> Short call ENTRY for C_527.0_20240524 at 09:53:00 and price 1.21\n",
      "  -> SPY is 527.16 and strike is 527.0\n",
      "  -> Short ATM put ENTRY for P_527.0_20240524 at 10:00:00 and price 0.99\n",
      "  -> SPY is 527.29 and strike is 527.0\n",
      "  -> Target EXIT for C_527.0_20240524 at 1.52. Profit: $-3100.00\n",
      "Stoploss of  -1 side entry was 0.99 in P_527.0_20240524 at 0.46\n",
      "  -> EOD EXIT for P_527.0_20240524 at 0.46. Profit: $5300.00\n",
      "\n",
      "--- Processing Day: 2024-05-28 ---\n",
      "Fetching options across 529.44\n",
      "Total options found for today are: 22\n",
      "\n",
      "--- Phase 2: Preparing Master DataFrame ---\n",
      "✅ Successfully created master DataFrame with 220 total columns.\n",
      "['P_524.0_20240528', 'C_524.0_20240528', 'P_525.0_20240528', 'C_525.0_20240528', 'P_526.0_20240528', 'C_526.0_20240528', 'P_527.0_20240528', 'C_527.0_20240528', 'P_528.0_20240528', 'C_528.0_20240528', 'P_529.0_20240528', 'C_529.0_20240528', 'P_530.0_20240528', 'C_530.0_20240528', 'P_531.0_20240528', 'C_531.0_20240528', 'P_532.0_20240528', 'C_532.0_20240528', 'P_533.0_20240528', 'C_533.0_20240528', 'P_534.0_20240528', 'C_534.0_20240528']\n",
      "\n",
      "--- Processing Day: 2024-05-29 ---\n",
      "Fetching options across 525.64\n",
      "Total options found for today are: 22\n",
      "\n",
      "--- Phase 2: Preparing Master DataFrame ---\n",
      "✅ Successfully created master DataFrame with 220 total columns.\n",
      "['P_521.0_20240529', 'C_521.0_20240529', 'P_522.0_20240529', 'C_522.0_20240529', 'P_523.0_20240529', 'C_523.0_20240529', 'P_524.0_20240529', 'C_524.0_20240529', 'P_525.0_20240529', 'C_525.0_20240529', 'P_526.0_20240529', 'C_526.0_20240529', 'P_527.0_20240529', 'C_527.0_20240529', 'P_528.0_20240529', 'C_528.0_20240529', 'P_529.0_20240529', 'C_529.0_20240529', 'P_530.0_20240529', 'C_530.0_20240529', 'P_531.0_20240529', 'C_531.0_20240529']\n",
      "  -> Short ATM put ENTRY for P_526.0_20240529 at 09:51:00 and price 0.98\n",
      "  -> SPY is 526.07 and strike is 526.0\n",
      "  -> Short ATM put ENTRY for P_527.0_20240529 at 10:21:00 and price 1.07\n",
      "  -> SPY is 526.66 and strike is 527.0\n",
      "  -> Target EXIT for P_527.0_20240529 at 1.40. Profit: $-3300.00\n",
      "  -> Short ATM put ENTRY for P_527.0_20240529 at 10:26:00 and price 0.94\n",
      "  -> SPY is 526.88 and strike is 527.0\n",
      "Stoploss of  -1 side entry was 0.98 in P_526.0_20240529 at 0.46\n",
      "  -> EOD EXIT for P_526.0_20240529 at 0.46. Profit: $5200.00\n",
      "  -> Target EXIT for P_527.0_20240529 at 1.28. Profit: $-3400.00\n",
      "  -> Short ATM put ENTRY for P_526.0_20240529 at 11:22:00 and price 0.72\n",
      "  -> SPY is 526.31 and strike is 526.0\n",
      "  -> Short ATM put ENTRY for P_527.0_20240529 at 11:27:00 and price 0.96\n",
      "  -> SPY is 526.69 and strike is 527.0\n",
      "  -> Target EXIT for P_527.0_20240529 at 1.23. Profit: $-2700.00\n",
      "  -> Short ATM put ENTRY for P_527.0_20240529 at 11:39:00 and price 0.98\n",
      "  -> SPY is 526.64 and strike is 527.0\n",
      "  -> Target EXIT for P_527.0_20240529 at 1.29. Profit: $-3100.00\n",
      "  -> Short ATM put ENTRY for P_527.0_20240529 at 12:22:00 and price 0.95\n",
      "  -> SPY is 526.63 and strike is 527.0\n",
      "EOD CLosing of -1 side positon in P_526.0_20240529 at 2024-05-29 15:15:00\n",
      "  -> EOD EXIT for P_526.0_20240529 at 0.23. Profit: $4900.00\n",
      "EOD CLosing of -1 side positon in P_527.0_20240529 at 2024-05-29 15:15:00\n",
      "  -> EOD EXIT for P_527.0_20240529 at 0.71. Profit: $2400.00\n",
      "\n",
      "--- Processing Day: 2024-05-30 ---\n",
      "Fetching options across 524.38\n",
      "Total options found for today are: 22\n",
      "\n",
      "--- Phase 2: Preparing Master DataFrame ---\n",
      "✅ Successfully created master DataFrame with 220 total columns.\n",
      "['P_519.0_20240530', 'C_519.0_20240530', 'P_520.0_20240530', 'C_520.0_20240530', 'P_521.0_20240530', 'C_521.0_20240530', 'P_522.0_20240530', 'C_522.0_20240530', 'P_523.0_20240530', 'C_523.0_20240530', 'P_524.0_20240530', 'C_524.0_20240530', 'P_525.0_20240530', 'C_525.0_20240530', 'P_526.0_20240530', 'C_526.0_20240530', 'P_527.0_20240530', 'C_527.0_20240530', 'P_528.0_20240530', 'C_528.0_20240530', 'P_529.0_20240530', 'C_529.0_20240530']\n",
      "  -> Short call ENTRY for C_524.0_20240530 at 09:50:00 and price 1.16\n",
      "  -> SPY is 524.27 and strike is 524.0\n",
      "  -> Short ATM put ENTRY for P_525.0_20240530 at 10:06:00 and price 1.08\n",
      "  -> SPY is 524.74 and strike is 525.0\n",
      "  -> Target EXIT for P_525.0_20240530 at 1.43. Profit: $-3500.00\n",
      "Stoploss of  -1 side entry was 1.16 in C_524.0_20240530 at 0.65\n",
      "  -> EOD EXIT for C_524.0_20240530 at 0.65. Profit: $5100.00\n",
      "  -> Short ATM put ENTRY for P_524.0_20240530 at 11:31:00 and price 0.75\n",
      "  -> SPY is 524.09 and strike is 524.0\n",
      "  -> Short ATM put ENTRY for P_525.0_20240530 at 12:48:00 and price 0.92\n",
      "  -> SPY is 524.58 and strike is 525.0\n",
      "Stoploss of  -1 side entry was 0.75 in P_524.0_20240530 at 0.23\n",
      "  -> EOD EXIT for P_524.0_20240530 at 0.23. Profit: $5200.00\n",
      "  -> Target EXIT for P_525.0_20240530 at 1.46. Profit: $-5400.00\n",
      "\n",
      "--- Processing Day: 2024-06-03 ---\n",
      "Fetching options across 528.31\n",
      "Total options found for today are: 22\n",
      "\n",
      "--- Phase 2: Preparing Master DataFrame ---\n",
      "✅ Successfully created master DataFrame with 220 total columns.\n",
      "['P_523.0_20240603', 'C_523.0_20240603', 'P_524.0_20240603', 'C_524.0_20240603', 'P_525.0_20240603', 'C_525.0_20240603', 'P_526.0_20240603', 'C_526.0_20240603', 'P_527.0_20240603', 'C_527.0_20240603', 'P_528.0_20240603', 'C_528.0_20240603', 'P_529.0_20240603', 'C_529.0_20240603', 'P_530.0_20240603', 'C_530.0_20240603', 'P_531.0_20240603', 'C_531.0_20240603', 'P_532.0_20240603', 'C_532.0_20240603', 'P_533.0_20240603', 'C_533.0_20240603']\n",
      "  -> Short call ENTRY for C_527.0_20240603 at 09:57:00 and price 1.32\n",
      "  -> SPY is 527.44 and strike is 527.0\n",
      "  -> Target EXIT for C_527.0_20240603 at 1.59. Profit: $-2700.00\n",
      "  -> Short ATM put ENTRY for P_528.0_20240603 at 10:15:00 and price 0.87\n",
      "  -> SPY is 528.16 and strike is 528.0\n",
      "  -> Target EXIT for P_528.0_20240603 at 1.29. Profit: $-4200.00\n",
      "  -> Short call ENTRY for C_527.0_20240603 at 10:38:00 and price 1.2\n",
      "  -> SPY is 527.46 and strike is 527.0\n",
      "  -> Short ATM put ENTRY for P_528.0_20240603 at 10:43:00 and price 1.14\n",
      "  -> SPY is 527.6 and strike is 528.0\n",
      "  -> Target EXIT for P_528.0_20240603 at 1.45. Profit: $-3100.00\n",
      "Stoploss of  -1 side entry was 1.2 in C_527.0_20240603 at 0.66\n",
      "  -> EOD EXIT for C_527.0_20240603 at 0.66. Profit: $5400.00\n",
      "  -> Short ATM put ENTRY for P_526.0_20240603 at 11:56:00 and price 0.95\n",
      "  -> SPY is 526.02 and strike is 526.0\n",
      "  -> Target EXIT for P_526.0_20240603 at 1.25. Profit: $-3000.00\n",
      "  -> Short ATM put ENTRY for P_524.0_20240603 at 13:24:00 and price 1.03\n",
      "  -> SPY is 524.05 and strike is 524.0\n",
      "Stoploss of  -1 side entry was 1.03 in P_524.0_20240603 at 0.46\n",
      "  -> EOD EXIT for P_524.0_20240603 at 0.46. Profit: $5700.00\n",
      "\n",
      "--- Processing Day: 2024-06-04 ---\n",
      "Fetching options across 527.33\n",
      "Total options found for today are: 22\n",
      "\n",
      "--- Phase 2: Preparing Master DataFrame ---\n",
      "✅ Successfully created master DataFrame with 220 total columns.\n",
      "['P_522.0_20240604', 'C_522.0_20240604', 'P_523.0_20240604', 'C_523.0_20240604', 'P_524.0_20240604', 'C_524.0_20240604', 'P_525.0_20240604', 'C_525.0_20240604', 'P_526.0_20240604', 'C_526.0_20240604', 'P_527.0_20240604', 'C_527.0_20240604', 'P_528.0_20240604', 'C_528.0_20240604', 'P_529.0_20240604', 'C_529.0_20240604', 'P_530.0_20240604', 'C_530.0_20240604', 'P_531.0_20240604', 'C_531.0_20240604', 'P_532.0_20240604', 'C_532.0_20240604']\n",
      "  -> Short ATM put ENTRY for P_527.0_20240604 at 10:33:00 and price 0.95\n",
      "  -> SPY is 527.3 and strike is 527.0\n",
      "  -> Target EXIT for P_527.0_20240604 at 1.28. Profit: $-3300.00\n",
      "  -> Short ATM put ENTRY for P_526.0_20240604 at 11:12:00 and price 1.07\n",
      "  -> SPY is 526.06 and strike is 526.0\n",
      "  -> Target EXIT for P_526.0_20240604 at 1.35. Profit: $-2800.00\n",
      "  -> Short ATM put ENTRY for P_525.0_20240604 at 12:17:00 and price 0.83\n",
      "  -> SPY is 525.3 and strike is 525.0\n",
      "  -> Short ATM put ENTRY for P_526.0_20240604 at 12:30:00 and price 1.0\n",
      "  -> SPY is 525.84 and strike is 526.0\n",
      "Stoploss of  -1 side entry was 0.83 in P_525.0_20240604 at 0.3\n",
      "  -> EOD EXIT for P_525.0_20240604 at 0.30. Profit: $5300.00\n",
      "Stoploss of  -1 side entry was 1.0 in P_526.0_20240604 at 0.49\n",
      "  -> EOD EXIT for P_526.0_20240604 at 0.49. Profit: $5100.00\n",
      "  -> Short ATM put ENTRY for P_527.0_20240604 at 14:15:00 and price 0.55\n",
      "  -> SPY is 527.31 and strike is 527.0\n",
      "  -> Target EXIT for P_527.0_20240604 at 0.81. Profit: $-2600.00\n",
      "\n",
      "--- Processing Day: 2024-06-05 ---\n",
      "Fetching options across 531.46\n",
      "Total options found for today are: 22\n",
      "\n",
      "--- Phase 2: Preparing Master DataFrame ---\n",
      "✅ Successfully created master DataFrame with 220 total columns.\n",
      "['P_526.0_20240605', 'C_526.0_20240605', 'P_527.0_20240605', 'C_527.0_20240605', 'P_528.0_20240605', 'C_528.0_20240605', 'P_529.0_20240605', 'C_529.0_20240605', 'P_530.0_20240605', 'C_530.0_20240605', 'P_531.0_20240605', 'C_531.0_20240605', 'P_532.0_20240605', 'C_532.0_20240605', 'P_533.0_20240605', 'C_533.0_20240605', 'P_534.0_20240605', 'C_534.0_20240605', 'P_535.0_20240605', 'C_535.0_20240605', 'P_536.0_20240605', 'C_536.0_20240605']\n",
      "\n",
      "--- Processing Day: 2024-06-06 ---\n",
      "Fetching options across 535.01\n",
      "Total options found for today are: 22\n",
      "\n",
      "--- Phase 2: Preparing Master DataFrame ---\n",
      "✅ Successfully created master DataFrame with 220 total columns.\n",
      "['P_530.0_20240606', 'C_530.0_20240606', 'P_531.0_20240606', 'C_531.0_20240606', 'P_532.0_20240606', 'C_532.0_20240606', 'P_533.0_20240606', 'C_533.0_20240606', 'P_534.0_20240606', 'C_534.0_20240606', 'P_535.0_20240606', 'C_535.0_20240606', 'P_536.0_20240606', 'C_536.0_20240606', 'P_537.0_20240606', 'C_537.0_20240606', 'P_538.0_20240606', 'C_538.0_20240606', 'P_539.0_20240606', 'C_539.0_20240606', 'P_540.0_20240606', 'C_540.0_20240606']\n",
      "  -> Short ATM put ENTRY for P_535.0_20240606 at 09:41:00 and price 0.96\n",
      "  -> SPY is 535.17 and strike is 535.0\n",
      "  -> Short call ENTRY for C_534.0_20240606 at 10:00:00 and price 1.29\n",
      "  -> SPY is 534.43 and strike is 534.0\n",
      "  -> Target EXIT for P_535.0_20240606 at 1.33. Profit: $-3700.00\n",
      "  -> Short ATM put ENTRY for P_535.0_20240606 at 10:07:00 and price 1.11\n",
      "  -> SPY is 534.76 and strike is 535.0\n",
      "  -> Target EXIT for C_534.0_20240606 at 1.55. Profit: $-2600.00\n",
      "  -> Short call ENTRY for C_534.0_20240606 at 10:52:00 and price 1.16\n",
      "  -> SPY is 534.49 and strike is 534.0\n",
      "  -> Short ATM put ENTRY for P_534.0_20240606 at 11:30:00 and price 0.63\n",
      "  -> SPY is 534.47 and strike is 534.0\n",
      "  -> Target EXIT for P_535.0_20240606 at 1.38. Profit: $-2700.00\n",
      "  -> Target EXIT for P_534.0_20240606 at 0.90. Profit: $-2700.00\n",
      "Stoploss of  -1 side entry was 1.16 in C_534.0_20240606 at 0.65\n",
      "  -> EOD EXIT for C_534.0_20240606 at 0.65. Profit: $5100.00\n",
      "  -> Short ATM put ENTRY for P_534.0_20240606 at 13:03:00 and price 0.89\n",
      "  -> SPY is 533.75 and strike is 534.0\n",
      "  -> Target EXIT for P_534.0_20240606 at 1.29. Profit: $-4000.00\n",
      "\n",
      "--- Processing Day: 2024-06-07 ---\n",
      "Fetching options across 533.44\n",
      "Total options found for today are: 22\n",
      "\n",
      "--- Phase 2: Preparing Master DataFrame ---\n",
      "✅ Successfully created master DataFrame with 220 total columns.\n",
      "['P_528.0_20240607', 'C_528.0_20240607', 'P_529.0_20240607', 'C_529.0_20240607', 'P_530.0_20240607', 'C_530.0_20240607', 'P_531.0_20240607', 'C_531.0_20240607', 'P_532.0_20240607', 'C_532.0_20240607', 'P_533.0_20240607', 'C_533.0_20240607', 'P_534.0_20240607', 'C_534.0_20240607', 'P_535.0_20240607', 'C_535.0_20240607', 'P_536.0_20240607', 'C_536.0_20240607', 'P_537.0_20240607', 'C_537.0_20240607', 'P_538.0_20240607', 'C_538.0_20240607']\n",
      "  -> Short ATM put ENTRY for P_534.0_20240607 at 10:05:00 and price 1.11\n",
      "  -> SPY is 534.14 and strike is 534.0\n",
      "Stoploss of  -1 side entry was 1.11 in P_534.0_20240607 at 0.59\n",
      "  -> EOD EXIT for P_534.0_20240607 at 0.59. Profit: $5200.00\n",
      "  -> Short ATM put ENTRY for P_534.0_20240607 at 11:23:00 and price 0.82\n",
      "  -> SPY is 534.46 and strike is 534.0\n",
      "Stoploss of  -1 side entry was 0.82 in P_534.0_20240607 at 0.31\n",
      "  -> EOD EXIT for P_534.0_20240607 at 0.31. Profit: $5100.00\n",
      "\n",
      "--- Processing Day: 2024-06-10 ---\n",
      "Fetching options across 532.94\n",
      "Total options found for today are: 22\n",
      "\n",
      "--- Phase 2: Preparing Master DataFrame ---\n",
      "✅ Successfully created master DataFrame with 220 total columns.\n",
      "['P_528.0_20240610', 'C_528.0_20240610', 'P_529.0_20240610', 'C_529.0_20240610', 'P_530.0_20240610', 'C_530.0_20240610', 'P_531.0_20240610', 'C_531.0_20240610', 'P_532.0_20240610', 'C_532.0_20240610', 'P_533.0_20240610', 'C_533.0_20240610', 'P_534.0_20240610', 'C_534.0_20240610', 'P_535.0_20240610', 'C_535.0_20240610', 'P_536.0_20240610', 'C_536.0_20240610', 'P_537.0_20240610', 'C_537.0_20240610', 'P_538.0_20240610', 'C_538.0_20240610']\n",
      "  -> Short ATM put ENTRY for P_533.0_20240610 at 09:58:00 and price 0.89\n",
      "  -> SPY is 533.14 and strike is 533.0\n",
      "  -> Short ATM put ENTRY for P_534.0_20240610 at 10:30:00 and price 1.04\n",
      "  -> SPY is 533.59 and strike is 534.0\n",
      "Stoploss of  -1 side entry was 0.89 in P_533.0_20240610 at 0.38\n",
      "  -> EOD EXIT for P_533.0_20240610 at 0.38. Profit: $5100.00\n",
      "Stoploss of  -1 side entry was 1.04 in P_534.0_20240610 at 0.53\n",
      "  -> EOD EXIT for P_534.0_20240610 at 0.53. Profit: $5100.00\n",
      "\n",
      "--- Processing Day: 2024-06-11 ---\n",
      "Fetching options across 533.74\n",
      "Total options found for today are: 22\n",
      "\n",
      "--- Phase 2: Preparing Master DataFrame ---\n",
      "✅ Successfully created master DataFrame with 220 total columns.\n",
      "['P_529.0_20240611', 'C_529.0_20240611', 'P_530.0_20240611', 'C_530.0_20240611', 'P_531.0_20240611', 'C_531.0_20240611', 'P_532.0_20240611', 'C_532.0_20240611', 'P_533.0_20240611', 'C_533.0_20240611', 'P_534.0_20240611', 'C_534.0_20240611', 'P_535.0_20240611', 'C_535.0_20240611', 'P_536.0_20240611', 'C_536.0_20240611', 'P_537.0_20240611', 'C_537.0_20240611', 'P_538.0_20240611', 'C_538.0_20240611', 'P_539.0_20240611', 'C_539.0_20240611']\n",
      "  -> Short ATM put ENTRY for P_533.0_20240611 at 10:06:00 and price 1.06\n",
      "  -> SPY is 533.05 and strike is 533.0\n",
      "Stoploss of  -1 side entry was 1.06 in P_533.0_20240611 at 0.54\n",
      "  -> EOD EXIT for P_533.0_20240611 at 0.54. Profit: $5200.00\n",
      "  -> Short ATM put ENTRY for P_534.0_20240611 at 10:40:00 and price 0.94\n",
      "  -> SPY is 533.91 and strike is 534.0\n",
      "Stoploss of  -1 side entry was 0.94 in P_534.0_20240611 at 0.43\n",
      "  -> EOD EXIT for P_534.0_20240611 at 0.43. Profit: $5100.00\n",
      "\n",
      "--- Processing Day: 2024-06-13 ---\n",
      "Fetching options across 542.9\n",
      "Total options found for today are: 22\n",
      "\n",
      "--- Phase 2: Preparing Master DataFrame ---\n",
      "✅ Successfully created master DataFrame with 220 total columns.\n",
      "['P_538.0_20240613', 'C_538.0_20240613', 'P_539.0_20240613', 'C_539.0_20240613', 'P_540.0_20240613', 'C_540.0_20240613', 'P_541.0_20240613', 'C_541.0_20240613', 'P_542.0_20240613', 'C_542.0_20240613', 'P_543.0_20240613', 'C_543.0_20240613', 'P_544.0_20240613', 'C_544.0_20240613', 'P_545.0_20240613', 'C_545.0_20240613', 'P_546.0_20240613', 'C_546.0_20240613', 'P_547.0_20240613', 'C_547.0_20240613', 'P_548.0_20240613', 'C_548.0_20240613']\n",
      "  -> Short ATM put ENTRY for P_542.0_20240613 at 10:10:00 and price 0.97\n",
      "  -> SPY is 542.22 and strike is 542.0\n",
      "  -> Target EXIT for P_542.0_20240613 at 1.24. Profit: $-2700.00\n",
      "  -> Short ATM put ENTRY for P_541.0_20240613 at 10:31:00 and price 0.96\n",
      "  -> SPY is 541.27 and strike is 541.0\n",
      "  -> Target EXIT for P_541.0_20240613 at 1.33. Profit: $-3700.00\n",
      "  -> Short ATM put ENTRY for P_541.0_20240613 at 10:39:00 and price 0.96\n",
      "  -> SPY is 541.22 and strike is 541.0\n",
      "  -> Target EXIT for P_541.0_20240613 at 1.31. Profit: $-3500.00\n",
      "  -> Short ATM put ENTRY for P_541.0_20240613 at 10:54:00 and price 1.01\n",
      "  -> SPY is 541.06 and strike is 541.0\n",
      "  -> Target EXIT for P_541.0_20240613 at 1.28. Profit: $-2700.00\n",
      "  -> Short ATM put ENTRY for P_541.0_20240613 at 11:12:00 and price 1.02\n",
      "  -> SPY is 541.01 and strike is 541.0\n",
      "  -> Target EXIT for P_541.0_20240613 at 1.31. Profit: $-2900.00\n",
      "  -> Short ATM put ENTRY for P_541.0_20240613 at 11:26:00 and price 1.07\n",
      "  -> SPY is 540.89 and strike is 541.0\n",
      "  -> Target EXIT for P_541.0_20240613 at 1.33. Profit: $-2600.00\n",
      "  -> Short ATM put ENTRY for P_540.0_20240613 at 12:32:00 and price 0.92\n",
      "  -> SPY is 540.02 and strike is 540.0\n",
      "  -> Short ATM put ENTRY for P_541.0_20240613 at 12:45:00 and price 1.08\n",
      "  -> SPY is 540.68 and strike is 541.0\n",
      "  -> Target EXIT for P_541.0_20240613 at 1.34. Profit: $-2600.00\n",
      "  -> Short ATM put ENTRY for P_541.0_20240613 at 13:01:00 and price 0.95\n",
      "  -> SPY is 540.94 and strike is 541.0\n",
      "Stoploss of  -1 side entry was 0.92 in P_540.0_20240613 at 0.42\n",
      "  -> EOD EXIT for P_540.0_20240613 at 0.42. Profit: $5000.00\n",
      "Stoploss of  -1 side entry was 0.95 in P_541.0_20240613 at 0.41\n",
      "  -> EOD EXIT for P_541.0_20240613 at 0.41. Profit: $5400.00\n",
      "\n",
      "--- Processing Day: 2024-06-14 ---\n",
      "Fetching options across 540.75\n",
      "Total options found for today are: 22\n",
      "\n",
      "--- Phase 2: Preparing Master DataFrame ---\n",
      "✅ Successfully created master DataFrame with 220 total columns.\n",
      "['P_536.0_20240614', 'C_536.0_20240614', 'P_537.0_20240614', 'C_537.0_20240614', 'P_538.0_20240614', 'C_538.0_20240614', 'P_539.0_20240614', 'C_539.0_20240614', 'P_540.0_20240614', 'C_540.0_20240614', 'P_541.0_20240614', 'C_541.0_20240614', 'P_542.0_20240614', 'C_542.0_20240614', 'P_543.0_20240614', 'C_543.0_20240614', 'P_544.0_20240614', 'C_544.0_20240614', 'P_545.0_20240614', 'C_545.0_20240614', 'P_546.0_20240614', 'C_546.0_20240614']\n",
      "  -> Short ATM put ENTRY for P_541.0_20240614 at 10:20:00 and price 1.14\n",
      "  -> SPY is 540.85 and strike is 541.0\n",
      "  -> Target EXIT for P_541.0_20240614 at 1.44. Profit: $-3000.00\n",
      "  -> Short ATM put ENTRY for P_540.0_20240614 at 10:47:00 and price 0.87\n",
      "  -> SPY is 540.45 and strike is 540.0\n",
      "  -> Short ATM put ENTRY for P_541.0_20240614 at 10:55:00 and price 0.86\n",
      "  -> SPY is 541.17 and strike is 541.0\n",
      "Stoploss of  -1 side entry was 0.87 in P_540.0_20240614 at 0.36\n",
      "  -> EOD EXIT for P_540.0_20240614 at 0.36. Profit: $5100.00\n",
      "  -> Short ATM put ENTRY for P_542.0_20240614 at 11:32:00 and price 0.97\n",
      "  -> SPY is 541.7 and strike is 542.0\n",
      "  -> Target EXIT for P_542.0_20240614 at 1.34. Profit: $-3700.00\n",
      "  -> Target EXIT for P_541.0_20240614 at 1.11. Profit: $-2500.00\n",
      "  -> Short ATM put ENTRY for P_542.0_20240614 at 12:14:00 and price 0.91\n",
      "  -> SPY is 541.69 and strike is 542.0\n",
      "  -> Target EXIT for P_542.0_20240614 at 1.18. Profit: $-2700.00\n",
      "  -> Short ATM put ENTRY for P_542.0_20240614 at 13:04:00 and price 0.74\n",
      "  -> SPY is 541.89 and strike is 542.0\n",
      "  -> Target EXIT for P_542.0_20240614 at 1.00. Profit: $-2600.00\n",
      "\n",
      "--- Processing Day: 2024-06-17 ---\n",
      "Fetching options across 542.26\n",
      "Total options found for today are: 22\n",
      "\n",
      "--- Phase 2: Preparing Master DataFrame ---\n",
      "✅ Successfully created master DataFrame with 220 total columns.\n",
      "['P_537.0_20240617', 'C_537.0_20240617', 'P_538.0_20240617', 'C_538.0_20240617', 'P_539.0_20240617', 'C_539.0_20240617', 'P_540.0_20240617', 'C_540.0_20240617', 'P_541.0_20240617', 'C_541.0_20240617', 'P_542.0_20240617', 'C_542.0_20240617', 'P_543.0_20240617', 'C_543.0_20240617', 'P_544.0_20240617', 'C_544.0_20240617', 'P_545.0_20240617', 'C_545.0_20240617', 'P_546.0_20240617', 'C_546.0_20240617', 'P_547.0_20240617', 'C_547.0_20240617']\n",
      "  -> Short ATM put ENTRY for P_542.0_20240617 at 10:13:00 and price 0.68\n",
      "  -> SPY is 542.48 and strike is 542.0\n",
      "  -> Short ATM put ENTRY for P_543.0_20240617 at 10:33:00 and price 1.01\n",
      "  -> SPY is 542.61 and strike is 543.0\n",
      "Stoploss of  -1 side entry was 1.01 in P_543.0_20240617 at 0.49\n",
      "  -> EOD EXIT for P_543.0_20240617 at 0.49. Profit: $5200.00\n",
      "Stoploss of  -1 side entry was 0.68 in P_542.0_20240617 at 0.18\n",
      "  -> EOD EXIT for P_542.0_20240617 at 0.18. Profit: $5000.00\n",
      "\n",
      "--- Processing Day: 2024-06-18 ---\n",
      "Fetching options across 547.25\n",
      "Total options found for today are: 22\n",
      "\n",
      "--- Phase 2: Preparing Master DataFrame ---\n",
      "✅ Successfully created master DataFrame with 220 total columns.\n",
      "['P_542.0_20240618', 'C_542.0_20240618', 'P_543.0_20240618', 'C_543.0_20240618', 'P_544.0_20240618', 'C_544.0_20240618', 'P_545.0_20240618', 'C_545.0_20240618', 'P_546.0_20240618', 'C_546.0_20240618', 'P_547.0_20240618', 'C_547.0_20240618', 'P_548.0_20240618', 'C_548.0_20240618', 'P_549.0_20240618', 'C_549.0_20240618', 'P_550.0_20240618', 'C_550.0_20240618', 'P_551.0_20240618', 'C_551.0_20240618', 'P_552.0_20240618', 'C_552.0_20240618']\n",
      "  -> Short ATM put ENTRY for P_548.0_20240618 at 09:43:00 and price 0.99\n",
      "  -> SPY is 548.21 and strike is 548.0\n",
      "  -> Target EXIT for P_548.0_20240618 at 1.26. Profit: $-2700.00\n",
      "  -> Short ATM put ENTRY for P_548.0_20240618 at 09:57:00 and price 1.09\n",
      "  -> SPY is 547.97 and strike is 548.0\n",
      "  -> Target EXIT for P_548.0_20240618 at 1.40. Profit: $-3100.00\n",
      "  -> Short ATM put ENTRY for P_548.0_20240618 at 10:34:00 and price 1.01\n",
      "  -> SPY is 547.92 and strike is 548.0\n",
      "  -> Target EXIT for P_548.0_20240618 at 1.30. Profit: $-2900.00\n",
      "  -> Short ATM put ENTRY for P_547.0_20240618 at 11:36:00 and price 0.8\n",
      "  -> SPY is 547.11 and strike is 547.0\n",
      "  -> Short ATM put ENTRY for P_548.0_20240618 at 11:46:00 and price 0.99\n",
      "  -> SPY is 547.62 and strike is 548.0\n",
      "Stoploss of  -1 side entry was 0.8 in P_547.0_20240618 at 0.3\n",
      "  -> EOD EXIT for P_547.0_20240618 at 0.30. Profit: $5000.00\n",
      "Stoploss of  -1 side entry was 0.99 in P_548.0_20240618 at 0.48\n",
      "  -> EOD EXIT for P_548.0_20240618 at 0.48. Profit: $5100.00\n",
      "  -> Short ATM put ENTRY for P_548.0_20240618 at 13:47:00 and price 0.44\n",
      "  -> SPY is 548.33 and strike is 548.0\n",
      "  -> Short ATM put ENTRY for P_549.0_20240618 at 13:51:00 and price 0.82\n",
      "  -> SPY is 548.56 and strike is 549.0\n",
      "  -> Target EXIT for P_549.0_20240618 at 1.18. Profit: $-3600.00\n",
      "  -> Target EXIT for P_548.0_20240618 at 1.15. Profit: $-7100.00\n",
      "\n",
      "--- Processing Day: 2024-06-20 ---\n",
      "Fetching options across 549.46\n",
      "Total options found for today are: 22\n",
      "\n",
      "--- Phase 2: Preparing Master DataFrame ---\n",
      "✅ Successfully created master DataFrame with 220 total columns.\n",
      "['P_544.0_20240620', 'C_544.0_20240620', 'P_545.0_20240620', 'C_545.0_20240620', 'P_546.0_20240620', 'C_546.0_20240620', 'P_547.0_20240620', 'C_547.0_20240620', 'P_548.0_20240620', 'C_548.0_20240620', 'P_549.0_20240620', 'C_549.0_20240620', 'P_550.0_20240620', 'C_550.0_20240620', 'P_551.0_20240620', 'C_551.0_20240620', 'P_552.0_20240620', 'C_552.0_20240620', 'P_553.0_20240620', 'C_553.0_20240620', 'P_554.0_20240620', 'C_554.0_20240620']\n",
      "  -> Short ATM put ENTRY for P_549.0_20240620 at 09:41:00 and price 0.96\n",
      "  -> SPY is 549.26 and strike is 549.0\n",
      "  -> Short ATM put ENTRY for P_550.0_20240620 at 09:45:00 and price 1.09\n",
      "  -> SPY is 549.9 and strike is 550.0\n",
      "  -> Target EXIT for P_550.0_20240620 at 1.35. Profit: $-2600.00\n",
      "  -> Target EXIT for P_549.0_20240620 at 1.24. Profit: $-2800.00\n",
      "  -> Short ATM put ENTRY for P_549.0_20240620 at 10:23:00 and price 1.05\n",
      "  -> SPY is 548.85 and strike is 549.0\n",
      "  -> Target EXIT for P_549.0_20240620 at 1.43. Profit: $-3800.00\n",
      "  -> Short ATM put ENTRY for P_547.0_20240620 at 12:44:00 and price 1.04\n",
      "  -> SPY is 546.95 and strike is 547.0\n",
      "  -> Target EXIT for P_547.0_20240620 at 1.47. Profit: $-4300.00\n",
      "  -> Short ATM put ENTRY for P_547.0_20240620 at 13:14:00 and price 1.02\n",
      "  -> SPY is 546.77 and strike is 547.0\n",
      "  -> Target EXIT for P_547.0_20240620 at 1.43. Profit: $-4100.00\n",
      "  -> Short ATM put ENTRY for P_546.0_20240620 at 13:31:00 and price 0.71\n",
      "  -> SPY is 546.39 and strike is 546.0\n",
      "  -> Target EXIT for P_546.0_20240620 at 1.09. Profit: $-3800.00\n",
      "  -> Short ATM put ENTRY for P_546.0_20240620 at 13:42:00 and price 0.9\n",
      "  -> SPY is 545.89 and strike is 546.0\n",
      "  -> Short ATM put ENTRY for P_547.0_20240620 at 13:51:00 and price 1.05\n",
      "  -> SPY is 546.52 and strike is 547.0\n",
      "Stoploss of  -1 side entry was 0.9 in P_546.0_20240620 at 0.38\n",
      "  -> EOD EXIT for P_546.0_20240620 at 0.38. Profit: $5200.00\n",
      "Stoploss of  -1 side entry was 1.05 in P_547.0_20240620 at 0.48\n",
      "  -> EOD EXIT for P_547.0_20240620 at 0.48. Profit: $5700.00\n",
      "\n",
      "--- Processing Day: 2024-06-21 ---\n",
      "Fetching options across 544.52\n",
      "Total options found for today are: 22\n",
      "\n",
      "--- Phase 2: Preparing Master DataFrame ---\n",
      "✅ Successfully created master DataFrame with 220 total columns.\n",
      "['P_540.0_20240621', 'C_540.0_20240621', 'P_541.0_20240621', 'C_541.0_20240621', 'P_542.0_20240621', 'C_542.0_20240621', 'P_543.0_20240621', 'C_543.0_20240621', 'P_544.0_20240621', 'C_544.0_20240621', 'P_545.0_20240621', 'C_545.0_20240621', 'P_546.0_20240621', 'C_546.0_20240621', 'P_547.0_20240621', 'C_547.0_20240621', 'P_548.0_20240621', 'C_548.0_20240621', 'P_549.0_20240621', 'C_549.0_20240621', 'P_550.0_20240621', 'C_550.0_20240621']\n",
      "  -> Short ATM put ENTRY for P_544.0_20240621 at 10:01:00 and price 1.09\n",
      "  -> SPY is 544.25 and strike is 544.0\n",
      "  -> Short ATM put ENTRY for P_545.0_20240621 at 11:00:00 and price 1.05\n",
      "  -> SPY is 544.78 and strike is 545.0\n",
      "Stoploss of  -1 side entry was 1.09 in P_544.0_20240621 at 0.54\n",
      "  -> EOD EXIT for P_544.0_20240621 at 0.54. Profit: $5500.00\n",
      "  -> Target EXIT for P_545.0_20240621 at 1.34. Profit: $-2900.00\n",
      "  -> Short ATM put ENTRY for P_544.0_20240621 at 11:36:00 and price 0.75\n",
      "  -> SPY is 544.42 and strike is 544.0\n",
      "  -> Short ATM put ENTRY for P_545.0_20240621 at 11:39:00 and price 1.09\n",
      "  -> SPY is 544.65 and strike is 545.0\n",
      "Stoploss of  -1 side entry was 1.09 in P_545.0_20240621 at 0.58\n",
      "  -> EOD EXIT for P_545.0_20240621 at 0.58. Profit: $5100.00\n",
      "  -> Short ATM put ENTRY for P_545.0_20240621 at 12:38:00 and price 0.72\n",
      "  -> SPY is 545.13 and strike is 545.0\n",
      "  -> Target EXIT for P_545.0_20240621 at 0.99. Profit: $-2700.00\n",
      "Stoploss of  -1 side entry was 0.75 in P_544.0_20240621 at 0.24\n",
      "  -> EOD EXIT for P_544.0_20240621 at 0.24. Profit: $5100.00\n",
      "\n",
      "--- Processing Day: 2024-06-24 ---\n",
      "Fetching options across 544.4\n",
      "Total options found for today are: 22\n",
      "\n",
      "--- Phase 2: Preparing Master DataFrame ---\n",
      "✅ Successfully created master DataFrame with 220 total columns.\n",
      "['P_539.0_20240624', 'C_539.0_20240624', 'P_540.0_20240624', 'C_540.0_20240624', 'P_541.0_20240624', 'C_541.0_20240624', 'P_542.0_20240624', 'C_542.0_20240624', 'P_543.0_20240624', 'C_543.0_20240624', 'P_544.0_20240624', 'C_544.0_20240624', 'P_545.0_20240624', 'C_545.0_20240624', 'P_546.0_20240624', 'C_546.0_20240624', 'P_547.0_20240624', 'C_547.0_20240624', 'P_548.0_20240624', 'C_548.0_20240624', 'P_549.0_20240624', 'C_549.0_20240624']\n",
      "  -> Short ATM put ENTRY for P_545.0_20240624 at 09:54:00 and price 0.92\n",
      "  -> SPY is 545.04 and strike is 545.0\n",
      "  -> Short ATM put ENTRY for P_546.0_20240624 at 10:02:00 and price 0.89\n",
      "  -> SPY is 546.22 and strike is 546.0\n",
      "Stoploss of  -1 side entry was 0.92 in P_545.0_20240624 at 0.38\n",
      "  -> EOD EXIT for P_545.0_20240624 at 0.38. Profit: $5400.00\n",
      "  -> Target EXIT for P_546.0_20240624 at 1.26. Profit: $-3700.00\n",
      "  -> Short ATM put ENTRY for P_546.0_20240624 at 10:35:00 and price 0.99\n",
      "  -> SPY is 545.86 and strike is 546.0\n",
      "  -> Target EXIT for P_546.0_20240624 at 1.25. Profit: $-2600.00\n",
      "  -> Short ATM put ENTRY for P_546.0_20240624 at 10:59:00 and price 0.94\n",
      "  -> SPY is 545.82 and strike is 546.0\n",
      "  -> Target EXIT for P_546.0_20240624 at 1.42. Profit: $-4800.00\n",
      "  -> Short ATM put ENTRY for P_544.0_20240624 at 13:57:00 and price 0.47\n",
      "  -> SPY is 544.36 and strike is 544.0\n",
      "  -> Target EXIT for P_544.0_20240624 at 0.79. Profit: $-3200.00\n",
      "\n",
      "--- Processing Day: 2024-06-25 ---\n",
      "Fetching options across 543.41\n",
      "Total options found for today are: 22\n",
      "\n",
      "--- Phase 2: Preparing Master DataFrame ---\n",
      "✅ Successfully created master DataFrame with 220 total columns.\n",
      "['P_538.0_20240625', 'C_538.0_20240625', 'P_539.0_20240625', 'C_539.0_20240625', 'P_540.0_20240625', 'C_540.0_20240625', 'P_541.0_20240625', 'C_541.0_20240625', 'P_542.0_20240625', 'C_542.0_20240625', 'P_543.0_20240625', 'C_543.0_20240625', 'P_544.0_20240625', 'C_544.0_20240625', 'P_545.0_20240625', 'C_545.0_20240625', 'P_546.0_20240625', 'C_546.0_20240625', 'P_547.0_20240625', 'C_547.0_20240625', 'P_548.0_20240625', 'C_548.0_20240625']\n",
      "  -> Short ATM put ENTRY for P_543.0_20240625 at 10:01:00 and price 0.82\n",
      "  -> SPY is 543.44 and strike is 543.0\n",
      "  -> Short ATM put ENTRY for P_544.0_20240625 at 11:19:00 and price 0.67\n",
      "  -> SPY is 544.28 and strike is 544.0\n",
      "Stoploss of  -1 side entry was 0.82 in P_543.0_20240625 at 0.31\n",
      "  -> EOD EXIT for P_543.0_20240625 at 0.31. Profit: $5100.00\n",
      "  -> Target EXIT for P_544.0_20240625 at 0.97. Profit: $-3000.00\n",
      "  -> Short ATM put ENTRY for P_543.0_20240625 at 13:13:00 and price 0.51\n",
      "  -> SPY is 543.28 and strike is 543.0\n",
      "  -> MA cross exit for P_543.0_20240625 at 0.05. Profit: $4600.00\n",
      "\n",
      "--- Processing Day: 2024-06-26 ---\n",
      "Fetching options across 543.56\n",
      "Total options found for today are: 22\n",
      "\n",
      "--- Phase 2: Preparing Master DataFrame ---\n",
      "✅ Successfully created master DataFrame with 220 total columns.\n",
      "['P_539.0_20240626', 'C_539.0_20240626', 'P_540.0_20240626', 'C_540.0_20240626', 'P_541.0_20240626', 'C_541.0_20240626', 'P_542.0_20240626', 'C_542.0_20240626', 'P_543.0_20240626', 'C_543.0_20240626', 'P_544.0_20240626', 'C_544.0_20240626', 'P_545.0_20240626', 'C_545.0_20240626', 'P_546.0_20240626', 'C_546.0_20240626', 'P_547.0_20240626', 'C_547.0_20240626', 'P_548.0_20240626', 'C_548.0_20240626', 'P_549.0_20240626', 'C_549.0_20240626']\n",
      "  -> Short ATM put ENTRY for P_545.0_20240626 at 11:53:00 and price 0.83\n",
      "  -> SPY is 544.96 and strike is 545.0\n",
      "  -> Target EXIT for P_545.0_20240626 at 1.09. Profit: $-2600.00\n",
      "  -> Short ATM put ENTRY for P_545.0_20240626 at 13:12:00 and price 0.71\n",
      "  -> SPY is 544.86 and strike is 545.0\n",
      "  -> Target EXIT for P_545.0_20240626 at 0.98. Profit: $-2700.00\n",
      "  -> Short ATM put ENTRY for P_544.0_20240626 at 13:31:00 and price 0.49\n",
      "  -> SPY is 544.45 and strike is 544.0\n",
      "  -> Short ATM put ENTRY for P_545.0_20240626 at 13:45:00 and price 0.88\n",
      "  -> SPY is 544.56 and strike is 545.0\n",
      "EOD CLosing of -1 side positon in P_544.0_20240626 at 2024-06-26 15:15:00\n",
      "  -> EOD EXIT for P_544.0_20240626 at 0.37. Profit: $1200.00\n",
      "EOD CLosing of -1 side positon in P_545.0_20240626 at 2024-06-26 15:15:00\n",
      "  -> EOD EXIT for P_545.0_20240626 at 0.88. Profit: $-0.00\n",
      "\n",
      "--- Processing Day: 2024-06-27 ---\n",
      "Fetching options across 546.73\n",
      "Total options found for today are: 22\n",
      "\n",
      "--- Phase 2: Preparing Master DataFrame ---\n",
      "✅ Successfully created master DataFrame with 220 total columns.\n",
      "['P_542.0_20240627', 'C_542.0_20240627', 'P_543.0_20240627', 'C_543.0_20240627', 'P_544.0_20240627', 'C_544.0_20240627', 'P_545.0_20240627', 'C_545.0_20240627', 'P_546.0_20240627', 'C_546.0_20240627', 'P_547.0_20240627', 'C_547.0_20240627', 'P_548.0_20240627', 'C_548.0_20240627', 'P_549.0_20240627', 'C_549.0_20240627', 'P_550.0_20240627', 'C_550.0_20240627', 'P_551.0_20240627', 'C_551.0_20240627', 'P_552.0_20240627', 'C_552.0_20240627']\n",
      "  -> Short ATM put ENTRY for P_546.0_20240627 at 11:12:00 and price 0.97\n",
      "  -> SPY is 545.73 and strike is 546.0\n",
      "  -> Target EXIT for P_546.0_20240627 at 1.36. Profit: $-3900.00\n",
      "  -> Short ATM put ENTRY for P_546.0_20240627 at 12:24:00 and price 0.85\n",
      "  -> SPY is 545.8 and strike is 546.0\n",
      "  -> Target EXIT for P_546.0_20240627 at 1.13. Profit: $-2800.00\n",
      "\n",
      "--- Processing Day: 2024-06-28 ---\n",
      "Fetching options across 546.71\n",
      "Total options found for today are: 22\n",
      "\n",
      "--- Phase 2: Preparing Master DataFrame ---\n",
      "✅ Successfully created master DataFrame with 220 total columns.\n",
      "['P_542.0_20240628', 'C_542.0_20240628', 'P_543.0_20240628', 'C_543.0_20240628', 'P_544.0_20240628', 'C_544.0_20240628', 'P_545.0_20240628', 'C_545.0_20240628', 'P_546.0_20240628', 'C_546.0_20240628', 'P_547.0_20240628', 'C_547.0_20240628', 'P_548.0_20240628', 'C_548.0_20240628', 'P_549.0_20240628', 'C_549.0_20240628', 'P_550.0_20240628', 'C_550.0_20240628', 'P_551.0_20240628', 'C_551.0_20240628', 'P_552.0_20240628', 'C_552.0_20240628']\n",
      "  -> Short ATM put ENTRY for P_548.0_20240628 at 09:53:00 and price 1.11\n",
      "  -> SPY is 548.15 and strike is 548.0\n",
      "Stoploss of  -1 side entry was 1.11 in P_548.0_20240628 at 0.58\n",
      "  -> EOD EXIT for P_548.0_20240628 at 0.58. Profit: $5300.00\n",
      "  -> Short ATM put ENTRY for P_547.0_20240628 at 12:16:00 and price 1.08\n",
      "  -> SPY is 546.79 and strike is 547.0\n",
      "  -> Target EXIT for P_547.0_20240628 at 1.42. Profit: $-3400.00\n",
      "  -> Short ATM put ENTRY for P_547.0_20240628 at 12:24:00 and price 1.14\n",
      "  -> SPY is 546.7 and strike is 547.0\n",
      "  -> Target EXIT for P_547.0_20240628 at 1.49. Profit: $-3500.00\n",
      "  -> Short ATM put ENTRY for P_547.0_20240628 at 13:13:00 and price 0.97\n",
      "  -> SPY is 546.76 and strike is 547.0\n",
      "  -> Target EXIT for P_547.0_20240628 at 1.36. Profit: $-3900.00\n",
      "\n",
      "--- Processing Day: 2024-07-01 ---\n",
      "Fetching options across 545.48\n",
      "Total options found for today are: 22\n",
      "\n",
      "--- Phase 2: Preparing Master DataFrame ---\n",
      "✅ Successfully created master DataFrame with 220 total columns.\n",
      "['P_540.0_20240701', 'C_540.0_20240701', 'P_541.0_20240701', 'C_541.0_20240701', 'P_542.0_20240701', 'C_542.0_20240701', 'P_543.0_20240701', 'C_543.0_20240701', 'P_544.0_20240701', 'C_544.0_20240701', 'P_545.0_20240701', 'C_545.0_20240701', 'P_546.0_20240701', 'C_546.0_20240701', 'P_547.0_20240701', 'C_547.0_20240701', 'P_548.0_20240701', 'C_548.0_20240701', 'P_549.0_20240701', 'C_549.0_20240701', 'P_550.0_20240701', 'C_550.0_20240701']\n",
      "\n",
      "--- Processing Day: 2024-07-02 ---\n",
      "Fetching options across 546.72\n",
      "Total options found for today are: 22\n",
      "\n",
      "--- Phase 2: Preparing Master DataFrame ---\n",
      "✅ Successfully created master DataFrame with 220 total columns.\n",
      "['P_542.0_20240702', 'C_542.0_20240702', 'P_543.0_20240702', 'C_543.0_20240702', 'P_544.0_20240702', 'C_544.0_20240702', 'P_545.0_20240702', 'C_545.0_20240702', 'P_546.0_20240702', 'C_546.0_20240702', 'P_547.0_20240702', 'C_547.0_20240702', 'P_548.0_20240702', 'C_548.0_20240702', 'P_549.0_20240702', 'C_549.0_20240702', 'P_550.0_20240702', 'C_550.0_20240702', 'P_551.0_20240702', 'C_551.0_20240702', 'P_552.0_20240702', 'C_552.0_20240702']\n",
      "\n",
      "--- Processing Day: 2024-07-03 ---\n",
      "Fetching options across 549.35\n",
      "Total options found for today are: 22\n",
      "\n",
      "--- Phase 2: Preparing Master DataFrame ---\n",
      "✅ Successfully created master DataFrame with 220 total columns.\n",
      "['P_544.0_20240703', 'C_544.0_20240703', 'P_545.0_20240703', 'C_545.0_20240703', 'P_546.0_20240703', 'C_546.0_20240703', 'P_547.0_20240703', 'C_547.0_20240703', 'P_548.0_20240703', 'C_548.0_20240703', 'P_549.0_20240703', 'C_549.0_20240703', 'P_550.0_20240703', 'C_550.0_20240703', 'P_551.0_20240703', 'C_551.0_20240703', 'P_552.0_20240703', 'C_552.0_20240703', 'P_553.0_20240703', 'C_553.0_20240703', 'P_554.0_20240703', 'C_554.0_20240703']\n",
      "  -> Short ATM put ENTRY for P_550.0_20240703 at 09:59:00 and price 1.05\n",
      "  -> SPY is 549.56 and strike is 550.0\n",
      "  -> Short ATM put ENTRY for P_549.0_20240703 at 10:33:00 and price 0.57\n",
      "  -> SPY is 549.39 and strike is 549.0\n",
      "Stoploss of  -1 side entry was 1.05 in P_550.0_20240703 at 0.53\n",
      "  -> EOD EXIT for P_550.0_20240703 at 0.53. Profit: $5200.00\n",
      "  -> Short ATM put ENTRY for P_550.0_20240703 at 11:17:00 and price 0.52\n",
      "  -> SPY is 550.13 and strike is 550.0\n",
      "  -> Short ATM put ENTRY for P_551.0_20240703 at 12:07:00 and price 0.74\n",
      "  -> SPY is 550.53 and strike is 551.0\n",
      "Stoploss of  -1 side entry was 0.57 in P_549.0_20240703 at 0.06\n",
      "  -> EOD EXIT for P_549.0_20240703 at 0.06. Profit: $5100.00\n",
      "Stoploss of  -1 side entry was 0.74 in P_551.0_20240703 at 0.21\n",
      "  -> EOD EXIT for P_551.0_20240703 at 0.21. Profit: $5300.00\n",
      "Stoploss of  -1 side entry was 0.52 in P_550.0_20240703 at 0.02\n",
      "  -> EOD EXIT for P_550.0_20240703 at 0.02. Profit: $5000.00\n",
      "\n",
      "--- Processing Day: 2024-07-12 ---\n",
      "Fetching options across 557.66\n",
      "Total options found for today are: 26\n",
      "\n",
      "--- Phase 2: Preparing Master DataFrame ---\n",
      "✅ Successfully created master DataFrame with 260 total columns.\n",
      "['P_552.0_20240712', 'C_552.0_20240712', 'P_553.0_20240712', 'C_553.0_20240712', 'P_554.0_20240712', 'C_554.0_20240712', 'P_555.0_20240712', 'C_555.0_20240712', 'P_556.0_20240712', 'C_556.0_20240712', 'P_557.0_20240712', 'C_557.0_20240712', 'P_558.0_20240712', 'C_558.0_20240712', 'P_559.0_20240712', 'C_559.0_20240712', 'P_560.0_20240712', 'C_560.0_20240712', 'P_561.0_20240712', 'C_561.0_20240712', 'P_562.0_20240712', 'C_562.0_20240712', 'P_563.0_20240712', 'C_563.0_20240712', 'P_564.0_20240712', 'C_564.0_20240712']\n",
      "  -> Short ATM put ENTRY for P_558.0_20240712 at 09:42:00 and price 1.07\n",
      "  -> SPY is 558.14 and strike is 558.0\n",
      "Stoploss of  -1 side entry was 1.07 in P_558.0_20240712 at 0.54\n",
      "  -> EOD EXIT for P_558.0_20240712 at 0.54. Profit: $5300.00\n",
      "\n",
      "--- Processing Day: 2024-07-15 ---\n",
      "Fetching options across 562.16\n",
      "Total options found for today are: 26\n",
      "\n",
      "--- Phase 2: Preparing Master DataFrame ---\n",
      "✅ Successfully created master DataFrame with 260 total columns.\n",
      "['P_556.0_20240715', 'C_556.0_20240715', 'P_557.0_20240715', 'C_557.0_20240715', 'P_558.0_20240715', 'C_558.0_20240715', 'P_559.0_20240715', 'C_559.0_20240715', 'P_560.0_20240715', 'C_560.0_20240715', 'P_561.0_20240715', 'C_561.0_20240715', 'P_562.0_20240715', 'C_562.0_20240715', 'P_563.0_20240715', 'C_563.0_20240715', 'P_564.0_20240715', 'C_564.0_20240715', 'P_565.0_20240715', 'C_565.0_20240715', 'P_566.0_20240715', 'C_566.0_20240715', 'P_567.0_20240715', 'C_567.0_20240715', 'P_568.0_20240715', 'C_568.0_20240715']\n",
      "  -> Short ATM put ENTRY for P_561.0_20240715 at 13:42:00 and price 0.67\n",
      "  -> SPY is 561.28 and strike is 561.0\n",
      "Stoploss of  -1 side entry was 0.67 in P_561.0_20240715 at 0.15\n",
      "  -> EOD EXIT for P_561.0_20240715 at 0.15. Profit: $5200.00\n",
      "\n",
      "--- Processing Day: 2024-07-16 ---\n",
      "Fetching options across 562.93\n"
     ]
    },
    {
     "data": {
      "application/vnd.jupyter.widget-view+json": {
       "model_id": "c69cab3c49f44f4fbf8bd6a9056a4347",
       "version_major": 2,
       "version_minor": 0
      },
      "text/plain": [
       "FloatProgress(value=0.0, layout=Layout(width='auto'), style=ProgressStyle(bar_color='black'))"
      ]
     },
     "metadata": {},
     "output_type": "display_data"
    },
    {
     "name": "stdout",
     "output_type": "stream",
     "text": [
      "Total options found for today are: 26\n",
      "\n",
      "--- Phase 2: Preparing Master DataFrame ---\n",
      "✅ Successfully created master DataFrame with 260 total columns.\n",
      "['P_557.0_20240716', 'C_557.0_20240716', 'P_558.0_20240716', 'C_558.0_20240716', 'P_559.0_20240716', 'C_559.0_20240716', 'P_560.0_20240716', 'C_560.0_20240716', 'P_561.0_20240716', 'C_561.0_20240716', 'P_562.0_20240716', 'C_562.0_20240716', 'P_563.0_20240716', 'C_563.0_20240716', 'P_564.0_20240716', 'C_564.0_20240716', 'P_565.0_20240716', 'C_565.0_20240716', 'P_566.0_20240716', 'C_566.0_20240716', 'P_567.0_20240716', 'C_567.0_20240716', 'P_568.0_20240716', 'C_568.0_20240716', 'P_569.0_20240716', 'C_569.0_20240716']\n",
      "  -> Short ATM put ENTRY for P_563.0_20240716 at 09:44:00 and price 1.04\n",
      "  -> SPY is 563.3 and strike is 563.0\n",
      "  -> Target EXIT for P_563.0_20240716 at 1.36. Profit: $-3200.00\n",
      "  -> Short call ENTRY for C_562.0_20240716 at 10:05:00 and price 1.43\n",
      "  -> SPY is 562.5 and strike is 562.0\n",
      "  -> Short ATM put ENTRY for P_562.0_20240716 at 10:11:00 and price 0.87\n",
      "  -> SPY is 562.46 and strike is 562.0\n",
      "  -> Short ATM put ENTRY for P_563.0_20240716 at 10:33:00 and price 1.09\n",
      "  -> SPY is 562.89 and strike is 563.0\n",
      "  -> Target EXIT for C_562.0_20240716 at 1.74. Profit: $-3100.00\n",
      "Stoploss of  -1 side entry was 0.87 in P_562.0_20240716 at 0.34\n",
      "  -> EOD EXIT for P_562.0_20240716 at 0.34. Profit: $5300.00\n",
      "Stoploss of  -1 side entry was 1.09 in P_563.0_20240716 at 0.53\n",
      "  -> EOD EXIT for P_563.0_20240716 at 0.53. Profit: $5600.00\n",
      "  -> Short ATM put ENTRY for P_563.0_20240716 at 11:57:00 and price 0.74\n",
      "  -> SPY is 563.28 and strike is 563.0\n",
      "  -> Target EXIT for P_563.0_20240716 at 1.13. Profit: $-3900.00\n",
      "\n",
      "--- Processing Day: 2024-07-17 ---\n",
      "Fetching options across 558.73\n",
      "Total options found for today are: 26\n",
      "\n",
      "--- Phase 2: Preparing Master DataFrame ---\n",
      "✅ Successfully created master DataFrame with 260 total columns.\n",
      "['P_553.0_20240717', 'C_553.0_20240717', 'P_554.0_20240717', 'C_554.0_20240717', 'P_555.0_20240717', 'C_555.0_20240717', 'P_556.0_20240717', 'C_556.0_20240717', 'P_557.0_20240717', 'C_557.0_20240717', 'P_558.0_20240717', 'C_558.0_20240717', 'P_559.0_20240717', 'C_559.0_20240717', 'P_560.0_20240717', 'C_560.0_20240717', 'P_561.0_20240717', 'C_561.0_20240717', 'P_562.0_20240717', 'C_562.0_20240717', 'P_563.0_20240717', 'C_563.0_20240717', 'P_564.0_20240717', 'C_564.0_20240717', 'P_565.0_20240717', 'C_565.0_20240717']\n",
      "  -> Short ATM put ENTRY for P_560.0_20240717 at 09:56:00 and price 1.11\n",
      "  -> SPY is 560.38 and strike is 560.0\n",
      "  -> Target EXIT for P_560.0_20240717 at 1.52. Profit: $-4100.00\n",
      "  -> Short ATM put ENTRY for P_559.0_20240717 at 10:20:00 and price 1.11\n",
      "  -> SPY is 559.31 and strike is 559.0\n",
      "  -> Target EXIT for P_559.0_20240717 at 1.37. Profit: $-2600.00\n",
      "  -> Short ATM put ENTRY for P_558.0_20240717 at 11:09:00 and price 0.99\n",
      "  -> SPY is 558.29 and strike is 558.0\n",
      "  -> Target EXIT for P_558.0_20240717 at 1.28. Profit: $-2900.00\n",
      "  -> Short ATM put ENTRY for P_558.0_20240717 at 12:56:00 and price 1.15\n",
      "  -> SPY is 557.7 and strike is 558.0\n",
      "  -> Target EXIT for P_558.0_20240717 at 1.44. Profit: $-2900.00\n",
      "  -> Short ATM put ENTRY for P_557.0_20240717 at 13:30:00 and price 0.8\n",
      "  -> SPY is 557.3 and strike is 557.0\n",
      "  -> Short ATM put ENTRY for P_558.0_20240717 at 13:33:00 and price 1.03\n",
      "  -> SPY is 557.76 and strike is 558.0\n",
      "  -> Target EXIT for P_558.0_20240717 at 1.34. Profit: $-3100.00\n",
      "  -> Short ATM put ENTRY for P_558.0_20240717 at 14:14:00 and price 0.96\n",
      "  -> SPY is 557.64 and strike is 558.0\n",
      "Stoploss of  -1 side entry was 0.8 in P_557.0_20240717 at 0.26\n",
      "  -> EOD EXIT for P_557.0_20240717 at 0.26. Profit: $5400.00\n",
      "EOD CLosing of -1 side positon in P_558.0_20240717 at 2024-07-17 15:16:00\n",
      "  -> EOD EXIT for P_558.0_20240717 at 0.69. Profit: $2700.00\n",
      "\n",
      "--- Processing Day: 2024-07-18 ---\n",
      "Fetching options across 558.17\n",
      "Total options found for today are: 26\n",
      "\n",
      "--- Phase 2: Preparing Master DataFrame ---\n",
      "✅ Successfully created master DataFrame with 260 total columns.\n",
      "['P_552.0_20240718', 'C_552.0_20240718', 'P_553.0_20240718', 'C_553.0_20240718', 'P_554.0_20240718', 'C_554.0_20240718', 'P_555.0_20240718', 'C_555.0_20240718', 'P_556.0_20240718', 'C_556.0_20240718', 'P_557.0_20240718', 'C_557.0_20240718', 'P_558.0_20240718', 'C_558.0_20240718', 'P_559.0_20240718', 'C_559.0_20240718', 'P_560.0_20240718', 'C_560.0_20240718', 'P_561.0_20240718', 'C_561.0_20240718', 'P_562.0_20240718', 'C_562.0_20240718', 'P_563.0_20240718', 'C_563.0_20240718', 'P_564.0_20240718', 'C_564.0_20240718']\n",
      "  -> Short call ENTRY for C_558.0_20240718 at 10:32:00 and price 1.23\n",
      "  -> SPY is 558.08 and strike is 558.0\n",
      "Stoploss of  -1 side entry was 1.23 in C_558.0_20240718 at 0.65\n",
      "  -> EOD EXIT for C_558.0_20240718 at 0.65. Profit: $5800.00\n",
      "  -> Short ATM put ENTRY for P_554.0_20240718 at 11:38:00 and price 1.11\n",
      "  -> SPY is 554.19 and strike is 554.0\n",
      "  -> Target EXIT for P_554.0_20240718 at 1.47. Profit: $-3600.00\n",
      "  -> Short ATM put ENTRY for P_553.0_20240718 at 12:07:00 and price 1.13\n",
      "  -> SPY is 553.03 and strike is 553.0\n",
      "  -> Target EXIT for P_553.0_20240718 at 1.41. Profit: $-2800.00\n",
      "  -> Short ATM put ENTRY for P_553.0_20240718 at 12:30:00 and price 1.07\n",
      "  -> SPY is 552.94 and strike is 553.0\n",
      "  -> Short ATM put ENTRY for P_554.0_20240718 at 12:44:00 and price 1.14\n",
      "  -> SPY is 553.82 and strike is 554.0\n",
      "Stoploss of  -1 side entry was 1.07 in P_553.0_20240718 at 0.54\n",
      "  -> EOD EXIT for P_553.0_20240718 at 0.54. Profit: $5300.00\n",
      "Stoploss of  -1 side entry was 1.14 in P_554.0_20240718 at 0.61\n",
      "  -> EOD EXIT for P_554.0_20240718 at 0.61. Profit: $5300.00\n",
      "  -> Short ATM put ENTRY for P_554.0_20240718 at 13:43:00 and price 0.71\n",
      "  -> SPY is 554.32 and strike is 554.0\n",
      "  -> Target EXIT for P_554.0_20240718 at 1.13. Profit: $-4200.00\n",
      "  -> Short ATM put ENTRY for P_553.0_20240718 at 14:08:00 and price 0.66\n",
      "  -> SPY is 553.41 and strike is 553.0\n",
      "  -> Target EXIT for P_553.0_20240718 at 0.97. Profit: $-3100.00\n",
      "\n",
      "--- Processing Day: 2024-07-19 ---\n",
      "Fetching options across 552.08\n",
      "Total options found for today are: 26\n",
      "\n",
      "--- Phase 2: Preparing Master DataFrame ---\n",
      "✅ Successfully created master DataFrame with 260 total columns.\n",
      "['P_546.0_20240719', 'C_546.0_20240719', 'P_547.0_20240719', 'C_547.0_20240719', 'P_548.0_20240719', 'C_548.0_20240719', 'P_549.0_20240719', 'C_549.0_20240719', 'P_550.0_20240719', 'C_550.0_20240719', 'P_551.0_20240719', 'C_551.0_20240719', 'P_552.0_20240719', 'C_552.0_20240719', 'P_553.0_20240719', 'C_553.0_20240719', 'P_554.0_20240719', 'C_554.0_20240719', 'P_555.0_20240719', 'C_555.0_20240719', 'P_556.0_20240719', 'C_556.0_20240719', 'P_557.0_20240719', 'C_557.0_20240719', 'P_558.0_20240719', 'C_558.0_20240719']\n",
      "  -> Short call ENTRY for C_553.0_20240719 at 09:45:00 and price 1.62\n",
      "  -> SPY is 552.88 and strike is 553.0\n",
      "Stoploss of  -1 side entry was 1.62 in C_553.0_20240719 at 1.06\n",
      "  -> EOD EXIT for C_553.0_20240719 at 1.06. Profit: $5600.00\n",
      "  -> Short ATM put ENTRY for P_551.0_20240719 at 12:10:00 and price 1.07\n",
      "  -> SPY is 551.33 and strike is 551.0\n",
      "  -> Target EXIT for P_551.0_20240719 at 1.36. Profit: $-2900.00\n",
      "  -> Short ATM put ENTRY for P_548.0_20240719 at 13:36:00 and price 0.84\n",
      "  -> SPY is 548.41 and strike is 548.0\n",
      "Stoploss of  -1 side entry was 0.84 in P_548.0_20240719 at 0.31\n",
      "  -> EOD EXIT for P_548.0_20240719 at 0.31. Profit: $5300.00\n",
      "\n",
      "--- Processing Day: 2024-07-22 ---\n",
      "Fetching options across 552.51\n",
      "Total options found for today are: 26\n",
      "\n",
      "--- Phase 2: Preparing Master DataFrame ---\n",
      "✅ Successfully created master DataFrame with 260 total columns.\n",
      "['P_547.0_20240722', 'C_547.0_20240722', 'P_548.0_20240722', 'C_548.0_20240722', 'P_549.0_20240722', 'C_549.0_20240722', 'P_550.0_20240722', 'C_550.0_20240722', 'P_551.0_20240722', 'C_551.0_20240722', 'P_552.0_20240722', 'C_552.0_20240722', 'P_553.0_20240722', 'C_553.0_20240722', 'P_554.0_20240722', 'C_554.0_20240722', 'P_555.0_20240722', 'C_555.0_20240722', 'P_556.0_20240722', 'C_556.0_20240722', 'P_557.0_20240722', 'C_557.0_20240722', 'P_558.0_20240722', 'C_558.0_20240722', 'P_559.0_20240722', 'C_559.0_20240722']\n",
      "\n",
      "--- Processing Day: 2024-07-23 ---\n",
      "Fetching options across 554.9\n",
      "Total options found for today are: 26\n",
      "\n",
      "--- Phase 2: Preparing Master DataFrame ---\n",
      "✅ Successfully created master DataFrame with 260 total columns.\n",
      "['P_549.0_20240723', 'C_549.0_20240723', 'P_550.0_20240723', 'C_550.0_20240723', 'P_551.0_20240723', 'C_551.0_20240723', 'P_552.0_20240723', 'C_552.0_20240723', 'P_553.0_20240723', 'C_553.0_20240723', 'P_554.0_20240723', 'C_554.0_20240723', 'P_555.0_20240723', 'C_555.0_20240723', 'P_556.0_20240723', 'C_556.0_20240723', 'P_557.0_20240723', 'C_557.0_20240723', 'P_558.0_20240723', 'C_558.0_20240723', 'P_559.0_20240723', 'C_559.0_20240723', 'P_560.0_20240723', 'C_560.0_20240723', 'P_561.0_20240723', 'C_561.0_20240723']\n",
      "  -> Short call ENTRY for C_555.0_20240723 at 09:53:00 and price 1.46\n",
      "  -> SPY is 555.06 and strike is 555.0\n",
      "  -> Target EXIT for C_555.0_20240723 at 1.73. Profit: $-2700.00\n",
      "  -> Short call ENTRY for C_555.0_20240723 at 10:45:00 and price 1.54\n",
      "  -> SPY is 555.48 and strike is 555.0\n",
      "Stoploss of  -1 side entry was 1.54 in C_555.0_20240723 at 1.01\n",
      "  -> EOD EXIT for C_555.0_20240723 at 1.01. Profit: $5300.00\n",
      "  -> Short ATM put ENTRY for P_555.0_20240723 at 11:02:00 and price 1.14\n",
      "  -> SPY is 555.21 and strike is 555.0\n",
      "  -> Short call ENTRY for C_555.0_20240723 at 11:03:00 and price 1.35\n",
      "  -> SPY is 555.23 and strike is 555.0\n",
      "  -> Target EXIT for C_555.0_20240723 at 1.64. Profit: $-2900.00\n",
      "Stoploss of  -1 side entry was 1.14 in P_555.0_20240723 at 0.63\n",
      "  -> EOD EXIT for P_555.0_20240723 at 0.63. Profit: $5100.00\n",
      "  -> Short ATM put ENTRY for P_555.0_20240723 at 12:30:00 and price 1.07\n",
      "  -> SPY is 555.13 and strike is 555.0\n",
      "  -> Short call ENTRY for C_555.0_20240723 at 12:30:00 and price 1.22\n",
      "  -> SPY is 555.13 and strike is 555.0\n",
      "  -> Target EXIT for P_555.0_20240723 at 1.52. Profit: $-4500.00\n",
      "  -> Short ATM put ENTRY for P_555.0_20240723 at 13:52:00 and price 1.02\n",
      "  -> SPY is 554.99 and strike is 555.0\n",
      "EOD CLosing of -1 side positon in C_555.0_20240723 at 2024-07-23 15:16:00\n",
      "  -> EOD EXIT for C_555.0_20240723 at 0.74. Profit: $4800.00\n",
      "  ❌ An error occurred on 2024-07-23: 'C_555.0_20240723'\n",
      "\n",
      "--- Processing Day: 2024-07-26 ---\n",
      "Fetching options across 543.06\n"
     ]
    },
    {
     "data": {
      "application/vnd.jupyter.widget-view+json": {
       "model_id": "0d1209116a75449a96f62da38e3f9fdb",
       "version_major": 2,
       "version_minor": 0
      },
      "text/plain": [
       "FloatProgress(value=0.0, layout=Layout(width='auto'), style=ProgressStyle(bar_color='black'))"
      ]
     },
     "metadata": {},
     "output_type": "display_data"
    },
    {
     "name": "stdout",
     "output_type": "stream",
     "text": [
      "Total options found for today are: 22\n",
      "\n",
      "--- Phase 2: Preparing Master DataFrame ---\n",
      "✅ Successfully created master DataFrame with 220 total columns.\n",
      "['P_538.0_20240726', 'C_538.0_20240726', 'P_539.0_20240726', 'C_539.0_20240726', 'P_540.0_20240726', 'C_540.0_20240726', 'P_541.0_20240726', 'C_541.0_20240726', 'P_542.0_20240726', 'C_542.0_20240726', 'P_543.0_20240726', 'C_543.0_20240726', 'P_544.0_20240726', 'C_544.0_20240726', 'P_545.0_20240726', 'C_545.0_20240726', 'P_546.0_20240726', 'C_546.0_20240726', 'P_547.0_20240726', 'C_547.0_20240726', 'P_548.0_20240726', 'C_548.0_20240726']\n",
      "\n",
      "--- Processing Day: 2024-07-30 ---\n",
      "Fetching options across 542.31\n"
     ]
    },
    {
     "data": {
      "application/vnd.jupyter.widget-view+json": {
       "model_id": "8e33914deb1c4017abbb17ddd69efaee",
       "version_major": 2,
       "version_minor": 0
      },
      "text/plain": [
       "FloatProgress(value=0.0, layout=Layout(width='auto'), style=ProgressStyle(bar_color='black'))"
      ]
     },
     "metadata": {},
     "output_type": "display_data"
    },
    {
     "name": "stdout",
     "output_type": "stream",
     "text": [
      "Total options found for today are: 22\n",
      "\n",
      "--- Phase 2: Preparing Master DataFrame ---\n",
      "✅ Successfully created master DataFrame with 220 total columns.\n",
      "['P_537.0_20240730', 'C_537.0_20240730', 'P_538.0_20240730', 'C_538.0_20240730', 'P_539.0_20240730', 'C_539.0_20240730', 'P_540.0_20240730', 'C_540.0_20240730', 'P_541.0_20240730', 'C_541.0_20240730', 'P_542.0_20240730', 'C_542.0_20240730', 'P_543.0_20240730', 'C_543.0_20240730', 'P_544.0_20240730', 'C_544.0_20240730', 'P_545.0_20240730', 'C_545.0_20240730', 'P_546.0_20240730', 'C_546.0_20240730', 'P_547.0_20240730', 'C_547.0_20240730']\n",
      "\n",
      "--- Processing Day: 2024-08-02 ---\n",
      "Fetching options across 536.7\n"
     ]
    },
    {
     "data": {
      "application/vnd.jupyter.widget-view+json": {
       "model_id": "08924997ecbb49b3a40a9e5210127697",
       "version_major": 2,
       "version_minor": 0
      },
      "text/plain": [
       "FloatProgress(value=0.0, layout=Layout(width='auto'), style=ProgressStyle(bar_color='black'))"
      ]
     },
     "metadata": {},
     "output_type": "display_data"
    },
    {
     "name": "stdout",
     "output_type": "stream",
     "text": [
      "Total options found for today are: 22\n",
      "\n",
      "--- Phase 2: Preparing Master DataFrame ---\n",
      "✅ Successfully created master DataFrame with 220 total columns.\n",
      "['P_532.0_20240802', 'C_532.0_20240802', 'P_533.0_20240802', 'C_533.0_20240802', 'P_534.0_20240802', 'C_534.0_20240802', 'P_535.0_20240802', 'C_535.0_20240802', 'P_536.0_20240802', 'C_536.0_20240802', 'P_537.0_20240802', 'C_537.0_20240802', 'P_538.0_20240802', 'C_538.0_20240802', 'P_539.0_20240802', 'C_539.0_20240802', 'P_540.0_20240802', 'C_540.0_20240802', 'P_541.0_20240802', 'C_541.0_20240802', 'P_542.0_20240802', 'C_542.0_20240802']\n",
      "\n",
      "--- Processing Day: 2024-08-06 ---\n",
      "Fetching options across 519.56\n"
     ]
    },
    {
     "data": {
      "application/vnd.jupyter.widget-view+json": {
       "model_id": "bdc1671f71c5462e90fb6d3a80908294",
       "version_major": 2,
       "version_minor": 0
      },
      "text/plain": [
       "FloatProgress(value=0.0, layout=Layout(width='auto'), style=ProgressStyle(bar_color='black'))"
      ]
     },
     "metadata": {},
     "output_type": "display_data"
    },
    {
     "name": "stdout",
     "output_type": "stream",
     "text": [
      "Total options found for today are: 22\n",
      "\n",
      "--- Phase 2: Preparing Master DataFrame ---\n",
      "✅ Successfully created master DataFrame with 220 total columns.\n",
      "['P_515.0_20240806', 'C_515.0_20240806', 'P_516.0_20240806', 'C_516.0_20240806', 'P_517.0_20240806', 'C_517.0_20240806', 'P_518.0_20240806', 'C_518.0_20240806', 'P_519.0_20240806', 'C_519.0_20240806', 'P_520.0_20240806', 'C_520.0_20240806', 'P_521.0_20240806', 'C_521.0_20240806', 'P_522.0_20240806', 'C_522.0_20240806', 'P_523.0_20240806', 'C_523.0_20240806', 'P_524.0_20240806', 'C_524.0_20240806', 'P_525.0_20240806', 'C_525.0_20240806']\n",
      "\n",
      "--- Processing Day: 2024-08-07 ---\n",
      "Fetching options across 529.19\n"
     ]
    },
    {
     "data": {
      "application/vnd.jupyter.widget-view+json": {
       "model_id": "ebe85f99076d4007b3e7aa74979879ee",
       "version_major": 2,
       "version_minor": 0
      },
      "text/plain": [
       "FloatProgress(value=0.0, layout=Layout(width='auto'), style=ProgressStyle(bar_color='black'))"
      ]
     },
     "metadata": {},
     "output_type": "display_data"
    },
    {
     "name": "stdout",
     "output_type": "stream",
     "text": [
      "Total options found for today are: 22\n",
      "\n",
      "--- Phase 2: Preparing Master DataFrame ---\n",
      "✅ Successfully created master DataFrame with 220 total columns.\n",
      "['P_524.0_20240807', 'C_524.0_20240807', 'P_525.0_20240807', 'C_525.0_20240807', 'P_526.0_20240807', 'C_526.0_20240807', 'P_527.0_20240807', 'C_527.0_20240807', 'P_528.0_20240807', 'C_528.0_20240807', 'P_529.0_20240807', 'C_529.0_20240807', 'P_530.0_20240807', 'C_530.0_20240807', 'P_531.0_20240807', 'C_531.0_20240807', 'P_532.0_20240807', 'C_532.0_20240807', 'P_533.0_20240807', 'C_533.0_20240807', 'P_534.0_20240807', 'C_534.0_20240807']\n",
      "\n",
      "--- Processing Day: 2024-08-09 ---\n",
      "Fetching options across 531.7\n"
     ]
    },
    {
     "data": {
      "application/vnd.jupyter.widget-view+json": {
       "model_id": "4fe815fe7d894000912256b1af9902b9",
       "version_major": 2,
       "version_minor": 0
      },
      "text/plain": [
       "FloatProgress(value=0.0, layout=Layout(width='auto'), style=ProgressStyle(bar_color='black'))"
      ]
     },
     "metadata": {},
     "output_type": "display_data"
    },
    {
     "name": "stdout",
     "output_type": "stream",
     "text": [
      "Total options found for today are: 22\n",
      "\n",
      "--- Phase 2: Preparing Master DataFrame ---\n",
      "✅ Successfully created master DataFrame with 220 total columns.\n",
      "['P_527.0_20240809', 'C_527.0_20240809', 'P_528.0_20240809', 'C_528.0_20240809', 'P_529.0_20240809', 'C_529.0_20240809', 'P_530.0_20240809', 'C_530.0_20240809', 'P_531.0_20240809', 'C_531.0_20240809', 'P_532.0_20240809', 'C_532.0_20240809', 'P_533.0_20240809', 'C_533.0_20240809', 'P_534.0_20240809', 'C_534.0_20240809', 'P_535.0_20240809', 'C_535.0_20240809', 'P_536.0_20240809', 'C_536.0_20240809', 'P_537.0_20240809', 'C_537.0_20240809']\n",
      "  -> Short call ENTRY for C_532.0_20240809 at 11:21:00 and price 1.63\n",
      "  -> SPY is 531.66 and strike is 532.0\n",
      "Stoploss of  -1 side entry was 1.63 in C_532.0_20240809 at 1.03\n",
      "  -> EOD EXIT for C_532.0_20240809 at 1.03. Profit: $6000.00\n",
      "\n",
      "--- Processing Day: 2024-08-12 ---\n",
      "Fetching options across 532.45\n"
     ]
    },
    {
     "data": {
      "application/vnd.jupyter.widget-view+json": {
       "model_id": "c1abab4fe99645bfb1832692870b81ba",
       "version_major": 2,
       "version_minor": 0
      },
      "text/plain": [
       "FloatProgress(value=0.0, layout=Layout(width='auto'), style=ProgressStyle(bar_color='black'))"
      ]
     },
     "metadata": {},
     "output_type": "display_data"
    },
    {
     "name": "stdout",
     "output_type": "stream",
     "text": [
      "Total options found for today are: 22\n",
      "\n",
      "--- Phase 2: Preparing Master DataFrame ---\n",
      "✅ Successfully created master DataFrame with 220 total columns.\n",
      "['P_527.0_20240812', 'C_527.0_20240812', 'P_528.0_20240812', 'C_528.0_20240812', 'P_529.0_20240812', 'C_529.0_20240812', 'P_530.0_20240812', 'C_530.0_20240812', 'P_531.0_20240812', 'C_531.0_20240812', 'P_532.0_20240812', 'C_532.0_20240812', 'P_533.0_20240812', 'C_533.0_20240812', 'P_534.0_20240812', 'C_534.0_20240812', 'P_535.0_20240812', 'C_535.0_20240812', 'P_536.0_20240812', 'C_536.0_20240812', 'P_537.0_20240812', 'C_537.0_20240812']\n",
      "\n",
      "--- Processing Day: 2024-08-13 ---\n",
      "Fetching options across 536.65\n"
     ]
    },
    {
     "data": {
      "application/vnd.jupyter.widget-view+json": {
       "model_id": "8b8daef9f8e74d12ab21228be7643515",
       "version_major": 2,
       "version_minor": 0
      },
      "text/plain": [
       "FloatProgress(value=0.0, layout=Layout(width='auto'), style=ProgressStyle(bar_color='black'))"
      ]
     },
     "metadata": {},
     "output_type": "display_data"
    },
    {
     "name": "stdout",
     "output_type": "stream",
     "text": [
      "Total options found for today are: 22\n",
      "\n",
      "--- Phase 2: Preparing Master DataFrame ---\n",
      "✅ Successfully created master DataFrame with 220 total columns.\n",
      "['P_532.0_20240813', 'C_532.0_20240813', 'P_533.0_20240813', 'C_533.0_20240813', 'P_534.0_20240813', 'C_534.0_20240813', 'P_535.0_20240813', 'C_535.0_20240813', 'P_536.0_20240813', 'C_536.0_20240813', 'P_537.0_20240813', 'C_537.0_20240813', 'P_538.0_20240813', 'C_538.0_20240813', 'P_539.0_20240813', 'C_539.0_20240813', 'P_540.0_20240813', 'C_540.0_20240813', 'P_541.0_20240813', 'C_541.0_20240813', 'P_542.0_20240813', 'C_542.0_20240813']\n",
      "\n",
      "--- Processing Day: 2024-08-14 ---\n",
      "Fetching options across 541.8\n"
     ]
    },
    {
     "data": {
      "application/vnd.jupyter.widget-view+json": {
       "model_id": "63d43f842c0a4103a586f96303d017d7",
       "version_major": 2,
       "version_minor": 0
      },
      "text/plain": [
       "FloatProgress(value=0.0, layout=Layout(width='auto'), style=ProgressStyle(bar_color='black'))"
      ]
     },
     "metadata": {},
     "output_type": "display_data"
    },
    {
     "name": "stdout",
     "output_type": "stream",
     "text": [
      "Total options found for today are: 22\n",
      "\n",
      "--- Phase 2: Preparing Master DataFrame ---\n",
      "✅ Successfully created master DataFrame with 220 total columns.\n",
      "['P_537.0_20240814', 'C_537.0_20240814', 'P_538.0_20240814', 'C_538.0_20240814', 'P_539.0_20240814', 'C_539.0_20240814', 'P_540.0_20240814', 'C_540.0_20240814', 'P_541.0_20240814', 'C_541.0_20240814', 'P_542.0_20240814', 'C_542.0_20240814', 'P_543.0_20240814', 'C_543.0_20240814', 'P_544.0_20240814', 'C_544.0_20240814', 'P_545.0_20240814', 'C_545.0_20240814', 'P_546.0_20240814', 'C_546.0_20240814', 'P_547.0_20240814', 'C_547.0_20240814']\n",
      "\n",
      "--- Processing Day: 2024-08-16 ---\n",
      "Fetching options across 551.81\n",
      "Total options found for today are: 26\n",
      "\n",
      "--- Phase 2: Preparing Master DataFrame ---\n",
      "✅ Successfully created master DataFrame with 260 total columns.\n",
      "['P_546.0_20240816', 'C_546.0_20240816', 'P_547.0_20240816', 'C_547.0_20240816', 'P_548.0_20240816', 'C_548.0_20240816', 'P_549.0_20240816', 'C_549.0_20240816', 'P_550.0_20240816', 'C_550.0_20240816', 'P_551.0_20240816', 'C_551.0_20240816', 'P_552.0_20240816', 'C_552.0_20240816', 'P_553.0_20240816', 'C_553.0_20240816', 'P_554.0_20240816', 'C_554.0_20240816', 'P_555.0_20240816', 'C_555.0_20240816', 'P_556.0_20240816', 'C_556.0_20240816', 'P_557.0_20240816', 'C_557.0_20240816', 'P_558.0_20240816', 'C_558.0_20240816']\n",
      "  -> Short ATM put ENTRY for P_553.0_20240816 at 10:24:00 and price 1.13\n",
      "  -> SPY is 553.3 and strike is 553.0\n",
      "  -> Target EXIT for P_553.0_20240816 at 1.45. Profit: $-3200.00\n",
      "  -> Short call ENTRY for C_552.0_20240816 at 10:52:00 and price 1.32\n",
      "  -> SPY is 552.23 and strike is 552.0\n",
      "  -> Target EXIT for C_552.0_20240816 at 1.60. Profit: $-2800.00\n",
      "  -> Short ATM put ENTRY for P_553.0_20240816 at 12:00:00 and price 0.76\n",
      "  -> SPY is 553.46 and strike is 553.0\n",
      "Stoploss of  -1 side entry was 0.76 in P_553.0_20240816 at 0.25\n",
      "  -> EOD EXIT for P_553.0_20240816 at 0.25. Profit: $5100.00\n",
      "\n",
      "--- Processing Day: 2024-08-19 ---\n",
      "Fetching options across 555.14\n"
     ]
    },
    {
     "data": {
      "application/vnd.jupyter.widget-view+json": {
       "model_id": "ba3b1cda9b7349e9ad2dddd163513571",
       "version_major": 2,
       "version_minor": 0
      },
      "text/plain": [
       "FloatProgress(value=0.0, layout=Layout(width='auto'), style=ProgressStyle(bar_color='black'))"
      ]
     },
     "metadata": {},
     "output_type": "display_data"
    },
    {
     "name": "stdout",
     "output_type": "stream",
     "text": [
      "Total options found for today are: 24\n",
      "\n",
      "--- Phase 2: Preparing Master DataFrame ---\n",
      "✅ Successfully created master DataFrame with 240 total columns.\n",
      "['P_549.0_20240819', 'C_549.0_20240819', 'P_550.0_20240819', 'C_550.0_20240819', 'P_551.0_20240819', 'C_551.0_20240819', 'P_552.0_20240819', 'C_552.0_20240819', 'P_553.0_20240819', 'C_553.0_20240819', 'P_554.0_20240819', 'C_554.0_20240819', 'P_555.0_20240819', 'C_555.0_20240819', 'P_556.0_20240819', 'C_556.0_20240819', 'P_557.0_20240819', 'C_557.0_20240819', 'P_558.0_20240819', 'C_558.0_20240819', 'P_559.0_20240819', 'C_559.0_20240819', 'P_560.0_20240819', 'C_560.0_20240819']\n",
      "  -> Short ATM put ENTRY for P_555.0_20240819 at 09:47:00 and price 1.04\n",
      "  -> SPY is 555.22 and strike is 555.0\n",
      "  -> Target EXIT for P_555.0_20240819 at 1.39. Profit: $-3500.00\n",
      "  -> Short ATM put ENTRY for P_555.0_20240819 at 10:27:00 and price 0.97\n",
      "  -> SPY is 555.08 and strike is 555.0\n",
      "  -> Short ATM put ENTRY for P_556.0_20240819 at 10:43:00 and price 1.05\n",
      "  -> SPY is 555.72 and strike is 556.0\n",
      "Stoploss of  -1 side entry was 0.97 in P_555.0_20240819 at 0.41\n",
      "  -> EOD EXIT for P_555.0_20240819 at 0.41. Profit: $5600.00\n",
      "Stoploss of  -1 side entry was 1.05 in P_556.0_20240819 at 0.54\n",
      "  -> EOD EXIT for P_556.0_20240819 at 0.54. Profit: $5100.00\n",
      "\n",
      "--- Processing Day: 2024-08-20 ---\n",
      "Fetching options across 559.65\n"
     ]
    },
    {
     "data": {
      "application/vnd.jupyter.widget-view+json": {
       "model_id": "d3ee2356d5954c0bb6e46b2d4e9d73e1",
       "version_major": 2,
       "version_minor": 0
      },
      "text/plain": [
       "FloatProgress(value=0.0, layout=Layout(width='auto'), style=ProgressStyle(bar_color='black'))"
      ]
     },
     "metadata": {},
     "output_type": "display_data"
    },
    {
     "name": "stdout",
     "output_type": "stream",
     "text": [
      "Total options found for today are: 16\n",
      "\n",
      "--- Phase 2: Preparing Master DataFrame ---\n",
      "✅ Successfully created master DataFrame with 160 total columns.\n",
      "['P_554.0_20240820', 'C_554.0_20240820', 'P_555.0_20240820', 'C_555.0_20240820', 'P_556.0_20240820', 'C_556.0_20240820', 'P_557.0_20240820', 'C_557.0_20240820', 'P_558.0_20240820', 'C_558.0_20240820', 'P_559.0_20240820', 'C_559.0_20240820', 'P_560.0_20240820', 'C_560.0_20240820', 'P_565.0_20240820', 'C_565.0_20240820']\n",
      "  -> Short ATM put ENTRY for P_560.0_20240820 at 09:41:00 and price 1.15\n",
      "  -> SPY is 559.89 and strike is 560.0\n",
      "  -> Target EXIT for P_560.0_20240820 at 1.55. Profit: $-4000.00\n",
      "  -> Short call ENTRY for C_559.0_20240820 at 10:20:00 and price 1.18\n",
      "  -> SPY is 559.08 and strike is 559.0\n",
      "  -> Short ATM put ENTRY for P_559.0_20240820 at 10:54:00 and price 1.15\n",
      "  -> SPY is 558.85 and strike is 559.0\n",
      "  -> Target EXIT for P_559.0_20240820 at 1.43. Profit: $-2800.00\n",
      "Stoploss of  -1 side entry was 1.18 in C_559.0_20240820 at 0.67\n",
      "  -> EOD EXIT for C_559.0_20240820 at 0.67. Profit: $5100.00\n",
      "  -> Short ATM put ENTRY for P_559.0_20240820 at 11:58:00 and price 0.96\n",
      "  -> SPY is 558.99 and strike is 559.0\n",
      "  -> Target EXIT for P_559.0_20240820 at 1.27. Profit: $-3100.00\n",
      "  -> Short ATM put ENTRY for P_558.0_20240820 at 12:27:00 and price 0.72\n",
      "  -> SPY is 558.44 and strike is 558.0\n",
      "  -> Short ATM put ENTRY for P_559.0_20240820 at 12:40:00 and price 1.05\n",
      "  -> SPY is 558.62 and strike is 559.0\n",
      "  -> Target EXIT for P_559.0_20240820 at 1.37. Profit: $-3200.00\n",
      "  -> Target EXIT for P_558.0_20240820 at 1.25. Profit: $-5300.00\n",
      "  -> Short ATM put ENTRY for P_558.0_20240820 at 13:09:00 and price 0.88\n",
      "  -> SPY is 557.94 and strike is 558.0\n",
      "Stoploss of  -1 side entry was 0.88 in P_558.0_20240820 at 0.36\n",
      "  -> EOD EXIT for P_558.0_20240820 at 0.36. Profit: $5200.00\n",
      "  -> Short ATM put ENTRY for P_559.0_20240820 at 14:08:00 and price 0.76\n",
      "  -> SPY is 558.69 and strike is 559.0\n",
      "EOD CLosing of -1 side positon in P_559.0_20240820 at 2024-08-20 15:17:00\n",
      "  -> EOD EXIT for P_559.0_20240820 at 0.49. Profit: $2700.00\n",
      "\n",
      "--- Processing Day: 2024-08-21 ---\n",
      "Fetching options across 559.99\n"
     ]
    },
    {
     "data": {
      "application/vnd.jupyter.widget-view+json": {
       "model_id": "8a53e4cf526d44f0a944a6f966551ece",
       "version_major": 2,
       "version_minor": 0
      },
      "text/plain": [
       "FloatProgress(value=0.0, layout=Layout(width='auto'), style=ProgressStyle(bar_color='black'))"
      ]
     },
     "metadata": {},
     "output_type": "display_data"
    },
    {
     "name": "stdout",
     "output_type": "stream",
     "text": [
      "Total options found for today are: 26\n",
      "\n",
      "--- Phase 2: Preparing Master DataFrame ---\n",
      "✅ Successfully created master DataFrame with 260 total columns.\n",
      "['P_554.0_20240821', 'C_554.0_20240821', 'P_555.0_20240821', 'C_555.0_20240821', 'P_556.0_20240821', 'C_556.0_20240821', 'P_557.0_20240821', 'C_557.0_20240821', 'P_558.0_20240821', 'C_558.0_20240821', 'P_559.0_20240821', 'C_559.0_20240821', 'P_560.0_20240821', 'C_560.0_20240821', 'P_561.0_20240821', 'C_561.0_20240821', 'P_562.0_20240821', 'C_562.0_20240821', 'P_563.0_20240821', 'C_563.0_20240821', 'P_564.0_20240821', 'C_564.0_20240821', 'P_565.0_20240821', 'C_565.0_20240821', 'P_566.0_20240821', 'C_566.0_20240821']\n",
      "  -> Short call ENTRY for C_559.0_20240821 at 10:15:00 and price 1.67\n",
      "  -> SPY is 559.49 and strike is 559.0\n",
      "  -> Target EXIT for C_559.0_20240821 at 1.94. Profit: $-2700.00\n",
      "  -> Short ATM put ENTRY for P_560.0_20240821 at 10:31:00 and price 1.1\n",
      "  -> SPY is 560.34 and strike is 560.0\n",
      "  -> Target EXIT for P_560.0_20240821 at 1.51. Profit: $-4100.00\n",
      "  -> Short ATM put ENTRY for P_559.0_20240821 at 10:59:00 and price 1.09\n",
      "  -> SPY is 559.43 and strike is 559.0\n",
      "  -> Target EXIT for P_559.0_20240821 at 1.42. Profit: $-3300.00\n",
      "  -> Short ATM put ENTRY for P_560.0_20240821 at 11:13:00 and price 1.1\n",
      "  -> SPY is 560.13 and strike is 560.0\n",
      "  -> Short call ENTRY for C_560.0_20240821 at 11:17:00 and price 1.18\n",
      "  -> SPY is 560.1 and strike is 560.0\n",
      "  -> Target EXIT for P_560.0_20240821 at 1.46. Profit: $-3600.00\n",
      "Stoploss of  -1 side entry was 1.18 in C_560.0_20240821 at 0.62\n",
      "  -> EOD EXIT for C_560.0_20240821 at 0.62. Profit: $5600.00\n",
      "  -> Short ATM put ENTRY for P_559.0_20240821 at 12:28:00 and price 0.8\n",
      "  -> SPY is 559.44 and strike is 559.0\n",
      "  -> Short ATM put ENTRY for P_560.0_20240821 at 13:01:00 and price 0.89\n",
      "  -> SPY is 560.07 and strike is 560.0\n",
      "Stoploss of  -1 side entry was 0.8 in P_559.0_20240821 at 0.3\n",
      "  -> EOD EXIT for P_559.0_20240821 at 0.30. Profit: $5000.00\n",
      "Stoploss of  -1 side entry was 0.89 in P_560.0_20240821 at 0.38\n",
      "  -> EOD EXIT for P_560.0_20240821 at 0.38. Profit: $5100.00\n",
      "\n",
      "--- Processing Day: 2024-08-22 ---\n",
      "Fetching options across 562.72\n"
     ]
    },
    {
     "data": {
      "application/vnd.jupyter.widget-view+json": {
       "model_id": "8a32d488d6514b20b2feefb483f4afe5",
       "version_major": 2,
       "version_minor": 0
      },
      "text/plain": [
       "FloatProgress(value=0.0, layout=Layout(width='auto'), style=ProgressStyle(bar_color='black'))"
      ]
     },
     "metadata": {},
     "output_type": "display_data"
    },
    {
     "name": "stdout",
     "output_type": "stream",
     "text": [
      "Total options found for today are: 26\n",
      "\n",
      "--- Phase 2: Preparing Master DataFrame ---\n",
      "✅ Successfully created master DataFrame with 260 total columns.\n",
      "['P_557.0_20240822', 'C_557.0_20240822', 'P_558.0_20240822', 'C_558.0_20240822', 'P_559.0_20240822', 'C_559.0_20240822', 'P_560.0_20240822', 'C_560.0_20240822', 'P_561.0_20240822', 'C_561.0_20240822', 'P_562.0_20240822', 'C_562.0_20240822', 'P_563.0_20240822', 'C_563.0_20240822', 'P_564.0_20240822', 'C_564.0_20240822', 'P_565.0_20240822', 'C_565.0_20240822', 'P_566.0_20240822', 'C_566.0_20240822', 'P_567.0_20240822', 'C_567.0_20240822', 'P_568.0_20240822', 'C_568.0_20240822', 'P_569.0_20240822', 'C_569.0_20240822']\n",
      "  -> Short call ENTRY for C_562.0_20240822 at 09:51:00 and price 1.21\n",
      "  -> SPY is 561.82 and strike is 562.0\n",
      "  -> Target EXIT for C_562.0_20240822 at 1.56. Profit: $-3500.00\n",
      "  -> Short call ENTRY for C_562.0_20240822 at 10:03:00 and price 1.31\n",
      "  -> SPY is 562.14 and strike is 562.0\n",
      "Stoploss of  -1 side entry was 1.31 in C_562.0_20240822 at 0.72\n",
      "  -> EOD EXIT for C_562.0_20240822 at 0.72. Profit: $5900.00\n",
      "  -> Short ATM put ENTRY for P_561.0_20240822 at 10:28:00 and price 1.14\n",
      "  -> SPY is 561.23 and strike is 561.0\n",
      "  -> Target EXIT for P_561.0_20240822 at 1.60. Profit: $-4600.00\n",
      "  -> Short ATM put ENTRY for P_561.0_20240822 at 11:05:00 and price 1.15\n",
      "  -> SPY is 561.01 and strike is 561.0\n",
      "  -> Target EXIT for P_561.0_20240822 at 1.48. Profit: $-3300.00\n",
      "\n",
      "--- Processing Day: 2024-08-23 ---\n",
      "Fetching options across 559.55\n"
     ]
    },
    {
     "data": {
      "application/vnd.jupyter.widget-view+json": {
       "model_id": "515563b72ff84216b438835209f02c4c",
       "version_major": 2,
       "version_minor": 0
      },
      "text/plain": [
       "FloatProgress(value=0.0, layout=Layout(width='auto'), style=ProgressStyle(bar_color='black'))"
      ]
     },
     "metadata": {},
     "output_type": "display_data"
    },
    {
     "name": "stdout",
     "output_type": "stream",
     "text": [
      "Total options found for today are: 26\n",
      "\n",
      "--- Phase 2: Preparing Master DataFrame ---\n",
      "✅ Successfully created master DataFrame with 260 total columns.\n",
      "['P_554.0_20240823', 'C_554.0_20240823', 'P_555.0_20240823', 'C_555.0_20240823', 'P_556.0_20240823', 'C_556.0_20240823', 'P_557.0_20240823', 'C_557.0_20240823', 'P_558.0_20240823', 'C_558.0_20240823', 'P_559.0_20240823', 'C_559.0_20240823', 'P_560.0_20240823', 'C_560.0_20240823', 'P_561.0_20240823', 'C_561.0_20240823', 'P_562.0_20240823', 'C_562.0_20240823', 'P_563.0_20240823', 'C_563.0_20240823', 'P_564.0_20240823', 'C_564.0_20240823', 'P_565.0_20240823', 'C_565.0_20240823', 'P_566.0_20240823', 'C_566.0_20240823']\n",
      "\n",
      "--- Processing Day: 2024-08-26 ---\n",
      "Fetching options across 563.49\n"
     ]
    },
    {
     "data": {
      "application/vnd.jupyter.widget-view+json": {
       "model_id": "d3b4438fdd3c4c31b050c84a409102df",
       "version_major": 2,
       "version_minor": 0
      },
      "text/plain": [
       "FloatProgress(value=0.0, layout=Layout(width='auto'), style=ProgressStyle(bar_color='black'))"
      ]
     },
     "metadata": {},
     "output_type": "display_data"
    },
    {
     "name": "stdout",
     "output_type": "stream",
     "text": [
      "Total options found for today are: 26\n",
      "\n",
      "--- Phase 2: Preparing Master DataFrame ---\n",
      "✅ Successfully created master DataFrame with 260 total columns.\n",
      "['P_557.0_20240826', 'C_557.0_20240826', 'P_558.0_20240826', 'C_558.0_20240826', 'P_559.0_20240826', 'C_559.0_20240826', 'P_560.0_20240826', 'C_560.0_20240826', 'P_561.0_20240826', 'C_561.0_20240826', 'P_562.0_20240826', 'C_562.0_20240826', 'P_563.0_20240826', 'C_563.0_20240826', 'P_564.0_20240826', 'C_564.0_20240826', 'P_565.0_20240826', 'C_565.0_20240826', 'P_566.0_20240826', 'C_566.0_20240826', 'P_567.0_20240826', 'C_567.0_20240826', 'P_568.0_20240826', 'C_568.0_20240826', 'P_569.0_20240826', 'C_569.0_20240826']\n",
      "  -> Short call ENTRY for C_562.0_20240826 at 10:11:00 and price 1.26\n",
      "  -> SPY is 562.1 and strike is 562.0\n",
      "  -> Short ATM put ENTRY for P_562.0_20240826 at 10:27:00 and price 1.12\n",
      "  -> SPY is 562.11 and strike is 562.0\n",
      "  -> Target EXIT for P_562.0_20240826 at 1.41. Profit: $-2900.00\n",
      "Stoploss of  -1 side entry was 1.26 in C_562.0_20240826 at 0.75\n",
      "  -> EOD EXIT for C_562.0_20240826 at 0.75. Profit: $5100.00\n",
      "\n",
      "--- Processing Day: 2024-08-27 ---\n",
      "Fetching options across 561.24\n"
     ]
    },
    {
     "data": {
      "application/vnd.jupyter.widget-view+json": {
       "model_id": "03318da397fe45dc9444eeed14bacb3f",
       "version_major": 2,
       "version_minor": 0
      },
      "text/plain": [
       "FloatProgress(value=0.0, layout=Layout(width='auto'), style=ProgressStyle(bar_color='black'))"
      ]
     },
     "metadata": {},
     "output_type": "display_data"
    },
    {
     "name": "stdout",
     "output_type": "stream",
     "text": [
      "Total options found for today are: 26\n",
      "\n",
      "--- Phase 2: Preparing Master DataFrame ---\n",
      "✅ Successfully created master DataFrame with 260 total columns.\n",
      "['P_555.0_20240827', 'C_555.0_20240827', 'P_556.0_20240827', 'C_556.0_20240827', 'P_557.0_20240827', 'C_557.0_20240827', 'P_558.0_20240827', 'C_558.0_20240827', 'P_559.0_20240827', 'C_559.0_20240827', 'P_560.0_20240827', 'C_560.0_20240827', 'P_561.0_20240827', 'C_561.0_20240827', 'P_562.0_20240827', 'C_562.0_20240827', 'P_563.0_20240827', 'C_563.0_20240827', 'P_564.0_20240827', 'C_564.0_20240827', 'P_565.0_20240827', 'C_565.0_20240827', 'P_566.0_20240827', 'C_566.0_20240827', 'P_567.0_20240827', 'C_567.0_20240827']\n",
      "\n",
      "--- Processing Day: 2024-08-30 ---\n",
      "Fetching options across 558.94\n"
     ]
    },
    {
     "data": {
      "application/vnd.jupyter.widget-view+json": {
       "model_id": "adcf9bfa42c44cb9af09f89b639d9459",
       "version_major": 2,
       "version_minor": 0
      },
      "text/plain": [
       "FloatProgress(value=0.0, layout=Layout(width='auto'), style=ProgressStyle(bar_color='black'))"
      ]
     },
     "metadata": {},
     "output_type": "display_data"
    },
    {
     "name": "stdout",
     "output_type": "stream",
     "text": [
      "Total options found for today are: 26\n",
      "\n",
      "--- Phase 2: Preparing Master DataFrame ---\n",
      "✅ Successfully created master DataFrame with 260 total columns.\n",
      "['P_553.0_20240830', 'C_553.0_20240830', 'P_554.0_20240830', 'C_554.0_20240830', 'P_555.0_20240830', 'C_555.0_20240830', 'P_556.0_20240830', 'C_556.0_20240830', 'P_557.0_20240830', 'C_557.0_20240830', 'P_558.0_20240830', 'C_558.0_20240830', 'P_559.0_20240830', 'C_559.0_20240830', 'P_560.0_20240830', 'C_560.0_20240830', 'P_561.0_20240830', 'C_561.0_20240830', 'P_562.0_20240830', 'C_562.0_20240830', 'P_563.0_20240830', 'C_563.0_20240830', 'P_564.0_20240830', 'C_564.0_20240830', 'P_565.0_20240830', 'C_565.0_20240830']\n",
      "\n",
      "--- Processing Day: 2024-09-03 ---\n",
      "Fetching options across 555.59\n"
     ]
    },
    {
     "data": {
      "application/vnd.jupyter.widget-view+json": {
       "model_id": "60a6c09ab7bc404b89d20f5307a9119a",
       "version_major": 2,
       "version_minor": 0
      },
      "text/plain": [
       "FloatProgress(value=0.0, layout=Layout(width='auto'), style=ProgressStyle(bar_color='black'))"
      ]
     },
     "metadata": {},
     "output_type": "display_data"
    },
    {
     "name": "stdout",
     "output_type": "stream",
     "text": [
      "Total options found for today are: 26\n",
      "\n",
      "--- Phase 2: Preparing Master DataFrame ---\n",
      "✅ Successfully created master DataFrame with 260 total columns.\n",
      "['P_550.0_20240903', 'C_550.0_20240903', 'P_551.0_20240903', 'C_551.0_20240903', 'P_552.0_20240903', 'C_552.0_20240903', 'P_553.0_20240903', 'C_553.0_20240903', 'P_554.0_20240903', 'C_554.0_20240903', 'P_555.0_20240903', 'C_555.0_20240903', 'P_556.0_20240903', 'C_556.0_20240903', 'P_557.0_20240903', 'C_557.0_20240903', 'P_558.0_20240903', 'C_558.0_20240903', 'P_559.0_20240903', 'C_559.0_20240903', 'P_560.0_20240903', 'C_560.0_20240903', 'P_561.0_20240903', 'C_561.0_20240903', 'P_562.0_20240903', 'C_562.0_20240903']\n",
      "  -> Short ATM put ENTRY for P_555.0_20240903 at 13:06:00 and price 1.0\n",
      "  -> SPY is 555.1 and strike is 555.0\n",
      "  -> Target EXIT for P_555.0_20240903 at 1.31. Profit: $-3100.00\n",
      "\n",
      "--- Processing Day: 2024-09-04 ---\n",
      "Fetching options across 551.85\n"
     ]
    },
    {
     "data": {
      "application/vnd.jupyter.widget-view+json": {
       "model_id": "bb2de7595f694545986ed02166671901",
       "version_major": 2,
       "version_minor": 0
      },
      "text/plain": [
       "FloatProgress(value=0.0, layout=Layout(width='auto'), style=ProgressStyle(bar_color='black'))"
      ]
     },
     "metadata": {},
     "output_type": "display_data"
    },
    {
     "name": "stdout",
     "output_type": "stream",
     "text": [
      "Total options found for today are: 26\n",
      "\n",
      "--- Phase 2: Preparing Master DataFrame ---\n",
      "✅ Successfully created master DataFrame with 260 total columns.\n",
      "['P_546.0_20240904', 'C_546.0_20240904', 'P_547.0_20240904', 'C_547.0_20240904', 'P_548.0_20240904', 'C_548.0_20240904', 'P_549.0_20240904', 'C_549.0_20240904', 'P_550.0_20240904', 'C_550.0_20240904', 'P_551.0_20240904', 'C_551.0_20240904', 'P_552.0_20240904', 'C_552.0_20240904', 'P_553.0_20240904', 'C_553.0_20240904', 'P_554.0_20240904', 'C_554.0_20240904', 'P_555.0_20240904', 'C_555.0_20240904', 'P_556.0_20240904', 'C_556.0_20240904', 'P_557.0_20240904', 'C_557.0_20240904', 'P_558.0_20240904', 'C_558.0_20240904']\n",
      "\n",
      "--- Processing Day: 2024-09-05 ---\n",
      "Fetching options across 553.4\n"
     ]
    },
    {
     "data": {
      "application/vnd.jupyter.widget-view+json": {
       "model_id": "6ebda977d1e648fbb342149ffb46b34c",
       "version_major": 2,
       "version_minor": 0
      },
      "text/plain": [
       "FloatProgress(value=0.0, layout=Layout(width='auto'), style=ProgressStyle(bar_color='black'))"
      ]
     },
     "metadata": {},
     "output_type": "display_data"
    },
    {
     "name": "stdout",
     "output_type": "stream",
     "text": [
      "Total options found for today are: 26\n",
      "\n",
      "--- Phase 2: Preparing Master DataFrame ---\n",
      "✅ Successfully created master DataFrame with 260 total columns.\n",
      "['P_547.0_20240905', 'C_547.0_20240905', 'P_548.0_20240905', 'C_548.0_20240905', 'P_549.0_20240905', 'C_549.0_20240905', 'P_550.0_20240905', 'C_550.0_20240905', 'P_551.0_20240905', 'C_551.0_20240905', 'P_552.0_20240905', 'C_552.0_20240905', 'P_553.0_20240905', 'C_553.0_20240905', 'P_554.0_20240905', 'C_554.0_20240905', 'P_555.0_20240905', 'C_555.0_20240905', 'P_556.0_20240905', 'C_556.0_20240905', 'P_557.0_20240905', 'C_557.0_20240905', 'P_558.0_20240905', 'C_558.0_20240905', 'P_559.0_20240905', 'C_559.0_20240905']\n",
      "\n",
      "--- Processing Day: 2024-09-06 ---\n",
      "Fetching options across 549.93\n"
     ]
    },
    {
     "data": {
      "application/vnd.jupyter.widget-view+json": {
       "model_id": "b00e4426fe9644a3a0e677fc49dff4e7",
       "version_major": 2,
       "version_minor": 0
      },
      "text/plain": [
       "FloatProgress(value=0.0, layout=Layout(width='auto'), style=ProgressStyle(bar_color='black'))"
      ]
     },
     "metadata": {},
     "output_type": "display_data"
    },
    {
     "name": "stdout",
     "output_type": "stream",
     "text": [
      "Total options found for today are: 26\n",
      "\n",
      "--- Phase 2: Preparing Master DataFrame ---\n",
      "✅ Successfully created master DataFrame with 260 total columns.\n",
      "['P_544.0_20240906', 'C_544.0_20240906', 'P_545.0_20240906', 'C_545.0_20240906', 'P_546.0_20240906', 'C_546.0_20240906', 'P_547.0_20240906', 'C_547.0_20240906', 'P_548.0_20240906', 'C_548.0_20240906', 'P_549.0_20240906', 'C_549.0_20240906', 'P_550.0_20240906', 'C_550.0_20240906', 'P_551.0_20240906', 'C_551.0_20240906', 'P_552.0_20240906', 'C_552.0_20240906', 'P_553.0_20240906', 'C_553.0_20240906', 'P_554.0_20240906', 'C_554.0_20240906', 'P_555.0_20240906', 'C_555.0_20240906', 'P_556.0_20240906', 'C_556.0_20240906']\n",
      "\n",
      "--- Processing Day: 2024-09-12 ---\n",
      "Fetching options across 553.77\n"
     ]
    },
    {
     "data": {
      "application/vnd.jupyter.widget-view+json": {
       "model_id": "55f3649082de4f8c9f0612f733f1fc1b",
       "version_major": 2,
       "version_minor": 0
      },
      "text/plain": [
       "FloatProgress(value=0.0, layout=Layout(width='auto'), style=ProgressStyle(bar_color='black'))"
      ]
     },
     "metadata": {},
     "output_type": "display_data"
    },
    {
     "name": "stdout",
     "output_type": "stream",
     "text": [
      "Total options found for today are: 26\n",
      "\n",
      "--- Phase 2: Preparing Master DataFrame ---\n",
      "✅ Successfully created master DataFrame with 260 total columns.\n",
      "['P_548.0_20240912', 'C_548.0_20240912', 'P_549.0_20240912', 'C_549.0_20240912', 'P_550.0_20240912', 'C_550.0_20240912', 'P_551.0_20240912', 'C_551.0_20240912', 'P_552.0_20240912', 'C_552.0_20240912', 'P_553.0_20240912', 'C_553.0_20240912', 'P_554.0_20240912', 'C_554.0_20240912', 'P_555.0_20240912', 'C_555.0_20240912', 'P_556.0_20240912', 'C_556.0_20240912', 'P_557.0_20240912', 'C_557.0_20240912', 'P_558.0_20240912', 'C_558.0_20240912', 'P_559.0_20240912', 'C_559.0_20240912', 'P_560.0_20240912', 'C_560.0_20240912']\n",
      "  -> Short call ENTRY for C_555.0_20240912 at 11:41:00 and price 1.55\n",
      "  -> SPY is 555.17 and strike is 555.0\n",
      "  -> Target EXIT for C_555.0_20240912 at 1.82. Profit: $-2700.00\n",
      "\n",
      "--- Processing Day: 2024-09-17 ---\n",
      "Fetching options across 565.23\n",
      "Total options found for today are: 26\n",
      "\n",
      "--- Phase 2: Preparing Master DataFrame ---\n",
      "✅ Successfully created master DataFrame with 260 total columns.\n",
      "['P_559.0_20240917', 'C_559.0_20240917', 'P_560.0_20240917', 'C_560.0_20240917', 'P_561.0_20240917', 'C_561.0_20240917', 'P_562.0_20240917', 'C_562.0_20240917', 'P_563.0_20240917', 'C_563.0_20240917', 'P_564.0_20240917', 'C_564.0_20240917', 'P_565.0_20240917', 'C_565.0_20240917', 'P_566.0_20240917', 'C_566.0_20240917', 'P_567.0_20240917', 'C_567.0_20240917', 'P_568.0_20240917', 'C_568.0_20240917', 'P_569.0_20240917', 'C_569.0_20240917', 'P_570.0_20240917', 'C_570.0_20240917', 'P_571.0_20240917', 'C_571.0_20240917']\n",
      "  -> Short call ENTRY for C_565.0_20240917 at 09:41:00 and price 1.3\n",
      "  -> SPY is 564.69 and strike is 565.0\n",
      "  -> Target EXIT for C_565.0_20240917 at 1.58. Profit: $-2800.00\n",
      "  -> Short call ENTRY for C_565.0_20240917 at 09:50:00 and price 1.3\n",
      "  -> SPY is 564.85 and strike is 565.0\n",
      "  -> Short call ENTRY for C_564.0_20240917 at 09:54:00 and price 1.65\n",
      "  -> SPY is 564.43 and strike is 564.0\n",
      "  -> Target EXIT for C_564.0_20240917 at 1.96. Profit: $-3100.00\n",
      "  -> Target EXIT for C_565.0_20240917 at 1.61. Profit: $-3100.00\n",
      "  -> Short call ENTRY for C_565.0_20240917 at 10:35:00 and price 1.49\n",
      "  -> SPY is 565.47 and strike is 565.0\n",
      "Stoploss of  -1 side entry was 1.49 in C_565.0_20240917 at 0.0\n",
      "  -> EOD EXIT for C_565.0_20240917 at 0.00. Profit: $14900.00\n",
      "\n",
      "--- Processing Day: 2024-09-18 ---\n",
      "Fetching options across 563.7\n",
      "Total options found for today are: 26\n",
      "\n",
      "--- Phase 2: Preparing Master DataFrame ---\n",
      "✅ Successfully created master DataFrame with 260 total columns.\n",
      "['P_558.0_20240918', 'C_558.0_20240918', 'P_559.0_20240918', 'C_559.0_20240918', 'P_560.0_20240918', 'C_560.0_20240918', 'P_561.0_20240918', 'C_561.0_20240918', 'P_562.0_20240918', 'C_562.0_20240918', 'P_563.0_20240918', 'C_563.0_20240918', 'P_564.0_20240918', 'C_564.0_20240918', 'P_565.0_20240918', 'C_565.0_20240918', 'P_566.0_20240918', 'C_566.0_20240918', 'P_567.0_20240918', 'C_567.0_20240918', 'P_568.0_20240918', 'C_568.0_20240918', 'P_569.0_20240918', 'C_569.0_20240918', 'P_570.0_20240918', 'C_570.0_20240918']\n",
      "\n",
      "--- Processing Day: 2024-09-19 ---\n",
      "Fetching options across 571.0\n",
      "Total options found for today are: 26\n",
      "\n",
      "--- Phase 2: Preparing Master DataFrame ---\n",
      "✅ Successfully created master DataFrame with 260 total columns.\n",
      "['P_565.0_20240919', 'C_565.0_20240919', 'P_566.0_20240919', 'C_566.0_20240919', 'P_567.0_20240919', 'C_567.0_20240919', 'P_568.0_20240919', 'C_568.0_20240919', 'P_569.0_20240919', 'C_569.0_20240919', 'P_570.0_20240919', 'C_570.0_20240919', 'P_571.0_20240919', 'C_571.0_20240919', 'P_572.0_20240919', 'C_572.0_20240919', 'P_573.0_20240919', 'C_573.0_20240919', 'P_574.0_20240919', 'C_574.0_20240919', 'P_575.0_20240919', 'C_575.0_20240919', 'P_576.0_20240919', 'C_576.0_20240919', 'P_577.0_20240919', 'C_577.0_20240919']\n",
      "\n",
      "--- Processing Day: 2024-09-20 ---\n",
      "Fetching options across 567.86\n",
      "Total options found for today are: 26\n",
      "\n",
      "--- Phase 2: Preparing Master DataFrame ---\n",
      "✅ Successfully created master DataFrame with 260 total columns.\n",
      "['P_562.0_20240920', 'C_562.0_20240920', 'P_563.0_20240920', 'C_563.0_20240920', 'P_564.0_20240920', 'C_564.0_20240920', 'P_565.0_20240920', 'C_565.0_20240920', 'P_566.0_20240920', 'C_566.0_20240920', 'P_567.0_20240920', 'C_567.0_20240920', 'P_568.0_20240920', 'C_568.0_20240920', 'P_569.0_20240920', 'C_569.0_20240920', 'P_570.0_20240920', 'C_570.0_20240920', 'P_571.0_20240920', 'C_571.0_20240920', 'P_572.0_20240920', 'C_572.0_20240920', 'P_573.0_20240920', 'C_573.0_20240920', 'P_574.0_20240920', 'C_574.0_20240920']\n",
      "  -> Short ATM put ENTRY for P_567.0_20240920 at 10:35:00 and price 1.12\n",
      "  -> SPY is 567.48 and strike is 567.0\n",
      "  -> Target EXIT for P_567.0_20240920 at 1.51. Profit: $-3900.00\n",
      "  -> Short ATM put ENTRY for P_566.0_20240920 at 11:27:00 and price 1.13\n",
      "  -> SPY is 566.15 and strike is 566.0\n",
      "  -> Short ATM put ENTRY for P_567.0_20240920 at 11:43:00 and price 1.14\n",
      "  -> SPY is 567.08 and strike is 567.0\n",
      "Stoploss of  -1 side entry was 1.13 in P_566.0_20240920 at 0.57\n",
      "  -> EOD EXIT for P_566.0_20240920 at 0.57. Profit: $5600.00\n",
      "Stoploss of  -1 side entry was 1.14 in P_567.0_20240920 at 0.63\n",
      "  -> EOD EXIT for P_567.0_20240920 at 0.63. Profit: $5100.00\n",
      "\n",
      "--- Processing Day: 2024-09-23 ---\n",
      "Fetching options across 569.38\n",
      "Total options found for today are: 26\n",
      "\n",
      "--- Phase 2: Preparing Master DataFrame ---\n",
      "✅ Successfully created master DataFrame with 260 total columns.\n",
      "['P_563.0_20240923', 'C_563.0_20240923', 'P_564.0_20240923', 'C_564.0_20240923', 'P_565.0_20240923', 'C_565.0_20240923', 'P_566.0_20240923', 'C_566.0_20240923', 'P_567.0_20240923', 'C_567.0_20240923', 'P_568.0_20240923', 'C_568.0_20240923', 'P_569.0_20240923', 'C_569.0_20240923', 'P_570.0_20240923', 'C_570.0_20240923', 'P_571.0_20240923', 'C_571.0_20240923', 'P_572.0_20240923', 'C_572.0_20240923', 'P_573.0_20240923', 'C_573.0_20240923', 'P_574.0_20240923', 'C_574.0_20240923', 'P_575.0_20240923', 'C_575.0_20240923']\n",
      "  -> Short call ENTRY for C_569.0_20240923 at 09:46:00 and price 1.16\n",
      "  -> SPY is 568.8 and strike is 569.0\n",
      "  -> Short ATM put ENTRY for P_569.0_20240923 at 09:58:00 and price 1.11\n",
      "  -> SPY is 569.1 and strike is 569.0\n",
      "  -> Target EXIT for C_569.0_20240923 at 1.45. Profit: $-2900.00\n",
      "  -> Short call ENTRY for C_569.0_20240923 at 10:37:00 and price 1.21\n",
      "  -> SPY is 569.36 and strike is 569.0\n",
      "Stoploss of  -1 side entry was 1.11 in P_569.0_20240923 at 0.58\n",
      "  -> EOD EXIT for P_569.0_20240923 at 0.58. Profit: $5300.00\n",
      "  -> Target EXIT for C_569.0_20240923 at 1.52. Profit: $-3100.00\n",
      "  -> Short ATM put ENTRY for P_569.0_20240923 at 11:14:00 and price 0.81\n",
      "  -> SPY is 569.31 and strike is 569.0\n",
      "  -> Target EXIT for P_569.0_20240923 at 1.08. Profit: $-2700.00\n",
      "  -> Short ATM put ENTRY for P_569.0_20240923 at 12:26:00 and price 0.77\n",
      "  -> SPY is 569.09 and strike is 569.0\n",
      "  -> Target EXIT for P_569.0_20240923 at 1.04. Profit: $-2700.00\n",
      "  -> Short ATM put ENTRY for P_569.0_20240923 at 12:54:00 and price 0.98\n",
      "  -> SPY is 568.63 and strike is 569.0\n",
      "Stoploss of  -1 side entry was 0.98 in P_569.0_20240923 at 0.47\n",
      "  -> EOD EXIT for P_569.0_20240923 at 0.47. Profit: $5100.00\n",
      "  -> Short ATM put ENTRY for P_569.0_20240923 at 13:52:00 and price 0.49\n",
      "  -> SPY is 569.21 and strike is 569.0\n",
      "EOD CLosing of -1 side positon in P_569.0_20240923 at 2024-09-23 15:17:00\n",
      "  -> EOD EXIT for P_569.0_20240923 at 0.24. Profit: $2500.00\n",
      "\n",
      "--- Processing Day: 2024-09-24 ---\n",
      "Fetching options across 570.21\n",
      "Total options found for today are: 26\n",
      "\n",
      "--- Phase 2: Preparing Master DataFrame ---\n",
      "✅ Successfully created master DataFrame with 260 total columns.\n",
      "['P_564.0_20240924', 'C_564.0_20240924', 'P_565.0_20240924', 'C_565.0_20240924', 'P_566.0_20240924', 'C_566.0_20240924', 'P_567.0_20240924', 'C_567.0_20240924', 'P_568.0_20240924', 'C_568.0_20240924', 'P_569.0_20240924', 'C_569.0_20240924', 'P_570.0_20240924', 'C_570.0_20240924', 'P_571.0_20240924', 'C_571.0_20240924', 'P_572.0_20240924', 'C_572.0_20240924', 'P_573.0_20240924', 'C_573.0_20240924', 'P_574.0_20240924', 'C_574.0_20240924', 'P_575.0_20240924', 'C_575.0_20240924', 'P_576.0_20240924', 'C_576.0_20240924']\n",
      "  -> Short ATM put ENTRY for P_569.0_20240924 at 10:11:00 and price 1.14\n",
      "  -> SPY is 568.85 and strike is 569.0\n",
      "  -> Target EXIT for P_569.0_20240924 at 1.59. Profit: $-4500.00\n",
      "  -> Short ATM put ENTRY for P_568.0_20240924 at 10:46:00 and price 0.83\n",
      "  -> SPY is 568.5 and strike is 568.0\n",
      "  -> Short ATM put ENTRY for P_569.0_20240924 at 10:52:00 and price 1.0\n",
      "  -> SPY is 568.95 and strike is 569.0\n",
      "  -> Short ATM put ENTRY for P_570.0_20240924 at 10:58:00 and price 1.11\n",
      "  -> SPY is 569.54 and strike is 570.0\n",
      "Stoploss of  -1 side entry was 0.83 in P_568.0_20240924 at 0.27\n",
      "  -> EOD EXIT for P_568.0_20240924 at 0.27. Profit: $5600.00\n",
      "Stoploss of  -1 side entry was 1.0 in P_569.0_20240924 at 0.48\n",
      "  -> EOD EXIT for P_569.0_20240924 at 0.48. Profit: $5200.00\n",
      "Stoploss of  -1 side entry was 1.11 in P_570.0_20240924 at 0.5\n",
      "  -> EOD EXIT for P_570.0_20240924 at 0.50. Profit: $6100.00\n",
      "\n",
      "--- Processing Day: 2024-09-25 ---\n",
      "Fetching options across 571.56\n",
      "Total options found for today are: 26\n",
      "\n",
      "--- Phase 2: Preparing Master DataFrame ---\n",
      "✅ Successfully created master DataFrame with 260 total columns.\n",
      "['P_566.0_20240925', 'C_566.0_20240925', 'P_567.0_20240925', 'C_567.0_20240925', 'P_568.0_20240925', 'C_568.0_20240925', 'P_569.0_20240925', 'C_569.0_20240925', 'P_570.0_20240925', 'C_570.0_20240925', 'P_571.0_20240925', 'C_571.0_20240925', 'P_572.0_20240925', 'C_572.0_20240925', 'P_573.0_20240925', 'C_573.0_20240925', 'P_574.0_20240925', 'C_574.0_20240925', 'P_575.0_20240925', 'C_575.0_20240925', 'P_576.0_20240925', 'C_576.0_20240925', 'P_577.0_20240925', 'C_577.0_20240925', 'P_578.0_20240925', 'C_578.0_20240925']\n",
      "  -> Short ATM put ENTRY for P_571.0_20240925 at 09:57:00 and price 0.83\n",
      "  -> SPY is 571.37 and strike is 571.0\n",
      "  -> Short ATM put ENTRY for P_572.0_20240925 at 10:19:00 and price 1.06\n",
      "  -> SPY is 571.73 and strike is 572.0\n",
      "  -> Target EXIT for P_572.0_20240925 at 1.48. Profit: $-4200.00\n",
      "  -> Target EXIT for P_571.0_20240925 at 1.12. Profit: $-2900.00\n",
      "  -> Short ATM put ENTRY for P_570.0_20240925 at 13:53:00 and price 0.89\n",
      "  -> SPY is 569.6 and strike is 570.0\n",
      "Stoploss of  -1 side entry was 0.89 in P_570.0_20240925 at 0.36\n",
      "  -> EOD EXIT for P_570.0_20240925 at 0.36. Profit: $5300.00\n",
      "\n",
      "--- Processing Day: 2024-09-26 ---\n",
      "Fetching options across 574.59\n",
      "Total options found for today are: 26\n",
      "\n",
      "--- Phase 2: Preparing Master DataFrame ---\n",
      "✅ Successfully created master DataFrame with 260 total columns.\n",
      "['P_569.0_20240926', 'C_569.0_20240926', 'P_570.0_20240926', 'C_570.0_20240926', 'P_571.0_20240926', 'C_571.0_20240926', 'P_572.0_20240926', 'C_572.0_20240926', 'P_573.0_20240926', 'C_573.0_20240926', 'P_574.0_20240926', 'C_574.0_20240926', 'P_575.0_20240926', 'C_575.0_20240926', 'P_576.0_20240926', 'C_576.0_20240926', 'P_577.0_20240926', 'C_577.0_20240926', 'P_578.0_20240926', 'C_578.0_20240926', 'P_579.0_20240926', 'C_579.0_20240926', 'P_580.0_20240926', 'C_580.0_20240926', 'P_581.0_20240926', 'C_581.0_20240926']\n",
      "  -> Short ATM put ENTRY for P_572.0_20240926 at 11:46:00 and price 0.87\n",
      "  -> SPY is 571.88 and strike is 572.0\n",
      "  -> Target EXIT for P_572.0_20240926 at 1.16. Profit: $-2900.00\n",
      "  -> Short ATM put ENTRY for P_572.0_20240926 at 14:13:00 and price 0.53\n",
      "  -> SPY is 572.1 and strike is 572.0\n",
      "EOD CLosing of -1 side positon in P_572.0_20240926 at 2024-09-26 15:15:00\n",
      "  -> EOD EXIT for P_572.0_20240926 at 0.21. Profit: $3200.00\n",
      "  ❌ An error occurred on 2024-09-26: 'P_572.0_20240926'\n",
      "\n",
      "--- Processing Day: 2024-09-27 ---\n",
      "Fetching options across 573.4\n",
      "Total options found for today are: 26\n",
      "\n",
      "--- Phase 2: Preparing Master DataFrame ---\n",
      "✅ Successfully created master DataFrame with 260 total columns.\n",
      "['P_567.0_20240927', 'C_567.0_20240927', 'P_568.0_20240927', 'C_568.0_20240927', 'P_569.0_20240927', 'C_569.0_20240927', 'P_570.0_20240927', 'C_570.0_20240927', 'P_571.0_20240927', 'C_571.0_20240927', 'P_572.0_20240927', 'C_572.0_20240927', 'P_573.0_20240927', 'C_573.0_20240927', 'P_574.0_20240927', 'C_574.0_20240927', 'P_575.0_20240927', 'C_575.0_20240927', 'P_576.0_20240927', 'C_576.0_20240927', 'P_577.0_20240927', 'C_577.0_20240927', 'P_578.0_20240927', 'C_578.0_20240927', 'P_579.0_20240927', 'C_579.0_20240927']\n",
      "  -> Short ATM put ENTRY for P_573.0_20240927 at 09:49:00 and price 1.09\n",
      "  -> SPY is 572.9 and strike is 573.0\n",
      "  -> Short ATM put ENTRY for P_574.0_20240927 at 10:22:00 and price 1.13\n",
      "  -> SPY is 573.55 and strike is 574.0\n",
      "Stoploss of  -1 side entry was 1.09 in P_573.0_20240927 at 0.59\n",
      "  -> EOD EXIT for P_573.0_20240927 at 0.59. Profit: $5000.00\n",
      "  -> Short ATM put ENTRY for P_573.0_20240927 at 11:13:00 and price 0.62\n",
      "  -> SPY is 573.49 and strike is 573.0\n",
      "  -> Target EXIT for P_574.0_20240927 at 1.40. Profit: $-2700.00\n",
      "  -> Target EXIT for P_573.0_20240927 at 0.91. Profit: $-2900.00\n",
      "  -> Short ATM put ENTRY for P_573.0_20240927 at 11:56:00 and price 0.86\n",
      "  -> SPY is 572.7 and strike is 573.0\n",
      "  -> Target EXIT for P_573.0_20240927 at 1.13. Profit: $-2700.00\n",
      "  -> Short ATM put ENTRY for P_572.0_20240927 at 12:21:00 and price 0.72\n",
      "  -> SPY is 572.16 and strike is 572.0\n",
      "  -> Short ATM put ENTRY for P_573.0_20240927 at 13:04:00 and price 0.87\n",
      "  -> SPY is 572.59 and strike is 573.0\n",
      "  -> Target EXIT for P_573.0_20240927 at 1.13. Profit: $-2600.00\n",
      "  -> Target EXIT for P_572.0_20240927 at 1.00. Profit: $-2800.00\n",
      "\n",
      "--- Processing Day: 2024-10-01 ---\n",
      "Fetching options across 568.31\n",
      "Total options found for today are: 26\n",
      "\n",
      "--- Phase 2: Preparing Master DataFrame ---\n",
      "✅ Successfully created master DataFrame with 260 total columns.\n",
      "['P_562.0_20241001', 'C_562.0_20241001', 'P_563.0_20241001', 'C_563.0_20241001', 'P_564.0_20241001', 'C_564.0_20241001', 'P_565.0_20241001', 'C_565.0_20241001', 'P_566.0_20241001', 'C_566.0_20241001', 'P_567.0_20241001', 'C_567.0_20241001', 'P_568.0_20241001', 'C_568.0_20241001', 'P_569.0_20241001', 'C_569.0_20241001', 'P_570.0_20241001', 'C_570.0_20241001', 'P_571.0_20241001', 'C_571.0_20241001', 'P_572.0_20241001', 'C_572.0_20241001', 'P_573.0_20241001', 'C_573.0_20241001', 'P_574.0_20241001', 'C_574.0_20241001']\n",
      "\n",
      "--- Processing Day: 2024-10-02 ---\n",
      "Fetching options across 566.9\n"
     ]
    },
    {
     "data": {
      "application/vnd.jupyter.widget-view+json": {
       "model_id": "cc5cef091e6746a9b0485b17754b4c59",
       "version_major": 2,
       "version_minor": 0
      },
      "text/plain": [
       "FloatProgress(value=0.0, layout=Layout(width='auto'), style=ProgressStyle(bar_color='black'))"
      ]
     },
     "metadata": {},
     "output_type": "display_data"
    },
    {
     "name": "stdout",
     "output_type": "stream",
     "text": [
      "Total options found for today are: 26\n",
      "\n",
      "--- Phase 2: Preparing Master DataFrame ---\n",
      "✅ Successfully created master DataFrame with 260 total columns.\n",
      "['P_561.0_20241002', 'C_561.0_20241002', 'P_562.0_20241002', 'C_562.0_20241002', 'P_563.0_20241002', 'C_563.0_20241002', 'P_564.0_20241002', 'C_564.0_20241002', 'P_565.0_20241002', 'C_565.0_20241002', 'P_566.0_20241002', 'C_566.0_20241002', 'P_567.0_20241002', 'C_567.0_20241002', 'P_568.0_20241002', 'C_568.0_20241002', 'P_569.0_20241002', 'C_569.0_20241002', 'P_570.0_20241002', 'C_570.0_20241002', 'P_571.0_20241002', 'C_571.0_20241002', 'P_572.0_20241002', 'C_572.0_20241002', 'P_573.0_20241002', 'C_573.0_20241002']\n",
      "\n",
      "--- Processing Day: 2024-10-03 ---\n",
      "Fetching options across 567.35\n"
     ]
    },
    {
     "data": {
      "application/vnd.jupyter.widget-view+json": {
       "model_id": "f943aa8dc05c4233b7d07bbc6c60603e",
       "version_major": 2,
       "version_minor": 0
      },
      "text/plain": [
       "FloatProgress(value=0.0, layout=Layout(width='auto'), style=ProgressStyle(bar_color='black'))"
      ]
     },
     "metadata": {},
     "output_type": "display_data"
    },
    {
     "name": "stdout",
     "output_type": "stream",
     "text": [
      "Total options found for today are: 26\n",
      "\n",
      "--- Phase 2: Preparing Master DataFrame ---\n",
      "✅ Successfully created master DataFrame with 260 total columns.\n",
      "['P_561.0_20241003', 'C_561.0_20241003', 'P_562.0_20241003', 'C_562.0_20241003', 'P_563.0_20241003', 'C_563.0_20241003', 'P_564.0_20241003', 'C_564.0_20241003', 'P_565.0_20241003', 'C_565.0_20241003', 'P_566.0_20241003', 'C_566.0_20241003', 'P_567.0_20241003', 'C_567.0_20241003', 'P_568.0_20241003', 'C_568.0_20241003', 'P_569.0_20241003', 'C_569.0_20241003', 'P_570.0_20241003', 'C_570.0_20241003', 'P_571.0_20241003', 'C_571.0_20241003', 'P_572.0_20241003', 'C_572.0_20241003', 'P_573.0_20241003', 'C_573.0_20241003']\n",
      "  -> Short ATM put ENTRY for P_567.0_20241003 at 13:49:00 and price 0.99\n",
      "  -> SPY is 566.98 and strike is 567.0\n",
      "EOD CLosing of -1 side positon in P_567.0_20241003 at 2024-10-03 15:16:00\n",
      "  -> EOD EXIT for P_567.0_20241003 at 0.90. Profit: $900.00\n",
      "\n",
      "--- Processing Day: 2024-10-04 ---\n",
      "Fetching options across 570.44\n"
     ]
    },
    {
     "data": {
      "application/vnd.jupyter.widget-view+json": {
       "model_id": "27987e390bb6478393e380dba87076e8",
       "version_major": 2,
       "version_minor": 0
      },
      "text/plain": [
       "FloatProgress(value=0.0, layout=Layout(width='auto'), style=ProgressStyle(bar_color='black'))"
      ]
     },
     "metadata": {},
     "output_type": "display_data"
    },
    {
     "name": "stdout",
     "output_type": "stream",
     "text": [
      "Total options found for today are: 26\n",
      "\n",
      "--- Phase 2: Preparing Master DataFrame ---\n",
      "✅ Successfully created master DataFrame with 260 total columns.\n",
      "['P_564.0_20241004', 'C_564.0_20241004', 'P_565.0_20241004', 'C_565.0_20241004', 'P_566.0_20241004', 'C_566.0_20241004', 'P_567.0_20241004', 'C_567.0_20241004', 'P_568.0_20241004', 'C_568.0_20241004', 'P_569.0_20241004', 'C_569.0_20241004', 'P_570.0_20241004', 'C_570.0_20241004', 'P_571.0_20241004', 'C_571.0_20241004', 'P_572.0_20241004', 'C_572.0_20241004', 'P_573.0_20241004', 'C_573.0_20241004', 'P_574.0_20241004', 'C_574.0_20241004', 'P_575.0_20241004', 'C_575.0_20241004', 'P_576.0_20241004', 'C_576.0_20241004']\n",
      "\n",
      "--- Processing Day: 2024-10-08 ---\n",
      "Fetching options across 572.11\n"
     ]
    },
    {
     "data": {
      "application/vnd.jupyter.widget-view+json": {
       "model_id": "8e39611a566b4f10827b505d7f4011e5",
       "version_major": 2,
       "version_minor": 0
      },
      "text/plain": [
       "FloatProgress(value=0.0, layout=Layout(width='auto'), style=ProgressStyle(bar_color='black'))"
      ]
     },
     "metadata": {},
     "output_type": "display_data"
    },
    {
     "name": "stdout",
     "output_type": "stream",
     "text": [
      "Total options found for today are: 26\n",
      "\n",
      "--- Phase 2: Preparing Master DataFrame ---\n",
      "✅ Successfully created master DataFrame with 260 total columns.\n",
      "['P_566.0_20241008', 'C_566.0_20241008', 'P_567.0_20241008', 'C_567.0_20241008', 'P_568.0_20241008', 'C_568.0_20241008', 'P_569.0_20241008', 'C_569.0_20241008', 'P_570.0_20241008', 'C_570.0_20241008', 'P_571.0_20241008', 'C_571.0_20241008', 'P_572.0_20241008', 'C_572.0_20241008', 'P_573.0_20241008', 'C_573.0_20241008', 'P_574.0_20241008', 'C_574.0_20241008', 'P_575.0_20241008', 'C_575.0_20241008', 'P_576.0_20241008', 'C_576.0_20241008', 'P_577.0_20241008', 'C_577.0_20241008', 'P_578.0_20241008', 'C_578.0_20241008']\n",
      "\n",
      "--- Processing Day: 2024-10-09 ---\n",
      "Fetching options across 572.78\n"
     ]
    },
    {
     "data": {
      "application/vnd.jupyter.widget-view+json": {
       "model_id": "e70331f1bf944e50bd2abb4e0cb55c5d",
       "version_major": 2,
       "version_minor": 0
      },
      "text/plain": [
       "FloatProgress(value=0.0, layout=Layout(width='auto'), style=ProgressStyle(bar_color='black'))"
      ]
     },
     "metadata": {},
     "output_type": "display_data"
    },
    {
     "name": "stdout",
     "output_type": "stream",
     "text": [
      "Total options found for today are: 26\n",
      "\n",
      "--- Phase 2: Preparing Master DataFrame ---\n",
      "✅ Successfully created master DataFrame with 260 total columns.\n",
      "['P_567.0_20241009', 'C_567.0_20241009', 'P_568.0_20241009', 'C_568.0_20241009', 'P_569.0_20241009', 'C_569.0_20241009', 'P_570.0_20241009', 'C_570.0_20241009', 'P_571.0_20241009', 'C_571.0_20241009', 'P_572.0_20241009', 'C_572.0_20241009', 'P_573.0_20241009', 'C_573.0_20241009', 'P_574.0_20241009', 'C_574.0_20241009', 'P_575.0_20241009', 'C_575.0_20241009', 'P_576.0_20241009', 'C_576.0_20241009', 'P_577.0_20241009', 'C_577.0_20241009', 'P_578.0_20241009', 'C_578.0_20241009', 'P_579.0_20241009', 'C_579.0_20241009']\n",
      "  -> Short ATM put ENTRY for P_574.0_20241009 at 10:21:00 and price 1.07\n",
      "  -> SPY is 573.99 and strike is 574.0\n",
      "Stoploss of  -1 side entry was 1.07 in P_574.0_20241009 at 0.57\n",
      "  -> EOD EXIT for P_574.0_20241009 at 0.57. Profit: $5000.00\n",
      "\n",
      "--- Processing Day: 2024-10-10 ---\n",
      "Fetching options across 575.61\n"
     ]
    },
    {
     "data": {
      "application/vnd.jupyter.widget-view+json": {
       "model_id": "49ad59b6e8e94d7dbace58f04e38027e",
       "version_major": 2,
       "version_minor": 0
      },
      "text/plain": [
       "FloatProgress(value=0.0, layout=Layout(width='auto'), style=ProgressStyle(bar_color='black'))"
      ]
     },
     "metadata": {},
     "output_type": "display_data"
    },
    {
     "name": "stdout",
     "output_type": "stream",
     "text": [
      "Total options found for today are: 26\n",
      "\n",
      "--- Phase 2: Preparing Master DataFrame ---\n",
      "✅ Successfully created master DataFrame with 260 total columns.\n",
      "['P_570.0_20241010', 'C_570.0_20241010', 'P_571.0_20241010', 'C_571.0_20241010', 'P_572.0_20241010', 'C_572.0_20241010', 'P_573.0_20241010', 'C_573.0_20241010', 'P_574.0_20241010', 'C_574.0_20241010', 'P_575.0_20241010', 'C_575.0_20241010', 'P_576.0_20241010', 'C_576.0_20241010', 'P_577.0_20241010', 'C_577.0_20241010', 'P_578.0_20241010', 'C_578.0_20241010', 'P_579.0_20241010', 'C_579.0_20241010', 'P_580.0_20241010', 'C_580.0_20241010', 'P_581.0_20241010', 'C_581.0_20241010', 'P_582.0_20241010', 'C_582.0_20241010']\n",
      "  -> Short ATM put ENTRY for P_575.0_20241010 at 11:01:00 and price 0.87\n",
      "  -> SPY is 575.41 and strike is 575.0\n",
      "  -> Short ATM put ENTRY for P_576.0_20241010 at 11:15:00 and price 0.88\n",
      "  -> SPY is 576.27 and strike is 576.0\n",
      "Stoploss of  -1 side entry was 0.87 in P_575.0_20241010 at 0.35\n",
      "  -> EOD EXIT for P_575.0_20241010 at 0.35. Profit: $5200.00\n",
      "Stoploss of  -1 side entry was 0.88 in P_576.0_20241010 at 0.37\n",
      "  -> EOD EXIT for P_576.0_20241010 at 0.37. Profit: $5100.00\n",
      "  -> Short ATM put ENTRY for P_576.0_20241010 at 13:17:00 and price 1.03\n",
      "  -> SPY is 575.62 and strike is 576.0\n",
      "Stoploss of  -1 side entry was 1.03 in P_576.0_20241010 at 0.52\n",
      "  -> EOD EXIT for P_576.0_20241010 at 0.52. Profit: $5100.00\n",
      "\n",
      "--- Processing Day: 2024-10-11 ---\n",
      "Fetching options across 576.74\n"
     ]
    },
    {
     "data": {
      "application/vnd.jupyter.widget-view+json": {
       "model_id": "f49607d75377494e92b9d7a9323064d6",
       "version_major": 2,
       "version_minor": 0
      },
      "text/plain": [
       "FloatProgress(value=0.0, layout=Layout(width='auto'), style=ProgressStyle(bar_color='black'))"
      ]
     },
     "metadata": {},
     "output_type": "display_data"
    },
    {
     "name": "stdout",
     "output_type": "stream",
     "text": [
      "Total options found for today are: 26\n",
      "\n",
      "--- Phase 2: Preparing Master DataFrame ---\n",
      "✅ Successfully created master DataFrame with 260 total columns.\n",
      "['P_571.0_20241011', 'C_571.0_20241011', 'P_572.0_20241011', 'C_572.0_20241011', 'P_573.0_20241011', 'C_573.0_20241011', 'P_574.0_20241011', 'C_574.0_20241011', 'P_575.0_20241011', 'C_575.0_20241011', 'P_576.0_20241011', 'C_576.0_20241011', 'P_577.0_20241011', 'C_577.0_20241011', 'P_578.0_20241011', 'C_578.0_20241011', 'P_579.0_20241011', 'C_579.0_20241011', 'P_580.0_20241011', 'C_580.0_20241011', 'P_581.0_20241011', 'C_581.0_20241011', 'P_582.0_20241011', 'C_582.0_20241011', 'P_583.0_20241011', 'C_583.0_20241011']\n",
      "  -> Short ATM put ENTRY for P_577.0_20241011 at 09:47:00 and price 1.15\n",
      "  -> SPY is 577.03 and strike is 577.0\n",
      "Stoploss of  -1 side entry was 1.15 in P_577.0_20241011 at 0.61\n",
      "  -> EOD EXIT for P_577.0_20241011 at 0.61. Profit: $5400.00\n",
      "\n",
      "--- Processing Day: 2024-10-14 ---\n",
      "Fetching options across 581.26\n"
     ]
    },
    {
     "data": {
      "application/vnd.jupyter.widget-view+json": {
       "model_id": "12673b1883094d719b545eb3ff06c616",
       "version_major": 2,
       "version_minor": 0
      },
      "text/plain": [
       "FloatProgress(value=0.0, layout=Layout(width='auto'), style=ProgressStyle(bar_color='black'))"
      ]
     },
     "metadata": {},
     "output_type": "display_data"
    },
    {
     "name": "stdout",
     "output_type": "stream",
     "text": [
      "Total options found for today are: 26\n",
      "\n",
      "--- Phase 2: Preparing Master DataFrame ---\n",
      "✅ Successfully created master DataFrame with 260 total columns.\n",
      "['P_575.0_20241014', 'C_575.0_20241014', 'P_576.0_20241014', 'C_576.0_20241014', 'P_577.0_20241014', 'C_577.0_20241014', 'P_578.0_20241014', 'C_578.0_20241014', 'P_579.0_20241014', 'C_579.0_20241014', 'P_580.0_20241014', 'C_580.0_20241014', 'P_581.0_20241014', 'C_581.0_20241014', 'P_582.0_20241014', 'C_582.0_20241014', 'P_583.0_20241014', 'C_583.0_20241014', 'P_584.0_20241014', 'C_584.0_20241014', 'P_585.0_20241014', 'C_585.0_20241014', 'P_586.0_20241014', 'C_586.0_20241014', 'P_587.0_20241014', 'C_587.0_20241014']\n",
      "\n",
      "--- Processing Day: 2024-10-15 ---\n",
      "Fetching options across 584.61\n",
      "Total options found for today are: 26\n",
      "\n",
      "--- Phase 2: Preparing Master DataFrame ---\n",
      "✅ Successfully created master DataFrame with 260 total columns.\n",
      "['P_579.0_20241015', 'C_579.0_20241015', 'P_580.0_20241015', 'C_580.0_20241015', 'P_581.0_20241015', 'C_581.0_20241015', 'P_582.0_20241015', 'C_582.0_20241015', 'P_583.0_20241015', 'C_583.0_20241015', 'P_584.0_20241015', 'C_584.0_20241015', 'P_585.0_20241015', 'C_585.0_20241015', 'P_586.0_20241015', 'C_586.0_20241015', 'P_587.0_20241015', 'C_587.0_20241015', 'P_588.0_20241015', 'C_588.0_20241015', 'P_589.0_20241015', 'C_589.0_20241015', 'P_590.0_20241015', 'C_590.0_20241015', 'P_591.0_20241015', 'C_591.0_20241015']\n",
      "  -> Short ATM put ENTRY for P_584.0_20241015 at 09:45:00 and price 0.86\n",
      "  -> SPY is 584.49 and strike is 584.0\n",
      "  -> Short ATM put ENTRY for P_585.0_20241015 at 09:56:00 and price 1.08\n",
      "  -> SPY is 584.82 and strike is 585.0\n",
      "  -> Target EXIT for P_585.0_20241015 at 1.36. Profit: $-2800.00\n",
      "  -> Target EXIT for P_584.0_20241015 at 1.22. Profit: $-3600.00\n",
      "  -> Short ATM put ENTRY for P_582.0_20241015 at 10:45:00 and price 1.09\n",
      "  -> SPY is 581.91 and strike is 582.0\n",
      "  -> Short ATM put ENTRY for P_583.0_20241015 at 10:57:00 and price 1.06\n",
      "  -> SPY is 582.75 and strike is 583.0\n",
      "  -> Target EXIT for P_583.0_20241015 at 1.47. Profit: $-4100.00\n",
      "Stoploss of  -1 side entry was 1.09 in P_582.0_20241015 at 0.59\n",
      "  -> EOD EXIT for P_582.0_20241015 at 0.59. Profit: $5000.00\n",
      "  -> Short ATM put ENTRY for P_583.0_20241015 at 11:18:00 and price 1.01\n",
      "  -> SPY is 582.73 and strike is 583.0\n",
      "  -> Short ATM put ENTRY for P_582.0_20241015 at 11:32:00 and price 0.74\n",
      "  -> SPY is 582.28 and strike is 582.0\n",
      "  -> Target EXIT for P_583.0_20241015 at 1.29. Profit: $-2800.00\n",
      "  -> Target EXIT for P_582.0_20241015 at 1.02. Profit: $-2800.00\n",
      "  -> Short ATM put ENTRY for P_581.0_20241015 at 12:00:00 and price 0.66\n",
      "  -> SPY is 581.48 and strike is 581.0\n",
      "  -> Short ATM put ENTRY for P_582.0_20241015 at 12:10:00 and price 0.8\n",
      "  -> SPY is 582.04 and strike is 582.0\n",
      "  -> Target EXIT for P_582.0_20241015 at 1.07. Profit: $-2700.00\n",
      "  -> Short ATM put ENTRY for P_582.0_20241015 at 13:44:00 and price 0.81\n",
      "  -> SPY is 581.62 and strike is 582.0\n",
      "  -> Target EXIT for P_582.0_20241015 at 1.21. Profit: $-4000.00\n",
      "  -> Target EXIT for P_581.0_20241015 at 0.93. Profit: $-2700.00\n",
      "\n",
      "--- Processing Day: 2024-10-16 ---\n",
      "Fetching options across 579.31\n",
      "Total options found for today are: 26\n",
      "\n",
      "--- Phase 2: Preparing Master DataFrame ---\n",
      "✅ Successfully created master DataFrame with 260 total columns.\n",
      "['P_573.0_20241016', 'C_573.0_20241016', 'P_574.0_20241016', 'C_574.0_20241016', 'P_575.0_20241016', 'C_575.0_20241016', 'P_576.0_20241016', 'C_576.0_20241016', 'P_577.0_20241016', 'C_577.0_20241016', 'P_578.0_20241016', 'C_578.0_20241016', 'P_579.0_20241016', 'C_579.0_20241016', 'P_580.0_20241016', 'C_580.0_20241016', 'P_581.0_20241016', 'C_581.0_20241016', 'P_582.0_20241016', 'C_582.0_20241016', 'P_583.0_20241016', 'C_583.0_20241016', 'P_584.0_20241016', 'C_584.0_20241016', 'P_585.0_20241016', 'C_585.0_20241016']\n",
      "  -> Short ATM put ENTRY for P_580.0_20241016 at 10:07:00 and price 1.11\n",
      "  -> SPY is 579.93 and strike is 580.0\n",
      "Stoploss of  -1 side entry was 1.11 in P_580.0_20241016 at 0.59\n",
      "  -> EOD EXIT for P_580.0_20241016 at 0.59. Profit: $5200.00\n",
      "  -> Short ATM put ENTRY for P_581.0_20241016 at 10:26:00 and price 0.98\n",
      "  -> SPY is 581.1 and strike is 581.0\n",
      "  -> Target EXIT for P_581.0_20241016 at 1.44. Profit: $-4600.00\n",
      "  -> Short ATM put ENTRY for P_580.0_20241016 at 10:50:00 and price 1.05\n",
      "  -> SPY is 579.87 and strike is 580.0\n",
      "  -> Short ATM put ENTRY for P_581.0_20241016 at 11:16:00 and price 1.12\n",
      "  -> SPY is 580.52 and strike is 581.0\n",
      "Stoploss of  -1 side entry was 1.05 in P_580.0_20241016 at 0.53\n",
      "  -> EOD EXIT for P_580.0_20241016 at 0.53. Profit: $5200.00\n",
      "  -> Short ATM put ENTRY for P_580.0_20241016 at 11:54:00 and price 0.73\n",
      "  -> SPY is 580.23 and strike is 580.0\n",
      "Stoploss of  -1 side entry was 1.12 in P_581.0_20241016 at 0.62\n",
      "  -> EOD EXIT for P_581.0_20241016 at 0.62. Profit: $5000.00\n",
      "  -> Short ATM put ENTRY for P_581.0_20241016 at 12:58:00 and price 0.6\n",
      "  -> SPY is 581.28 and strike is 581.0\n",
      "Stoploss of  -1 side entry was 0.73 in P_580.0_20241016 at 0.21\n",
      "  -> EOD EXIT for P_580.0_20241016 at 0.21. Profit: $5200.00\n",
      "Stoploss of  -1 side entry was 0.6 in P_581.0_20241016 at 0.09\n",
      "  -> EOD EXIT for P_581.0_20241016 at 0.09. Profit: $5100.00\n",
      "\n",
      "--- Processing Day: 2024-10-17 ---\n",
      "Fetching options across 585.89\n",
      "Total options found for today are: 26\n",
      "\n",
      "--- Phase 2: Preparing Master DataFrame ---\n",
      "✅ Successfully created master DataFrame with 260 total columns.\n",
      "['P_580.0_20241017', 'C_580.0_20241017', 'P_581.0_20241017', 'C_581.0_20241017', 'P_582.0_20241017', 'C_582.0_20241017', 'P_583.0_20241017', 'C_583.0_20241017', 'P_584.0_20241017', 'C_584.0_20241017', 'P_585.0_20241017', 'C_585.0_20241017', 'P_586.0_20241017', 'C_586.0_20241017', 'P_587.0_20241017', 'C_587.0_20241017', 'P_588.0_20241017', 'C_588.0_20241017', 'P_589.0_20241017', 'C_589.0_20241017', 'P_590.0_20241017', 'C_590.0_20241017', 'P_591.0_20241017', 'C_591.0_20241017', 'P_592.0_20241017', 'C_592.0_20241017']\n",
      "  -> Short ATM put ENTRY for P_584.0_20241017 at 09:47:00 and price 1.04\n",
      "  -> SPY is 584.38 and strike is 584.0\n",
      "  -> Short call ENTRY for C_584.0_20241017 at 09:47:00 and price 1.41\n",
      "  -> SPY is 584.38 and strike is 584.0\n",
      "  -> Target EXIT for P_584.0_20241017 at 1.42. Profit: $-3800.00\n",
      "Stoploss of  -1 side entry was 1.41 in C_584.0_20241017 at 0.9\n",
      "  -> EOD EXIT for C_584.0_20241017 at 0.90. Profit: $5100.00\n",
      "  -> Short ATM put ENTRY for P_583.0_20241017 at 10:13:00 and price 0.99\n",
      "  -> SPY is 583.41 and strike is 583.0\n",
      "  -> Short ATM put ENTRY for P_584.0_20241017 at 10:23:00 and price 1.11\n",
      "  -> SPY is 583.96 and strike is 584.0\n",
      "  -> Target EXIT for P_584.0_20241017 at 1.48. Profit: $-3700.00\n",
      "  -> Target EXIT for P_583.0_20241017 at 1.31. Profit: $-3200.00\n",
      "  -> Short ATM put ENTRY for P_583.0_20241017 at 11:15:00 and price 0.78\n",
      "  -> SPY is 583.48 and strike is 583.0\n",
      "  -> Short ATM put ENTRY for P_584.0_20241017 at 11:31:00 and price 0.85\n",
      "  -> SPY is 584.14 and strike is 584.0\n",
      "Stoploss of  -1 side entry was 0.78 in P_583.0_20241017 at 0.27\n",
      "  -> EOD EXIT for P_583.0_20241017 at 0.27. Profit: $5100.00\n",
      "Stoploss of  -1 side entry was 0.85 in P_584.0_20241017 at 0.34\n",
      "  -> EOD EXIT for P_584.0_20241017 at 0.34. Profit: $5100.00\n",
      "\n",
      "--- Processing Day: 2024-10-18 ---\n",
      "Fetching options across 583.12\n"
     ]
    },
    {
     "data": {
      "application/vnd.jupyter.widget-view+json": {
       "model_id": "ef0a397b2b9e4e209f2625515eb19d31",
       "version_major": 2,
       "version_minor": 0
      },
      "text/plain": [
       "FloatProgress(value=0.0, layout=Layout(width='auto'), style=ProgressStyle(bar_color='black'))"
      ]
     },
     "metadata": {},
     "output_type": "display_data"
    },
    {
     "name": "stdout",
     "output_type": "stream",
     "text": [
      "Total options found for today are: 26\n",
      "\n",
      "--- Phase 2: Preparing Master DataFrame ---\n",
      "✅ Successfully created master DataFrame with 260 total columns.\n",
      "['P_577.0_20241018', 'C_577.0_20241018', 'P_578.0_20241018', 'C_578.0_20241018', 'P_579.0_20241018', 'C_579.0_20241018', 'P_580.0_20241018', 'C_580.0_20241018', 'P_581.0_20241018', 'C_581.0_20241018', 'P_582.0_20241018', 'C_582.0_20241018', 'P_583.0_20241018', 'C_583.0_20241018', 'P_584.0_20241018', 'C_584.0_20241018', 'P_585.0_20241018', 'C_585.0_20241018', 'P_586.0_20241018', 'C_586.0_20241018', 'P_587.0_20241018', 'C_587.0_20241018', 'P_588.0_20241018', 'C_588.0_20241018', 'P_589.0_20241018', 'C_589.0_20241018']\n",
      "  -> Short ATM put ENTRY for P_583.0_20241018 at 10:04:00 and price 0.82\n",
      "  -> SPY is 583.4 and strike is 583.0\n",
      "Stoploss of  -1 side entry was 0.82 in P_583.0_20241018 at 0.31\n",
      "  -> EOD EXIT for P_583.0_20241018 at 0.31. Profit: $5100.00\n",
      "  -> Short ATM put ENTRY for P_584.0_20241018 at 11:42:00 and price 0.66\n",
      "  -> SPY is 584.16 and strike is 584.0\n",
      "Stoploss of  -1 side entry was 0.66 in P_584.0_20241018 at 0.16\n",
      "  -> EOD EXIT for P_584.0_20241018 at 0.16. Profit: $5000.00\n",
      "\n",
      "--- Processing Day: 2024-10-21 ---\n",
      "Fetching options across 584.62\n"
     ]
    },
    {
     "data": {
      "application/vnd.jupyter.widget-view+json": {
       "model_id": "c75525835b6e4237980c20c943e45b74",
       "version_major": 2,
       "version_minor": 0
      },
      "text/plain": [
       "FloatProgress(value=0.0, layout=Layout(width='auto'), style=ProgressStyle(bar_color='black'))"
      ]
     },
     "metadata": {},
     "output_type": "display_data"
    },
    {
     "name": "stdout",
     "output_type": "stream",
     "text": [
      "Total options found for today are: 26\n",
      "\n",
      "--- Phase 2: Preparing Master DataFrame ---\n",
      "✅ Successfully created master DataFrame with 260 total columns.\n",
      "['P_579.0_20241021', 'C_579.0_20241021', 'P_580.0_20241021', 'C_580.0_20241021', 'P_581.0_20241021', 'C_581.0_20241021', 'P_582.0_20241021', 'C_582.0_20241021', 'P_583.0_20241021', 'C_583.0_20241021', 'P_584.0_20241021', 'C_584.0_20241021', 'P_585.0_20241021', 'C_585.0_20241021', 'P_586.0_20241021', 'C_586.0_20241021', 'P_587.0_20241021', 'C_587.0_20241021', 'P_588.0_20241021', 'C_588.0_20241021', 'P_589.0_20241021', 'C_589.0_20241021', 'P_590.0_20241021', 'C_590.0_20241021', 'P_591.0_20241021', 'C_591.0_20241021']\n",
      "  -> Short ATM put ENTRY for P_582.0_20241021 at 11:49:00 and price 0.97\n",
      "  -> SPY is 581.73 and strike is 582.0\n",
      "Stoploss of  -1 side entry was 0.97 in P_582.0_20241021 at 0.43\n",
      "  -> EOD EXIT for P_582.0_20241021 at 0.43. Profit: $5400.00\n",
      "\n",
      "--- Processing Day: 2024-10-22 ---\n",
      "Fetching options across 580.81\n"
     ]
    },
    {
     "data": {
      "application/vnd.jupyter.widget-view+json": {
       "model_id": "9f5bfa6d3c764c51abd671e5ba9c504a",
       "version_major": 2,
       "version_minor": 0
      },
      "text/plain": [
       "FloatProgress(value=0.0, layout=Layout(width='auto'), style=ProgressStyle(bar_color='black'))"
      ]
     },
     "metadata": {},
     "output_type": "display_data"
    },
    {
     "name": "stdout",
     "output_type": "stream",
     "text": [
      "Total options found for today are: 26\n",
      "\n",
      "--- Phase 2: Preparing Master DataFrame ---\n",
      "✅ Successfully created master DataFrame with 260 total columns.\n",
      "['P_575.0_20241022', 'C_575.0_20241022', 'P_576.0_20241022', 'C_576.0_20241022', 'P_577.0_20241022', 'C_577.0_20241022', 'P_578.0_20241022', 'C_578.0_20241022', 'P_579.0_20241022', 'C_579.0_20241022', 'P_580.0_20241022', 'C_580.0_20241022', 'P_581.0_20241022', 'C_581.0_20241022', 'P_582.0_20241022', 'C_582.0_20241022', 'P_583.0_20241022', 'C_583.0_20241022', 'P_584.0_20241022', 'C_584.0_20241022', 'P_585.0_20241022', 'C_585.0_20241022', 'P_586.0_20241022', 'C_586.0_20241022', 'P_587.0_20241022', 'C_587.0_20241022']\n",
      "  -> Short ATM put ENTRY for P_582.0_20241022 at 10:09:00 and price 1.12\n",
      "  -> SPY is 581.85 and strike is 582.0\n",
      "  -> Target EXIT for P_582.0_20241022 at 1.38. Profit: $-2600.00\n",
      "  -> Short ATM put ENTRY for P_581.0_20241022 at 10:51:00 and price 0.71\n",
      "  -> SPY is 581.43 and strike is 581.0\n",
      "  -> Short ATM put ENTRY for P_582.0_20241022 at 10:53:00 and price 0.96\n",
      "  -> SPY is 581.81 and strike is 582.0\n",
      "Stoploss of  -1 side entry was 0.71 in P_581.0_20241022 at 0.2\n",
      "  -> EOD EXIT for P_581.0_20241022 at 0.20. Profit: $5100.00\n",
      "Stoploss of  -1 side entry was 0.96 in P_582.0_20241022 at 0.44\n",
      "  -> EOD EXIT for P_582.0_20241022 at 0.44. Profit: $5200.00\n",
      "\n",
      "--- Processing Day: 2024-10-23 ---\n",
      "Fetching options across 581.19\n"
     ]
    },
    {
     "data": {
      "application/vnd.jupyter.widget-view+json": {
       "model_id": "004fee6d0fd340ab89e40e17b8a34373",
       "version_major": 2,
       "version_minor": 0
      },
      "text/plain": [
       "FloatProgress(value=0.0, layout=Layout(width='auto'), style=ProgressStyle(bar_color='black'))"
      ]
     },
     "metadata": {},
     "output_type": "display_data"
    },
    {
     "name": "stdout",
     "output_type": "stream",
     "text": [
      "Total options found for today are: 26\n",
      "\n",
      "--- Phase 2: Preparing Master DataFrame ---\n",
      "✅ Successfully created master DataFrame with 260 total columns.\n",
      "['P_575.0_20241023', 'C_575.0_20241023', 'P_576.0_20241023', 'C_576.0_20241023', 'P_577.0_20241023', 'C_577.0_20241023', 'P_578.0_20241023', 'C_578.0_20241023', 'P_579.0_20241023', 'C_579.0_20241023', 'P_580.0_20241023', 'C_580.0_20241023', 'P_581.0_20241023', 'C_581.0_20241023', 'P_582.0_20241023', 'C_582.0_20241023', 'P_583.0_20241023', 'C_583.0_20241023', 'P_584.0_20241023', 'C_584.0_20241023', 'P_585.0_20241023', 'C_585.0_20241023', 'P_586.0_20241023', 'C_586.0_20241023', 'P_587.0_20241023', 'C_587.0_20241023']\n",
      "  -> Short ATM put ENTRY for P_580.0_20241023 at 11:58:00 and price 1.14\n",
      "  -> SPY is 579.69 and strike is 580.0\n",
      "  -> Target EXIT for P_580.0_20241023 at 1.59. Profit: $-4500.00\n",
      "  -> Short ATM put ENTRY for P_578.0_20241023 at 12:35:00 and price 0.87\n",
      "  -> SPY is 578.27 and strike is 578.0\n",
      "  -> Target EXIT for P_578.0_20241023 at 1.17. Profit: $-3000.00\n",
      "\n",
      "--- Processing Day: 2024-10-24 ---\n",
      "Fetching options across 578.9\n"
     ]
    },
    {
     "data": {
      "application/vnd.jupyter.widget-view+json": {
       "model_id": "a4b5beaf3d2a47c08ca5e823374fb770",
       "version_major": 2,
       "version_minor": 0
      },
      "text/plain": [
       "FloatProgress(value=0.0, layout=Layout(width='auto'), style=ProgressStyle(bar_color='black'))"
      ]
     },
     "metadata": {},
     "output_type": "display_data"
    },
    {
     "name": "stdout",
     "output_type": "stream",
     "text": [
      "Total options found for today are: 26\n",
      "\n",
      "--- Phase 2: Preparing Master DataFrame ---\n",
      "✅ Successfully created master DataFrame with 260 total columns.\n",
      "['P_573.0_20241024', 'C_573.0_20241024', 'P_574.0_20241024', 'C_574.0_20241024', 'P_575.0_20241024', 'C_575.0_20241024', 'P_576.0_20241024', 'C_576.0_20241024', 'P_577.0_20241024', 'C_577.0_20241024', 'P_578.0_20241024', 'C_578.0_20241024', 'P_579.0_20241024', 'C_579.0_20241024', 'P_580.0_20241024', 'C_580.0_20241024', 'P_581.0_20241024', 'C_581.0_20241024', 'P_582.0_20241024', 'C_582.0_20241024', 'P_583.0_20241024', 'C_583.0_20241024', 'P_584.0_20241024', 'C_584.0_20241024', 'P_585.0_20241024', 'C_585.0_20241024']\n",
      "  -> Short ATM put ENTRY for P_578.0_20241024 at 11:46:00 and price 0.97\n",
      "  -> SPY is 578.13 and strike is 578.0\n",
      "  -> Target EXIT for P_578.0_20241024 at 1.53. Profit: $-5600.00\n",
      "  -> Short ATM put ENTRY for P_578.0_20241024 at 11:56:00 and price 1.06\n",
      "  -> SPY is 577.91 and strike is 578.0\n",
      "  -> Target EXIT for P_578.0_20241024 at 1.37. Profit: $-3100.00\n",
      "  -> Short ATM put ENTRY for P_577.0_20241024 at 12:23:00 and price 0.88\n",
      "  -> SPY is 577.35 and strike is 577.0\n",
      "  -> Short ATM put ENTRY for P_578.0_20241024 at 12:27:00 and price 1.15\n",
      "  -> SPY is 577.69 and strike is 578.0\n",
      "Stoploss of  -1 side entry was 0.88 in P_577.0_20241024 at 0.34\n",
      "  -> EOD EXIT for P_577.0_20241024 at 0.34. Profit: $5400.00\n",
      "Stoploss of  -1 side entry was 1.15 in P_578.0_20241024 at 0.59\n",
      "  -> EOD EXIT for P_578.0_20241024 at 0.59. Profit: $5600.00\n",
      "\n",
      "--- Processing Day: 2024-10-25 ---\n",
      "Fetching options across 582.74\n"
     ]
    },
    {
     "data": {
      "application/vnd.jupyter.widget-view+json": {
       "model_id": "e9dd7cba5d62485e80628213bf409795",
       "version_major": 2,
       "version_minor": 0
      },
      "text/plain": [
       "FloatProgress(value=0.0, layout=Layout(width='auto'), style=ProgressStyle(bar_color='black'))"
      ]
     },
     "metadata": {},
     "output_type": "display_data"
    },
    {
     "name": "stdout",
     "output_type": "stream",
     "text": [
      "Total options found for today are: 26\n",
      "\n",
      "--- Phase 2: Preparing Master DataFrame ---\n",
      "✅ Successfully created master DataFrame with 260 total columns.\n",
      "['P_577.0_20241025', 'C_577.0_20241025', 'P_578.0_20241025', 'C_578.0_20241025', 'P_579.0_20241025', 'C_579.0_20241025', 'P_580.0_20241025', 'C_580.0_20241025', 'P_581.0_20241025', 'C_581.0_20241025', 'P_582.0_20241025', 'C_582.0_20241025', 'P_583.0_20241025', 'C_583.0_20241025', 'P_584.0_20241025', 'C_584.0_20241025', 'P_585.0_20241025', 'C_585.0_20241025', 'P_586.0_20241025', 'C_586.0_20241025', 'P_587.0_20241025', 'C_587.0_20241025', 'P_588.0_20241025', 'C_588.0_20241025', 'P_589.0_20241025', 'C_589.0_20241025']\n",
      "  -> Short ATM put ENTRY for P_580.0_20241025 at 13:50:00 and price 1.02\n",
      "  -> SPY is 579.9 and strike is 580.0\n",
      "  -> Target EXIT for P_580.0_20241025 at 1.31. Profit: $-2900.00\n",
      "\n",
      "--- Processing Day: 2024-10-28 ---\n",
      "Fetching options across 582.42\n"
     ]
    },
    {
     "data": {
      "application/vnd.jupyter.widget-view+json": {
       "model_id": "287ba4d3a0754f4da187c9b406e8c1f3",
       "version_major": 2,
       "version_minor": 0
      },
      "text/plain": [
       "FloatProgress(value=0.0, layout=Layout(width='auto'), style=ProgressStyle(bar_color='black'))"
      ]
     },
     "metadata": {},
     "output_type": "display_data"
    },
    {
     "name": "stdout",
     "output_type": "stream",
     "text": [
      "Total options found for today are: 26\n",
      "\n",
      "--- Phase 2: Preparing Master DataFrame ---\n",
      "✅ Successfully created master DataFrame with 260 total columns.\n",
      "['P_576.0_20241028', 'C_576.0_20241028', 'P_577.0_20241028', 'C_577.0_20241028', 'P_578.0_20241028', 'C_578.0_20241028', 'P_579.0_20241028', 'C_579.0_20241028', 'P_580.0_20241028', 'C_580.0_20241028', 'P_581.0_20241028', 'C_581.0_20241028', 'P_582.0_20241028', 'C_582.0_20241028', 'P_583.0_20241028', 'C_583.0_20241028', 'P_584.0_20241028', 'C_584.0_20241028', 'P_585.0_20241028', 'C_585.0_20241028', 'P_586.0_20241028', 'C_586.0_20241028', 'P_587.0_20241028', 'C_587.0_20241028', 'P_588.0_20241028', 'C_588.0_20241028']\n",
      "\n",
      "--- Processing Day: 2024-10-29 ---\n",
      "Fetching options across 579.91\n"
     ]
    },
    {
     "data": {
      "application/vnd.jupyter.widget-view+json": {
       "model_id": "b3fb6337741f495ba191fe7e75450084",
       "version_major": 2,
       "version_minor": 0
      },
      "text/plain": [
       "FloatProgress(value=0.0, layout=Layout(width='auto'), style=ProgressStyle(bar_color='black'))"
      ]
     },
     "metadata": {},
     "output_type": "display_data"
    },
    {
     "name": "stdout",
     "output_type": "stream",
     "text": [
      "Total options found for today are: 26\n",
      "\n",
      "--- Phase 2: Preparing Master DataFrame ---\n",
      "✅ Successfully created master DataFrame with 260 total columns.\n",
      "['P_574.0_20241029', 'C_574.0_20241029', 'P_575.0_20241029', 'C_575.0_20241029', 'P_576.0_20241029', 'C_576.0_20241029', 'P_577.0_20241029', 'C_577.0_20241029', 'P_578.0_20241029', 'C_578.0_20241029', 'P_579.0_20241029', 'C_579.0_20241029', 'P_580.0_20241029', 'C_580.0_20241029', 'P_581.0_20241029', 'C_581.0_20241029', 'P_582.0_20241029', 'C_582.0_20241029', 'P_583.0_20241029', 'C_583.0_20241029', 'P_584.0_20241029', 'C_584.0_20241029', 'P_585.0_20241029', 'C_585.0_20241029', 'P_586.0_20241029', 'C_586.0_20241029']\n",
      "\n",
      "--- Processing Day: 2024-10-30 ---\n",
      "Fetching options across 579.76\n"
     ]
    },
    {
     "data": {
      "application/vnd.jupyter.widget-view+json": {
       "model_id": "c3c015d9df454cdca24398862f6767c2",
       "version_major": 2,
       "version_minor": 0
      },
      "text/plain": [
       "FloatProgress(value=0.0, layout=Layout(width='auto'), style=ProgressStyle(bar_color='black'))"
      ]
     },
     "metadata": {},
     "output_type": "display_data"
    },
    {
     "name": "stdout",
     "output_type": "stream",
     "text": [
      "Total options found for today are: 26\n",
      "\n",
      "--- Phase 2: Preparing Master DataFrame ---\n",
      "✅ Successfully created master DataFrame with 260 total columns.\n",
      "['P_574.0_20241030', 'C_574.0_20241030', 'P_575.0_20241030', 'C_575.0_20241030', 'P_576.0_20241030', 'C_576.0_20241030', 'P_577.0_20241030', 'C_577.0_20241030', 'P_578.0_20241030', 'C_578.0_20241030', 'P_579.0_20241030', 'C_579.0_20241030', 'P_580.0_20241030', 'C_580.0_20241030', 'P_581.0_20241030', 'C_581.0_20241030', 'P_582.0_20241030', 'C_582.0_20241030', 'P_583.0_20241030', 'C_583.0_20241030', 'P_584.0_20241030', 'C_584.0_20241030', 'P_585.0_20241030', 'C_585.0_20241030', 'P_586.0_20241030', 'C_586.0_20241030']\n",
      "\n",
      "--- Processing Day: 2024-11-05 ---\n",
      "Fetching options across 574.2\n"
     ]
    },
    {
     "data": {
      "application/vnd.jupyter.widget-view+json": {
       "model_id": "c590bd1a17294b669785efa35154cec7",
       "version_major": 2,
       "version_minor": 0
      },
      "text/plain": [
       "FloatProgress(value=0.0, layout=Layout(width='auto'), style=ProgressStyle(bar_color='black'))"
      ]
     },
     "metadata": {},
     "output_type": "display_data"
    },
    {
     "name": "stdout",
     "output_type": "stream",
     "text": [
      "Total options found for today are: 26\n",
      "\n",
      "--- Phase 2: Preparing Master DataFrame ---\n",
      "✅ Successfully created master DataFrame with 260 total columns.\n",
      "['P_568.0_20241105', 'C_568.0_20241105', 'P_569.0_20241105', 'C_569.0_20241105', 'P_570.0_20241105', 'C_570.0_20241105', 'P_571.0_20241105', 'C_571.0_20241105', 'P_572.0_20241105', 'C_572.0_20241105', 'P_573.0_20241105', 'C_573.0_20241105', 'P_574.0_20241105', 'C_574.0_20241105', 'P_575.0_20241105', 'C_575.0_20241105', 'P_576.0_20241105', 'C_576.0_20241105', 'P_577.0_20241105', 'C_577.0_20241105', 'P_578.0_20241105', 'C_578.0_20241105', 'P_579.0_20241105', 'C_579.0_20241105', 'P_580.0_20241105', 'C_580.0_20241105']\n",
      "\n",
      "--- Processing Day: 2024-11-07 ---\n",
      "Fetching options across 593.07\n"
     ]
    },
    {
     "data": {
      "application/vnd.jupyter.widget-view+json": {
       "model_id": "1c52d2e550114fd9ad11977b7b346513",
       "version_major": 2,
       "version_minor": 0
      },
      "text/plain": [
       "FloatProgress(value=0.0, layout=Layout(width='auto'), style=ProgressStyle(bar_color='black'))"
      ]
     },
     "metadata": {},
     "output_type": "display_data"
    },
    {
     "name": "stdout",
     "output_type": "stream",
     "text": [
      "Total options found for today are: 26\n",
      "\n",
      "--- Phase 2: Preparing Master DataFrame ---\n",
      "✅ Successfully created master DataFrame with 260 total columns.\n",
      "['P_587.0_20241107', 'C_587.0_20241107', 'P_588.0_20241107', 'C_588.0_20241107', 'P_589.0_20241107', 'C_589.0_20241107', 'P_590.0_20241107', 'C_590.0_20241107', 'P_591.0_20241107', 'C_591.0_20241107', 'P_592.0_20241107', 'C_592.0_20241107', 'P_593.0_20241107', 'C_593.0_20241107', 'P_594.0_20241107', 'C_594.0_20241107', 'P_595.0_20241107', 'C_595.0_20241107', 'P_596.0_20241107', 'C_596.0_20241107', 'P_597.0_20241107', 'C_597.0_20241107', 'P_598.0_20241107', 'C_598.0_20241107', 'P_599.0_20241107', 'C_599.0_20241107']\n",
      "  -> Short call ENTRY for C_594.0_20241107 at 11:16:00 and price 1.64\n",
      "  -> SPY is 594.31 and strike is 594.0\n",
      "  -> Target EXIT for C_594.0_20241107 at 1.93. Profit: $-2900.00\n",
      "  -> Short call ENTRY for C_595.0_20241107 at 13:23:00 and price 1.3\n",
      "  -> SPY is 594.85 and strike is 595.0\n",
      "Stoploss of  -1 side entry was 1.3 in C_595.0_20241107 at 0.63\n",
      "  -> EOD EXIT for C_595.0_20241107 at 0.63. Profit: $6700.00\n",
      "\n",
      "--- Processing Day: 2024-11-08 ---\n",
      "Fetching options across 596.21\n"
     ]
    },
    {
     "data": {
      "application/vnd.jupyter.widget-view+json": {
       "model_id": "45a77d482721476c80de982772245619",
       "version_major": 2,
       "version_minor": 0
      },
      "text/plain": [
       "FloatProgress(value=0.0, layout=Layout(width='auto'), style=ProgressStyle(bar_color='black'))"
      ]
     },
     "metadata": {},
     "output_type": "display_data"
    },
    {
     "name": "stdout",
     "output_type": "stream",
     "text": [
      "Total options found for today are: 26\n",
      "\n",
      "--- Phase 2: Preparing Master DataFrame ---\n",
      "✅ Successfully created master DataFrame with 260 total columns.\n",
      "['P_590.0_20241108', 'C_590.0_20241108', 'P_591.0_20241108', 'C_591.0_20241108', 'P_592.0_20241108', 'C_592.0_20241108', 'P_593.0_20241108', 'C_593.0_20241108', 'P_594.0_20241108', 'C_594.0_20241108', 'P_595.0_20241108', 'C_595.0_20241108', 'P_596.0_20241108', 'C_596.0_20241108', 'P_597.0_20241108', 'C_597.0_20241108', 'P_598.0_20241108', 'C_598.0_20241108', 'P_599.0_20241108', 'C_599.0_20241108', 'P_600.0_20241108', 'C_600.0_20241108', 'P_601.0_20241108', 'C_601.0_20241108', 'P_602.0_20241108', 'C_602.0_20241108']\n",
      "  -> Short ATM put ENTRY for P_596.0_20241108 at 09:44:00 and price 0.91\n",
      "  -> SPY is 596.34 and strike is 596.0\n",
      "  -> Short ATM put ENTRY for P_597.0_20241108 at 09:49:00 and price 1.06\n",
      "  -> SPY is 597.01 and strike is 597.0\n",
      "Stoploss of  -1 side entry was 0.91 in P_596.0_20241108 at 0.41\n",
      "  -> EOD EXIT for P_596.0_20241108 at 0.41. Profit: $5000.00\n",
      "  -> Short ATM put ENTRY for P_598.0_20241108 at 10:29:00 and price 1.13\n",
      "  -> SPY is 597.5 and strike is 598.0\n",
      "Stoploss of  -1 side entry was 1.06 in P_597.0_20241108 at 0.51\n",
      "  -> EOD EXIT for P_597.0_20241108 at 0.51. Profit: $5500.00\n",
      "Stoploss of  -1 side entry was 1.13 in P_598.0_20241108 at 0.58\n",
      "  -> EOD EXIT for P_598.0_20241108 at 0.58. Profit: $5500.00\n",
      "  -> Short ATM put ENTRY for P_598.0_20241108 at 12:35:00 and price 0.56\n",
      "  -> SPY is 598.14 and strike is 598.0\n",
      "EOD CLosing of -1 side positon in P_598.0_20241108 at 2024-11-08 15:16:00\n",
      "  -> EOD EXIT for P_598.0_20241108 at 0.14. Profit: $4200.00\n",
      "\n",
      "--- Processing Day: 2024-11-11 ---\n",
      "Fetching options across 599.87\n"
     ]
    },
    {
     "data": {
      "application/vnd.jupyter.widget-view+json": {
       "model_id": "6e946b9e43114c9bbfe0b5b57d4767cf",
       "version_major": 2,
       "version_minor": 0
      },
      "text/plain": [
       "FloatProgress(value=0.0, layout=Layout(width='auto'), style=ProgressStyle(bar_color='black'))"
      ]
     },
     "metadata": {},
     "output_type": "display_data"
    },
    {
     "name": "stdout",
     "output_type": "stream",
     "text": [
      "Total options found for today are: 26\n",
      "\n",
      "--- Phase 2: Preparing Master DataFrame ---\n",
      "✅ Successfully created master DataFrame with 260 total columns.\n",
      "['P_594.0_20241111', 'C_594.0_20241111', 'P_595.0_20241111', 'C_595.0_20241111', 'P_596.0_20241111', 'C_596.0_20241111', 'P_597.0_20241111', 'C_597.0_20241111', 'P_598.0_20241111', 'C_598.0_20241111', 'P_599.0_20241111', 'C_599.0_20241111', 'P_600.0_20241111', 'C_600.0_20241111', 'P_601.0_20241111', 'C_601.0_20241111', 'P_602.0_20241111', 'C_602.0_20241111', 'P_603.0_20241111', 'C_603.0_20241111', 'P_604.0_20241111', 'C_604.0_20241111', 'P_605.0_20241111', 'C_605.0_20241111', 'P_606.0_20241111', 'C_606.0_20241111']\n",
      "  -> Short ATM put ENTRY for P_600.0_20241111 at 09:41:00 and price 0.95\n",
      "  -> SPY is 600.08 and strike is 600.0\n",
      "  -> Short call ENTRY for C_599.0_20241111 at 09:45:00 and price 1.23\n",
      "  -> SPY is 599.35 and strike is 599.0\n",
      "  -> Target EXIT for P_600.0_20241111 at 1.36. Profit: $-4100.00\n",
      "  -> Short ATM put ENTRY for P_599.0_20241111 at 09:51:00 and price 0.92\n",
      "  -> SPY is 599.25 and strike is 599.0\n",
      "Stoploss of  -1 side entry was 1.23 in C_599.0_20241111 at 0.71\n",
      "  -> EOD EXIT for C_599.0_20241111 at 0.71. Profit: $5200.00\n",
      "  -> Short ATM put ENTRY for P_600.0_20241111 at 10:39:00 and price 0.99\n",
      "  -> SPY is 599.53 and strike is 600.0\n",
      "  -> Target EXIT for P_600.0_20241111 at 1.25. Profit: $-2600.00\n",
      "  -> Short ATM put ENTRY for P_600.0_20241111 at 10:54:00 and price 0.98\n",
      "  -> SPY is 599.58 and strike is 600.0\n",
      "Stoploss of  -1 side entry was 0.92 in P_599.0_20241111 at 0.4\n",
      "  -> EOD EXIT for P_599.0_20241111 at 0.40. Profit: $5200.00\n",
      "  -> Short ATM put ENTRY for P_599.0_20241111 at 11:20:00 and price 0.56\n",
      "  -> SPY is 599.4 and strike is 599.0\n",
      "  -> Target EXIT for P_600.0_20241111 at 1.33. Profit: $-3500.00\n",
      "  -> Target EXIT for P_599.0_20241111 at 0.84. Profit: $-2800.00\n",
      "  -> Short ATM put ENTRY for P_599.0_20241111 at 12:52:00 and price 0.81\n",
      "  -> SPY is 598.57 and strike is 599.0\n",
      "  -> Target EXIT for P_599.0_20241111 at 1.10. Profit: $-2900.00\n",
      "  -> Short ATM put ENTRY for P_598.0_20241111 at 13:19:00 and price 0.82\n",
      "  -> SPY is 597.51 and strike is 598.0\n",
      "  -> Target EXIT for P_598.0_20241111 at 1.11. Profit: $-2900.00\n",
      "\n",
      "--- Processing Day: 2024-11-12 ---\n",
      "Fetching options across 599.04\n"
     ]
    },
    {
     "data": {
      "application/vnd.jupyter.widget-view+json": {
       "model_id": "1344c52b27db4aee90c2697006fd3c28",
       "version_major": 2,
       "version_minor": 0
      },
      "text/plain": [
       "FloatProgress(value=0.0, layout=Layout(width='auto'), style=ProgressStyle(bar_color='black'))"
      ]
     },
     "metadata": {},
     "output_type": "display_data"
    },
    {
     "name": "stdout",
     "output_type": "stream",
     "text": [
      "Total options found for today are: 26\n",
      "\n",
      "--- Phase 2: Preparing Master DataFrame ---\n",
      "✅ Successfully created master DataFrame with 260 total columns.\n",
      "['P_593.0_20241112', 'C_593.0_20241112', 'P_594.0_20241112', 'C_594.0_20241112', 'P_595.0_20241112', 'C_595.0_20241112', 'P_596.0_20241112', 'C_596.0_20241112', 'P_597.0_20241112', 'C_597.0_20241112', 'P_598.0_20241112', 'C_598.0_20241112', 'P_599.0_20241112', 'C_599.0_20241112', 'P_600.0_20241112', 'C_600.0_20241112', 'P_601.0_20241112', 'C_601.0_20241112', 'P_602.0_20241112', 'C_602.0_20241112', 'P_603.0_20241112', 'C_603.0_20241112', 'P_604.0_20241112', 'C_604.0_20241112', 'P_605.0_20241112', 'C_605.0_20241112']\n",
      "  -> Short ATM put ENTRY for P_599.0_20241112 at 10:12:00 and price 1.15\n",
      "  -> SPY is 598.54 and strike is 599.0\n",
      "  -> Short ATM put ENTRY for P_598.0_20241112 at 10:16:00 and price 0.79\n",
      "  -> SPY is 598.35 and strike is 598.0\n",
      "  -> Target EXIT for P_599.0_20241112 at 1.47. Profit: $-3200.00\n",
      "  -> Target EXIT for P_598.0_20241112 at 1.09. Profit: $-3000.00\n",
      "  -> Short ATM put ENTRY for P_597.0_20241112 at 11:53:00 and price 0.78\n",
      "  -> SPY is 597.0 and strike is 597.0\n",
      "  -> Target EXIT for P_597.0_20241112 at 1.08. Profit: $-3000.00\n",
      "  -> Short ATM put ENTRY for P_596.0_20241112 at 12:31:00 and price 0.57\n",
      "  -> SPY is 596.45 and strike is 596.0\n",
      "  -> Short ATM put ENTRY for P_597.0_20241112 at 12:35:00 and price 0.95\n",
      "  -> SPY is 596.59 and strike is 597.0\n",
      "  -> Target EXIT for P_597.0_20241112 at 1.22. Profit: $-2700.00\n",
      "  -> Target EXIT for P_596.0_20241112 at 0.84. Profit: $-2700.00\n",
      "  -> Short ATM put ENTRY for P_595.0_20241112 at 13:13:00 and price 0.83\n",
      "  -> SPY is 594.98 and strike is 595.0\n",
      "  -> Short ATM put ENTRY for P_596.0_20241112 at 13:19:00 and price 0.99\n",
      "  -> SPY is 595.56 and strike is 596.0\n",
      "Stoploss of  -1 side entry was 0.83 in P_595.0_20241112 at 0.31\n",
      "  -> EOD EXIT for P_595.0_20241112 at 0.31. Profit: $5200.00\n",
      "Stoploss of  -1 side entry was 0.99 in P_596.0_20241112 at 0.41\n",
      "  -> EOD EXIT for P_596.0_20241112 at 0.41. Profit: $5800.00\n",
      "\n",
      "--- Processing Day: 2024-11-13 ---\n",
      "Fetching options across 597.36\n"
     ]
    },
    {
     "data": {
      "application/vnd.jupyter.widget-view+json": {
       "model_id": "dbc417efef5542a29eba30ab6aaf92d9",
       "version_major": 2,
       "version_minor": 0
      },
      "text/plain": [
       "FloatProgress(value=0.0, layout=Layout(width='auto'), style=ProgressStyle(bar_color='black'))"
      ]
     },
     "metadata": {},
     "output_type": "display_data"
    },
    {
     "name": "stdout",
     "output_type": "stream",
     "text": [
      "Total options found for today are: 26\n",
      "\n",
      "--- Phase 2: Preparing Master DataFrame ---\n",
      "✅ Successfully created master DataFrame with 260 total columns.\n",
      "['P_591.0_20241113', 'C_591.0_20241113', 'P_592.0_20241113', 'C_592.0_20241113', 'P_593.0_20241113', 'C_593.0_20241113', 'P_594.0_20241113', 'C_594.0_20241113', 'P_595.0_20241113', 'C_595.0_20241113', 'P_596.0_20241113', 'C_596.0_20241113', 'P_597.0_20241113', 'C_597.0_20241113', 'P_598.0_20241113', 'C_598.0_20241113', 'P_599.0_20241113', 'C_599.0_20241113', 'P_600.0_20241113', 'C_600.0_20241113', 'P_601.0_20241113', 'C_601.0_20241113', 'P_602.0_20241113', 'C_602.0_20241113', 'P_603.0_20241113', 'C_603.0_20241113']\n",
      "  -> Short ATM put ENTRY for P_597.0_20241113 at 09:59:00 and price 1.07\n",
      "  -> SPY is 596.98 and strike is 597.0\n",
      "  -> Target EXIT for P_597.0_20241113 at 1.44. Profit: $-3700.00\n",
      "  -> Short ATM put ENTRY for P_596.0_20241113 at 10:15:00 and price 0.99\n",
      "  -> SPY is 596.15 and strike is 596.0\n",
      "  -> Short ATM put ENTRY for P_597.0_20241113 at 10:34:00 and price 0.97\n",
      "  -> SPY is 596.93 and strike is 597.0\n",
      "  -> Target EXIT for P_597.0_20241113 at 1.33. Profit: $-3600.00\n",
      "  -> Short ATM put ENTRY for P_597.0_20241113 at 10:47:00 and price 0.94\n",
      "  -> SPY is 596.96 and strike is 597.0\n",
      "Stoploss of  -1 side entry was 0.99 in P_596.0_20241113 at 0.45\n",
      "  -> EOD EXIT for P_596.0_20241113 at 0.45. Profit: $5400.00\n",
      "Stoploss of  -1 side entry was 0.94 in P_597.0_20241113 at 0.41\n",
      "  -> EOD EXIT for P_597.0_20241113 at 0.41. Profit: $5300.00\n",
      "\n",
      "--- Processing Day: 2024-11-14 ---\n",
      "Fetching options across 596.81\n"
     ]
    },
    {
     "data": {
      "application/vnd.jupyter.widget-view+json": {
       "model_id": "cdc623dea40f4804b5970a6e82e36939",
       "version_major": 2,
       "version_minor": 0
      },
      "text/plain": [
       "FloatProgress(value=0.0, layout=Layout(width='auto'), style=ProgressStyle(bar_color='black'))"
      ]
     },
     "metadata": {},
     "output_type": "display_data"
    },
    {
     "name": "stdout",
     "output_type": "stream",
     "text": [
      "Total options found for today are: 26\n",
      "\n",
      "--- Phase 2: Preparing Master DataFrame ---\n",
      "✅ Successfully created master DataFrame with 260 total columns.\n",
      "['P_591.0_20241114', 'C_591.0_20241114', 'P_592.0_20241114', 'C_592.0_20241114', 'P_593.0_20241114', 'C_593.0_20241114', 'P_594.0_20241114', 'C_594.0_20241114', 'P_595.0_20241114', 'C_595.0_20241114', 'P_596.0_20241114', 'C_596.0_20241114', 'P_597.0_20241114', 'C_597.0_20241114', 'P_598.0_20241114', 'C_598.0_20241114', 'P_599.0_20241114', 'C_599.0_20241114', 'P_600.0_20241114', 'C_600.0_20241114', 'P_601.0_20241114', 'C_601.0_20241114', 'P_602.0_20241114', 'C_602.0_20241114', 'P_603.0_20241114', 'C_603.0_20241114']\n",
      "  -> Short call ENTRY for C_596.0_20241114 at 09:46:00 and price 1.33\n",
      "  -> SPY is 596.2 and strike is 596.0\n",
      "  -> Target EXIT for C_596.0_20241114 at 1.71. Profit: $-3800.00\n",
      "  -> Short call ENTRY for C_596.0_20241114 at 09:54:00 and price 1.33\n",
      "  -> SPY is 596.24 and strike is 596.0\n",
      "Stoploss of  -1 side entry was 1.33 in C_596.0_20241114 at 0.73\n",
      "  -> EOD EXIT for C_596.0_20241114 at 0.73. Profit: $6000.00\n",
      "  -> Short ATM put ENTRY for P_597.0_20241114 at 11:26:00 and price 1.1\n",
      "  -> SPY is 596.55 and strike is 597.0\n",
      "  -> Target EXIT for P_597.0_20241114 at 1.42. Profit: $-3200.00\n",
      "  -> Short ATM put ENTRY for P_595.0_20241114 at 12:08:00 and price 0.63\n",
      "  -> SPY is 595.49 and strike is 595.0\n",
      "  -> Short ATM put ENTRY for P_596.0_20241114 at 12:13:00 and price 1.03\n",
      "  -> SPY is 595.6 and strike is 596.0\n",
      "  -> Target EXIT for P_596.0_20241114 at 1.30. Profit: $-2700.00\n",
      "  -> Target EXIT for P_595.0_20241114 at 0.99. Profit: $-3600.00\n",
      "  -> Short ATM put ENTRY for P_595.0_20241114 at 12:42:00 and price 0.74\n",
      "  -> SPY is 595.19 and strike is 595.0\n",
      "  -> Target EXIT for P_595.0_20241114 at 1.04. Profit: $-3000.00\n",
      "  -> Short ATM put ENTRY for P_595.0_20241114 at 12:56:00 and price 0.93\n",
      "  -> SPY is 594.87 and strike is 595.0\n",
      "  -> Short ATM put ENTRY for P_596.0_20241114 at 13:16:00 and price 0.93\n",
      "  -> SPY is 595.65 and strike is 596.0\n",
      "  -> Target EXIT for P_596.0_20241114 at 1.19. Profit: $-2600.00\n",
      "  -> Target EXIT for P_595.0_20241114 at 1.21. Profit: $-2800.00\n",
      "\n",
      "--- Processing Day: 2024-11-15 ---\n",
      "Fetching options across 589.72\n"
     ]
    },
    {
     "data": {
      "application/vnd.jupyter.widget-view+json": {
       "model_id": "b07ff06606d54f86a9d946f753086ae6",
       "version_major": 2,
       "version_minor": 0
      },
      "text/plain": [
       "FloatProgress(value=0.0, layout=Layout(width='auto'), style=ProgressStyle(bar_color='black'))"
      ]
     },
     "metadata": {},
     "output_type": "display_data"
    },
    {
     "name": "stdout",
     "output_type": "stream",
     "text": [
      "Total options found for today are: 26\n",
      "\n",
      "--- Phase 2: Preparing Master DataFrame ---\n",
      "✅ Successfully created master DataFrame with 260 total columns.\n",
      "['P_584.0_20241115', 'C_584.0_20241115', 'P_585.0_20241115', 'C_585.0_20241115', 'P_586.0_20241115', 'C_586.0_20241115', 'P_587.0_20241115', 'C_587.0_20241115', 'P_588.0_20241115', 'C_588.0_20241115', 'P_589.0_20241115', 'C_589.0_20241115', 'P_590.0_20241115', 'C_590.0_20241115', 'P_591.0_20241115', 'C_591.0_20241115', 'P_592.0_20241115', 'C_592.0_20241115', 'P_593.0_20241115', 'C_593.0_20241115', 'P_594.0_20241115', 'C_594.0_20241115', 'P_595.0_20241115', 'C_595.0_20241115', 'P_596.0_20241115', 'C_596.0_20241115']\n",
      "  -> Short ATM put ENTRY for P_589.0_20241115 at 09:43:00 and price 1.07\n",
      "  -> SPY is 589.46 and strike is 589.0\n",
      "  -> Target EXIT for P_589.0_20241115 at 1.46. Profit: $-3900.00\n",
      "  -> Short ATM put ENTRY for P_587.0_20241115 at 10:52:00 and price 1.01\n",
      "  -> SPY is 587.25 and strike is 587.0\n",
      "  -> Target EXIT for P_587.0_20241115 at 1.38. Profit: $-3700.00\n",
      "  -> Short ATM put ENTRY for P_587.0_20241115 at 11:12:00 and price 1.05\n",
      "  -> SPY is 586.95 and strike is 587.0\n",
      "  -> Target EXIT for P_587.0_20241115 at 1.35. Profit: $-3000.00\n",
      "  -> Short ATM put ENTRY for P_586.0_20241115 at 12:19:00 and price 1.08\n",
      "  -> SPY is 585.73 and strike is 586.0\n",
      "  -> Target EXIT for P_586.0_20241115 at 1.38. Profit: $-3000.00\n",
      "  -> Short ATM put ENTRY for P_586.0_20241115 at 12:47:00 and price 1.01\n",
      "  -> SPY is 585.69 and strike is 586.0\n",
      "  -> Target EXIT for P_586.0_20241115 at 1.46. Profit: $-4500.00\n",
      "  -> Short ATM put ENTRY for P_585.0_20241115 at 12:59:00 and price 0.75\n",
      "  -> SPY is 585.27 and strike is 585.0\n",
      "  -> Short ATM put ENTRY for P_586.0_20241115 at 13:00:00 and price 1.12\n",
      "  -> SPY is 585.53 and strike is 586.0\n",
      "  -> Target EXIT for P_586.0_20241115 at 1.40. Profit: $-2800.00\n",
      "  -> Target EXIT for P_585.0_20241115 at 1.04. Profit: $-2900.00\n",
      "\n",
      "--- Processing Day: 2024-11-18 ---\n",
      "Fetching options across 586.24\n"
     ]
    },
    {
     "data": {
      "application/vnd.jupyter.widget-view+json": {
       "model_id": "871479f91d1a4c9291e2956672140f5e",
       "version_major": 2,
       "version_minor": 0
      },
      "text/plain": [
       "FloatProgress(value=0.0, layout=Layout(width='auto'), style=ProgressStyle(bar_color='black'))"
      ]
     },
     "metadata": {},
     "output_type": "display_data"
    },
    {
     "name": "stdout",
     "output_type": "stream",
     "text": [
      "Total options found for today are: 26\n",
      "\n",
      "--- Phase 2: Preparing Master DataFrame ---\n",
      "✅ Successfully created master DataFrame with 260 total columns.\n",
      "['P_580.0_20241118', 'C_580.0_20241118', 'P_581.0_20241118', 'C_581.0_20241118', 'P_582.0_20241118', 'C_582.0_20241118', 'P_583.0_20241118', 'C_583.0_20241118', 'P_584.0_20241118', 'C_584.0_20241118', 'P_585.0_20241118', 'C_585.0_20241118', 'P_586.0_20241118', 'C_586.0_20241118', 'P_587.0_20241118', 'C_587.0_20241118', 'P_588.0_20241118', 'C_588.0_20241118', 'P_589.0_20241118', 'C_589.0_20241118', 'P_590.0_20241118', 'C_590.0_20241118', 'P_591.0_20241118', 'C_591.0_20241118', 'P_592.0_20241118', 'C_592.0_20241118']\n",
      "  -> Short ATM put ENTRY for P_586.0_20241118 at 09:43:00 and price 1.12\n",
      "  -> SPY is 586.17 and strike is 586.0\n",
      "  -> Target EXIT for P_586.0_20241118 at 1.39. Profit: $-2700.00\n",
      "  -> Short call ENTRY for C_585.0_20241118 at 09:52:00 and price 1.5\n",
      "  -> SPY is 585.49 and strike is 585.0\n",
      "  -> Target EXIT for C_585.0_20241118 at 1.85. Profit: $-3500.00\n",
      "  -> Short ATM put ENTRY for P_587.0_20241118 at 10:20:00 and price 1.1\n",
      "  -> SPY is 586.83 and strike is 587.0\n",
      "Stoploss of  -1 side entry was 1.1 in P_587.0_20241118 at 0.59\n",
      "  -> EOD EXIT for P_587.0_20241118 at 0.59. Profit: $5100.00\n",
      "\n",
      "--- Processing Day: 2024-11-19 ---\n",
      "Fetching options across 585.23\n"
     ]
    },
    {
     "data": {
      "application/vnd.jupyter.widget-view+json": {
       "model_id": "b2002c81c76b42f697eefa9765ce3ff9",
       "version_major": 2,
       "version_minor": 0
      },
      "text/plain": [
       "FloatProgress(value=0.0, layout=Layout(width='auto'), style=ProgressStyle(bar_color='black'))"
      ]
     },
     "metadata": {},
     "output_type": "display_data"
    },
    {
     "name": "stdout",
     "output_type": "stream",
     "text": [
      "Total options found for today are: 26\n",
      "\n",
      "--- Phase 2: Preparing Master DataFrame ---\n",
      "✅ Successfully created master DataFrame with 260 total columns.\n",
      "['P_579.0_20241119', 'C_579.0_20241119', 'P_580.0_20241119', 'C_580.0_20241119', 'P_581.0_20241119', 'C_581.0_20241119', 'P_582.0_20241119', 'C_582.0_20241119', 'P_583.0_20241119', 'C_583.0_20241119', 'P_584.0_20241119', 'C_584.0_20241119', 'P_585.0_20241119', 'C_585.0_20241119', 'P_586.0_20241119', 'C_586.0_20241119', 'P_587.0_20241119', 'C_587.0_20241119', 'P_588.0_20241119', 'C_588.0_20241119', 'P_589.0_20241119', 'C_589.0_20241119', 'P_590.0_20241119', 'C_590.0_20241119', 'P_591.0_20241119', 'C_591.0_20241119']\n",
      "\n",
      "--- Processing Day: 2024-11-20 ---\n",
      "Fetching options across 590.16\n"
     ]
    },
    {
     "data": {
      "application/vnd.jupyter.widget-view+json": {
       "model_id": "b98c68bfecf84655854cc07c83413340",
       "version_major": 2,
       "version_minor": 0
      },
      "text/plain": [
       "FloatProgress(value=0.0, layout=Layout(width='auto'), style=ProgressStyle(bar_color='black'))"
      ]
     },
     "metadata": {},
     "output_type": "display_data"
    },
    {
     "name": "stdout",
     "output_type": "stream",
     "text": [
      "Total options found for today are: 26\n",
      "\n",
      "--- Phase 2: Preparing Master DataFrame ---\n",
      "✅ Successfully created master DataFrame with 260 total columns.\n",
      "['P_584.0_20241120', 'C_584.0_20241120', 'P_585.0_20241120', 'C_585.0_20241120', 'P_586.0_20241120', 'C_586.0_20241120', 'P_587.0_20241120', 'C_587.0_20241120', 'P_588.0_20241120', 'C_588.0_20241120', 'P_589.0_20241120', 'C_589.0_20241120', 'P_590.0_20241120', 'C_590.0_20241120', 'P_591.0_20241120', 'C_591.0_20241120', 'P_592.0_20241120', 'C_592.0_20241120', 'P_593.0_20241120', 'C_593.0_20241120', 'P_594.0_20241120', 'C_594.0_20241120', 'P_595.0_20241120', 'C_595.0_20241120', 'P_596.0_20241120', 'C_596.0_20241120']\n",
      "\n",
      "--- Processing Day: 2024-11-22 ---\n",
      "Fetching options across 593.58\n"
     ]
    },
    {
     "data": {
      "application/vnd.jupyter.widget-view+json": {
       "model_id": "c849d54eb9cf4b229d8eda4bebdcb9f9",
       "version_major": 2,
       "version_minor": 0
      },
      "text/plain": [
       "FloatProgress(value=0.0, layout=Layout(width='auto'), style=ProgressStyle(bar_color='black'))"
      ]
     },
     "metadata": {},
     "output_type": "display_data"
    },
    {
     "name": "stdout",
     "output_type": "stream",
     "text": [
      "Total options found for today are: 26\n",
      "\n",
      "--- Phase 2: Preparing Master DataFrame ---\n",
      "✅ Successfully created master DataFrame with 260 total columns.\n",
      "['P_588.0_20241122', 'C_588.0_20241122', 'P_589.0_20241122', 'C_589.0_20241122', 'P_590.0_20241122', 'C_590.0_20241122', 'P_591.0_20241122', 'C_591.0_20241122', 'P_592.0_20241122', 'C_592.0_20241122', 'P_593.0_20241122', 'C_593.0_20241122', 'P_594.0_20241122', 'C_594.0_20241122', 'P_595.0_20241122', 'C_595.0_20241122', 'P_596.0_20241122', 'C_596.0_20241122', 'P_597.0_20241122', 'C_597.0_20241122', 'P_598.0_20241122', 'C_598.0_20241122', 'P_599.0_20241122', 'C_599.0_20241122', 'P_600.0_20241122', 'C_600.0_20241122']\n",
      "  -> Short ATM put ENTRY for P_595.0_20241122 at 12:49:00 and price 0.58\n",
      "  -> SPY is 595.43 and strike is 595.0\n",
      "  -> Target EXIT for P_595.0_20241122 at 0.86. Profit: $-2800.00\n",
      "\n",
      "--- Processing Day: 2024-11-25 ---\n",
      "Fetching options across 599.61\n"
     ]
    },
    {
     "data": {
      "application/vnd.jupyter.widget-view+json": {
       "model_id": "29f52b7018d6462ba1caa2968e238f21",
       "version_major": 2,
       "version_minor": 0
      },
      "text/plain": [
       "FloatProgress(value=0.0, layout=Layout(width='auto'), style=ProgressStyle(bar_color='black'))"
      ]
     },
     "metadata": {},
     "output_type": "display_data"
    },
    {
     "name": "stdout",
     "output_type": "stream",
     "text": [
      "Total options found for today are: 26\n",
      "\n",
      "--- Phase 2: Preparing Master DataFrame ---\n",
      "✅ Successfully created master DataFrame with 260 total columns.\n",
      "['P_594.0_20241125', 'C_594.0_20241125', 'P_595.0_20241125', 'C_595.0_20241125', 'P_596.0_20241125', 'C_596.0_20241125', 'P_597.0_20241125', 'C_597.0_20241125', 'P_598.0_20241125', 'C_598.0_20241125', 'P_599.0_20241125', 'C_599.0_20241125', 'P_600.0_20241125', 'C_600.0_20241125', 'P_601.0_20241125', 'C_601.0_20241125', 'P_602.0_20241125', 'C_602.0_20241125', 'P_603.0_20241125', 'C_603.0_20241125', 'P_604.0_20241125', 'C_604.0_20241125', 'P_605.0_20241125', 'C_605.0_20241125', 'P_606.0_20241125', 'C_606.0_20241125']\n",
      "  -> Short ATM put ENTRY for P_597.0_20241125 at 13:13:00 and price 0.6\n",
      "  -> SPY is 597.22 and strike is 597.0\n",
      "EOD CLosing of -1 side positon in P_597.0_20241125 at 2024-11-25 15:16:00\n",
      "  -> EOD EXIT for P_597.0_20241125 at 0.40. Profit: $2000.00\n",
      "\n",
      "--- Processing Day: 2024-11-26 ---\n",
      "Fetching options across 598.8\n"
     ]
    },
    {
     "data": {
      "application/vnd.jupyter.widget-view+json": {
       "model_id": "3a9525d77c7d4e879b0c45d9ddc1f540",
       "version_major": 2,
       "version_minor": 0
      },
      "text/plain": [
       "FloatProgress(value=0.0, layout=Layout(width='auto'), style=ProgressStyle(bar_color='black'))"
      ]
     },
     "metadata": {},
     "output_type": "display_data"
    },
    {
     "name": "stdout",
     "output_type": "stream",
     "text": [
      "Total options found for today are: 26\n",
      "\n",
      "--- Phase 2: Preparing Master DataFrame ---\n",
      "✅ Successfully created master DataFrame with 260 total columns.\n",
      "['P_593.0_20241126', 'C_593.0_20241126', 'P_594.0_20241126', 'C_594.0_20241126', 'P_595.0_20241126', 'C_595.0_20241126', 'P_596.0_20241126', 'C_596.0_20241126', 'P_597.0_20241126', 'C_597.0_20241126', 'P_598.0_20241126', 'C_598.0_20241126', 'P_599.0_20241126', 'C_599.0_20241126', 'P_600.0_20241126', 'C_600.0_20241126', 'P_601.0_20241126', 'C_601.0_20241126', 'P_602.0_20241126', 'C_602.0_20241126', 'P_603.0_20241126', 'C_603.0_20241126', 'P_604.0_20241126', 'C_604.0_20241126', 'P_605.0_20241126', 'C_605.0_20241126']\n",
      "  -> Short ATM put ENTRY for P_599.0_20241126 at 11:02:00 and price 0.59\n",
      "  -> SPY is 599.46 and strike is 599.0\n",
      "  -> Short ATM put ENTRY for P_600.0_20241126 at 11:03:00 and price 1.02\n",
      "  -> SPY is 599.54 and strike is 600.0\n",
      "  -> Target EXIT for P_600.0_20241126 at 1.28. Profit: $-2600.00\n",
      "  -> Short ATM put ENTRY for P_600.0_20241126 at 11:31:00 and price 0.91\n",
      "  -> SPY is 599.66 and strike is 600.0\n",
      "Stoploss of  -1 side entry was 0.91 in P_600.0_20241126 at 0.4\n",
      "  -> EOD EXIT for P_600.0_20241126 at 0.40. Profit: $5100.00\n",
      "Stoploss of  -1 side entry was 0.59 in P_599.0_20241126 at 0.08\n",
      "  -> EOD EXIT for P_599.0_20241126 at 0.08. Profit: $5100.00\n",
      "\n",
      "--- Processing Day: 2024-11-27 ---\n",
      "Fetching options across 600.63\n"
     ]
    },
    {
     "data": {
      "application/vnd.jupyter.widget-view+json": {
       "model_id": "8618c6b8f4ab4e3e8a958ffb4d937647",
       "version_major": 2,
       "version_minor": 0
      },
      "text/plain": [
       "FloatProgress(value=0.0, layout=Layout(width='auto'), style=ProgressStyle(bar_color='black'))"
      ]
     },
     "metadata": {},
     "output_type": "display_data"
    },
    {
     "name": "stdout",
     "output_type": "stream",
     "text": [
      "Total options found for today are: 26\n",
      "\n",
      "--- Phase 2: Preparing Master DataFrame ---\n",
      "✅ Successfully created master DataFrame with 260 total columns.\n",
      "['P_595.0_20241127', 'C_595.0_20241127', 'P_596.0_20241127', 'C_596.0_20241127', 'P_597.0_20241127', 'C_597.0_20241127', 'P_598.0_20241127', 'C_598.0_20241127', 'P_599.0_20241127', 'C_599.0_20241127', 'P_600.0_20241127', 'C_600.0_20241127', 'P_601.0_20241127', 'C_601.0_20241127', 'P_602.0_20241127', 'C_602.0_20241127', 'P_603.0_20241127', 'C_603.0_20241127', 'P_604.0_20241127', 'C_604.0_20241127', 'P_605.0_20241127', 'C_605.0_20241127', 'P_606.0_20241127', 'C_606.0_20241127', 'P_607.0_20241127', 'C_607.0_20241127']\n",
      "  -> Short ATM put ENTRY for P_601.0_20241127 at 09:47:00 and price 1.13\n",
      "  -> SPY is 600.74 and strike is 601.0\n",
      "  -> Short ATM put ENTRY for P_600.0_20241127 at 09:51:00 and price 0.82\n",
      "  -> SPY is 600.48 and strike is 600.0\n",
      "  -> Target EXIT for P_601.0_20241127 at 1.45. Profit: $-3200.00\n",
      "  -> Target EXIT for P_600.0_20241127 at 1.10. Profit: $-2800.00\n",
      "\n",
      "--- Processing Day: 2024-12-02 ---\n",
      "Fetching options across 602.98\n"
     ]
    },
    {
     "data": {
      "application/vnd.jupyter.widget-view+json": {
       "model_id": "7084526883ee48efb3847313d1870c52",
       "version_major": 2,
       "version_minor": 0
      },
      "text/plain": [
       "FloatProgress(value=0.0, layout=Layout(width='auto'), style=ProgressStyle(bar_color='black'))"
      ]
     },
     "metadata": {},
     "output_type": "display_data"
    },
    {
     "name": "stdout",
     "output_type": "stream",
     "text": [
      "Total options found for today are: 26\n",
      "\n",
      "--- Phase 2: Preparing Master DataFrame ---\n",
      "✅ Successfully created master DataFrame with 260 total columns.\n",
      "['P_597.0_20241202', 'C_597.0_20241202', 'P_598.0_20241202', 'C_598.0_20241202', 'P_599.0_20241202', 'C_599.0_20241202', 'P_600.0_20241202', 'C_600.0_20241202', 'P_601.0_20241202', 'C_601.0_20241202', 'P_602.0_20241202', 'C_602.0_20241202', 'P_603.0_20241202', 'C_603.0_20241202', 'P_604.0_20241202', 'C_604.0_20241202', 'P_605.0_20241202', 'C_605.0_20241202', 'P_606.0_20241202', 'C_606.0_20241202', 'P_607.0_20241202', 'C_607.0_20241202', 'P_608.0_20241202', 'C_608.0_20241202', 'P_609.0_20241202', 'C_609.0_20241202']\n",
      "  -> Short ATM put ENTRY for P_603.0_20241202 at 09:47:00 and price 0.89\n",
      "  -> SPY is 603.09 and strike is 603.0\n",
      "  -> Short ATM put ENTRY for P_604.0_20241202 at 10:42:00 and price 0.99\n",
      "  -> SPY is 603.5 and strike is 604.0\n",
      "  -> Target EXIT for P_604.0_20241202 at 1.31. Profit: $-3200.00\n",
      "Stoploss of  -1 side entry was 0.89 in P_603.0_20241202 at 0.36\n",
      "  -> EOD EXIT for P_603.0_20241202 at 0.36. Profit: $5300.00\n",
      "  -> Short ATM put ENTRY for P_604.0_20241202 at 11:41:00 and price 0.75\n",
      "  -> SPY is 603.66 and strike is 604.0\n",
      "EOD CLosing of -1 side positon in P_604.0_20241202 at 2024-12-02 15:15:00\n",
      "  -> EOD EXIT for P_604.0_20241202 at 0.32. Profit: $4300.00\n",
      "  ❌ An error occurred on 2024-12-02: 'P_604.0_20241202'\n",
      "\n",
      "--- Processing Day: 2024-12-03 ---\n",
      "Fetching options across 603.08\n"
     ]
    },
    {
     "data": {
      "application/vnd.jupyter.widget-view+json": {
       "model_id": "ba8bbb4600b944c5ad1b95c16d8bf1ff",
       "version_major": 2,
       "version_minor": 0
      },
      "text/plain": [
       "FloatProgress(value=0.0, layout=Layout(width='auto'), style=ProgressStyle(bar_color='black'))"
      ]
     },
     "metadata": {},
     "output_type": "display_data"
    },
    {
     "name": "stdout",
     "output_type": "stream",
     "text": [
      "Total options found for today are: 26\n",
      "\n",
      "--- Phase 2: Preparing Master DataFrame ---\n",
      "✅ Successfully created master DataFrame with 260 total columns.\n",
      "['P_597.0_20241203', 'C_597.0_20241203', 'P_598.0_20241203', 'C_598.0_20241203', 'P_599.0_20241203', 'C_599.0_20241203', 'P_600.0_20241203', 'C_600.0_20241203', 'P_601.0_20241203', 'C_601.0_20241203', 'P_602.0_20241203', 'C_602.0_20241203', 'P_603.0_20241203', 'C_603.0_20241203', 'P_604.0_20241203', 'C_604.0_20241203', 'P_605.0_20241203', 'C_605.0_20241203', 'P_606.0_20241203', 'C_606.0_20241203', 'P_607.0_20241203', 'C_607.0_20241203', 'P_608.0_20241203', 'C_608.0_20241203', 'P_609.0_20241203', 'C_609.0_20241203']\n",
      "  -> Short ATM put ENTRY for P_603.0_20241203 at 11:26:00 and price 0.59\n",
      "  -> SPY is 603.04 and strike is 603.0\n",
      "  -> Target EXIT for P_603.0_20241203 at 0.86. Profit: $-2700.00\n",
      "  -> Short ATM put ENTRY for P_603.0_20241203 at 11:49:00 and price 0.85\n",
      "  -> SPY is 602.57 and strike is 603.0\n",
      "Stoploss of  -1 side entry was 0.85 in P_603.0_20241203 at 0.33\n",
      "  -> EOD EXIT for P_603.0_20241203 at 0.33. Profit: $5200.00\n",
      "  -> Short ATM put ENTRY for P_604.0_20241203 at 13:04:00 and price 0.64\n",
      "  -> SPY is 603.71 and strike is 604.0\n",
      "  -> Target EXIT for P_604.0_20241203 at 0.91. Profit: $-2700.00\n",
      "\n",
      "--- Processing Day: 2024-12-04 ---\n",
      "Fetching options across 605.75\n"
     ]
    },
    {
     "data": {
      "application/vnd.jupyter.widget-view+json": {
       "model_id": "9a00ece31e5d49239c4daee68d4beac5",
       "version_major": 2,
       "version_minor": 0
      },
      "text/plain": [
       "FloatProgress(value=0.0, layout=Layout(width='auto'), style=ProgressStyle(bar_color='black'))"
      ]
     },
     "metadata": {},
     "output_type": "display_data"
    },
    {
     "name": "stdout",
     "output_type": "stream",
     "text": [
      "Total options found for today are: 26\n",
      "\n",
      "--- Phase 2: Preparing Master DataFrame ---\n",
      "✅ Successfully created master DataFrame with 260 total columns.\n",
      "['P_600.0_20241204', 'C_600.0_20241204', 'P_601.0_20241204', 'C_601.0_20241204', 'P_602.0_20241204', 'C_602.0_20241204', 'P_603.0_20241204', 'C_603.0_20241204', 'P_604.0_20241204', 'C_604.0_20241204', 'P_605.0_20241204', 'C_605.0_20241204', 'P_606.0_20241204', 'C_606.0_20241204', 'P_607.0_20241204', 'C_607.0_20241204', 'P_608.0_20241204', 'C_608.0_20241204', 'P_609.0_20241204', 'C_609.0_20241204', 'P_610.0_20241204', 'C_610.0_20241204', 'P_611.0_20241204', 'C_611.0_20241204', 'P_612.0_20241204', 'C_612.0_20241204']\n",
      "  -> Short ATM put ENTRY for P_606.0_20241204 at 09:45:00 and price 1.11\n",
      "  -> SPY is 605.64 and strike is 606.0\n",
      "  -> Short ATM put ENTRY for P_605.0_20241204 at 10:20:00 and price 0.62\n",
      "  -> SPY is 605.47 and strike is 605.0\n",
      "Stoploss of  -1 side entry was 1.11 in P_606.0_20241204 at 0.59\n",
      "  -> EOD EXIT for P_606.0_20241204 at 0.59. Profit: $5200.00\n",
      "  -> Short ATM put ENTRY for P_606.0_20241204 at 11:02:00 and price 0.56\n",
      "  -> SPY is 606.39 and strike is 606.0\n",
      "  -> Target EXIT for P_606.0_20241204 at 0.87. Profit: $-3100.00\n",
      "Stoploss of  -1 side entry was 0.62 in P_605.0_20241204 at 0.11\n",
      "  -> EOD EXIT for P_605.0_20241204 at 0.11. Profit: $5100.00\n",
      "\n",
      "--- Processing Day: 2024-12-05 ---\n",
      "Fetching options across 607.62\n"
     ]
    },
    {
     "data": {
      "application/vnd.jupyter.widget-view+json": {
       "model_id": "c82ac4a3483b435b95ae47c067a68b24",
       "version_major": 2,
       "version_minor": 0
      },
      "text/plain": [
       "FloatProgress(value=0.0, layout=Layout(width='auto'), style=ProgressStyle(bar_color='black'))"
      ]
     },
     "metadata": {},
     "output_type": "display_data"
    },
    {
     "name": "stdout",
     "output_type": "stream",
     "text": [
      "Total options found for today are: 26\n",
      "\n",
      "--- Phase 2: Preparing Master DataFrame ---\n",
      "✅ Successfully created master DataFrame with 260 total columns.\n",
      "['P_602.0_20241205', 'C_602.0_20241205', 'P_603.0_20241205', 'C_603.0_20241205', 'P_604.0_20241205', 'C_604.0_20241205', 'P_605.0_20241205', 'C_605.0_20241205', 'P_606.0_20241205', 'C_606.0_20241205', 'P_607.0_20241205', 'C_607.0_20241205', 'P_608.0_20241205', 'C_608.0_20241205', 'P_609.0_20241205', 'C_609.0_20241205', 'P_610.0_20241205', 'C_610.0_20241205', 'P_611.0_20241205', 'C_611.0_20241205', 'P_612.0_20241205', 'C_612.0_20241205', 'P_613.0_20241205', 'C_613.0_20241205', 'P_614.0_20241205', 'C_614.0_20241205']\n",
      "  -> Short ATM put ENTRY for P_608.0_20241205 at 09:44:00 and price 1.03\n",
      "  -> SPY is 607.54 and strike is 608.0\n",
      "  -> Short ATM put ENTRY for P_607.0_20241205 at 10:30:00 and price 0.62\n",
      "  -> SPY is 607.21 and strike is 607.0\n",
      "  -> Target EXIT for P_608.0_20241205 at 1.36. Profit: $-3300.00\n",
      "  -> Short ATM put ENTRY for P_608.0_20241205 at 11:53:00 and price 0.8\n",
      "  -> SPY is 607.53 and strike is 608.0\n",
      "Stoploss of  -1 side entry was 0.62 in P_607.0_20241205 at 0.11\n",
      "  -> EOD EXIT for P_607.0_20241205 at 0.11. Profit: $5100.00\n",
      "Stoploss of  -1 side entry was 0.8 in P_608.0_20241205 at 0.28\n",
      "  -> EOD EXIT for P_608.0_20241205 at 0.28. Profit: $5200.00\n",
      "  -> Short ATM put ENTRY for P_608.0_20241205 at 12:56:00 and price 0.34\n",
      "  -> SPY is 608.32 and strike is 608.0\n",
      "  -> Target EXIT for P_608.0_20241205 at 0.69. Profit: $-3500.00\n",
      "\n",
      "--- Processing Day: 2024-12-06 ---\n",
      "Fetching options across 607.69\n"
     ]
    },
    {
     "data": {
      "application/vnd.jupyter.widget-view+json": {
       "model_id": "3a333fec23c643c2ad6835d3f286297f",
       "version_major": 2,
       "version_minor": 0
      },
      "text/plain": [
       "FloatProgress(value=0.0, layout=Layout(width='auto'), style=ProgressStyle(bar_color='black'))"
      ]
     },
     "metadata": {},
     "output_type": "display_data"
    },
    {
     "name": "stdout",
     "output_type": "stream",
     "text": [
      "Total options found for today are: 26\n",
      "\n",
      "--- Phase 2: Preparing Master DataFrame ---\n",
      "✅ Successfully created master DataFrame with 260 total columns.\n",
      "['P_602.0_20241206', 'C_602.0_20241206', 'P_603.0_20241206', 'C_603.0_20241206', 'P_604.0_20241206', 'C_604.0_20241206', 'P_605.0_20241206', 'C_605.0_20241206', 'P_606.0_20241206', 'C_606.0_20241206', 'P_607.0_20241206', 'C_607.0_20241206', 'P_608.0_20241206', 'C_608.0_20241206', 'P_609.0_20241206', 'C_609.0_20241206', 'P_610.0_20241206', 'C_610.0_20241206', 'P_611.0_20241206', 'C_611.0_20241206', 'P_612.0_20241206', 'C_612.0_20241206', 'P_613.0_20241206', 'C_613.0_20241206', 'P_614.0_20241206', 'C_614.0_20241206']\n",
      "  -> Short ATM put ENTRY for P_608.0_20241206 at 09:41:00 and price 0.84\n",
      "  -> SPY is 608.15 and strike is 608.0\n",
      "  -> Short ATM put ENTRY for P_607.0_20241206 at 12:48:00 and price 0.41\n",
      "  -> SPY is 607.31 and strike is 607.0\n",
      "Stoploss of  -1 side entry was 0.84 in P_608.0_20241206 at 0.33\n",
      "  -> EOD EXIT for P_608.0_20241206 at 0.33. Profit: $5100.00\n",
      "EOD CLosing of -1 side positon in P_607.0_20241206 at 2024-12-06 15:20:00\n",
      "  -> EOD EXIT for P_607.0_20241206 at 0.09. Profit: $3200.00\n",
      "\n",
      "--- Processing Day: 2024-12-09 ---\n",
      "Fetching options across 607.68\n"
     ]
    },
    {
     "data": {
      "application/vnd.jupyter.widget-view+json": {
       "model_id": "94b12d13d63d41d993e5776eaf4b2dac",
       "version_major": 2,
       "version_minor": 0
      },
      "text/plain": [
       "FloatProgress(value=0.0, layout=Layout(width='auto'), style=ProgressStyle(bar_color='black'))"
      ]
     },
     "metadata": {},
     "output_type": "display_data"
    },
    {
     "name": "stdout",
     "output_type": "stream",
     "text": [
      "Total options found for today are: 26\n",
      "\n",
      "--- Phase 2: Preparing Master DataFrame ---\n",
      "✅ Successfully created master DataFrame with 260 total columns.\n",
      "['P_602.0_20241209', 'C_602.0_20241209', 'P_603.0_20241209', 'C_603.0_20241209', 'P_604.0_20241209', 'C_604.0_20241209', 'P_605.0_20241209', 'C_605.0_20241209', 'P_606.0_20241209', 'C_606.0_20241209', 'P_607.0_20241209', 'C_607.0_20241209', 'P_608.0_20241209', 'C_608.0_20241209', 'P_609.0_20241209', 'C_609.0_20241209', 'P_610.0_20241209', 'C_610.0_20241209', 'P_611.0_20241209', 'C_611.0_20241209', 'P_612.0_20241209', 'C_612.0_20241209', 'P_613.0_20241209', 'C_613.0_20241209', 'P_614.0_20241209', 'C_614.0_20241209']\n",
      "  -> Short ATM put ENTRY for P_605.0_20241209 at 11:15:00 and price 0.73\n",
      "  -> SPY is 605.06 and strike is 605.0\n",
      "  -> Short ATM put ENTRY for P_606.0_20241209 at 11:44:00 and price 0.84\n",
      "  -> SPY is 605.58 and strike is 606.0\n",
      "Stoploss of  -1 side entry was 0.73 in P_605.0_20241209 at 0.22\n",
      "  -> EOD EXIT for P_605.0_20241209 at 0.22. Profit: $5100.00\n",
      "  -> Short ATM put ENTRY for P_605.0_20241209 at 13:06:00 and price 0.38\n",
      "  -> SPY is 605.31 and strike is 605.0\n",
      "Stoploss of  -1 side entry was 0.84 in P_606.0_20241209 at 0.28\n",
      "  -> EOD EXIT for P_606.0_20241209 at 0.28. Profit: $5600.00\n",
      "EOD CLosing of -1 side positon in P_605.0_20241209 at 2024-12-09 15:16:00\n",
      "  -> EOD EXIT for P_605.0_20241209 at 0.51. Profit: $-1300.00\n",
      "\n",
      "--- Processing Day: 2024-12-10 ---\n",
      "Fetching options across 604.94\n"
     ]
    },
    {
     "data": {
      "application/vnd.jupyter.widget-view+json": {
       "model_id": "3aa497ddae554b5287b944b82d863ee0",
       "version_major": 2,
       "version_minor": 0
      },
      "text/plain": [
       "FloatProgress(value=0.0, layout=Layout(width='auto'), style=ProgressStyle(bar_color='black'))"
      ]
     },
     "metadata": {},
     "output_type": "display_data"
    },
    {
     "name": "stdout",
     "output_type": "stream",
     "text": [
      "Total options found for today are: 26\n",
      "\n",
      "--- Phase 2: Preparing Master DataFrame ---\n",
      "✅ Successfully created master DataFrame with 260 total columns.\n",
      "['P_599.0_20241210', 'C_599.0_20241210', 'P_600.0_20241210', 'C_600.0_20241210', 'P_601.0_20241210', 'C_601.0_20241210', 'P_602.0_20241210', 'C_602.0_20241210', 'P_603.0_20241210', 'C_603.0_20241210', 'P_604.0_20241210', 'C_604.0_20241210', 'P_605.0_20241210', 'C_605.0_20241210', 'P_606.0_20241210', 'C_606.0_20241210', 'P_607.0_20241210', 'C_607.0_20241210', 'P_608.0_20241210', 'C_608.0_20241210', 'P_609.0_20241210', 'C_609.0_20241210', 'P_610.0_20241210', 'C_610.0_20241210', 'P_611.0_20241210', 'C_611.0_20241210']\n",
      "  -> Short ATM put ENTRY for P_605.0_20241210 at 09:44:00 and price 0.96\n",
      "  -> SPY is 604.71 and strike is 605.0\n",
      "Stoploss of  -1 side entry was 0.96 in P_605.0_20241210 at 0.44\n",
      "  -> EOD EXIT for P_605.0_20241210 at 0.44. Profit: $5200.00\n",
      "  -> Short ATM put ENTRY for P_605.0_20241210 at 11:07:00 and price 0.59\n",
      "  -> SPY is 605.03 and strike is 605.0\n",
      "  -> Target EXIT for P_605.0_20241210 at 0.89. Profit: $-3000.00\n",
      "  -> Short ATM put ENTRY for P_605.0_20241210 at 11:38:00 and price 0.83\n",
      "  -> SPY is 604.56 and strike is 605.0\n",
      "  -> Short ATM put ENTRY for P_604.0_20241210 at 11:47:00 and price 0.44\n",
      "  -> SPY is 604.37 and strike is 604.0\n",
      "  -> Target EXIT for P_605.0_20241210 at 1.09. Profit: $-2600.00\n",
      "  -> Target EXIT for P_604.0_20241210 at 0.71. Profit: $-2700.00\n",
      "\n",
      "--- Processing Day: 2024-12-11 ---\n",
      "Fetching options across 606.07\n"
     ]
    },
    {
     "data": {
      "application/vnd.jupyter.widget-view+json": {
       "model_id": "1f9dffd1e12b4dc3b9e1219c340d97e1",
       "version_major": 2,
       "version_minor": 0
      },
      "text/plain": [
       "FloatProgress(value=0.0, layout=Layout(width='auto'), style=ProgressStyle(bar_color='black'))"
      ]
     },
     "metadata": {},
     "output_type": "display_data"
    },
    {
     "name": "stdout",
     "output_type": "stream",
     "text": [
      "Total options found for today are: 26\n",
      "\n",
      "--- Phase 2: Preparing Master DataFrame ---\n",
      "✅ Successfully created master DataFrame with 260 total columns.\n",
      "['P_600.0_20241211', 'C_600.0_20241211', 'P_601.0_20241211', 'C_601.0_20241211', 'P_602.0_20241211', 'C_602.0_20241211', 'P_603.0_20241211', 'C_603.0_20241211', 'P_604.0_20241211', 'C_604.0_20241211', 'P_605.0_20241211', 'C_605.0_20241211', 'P_606.0_20241211', 'C_606.0_20241211', 'P_607.0_20241211', 'C_607.0_20241211', 'P_608.0_20241211', 'C_608.0_20241211', 'P_609.0_20241211', 'C_609.0_20241211', 'P_610.0_20241211', 'C_610.0_20241211', 'P_611.0_20241211', 'C_611.0_20241211', 'P_612.0_20241211', 'C_612.0_20241211']\n",
      "\n",
      "--- Processing Day: 2024-12-12 ---\n",
      "Fetching options across 606.47\n"
     ]
    },
    {
     "data": {
      "application/vnd.jupyter.widget-view+json": {
       "model_id": "87c1cc49a45e48afb0231474104f9a2b",
       "version_major": 2,
       "version_minor": 0
      },
      "text/plain": [
       "FloatProgress(value=0.0, layout=Layout(width='auto'), style=ProgressStyle(bar_color='black'))"
      ]
     },
     "metadata": {},
     "output_type": "display_data"
    },
    {
     "name": "stdout",
     "output_type": "stream",
     "text": [
      "Total options found for today are: 26\n",
      "\n",
      "--- Phase 2: Preparing Master DataFrame ---\n",
      "✅ Successfully created master DataFrame with 260 total columns.\n",
      "['P_600.0_20241212', 'C_600.0_20241212', 'P_601.0_20241212', 'C_601.0_20241212', 'P_602.0_20241212', 'C_602.0_20241212', 'P_603.0_20241212', 'C_603.0_20241212', 'P_604.0_20241212', 'C_604.0_20241212', 'P_605.0_20241212', 'C_605.0_20241212', 'P_606.0_20241212', 'C_606.0_20241212', 'P_607.0_20241212', 'C_607.0_20241212', 'P_608.0_20241212', 'C_608.0_20241212', 'P_609.0_20241212', 'C_609.0_20241212', 'P_610.0_20241212', 'C_610.0_20241212', 'P_611.0_20241212', 'C_611.0_20241212', 'P_612.0_20241212', 'C_612.0_20241212']\n",
      "  -> Short ATM put ENTRY for P_607.0_20241212 at 10:36:00 and price 0.91\n",
      "  -> SPY is 606.65 and strike is 607.0\n",
      "  -> Target EXIT for P_607.0_20241212 at 1.23. Profit: $-3200.00\n",
      "\n",
      "--- Processing Day: 2024-12-13 ---\n",
      "Fetching options across 606.49\n"
     ]
    },
    {
     "data": {
      "application/vnd.jupyter.widget-view+json": {
       "model_id": "539dc6e0c118465a9e709ad75952b160",
       "version_major": 2,
       "version_minor": 0
      },
      "text/plain": [
       "FloatProgress(value=0.0, layout=Layout(width='auto'), style=ProgressStyle(bar_color='black'))"
      ]
     },
     "metadata": {},
     "output_type": "display_data"
    },
    {
     "name": "stdout",
     "output_type": "stream",
     "text": [
      "Total options found for today are: 26\n",
      "\n",
      "--- Phase 2: Preparing Master DataFrame ---\n",
      "✅ Successfully created master DataFrame with 260 total columns.\n",
      "['P_600.0_20241213', 'C_600.0_20241213', 'P_601.0_20241213', 'C_601.0_20241213', 'P_602.0_20241213', 'C_602.0_20241213', 'P_603.0_20241213', 'C_603.0_20241213', 'P_604.0_20241213', 'C_604.0_20241213', 'P_605.0_20241213', 'C_605.0_20241213', 'P_606.0_20241213', 'C_606.0_20241213', 'P_607.0_20241213', 'C_607.0_20241213', 'P_608.0_20241213', 'C_608.0_20241213', 'P_609.0_20241213', 'C_609.0_20241213', 'P_610.0_20241213', 'C_610.0_20241213', 'P_611.0_20241213', 'C_611.0_20241213', 'P_612.0_20241213', 'C_612.0_20241213']\n",
      "  -> Short ATM put ENTRY for P_604.0_20241213 at 10:47:00 and price 0.69\n",
      "  -> SPY is 604.13 and strike is 604.0\n",
      "  -> Target EXIT for P_604.0_20241213 at 0.98. Profit: $-2900.00\n",
      "  -> Short ATM put ENTRY for P_604.0_20241213 at 11:32:00 and price 0.67\n",
      "  -> SPY is 604.08 and strike is 604.0\n",
      "  -> Target EXIT for P_604.0_20241213 at 0.94. Profit: $-2700.00\n",
      "  -> Short ATM put ENTRY for P_604.0_20241213 at 13:29:00 and price 0.52\n",
      "  -> SPY is 604.01 and strike is 604.0\n",
      "EOD CLosing of -1 side positon in P_604.0_20241213 at 2024-12-13 15:20:00\n",
      "  -> EOD EXIT for P_604.0_20241213 at 0.22. Profit: $3000.00\n",
      "\n",
      "--- Processing Day: 2024-12-17 ---\n",
      "Fetching options across 604.03\n"
     ]
    },
    {
     "data": {
      "application/vnd.jupyter.widget-view+json": {
       "model_id": "ad5e07d6902c46409ee8b633c9c21715",
       "version_major": 2,
       "version_minor": 0
      },
      "text/plain": [
       "FloatProgress(value=0.0, layout=Layout(width='auto'), style=ProgressStyle(bar_color='black'))"
      ]
     },
     "metadata": {},
     "output_type": "display_data"
    },
    {
     "name": "stdout",
     "output_type": "stream",
     "text": [
      "Total options found for today are: 26\n",
      "\n",
      "--- Phase 2: Preparing Master DataFrame ---\n",
      "✅ Successfully created master DataFrame with 260 total columns.\n",
      "['P_598.0_20241217', 'C_598.0_20241217', 'P_599.0_20241217', 'C_599.0_20241217', 'P_600.0_20241217', 'C_600.0_20241217', 'P_601.0_20241217', 'C_601.0_20241217', 'P_602.0_20241217', 'C_602.0_20241217', 'P_603.0_20241217', 'C_603.0_20241217', 'P_604.0_20241217', 'C_604.0_20241217', 'P_605.0_20241217', 'C_605.0_20241217', 'P_606.0_20241217', 'C_606.0_20241217', 'P_607.0_20241217', 'C_607.0_20241217', 'P_608.0_20241217', 'C_608.0_20241217', 'P_609.0_20241217', 'C_609.0_20241217', 'P_610.0_20241217', 'C_610.0_20241217']\n",
      "  -> Short ATM put ENTRY for P_605.0_20241217 at 09:48:00 and price 1.12\n",
      "  -> SPY is 604.53 and strike is 605.0\n",
      "  -> Target EXIT for P_605.0_20241217 at 1.48. Profit: $-3600.00\n",
      "  -> Short ATM put ENTRY for P_604.0_20241217 at 11:01:00 and price 0.71\n",
      "  -> SPY is 603.97 and strike is 604.0\n",
      "  -> Short ATM put ENTRY for P_605.0_20241217 at 11:15:00 and price 0.69\n",
      "  -> SPY is 604.96 and strike is 605.0\n",
      "  -> Target EXIT for P_605.0_20241217 at 0.97. Profit: $-2800.00\n",
      "  -> Short ATM put ENTRY for P_605.0_20241217 at 11:35:00 and price 0.64\n",
      "  -> SPY is 604.92 and strike is 605.0\n",
      "  -> Target EXIT for P_605.0_20241217 at 0.92. Profit: $-2800.00\n",
      "Stoploss of  -1 side entry was 0.71 in P_604.0_20241217 at 0.2\n",
      "  -> EOD EXIT for P_604.0_20241217 at 0.20. Profit: $5100.00\n",
      "  -> Short ATM put ENTRY for P_605.0_20241217 at 12:55:00 and price 0.62\n",
      "  -> SPY is 604.8 and strike is 605.0\n",
      "  -> Target EXIT for P_605.0_20241217 at 0.96. Profit: $-3400.00\n",
      "\n",
      "--- Processing Day: 2024-12-18 ---\n",
      "Fetching options across 603.98\n"
     ]
    },
    {
     "data": {
      "application/vnd.jupyter.widget-view+json": {
       "model_id": "1ce7125a79cd4199892ef29df6262e49",
       "version_major": 2,
       "version_minor": 0
      },
      "text/plain": [
       "FloatProgress(value=0.0, layout=Layout(width='auto'), style=ProgressStyle(bar_color='black'))"
      ]
     },
     "metadata": {},
     "output_type": "display_data"
    },
    {
     "name": "stdout",
     "output_type": "stream",
     "text": [
      "Total options found for today are: 26\n",
      "\n",
      "--- Phase 2: Preparing Master DataFrame ---\n",
      "✅ Successfully created master DataFrame with 260 total columns.\n",
      "['P_598.0_20241218', 'C_598.0_20241218', 'P_599.0_20241218', 'C_599.0_20241218', 'P_600.0_20241218', 'C_600.0_20241218', 'P_601.0_20241218', 'C_601.0_20241218', 'P_602.0_20241218', 'C_602.0_20241218', 'P_603.0_20241218', 'C_603.0_20241218', 'P_604.0_20241218', 'C_604.0_20241218', 'P_605.0_20241218', 'C_605.0_20241218', 'P_606.0_20241218', 'C_606.0_20241218', 'P_607.0_20241218', 'C_607.0_20241218', 'P_608.0_20241218', 'C_608.0_20241218', 'P_609.0_20241218', 'C_609.0_20241218', 'P_610.0_20241218', 'C_610.0_20241218']\n",
      "\n",
      "--- Processing Day: 2024-12-20 ---\n",
      "Fetching options across 585.47\n"
     ]
    },
    {
     "data": {
      "application/vnd.jupyter.widget-view+json": {
       "model_id": "2307c8c0bff740728475db292ef1acda",
       "version_major": 2,
       "version_minor": 0
      },
      "text/plain": [
       "FloatProgress(value=0.0, layout=Layout(width='auto'), style=ProgressStyle(bar_color='black'))"
      ]
     },
     "metadata": {},
     "output_type": "display_data"
    },
    {
     "name": "stdout",
     "output_type": "stream",
     "text": [
      "Total options found for today are: 26\n",
      "\n",
      "--- Phase 2: Preparing Master DataFrame ---\n",
      "✅ Successfully created master DataFrame with 260 total columns.\n",
      "['P_579.0_20241220', 'C_579.0_20241220', 'P_580.0_20241220', 'C_580.0_20241220', 'P_581.0_20241220', 'C_581.0_20241220', 'P_582.0_20241220', 'C_582.0_20241220', 'P_583.0_20241220', 'C_583.0_20241220', 'P_584.0_20241220', 'C_584.0_20241220', 'P_585.0_20241220', 'C_585.0_20241220', 'P_586.0_20241220', 'C_586.0_20241220', 'P_587.0_20241220', 'C_587.0_20241220', 'P_588.0_20241220', 'C_588.0_20241220', 'P_589.0_20241220', 'C_589.0_20241220', 'P_590.0_20241220', 'C_590.0_20241220', 'P_591.0_20241220', 'C_591.0_20241220']\n",
      "\n",
      "--- Processing Day: 2024-12-23 ---\n",
      "Fetching options across 590.88\n"
     ]
    },
    {
     "data": {
      "application/vnd.jupyter.widget-view+json": {
       "model_id": "1268e2317b624249a6c01004406eb2b2",
       "version_major": 2,
       "version_minor": 0
      },
      "text/plain": [
       "FloatProgress(value=0.0, layout=Layout(width='auto'), style=ProgressStyle(bar_color='black'))"
      ]
     },
     "metadata": {},
     "output_type": "display_data"
    },
    {
     "name": "stdout",
     "output_type": "stream",
     "text": [
      "Total options found for today are: 26\n",
      "\n",
      "--- Phase 2: Preparing Master DataFrame ---\n",
      "✅ Successfully created master DataFrame with 260 total columns.\n",
      "['P_585.0_20241223', 'C_585.0_20241223', 'P_586.0_20241223', 'C_586.0_20241223', 'P_587.0_20241223', 'C_587.0_20241223', 'P_588.0_20241223', 'C_588.0_20241223', 'P_589.0_20241223', 'C_589.0_20241223', 'P_590.0_20241223', 'C_590.0_20241223', 'P_591.0_20241223', 'C_591.0_20241223', 'P_592.0_20241223', 'C_592.0_20241223', 'P_593.0_20241223', 'C_593.0_20241223', 'P_594.0_20241223', 'C_594.0_20241223', 'P_595.0_20241223', 'C_595.0_20241223', 'P_596.0_20241223', 'C_596.0_20241223', 'P_597.0_20241223', 'C_597.0_20241223']\n",
      "  -> Short call ENTRY for C_591.0_20241223 at 09:44:00 and price 1.6\n",
      "  -> SPY is 590.91 and strike is 591.0\n",
      "Stoploss of  -1 side entry was 1.6 in C_591.0_20241223 at 1.08\n",
      "  -> EOD EXIT for C_591.0_20241223 at 1.08. Profit: $5200.00\n",
      "\n",
      "--- Processing Day: 2024-12-24 ---\n",
      "Fetching options across 595.66\n",
      "Total options found for today are: 26\n",
      "\n",
      "--- Phase 2: Preparing Master DataFrame ---\n",
      "✅ Successfully created master DataFrame with 260 total columns.\n",
      "['P_590.0_20241224', 'C_590.0_20241224', 'P_591.0_20241224', 'C_591.0_20241224', 'P_592.0_20241224', 'C_592.0_20241224', 'P_593.0_20241224', 'C_593.0_20241224', 'P_594.0_20241224', 'C_594.0_20241224', 'P_595.0_20241224', 'C_595.0_20241224', 'P_596.0_20241224', 'C_596.0_20241224', 'P_597.0_20241224', 'C_597.0_20241224', 'P_598.0_20241224', 'C_598.0_20241224', 'P_599.0_20241224', 'C_599.0_20241224', 'P_600.0_20241224', 'C_600.0_20241224', 'P_601.0_20241224', 'C_601.0_20241224', 'P_602.0_20241224', 'C_602.0_20241224']\n"
     ]
    }
   ],
   "source": [
    "#testig straddle\n",
    "\n",
    "\n",
    "strike_interval = 1\n",
    "lookback_days = 1\n",
    "option_multiplier = 100\n",
    "from collections import  defaultdict\n",
    "\n",
    "# ==============================================================================\n",
    "# SCRIPT STARTS HERE\n",
    "# ==============================================================================\n",
    "\n",
    "trade_log = []\n",
    "nyse = mcal.get_calendar('NYSE') \n",
    "unique_days = com_df.index.normalize().unique()\n",
    "print(f\"🚀 Starting backtest for {len(unique_days)} unique days...\")\n",
    "\n",
    "intial_capital = 100000\n",
    "position_cap = 100000\n",
    "\n",
    "# Track local trade log\n",
    "local_trade_log2 = pd.DataFrame(columns=['name', 'Side', 'entry_date', 'entry_price' , 'qty' ,  'exit_date', 'exit_price', 'order_no','profit' ])\n",
    "\n",
    "# ✅ Initialize a list to hold all trade dictionaries.\n",
    "final_trade_log_list = []\n",
    "\n",
    "\n",
    "# --- Main Loop: Iterate Through Each Day ---\n",
    "for day in unique_days[2:]:\n",
    "    \n",
    "    day_str = day.strftime('%Y-%m-%d')\n",
    "    print(f\"\\n--- Processing Day: {day_str} ---\")\n",
    "\n",
    "    try:\n",
    "        # Get the underlying data for today\n",
    "        daily_underlying_df = com_df[com_df.index.date == day.date()]\n",
    "        if daily_underlying_df.empty: continue\n",
    "        \n",
    "        open_price = daily_underlying_df['SPY_close'].iloc[0]\n",
    "        print(f\"Fetching options across {open_price}\")\n",
    "        \n",
    "        if pd.isna(open_price): continue\n",
    "        \n",
    "        atm_strike_open = np.round(open_price)\n",
    "\n",
    "        # ==============================================================================\n",
    "        # --- PHASE 1: PRE-FETCH ALL POTENTIAL OPTION DATA FOR THE DAY ---\n",
    "        # ==============================================================================\n",
    "        \n",
    "        strikes_to_fetch = set()\n",
    "        expiries_to_fetch = set()\n",
    "        legs_to_trade_info = {} # Store info to map data back to legs\n",
    "\n",
    "        for leg_name, params in strategy_config.items():\n",
    "            center_target_strike = atm_strike_open \n",
    "                        # 1. Calculate the lower and upper price bounds\n",
    "            lower_bound = center_target_strike * 0.99\n",
    "            upper_bound = center_target_strike * 1.01\n",
    "\n",
    "            # 2. Round the bounds to the nearest valid strike\n",
    "            rounded_lower = round_to_nearest(lower_bound, interval=strike_interval)\n",
    "            rounded_upper = round_to_nearest(upper_bound, interval=strike_interval)\n",
    "\n",
    "            # 3. Generate all strikes from the lower to upper bound, inclusive\n",
    "            all_strikes_in_range = np.arange(rounded_lower, rounded_upper + strike_interval, strike_interval)\n",
    "\n",
    "                        \n",
    "            # 4. Add all of these strikes to your set for fetching\n",
    "            strikes_to_fetch.update(all_strikes_in_range)\n",
    "\n",
    "            # print(f\"\\nDEBUG: Final unique strikes to be fetched: {sorted(list(strikes_to_fetch))}\")\n",
    "\n",
    "            schedule = nyse.schedule(start_date=day, end_date=day + pd.Timedelta(days=14))\n",
    "            target_expiry_str = schedule.index[params['expiry_offset']].strftime('%Y-%m-%d')\n",
    "            expiries_to_fetch.add(target_expiry_str)\n",
    "            \n",
    "            # Store the central parameters for this leg\n",
    "            legs_to_trade_info[leg_name] = {'strike': center_target_strike, 'expiry': target_expiry_str}\n",
    "\n",
    "        # Make one single, efficient call to fetch all data\n",
    "        bulk_data_df = fetch_bulk_option_data_call_put(\n",
    "            con=con, ticker='SPY', end_date_str=day_str, n_days=lookback_days,\n",
    "            strikes=list(strikes_to_fetch), expiries=list(expiries_to_fetch) )\n",
    "\n",
    "        if bulk_data_df.empty:\n",
    "            print(\"Could not pre-fetch any option data for the day. Skipping.\")\n",
    "            continue\n",
    "        grps = bulk_data_df.groupby(by=['strike' , 'optionType' , 'expiry'])\n",
    "        total_legs =grps.ngroups \n",
    "        print(f\"Total options found for today are: {total_legs}\") \n",
    "\n",
    "\n",
    "                # Assume 'grps' is your DataFrameGroupBy object and 'daily_underlying_df' has SPY data for the day\n",
    "\n",
    "        # ==============================================================================\n",
    "        # --- PHASE 2: PREPARE THE MASTER SIMULATION DATAFRAME ---\n",
    "        # ==============================================================================\n",
    "\n",
    "        print(\"\\n--- Phase 2: Preparing Master DataFrame ---\")\n",
    "\n",
    "        # 1. Create a list to hold the processed DataFrame for each option contract\n",
    "        all_option_dfs = []\n",
    "\n",
    "        # 2. Loop through each group (each unique option contract)\n",
    "        for (strike, option_type, expiry), contract_df in grps:\n",
    "            \n",
    "            # 3. Create a unique, descriptive prefix for this specific contract\n",
    "            # Example: 'C_468.0_20240105'\n",
    "            type_char = 'C' if option_type == 1 else 'P'\n",
    "            expiry_str = pd.to_datetime(expiry).strftime('%Y%m%d')\n",
    "            prefix = f\"{type_char}_{strike}_{expiry_str}_\"\n",
    "            \n",
    "            # 4. Add the prefix to all columns of this contract's DataFrame\n",
    "            prefixed_df = contract_df.add_prefix(prefix)\n",
    "            \n",
    "            # 5. Add the prepared DataFrame to our list\n",
    "            all_option_dfs.append(prefixed_df)\n",
    "\n",
    "        # 6. Concatenate all individual option DataFrames into one wide DataFrame\n",
    "        if all_option_dfs:\n",
    "            com_legs_df = pd.concat(all_option_dfs, axis=1, join='outer')\n",
    "                       \n",
    "            \n",
    "            print(f\"✅ Successfully created master DataFrame with {len(com_legs_df.columns)} total columns.\")\n",
    "            \n",
    "        else:\n",
    "            print(\"❌ No valid option groups to process.\")\n",
    "            \n",
    "\n",
    "         \n",
    "        legs_to_process  = [ symbol for symbol in com_legs_df.filter(like='_close').columns.str.replace('_close', '').unique()\n",
    "                                if symbol.startswith('C_') or symbol.startswith('P_')]\n",
    "\n",
    "        print(legs_to_process)\n",
    "\n",
    "        com_legs_df[[f\"{legs}_intraday_low\" for legs in legs_to_process]] = com_legs_df[[f\"{legs}_bidPrice\" for legs in legs_to_process]].apply(lambda x: intraday_low(com_legs_df, low_col=x.name,agg_func='min'))\n",
    "\n",
    "        com_legs_df[[f\"{legs}_intraday_high\" for legs in legs_to_process]] = com_legs_df[[f\"{legs}_askPrice\" for legs in legs_to_process]].apply(lambda x: intraday_high(com_legs_df, high_col=x.name,agg_func='max'))\n",
    "\n",
    "        close_cols = [f'{leg}_close' for leg in legs_to_process]\n",
    "        com_legs_df[[f'{leg}_ma10' for leg in legs_to_process]] =  com_legs_df[close_cols].rolling(window=10).mean()\n",
    "\n",
    "        # Calculate Today's Opening Price for each leg\n",
    "        com_legs_df[[f'{leg}_todayo' for leg in legs_to_process]] =  com_legs_df[[f'{leg}_close' for leg in legs_to_process]].resample('D').transform('first')\n",
    "\n",
    "        # Calculate Previous Day's Low (using bidPrice) for each leg\n",
    "        com_legs_df[[f\"{leg}_prevdayl\" for leg in legs_to_process]] = com_legs_df[[f\"{leg}_bidPrice\" for leg in legs_to_process]].apply(lambda x: get_x_day_low_numba(com_legs_df, n=1, column=x.name))\n",
    "\n",
    "        # Calculate Previous Day's High (using askPrice) for each leg\n",
    "        com_legs_df[[f\"{leg}_prevdayh\" for leg in legs_to_process]] = \\\n",
    "            com_legs_df[[f\"{leg}_askPrice\" for leg in legs_to_process]].apply(lambda x: get_x_day_high_numba(com_legs_df, n=1, column=x.name) )\n",
    "\n",
    "        \n",
    "        window_size = 15\n",
    "\n",
    "        # # 1. Rolling 15-Bar Highest Close\n",
    "        # com_legs_df[[f'{leg}_15min_high' for leg in legs_to_process]] = \\\n",
    "        #     com_legs_df[close_cols].rolling(window=window_size).max()\n",
    "\n",
    "        # # 2. Rolling 15-Bar Lowest Close\n",
    "        # com_legs_df[[f'{leg}_15min_low' for leg in legs_to_process]] = \\\n",
    "        #     com_legs_df[close_cols].rolling(window=window_size).min()\n",
    "\n",
    "        # # 3. Rolling 15-Bar Mean Close\n",
    "        # com_legs_df[[f'{leg}_15min_mean' for leg in legs_to_process]] = \\\n",
    "        #     com_legs_df[close_cols].rolling(window=window_size).mean()\n",
    "\n",
    "        com_legs_df[[f'{leg}_ROC_5' for leg in legs_to_process]] = com_legs_df[[f\"{leg}_close\" for leg in legs_to_process]].pct_change(periods=5)\n",
    "\n",
    "        \n",
    "        # 7. Join the wide option data with the underlying SPY data\n",
    "        com_df3 = pd.concat([daily_underlying_df, com_legs_df], join='outer', axis=1)\n",
    "        \n",
    "               \n",
    "        # 1. Calculate the rounded ATM strike for every row\n",
    "        atm_strikes = round_to_nearest(com_df3['SPY_close'], interval=1)\n",
    "        atm1_strikes = round_to_nearest(com_df3['SPY_close'], interval=1) + 1\n",
    "\n",
    "        # 2. Build the corresponding leg name for every row\n",
    "        # This creates a pandas Series where each value is a string like 'C_468.0_20240105'\n",
    "        com_df3['current_atm_leg'] = atm_strikes\n",
    "\n",
    "\n",
    "            # 2. Initialize state dictionaries, now including position_side\n",
    "        is_in_position = {}\n",
    "        entry_price = {}\n",
    "        entry_timestamp = {} # <-- ADD THIS LINE\n",
    "        unrealized_pnl = {}\n",
    "        position_side = {} # <-- ADD THIS\n",
    "        bar_count = {}\n",
    "        qty = {}\n",
    "        entry_strike = {}\n",
    "                \n",
    "            # The main loop now iterates using an integer index 'i'\n",
    "        for i in range(len(com_df3)):\n",
    "            \n",
    "            # Get the timestamp and row data using the integer index 'i'\n",
    "            timestamp = com_df3.index[i]\n",
    "            row = com_df3.iloc[i]\n",
    "            \n",
    "            # --- Part A: Update PnL & Check Exits for OPEN positions ---\n",
    "            for open_leg_name in list(is_in_position.keys()):\n",
    "                #print(f\"Found position in {open_leg_name}\")\n",
    "\n",
    "                side = position_side[open_leg_name]\n",
    "                current_price = row[f'{open_leg_name}_close']\n",
    "                \n",
    "                pnl = (current_price - entry_price[open_leg_name]) * qty[open_leg_name] * side\n",
    "                unrealized_pnl[open_leg_name] = pnl\n",
    "                bar_count[open_leg_name] += 1\n",
    "\n",
    "                # --- Part B: Check for NEW entries ---\n",
    "            for leg_name in legs_to_process:\n",
    "                #print(f\"Leg name is {leg_name}\")\n",
    "                if not is_in_position.get(leg_name):\n",
    "                # and row['SPY_close']>row['SPY_intraday_high']*0.997                                         \n",
    "                                        # Add the 'f' prefix to all strings accessing columns with leg_name\n",
    "                                        # and \n",
    "                        #row[f'{leg_name}_close'] < min((com_df3[f\"{leg_name}_intraday_high\"].iloc[i - 1] * 0.9), com_df3[f\"{leg_name}_close\"].iloc[i - 1] * 1.1)\n",
    "                    short_put_met = (\n",
    "                        #and  row['SPY_close']>row['SPY_prevdayl']*1.002\n",
    "                        time(9, 40) < timestamp.time() <= time(14, 15) and\n",
    "                        row[f\"{leg_name}_close\"] < 1.15 and row[f\"{leg_name}_close\"] > 0.3 and row[f\"{leg_name}_optionType\"] ==-1  and   row['SPY_close']>row['SPY_intraday_low']*1.00 and \n",
    "                        row[f\"{leg_name}_intraday_high\"] < 2.5 and row[f\"{leg_name}_strike\"] ==row['current_atm_leg']   and row[f'{leg_name}_close'] < min((com_df3[f\"{leg_name}_intraday_high\"].iloc[i - 1] * 0.8), com_df3[f\"{leg_name}_close\"].iloc[i - 1] * 1.1) and \n",
    "                        row[f\"{leg_name}_ROC_5\"] < -0.01   )\n",
    "\n",
    "                    short_call_met = (\n",
    "                        time(9, 40) < timestamp.time() <= time(14, 15) and row['SPY_close']<row['SPY_intraday_low']*1.01 and row['SPY_close']<row['SPY_intraday_high']*0.999  and\n",
    "                        row[f\"{leg_name}_close\"] > 1.15 and row[f\"{leg_name}_optionType\"] ==1 and\n",
    "                        row[f\"{leg_name}_intraday_low\"] >0.5 and row[f\"{leg_name}_intraday_high\"] < 2.5  and row[f\"{leg_name}_strike\"] ==row['current_atm_leg'] and \n",
    "                        row[f'{leg_name}_close'] < min((com_df3[f\"{leg_name}_intraday_high\"].iloc[i - 1] * 0.85), com_df3[f\"{leg_name}_close\"].iloc[i - 1] * 1.05) \n",
    "                        and row[f\"{leg_name}_ROC_5\"] < 0.1  )\n",
    "\n",
    "\n",
    "\n",
    "                    # --- Check for a BUY Entry ---\n",
    "                    if short_put_met:\n",
    "                        \n",
    "                        is_in_position[leg_name] = True\n",
    "                        position_side[leg_name] = -1 # <-- Set side to 1 for long\n",
    "                        entry_price[leg_name] = row[f'{leg_name}_askPrice']\n",
    "                        qty[leg_name] = 100\n",
    "                        bar_count[leg_name] = 0\n",
    "                        entry_timestamp[leg_name] = timestamp\n",
    "                        entry_strike[leg_name] = row[f'{leg_name}_strike']\n",
    "                        print(f\"  -> Short ATM put ENTRY for {leg_name} at {timestamp.time()} and price {entry_price[leg_name]}\")\n",
    "                        print(f\"  -> SPY is {row['SPY_close']} and strike is {row[f\"{leg_name}_strike\"]}\")\n",
    "\n",
    "                    if short_call_met:\n",
    "                        \n",
    "                        is_in_position[leg_name] = True\n",
    "                        position_side[leg_name] = -1 # <-- Set side to 1 for long\n",
    "                        entry_price[leg_name] = row[f'{leg_name}_askPrice']\n",
    "                        qty[leg_name] = 100\n",
    "                        bar_count[leg_name] = 0\n",
    "                        entry_timestamp[leg_name] = timestamp\n",
    "                        entry_strike[leg_name] = row[f'{leg_name}_strike']\n",
    "                        print(f\"  -> Short call ENTRY for {leg_name} at {timestamp.time()} and price {entry_price[leg_name]}\")\n",
    "                        print(f\"  -> SPY is {row['SPY_close']} and strike is {row[f\"{leg_name}_strike\"]}\")\n",
    "\n",
    "                if is_in_position.get(leg_name):\n",
    "\n",
    "\n",
    "                    sell_condition_met = timestamp.time() >= time(15, 15) and row[f'{leg_name}_bidPrice']<com_df3[f'{leg_name}_bidPrice'].iloc[i-1]-0.01\n",
    "                    sell_condition_met3 = timestamp.time() >= time(15, 15) and  row[f'{leg_name}_bidPrice']<com_df3[f'{leg_name}_intraday_low'].iloc[i-1]*0.999\n",
    "\n",
    "                    sell_condition_2 = row[f'{leg_name}_bidPrice']>entry_price[leg_name]+0.25 and row[f'{leg_name}_bidPrice']>com_df3[f'{leg_name}_bidPrice'].iloc[i-1]*1.02\n",
    "                    #sell_condition_4 = row[f'{leg_name}_bidPrice']>row[f'{leg_name}_intraday_low']+0.75 and timestamp.time()>time(14 , 1) and bar_count[leg_name]>10 and row[f'{leg_name}_bidPrice']>com_df3[f'{leg_name}_ma10'].iloc[i-1]*1.2\n",
    "                    sell_condition_3 = row[f'{leg_name}_bidPrice']<entry_price[leg_name]-0.5 and row[f'{leg_name}_bidPrice']<com_df3[f'{leg_name}_bidPrice'].iloc[i-1]*0.99\n",
    "\n",
    "                    if sell_condition_met :\n",
    "                        print(f\"EOD CLosing of {position_side[leg_name]} side positon in {leg_name} at {timestamp}\")    \n",
    "                            # 1. Get the Exit Price (use bid price since you are selling to close)\n",
    "                        exit_price = row[f'{leg_name}_bidPrice']\n",
    "                        side = position_side[leg_name]\n",
    "                            # ... etc.\n",
    "                            # 2. Calculate the final profit\n",
    "                        profit = (exit_price - entry_price[leg_name]) * qty[leg_name] * side * option_multiplier\n",
    "\n",
    "                        # 3. Create a dictionary for the trade log\n",
    "                        trade_details = {\n",
    "                            'name': leg_name,\n",
    "                            'Side': 'BUY' if side == 1 else 'SELL',\n",
    "                            'entry_date': entry_timestamp[leg_name], # We will add this in the next step\n",
    "                            'entry_price': entry_price[leg_name],\n",
    "                            'qty': qty[leg_name],\n",
    "                            'exit_date': timestamp,\n",
    "                            'exit_price': exit_price,\n",
    "                            'profit': profit,\n",
    "                            'bars_held': bar_count[leg_name]\n",
    "                        }\n",
    "                        \n",
    "                        # 4. Append the log to our final list\n",
    "                        final_trade_log_list.append(trade_details)\n",
    "                        \n",
    "                        print(f\"  -> EOD EXIT for {leg_name} at {exit_price:.2f}. Profit: ${profit:.2f}\")\n",
    "\n",
    "                        # 5. Reset all state dictionaries for this leg\n",
    "                        del is_in_position[leg_name]\n",
    "                        del position_side[leg_name]\n",
    "                        del entry_price[leg_name]\n",
    "                        del qty[leg_name]\n",
    "                        del bar_count[leg_name]\n",
    "                        del unrealized_pnl[leg_name]\n",
    "                        del entry_timestamp[leg_name] # Also remove the entry timestamp\n",
    "                    \n",
    "                    if sell_condition_3 :\n",
    "                        \n",
    "                            \n",
    "                        exit_price = row[f'{leg_name}_bidPrice']\n",
    "                        side = position_side[leg_name]\n",
    "                            # ... etc.\n",
    "                            # 2. Calculate the final profit\n",
    "                        profit = (exit_price - entry_price[leg_name]) * qty[leg_name] * side * option_multiplier\n",
    "                        print(f\"Stoploss of  {position_side[leg_name]} side entry was {entry_price[leg_name]} in {leg_name} at {exit_price}\")    \n",
    "                        # 3. Create a dictionary for the trade log\n",
    "                        trade_details = {\n",
    "                            'name': leg_name,\n",
    "                            'Side': 'BUY' if side == 1 else 'SELL',\n",
    "                            'entry_date': entry_timestamp[leg_name], # We will add this in the next step\n",
    "                            'entry_price': entry_price[leg_name],\n",
    "                            'qty': qty[leg_name],\n",
    "                            'exit_date': timestamp,\n",
    "                            'exit_price': exit_price,\n",
    "                            'profit': profit,\n",
    "                            'bars_held': bar_count[leg_name]\n",
    "                        }\n",
    "                        \n",
    "                        # 4. Append the log to our final list\n",
    "                        final_trade_log_list.append(trade_details)\n",
    "                        \n",
    "                        print(f\"  -> EOD EXIT for {leg_name} at {exit_price:.2f}. Profit: ${profit:.2f}\")\n",
    "\n",
    "                        # 5. Reset all state dictionaries for this leg\n",
    "                        del is_in_position[leg_name]\n",
    "                        del position_side[leg_name]\n",
    "                        del entry_price[leg_name]\n",
    "                        del qty[leg_name]\n",
    "                        del bar_count[leg_name]\n",
    "                        del unrealized_pnl[leg_name]\n",
    "                        del entry_timestamp[leg_name] # Also remove the entry timestamp\n",
    "                    \n",
    "                    if sell_condition_met3:\n",
    "                       \n",
    "                       \n",
    "                        exit_price = row[f'{leg_name}_bidPrice']\n",
    "                        side = position_side[leg_name]\n",
    "                            # ... etc.\n",
    "                            # 2. Calculate the final profit\n",
    "                        profit = (exit_price - entry_price[leg_name]) * qty[leg_name] * side * option_multiplier\n",
    "\n",
    "                        # 3. Create a dictionary for the trade log\n",
    "                        trade_details = {\n",
    "                            'name': leg_name,\n",
    "                            'Side': 'BUY' if side == 1 else 'SELL',\n",
    "                            'entry_date': entry_timestamp[leg_name], # We will add this in the next step\n",
    "                            'entry_price': entry_price[leg_name],\n",
    "                            'qty': qty[leg_name],\n",
    "                            'exit_date': timestamp,\n",
    "                            'exit_price': exit_price,\n",
    "                            'profit': profit,\n",
    "                            'bars_held': bar_count[leg_name]\n",
    "                        }\n",
    "                        \n",
    "                        # 4. Append the log to our final list\n",
    "                        final_trade_log_list.append(trade_details)\n",
    "                        \n",
    "                        print(f\"  -> MA cross exit for {leg_name} at {exit_price:.2f}. Profit: ${profit:.2f}\")\n",
    "\n",
    "                        # 5. Reset all state dictionaries for this leg\n",
    "                        del is_in_position[leg_name]\n",
    "                        del position_side[leg_name]\n",
    "                        del entry_price[leg_name]\n",
    "                        del qty[leg_name]\n",
    "                        del bar_count[leg_name]\n",
    "                        del unrealized_pnl[leg_name]\n",
    "                        del entry_timestamp[leg_name] # Also remove the entry timestamp\n",
    "\n",
    "\n",
    "\n",
    "\n",
    "                    if sell_condition_2:\n",
    "                       \n",
    "                       \n",
    "                        exit_price = row[f'{leg_name}_bidPrice']\n",
    "                        side = position_side[leg_name]\n",
    "                            # ... etc.\n",
    "                            # 2. Calculate the final profit\n",
    "                        profit = (exit_price - entry_price[leg_name]) * qty[leg_name] * side * option_multiplier\n",
    "\n",
    "                        # 3. Create a dictionary for the trade log\n",
    "                        trade_details = {\n",
    "                            'name': leg_name,\n",
    "                            'Side': 'BUY' if side == 1 else 'SELL',\n",
    "                            'entry_date': entry_timestamp[leg_name], # We will add this in the next step\n",
    "                            'entry_price': entry_price[leg_name],\n",
    "                            'qty': qty[leg_name],\n",
    "                            'exit_date': timestamp,\n",
    "                            'exit_price': exit_price,\n",
    "                            'profit': profit,\n",
    "                            'bars_held': bar_count[leg_name]\n",
    "                        }\n",
    "                        \n",
    "                        # 4. Append the log to our final list\n",
    "                        final_trade_log_list.append(trade_details)\n",
    "                        \n",
    "                        print(f\"  -> Target EXIT for {leg_name} at {exit_price:.2f}. Profit: ${profit:.2f}\")\n",
    "\n",
    "                        # 5. Reset all state dictionaries for this leg\n",
    "                        del is_in_position[leg_name]\n",
    "                        del position_side[leg_name]\n",
    "                        del entry_price[leg_name]\n",
    "                        del qty[leg_name]\n",
    "                        del bar_count[leg_name]\n",
    "                        del unrealized_pnl[leg_name]\n",
    "                        del entry_timestamp[leg_name] # Also remove the entry timestamp\n",
    "\n",
    "\n",
    "\n",
    "        \n",
    "    except Exception as e:\n",
    "        print(f\"  ❌ An error occurred on {day_str}: {e}\")\n",
    "\n",
    "\n",
    "\n"
   ]
  },
  {
   "cell_type": "code",
   "execution_count": 87,
   "id": "0e2f2be5",
   "metadata": {},
   "outputs": [],
   "source": [
    "local_trade_log2 = pd.DataFrame(final_trade_log_list)\n",
    "daily_profits = local_trade_log2.groupby(local_trade_log2['entry_date'].dt.date)['profit'].sum()"
   ]
  },
  {
   "cell_type": "code",
   "execution_count": 88,
   "id": "b56e08d3",
   "metadata": {},
   "outputs": [
    {
     "data": {
      "text/html": [
       "<div>\n",
       "<style scoped>\n",
       "    .dataframe tbody tr th:only-of-type {\n",
       "        vertical-align: middle;\n",
       "    }\n",
       "\n",
       "    .dataframe tbody tr th {\n",
       "        vertical-align: top;\n",
       "    }\n",
       "\n",
       "    .dataframe thead th {\n",
       "        text-align: right;\n",
       "    }\n",
       "</style>\n",
       "<table border=\"1\" class=\"dataframe\">\n",
       "  <thead>\n",
       "    <tr style=\"text-align: right;\">\n",
       "      <th></th>\n",
       "      <th>name</th>\n",
       "      <th>Side</th>\n",
       "      <th>entry_date</th>\n",
       "      <th>entry_price</th>\n",
       "      <th>qty</th>\n",
       "      <th>exit_date</th>\n",
       "      <th>exit_price</th>\n",
       "      <th>profit</th>\n",
       "      <th>bars_held</th>\n",
       "    </tr>\n",
       "  </thead>\n",
       "  <tbody>\n",
       "    <tr>\n",
       "      <th>0</th>\n",
       "      <td>P_468.0_20240105</td>\n",
       "      <td>SELL</td>\n",
       "      <td>2024-01-05 09:46:00</td>\n",
       "      <td>0.91000000</td>\n",
       "      <td>100</td>\n",
       "      <td>2024-01-05 10:07:00</td>\n",
       "      <td>0.37000000</td>\n",
       "      <td>5400.00000000</td>\n",
       "      <td>21</td>\n",
       "    </tr>\n",
       "    <tr>\n",
       "      <th>1</th>\n",
       "      <td>P_469.0_20240105</td>\n",
       "      <td>SELL</td>\n",
       "      <td>2024-01-05 10:22:00</td>\n",
       "      <td>0.80000000</td>\n",
       "      <td>100</td>\n",
       "      <td>2024-01-05 12:07:00</td>\n",
       "      <td>1.07000000</td>\n",
       "      <td>-2700.00000000</td>\n",
       "      <td>105</td>\n",
       "    </tr>\n",
       "    <tr>\n",
       "      <th>2</th>\n",
       "      <td>P_468.0_20240105</td>\n",
       "      <td>SELL</td>\n",
       "      <td>2024-01-05 12:15:00</td>\n",
       "      <td>0.85000000</td>\n",
       "      <td>100</td>\n",
       "      <td>2024-01-05 12:30:00</td>\n",
       "      <td>1.20000000</td>\n",
       "      <td>-3500.00000000</td>\n",
       "      <td>15</td>\n",
       "    </tr>\n",
       "    <tr>\n",
       "      <th>3</th>\n",
       "      <td>P_468.0_20240105</td>\n",
       "      <td>SELL</td>\n",
       "      <td>2024-01-05 12:41:00</td>\n",
       "      <td>1.02000000</td>\n",
       "      <td>100</td>\n",
       "      <td>2024-01-05 13:04:00</td>\n",
       "      <td>1.37000000</td>\n",
       "      <td>-3500.00000000</td>\n",
       "      <td>23</td>\n",
       "    </tr>\n",
       "    <tr>\n",
       "      <th>4</th>\n",
       "      <td>P_467.0_20240105</td>\n",
       "      <td>SELL</td>\n",
       "      <td>2024-01-05 13:25:00</td>\n",
       "      <td>0.68000000</td>\n",
       "      <td>100</td>\n",
       "      <td>2024-01-05 13:40:00</td>\n",
       "      <td>0.18000000</td>\n",
       "      <td>5000.00000000</td>\n",
       "      <td>15</td>\n",
       "    </tr>\n",
       "    <tr>\n",
       "      <th>...</th>\n",
       "      <td>...</td>\n",
       "      <td>...</td>\n",
       "      <td>...</td>\n",
       "      <td>...</td>\n",
       "      <td>...</td>\n",
       "      <td>...</td>\n",
       "      <td>...</td>\n",
       "      <td>...</td>\n",
       "      <td>...</td>\n",
       "    </tr>\n",
       "    <tr>\n",
       "      <th>509</th>\n",
       "      <td>P_605.0_20241217</td>\n",
       "      <td>SELL</td>\n",
       "      <td>2024-12-17 11:15:00</td>\n",
       "      <td>0.69000000</td>\n",
       "      <td>100</td>\n",
       "      <td>2024-12-17 11:21:00</td>\n",
       "      <td>0.97000000</td>\n",
       "      <td>-2800.00000000</td>\n",
       "      <td>6</td>\n",
       "    </tr>\n",
       "    <tr>\n",
       "      <th>510</th>\n",
       "      <td>P_605.0_20241217</td>\n",
       "      <td>SELL</td>\n",
       "      <td>2024-12-17 11:35:00</td>\n",
       "      <td>0.64000000</td>\n",
       "      <td>100</td>\n",
       "      <td>2024-12-17 12:25:00</td>\n",
       "      <td>0.92000000</td>\n",
       "      <td>-2800.00000000</td>\n",
       "      <td>50</td>\n",
       "    </tr>\n",
       "    <tr>\n",
       "      <th>511</th>\n",
       "      <td>P_604.0_20241217</td>\n",
       "      <td>SELL</td>\n",
       "      <td>2024-12-17 11:01:00</td>\n",
       "      <td>0.71000000</td>\n",
       "      <td>100</td>\n",
       "      <td>2024-12-17 12:47:00</td>\n",
       "      <td>0.20000000</td>\n",
       "      <td>5100.00000000</td>\n",
       "      <td>106</td>\n",
       "    </tr>\n",
       "    <tr>\n",
       "      <th>512</th>\n",
       "      <td>P_605.0_20241217</td>\n",
       "      <td>SELL</td>\n",
       "      <td>2024-12-17 12:55:00</td>\n",
       "      <td>0.62000000</td>\n",
       "      <td>100</td>\n",
       "      <td>2024-12-17 13:19:00</td>\n",
       "      <td>0.96000000</td>\n",
       "      <td>-3400.00000000</td>\n",
       "      <td>24</td>\n",
       "    </tr>\n",
       "    <tr>\n",
       "      <th>513</th>\n",
       "      <td>C_591.0_20241223</td>\n",
       "      <td>SELL</td>\n",
       "      <td>2024-12-23 09:44:00</td>\n",
       "      <td>1.60000000</td>\n",
       "      <td>100</td>\n",
       "      <td>2024-12-23 09:53:00</td>\n",
       "      <td>1.08000000</td>\n",
       "      <td>5200.00000000</td>\n",
       "      <td>9</td>\n",
       "    </tr>\n",
       "  </tbody>\n",
       "</table>\n",
       "<p>514 rows × 9 columns</p>\n",
       "</div>"
      ],
      "text/plain": [
       "                 name  Side          entry_date  entry_price  qty  \\\n",
       "0    P_468.0_20240105  SELL 2024-01-05 09:46:00   0.91000000  100   \n",
       "1    P_469.0_20240105  SELL 2024-01-05 10:22:00   0.80000000  100   \n",
       "2    P_468.0_20240105  SELL 2024-01-05 12:15:00   0.85000000  100   \n",
       "3    P_468.0_20240105  SELL 2024-01-05 12:41:00   1.02000000  100   \n",
       "4    P_467.0_20240105  SELL 2024-01-05 13:25:00   0.68000000  100   \n",
       "..                ...   ...                 ...          ...  ...   \n",
       "509  P_605.0_20241217  SELL 2024-12-17 11:15:00   0.69000000  100   \n",
       "510  P_605.0_20241217  SELL 2024-12-17 11:35:00   0.64000000  100   \n",
       "511  P_604.0_20241217  SELL 2024-12-17 11:01:00   0.71000000  100   \n",
       "512  P_605.0_20241217  SELL 2024-12-17 12:55:00   0.62000000  100   \n",
       "513  C_591.0_20241223  SELL 2024-12-23 09:44:00   1.60000000  100   \n",
       "\n",
       "              exit_date  exit_price         profit  bars_held  \n",
       "0   2024-01-05 10:07:00  0.37000000  5400.00000000         21  \n",
       "1   2024-01-05 12:07:00  1.07000000 -2700.00000000        105  \n",
       "2   2024-01-05 12:30:00  1.20000000 -3500.00000000         15  \n",
       "3   2024-01-05 13:04:00  1.37000000 -3500.00000000         23  \n",
       "4   2024-01-05 13:40:00  0.18000000  5000.00000000         15  \n",
       "..                  ...         ...            ...        ...  \n",
       "509 2024-12-17 11:21:00  0.97000000 -2800.00000000          6  \n",
       "510 2024-12-17 12:25:00  0.92000000 -2800.00000000         50  \n",
       "511 2024-12-17 12:47:00  0.20000000  5100.00000000        106  \n",
       "512 2024-12-17 13:19:00  0.96000000 -3400.00000000         24  \n",
       "513 2024-12-23 09:53:00  1.08000000  5200.00000000          9  \n",
       "\n",
       "[514 rows x 9 columns]"
      ]
     },
     "execution_count": 88,
     "metadata": {},
     "output_type": "execute_result"
    }
   ],
   "source": [
    "local_trade_log2"
   ]
  },
  {
   "cell_type": "code",
   "execution_count": 89,
   "id": "603b474c",
   "metadata": {},
   "outputs": [
    {
     "data": {
      "text/plain": [
       "entry_date\n",
       "2024-01-05    6100.00000000\n",
       "2024-01-08    2500.00000000\n",
       "2024-01-09    7700.00000000\n",
       "2024-01-10    9400.00000000\n",
       "2024-01-11   -2500.00000000\n",
       "                  ...      \n",
       "2024-12-10   -3100.00000000\n",
       "2024-12-12   -3200.00000000\n",
       "2024-12-13   -2600.00000000\n",
       "2024-12-17   -7500.00000000\n",
       "2024-12-23    5200.00000000\n",
       "Name: profit, Length: 142, dtype: float64"
      ]
     },
     "execution_count": 89,
     "metadata": {},
     "output_type": "execute_result"
    }
   ],
   "source": [
    "daily_profits"
   ]
  },
  {
   "cell_type": "code",
   "execution_count": 90,
   "id": "8f6807a3",
   "metadata": {},
   "outputs": [
    {
     "data": {
      "text/plain": [
       "<Axes: xlabel='entry_date'>"
      ]
     },
     "execution_count": 90,
     "metadata": {},
     "output_type": "execute_result"
    },
    {
     "data": {
      "image/png": "[encoded data removed]",
      "text/plain": [
       "<Figure size 640x480 with 1 Axes>"
      ]
     },
     "metadata": {},
     "output_type": "display_data"
    }
   ],
   "source": [
    "daily_profits\n",
    "daily_profits.cumsum().plot()"
   ]
  },
  {
   "cell_type": "code",
   "execution_count": 28,
   "id": "62082f57",
   "metadata": {},
   "outputs": [
    {
     "name": "stdout",
     "output_type": "stream",
     "text": [
      "Number of long trades: 0 and short trades: 136 out of total trades: 136\n",
      "Average long trade profit: nan bps and short: 901.26 bps\n",
      "Net long profit: 0.00 and short profit: 1207000.00\n",
      "Equity at exit is : exit_date\n",
      "2024-01-05 12:08:00    9958000.00000000\n",
      "2024-01-09 13:06:00   10034000.00000000\n",
      "2024-01-10 10:33:00    9995000.00000000\n",
      "2024-01-10 14:15:00   10052000.00000000\n",
      "2024-01-12 11:39:00   10014000.00000000\n",
      "                             ...       \n",
      "2024-11-22 10:10:00   11199000.00000000\n",
      "2024-12-02 14:38:00   11223000.00000000\n",
      "2024-12-05 12:06:00   11184000.00000000\n",
      "2024-12-06 13:08:00   11142000.00000000\n",
      "2024-12-09 14:17:00   11207000.00000000\n",
      "Length: 136, dtype: float64\n",
      "Average Trade Profit: 8875.00\n",
      "Profit (bps) for each trade:\n",
      "Avergae trade profit in bps : 901.2552975795084\n",
      "Total Trade Count: 136\n",
      "Max Entries Per Day: 5\n",
      "Number of Losing Trades: 71\n",
      "Losing Trades Percentage: 52.21%\n",
      "Avg Holding Period in (Days) :\n",
      "0.0\n",
      "Number of Losing Trades > 10% Loss: 70\n",
      "Average Loss per Losing Trade: -41704.2254\n",
      "\n",
      "Average Profit Percentage per Trade: 8.88%\n",
      "Trade Expectancy: $8875.00 per trade\n",
      "Risk-Reward Ratio: 1.54:1\n",
      "Average Loss per Losing Trade: 64123.0769\n"
     ]
    },
    {
     "ename": "NameError",
     "evalue": "name 'absolute_symbol_pnl_series' is not defined",
     "output_type": "error",
     "traceback": [
      "\u001b[1;31m---------------------------------------------------------------------------\u001b[0m",
      "\u001b[1;31mNameError\u001b[0m                                 Traceback (most recent call last)",
      "Cell \u001b[1;32mIn[28], line 139\u001b[0m\n\u001b[0;32m    135\u001b[0m \u001b[38;5;28mprint\u001b[39m(\u001b[38;5;124mf\u001b[39m\u001b[38;5;124m\"\u001b[39m\u001b[38;5;124mAverage Loss per Losing Trade: \u001b[39m\u001b[38;5;132;01m{\u001b[39;00mavg_winning_trade\u001b[38;5;132;01m:\u001b[39;00m\u001b[38;5;124m.4f\u001b[39m\u001b[38;5;132;01m}\u001b[39;00m\u001b[38;5;124m\"\u001b[39m)\n\u001b[0;32m    138\u001b[0m abs_profit_df \u001b[38;5;241m=\u001b[39m  pd\u001b[38;5;241m.\u001b[39mDataFrame()\n\u001b[1;32m--> 139\u001b[0m \u001b[38;5;28;01mfor\u001b[39;00m symbol , data \u001b[38;5;129;01min\u001b[39;00m absolute_symbol_pnl_series\u001b[38;5;241m.\u001b[39mitems():\n\u001b[0;32m    141\u001b[0m     tdf \u001b[38;5;241m=\u001b[39m pd\u001b[38;5;241m.\u001b[39mDataFrame(data , columns\u001b[38;5;241m=\u001b[39m[\u001b[38;5;124m'\u001b[39m\u001b[38;5;124mtimestamp\u001b[39m\u001b[38;5;124m'\u001b[39m , symbol])\n\u001b[0;32m    142\u001b[0m     tdf\u001b[38;5;241m.\u001b[39mset_index(\u001b[38;5;124m'\u001b[39m\u001b[38;5;124mtimestamp\u001b[39m\u001b[38;5;124m'\u001b[39m , inplace\u001b[38;5;241m=\u001b[39m\u001b[38;5;28;01mTrue\u001b[39;00m)\n",
      "\u001b[1;31mNameError\u001b[0m: name 'absolute_symbol_pnl_series' is not defined"
     ]
    }
   ],
   "source": [
    "if 'entry_date' in local_trade_log2.columns:\n",
    "\n",
    "    local_trade_log2.set_index('entry_date' , inplace=True)\n",
    "\n",
    "    local_trade_log2.sort_index( ascending=True, inplace=True)\n",
    "\n",
    "if 'exit_date' in local_trade_log2.columns:\n",
    "    local_trade_log2['exit_date'] = pd.to_datetime(local_trade_log2['exit_date'])\n",
    "\n",
    "# Calculate the absolute percentage difference between entry and exit prices\n",
    "local_trade_log2['price_change_pct'] = (local_trade_log2['exit_price'] - local_trade_log2['entry_price']).abs() / local_trade_log2['entry_price']\n",
    "\n",
    "# Count trades before filtering\n",
    "trades_before_filtering = len(local_trade_log2)\n",
    "\n",
    "average_trade_profit = local_trade_log2['profit'].mean()\n",
    "\n",
    "# First ensure consistent case for Side column\n",
    "\n",
    "if 'side' in local_trade_log2.columns:\n",
    "    local_trade_log2.rename(columns={'side': 'Side'}, inplace=True)\n",
    "\n",
    "\n",
    "local_trade_log2['Side'] = local_trade_log2['Side'].str.lower()\n",
    "\n",
    "# Calculate profit in bps (handles both buy/long and sell/short)\n",
    "local_trade_log2['profit_bps'] = np.where(\n",
    "    local_trade_log2['Side'].isin(['buy', 'long']),\n",
    "    ((local_trade_log2['exit_price'] - local_trade_log2['entry_price']) / local_trade_log2['entry_price']) * 10000,\n",
    "    ((local_trade_log2['entry_price'] - local_trade_log2['exit_price']) / local_trade_log2['entry_price']) * 10000)\n",
    "\n",
    "# open_positions = list(long_position_count.values())\n",
    "# print(f\"Max open long positions are: {np.max(open_positions)}\")\n",
    "\n",
    "# open__short_positions = list(short_position_count.values())\n",
    "# print(f\"Max open shrt positions are: {np.max(open__short_positions)}\")\n",
    "\n",
    "total_trade_count = len(local_trade_log2)\n",
    "max_entries_per_day = local_trade_log2.groupby(local_trade_log2.index.date).size().max()\n",
    "\n",
    "# Identify losing trades and percentage\n",
    "\n",
    "losers = local_trade_log2[local_trade_log2['profit'] < 0]\n",
    "num_losing_trades = len(losers)\n",
    "losers_percentage = (num_losing_trades / total_trade_count) * 100 if total_trade_count > 0 else 0\n",
    "\n",
    "winners = local_trade_log2[local_trade_log2['profit'] > 0]\n",
    "\n",
    "# # 1. Create a pandas Series from your PnL data\n",
    "# pnl_series = pd.Series(total_pnl_series)\n",
    "\n",
    "# # 2. Find the minimum value in the series\n",
    "# max_unrealized_loss = pnl_series.min()\n",
    "\n",
    "# print(f\"The highest unrealized loss (minimum PnL) was: ${max_unrealized_loss:,.2f}\")\n",
    "\n",
    "# Updated side checks throughout\n",
    "num_long_trades = len(local_trade_log2[local_trade_log2['Side'].isin(['buy', 'long'])])\n",
    "num_short_trades = len(local_trade_log2[local_trade_log2['Side'].isin(['sell', 'short'])])\n",
    "print(f\"Number of long trades: {num_long_trades} and short trades: {num_short_trades} out of total trades: {total_trade_count}\")\n",
    "\n",
    "# Updated profit calculations\n",
    "avg_long_profit_bps = local_trade_log2[local_trade_log2['Side'].isin(['buy', 'long'])]['profit_bps'].mean()\n",
    "avg_short_profit_bps = local_trade_log2[local_trade_log2['Side'].isin(['sell', 'short'])]['profit_bps'].mean()\n",
    "print(f\"Average long trade profit: {avg_long_profit_bps:.2f} bps and short: {avg_short_profit_bps:.2f} bps\")\n",
    "\n",
    "profit_total_long = local_trade_log2[local_trade_log2['Side'].isin(['buy', 'long'])]['profit'].sum()\n",
    "profit_total_short = local_trade_log2[local_trade_log2['Side'].isin(['sell', 'short'])]['profit'].sum()\n",
    "print(f\"Net long profit: {profit_total_long:.2f} and short profit: {profit_total_short:.2f}\")\n",
    "\n",
    "# Compute holding period\n",
    "local_trade_log2['holding_days'] = (local_trade_log2['exit_date'] - local_trade_log2.index).dt.days\n",
    "\n",
    "# Compute equity curve (EC)\n",
    "local_trade_log2['EC'] = (position_cap*100) + local_trade_log2['profit'].cumsum()\n",
    "\n",
    "#============================================\n",
    "\n",
    "# The index should be the 'exit_date' because that's when the equity changes\n",
    "equity_at_exit = pd.Series(data=local_trade_log2['EC'].values, index=pd.to_datetime(local_trade_log2['exit_date']))\n",
    "\n",
    "print(f\"Equity at exit is : {equity_at_exit}\")\n",
    "\n",
    "# Print average trade profit\n",
    "print(f\"Average Trade Profit: {average_trade_profit:.2f}\")\n",
    "\n",
    "# Print profit in basis points (bps)\n",
    "print(\"Profit (bps) for each trade:\")\n",
    "print(f\"Avergae trade profit in bps : {local_trade_log2['profit_bps'].mean()}\" )\n",
    "\n",
    "# Print total trade count\n",
    "print(f\"Total Trade Count: {total_trade_count}\")\n",
    "\n",
    "# Print max entries per day\n",
    "print(f\"Max Entries Per Day: {max_entries_per_day}\")\n",
    "\n",
    "# Print number of losing trades\n",
    "print(f\"Number of Losing Trades: {num_losing_trades}\")\n",
    "\n",
    "print(f\"Losing Trades Percentage: {losers_percentage:.2f}%\")\n",
    "\n",
    "# Print holding period\n",
    "print(\"Avg Holding Period in (Days) :\")\n",
    "print(local_trade_log2['holding_days'].mean())\n",
    "\n",
    "# Add: Number of trades with loss greater than 10% (i.e. -1000 bps)\n",
    "loss_threshold_bps = -1000  # -10%\n",
    "deep_losers = local_trade_log2[local_trade_log2['profit_bps'] < loss_threshold_bps]\n",
    "num_deep_losers = len(deep_losers)\n",
    "\n",
    "print(f\"Number of Losing Trades > 10% Loss: {num_deep_losers}\")\n",
    "\n",
    "# Add: Average loss of all losing trades\n",
    "avg_losing_trade = losers['profit'].mean()\n",
    "print(f\"Average Loss per Losing Trade: {avg_losing_trade:.4f}\")\n",
    "\n",
    "# Calculate average profit percentage (in % terms)\n",
    "average_profit_percent = local_trade_log2['profit'].mean() / position_cap * 100\n",
    "print(f\"\\nAverage Profit Percentage per Trade: {average_profit_percent:.2f}%\")\n",
    "\n",
    "# Calculate Trade Expectancy (in monetary terms)\n",
    "win_rate = len(winners) / total_trade_count\n",
    "avg_win = winners['profit'].mean()\n",
    "avg_loss = losers['profit'].mean()\n",
    "trade_expectancy = (win_rate * avg_win) - ((1 - win_rate) * abs(avg_loss))\n",
    "print(f\"Trade Expectancy: ${trade_expectancy:.2f} per trade\")\n",
    "\n",
    "# Calculate Risk-Adjusted Metrics\n",
    "risk_reward_ratio = abs(avg_win / avg_loss) if avg_loss != 0 else float('inf')\n",
    "print(f\"Risk-Reward Ratio: {risk_reward_ratio:.2f}:1\")\n",
    "\n",
    "\n",
    "# Add: Average loss of all losing trades\n",
    "avg_winning_trade = winners['profit'].mean()\n",
    "print(f\"Average Loss per Losing Trade: {avg_winning_trade:.4f}\")\n",
    "\n",
    "\n",
    "abs_profit_df =  pd.DataFrame()\n",
    "for symbol , data in absolute_symbol_pnl_series.items():\n",
    "\n",
    "    tdf = pd.DataFrame(data , columns=['timestamp' , symbol])\n",
    "    tdf.set_index('timestamp' , inplace=True)\n",
    "\n",
    "    # Reindex to match df_index, filling missing values with 0\n",
    "    abs_profit_df[symbol] = tdf.reindex(com_df2.index, fill_value=0)\n",
    "\n",
    "max_unrealised_drawdown = abs_profit_df.sum(axis=1).min()\n",
    "print(f\"Max unrealised loss ( which is unrealised drawdown on notional) is {max_unrealised_drawdown}\")\n",
    "\n",
    "\n",
    "# Long/Short specific metrics\n",
    "# Update all calculations to use the new condition\n",
    "long_trades = local_trade_log2[local_trade_log2['Side'].isin(['buy', 'long'])]\n",
    "short_trades = local_trade_log2[local_trade_log2['Side'].isin(['sell', 'short'])]\n",
    "\n",
    "num_long_trades = len(long_trades)\n",
    "num_short_trades = len(short_trades)\n",
    "\n",
    "# Profit metrics\n",
    "avg_long_profit_bps = long_trades['profit_bps'].mean()\n",
    "avg_short_profit_bps = short_trades['profit_bps'].mean()\n",
    "profit_total_long = long_trades['profit'].sum()\n",
    "profit_total_short = short_trades['profit'].sum()\n",
    "\n",
    "# Win/loss metrics\n",
    "def calculate_consecutive_wins_losses(trades):\n",
    "    trades = trades.sort_index()\n",
    "    consecutive = []\n",
    "    current_streak = 0\n",
    "    prev_result = None\n",
    "\n",
    "    for profit in trades['profit']:\n",
    "        current_result = 'win' if profit > 0 else 'loss'\n",
    "        if current_result == prev_result or prev_result is None:\n",
    "            current_streak += 1\n",
    "        else:\n",
    "            consecutive.append((prev_result, current_streak))\n",
    "            current_streak = 1\n",
    "        prev_result = current_result\n",
    "\n",
    "    if current_streak > 0:\n",
    "        consecutive.append((prev_result, current_streak))\n",
    "\n",
    "    return pd.DataFrame(consecutive, columns=['type', 'length'])\n",
    "\n",
    "# Calculate for long and short separately\n",
    "long_consecutive = calculate_consecutive_wins_losses(long_trades)\n",
    "short_consecutive = calculate_consecutive_wins_losses(short_trades)\n",
    "\n",
    "def print_streak_stats(name, df):\n",
    "    if len(df) > 0:\n",
    "        max_win_streak = df[df['type'] == 'win']['length'].max()\n",
    "        max_loss_streak = df[df['type'] == 'loss']['length'].max()\n",
    "        avg_win_streak = df[df['type'] == 'win']['length'].mean()\n",
    "        avg_loss_streak = df[df['type'] == 'loss']['length'].mean()\n",
    "        print(f\"\\n{name} Streaks:\")\n",
    "        print(f\"Max Winning Streak: {max_win_streak}\")\n",
    "        print(f\"Max Losing Streak: {max_loss_streak}\")\n",
    "        print(f\"Avg Winning Streak: {avg_win_streak:.1f}\")\n",
    "        print(f\"Avg Losing Streak: {avg_loss_streak:.1f}\")\n",
    "\n",
    "print_streak_stats(\"Long\", long_consecutive)\n",
    "print_streak_stats(\"Short\", short_consecutive)\n",
    "\n",
    "# Winning ratios\n",
    "long_winners = len(long_trades[long_trades['profit'] > 0])\n",
    "short_winners = len(short_trades[short_trades['profit'] > 0])\n",
    "\n",
    "long_win_ratio = long_winners / num_long_trades if num_long_trades > 0 else 0\n",
    "short_win_ratio = short_winners / num_short_trades if num_short_trades > 0 else 0\n",
    "\n",
    "print(f\"\\nLong Trades Win Ratio: {long_win_ratio:.2%}\")\n",
    "print(f\"\\nShort Trades Win Ratio: {short_win_ratio:.2%}\")\n",
    "\n",
    "# Print all metrics\n",
    "print(\"\\n==========================================\")\n",
    "print(f\"Number of long trades: {num_long_trades}\")\n",
    "print(f\"Number of short trades: {num_short_trades}\")\n",
    "print(f\"Total trades: {total_trade_count}\")\n",
    "\n",
    "print(f\"\\nAverage long trade profit: {avg_long_profit_bps:.2f} bps\")\n",
    "print(f\"Average short trade profit: {avg_short_profit_bps:.2f} bps\")\n",
    "print(f\"Net long profit: {profit_total_long:.2f}\")\n",
    "print(f\"Net short profit: {profit_total_short:.2f}\")\n",
    "\n",
    "import matplotlib.pyplot as plt\n",
    "\n",
    "# Scatter plot of trades\n",
    "plt.figure(figsize=(12, 6))\n",
    "\n",
    "# X-axis: trade index (or entry date if you want timeline)\n",
    "x = range(len(local_trade_log2))\n",
    "\n",
    "# Y-axis: profit\n",
    "y = local_trade_log2['profit']\n",
    "\n",
    "# Scatter: green for winners, red for losers\n",
    "colors = ['green' if p > 0 else 'red' for p in y]\n",
    "\n",
    "plt.scatter(x, y, c=colors, alpha=0.7, edgecolors='k')\n",
    "\n",
    "# Add horizontal line at 0 (break-even)\n",
    "plt.axhline(0, color='black', linestyle='--', linewidth=1)\n",
    "\n",
    "plt.title(\"Scatter of Trade Profits\")\n",
    "plt.xlabel(\"Trade Index\")\n",
    "plt.ylabel(\"Profit ($)\")\n",
    "plt.show()\n",
    "\n",
    "\n",
    "\n",
    "from IPython.display import HTML\n",
    "import matplotlib.pyplot as plt\n",
    "import base64\n",
    "from io import BytesIO\n",
    "\n",
    "# Create equity curve plot\n",
    "plt.figure(figsize=(10, 6))\n",
    "local_trade_log2['EC'].plot(title='Equity Curve', grid=True)\n",
    "plt.ylabel('Portfolio Value')\n",
    "plt.tight_layout()\n",
    "\n",
    "# Save plot to temporary buffer\n",
    "buffer = BytesIO()\n",
    "plt.savefig(buffer, format='png')\n",
    "plt.close()\n",
    "plot_data = base64.b64encode(buffer.getvalue()).decode('utf-8')\n",
    "\n",
    "\n",
    "#=== symbols specific\n",
    "\n",
    "# 2. Group by the symbol name and calculate the sum of profits for each.\n",
    "symbol_profits = local_trade_log2.groupby('name')['profit'].sum()\n",
    "\n",
    "# Display the total profit for each symbol\n",
    "print(\"--- Total Profit per Symbol ---\")\n",
    "print(symbol_profits)\n",
    "\n",
    "\n",
    "# 3. Sort the results to easily find the best and worst.\n",
    "sorted_symbols = symbol_profits.sort_values(ascending=False)\n",
    "\n",
    "\n",
    "# 4. Extract the best and worst symbols from the sorted list.\n",
    "# The best symbol is the first item (index 0).\n",
    "best_symbol = sorted_symbols.index[0]\n",
    "best_profit = sorted_symbols.iloc[0]\n",
    "\n",
    "# The worst symbol is the last item (index -1).\n",
    "worst_symbol = sorted_symbols.index[-1]\n",
    "worst_loss = sorted_symbols.iloc[-1]\n",
    "\n",
    "\n",
    "# 3. Sort the profits in ASCENDING order.\n",
    "#    This places the symbols with the largest losses at the top.\n",
    "sorted_by_loss = symbol_profits.sort_values(ascending=True)\n",
    "\n",
    "\n",
    "# 4. Select the first 10 rows from the sorted list using .head(10).\n",
    "worst_10_symbols = sorted_by_loss.head(10)\n",
    "\n",
    "\n",
    "# 5. Print the final result.\n",
    "print(\"--- 10 Worst Performing Symbols (by Total Profit) ---\")\n",
    "print(worst_10_symbols)\n",
    "\n",
    "#======================================\n",
    "\n",
    "\n",
    "\n",
    "# --- NEW: Calculate and print the additional statistics ---\n",
    "\n",
    "# Count the number of symbols with negative total profit (losers)\n",
    "num_loss_making_symbols = (symbol_profits <= 0).sum()\n",
    "\n",
    "# Count the number of symbols with positive total profit (winners)\n",
    "num_profit_making_symbols = (symbol_profits > 0).sum()\n",
    "\n",
    "# Calculate the ratio of losers to winners\n",
    "# Add a check to prevent division by zero if there are no winners\n",
    "if num_profit_making_symbols > 0:\n",
    "    loss_to_profit_ratio = num_loss_making_symbols / num_profit_making_symbols\n",
    "else:\n",
    "    loss_to_profit_ratio = float('inf') # Indicate infinite ratio if no winners\n",
    "\n",
    "# Print the new stats\n",
    "print(\"\\n--- Symbol Profit/Loss Summary ---\")\n",
    "print(f\"Number of Profit-Making Symbols: {num_profit_making_symbols}\")\n",
    "print(f\"Number of Loss-Making Symbols:   {num_loss_making_symbols}\")\n",
    "print(f\"Ratio of Loss-Makers to Profit-Makers: {loss_to_profit_ratio:.2f}\")\n",
    "\n",
    "\n",
    "\n",
    "\n",
    "def find_max_daily_gmv(trade_log):\n",
    "\n",
    "    \"\"\"\n",
    "    Calculates the maximum and mean Gross Merchandise Value (GMV) on a single day\n",
    "    from a trade log DataFrame. The mean calculation accounts for all days in the\n",
    "    period, including non-trading days.\n",
    "\n",
    "    Args:\n",
    "        trade_log (pd.DataFrame): DataFrame containing the trade log. \n",
    "                                  Index must be a datetime object ('entry_date').\n",
    "                                  Must contain 'entry_price', 'exit_price', \n",
    "                                  'qty', and 'exit_date' columns.\n",
    "\n",
    "    Returns:\n",
    "        tuple: A tuple containing the max_gmv_value and the mean_gmv_value.\n",
    "    \"\"\"\n",
    "\n",
    "    # Calculate the total value of each entry and exit transaction\n",
    "    trade_log['entry_value'] = trade_log['entry_price'] * trade_log['qty']\n",
    "    trade_log['exit_value'] = trade_log['exit_price'] * trade_log['qty']\n",
    "\n",
    "    # Group all entry values by their calendar day and sum them up\n",
    "    daily_entries = trade_log.groupby(trade_log.index.date)['entry_value'].sum()\n",
    "\n",
    "    # Group all exit values by their calendar day and sum them up\n",
    "    # CORRECTED: Group exits by 'exit_date', not the index ('entry_date')\n",
    "    daily_exits = trade_log.groupby(trade_log['exit_date'].dt.date)['exit_value'].sum()\n",
    "\n",
    "    # Combine the daily entry and exit sums to get the total GMV for each day\n",
    "    # This series only contains days where a trade occurred.\n",
    "    daily_gmv = daily_entries.add(daily_exits, fill_value=0)\n",
    "\n",
    "    # Find the maximum value. This can be done before reindexing for efficiency.\n",
    "    if daily_gmv.empty:\n",
    "        return 0, 0\n",
    "    max_gmv_value = daily_gmv.max()\n",
    "\n",
    "    # --- MODIFICATION TO ACCOUNT FOR NON-TRADING DAYS ---\n",
    "\n",
    "    # 1. Determine the full date range of the backtest period.\n",
    "    #    We use the earliest entry and latest exit to define the period.\n",
    "    start_date = trade_log.index.min().date()\n",
    "    end_date = trade_log['exit_date'].max().date()\n",
    "    all_days_in_period = pd.date_range(start=start_date, end=end_date, freq='D')\n",
    "\n",
    "    # 2. Reindex the 'daily_gmv' Series to include all days.\n",
    "    #    This assigns a GMV of 0 to all non-trading days.\n",
    "    daily_gmv = daily_gmv.reindex(all_days_in_period, fill_value=0)\n",
    "    \n",
    "    # --- END OF MODIFICATION ---\n",
    "\n",
    "    # Now, this calculation correctly finds the mean over the entire period.\n",
    "    mean_gmv_value = daily_gmv.mean()\n",
    "\n",
    "    return max_gmv_value, mean_gmv_value\n",
    "\n",
    "\n",
    "max_gmv , mean_gmv = find_max_daily_gmv(local_trade_log2)\n",
    "\n",
    "print(f\"Average daily GMV is {mean_gmv}\")\n",
    "print(f\"Max daily gmv is {max_gmv}\")\n",
    "\n",
    "\n",
    "print(f\"Return on average GMV is {local_trade_log2['profit'].sum()/mean_gmv}\")\n",
    "print(f\"Return on average GMV is {local_trade_log2['profit'].sum()/max_gmv}\")\n",
    "\n",
    "\n",
    "\n",
    "# Create HTML report\n",
    "html_report = f\"\"\"\n",
    "<!DOCTYPE html>\n",
    "<html>\n",
    "<head>\n",
    "    <title>Backtest Performance Report</title>\n",
    "    <style>\n",
    "        body {{ font-family: Arial, sans-serif; margin: 20px; }}\n",
    "        h1 {{ color: #2c3e50; border-bottom: 2px solid #3498db; }}\n",
    "        h2 {{ color: #2980b9; }}\n",
    "        .metric-container {{ display: flex; flex-wrap: wrap; gap: 20px; }}\n",
    "        .metric-card {{\n",
    "            background: #f8f9fa;\n",
    "            border: 1px solid #dee2e6;\n",
    "            border-radius: 5px;\n",
    "            padding: 15px;\n",
    "            flex: 1 1 300px;\n",
    "            box-shadow: 0 2px 4px rgba(0,0,0,0.1);\n",
    "        }}\n",
    "        .metric-title {{ font-weight: bold; color: #2c3e50; }}\n",
    "        .metric-value {{ font-size: 1.2em; color: #27ae60; }}\n",
    "        .negative {{ color: #e74c3c; }}\n",
    "        .plot-container {{ margin: 30px 0; text-align: center; }}\n",
    "        table {{ width: 100%; border-collapse: collapse; margin: 20px 0; }}\n",
    "        th, td {{ padding: 10px; text-align: left; border-bottom: 1px solid #ddd; }}\n",
    "        th {{ background-color: #3498db; color: white; }}\n",
    "        tr:nth-child(even) {{ background-color: #f2f2f2; }}\n",
    "    </style>\n",
    "</head>\n",
    "<body>\n",
    "    <h1>Strategy Backtest Performance Report</h1>\n",
    "\n",
    "    <div class=\"plot-container\">\n",
    "        <h2>Equity Curve</h2>\n",
    "        <img src=\"data:image/png;base64,{plot_data}\" alt=\"Equity Curve\">\n",
    "    </div>\n",
    "\n",
    "    <h2>Key Performance Metrics</h2>\n",
    "    <div class=\"metric-container\">\n",
    "        <div class=\"metric-card\">\n",
    "            <div class=\"metric-title\">Total Trades</div>\n",
    "            <div class=\"metric-value\">{total_trade_count:,}</div>\n",
    "        </div>\n",
    "        <div class=\"metric-card\">\n",
    "            <div class=\"metric-title\">Win Rate</div>\n",
    "            <div class=\"metric-value\">{100 - losers_percentage:.1f}%</div>\n",
    "        </div>\n",
    "        <div class=\"metric-card\">\n",
    "            <div class=\"metric-title\">Average Trade Profit</div>\n",
    "            <div class=\"metric-value\">${average_trade_profit:,.2f}</div>\n",
    "        </div>\n",
    "        <div class=\"metric-card\">\n",
    "            <div class=\"metric-title\">Trade Expectancy</div>\n",
    "            <div class=\"metric-value\">${trade_expectancy:,.2f}</div>\n",
    "        </div>\n",
    "        <div class=\"metric-card\">\n",
    "            <div class=\"metric-title\">Risk-Reward Ratio</div>\n",
    "            <div class=\"metric-value\">{risk_reward_ratio:.2f}:1</div>\n",
    "        </div>\n",
    "        <div class=\"metric-card\">\n",
    "            <div class=\"metric-title\">Max Drawdown</div>\n",
    "            <div class=\"metric-value negative\">${max_unrealised_drawdown:,.2f}</div>\n",
    "        </div>\n",
    "    </div>\n",
    "\n",
    "    <h2>Long/Short Breakdown</h2>\n",
    "    <table>\n",
    "        <tr>\n",
    "            <th>Metric</th>\n",
    "            <th>Long Trades</th>\n",
    "            <th>Short Trades</th>\n",
    "        </tr>\n",
    "        <tr>\n",
    "            <td>Count</td>\n",
    "            <td>{num_long_trades:,}</td>\n",
    "            <td>{num_short_trades:,}</td>\n",
    "        </tr>\n",
    "        <tr>\n",
    "            <td>Win Rate</td>\n",
    "            <td>{long_win_ratio:.1%}</td>\n",
    "            <td>{short_win_ratio:.1%}</td>\n",
    "        </tr>\n",
    "        <tr>\n",
    "            <td>Avg Profit (bps)</td>\n",
    "            <td>{avg_long_profit_bps:.1f}</td>\n",
    "            <td>{avg_short_profit_bps:.1f}</td>\n",
    "        </tr>\n",
    "        <tr>\n",
    "            <td>Total Profit</td>\n",
    "            <td>${profit_total_long:,.2f}</td>\n",
    "            <td>${profit_total_short:,.2f}</td>\n",
    "        </tr>\n",
    "        <tr>\n",
    "            <td>Max Win Streak</td>\n",
    "            <td>{long_consecutive[long_consecutive['type']=='win']['length'].max() if len(long_consecutive) > 0 else 0}</td>\n",
    "            <td>{short_consecutive[short_consecutive['type']=='win']['length'].max() if len(short_consecutive) > 0 else 0}</td>\n",
    "        </tr>\n",
    "        <tr>\n",
    "            <td>Max Loss Streak</td>\n",
    "            <td>{long_consecutive[long_consecutive['type']=='loss']['length'].max() if len(long_consecutive) > 0 else 0}</td>\n",
    "            <td>{short_consecutive[short_consecutive['type']=='loss']['length'].max() if len(short_consecutive) > 0 else 0}</td>\n",
    "        </tr>\n",
    "    </table>\n",
    "\n",
    "    <h2>Position Sizing</h2>\n",
    "    <div class=\"metric-container\">\n",
    "        \n",
    "        <div class=\"metric-card\">\n",
    "            <div class=\"metric-title\">Max Entries Per Day</div>\n",
    "            <div class=\"metric-value\">{max_entries_per_day}</div>\n",
    "        </div>\n",
    "    </div>\n",
    "\n",
    "    <h2>Trade Duration</h2>\n",
    "    <div class=\"metric-container\">\n",
    "        <div class=\"metric-card\">\n",
    "            <div class=\"metric-title\">Avg Holding Days</div>\n",
    "            <div class=\"metric-value\">{local_trade_log2['holding_days'].mean():.1f}</div>\n",
    "        </div>\n",
    "    </div>\n",
    "</body>\n",
    "</html>\n",
    "\"\"\"\n",
    "\n",
    "# Display the report\n",
    "HTML(html_report)\n",
    "\n",
    "# To save the report to a file\n",
    "with open('Nasdaq_Vol_stocks.html', 'w') as f:\n",
    "    f.write(html_report)\n",
    "\n",
    "local_trade_log2.to_csv(\"Nasdaq_TL.csv\", index=True)\n",
    "\n",
    "# Convert total_pnl_series dict (timestamp → pnl) into DataFrame\n",
    "mtm_equity_df = pd.DataFrame(list(total_pnl_series.items()), columns=[\"timestamp\", \"MTM_PnL\"])\n",
    "\n",
    "# Sort by timestamp (important to keep the curve ordered)\n",
    "mtm_equity_df.sort_values(\"timestamp\", inplace=True)\n",
    "\n",
    "# Add equity column: starting capital + cumulative PnL\n",
    "mtm_equity_df[\"Equity\"] = intial_capital + mtm_equity_df[\"MTM_PnL\"].cumsum()\n",
    "\n",
    "# Set timestamp as index for convenience\n",
    "mtm_equity_df.set_index(\"timestamp\", inplace=True)\n",
    "\n",
    "# Define full path\n",
    "mtm_equity_file = os.path.join(trades_strategy_folder, \"MTM_equity.csv\")\n",
    "\n",
    "# Save to CSV\n",
    "mtm_equity_df.to_csv(mtm_equity_file)\n",
    "\n",
    "print(f\"✅ MTM equity curve saved at: {mtm_equity_file}\")\n",
    "\n",
    "\n",
    "# for symbol, data in absolute_symbol_pnl_series.items():\n",
    "#     if not data:\n",
    "#         print(f\"No data for {symbol}, skipping.\")\n",
    "#         continue\n",
    "#     try:\n",
    "#         tdf = pd.DataFrame(data, columns=['timestamp', 'pnl_absolute'])\n",
    "#         tdf.set_index('timestamp', inplace=True)\n",
    "#         file_path = os.path.join(df_folder, f\"{symbol}_pnl.csv\")\n",
    "#         tdf.to_csv(file_path)\n",
    "#         print(f\"Successfully saved {file_path}\")\n",
    "#     except Exception as e:\n",
    "#         print(f\"Error processing {symbol}: {e}\")\n",
    "\n",
    "\n",
    "import quantstats as qs\n",
    "qs.extend_pandas()\n",
    "\n",
    "qs.reports.basic(local_trade_log2['EC'])\n",
    "\n",
    "# --- 2. Plotting the 'EC' column ---\n",
    "plt.figure(figsize=(12, 6)) # Optional: Adjust the figure size\n",
    "\n",
    "local_trade_log2['EC'].plot(grid=True) # The main plotting command\n",
    "\n",
    "# --- 3. Add labels and a title for clarity ---\n",
    "plt.title('EC Over Time')\n",
    "plt.xlabel('Date')\n",
    "plt.ylabel('EC Value')\n",
    "\n",
    "# --- 4. Display the plot ---\n",
    "plt.show()\n"
   ]
  },
  {
   "cell_type": "code",
   "execution_count": null,
   "id": "0baf0d0f",
   "metadata": {},
   "outputs": [],
   "source": []
  }
 ],
 "metadata": {
  "kernelspec": {
   "display_name": "base",
   "language": "python",
   "name": "python3"
  },
  "language_info": {
   "codemirror_mode": {
    "name": "ipython",
    "version": 3
   },
   "file_extension": ".py",
   "mimetype": "text/x-python",
   "name": "python",
   "nbconvert_exporter": "python",
   "pygments_lexer": "ipython3",
   "version": "3.12.7"
  }
 },
 "nbformat": 4,
 "nbformat_minor": 5
}
