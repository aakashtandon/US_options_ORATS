{
 "cells": [
  {
   "cell_type": "code",
   "execution_count": 1,
   "id": "24d4f287",
   "metadata": {},
   "outputs": [],
   "source": [
    "import pandas as pd\n",
    "import numpy as np\n",
    "import gzip\n",
    "import os\n",
    "import datetime\n",
    "import pandas as pd\n",
    "import calendar\n",
    "import numpy as np\n",
    "import glob\n",
    "import sys\n",
    "import gc\n",
    "import re\n",
    "#import quantstats as qs\n",
    "import time\n",
    "\n",
    "import matplotlib.pyplot as plt\n",
    "\n",
    "import nest_asyncio # install this package to avoid running in loop\n",
    "\n",
    "import urllib\n",
    "import pandas_ta as ta\n",
    "\n",
    "import warnings\n",
    "\n",
    "import requests\n",
    "\n",
    "import hmac\n",
    "import hashlib\n",
    "\n",
    "import aiohttp\n",
    "import asyncio\n",
    "\n",
    "import logging\n",
    "from datetime import timezone\n",
    "\n",
    "import nest_asyncio\n",
    "\n",
    "# Filter depreciation warnings from pandas regarding the append method\n",
    "warnings.filterwarnings('ignore', category=FutureWarning, message=\".*append.*\")\n",
    "pd.options.mode.chained_assignment = None\n",
    "\n",
    "# Set pandas to display all digits for floating-point numbers\n",
    "pd.options.display.float_format = '{:.8f}'.format\n",
    "\n",
    "import os\n",
    "from dotenv import load_dotenv\n",
    "\n",
    "import warnings\n",
    "warnings.simplefilter(action='ignore', category=pd.errors.PerformanceWarning)\n",
    "\n",
    "# Ignore only FutureWarning\n",
    "warnings.filterwarnings('ignore', category=FutureWarning)\n",
    "\n",
    "# Ignore only RuntimeWarning\n",
    "warnings.filterwarnings('ignore', category=RuntimeWarning)\n",
    "\n",
    "import importlib\n",
    "\n",
    "\n",
    "from Orats_options_fetch_functions import *\n",
    "\n",
    "from faster_numba_strategy_functions import *\n",
    "\n",
    "import strategy_functions\n",
    "\n",
    "importlib.reload(strategy_functions)\n",
    "from strategy_functions import *\n",
    "\n",
    "# import Common_functions\n",
    "\n",
    "# importlib.reload(strategy_functions)\n",
    "# importlib.reload(Common_functions)\n",
    "\n",
    "# from Common_functions import *\n",
    "# coin_desk_api_key =  \"e43c1fd991e660b9bf959645f0800bb7e76fb4a3537ab773cec62b2fad31af2d\"\n",
    "from datetime import time\n",
    "from pathlib import Path\n",
    "# Get the user's home directory dynamically\n",
    "home_dir = r\"C:\\Data\\Options_logs\"\n",
    "#====================================\n",
    "\n",
    "strategy_name = \"Backtest_v1\"\n",
    "\n",
    "# Create a folder for the strategy_name if it doesn't exist in home directory\n",
    "\n",
    "strategy_folder = os.path.join(home_dir, strategy_name)\n",
    "if not os.path.exists(strategy_folder):\n",
    "    os.makedirs(strategy_folder)\n",
    "\n",
    "# Create the full path to the output file. this file contains all the trades\n",
    "\n",
    "output_all_trades_file = os.path.join(strategy_folder, f\"All_trades_{strategy_name}.csv\")\n",
    "trade_html_file = os.path.join(strategy_folder, f\"Trade_stats_{strategy_name}.html\")\n",
    "\n",
    "#=== location to store the trade dataframe for debug\n",
    "\n",
    "base_folder_df = \"strategy_dataframe\"\n",
    "df_folder = os.path.join(strategy_folder, base_folder_df)\n",
    "if not os.path.exists(df_folder):\n",
    "    os.makedirs(df_folder)\n",
    "    print(\"\\n Created strategy dataframe folder : \" ,df_folder )\n",
    "\n",
    "#----- symbol_wise_trades\n",
    "\n",
    "trades_folder = \"sym_wise_trades\"\n",
    "trades_strategy_folder = os.path.join(strategy_folder, trades_folder)\n",
    "\n",
    "if not os.path.exists(trades_strategy_folder):\n",
    "    print(\"\\n Making folder for symbol wise trades of strategy\" , trades_strategy_folder)\n",
    "    os.makedirs(trades_strategy_folder)\n",
    "\n",
    "logger = setup_logger(\"Straddle_0DTE\", strategy_folder, log_file=\"strategy.log\" , to_console=False)\n"
   ]
  },
  {
   "cell_type": "code",
   "execution_count": 2,
   "id": "1a2e8536",
   "metadata": {},
   "outputs": [
    {
     "name": "stdout",
     "output_type": "stream",
     "text": [
      "Querying data from: s3://duckdata/ORATS/Options/**/*.parquet\n"
     ]
    },
    {
     "data": {
      "application/vnd.jupyter.widget-view+json": {
       "model_id": "2a2919a67c924aa09bc12469256bfda5",
       "version_major": 2,
       "version_minor": 0
      },
      "text/plain": [
       "FloatProgress(value=0.0, layout=Layout(width='auto'), style=ProgressStyle(bar_color='black'))"
      ]
     },
     "metadata": {},
     "output_type": "display_data"
    },
    {
     "name": "stdout",
     "output_type": "stream",
     "text": [
      "\n",
      "✅ Query successful! First 5 rows of data:\n",
      "      expiry       strike  dte  optionType                  ts         low  \\\n",
      "0 2024-01-26 421.00000000   25          -1 2024-01-02 17:13:00 17.18000000   \n",
      "1 2024-01-12 414.00000000   11          -1 2024-01-02 17:13:00 10.41500000   \n",
      "\n",
      "         high        open       close     volume  ...      askSize  \\\n",
      "0 17.18000000 17.18000000 17.18000000 0.00000000  ...  50.00000000   \n",
      "1 10.41500000 10.41500000 10.41500000 0.00000000  ... 151.00000000   \n",
      "\n",
      "     bidPrice    askPrice      bidIv      askIv         iv          oi  \\\n",
      "0 17.12000000 17.24000000 0.13785700 0.14511500 0.14148600 15.00000000   \n",
      "1 10.34000000 10.49000000 0.14267100 0.15199600 0.14733300 54.00000000   \n",
      "\n",
      "    stockPrice        day ticker  \n",
      "0 404.00000000 2024-01-02    QQQ  \n",
      "1 404.00000000 2024-01-02    QQQ  \n",
      "\n",
      "[2 rows x 21 columns]\n"
     ]
    }
   ],
   "source": [
    "import duckdb\n",
    "import pandas as pd\n",
    "import matplotlib.pyplot as plt\n",
    "\n",
    "# Connect to an in-memory database\n",
    "con = duckdb.connect()\n",
    "\n",
    "# --- Your setup code (which is correct) ---\n",
    "con.execute(\"INSTALL httpfs;\")\n",
    "con.execute(\"LOAD httpfs;\")\n",
    "con.execute(\"\"\"\n",
    "SET s3_endpoint='122.176.133.73:9000';\n",
    "SET s3_use_ssl=false;\n",
    "SET s3_access_key_id='minioadmin';\n",
    "SET s3_secret_access_key='minioadmin';\n",
    "\"\"\")\n",
    "con.execute(\"SET s3_url_style='path';\") \n",
    "con.execute(\"PRAGMA threads=8;\")\n",
    "con.execute(\"PRAGMA enable_object_cache;\")\n",
    "\n",
    "# --- THE MISSING STEP: Querying a file from S3 ---\n",
    "# Replace with your actual S3 bucket and file path\n",
    "# This can be a .parquet, .csv, or .json file\n",
    "s3_file_path = 's3://duckdata/ORATS/Options/**/*.parquet'\n",
    "\n",
    "try:\n",
    "    # Execute a query on the S3 file and fetch the result as a Pandas DataFrame\n",
    "    print(f\"Querying data from: {s3_file_path}\")\n",
    "    df = con.execute(f\"\"\"\n",
    "        SELECT *\n",
    "        FROM '{s3_file_path}'\n",
    "        LIMIT 2;\n",
    "    \"\"\").df()\n",
    "\n",
    "    print(\"\\n✅ Query successful! First 5 rows of data:\")\n",
    "    print(df.head())\n",
    "\n",
    "except Exception as e:\n",
    "    print(f\"\\n❌ An error occurred during the query: {e}\")\n",
    "\n",
    "# finally:\n",
    "#     # It's good practice to close the connection\n",
    "#     con.close()"
   ]
  },
  {
   "cell_type": "code",
   "execution_count": 3,
   "id": "395dfd81",
   "metadata": {},
   "outputs": [
    {
     "name": "stdout",
     "output_type": "stream",
     "text": [
      "Total symbols found after all filtering:  2\n",
      "Calculating 3-day MA for 2 symbols...\n"
     ]
    }
   ],
   "source": [
    "\n",
    "\n",
    "ifol = r\"C:\\Data\\Aggregate_Data\\Options\\USA\\Raw_SPY_1min_2024_2025_ORATS_close.parquet\"\n",
    "#== read the RELIANCE data\n",
    "\n",
    "com_df2 = pd.read_parquet(ifol)\n",
    "\n",
    "if 'timestamp' in com_df2.columns:\n",
    "    com_df2['timestamp'] = pd.to_datetime(com_df2['timestamp'])\n",
    "    com_df2.set_index('timestamp', inplace=True)\n",
    "\n",
    "\n",
    "\n",
    "com_df2 = com_df2[~com_df2.index.duplicated(keep='first')]\n",
    "\n",
    "\n",
    "com_df2.dropna(how='all', inplace=True)\n",
    "\n",
    "vix_df = pd.read_parquet(r\"C:\\Data\\Aggregate_Data\\VIX_1_min_2019_2025.parquet\")\n",
    "com_df2 = com_df2.join(vix_df)\n",
    "\n",
    "\n",
    "final_symbols = com_df2.filter(like='close').columns.str.replace('_close', '')\n",
    "print(\"Total symbols found after all filtering: \", len(final_symbols))\n",
    "\n",
    "# Calculate the number of rows in the DataFrame\n",
    "\n",
    "com_df2[[f\"{symbol}_intraday_low\" for symbol in final_symbols]] =com_df2[[f\"{symbol}_close\" for symbol in final_symbols]].apply(lambda x: intraday_low(com_df2, low_col=x.name,agg_func='min'))\n",
    "\n",
    "com_df2[[f\"{symbol}_intraday_high\" for symbol in final_symbols]] =com_df2[[f\"{symbol}_close\" for symbol in final_symbols]].apply(lambda x: intraday_high(com_df2, high_col=x.name,agg_func='max'))\n",
    "\n",
    "com_df2[[f\"{symbol}_todayo\" for symbol in final_symbols]] = com_df2[[f'{symbol}_close' for symbol in final_symbols]].resample('D').transform('first')\n",
    "\n",
    "# com_df2[[f\"{symbol}_daily_ROC\" for symbol in final_symbols]] = com_df2[[f\"{symbol}_close\" for symbol in final_symbols]].pct_change(periods=50)\n",
    "\n",
    "# com_df2[[f\"{symbol}_ROC\" for symbol in final_symbols]] = com_df2[[f\"{symbol}_close\" for symbol in final_symbols]].pct_change()\n",
    "\n",
    "# com_df2[[f\"{symbol}_ROC_4\" for symbol in final_symbols]] = com_df2[[f\"{symbol}_close\" for symbol in final_symbols]].pct_change(periods=4)\n",
    "\n",
    "com_df2[[f\"{symbol}_prevdayl\" for symbol in final_symbols]] = com_df2[[f\"{symbol}_close\" for symbol in final_symbols]].apply(lambda x: get_x_day_low_numba(com_df2, n=1, column=x.name))\n",
    "\n",
    "com_df2[[f\"{symbol}_prevdayh\" for symbol in final_symbols]] = com_df2[[f\"{symbol}_close\" for symbol in final_symbols]].apply(lambda x: get_x_day_high_numba(com_df2, n=1, column=x.name))\n",
    "\n",
    "com_df2[[f\"{symbol}_secdayh\" for symbol in final_symbols]] = com_df2[[f\"{symbol}_close\" for symbol in final_symbols]].apply(lambda x: get_x_day_high_numba(com_df2, n=2, column=x.name))\n",
    "\n",
    "\n",
    "# This single call does it for the 20-day MA\n",
    "ma_20d_df = calculate_daily_ma_vectorized(df=com_df2, symbols=final_symbols, periods=3 , agg_func='last' , col_suffix='close')\n",
    "\n",
    "    # Join the new features back to the main DataFrame\n",
    "com_df2 = pd.concat([com_df2, ma_20d_df] , axis=1 , join='outer')\n",
    "\n",
    "\n",
    "com_df2[[f\"{symbol}_ma\" for symbol in final_symbols]] = com_df2[[f\"{symbol}_close\" for symbol in final_symbols]].rolling(2).mean()\n",
    "\n",
    "com_df2[[f\"{symbol}_ROC_30\" for symbol in final_symbols]] = com_df2[[f\"{symbol}_ma\" for symbol in final_symbols]].pct_change(periods=30)\n",
    "\n",
    "\n",
    "#com_df2[[f\"{symbol}_ma_3d_low\" for symbol in final_symbols]] = com_df2[[f\"{symbol}_ma\" for symbol in final_symbols]].values / com_df2[[f\"{symbol}_3d_MA\" for symbol in final_symbols]].values\n",
    "\n",
    "com_df2[[f\"{symbol}_prevdayc\" for symbol in final_symbols]] = com_df2[[f\"{symbol}_close\" for symbol in final_symbols]].apply(lambda x: calculate_prev_day_close(com_df2, close_col=x.name, n_days=1))\n",
    "\n",
    "com_df2[[f\"{symbol}_secdayc\" for symbol in final_symbols]] = com_df2[[f\"{symbol}_close\" for symbol in final_symbols]].apply(lambda x: calculate_prev_day_close(com_df2, close_col=x.name, n_days=2))\n",
    "\n",
    "\n",
    "# #=== hourly volume\n",
    "# com_df2[[f\"{symbol}_vol_ma\" for symbol in final_symbols]] = com_df2[[f\"{symbol}_volume\" for symbol in final_symbols]].rolling(4).mean()\n",
    "\n",
    "# #==avg 3 day volume\n",
    "\n",
    "# com_df2[[f\"{symbol}_3d_vol_MA\" for symbol in final_symbols]] = com_df2[[f\"{symbol}_volume\" for symbol in final_symbols]].apply(lambda x: daily_moving_average(com_df2, timeframe='1D', column=x.name, periods=3, agg_func='last'))\n",
    "\n",
    "com_df2[[f\"{symbol}_ma2_low\" for symbol in final_symbols]] = com_df2[[f\"{symbol}_close\" for symbol in final_symbols]].rolling(5).mean()\n",
    "\n",
    "\n",
    "com_df2[[f\"{symbol}_3dlow\" for symbol in final_symbols]] = com_df2[[f\"{symbol}_ma2_low\" for symbol in final_symbols]].apply(lambda x: get_x_day_low_numba(com_df2, n=3, column=x.name))\n",
    "\n",
    "com_df2[[f\"{symbol}_3dhigh\" for symbol in final_symbols]] = com_df2[[f\"{symbol}_ma2_low\" for symbol in final_symbols]].apply(lambda x: get_x_day_high_numba(com_df2, n=3, column=x.name))\n",
    "\n",
    "\n",
    "\n",
    "# 1. Get the lists of column names\n",
    "high_3d_cols = [f\"{symbol}_3dhigh\" for symbol in final_symbols]\n",
    "low_3d_cols = [f\"{symbol}_3dlow\" for symbol in final_symbols]\n",
    "\n",
    "# 2. Perform the calculation on NumPy arrays\n",
    "range_values = (com_df2[high_3d_cols].values / com_df2[low_3d_cols].values) - 1\n",
    "\n",
    "# 3. Create a new DataFrame from the results\n",
    "# This is the key step to avoid the error.\n",
    "range_cols = [f\"{symbol}_3d_rng\" for symbol in final_symbols]\n",
    "range_df = pd.DataFrame(range_values, index=com_df2.index, columns=range_cols)\n",
    "\n",
    "# 4. Join the new DataFrame back to the main one\n",
    "com_df2 = com_df2.join(range_df)\n",
    "\n",
    "\n",
    "\n",
    "# # Calculate highest high of last 4 bars\n",
    "# com_df2[[f\"{symbol}_high_4bar\" for symbol in final_symbols]] = com_df2[[f\"{symbol}_close\" for symbol in final_symbols]].rolling(10).max()\n",
    "\n",
    "# # Calculate lowest low of last 4 bars\n",
    "# com_df2[[f\"{symbol}_low_4bar\" for symbol in final_symbols]] = com_df2[[f\"{symbol}_close\" for symbol in final_symbols]].rolling(10).min()\n",
    "\n",
    "# # 1. Get the lists of column names\n",
    "# high_cols = [f\"{symbol}_high_4bar\" for symbol in final_symbols]\n",
    "# low_cols = [f\"{symbol}_low_4bar\" for symbol in final_symbols]\n",
    "\n",
    "# # 2. Perform the calculation on the NumPy arrays\n",
    "# range_values = com_df2[high_cols].values - com_df2[low_cols].values\n",
    "\n",
    "# # 3. Create a new DataFrame from the result (This is the key step)\n",
    "# range_cols = [f\"{symbol}_range_4bar\" for symbol in final_symbols]\n",
    "# range_df = pd.DataFrame(range_values, index=com_df2.index, columns=range_cols)\n",
    "\n",
    "# # 4. Join the new DataFrame back to the main one\n",
    "# com_df2 = com_df2.join(range_df)\n",
    "\n",
    "\n",
    "# # Calculate mean range (average of the 4-bar ranges)\n",
    "# com_df2[[f\"{symbol}_mean_range_4bar\" for symbol in final_symbols]] = com_df2[[f\"{symbol}_range_4bar\" for symbol in final_symbols]].rolling(12).mean()\n",
    "\n",
    "\n",
    "# gc.collect()\n",
    "\n",
    "# for symbol in final_symbols:\n",
    "\n",
    "   \n",
    "#     com_df2[f'{symbol}_iATR2'] = com_df2[f\"{symbol}_ATR\"].values / com_df2[f\"{symbol}_close\"].values\n",
    "\n",
    "\n",
    "# 1. Define the column groups\n",
    "close_cols = [f\"{symbol}_close\" for symbol in final_symbols]\n",
    "low_3d_cols = [f\"{symbol}_3dlow\" for symbol in final_symbols]\n",
    "high_3d_cols = [f\"{symbol}_3dhigh\" for symbol in final_symbols]\n",
    "\n",
    "# 2. Perform the calculation in a more chained and memory-conscious way\n",
    "# Using .to_numpy(dtype=np.float32) can cut memory usage by 50%\n",
    "numerator = com_df2[close_cols].to_numpy(dtype=np.float32) - com_df2[low_3d_cols].to_numpy(dtype=np.float32)\n",
    "denominator = com_df2[high_3d_cols].to_numpy(dtype=np.float32) - com_df2[low_3d_cols].to_numpy(dtype=np.float32)\n",
    "\n",
    "# np.divide handles division by zero safely\n",
    "percentile_values = np.divide(numerator, denominator, where=denominator != 0)\n",
    "\n",
    "# 3. Create the new feature DataFrame\n",
    "pctl_cols = [f\"{symbol}_3d_Pctl\" for symbol in final_symbols]\n",
    "percentile_df = pd.DataFrame(percentile_values, index=com_df2.index, columns=pctl_cols)\n",
    "\n",
    "# 4. Clip values and join back (same as your code)\n",
    "percentile_df = percentile_df.clip(0, 1)\n",
    "com_df2 = com_df2.join(percentile_df)\n",
    "\n",
    "com_df2['decent'] = np.where((com_df2['SPY_todayo'] > com_df2['SPY_prevdayc'] * 0.985) & (com_df2['SPY_todayo'] > com_df2['SPY_prevdayc'] * 0.98), 1, 0)\n",
    "com_df = com_df2[com_df2['decent']==1]\n",
    "com_df = com_df[com_df.index.year>=2024]"
   ]
  },
  {
   "cell_type": "code",
   "execution_count": 4,
   "id": "83189a5c",
   "metadata": {},
   "outputs": [],
   "source": [
    "def find_best_bear_call_spread(spreads_df, option_multiplier=100):\n",
    "    \"\"\"\n",
    "    Calculates metrics for all spreads and identifies the one with the best Return on Risk.\n",
    "    \"\"\"\n",
    "    if spreads_df.empty:\n",
    "        return None\n",
    "\n",
    "    # 1. Calculate Net Credit\n",
    "    spreads_df['net_credit'] = spreads_df['bidPrice_short'] - spreads_df['askPrice_long']\n",
    "    \n",
    "    # Filter for valid credit spreads only\n",
    "    valid_spreads = spreads_df[spreads_df['net_credit'] > 0].copy()\n",
    "    if valid_spreads.empty:\n",
    "        return None\n",
    "\n",
    "    # 2. Calculate Max Risk and Return on Risk (RoR)\n",
    "    strike_width = 1.0 # Since we are using 1-strike wide spreads\n",
    "    valid_spreads['max_risk'] = (strike_width - valid_spreads['net_credit'])\n",
    "    \n",
    "    # Avoid division by zero\n",
    "    valid_spreads = valid_spreads[valid_spreads['max_risk'] > 0]\n",
    "    if valid_spreads.empty:\n",
    "        return None\n",
    "        \n",
    "    valid_spreads['ror'] = valid_spreads['net_credit'] / valid_spreads['max_risk']\n",
    "\n",
    "    # 3. Find and return the spread with the highest RoR\n",
    "    best_spread = valid_spreads.loc[valid_spreads['ror'].idxmax()]\n",
    "    \n",
    "    return best_spread"
   ]
  },
  {
   "cell_type": "code",
   "execution_count": 5,
   "id": "af96bc9d",
   "metadata": {},
   "outputs": [],
   "source": [
    "import pandas as pd\n",
    "from io import StringIO\n",
    "\n",
    "def analyze_trading_day_summary(trade_log_df, total_business_days):\n",
    "    \"\"\"\n",
    "    Analyzes a trade log and provides a full summary of trading day types\n",
    "    including counts and percentages of the total business days in a period.\n",
    "\n",
    "    Args:\n",
    "        trade_log_df (pd.DataFrame): The DataFrame containing trade history.\n",
    "        total_business_days (int): The total number of business days in the period.\n",
    "\n",
    "    Returns:\n",
    "        pd.DataFrame: A formatted summary table of the analysis.\n",
    "    \"\"\"\n",
    "    # Ensure the entry_date is a datetime object\n",
    "    df = trade_log_df.copy()\n",
    "    df['entry_date'] = pd.to_datetime(df['entry_date'])\n",
    "    \n",
    "    # --- Part 1: Analyze the traded days ---\n",
    "    daily_status_df = df.groupby(df['entry_date'].dt.date).agg(\n",
    "        sides_traded=('Side', lambda x: set(x))\n",
    "    )\n",
    "    daily_status_df['Status'] = daily_status_df['sides_traded'].apply(\n",
    "        lambda sides: 'Hedged' if 'BUY' in sides and 'SELL' in sides else 'Naked/Not Hedged'\n",
    "    )\n",
    "    status_counts = daily_status_df['Status'].value_counts()\n",
    "    \n",
    "    # --- Part 2: Calculate all categories ---\n",
    "    hedged_days = status_counts.get('Hedged', 0)\n",
    "    naked_days = status_counts.get('Naked/Not Hedged', 0)\n",
    "    total_traded_days = hedged_days + naked_days\n",
    "    non_traded_days = total_business_days - total_traded_days\n",
    "\n",
    "    # --- Part 3: Create and format the final summary table ---\n",
    "    summary_data = {\n",
    "        'Category': ['Hedged Days', 'Naked Days (Not Hedged)', 'Total Days Traded', 'Non-Traded Days', 'Total Business Days (Approx.)'],\n",
    "        'Count': [hedged_days, naked_days, total_traded_days, non_traded_days, total_business_days]\n",
    "    }\n",
    "    final_summary = pd.DataFrame(summary_data)\n",
    "    \n",
    "    # Calculate percentages\n",
    "    final_summary['Percentage'] = (final_summary['Count'] / total_business_days * 100).map('{:.2f}%'.format)\n",
    "    \n",
    "    return final_summary\n"
   ]
  },
  {
   "cell_type": "code",
   "execution_count": 6,
   "id": "a3f71978",
   "metadata": {},
   "outputs": [],
   "source": [
    "\n",
    "def fetch_bulk_option_data_call_put(con, ticker, end_date_str, n_days, strikes: List[float], expiries: List[str] , option_type: int = 0 ):\n",
    "    \n",
    "    \"\"\"\n",
    "    Fetches a range of minute-level data for MULTIPLE option contracts\n",
    "    in a single, efficient query.\n",
    "\n",
    "    Args:\n",
    "        con: The database connection object.\n",
    "        ticker (str): The stock ticker (e.g., 'SPY').\n",
    "        end_date_str (str): The end date for the data fetch in 'YYYY-MM-DD' format.\n",
    "        n_days (int): The number of business days to look back.\n",
    "        strikes (List[float]): A list of strike prices to fetch.\n",
    "        expiries (List[str]): A list of expiry dates in 'YYYY-MM-DD' format.\n",
    "        option_type (int, optional): The type of option to fetch. \n",
    "                                     1 for Calls, -1 for Puts, 0 for Both. \n",
    "                                     Defaults to 0.\n",
    "    \n",
    "    Returns:\n",
    "        pd.DataFrame: A DataFrame containing the requested option data, or an empty\n",
    "                      DataFrame if no data is found or an error occurs.\n",
    "    \"\"\"\n",
    "\n",
    "    # 1. Get the list of business days to query (same as before)\n",
    "    nyse = mcal.get_calendar('NYSE')\n",
    "    start_buffer = pd.to_datetime(end_date_str) - pd.Timedelta(days=n_days)\n",
    "    schedule = nyse.schedule(start_date=start_buffer, end_date=end_date_str)\n",
    "    business_day_list = [d.strftime('%Y-%m-%d') for d in schedule.index[-n_days:]]\n",
    "    \n",
    "    # 1. Validate the option_type parameter first\n",
    "    if option_type not in [1, -1, 0]:\n",
    "        print(f\"❌ Bad input for option_type: '{option_type}'. Must be 1 (Call), -1 (Put), or 0 (Both).\")\n",
    "        return pd.DataFrame()\n",
    "\n",
    "\n",
    "    # 2. Build the list of S3 paths (same as before)\n",
    "    path_list = [\n",
    "        f\"'s3://duckdata/ORATS/Options/ticker={ticker}/day={d}/*.parquet'\"\n",
    "        for d in business_day_list ]\n",
    "    \n",
    "    # ▼▼▼ NEW QUERY LOGIC ▼▼▼\n",
    "    # 3. Format the lists for the SQL 'IN' clause\n",
    "    strikes_str = \",\".join(map(str, strikes)) # For numbers: 470.0,471.0,472.0\n",
    "    expiries_str = \",\".join([f\"'{e}'\" for e in expiries]) # For strings: '2024-01-05','2024-01-08'\n",
    "    \n",
    "    # ▼▼▼ NEW LOGIC: DYNAMIC QUERY FILTER ▼▼▼\n",
    "    # 2. Build the optionType filter string based on the parameter\n",
    "    option_type_filter_str = \"\"\n",
    "    if option_type == 1:\n",
    "        option_type_filter_str = \"AND optionType = 1\"\n",
    "    elif option_type == -1:\n",
    "        option_type_filter_str = \"AND optionType = -1\"\n",
    "\n",
    "\n",
    "\n",
    "    query = f\"\"\"\n",
    "        SELECT ts, strike, expiry, close, bidPrice, askPrice, dte, optionType , iv\n",
    "        FROM read_parquet([{\",\".join(path_list)}])\n",
    "        WHERE \n",
    "            CAST(strike AS FLOAT) IN ({strikes_str}) AND\n",
    "            expiry IN ({expiries_str})\n",
    "            {option_type_filter_str} \n",
    "        ORDER BY ts;\n",
    "    \"\"\"\n",
    "    \n",
    "    try:\n",
    "        bulk_df = con.execute(query).df()\n",
    "        \n",
    "        if bulk_df.empty:\n",
    "            return pd.DataFrame()\n",
    "            \n",
    "        # Perform timezone conversion and set index (same as before)\n",
    "        bulk_df['ts'] = pd.to_datetime(bulk_df['ts'].dt.tz_localize('UTC').dt.tz_convert('America/New_York').dt.tz_localize(None))\n",
    "        bulk_df.set_index('ts' , inplace=True)\n",
    "        return bulk_df\n",
    "        \n",
    "    except Exception as e:\n",
    "        print(f\"An error occurred during bulk fetch: {e}\")\n",
    "        return pd.DataFrame()"
   ]
  },
  {
   "cell_type": "code",
   "execution_count": 7,
   "id": "b523c4a6",
   "metadata": {},
   "outputs": [],
   "source": [
    "# --- STRATEGY CONFIGURATION ---\n",
    "\n",
    "# This defines the value of one strike step (e.g., for SPY, strikes are 1 point apart)\n",
    "strike_interval = 1.0\n",
    "\n",
    "# Example 1: 0DTE At-the-Money LONG STRADDLE\n",
    "strategy_config = {\n",
    "    'Leg1': {'action': 'SELL', 'option_type': -1, 'expiry_offset': 0, 'strike_offset': 1},  # Sell ATM Call\n",
    "    }   # Buy 1DTE call\n",
    "\n",
    "# 'Leg2': {'action': 'BUY', 'option_type': 1, 'expiry_offset': 1, 'strike_offset': 3"
   ]
  },
  {
   "cell_type": "code",
   "execution_count": 8,
   "id": "16aa7ebe",
   "metadata": {},
   "outputs": [],
   "source": [
    "def log_and_close_trade(leg_name, exit_timestamp, exit_price, exit_reason, state_dicts, final_trade_log_list, option_multiplier=1):\n",
    "    \"\"\"\n",
    "    Logs the details of a closed trade, calculates profit, and resets all state variables for that leg.\n",
    "    \"\"\"\n",
    "    # Unpack the state dictionaries for easier access\n",
    "    is_in_position, position_side, entry_price, qty, entry_timestamp, bar_count = \\\n",
    "        state_dicts['is_in_position'], state_dicts['position_side'], state_dicts['entry_price'], \\\n",
    "        state_dicts['qty'], state_dicts['entry_timestamp'], state_dicts['bar_count']\n",
    "\n",
    "    # Check if the position actually exists before trying to close it\n",
    "    if leg_name not in entry_price:\n",
    "        print(f\"⚠️  Warning: Trying to close non-existent position {leg_name}. Skipping.\")\n",
    "        return\n",
    "    \n",
    "    # Get the details of the position being closed\n",
    "    side = position_side.get(leg_name)\n",
    "    \n",
    "    # Additional safety checks\n",
    "    if side is None:\n",
    "        print(f\"⚠️  Warning: No position side found for {leg_name}. Skipping.\")\n",
    "        return\n",
    "        \n",
    "    if leg_name not in qty:\n",
    "        print(f\"⚠️  Warning: No quantity found for {leg_name}. Skipping.\")\n",
    "        return\n",
    "\n",
    "    # Calculate profit\n",
    "    profit = (exit_price - entry_price[leg_name]) * qty[leg_name] * side * option_multiplier\n",
    "\n",
    "    # Create the trade log entry\n",
    "    trade_details = {\n",
    "        'name': leg_name,\n",
    "        'Side': 'BUY' if side == 1 else 'SELL',\n",
    "        'entry_date': entry_timestamp.get(leg_name, exit_timestamp),  # Use exit timestamp as fallback\n",
    "        'entry_price': entry_price[leg_name],\n",
    "        'qty': qty[leg_name],\n",
    "        'exit_date': exit_timestamp,\n",
    "        'exit_price': exit_price,\n",
    "        'profit': profit,\n",
    "        'bars_held': bar_count.get(leg_name, 0),\n",
    "        'exit_reason': exit_reason\n",
    "    }\n",
    "    final_trade_log_list.append(trade_details)\n",
    "    \n",
    "    print(f\"  -> {exit_reason} EXIT for {leg_name}. Profit: ${profit:.2f} and exit price is {exit_price:.2f}\")\n",
    "\n",
    "    # Reset all state variables for this leg (with safety checks)\n",
    "    for dict_name, state_dict in state_dicts.items():\n",
    "        if leg_name in state_dict:\n",
    "            del state_dict[leg_name]\n",
    "            #print(f\"    Cleared {leg_name} from {dict_name}\")"
   ]
  },
  {
   "cell_type": "code",
   "execution_count": 159,
   "id": "e889de07",
   "metadata": {},
   "outputs": [
    {
     "name": "stdout",
     "output_type": "stream",
     "text": [
      "🚀 Starting backtest for 241 unique days...\n",
      "\n",
      "--- Processing Day: 2024-01-05 ---\n",
      "Fetching options across 468.15\n"
     ]
    },
    {
     "data": {
      "application/vnd.jupyter.widget-view+json": {
       "model_id": "1188a3233ed441139ee16a9d2875ca5b",
       "version_major": 2,
       "version_minor": 0
      },
      "text/plain": [
       "FloatProgress(value=0.0, layout=Layout(width='auto'), style=ProgressStyle(bar_color='black'))"
      ]
     },
     "metadata": {},
     "output_type": "display_data"
    },
    {
     "name": "stdout",
     "output_type": "stream",
     "text": [
      "\n",
      "--- Phase 2: Preparing Master DataFrame ---\n",
      "✅ Successfully created master DataFrame with 144 total columns.\n",
      "  -> SHORT ENTRY for P_468.0_20240105 at 10:03:00 at 0.44\n",
      "Hedge expiry is 20240108\n",
      "  -> HEDGE ENTRY of qty 80 for P_468.0_20240108 against P_468.0_20240105 and primary qty of 100 at price 1.01\n",
      "  -> COMBINED: Net credit = $-36.80\n",
      "  🚨 STOP-LOSS TRIGGERED for P_468.0_20240105+P_468.0_20240108 at 2024-01-05 13:17:00\n",
      "     Entry short was : $0.44, Current short leg price: $1.51\n",
      "     Entry long was : $1.01, Current long leg price: $2.06\n",
      "     Loss: $-23.00\n",
      "  -> SPREAD_STOP_LOSS EXIT for P_468.0_20240105. Profit: $-107.00 and exit price is 1.51\n",
      "  -> SPREAD_STOP_LOSS EXIT for P_468.0_20240108. Profit: $84.00 and exit price is 2.06\n",
      "\n",
      "--- Processing Day: 2024-01-08 ---\n",
      "Fetching options across 468.64\n"
     ]
    },
    {
     "data": {
      "application/vnd.jupyter.widget-view+json": {
       "model_id": "a1acce56b4ce4561ae0bb2cb023cfac6",
       "version_major": 2,
       "version_minor": 0
      },
      "text/plain": [
       "FloatProgress(value=0.0, layout=Layout(width='auto'), style=ProgressStyle(bar_color='black'))"
      ]
     },
     "metadata": {},
     "output_type": "display_data"
    },
    {
     "name": "stdout",
     "output_type": "stream",
     "text": [
      "\n",
      "--- Phase 2: Preparing Master DataFrame ---\n",
      "✅ Successfully created master DataFrame with 144 total columns.\n",
      "\n",
      "--- Processing Day: 2024-01-09 ---\n",
      "Fetching options across 472.0\n",
      "\n",
      "--- Phase 2: Preparing Master DataFrame ---\n",
      "✅ Successfully created master DataFrame with 144 total columns.\n",
      "\n",
      "--- Processing Day: 2024-01-10 ---\n",
      "Fetching options across 474.35\n"
     ]
    },
    {
     "data": {
      "application/vnd.jupyter.widget-view+json": {
       "model_id": "67ee4f614564462b905b503da1633282",
       "version_major": 2,
       "version_minor": 0
      },
      "text/plain": [
       "FloatProgress(value=0.0, layout=Layout(width='auto'), style=ProgressStyle(bar_color='black'))"
      ]
     },
     "metadata": {},
     "output_type": "display_data"
    },
    {
     "name": "stdout",
     "output_type": "stream",
     "text": [
      "\n",
      "--- Phase 2: Preparing Master DataFrame ---\n",
      "✅ Successfully created master DataFrame with 144 total columns.\n",
      "\n",
      "--- Processing Day: 2024-01-11 ---\n",
      "Fetching options across 477.93\n"
     ]
    },
    {
     "data": {
      "application/vnd.jupyter.widget-view+json": {
       "model_id": "a963a13eb938425599b5782c4e74e5ba",
       "version_major": 2,
       "version_minor": 0
      },
      "text/plain": [
       "FloatProgress(value=0.0, layout=Layout(width='auto'), style=ProgressStyle(bar_color='black'))"
      ]
     },
     "metadata": {},
     "output_type": "display_data"
    },
    {
     "name": "stdout",
     "output_type": "stream",
     "text": [
      "\n",
      "--- Phase 2: Preparing Master DataFrame ---\n",
      "✅ Successfully created master DataFrame with 144 total columns.\n",
      "\n",
      "--- Processing Day: 2024-01-12 ---\n",
      "Fetching options across 477.91\n"
     ]
    },
    {
     "data": {
      "application/vnd.jupyter.widget-view+json": {
       "model_id": "85ea741af55a40d1b8941059d1464b49",
       "version_major": 2,
       "version_minor": 0
      },
      "text/plain": [
       "FloatProgress(value=0.0, layout=Layout(width='auto'), style=ProgressStyle(bar_color='black'))"
      ]
     },
     "metadata": {},
     "output_type": "display_data"
    },
    {
     "name": "stdout",
     "output_type": "stream",
     "text": [
      "\n",
      "--- Phase 2: Preparing Master DataFrame ---\n",
      "✅ Successfully created master DataFrame with 144 total columns.\n",
      "\n",
      "--- Processing Day: 2024-01-16 ---\n",
      "Fetching options across 475.37\n"
     ]
    },
    {
     "data": {
      "application/vnd.jupyter.widget-view+json": {
       "model_id": "e0b6af0caad147e9b05805ad0df90fb6",
       "version_major": 2,
       "version_minor": 0
      },
      "text/plain": [
       "FloatProgress(value=0.0, layout=Layout(width='auto'), style=ProgressStyle(bar_color='black'))"
      ]
     },
     "metadata": {},
     "output_type": "display_data"
    },
    {
     "name": "stdout",
     "output_type": "stream",
     "text": [
      "\n",
      "--- Phase 2: Preparing Master DataFrame ---\n",
      "✅ Successfully created master DataFrame with 144 total columns.\n",
      "\n",
      "--- Processing Day: 2024-01-17 ---\n",
      "Fetching options across 471.78\n"
     ]
    },
    {
     "data": {
      "application/vnd.jupyter.widget-view+json": {
       "model_id": "8ef652bad25e4f178b316235300f6455",
       "version_major": 2,
       "version_minor": 0
      },
      "text/plain": [
       "FloatProgress(value=0.0, layout=Layout(width='auto'), style=ProgressStyle(bar_color='black'))"
      ]
     },
     "metadata": {},
     "output_type": "display_data"
    },
    {
     "name": "stdout",
     "output_type": "stream",
     "text": [
      "\n",
      "--- Phase 2: Preparing Master DataFrame ---\n",
      "✅ Successfully created master DataFrame with 144 total columns.\n",
      "\n",
      "--- Processing Day: 2024-01-18 ---\n",
      "Fetching options across 474.0\n"
     ]
    },
    {
     "data": {
      "application/vnd.jupyter.widget-view+json": {
       "model_id": "4ffd2aa8ea44403c9e41b7e37e2341d8",
       "version_major": 2,
       "version_minor": 0
      },
      "text/plain": [
       "FloatProgress(value=0.0, layout=Layout(width='auto'), style=ProgressStyle(bar_color='black'))"
      ]
     },
     "metadata": {},
     "output_type": "display_data"
    },
    {
     "name": "stdout",
     "output_type": "stream",
     "text": [
      "\n",
      "--- Phase 2: Preparing Master DataFrame ---\n",
      "✅ Successfully created master DataFrame with 144 total columns.\n",
      "\n",
      "--- Processing Day: 2024-01-19 ---\n",
      "Fetching options across 477.44\n",
      "\n",
      "--- Phase 2: Preparing Master DataFrame ---\n",
      "✅ Successfully created master DataFrame with 144 total columns.\n",
      "\n",
      "--- Processing Day: 2024-01-22 ---\n",
      "Fetching options across 484.13\n"
     ]
    },
    {
     "data": {
      "application/vnd.jupyter.widget-view+json": {
       "model_id": "3d1d29292bf945af937f9310946e314e",
       "version_major": 2,
       "version_minor": 0
      },
      "text/plain": [
       "FloatProgress(value=0.0, layout=Layout(width='auto'), style=ProgressStyle(bar_color='black'))"
      ]
     },
     "metadata": {},
     "output_type": "display_data"
    },
    {
     "name": "stdout",
     "output_type": "stream",
     "text": [
      "\n",
      "--- Phase 2: Preparing Master DataFrame ---\n",
      "✅ Successfully created master DataFrame with 144 total columns.\n",
      "\n",
      "--- Processing Day: 2024-01-23 ---\n",
      "Fetching options across 484.23\n"
     ]
    },
    {
     "data": {
      "application/vnd.jupyter.widget-view+json": {
       "model_id": "f341e68ea75242ada7a4aa047b84e5f3",
       "version_major": 2,
       "version_minor": 0
      },
      "text/plain": [
       "FloatProgress(value=0.0, layout=Layout(width='auto'), style=ProgressStyle(bar_color='black'))"
      ]
     },
     "metadata": {},
     "output_type": "display_data"
    },
    {
     "name": "stdout",
     "output_type": "stream",
     "text": [
      "\n",
      "--- Phase 2: Preparing Master DataFrame ---\n",
      "✅ Successfully created master DataFrame with 144 total columns.\n",
      "\n",
      "--- Processing Day: 2024-01-24 ---\n",
      "Fetching options across 487.47\n"
     ]
    },
    {
     "data": {
      "application/vnd.jupyter.widget-view+json": {
       "model_id": "aa8861ddf3544cb8954c38f5b1b0b7c6",
       "version_major": 2,
       "version_minor": 0
      },
      "text/plain": [
       "FloatProgress(value=0.0, layout=Layout(width='auto'), style=ProgressStyle(bar_color='black'))"
      ]
     },
     "metadata": {},
     "output_type": "display_data"
    },
    {
     "name": "stdout",
     "output_type": "stream",
     "text": [
      "\n",
      "--- Phase 2: Preparing Master DataFrame ---\n",
      "✅ Successfully created master DataFrame with 144 total columns.\n",
      "\n",
      "--- Processing Day: 2024-01-25 ---\n",
      "Fetching options across 487.11\n"
     ]
    },
    {
     "data": {
      "application/vnd.jupyter.widget-view+json": {
       "model_id": "4680277153184e7db48902604fe1147d",
       "version_major": 2,
       "version_minor": 0
      },
      "text/plain": [
       "FloatProgress(value=0.0, layout=Layout(width='auto'), style=ProgressStyle(bar_color='black'))"
      ]
     },
     "metadata": {},
     "output_type": "display_data"
    },
    {
     "name": "stdout",
     "output_type": "stream",
     "text": [
      "\n",
      "--- Phase 2: Preparing Master DataFrame ---\n",
      "✅ Successfully created master DataFrame with 144 total columns.\n",
      "\n",
      "--- Processing Day: 2024-01-26 ---\n",
      "Fetching options across 487.8\n"
     ]
    },
    {
     "data": {
      "application/vnd.jupyter.widget-view+json": {
       "model_id": "8633a9c29e5441a19241a5832275a205",
       "version_major": 2,
       "version_minor": 0
      },
      "text/plain": [
       "FloatProgress(value=0.0, layout=Layout(width='auto'), style=ProgressStyle(bar_color='black'))"
      ]
     },
     "metadata": {},
     "output_type": "display_data"
    },
    {
     "name": "stdout",
     "output_type": "stream",
     "text": [
      "\n",
      "--- Phase 2: Preparing Master DataFrame ---\n",
      "✅ Successfully created master DataFrame with 144 total columns.\n",
      "\n",
      "--- Processing Day: 2024-01-29 ---\n",
      "Fetching options across 487.7\n"
     ]
    },
    {
     "data": {
      "application/vnd.jupyter.widget-view+json": {
       "model_id": "d0d6de371b0a4612835610431ad9e0fc",
       "version_major": 2,
       "version_minor": 0
      },
      "text/plain": [
       "FloatProgress(value=0.0, layout=Layout(width='auto'), style=ProgressStyle(bar_color='black'))"
      ]
     },
     "metadata": {},
     "output_type": "display_data"
    },
    {
     "name": "stdout",
     "output_type": "stream",
     "text": [
      "\n",
      "--- Phase 2: Preparing Master DataFrame ---\n",
      "✅ Successfully created master DataFrame with 144 total columns.\n",
      "\n",
      "--- Processing Day: 2024-01-30 ---\n",
      "Fetching options across 490.89\n"
     ]
    },
    {
     "data": {
      "application/vnd.jupyter.widget-view+json": {
       "model_id": "3a638e2978704efaaa8fe2e8bc286a98",
       "version_major": 2,
       "version_minor": 0
      },
      "text/plain": [
       "FloatProgress(value=0.0, layout=Layout(width='auto'), style=ProgressStyle(bar_color='black'))"
      ]
     },
     "metadata": {},
     "output_type": "display_data"
    },
    {
     "name": "stdout",
     "output_type": "stream",
     "text": [
      "\n",
      "--- Phase 2: Preparing Master DataFrame ---\n",
      "✅ Successfully created master DataFrame with 144 total columns.\n",
      "\n",
      "--- Processing Day: 2024-01-31 ---\n",
      "Fetching options across 488.7\n"
     ]
    },
    {
     "data": {
      "application/vnd.jupyter.widget-view+json": {
       "model_id": "611c8db420364c20bf05c98dc574427d",
       "version_major": 2,
       "version_minor": 0
      },
      "text/plain": [
       "FloatProgress(value=0.0, layout=Layout(width='auto'), style=ProgressStyle(bar_color='black'))"
      ]
     },
     "metadata": {},
     "output_type": "display_data"
    },
    {
     "name": "stdout",
     "output_type": "stream",
     "text": [
      "\n",
      "--- Phase 2: Preparing Master DataFrame ---\n",
      "✅ Successfully created master DataFrame with 144 total columns.\n",
      "\n",
      "--- Processing Day: 2024-02-01 ---\n",
      "Fetching options across 485.15\n"
     ]
    },
    {
     "data": {
      "application/vnd.jupyter.widget-view+json": {
       "model_id": "f41bb6862a274e23a93d51f8d2d6bf67",
       "version_major": 2,
       "version_minor": 0
      },
      "text/plain": [
       "FloatProgress(value=0.0, layout=Layout(width='auto'), style=ProgressStyle(bar_color='black'))"
      ]
     },
     "metadata": {},
     "output_type": "display_data"
    },
    {
     "name": "stdout",
     "output_type": "stream",
     "text": [
      "\n",
      "--- Phase 2: Preparing Master DataFrame ---\n",
      "✅ Successfully created master DataFrame with 144 total columns.\n",
      "\n",
      "--- Processing Day: 2024-02-02 ---\n",
      "Fetching options across 489.85\n"
     ]
    },
    {
     "data": {
      "application/vnd.jupyter.widget-view+json": {
       "model_id": "56205156da054e0da358162ed8d1c95a",
       "version_major": 2,
       "version_minor": 0
      },
      "text/plain": [
       "FloatProgress(value=0.0, layout=Layout(width='auto'), style=ProgressStyle(bar_color='black'))"
      ]
     },
     "metadata": {},
     "output_type": "display_data"
    },
    {
     "name": "stdout",
     "output_type": "stream",
     "text": [
      "\n",
      "--- Phase 2: Preparing Master DataFrame ---\n",
      "✅ Successfully created master DataFrame with 144 total columns.\n",
      "\n",
      "--- Processing Day: 2024-02-05 ---\n",
      "Fetching options across 493.25\n"
     ]
    },
    {
     "data": {
      "application/vnd.jupyter.widget-view+json": {
       "model_id": "6f51338ca9e54521beec9eafd21fe575",
       "version_major": 2,
       "version_minor": 0
      },
      "text/plain": [
       "FloatProgress(value=0.0, layout=Layout(width='auto'), style=ProgressStyle(bar_color='black'))"
      ]
     },
     "metadata": {},
     "output_type": "display_data"
    },
    {
     "name": "stdout",
     "output_type": "stream",
     "text": [
      "\n",
      "--- Phase 2: Preparing Master DataFrame ---\n",
      "✅ Successfully created master DataFrame with 144 total columns.\n",
      "\n",
      "--- Processing Day: 2024-02-06 ---\n",
      "Fetching options across 493.98\n"
     ]
    },
    {
     "data": {
      "application/vnd.jupyter.widget-view+json": {
       "model_id": "c54a1930bf4e4660a04e00c79eb5ed1a",
       "version_major": 2,
       "version_minor": 0
      },
      "text/plain": [
       "FloatProgress(value=0.0, layout=Layout(width='auto'), style=ProgressStyle(bar_color='black'))"
      ]
     },
     "metadata": {},
     "output_type": "display_data"
    },
    {
     "name": "stdout",
     "output_type": "stream",
     "text": [
      "\n",
      "--- Phase 2: Preparing Master DataFrame ---\n",
      "✅ Successfully created master DataFrame with 144 total columns.\n",
      "\n",
      "--- Processing Day: 2024-02-07 ---\n",
      "Fetching options across 496.32\n"
     ]
    },
    {
     "data": {
      "application/vnd.jupyter.widget-view+json": {
       "model_id": "ecc888b075f54f9c9b97c4415acdf30c",
       "version_major": 2,
       "version_minor": 0
      },
      "text/plain": [
       "FloatProgress(value=0.0, layout=Layout(width='auto'), style=ProgressStyle(bar_color='black'))"
      ]
     },
     "metadata": {},
     "output_type": "display_data"
    },
    {
     "name": "stdout",
     "output_type": "stream",
     "text": [
      "\n",
      "--- Phase 2: Preparing Master DataFrame ---\n",
      "✅ Successfully created master DataFrame with 144 total columns.\n",
      "\n",
      "--- Processing Day: 2024-02-08 ---\n",
      "Fetching options across 497.78\n"
     ]
    },
    {
     "data": {
      "application/vnd.jupyter.widget-view+json": {
       "model_id": "10ef3c22a6ba44538ef0b772f6bffbea",
       "version_major": 2,
       "version_minor": 0
      },
      "text/plain": [
       "FloatProgress(value=0.0, layout=Layout(width='auto'), style=ProgressStyle(bar_color='black'))"
      ]
     },
     "metadata": {},
     "output_type": "display_data"
    },
    {
     "name": "stdout",
     "output_type": "stream",
     "text": [
      "\n",
      "--- Phase 2: Preparing Master DataFrame ---\n",
      "✅ Successfully created master DataFrame with 144 total columns.\n",
      "\n",
      "--- Processing Day: 2024-02-09 ---\n",
      "Fetching options across 499.13\n"
     ]
    },
    {
     "data": {
      "application/vnd.jupyter.widget-view+json": {
       "model_id": "1c3cf3097c26451c9cc161502f38168e",
       "version_major": 2,
       "version_minor": 0
      },
      "text/plain": [
       "FloatProgress(value=0.0, layout=Layout(width='auto'), style=ProgressStyle(bar_color='black'))"
      ]
     },
     "metadata": {},
     "output_type": "display_data"
    },
    {
     "name": "stdout",
     "output_type": "stream",
     "text": [
      "\n",
      "--- Phase 2: Preparing Master DataFrame ---\n",
      "✅ Successfully created master DataFrame with 144 total columns.\n",
      "\n",
      "--- Processing Day: 2024-02-12 ---\n",
      "Fetching options across 501.24\n"
     ]
    },
    {
     "data": {
      "application/vnd.jupyter.widget-view+json": {
       "model_id": "feffa0cc66864c3c9dc1e7f85b89e027",
       "version_major": 2,
       "version_minor": 0
      },
      "text/plain": [
       "FloatProgress(value=0.0, layout=Layout(width='auto'), style=ProgressStyle(bar_color='black'))"
      ]
     },
     "metadata": {},
     "output_type": "display_data"
    },
    {
     "name": "stdout",
     "output_type": "stream",
     "text": [
      "\n",
      "--- Phase 2: Preparing Master DataFrame ---\n",
      "✅ Successfully created master DataFrame with 160 total columns.\n",
      "\n",
      "--- Processing Day: 2024-02-13 ---\n",
      "Fetching options across 494.3\n",
      "\n",
      "--- Phase 2: Preparing Master DataFrame ---\n",
      "✅ Successfully created master DataFrame with 144 total columns.\n",
      "\n",
      "--- Processing Day: 2024-02-14 ---\n",
      "Fetching options across 497.01\n",
      "\n",
      "--- Phase 2: Preparing Master DataFrame ---\n",
      "✅ Successfully created master DataFrame with 144 total columns.\n",
      "\n",
      "--- Processing Day: 2024-02-15 ---\n",
      "Fetching options across 499.49\n",
      "\n",
      "--- Phase 2: Preparing Master DataFrame ---\n",
      "✅ Successfully created master DataFrame with 144 total columns.\n",
      "\n",
      "--- Processing Day: 2024-02-16 ---\n",
      "Fetching options across 501.71\n"
     ]
    },
    {
     "data": {
      "application/vnd.jupyter.widget-view+json": {
       "model_id": "db5c69ee020a44d3900e3913a86627d4",
       "version_major": 2,
       "version_minor": 0
      },
      "text/plain": [
       "FloatProgress(value=0.0, layout=Layout(width='auto'), style=ProgressStyle(bar_color='black'))"
      ]
     },
     "metadata": {},
     "output_type": "display_data"
    },
    {
     "name": "stdout",
     "output_type": "stream",
     "text": [
      "\n",
      "--- Phase 2: Preparing Master DataFrame ---\n",
      "✅ Successfully created master DataFrame with 160 total columns.\n",
      "\n",
      "--- Processing Day: 2024-02-20 ---\n",
      "Fetching options across 497.88\n",
      "\n",
      "--- Phase 2: Preparing Master DataFrame ---\n",
      "✅ Successfully created master DataFrame with 144 total columns.\n",
      "\n",
      "--- Processing Day: 2024-02-21 ---\n",
      "Fetching options across 495.45\n",
      "\n",
      "--- Phase 2: Preparing Master DataFrame ---\n",
      "✅ Successfully created master DataFrame with 144 total columns.\n",
      "\n",
      "--- Processing Day: 2024-02-22 ---\n",
      "Fetching options across 503.44\n",
      "\n",
      "--- Phase 2: Preparing Master DataFrame ---\n",
      "✅ Successfully created master DataFrame with 160 total columns.\n",
      "\n",
      "--- Processing Day: 2024-02-23 ---\n",
      "Fetching options across 509.27\n",
      "\n",
      "--- Phase 2: Preparing Master DataFrame ---\n",
      "✅ Successfully created master DataFrame with 144 total columns.\n",
      "\n",
      "--- Processing Day: 2024-02-26 ---\n",
      "Fetching options across 508.37\n",
      "\n",
      "--- Phase 2: Preparing Master DataFrame ---\n",
      "✅ Successfully created master DataFrame with 152 total columns.\n",
      "\n",
      "--- Processing Day: 2024-02-27 ---\n",
      "Fetching options across 506.53\n",
      "\n",
      "--- Phase 2: Preparing Master DataFrame ---\n",
      "✅ Successfully created master DataFrame with 160 total columns.\n",
      "\n",
      "--- Processing Day: 2024-02-28 ---\n",
      "Fetching options across 505.53\n",
      "\n",
      "--- Phase 2: Preparing Master DataFrame ---\n",
      "✅ Successfully created master DataFrame with 160 total columns.\n",
      "\n",
      "--- Processing Day: 2024-02-29 ---\n",
      "Fetching options across 508.17\n",
      "\n",
      "--- Phase 2: Preparing Master DataFrame ---\n",
      "✅ Successfully created master DataFrame with 160 total columns.\n",
      "\n",
      "--- Processing Day: 2024-03-01 ---\n",
      "Fetching options across 509.44\n",
      "\n",
      "--- Phase 2: Preparing Master DataFrame ---\n",
      "✅ Successfully created master DataFrame with 160 total columns.\n",
      "\n",
      "--- Processing Day: 2024-03-04 ---\n",
      "Fetching options across 512.16\n",
      "\n",
      "--- Phase 2: Preparing Master DataFrame ---\n",
      "✅ Successfully created master DataFrame with 160 total columns.\n",
      "\n",
      "--- Processing Day: 2024-03-05 ---\n",
      "Fetching options across 510.15\n",
      "\n",
      "--- Phase 2: Preparing Master DataFrame ---\n",
      "✅ Successfully created master DataFrame with 160 total columns.\n",
      "\n",
      "--- Processing Day: 2024-03-06 ---\n",
      "Fetching options across 510.43\n"
     ]
    },
    {
     "data": {
      "application/vnd.jupyter.widget-view+json": {
       "model_id": "cebe06c9e25c43eba64b97d8b3d7e92c",
       "version_major": 2,
       "version_minor": 0
      },
      "text/plain": [
       "FloatProgress(value=0.0, layout=Layout(width='auto'), style=ProgressStyle(bar_color='black'))"
      ]
     },
     "metadata": {},
     "output_type": "display_data"
    },
    {
     "name": "stdout",
     "output_type": "stream",
     "text": [
      "\n",
      "--- Phase 2: Preparing Master DataFrame ---\n",
      "✅ Successfully created master DataFrame with 160 total columns.\n",
      "\n",
      "--- Processing Day: 2024-03-07 ---\n",
      "Fetching options across 513.39\n"
     ]
    },
    {
     "data": {
      "application/vnd.jupyter.widget-view+json": {
       "model_id": "c3fe618aab5048279e22313f81ffa020",
       "version_major": 2,
       "version_minor": 0
      },
      "text/plain": [
       "FloatProgress(value=0.0, layout=Layout(width='auto'), style=ProgressStyle(bar_color='black'))"
      ]
     },
     "metadata": {},
     "output_type": "display_data"
    },
    {
     "name": "stdout",
     "output_type": "stream",
     "text": [
      "\n",
      "--- Phase 2: Preparing Master DataFrame ---\n",
      "✅ Successfully created master DataFrame with 160 total columns.\n",
      "\n",
      "--- Processing Day: 2024-03-08 ---\n",
      "Fetching options across 515.42\n"
     ]
    },
    {
     "data": {
      "application/vnd.jupyter.widget-view+json": {
       "model_id": "2a5a3d6867c7471e81a06fe47ee73a71",
       "version_major": 2,
       "version_minor": 0
      },
      "text/plain": [
       "FloatProgress(value=0.0, layout=Layout(width='auto'), style=ProgressStyle(bar_color='black'))"
      ]
     },
     "metadata": {},
     "output_type": "display_data"
    },
    {
     "name": "stdout",
     "output_type": "stream",
     "text": [
      "\n",
      "--- Phase 2: Preparing Master DataFrame ---\n",
      "✅ Successfully created master DataFrame with 160 total columns.\n",
      "\n",
      "--- Processing Day: 2024-03-11 ---\n",
      "Fetching options across 510.3\n"
     ]
    },
    {
     "data": {
      "application/vnd.jupyter.widget-view+json": {
       "model_id": "e6abf13b079b45d483679403b64f5de1",
       "version_major": 2,
       "version_minor": 0
      },
      "text/plain": [
       "FloatProgress(value=0.0, layout=Layout(width='auto'), style=ProgressStyle(bar_color='black'))"
      ]
     },
     "metadata": {},
     "output_type": "display_data"
    },
    {
     "name": "stdout",
     "output_type": "stream",
     "text": [
      "\n",
      "--- Phase 2: Preparing Master DataFrame ---\n",
      "✅ Successfully created master DataFrame with 160 total columns.\n",
      "\n",
      "--- Processing Day: 2024-03-12 ---\n",
      "Fetching options across 513.57\n"
     ]
    },
    {
     "data": {
      "application/vnd.jupyter.widget-view+json": {
       "model_id": "f91e309e6f3f4b2fa016a0f9bfc18048",
       "version_major": 2,
       "version_minor": 0
      },
      "text/plain": [
       "FloatProgress(value=0.0, layout=Layout(width='auto'), style=ProgressStyle(bar_color='black'))"
      ]
     },
     "metadata": {},
     "output_type": "display_data"
    },
    {
     "name": "stdout",
     "output_type": "stream",
     "text": [
      "\n",
      "--- Phase 2: Preparing Master DataFrame ---\n",
      "✅ Successfully created master DataFrame with 160 total columns.\n",
      "  -> SHORT ENTRY for P_511.0_20240312 at 09:57:00 at 0.68\n",
      "Hedge expiry is 20240313\n",
      "  -> HEDGE ENTRY of qty 80 for P_511.0_20240313 against P_511.0_20240312 and primary qty of 100 at price 0.75\n",
      "  -> COMBINED: Net credit = $7.00\n",
      "  [EOD] Checking positions to close at 15:45:00\n",
      "  [EOD] Current positions: ['P_511.0_20240312', 'P_511.0_20240313']\n",
      "  [EOD] Processing P_511.0_20240312: side=-1, price=0.01\n",
      "  -> EOD EXIT for P_511.0_20240312. Profit: $66.00 and exit price is 0.01\n",
      "  [EOD] Processing P_511.0_20240313: side=1, price=0.13\n",
      "  -> EOD EXIT for P_511.0_20240313. Profit: $-49.60 and exit price is 0.13\n",
      "\n",
      "--- Processing Day: 2024-03-13 ---\n",
      "Fetching options across 517.03\n"
     ]
    },
    {
     "data": {
      "application/vnd.jupyter.widget-view+json": {
       "model_id": "d1545e9a0bbd482e9b44cd4bea3c2b14",
       "version_major": 2,
       "version_minor": 0
      },
      "text/plain": [
       "FloatProgress(value=0.0, layout=Layout(width='auto'), style=ProgressStyle(bar_color='black'))"
      ]
     },
     "metadata": {},
     "output_type": "display_data"
    },
    {
     "name": "stdout",
     "output_type": "stream",
     "text": [
      "\n",
      "--- Phase 2: Preparing Master DataFrame ---\n",
      "✅ Successfully created master DataFrame with 160 total columns.\n",
      "\n",
      "--- Processing Day: 2024-03-14 ---\n",
      "Fetching options across 516.71\n"
     ]
    },
    {
     "data": {
      "application/vnd.jupyter.widget-view+json": {
       "model_id": "47ad0ec3edc642e7ae266c8deebd8f19",
       "version_major": 2,
       "version_minor": 0
      },
      "text/plain": [
       "FloatProgress(value=0.0, layout=Layout(width='auto'), style=ProgressStyle(bar_color='black'))"
      ]
     },
     "metadata": {},
     "output_type": "display_data"
    },
    {
     "name": "stdout",
     "output_type": "stream",
     "text": [
      "\n",
      "--- Phase 2: Preparing Master DataFrame ---\n",
      "✅ Successfully created master DataFrame with 160 total columns.\n",
      "\n",
      "--- Processing Day: 2024-03-15 ---\n",
      "Fetching options across 510.77\n"
     ]
    },
    {
     "data": {
      "application/vnd.jupyter.widget-view+json": {
       "model_id": "cbc41a1328f64e2fad4dc5f516b609e0",
       "version_major": 2,
       "version_minor": 0
      },
      "text/plain": [
       "FloatProgress(value=0.0, layout=Layout(width='auto'), style=ProgressStyle(bar_color='black'))"
      ]
     },
     "metadata": {},
     "output_type": "display_data"
    },
    {
     "name": "stdout",
     "output_type": "stream",
     "text": [
      "\n",
      "--- Phase 2: Preparing Master DataFrame ---\n",
      "✅ Successfully created master DataFrame with 160 total columns.\n",
      "\n",
      "--- Processing Day: 2024-03-18 ---\n",
      "Fetching options across 514.14\n"
     ]
    },
    {
     "data": {
      "application/vnd.jupyter.widget-view+json": {
       "model_id": "2f64c3bdf1074bacb3e4163cec329301",
       "version_major": 2,
       "version_minor": 0
      },
      "text/plain": [
       "FloatProgress(value=0.0, layout=Layout(width='auto'), style=ProgressStyle(bar_color='black'))"
      ]
     },
     "metadata": {},
     "output_type": "display_data"
    },
    {
     "name": "stdout",
     "output_type": "stream",
     "text": [
      "\n",
      "--- Phase 2: Preparing Master DataFrame ---\n",
      "✅ Successfully created master DataFrame with 160 total columns.\n",
      "\n",
      "--- Processing Day: 2024-03-19 ---\n",
      "Fetching options across 511.8\n"
     ]
    },
    {
     "data": {
      "application/vnd.jupyter.widget-view+json": {
       "model_id": "784848bd5bc641928574a90e319d02b2",
       "version_major": 2,
       "version_minor": 0
      },
      "text/plain": [
       "FloatProgress(value=0.0, layout=Layout(width='auto'), style=ProgressStyle(bar_color='black'))"
      ]
     },
     "metadata": {},
     "output_type": "display_data"
    },
    {
     "name": "stdout",
     "output_type": "stream",
     "text": [
      "\n",
      "--- Phase 2: Preparing Master DataFrame ---\n",
      "✅ Successfully created master DataFrame with 160 total columns.\n",
      "\n",
      "--- Processing Day: 2024-03-20 ---\n",
      "Fetching options across 515.47\n"
     ]
    },
    {
     "data": {
      "application/vnd.jupyter.widget-view+json": {
       "model_id": "63d44bf659104fed87d0cc1768745ac5",
       "version_major": 2,
       "version_minor": 0
      },
      "text/plain": [
       "FloatProgress(value=0.0, layout=Layout(width='auto'), style=ProgressStyle(bar_color='black'))"
      ]
     },
     "metadata": {},
     "output_type": "display_data"
    },
    {
     "name": "stdout",
     "output_type": "stream",
     "text": [
      "\n",
      "--- Phase 2: Preparing Master DataFrame ---\n",
      "✅ Successfully created master DataFrame with 160 total columns.\n",
      "\n",
      "--- Processing Day: 2024-03-21 ---\n",
      "Fetching options across 523.12\n"
     ]
    },
    {
     "data": {
      "application/vnd.jupyter.widget-view+json": {
       "model_id": "ac9a0ea2dd40470c9df6b4c7f31f31f2",
       "version_major": 2,
       "version_minor": 0
      },
      "text/plain": [
       "FloatProgress(value=0.0, layout=Layout(width='auto'), style=ProgressStyle(bar_color='black'))"
      ]
     },
     "metadata": {},
     "output_type": "display_data"
    },
    {
     "name": "stdout",
     "output_type": "stream",
     "text": [
      "\n",
      "--- Phase 2: Preparing Master DataFrame ---\n",
      "✅ Successfully created master DataFrame with 176 total columns.\n",
      "\n",
      "--- Processing Day: 2024-03-22 ---\n",
      "Fetching options across 522.11\n"
     ]
    },
    {
     "data": {
      "application/vnd.jupyter.widget-view+json": {
       "model_id": "9cc2a0c810be4254aabc7039fbd5fbe5",
       "version_major": 2,
       "version_minor": 0
      },
      "text/plain": [
       "FloatProgress(value=0.0, layout=Layout(width='auto'), style=ProgressStyle(bar_color='black'))"
      ]
     },
     "metadata": {},
     "output_type": "display_data"
    },
    {
     "name": "stdout",
     "output_type": "stream",
     "text": [
      "\n",
      "--- Phase 2: Preparing Master DataFrame ---\n",
      "✅ Successfully created master DataFrame with 176 total columns.\n",
      "\n",
      "--- Processing Day: 2024-03-25 ---\n",
      "Fetching options across 519.95\n"
     ]
    },
    {
     "data": {
      "application/vnd.jupyter.widget-view+json": {
       "model_id": "1a142c6495784980800cf2234a654fa3",
       "version_major": 2,
       "version_minor": 0
      },
      "text/plain": [
       "FloatProgress(value=0.0, layout=Layout(width='auto'), style=ProgressStyle(bar_color='black'))"
      ]
     },
     "metadata": {},
     "output_type": "display_data"
    },
    {
     "name": "stdout",
     "output_type": "stream",
     "text": [
      "\n",
      "--- Phase 2: Preparing Master DataFrame ---\n",
      "✅ Successfully created master DataFrame with 160 total columns.\n",
      "\n",
      "--- Processing Day: 2024-03-26 ---\n",
      "Fetching options across 520.99\n"
     ]
    },
    {
     "data": {
      "application/vnd.jupyter.widget-view+json": {
       "model_id": "c2fdfb6478dc4e429137d47b691d5a20",
       "version_major": 2,
       "version_minor": 0
      },
      "text/plain": [
       "FloatProgress(value=0.0, layout=Layout(width='auto'), style=ProgressStyle(bar_color='black'))"
      ]
     },
     "metadata": {},
     "output_type": "display_data"
    },
    {
     "name": "stdout",
     "output_type": "stream",
     "text": [
      "\n",
      "--- Phase 2: Preparing Master DataFrame ---\n",
      "✅ Successfully created master DataFrame with 176 total columns.\n",
      "\n",
      "--- Processing Day: 2024-03-27 ---\n",
      "Fetching options across 521.52\n"
     ]
    },
    {
     "data": {
      "application/vnd.jupyter.widget-view+json": {
       "model_id": "a7208e766f264e1aa37692be874583cb",
       "version_major": 2,
       "version_minor": 0
      },
      "text/plain": [
       "FloatProgress(value=0.0, layout=Layout(width='auto'), style=ProgressStyle(bar_color='black'))"
      ]
     },
     "metadata": {},
     "output_type": "display_data"
    },
    {
     "name": "stdout",
     "output_type": "stream",
     "text": [
      "\n",
      "--- Phase 2: Preparing Master DataFrame ---\n",
      "✅ Successfully created master DataFrame with 176 total columns.\n",
      "\n",
      "--- Processing Day: 2024-03-28 ---\n",
      "Fetching options across 523.04\n"
     ]
    },
    {
     "data": {
      "application/vnd.jupyter.widget-view+json": {
       "model_id": "fef4d14892b749708a31553b24680b4a",
       "version_major": 2,
       "version_minor": 0
      },
      "text/plain": [
       "FloatProgress(value=0.0, layout=Layout(width='auto'), style=ProgressStyle(bar_color='black'))"
      ]
     },
     "metadata": {},
     "output_type": "display_data"
    },
    {
     "name": "stdout",
     "output_type": "stream",
     "text": [
      "\n",
      "--- Phase 2: Preparing Master DataFrame ---\n",
      "✅ Successfully created master DataFrame with 176 total columns.\n",
      "\n",
      "--- Processing Day: 2024-04-01 ---\n",
      "Fetching options across 523.63\n"
     ]
    },
    {
     "data": {
      "application/vnd.jupyter.widget-view+json": {
       "model_id": "01b9b0cd8a6a4a6fbc2484770bc55a21",
       "version_major": 2,
       "version_minor": 0
      },
      "text/plain": [
       "FloatProgress(value=0.0, layout=Layout(width='auto'), style=ProgressStyle(bar_color='black'))"
      ]
     },
     "metadata": {},
     "output_type": "display_data"
    },
    {
     "name": "stdout",
     "output_type": "stream",
     "text": [
      "\n",
      "--- Phase 2: Preparing Master DataFrame ---\n",
      "✅ Successfully created master DataFrame with 176 total columns.\n",
      "\n",
      "--- Processing Day: 2024-04-02 ---\n",
      "Fetching options across 518.42\n"
     ]
    },
    {
     "data": {
      "application/vnd.jupyter.widget-view+json": {
       "model_id": "b37b50d10ad5460c8b8132d0edb79e44",
       "version_major": 2,
       "version_minor": 0
      },
      "text/plain": [
       "FloatProgress(value=0.0, layout=Layout(width='auto'), style=ProgressStyle(bar_color='black'))"
      ]
     },
     "metadata": {},
     "output_type": "display_data"
    },
    {
     "name": "stdout",
     "output_type": "stream",
     "text": [
      "\n",
      "--- Phase 2: Preparing Master DataFrame ---\n",
      "✅ Successfully created master DataFrame with 160 total columns.\n",
      "\n",
      "--- Processing Day: 2024-04-03 ---\n",
      "Fetching options across 518.4\n"
     ]
    },
    {
     "data": {
      "application/vnd.jupyter.widget-view+json": {
       "model_id": "8a55d12a3d164af1ae837b7bb19fa039",
       "version_major": 2,
       "version_minor": 0
      },
      "text/plain": [
       "FloatProgress(value=0.0, layout=Layout(width='auto'), style=ProgressStyle(bar_color='black'))"
      ]
     },
     "metadata": {},
     "output_type": "display_data"
    },
    {
     "name": "stdout",
     "output_type": "stream",
     "text": [
      "\n",
      "--- Phase 2: Preparing Master DataFrame ---\n",
      "✅ Successfully created master DataFrame with 160 total columns.\n",
      "\n",
      "--- Processing Day: 2024-04-04 ---\n",
      "Fetching options across 523.39\n"
     ]
    },
    {
     "data": {
      "application/vnd.jupyter.widget-view+json": {
       "model_id": "f2b3dc4e2e154db0ab3dd1add5159b88",
       "version_major": 2,
       "version_minor": 0
      },
      "text/plain": [
       "FloatProgress(value=0.0, layout=Layout(width='auto'), style=ProgressStyle(bar_color='black'))"
      ]
     },
     "metadata": {},
     "output_type": "display_data"
    },
    {
     "name": "stdout",
     "output_type": "stream",
     "text": [
      "\n",
      "--- Phase 2: Preparing Master DataFrame ---\n",
      "✅ Successfully created master DataFrame with 176 total columns.\n",
      "\n",
      "--- Processing Day: 2024-04-05 ---\n",
      "Fetching options across 514.25\n"
     ]
    },
    {
     "data": {
      "application/vnd.jupyter.widget-view+json": {
       "model_id": "7463eb498b134e97ab67555d910f6a25",
       "version_major": 2,
       "version_minor": 0
      },
      "text/plain": [
       "FloatProgress(value=0.0, layout=Layout(width='auto'), style=ProgressStyle(bar_color='black'))"
      ]
     },
     "metadata": {},
     "output_type": "display_data"
    },
    {
     "name": "stdout",
     "output_type": "stream",
     "text": [
      "\n",
      "--- Phase 2: Preparing Master DataFrame ---\n",
      "✅ Successfully created master DataFrame with 144 total columns.\n",
      "  -> SHORT ENTRY for P_514.0_20240405 at 09:58:00 at 0.68\n",
      "Hedge expiry is 20240408\n",
      "  -> HEDGE ENTRY of qty 80 for P_514.0_20240408 against P_514.0_20240405 and primary qty of 100 at price 1.76\n",
      "  -> COMBINED: Net credit = $-73.80\n",
      "  [EOD] Checking positions to close at 15:45:00\n",
      "  [EOD] Current positions: ['P_514.0_20240405', 'P_514.0_20240408']\n",
      "  [EOD] Processing P_514.0_20240405: side=-1, price=0.02\n",
      "  -> EOD EXIT for P_514.0_20240405. Profit: $65.00 and exit price is 0.02\n",
      "  [EOD] Processing P_514.0_20240408: side=1, price=0.59\n",
      "  -> EOD EXIT for P_514.0_20240408. Profit: $-93.60 and exit price is 0.59\n",
      "\n",
      "--- Processing Day: 2024-04-08 ---\n",
      "Fetching options across 519.08\n"
     ]
    },
    {
     "data": {
      "application/vnd.jupyter.widget-view+json": {
       "model_id": "b91b34327c0e4eff8d5a80340999daad",
       "version_major": 2,
       "version_minor": 0
      },
      "text/plain": [
       "FloatProgress(value=0.0, layout=Layout(width='auto'), style=ProgressStyle(bar_color='black'))"
      ]
     },
     "metadata": {},
     "output_type": "display_data"
    },
    {
     "name": "stdout",
     "output_type": "stream",
     "text": [
      "\n",
      "--- Phase 2: Preparing Master DataFrame ---\n",
      "✅ Successfully created master DataFrame with 160 total columns.\n",
      "\n",
      "--- Processing Day: 2024-04-09 ---\n",
      "Fetching options across 520.49\n"
     ]
    },
    {
     "data": {
      "application/vnd.jupyter.widget-view+json": {
       "model_id": "172c441bb4664e21864c2ee74ade1f2b",
       "version_major": 2,
       "version_minor": 0
      },
      "text/plain": [
       "FloatProgress(value=0.0, layout=Layout(width='auto'), style=ProgressStyle(bar_color='black'))"
      ]
     },
     "metadata": {},
     "output_type": "display_data"
    },
    {
     "name": "stdout",
     "output_type": "stream",
     "text": [
      "\n",
      "--- Phase 2: Preparing Master DataFrame ---\n",
      "✅ Successfully created master DataFrame with 160 total columns.\n",
      "\n",
      "--- Processing Day: 2024-04-10 ---\n",
      "Fetching options across 513.27\n"
     ]
    },
    {
     "data": {
      "application/vnd.jupyter.widget-view+json": {
       "model_id": "127f8769ed7242ab8bdd7946ab7875cf",
       "version_major": 2,
       "version_minor": 0
      },
      "text/plain": [
       "FloatProgress(value=0.0, layout=Layout(width='auto'), style=ProgressStyle(bar_color='black'))"
      ]
     },
     "metadata": {},
     "output_type": "display_data"
    },
    {
     "name": "stdout",
     "output_type": "stream",
     "text": [
      "\n",
      "--- Phase 2: Preparing Master DataFrame ---\n",
      "✅ Successfully created master DataFrame with 160 total columns.\n",
      "\n",
      "--- Processing Day: 2024-04-11 ---\n",
      "Fetching options across 515.55\n"
     ]
    },
    {
     "data": {
      "application/vnd.jupyter.widget-view+json": {
       "model_id": "d5fed3860dd740769783e5542659c3d5",
       "version_major": 2,
       "version_minor": 0
      },
      "text/plain": [
       "FloatProgress(value=0.0, layout=Layout(width='auto'), style=ProgressStyle(bar_color='black'))"
      ]
     },
     "metadata": {},
     "output_type": "display_data"
    },
    {
     "name": "stdout",
     "output_type": "stream",
     "text": [
      "\n",
      "--- Phase 2: Preparing Master DataFrame ---\n",
      "✅ Successfully created master DataFrame with 160 total columns.\n",
      "  -> SHORT ENTRY for P_512.0_20240411 at 11:40:00 at 0.46\n",
      "Hedge expiry is 20240412\n",
      "  -> HEDGE ENTRY of qty 80 for P_512.0_20240412 against P_512.0_20240411 and primary qty of 100 at price 0.97\n",
      "  -> COMBINED: Net credit = $-32.60\n",
      "  [EOD] Checking positions to close at 15:45:00\n",
      "  [EOD] Current positions: ['P_512.0_20240411', 'P_512.0_20240412']\n",
      "  [EOD] Processing P_512.0_20240411: side=-1, price=0.01\n",
      "  -> EOD EXIT for P_512.0_20240411. Profit: $44.00 and exit price is 0.01\n",
      "  [EOD] Processing P_512.0_20240412: side=1, price=0.2\n",
      "  -> EOD EXIT for P_512.0_20240412. Profit: $-61.60 and exit price is 0.20\n",
      "\n",
      "--- Processing Day: 2024-04-12 ---\n",
      "Fetching options across 514.55\n"
     ]
    },
    {
     "data": {
      "application/vnd.jupyter.widget-view+json": {
       "model_id": "84710e6003944568981c718c38aeda2c",
       "version_major": 2,
       "version_minor": 0
      },
      "text/plain": [
       "FloatProgress(value=0.0, layout=Layout(width='auto'), style=ProgressStyle(bar_color='black'))"
      ]
     },
     "metadata": {},
     "output_type": "display_data"
    },
    {
     "name": "stdout",
     "output_type": "stream",
     "text": [
      "\n",
      "--- Phase 2: Preparing Master DataFrame ---\n",
      "✅ Successfully created master DataFrame with 160 total columns.\n",
      "\n",
      "--- Processing Day: 2024-04-15 ---\n",
      "Fetching options across 514.7\n"
     ]
    },
    {
     "data": {
      "application/vnd.jupyter.widget-view+json": {
       "model_id": "66a950355f0d4c2a8353a2939acf47b8",
       "version_major": 2,
       "version_minor": 0
      },
      "text/plain": [
       "FloatProgress(value=0.0, layout=Layout(width='auto'), style=ProgressStyle(bar_color='black'))"
      ]
     },
     "metadata": {},
     "output_type": "display_data"
    },
    {
     "name": "stdout",
     "output_type": "stream",
     "text": [
      "\n",
      "--- Phase 2: Preparing Master DataFrame ---\n",
      "✅ Successfully created master DataFrame with 160 total columns.\n",
      "\n",
      "--- Processing Day: 2024-04-16 ---\n",
      "Fetching options across 504.69\n"
     ]
    },
    {
     "data": {
      "application/vnd.jupyter.widget-view+json": {
       "model_id": "c7b09b4158e94b1792666bf871d1dda3",
       "version_major": 2,
       "version_minor": 0
      },
      "text/plain": [
       "FloatProgress(value=0.0, layout=Layout(width='auto'), style=ProgressStyle(bar_color='black'))"
      ]
     },
     "metadata": {},
     "output_type": "display_data"
    },
    {
     "name": "stdout",
     "output_type": "stream",
     "text": [
      "\n",
      "--- Phase 2: Preparing Master DataFrame ---\n",
      "✅ Successfully created master DataFrame with 160 total columns.\n",
      "  -> SHORT ENTRY for P_503.0_20240416 at 10:16:00 at 1.02\n",
      "Hedge expiry is 20240417\n",
      "  -> HEDGE ENTRY of qty 80 for P_503.0_20240417 against P_503.0_20240416 and primary qty of 100 at price 2.07\n",
      "  -> COMBINED: Net credit = $-64.60\n",
      "  🚨 STOP-LOSS TRIGGERED for P_503.0_20240416+P_503.0_20240417 at 2024-04-16 10:38:00\n",
      "     Entry short was : $1.01, Current short leg price: $2.19\n",
      "     Entry long was : $2.07, Current long leg price: $3.06\n",
      "     Loss: $-38.80\n",
      "  -> SPREAD_STOP_LOSS EXIT for P_503.0_20240416. Profit: $-118.00 and exit price is 2.19\n",
      "  -> SPREAD_STOP_LOSS EXIT for P_503.0_20240417. Profit: $79.20 and exit price is 3.06\n",
      "\n",
      "--- Processing Day: 2024-04-17 ---\n",
      "Fetching options across 505.66\n"
     ]
    },
    {
     "data": {
      "application/vnd.jupyter.widget-view+json": {
       "model_id": "b22309d1b65c4c17a700a7dc4a62cf08",
       "version_major": 2,
       "version_minor": 0
      },
      "text/plain": [
       "FloatProgress(value=0.0, layout=Layout(width='auto'), style=ProgressStyle(bar_color='black'))"
      ]
     },
     "metadata": {},
     "output_type": "display_data"
    },
    {
     "name": "stdout",
     "output_type": "stream",
     "text": [
      "\n",
      "--- Phase 2: Preparing Master DataFrame ---\n",
      "✅ Successfully created master DataFrame with 160 total columns.\n",
      "  -> SHORT ENTRY for P_500.0_20240417 at 13:21:00 at 0.6\n",
      "Hedge expiry is 20240418\n",
      "  -> HEDGE ENTRY of qty 80 for P_500.0_20240418 against P_500.0_20240417 and primary qty of 100 at price 1.01\n",
      "  -> COMBINED: Net credit = $-21.80\n",
      "  [EOD] Checking positions to close at 15:45:00\n",
      "  [EOD] Current positions: ['P_500.0_20240417', 'P_500.0_20240418']\n",
      "  [EOD] Processing P_500.0_20240417: side=-1, price=0.11\n",
      "  -> EOD EXIT for P_500.0_20240417. Profit: $48.00 and exit price is 0.11\n",
      "  [EOD] Processing P_500.0_20240418: side=1, price=1.4\n",
      "  -> EOD EXIT for P_500.0_20240418. Profit: $31.20 and exit price is 1.40\n",
      "\n",
      "--- Processing Day: 2024-04-18 ---\n",
      "Fetching options across 501.94\n"
     ]
    },
    {
     "data": {
      "application/vnd.jupyter.widget-view+json": {
       "model_id": "0b64f531f69d44d6840ed5f443f09a1d",
       "version_major": 2,
       "version_minor": 0
      },
      "text/plain": [
       "FloatProgress(value=0.0, layout=Layout(width='auto'), style=ProgressStyle(bar_color='black'))"
      ]
     },
     "metadata": {},
     "output_type": "display_data"
    },
    {
     "name": "stdout",
     "output_type": "stream",
     "text": [
      "\n",
      "--- Phase 2: Preparing Master DataFrame ---\n",
      "✅ Successfully created master DataFrame with 160 total columns.\n",
      "  -> SHORT ENTRY for P_500.0_20240418 at 10:28:00 at 0.73\n",
      "Hedge expiry is 20240419\n",
      "  -> HEDGE ENTRY of qty 80 for P_500.0_20240419 against P_500.0_20240418 and primary qty of 100 at price 1.15\n",
      "  -> COMBINED: Net credit = $-20.00\n",
      "  🚨 STOP-LOSS TRIGGERED for P_500.0_20240418+P_500.0_20240419 at 2024-04-18 13:25:00\n",
      "     Entry short was : $0.72, Current short leg price: $1.74\n",
      "     Entry long was : $1.15, Current long leg price: $2.74\n",
      "     Loss: $25.20\n",
      "  -> SPREAD_STOP_LOSS EXIT for P_500.0_20240418. Profit: $-102.00 and exit price is 1.74\n",
      "  -> SPREAD_STOP_LOSS EXIT for P_500.0_20240419. Profit: $127.20 and exit price is 2.74\n",
      "\n",
      "--- Processing Day: 2024-04-19 ---\n",
      "Fetching options across 499.16\n"
     ]
    },
    {
     "data": {
      "application/vnd.jupyter.widget-view+json": {
       "model_id": "8c5277c044c94510978f9a96b227f740",
       "version_major": 2,
       "version_minor": 0
      },
      "text/plain": [
       "FloatProgress(value=0.0, layout=Layout(width='auto'), style=ProgressStyle(bar_color='black'))"
      ]
     },
     "metadata": {},
     "output_type": "display_data"
    },
    {
     "name": "stdout",
     "output_type": "stream",
     "text": [
      "\n",
      "--- Phase 2: Preparing Master DataFrame ---\n",
      "✅ Successfully created master DataFrame with 144 total columns.\n",
      "  -> SHORT ENTRY for P_496.0_20240419 at 14:00:00 at 0.52\n",
      "Hedge expiry is 20240422\n",
      "  -> HEDGE ENTRY of qty 80 for P_496.0_20240422 against P_496.0_20240419 and primary qty of 100 at price 2.01\n",
      "  -> COMBINED: Net credit = $-109.80\n",
      "  🚨 STOP-LOSS TRIGGERED for P_496.0_20240419+P_496.0_20240422 at 2024-04-19 14:40:00\n",
      "     Entry short was : $0.51, Current short leg price: $1.64\n",
      "     Entry long was : $2.01, Current long leg price: $2.94\n",
      "     Loss: $-38.60\n",
      "  -> SPREAD_STOP_LOSS EXIT for P_496.0_20240419. Profit: $-113.00 and exit price is 1.64\n",
      "  -> SPREAD_STOP_LOSS EXIT for P_496.0_20240422. Profit: $74.40 and exit price is 2.94\n",
      "\n",
      "--- Processing Day: 2024-04-22 ---\n",
      "Fetching options across 497.72\n"
     ]
    },
    {
     "data": {
      "application/vnd.jupyter.widget-view+json": {
       "model_id": "71ec7438765c4169a2437378e1e7314b",
       "version_major": 2,
       "version_minor": 0
      },
      "text/plain": [
       "FloatProgress(value=0.0, layout=Layout(width='auto'), style=ProgressStyle(bar_color='black'))"
      ]
     },
     "metadata": {},
     "output_type": "display_data"
    },
    {
     "name": "stdout",
     "output_type": "stream",
     "text": [
      "\n",
      "--- Phase 2: Preparing Master DataFrame ---\n",
      "✅ Successfully created master DataFrame with 144 total columns.\n",
      "\n",
      "--- Processing Day: 2024-04-23 ---\n",
      "Fetching options across 501.83\n"
     ]
    },
    {
     "data": {
      "application/vnd.jupyter.widget-view+json": {
       "model_id": "13f3e1add2c945cbb4db9f40ac47248c",
       "version_major": 2,
       "version_minor": 0
      },
      "text/plain": [
       "FloatProgress(value=0.0, layout=Layout(width='auto'), style=ProgressStyle(bar_color='black'))"
      ]
     },
     "metadata": {},
     "output_type": "display_data"
    },
    {
     "name": "stdout",
     "output_type": "stream",
     "text": [
      "\n",
      "--- Phase 2: Preparing Master DataFrame ---\n",
      "✅ Successfully created master DataFrame with 160 total columns.\n",
      "  -> SHORT ENTRY for P_502.0_20240423 at 09:56:00 at 0.73\n",
      "Hedge expiry is 20240424\n",
      "  -> HEDGE ENTRY of qty 80 for P_502.0_20240424 against P_502.0_20240423 and primary qty of 100 at price 1.62\n",
      "  -> COMBINED: Net credit = $-57.60\n",
      "  [EOD] Checking positions to close at 15:45:00\n",
      "  [EOD] Current positions: ['P_502.0_20240423', 'P_502.0_20240424']\n",
      "  [EOD] Processing P_502.0_20240423: side=-1, price=0.03\n",
      "  -> EOD EXIT for P_502.0_20240423. Profit: $69.00 and exit price is 0.03\n",
      "  [EOD] Processing P_502.0_20240424: side=1, price=0.48\n",
      "  -> EOD EXIT for P_502.0_20240424. Profit: $-91.20 and exit price is 0.48\n",
      "\n",
      "--- Processing Day: 2024-04-24 ---\n",
      "Fetching options across 506.52\n"
     ]
    },
    {
     "data": {
      "application/vnd.jupyter.widget-view+json": {
       "model_id": "80dc6418e3f84b5388b529b377872725",
       "version_major": 2,
       "version_minor": 0
      },
      "text/plain": [
       "FloatProgress(value=0.0, layout=Layout(width='auto'), style=ProgressStyle(bar_color='black'))"
      ]
     },
     "metadata": {},
     "output_type": "display_data"
    },
    {
     "name": "stdout",
     "output_type": "stream",
     "text": [
      "\n",
      "--- Phase 2: Preparing Master DataFrame ---\n",
      "✅ Successfully created master DataFrame with 160 total columns.\n",
      "\n",
      "--- Processing Day: 2024-04-25 ---\n",
      "Fetching options across 499.06\n"
     ]
    },
    {
     "data": {
      "application/vnd.jupyter.widget-view+json": {
       "model_id": "8635ec80eb34494592696651ed577329",
       "version_major": 2,
       "version_minor": 0
      },
      "text/plain": [
       "FloatProgress(value=0.0, layout=Layout(width='auto'), style=ProgressStyle(bar_color='black'))"
      ]
     },
     "metadata": {},
     "output_type": "display_data"
    },
    {
     "name": "stdout",
     "output_type": "stream",
     "text": [
      "\n",
      "--- Phase 2: Preparing Master DataFrame ---\n",
      "✅ Successfully created master DataFrame with 144 total columns.\n",
      "  -> SHORT ENTRY for P_499.0_20240425 at 12:09:00 at 0.73\n",
      "Hedge expiry is 20240426\n",
      "  -> HEDGE ENTRY of qty 80 for P_499.0_20240426 against P_499.0_20240425 and primary qty of 100 at price 1.93\n",
      "  -> COMBINED: Net credit = $-82.40\n",
      "  [EOD] Checking positions to close at 15:45:00\n",
      "  [EOD] Current positions: ['P_499.0_20240425', 'P_499.0_20240426']\n",
      "  [EOD] Processing P_499.0_20240425: side=-1, price=0.08\n",
      "  -> EOD EXIT for P_499.0_20240425. Profit: $64.00 and exit price is 0.08\n",
      "  [EOD] Processing P_499.0_20240426: side=1, price=0.89\n",
      "  -> EOD EXIT for P_499.0_20240426. Profit: $-83.20 and exit price is 0.89\n",
      "\n",
      "--- Processing Day: 2024-04-26 ---\n",
      "Fetching options across 506.3\n"
     ]
    },
    {
     "data": {
      "application/vnd.jupyter.widget-view+json": {
       "model_id": "51f35f6c948646238543b95fd870dcc4",
       "version_major": 2,
       "version_minor": 0
      },
      "text/plain": [
       "FloatProgress(value=0.0, layout=Layout(width='auto'), style=ProgressStyle(bar_color='black'))"
      ]
     },
     "metadata": {},
     "output_type": "display_data"
    },
    {
     "name": "stdout",
     "output_type": "stream",
     "text": [
      "\n",
      "--- Phase 2: Preparing Master DataFrame ---\n",
      "✅ Successfully created master DataFrame with 160 total columns.\n",
      "\n",
      "--- Processing Day: 2024-04-29 ---\n",
      "Fetching options across 510.07\n",
      "\n",
      "--- Phase 2: Preparing Master DataFrame ---\n",
      "✅ Successfully created master DataFrame with 160 total columns.\n",
      "\n",
      "--- Processing Day: 2024-04-30 ---\n",
      "Fetching options across 508.73\n"
     ]
    },
    {
     "data": {
      "application/vnd.jupyter.widget-view+json": {
       "model_id": "9fe3d92325a949029d3886bd9bc4e029",
       "version_major": 2,
       "version_minor": 0
      },
      "text/plain": [
       "FloatProgress(value=0.0, layout=Layout(width='auto'), style=ProgressStyle(bar_color='black'))"
      ]
     },
     "metadata": {},
     "output_type": "display_data"
    },
    {
     "name": "stdout",
     "output_type": "stream",
     "text": [
      "\n",
      "--- Phase 2: Preparing Master DataFrame ---\n",
      "✅ Successfully created master DataFrame with 160 total columns.\n",
      "\n",
      "--- Processing Day: 2024-05-01 ---\n",
      "Fetching options across 501.6\n",
      "\n",
      "--- Phase 2: Preparing Master DataFrame ---\n",
      "✅ Successfully created master DataFrame with 160 total columns.\n",
      "\n",
      "--- Processing Day: 2024-05-02 ---\n",
      "Fetching options across 503.26\n"
     ]
    },
    {
     "data": {
      "application/vnd.jupyter.widget-view+json": {
       "model_id": "70bfa42579274935b5014475697f5933",
       "version_major": 2,
       "version_minor": 0
      },
      "text/plain": [
       "FloatProgress(value=0.0, layout=Layout(width='auto'), style=ProgressStyle(bar_color='black'))"
      ]
     },
     "metadata": {},
     "output_type": "display_data"
    },
    {
     "name": "stdout",
     "output_type": "stream",
     "text": [
      "\n",
      "--- Phase 2: Preparing Master DataFrame ---\n",
      "✅ Successfully created master DataFrame with 160 total columns.\n",
      "  -> SHORT ENTRY for P_501.0_20240502 at 11:10:00 at 0.71\n",
      "Hedge expiry is 20240503\n",
      "  -> HEDGE ENTRY of qty 80 for P_501.0_20240503 against P_501.0_20240502 and primary qty of 100 at price 1.99\n",
      "  -> COMBINED: Net credit = $-89.20\n",
      "  [EOD] Checking positions to close at 15:45:00\n",
      "  [EOD] Current positions: ['P_501.0_20240502', 'P_501.0_20240503']\n",
      "  [EOD] Processing P_501.0_20240502: side=-1, price=0.07\n",
      "  -> EOD EXIT for P_501.0_20240502. Profit: $63.00 and exit price is 0.07\n",
      "  [EOD] Processing P_501.0_20240503: side=1, price=1.21\n",
      "  -> EOD EXIT for P_501.0_20240503. Profit: $-62.40 and exit price is 1.21\n",
      "\n",
      "--- Processing Day: 2024-05-03 ---\n",
      "Fetching options across 511.25\n"
     ]
    },
    {
     "data": {
      "application/vnd.jupyter.widget-view+json": {
       "model_id": "f091e65807de493f9c4d851a81f50f81",
       "version_major": 2,
       "version_minor": 0
      },
      "text/plain": [
       "FloatProgress(value=0.0, layout=Layout(width='auto'), style=ProgressStyle(bar_color='black'))"
      ]
     },
     "metadata": {},
     "output_type": "display_data"
    },
    {
     "name": "stdout",
     "output_type": "stream",
     "text": [
      "\n",
      "--- Phase 2: Preparing Master DataFrame ---\n",
      "✅ Successfully created master DataFrame with 160 total columns.\n",
      "\n",
      "--- Processing Day: 2024-05-06 ---\n",
      "Fetching options across 513.5\n",
      "\n",
      "--- Phase 2: Preparing Master DataFrame ---\n",
      "✅ Successfully created master DataFrame with 160 total columns.\n",
      "\n",
      "--- Processing Day: 2024-05-07 ---\n",
      "Fetching options across 517.38\n",
      "\n",
      "--- Phase 2: Preparing Master DataFrame ---\n",
      "✅ Successfully created master DataFrame with 160 total columns.\n",
      "\n",
      "--- Processing Day: 2024-05-08 ---\n",
      "Fetching options across 515.54\n",
      "\n",
      "--- Phase 2: Preparing Master DataFrame ---\n",
      "✅ Successfully created master DataFrame with 160 total columns.\n",
      "\n",
      "--- Processing Day: 2024-05-09 ---\n",
      "Fetching options across 517.51\n"
     ]
    },
    {
     "data": {
      "application/vnd.jupyter.widget-view+json": {
       "model_id": "970efc34168149cc90bc47d0c93bb963",
       "version_major": 2,
       "version_minor": 0
      },
      "text/plain": [
       "FloatProgress(value=0.0, layout=Layout(width='auto'), style=ProgressStyle(bar_color='black'))"
      ]
     },
     "metadata": {},
     "output_type": "display_data"
    },
    {
     "name": "stdout",
     "output_type": "stream",
     "text": [
      "\n",
      "--- Phase 2: Preparing Master DataFrame ---\n",
      "✅ Successfully created master DataFrame with 160 total columns.\n",
      "\n",
      "--- Processing Day: 2024-05-10 ---\n",
      "Fetching options across 521.43\n"
     ]
    },
    {
     "data": {
      "application/vnd.jupyter.widget-view+json": {
       "model_id": "538371239cbb4d9a904f2be1fec50629",
       "version_major": 2,
       "version_minor": 0
      },
      "text/plain": [
       "FloatProgress(value=0.0, layout=Layout(width='auto'), style=ProgressStyle(bar_color='black'))"
      ]
     },
     "metadata": {},
     "output_type": "display_data"
    },
    {
     "name": "stdout",
     "output_type": "stream",
     "text": [
      "\n",
      "--- Phase 2: Preparing Master DataFrame ---\n",
      "✅ Successfully created master DataFrame with 176 total columns.\n",
      "\n",
      "--- Processing Day: 2024-05-13 ---\n",
      "Fetching options across 522.34\n"
     ]
    },
    {
     "data": {
      "application/vnd.jupyter.widget-view+json": {
       "model_id": "79b27fb30a1542929ccd4dfd176f957f",
       "version_major": 2,
       "version_minor": 0
      },
      "text/plain": [
       "FloatProgress(value=0.0, layout=Layout(width='auto'), style=ProgressStyle(bar_color='black'))"
      ]
     },
     "metadata": {},
     "output_type": "display_data"
    },
    {
     "name": "stdout",
     "output_type": "stream",
     "text": [
      "\n",
      "--- Phase 2: Preparing Master DataFrame ---\n",
      "✅ Successfully created master DataFrame with 176 total columns.\n",
      "\n",
      "--- Processing Day: 2024-05-14 ---\n",
      "Fetching options across 521.25\n"
     ]
    },
    {
     "data": {
      "application/vnd.jupyter.widget-view+json": {
       "model_id": "c89f1900fa7e4e3184aa3285eea57a75",
       "version_major": 2,
       "version_minor": 0
      },
      "text/plain": [
       "FloatProgress(value=0.0, layout=Layout(width='auto'), style=ProgressStyle(bar_color='black'))"
      ]
     },
     "metadata": {},
     "output_type": "display_data"
    },
    {
     "name": "stdout",
     "output_type": "stream",
     "text": [
      "\n",
      "--- Phase 2: Preparing Master DataFrame ---\n",
      "✅ Successfully created master DataFrame with 176 total columns.\n",
      "\n",
      "--- Processing Day: 2024-05-15 ---\n",
      "Fetching options across 525.82\n"
     ]
    },
    {
     "data": {
      "application/vnd.jupyter.widget-view+json": {
       "model_id": "da9f5b0b66ef4f729422a8b5728f3f99",
       "version_major": 2,
       "version_minor": 0
      },
      "text/plain": [
       "FloatProgress(value=0.0, layout=Layout(width='auto'), style=ProgressStyle(bar_color='black'))"
      ]
     },
     "metadata": {},
     "output_type": "display_data"
    },
    {
     "name": "stdout",
     "output_type": "stream",
     "text": [
      "\n",
      "--- Phase 2: Preparing Master DataFrame ---\n",
      "✅ Successfully created master DataFrame with 176 total columns.\n",
      "\n",
      "--- Processing Day: 2024-05-16 ---\n",
      "Fetching options across 530.17\n"
     ]
    },
    {
     "data": {
      "application/vnd.jupyter.widget-view+json": {
       "model_id": "607b0435aa0b42bd812ff91cf684458d",
       "version_major": 2,
       "version_minor": 0
      },
      "text/plain": [
       "FloatProgress(value=0.0, layout=Layout(width='auto'), style=ProgressStyle(bar_color='black'))"
      ]
     },
     "metadata": {},
     "output_type": "display_data"
    },
    {
     "name": "stdout",
     "output_type": "stream",
     "text": [
      "\n",
      "--- Phase 2: Preparing Master DataFrame ---\n",
      "✅ Successfully created master DataFrame with 176 total columns.\n",
      "\n",
      "--- Processing Day: 2024-05-17 ---\n",
      "Fetching options across 529.05\n"
     ]
    },
    {
     "data": {
      "application/vnd.jupyter.widget-view+json": {
       "model_id": "c6d085c7c66a4bd6abc48cb2a3f5046e",
       "version_major": 2,
       "version_minor": 0
      },
      "text/plain": [
       "FloatProgress(value=0.0, layout=Layout(width='auto'), style=ProgressStyle(bar_color='black'))"
      ]
     },
     "metadata": {},
     "output_type": "display_data"
    },
    {
     "name": "stdout",
     "output_type": "stream",
     "text": [
      "\n",
      "--- Phase 2: Preparing Master DataFrame ---\n",
      "✅ Successfully created master DataFrame with 176 total columns.\n",
      "\n",
      "--- Processing Day: 2024-05-20 ---\n",
      "Fetching options across 529.69\n"
     ]
    },
    {
     "data": {
      "application/vnd.jupyter.widget-view+json": {
       "model_id": "94ad6fb04293482d85f0deec180c4bf8",
       "version_major": 2,
       "version_minor": 0
      },
      "text/plain": [
       "FloatProgress(value=0.0, layout=Layout(width='auto'), style=ProgressStyle(bar_color='black'))"
      ]
     },
     "metadata": {},
     "output_type": "display_data"
    },
    {
     "name": "stdout",
     "output_type": "stream",
     "text": [
      "\n",
      "--- Phase 2: Preparing Master DataFrame ---\n",
      "✅ Successfully created master DataFrame with 176 total columns.\n",
      "\n",
      "--- Processing Day: 2024-05-21 ---\n",
      "Fetching options across 529.27\n"
     ]
    },
    {
     "data": {
      "application/vnd.jupyter.widget-view+json": {
       "model_id": "5b918c624bf646a8a068611f6999c31d",
       "version_major": 2,
       "version_minor": 0
      },
      "text/plain": [
       "FloatProgress(value=0.0, layout=Layout(width='auto'), style=ProgressStyle(bar_color='black'))"
      ]
     },
     "metadata": {},
     "output_type": "display_data"
    },
    {
     "name": "stdout",
     "output_type": "stream",
     "text": [
      "\n",
      "--- Phase 2: Preparing Master DataFrame ---\n",
      "✅ Successfully created master DataFrame with 176 total columns.\n",
      "\n",
      "--- Processing Day: 2024-05-22 ---\n",
      "Fetching options across 530.74\n"
     ]
    },
    {
     "data": {
      "application/vnd.jupyter.widget-view+json": {
       "model_id": "55290af8da5948ff856a889543a37e1e",
       "version_major": 2,
       "version_minor": 0
      },
      "text/plain": [
       "FloatProgress(value=0.0, layout=Layout(width='auto'), style=ProgressStyle(bar_color='black'))"
      ]
     },
     "metadata": {},
     "output_type": "display_data"
    },
    {
     "name": "stdout",
     "output_type": "stream",
     "text": [
      "\n",
      "--- Phase 2: Preparing Master DataFrame ---\n",
      "✅ Successfully created master DataFrame with 176 total columns.\n",
      "\n",
      "--- Processing Day: 2024-05-23 ---\n",
      "Fetching options across 532.69\n"
     ]
    },
    {
     "data": {
      "application/vnd.jupyter.widget-view+json": {
       "model_id": "5476460e35e3486a83961d43932f6006",
       "version_major": 2,
       "version_minor": 0
      },
      "text/plain": [
       "FloatProgress(value=0.0, layout=Layout(width='auto'), style=ProgressStyle(bar_color='black'))"
      ]
     },
     "metadata": {},
     "output_type": "display_data"
    },
    {
     "name": "stdout",
     "output_type": "stream",
     "text": [
      "\n",
      "--- Phase 2: Preparing Master DataFrame ---\n",
      "✅ Successfully created master DataFrame with 176 total columns.\n",
      "\n",
      "--- Processing Day: 2024-05-24 ---\n",
      "Fetching options across 527.58\n"
     ]
    },
    {
     "data": {
      "application/vnd.jupyter.widget-view+json": {
       "model_id": "aabc479adba848ca961fbac5de4f04f6",
       "version_major": 2,
       "version_minor": 0
      },
      "text/plain": [
       "FloatProgress(value=0.0, layout=Layout(width='auto'), style=ProgressStyle(bar_color='black'))"
      ]
     },
     "metadata": {},
     "output_type": "display_data"
    },
    {
     "name": "stdout",
     "output_type": "stream",
     "text": [
      "\n",
      "--- Phase 2: Preparing Master DataFrame ---\n",
      "✅ Successfully created master DataFrame with 176 total columns.\n",
      "\n",
      "--- Processing Day: 2024-05-28 ---\n",
      "Fetching options across 530.17\n"
     ]
    },
    {
     "data": {
      "application/vnd.jupyter.widget-view+json": {
       "model_id": "e83f56202cf84e8f95e80ae6bd23f9db",
       "version_major": 2,
       "version_minor": 0
      },
      "text/plain": [
       "FloatProgress(value=0.0, layout=Layout(width='auto'), style=ProgressStyle(bar_color='black'))"
      ]
     },
     "metadata": {},
     "output_type": "display_data"
    },
    {
     "name": "stdout",
     "output_type": "stream",
     "text": [
      "\n",
      "--- Phase 2: Preparing Master DataFrame ---\n",
      "✅ Successfully created master DataFrame with 176 total columns.\n",
      "\n",
      "--- Processing Day: 2024-05-29 ---\n",
      "Fetching options across 525.79\n"
     ]
    },
    {
     "data": {
      "application/vnd.jupyter.widget-view+json": {
       "model_id": "8f818f0b104b4c578d020c1baf661b56",
       "version_major": 2,
       "version_minor": 0
      },
      "text/plain": [
       "FloatProgress(value=0.0, layout=Layout(width='auto'), style=ProgressStyle(bar_color='black'))"
      ]
     },
     "metadata": {},
     "output_type": "display_data"
    },
    {
     "name": "stdout",
     "output_type": "stream",
     "text": [
      "\n",
      "--- Phase 2: Preparing Master DataFrame ---\n",
      "✅ Successfully created master DataFrame with 176 total columns.\n",
      "\n",
      "--- Processing Day: 2024-05-30 ---\n",
      "Fetching options across 524.33\n"
     ]
    },
    {
     "data": {
      "application/vnd.jupyter.widget-view+json": {
       "model_id": "cdb69678e8e54a3b94c9779d64367251",
       "version_major": 2,
       "version_minor": 0
      },
      "text/plain": [
       "FloatProgress(value=0.0, layout=Layout(width='auto'), style=ProgressStyle(bar_color='black'))"
      ]
     },
     "metadata": {},
     "output_type": "display_data"
    },
    {
     "name": "stdout",
     "output_type": "stream",
     "text": [
      "\n",
      "--- Phase 2: Preparing Master DataFrame ---\n",
      "✅ Successfully created master DataFrame with 176 total columns.\n",
      "\n",
      "--- Processing Day: 2024-05-31 ---\n",
      "Fetching options across 523.85\n"
     ]
    },
    {
     "data": {
      "application/vnd.jupyter.widget-view+json": {
       "model_id": "96d8d311623746b4a4d95365acd72b09",
       "version_major": 2,
       "version_minor": 0
      },
      "text/plain": [
       "FloatProgress(value=0.0, layout=Layout(width='auto'), style=ProgressStyle(bar_color='black'))"
      ]
     },
     "metadata": {},
     "output_type": "display_data"
    },
    {
     "name": "stdout",
     "output_type": "stream",
     "text": [
      "\n",
      "--- Phase 2: Preparing Master DataFrame ---\n",
      "✅ Successfully created master DataFrame with 176 total columns.\n",
      "\n",
      "--- Processing Day: 2024-06-03 ---\n",
      "Fetching options across 528.86\n"
     ]
    },
    {
     "data": {
      "application/vnd.jupyter.widget-view+json": {
       "model_id": "28c1abb7d3964a24a3a68661e7b94c93",
       "version_major": 2,
       "version_minor": 0
      },
      "text/plain": [
       "FloatProgress(value=0.0, layout=Layout(width='auto'), style=ProgressStyle(bar_color='black'))"
      ]
     },
     "metadata": {},
     "output_type": "display_data"
    },
    {
     "name": "stdout",
     "output_type": "stream",
     "text": [
      "\n",
      "--- Phase 2: Preparing Master DataFrame ---\n",
      "✅ Successfully created master DataFrame with 176 total columns.\n",
      "\n",
      "--- Processing Day: 2024-06-04 ---\n",
      "Fetching options across 526.5\n"
     ]
    },
    {
     "data": {
      "application/vnd.jupyter.widget-view+json": {
       "model_id": "6846e05c57544a2392d33de074b7021a",
       "version_major": 2,
       "version_minor": 0
      },
      "text/plain": [
       "FloatProgress(value=0.0, layout=Layout(width='auto'), style=ProgressStyle(bar_color='black'))"
      ]
     },
     "metadata": {},
     "output_type": "display_data"
    },
    {
     "name": "stdout",
     "output_type": "stream",
     "text": [
      "\n",
      "--- Phase 2: Preparing Master DataFrame ---\n",
      "✅ Successfully created master DataFrame with 176 total columns.\n",
      "\n",
      "--- Processing Day: 2024-06-05 ---\n",
      "Fetching options across 530.64\n"
     ]
    },
    {
     "data": {
      "application/vnd.jupyter.widget-view+json": {
       "model_id": "e07bb1c1383648ec9c0c8a6154180163",
       "version_major": 2,
       "version_minor": 0
      },
      "text/plain": [
       "FloatProgress(value=0.0, layout=Layout(width='auto'), style=ProgressStyle(bar_color='black'))"
      ]
     },
     "metadata": {},
     "output_type": "display_data"
    },
    {
     "name": "stdout",
     "output_type": "stream",
     "text": [
      "\n",
      "--- Phase 2: Preparing Master DataFrame ---\n",
      "✅ Successfully created master DataFrame with 176 total columns.\n",
      "\n",
      "--- Processing Day: 2024-06-06 ---\n",
      "Fetching options across 534.89\n"
     ]
    },
    {
     "data": {
      "application/vnd.jupyter.widget-view+json": {
       "model_id": "6e9b3bd0bb7b417c894e8cc6bbe276c4",
       "version_major": 2,
       "version_minor": 0
      },
      "text/plain": [
       "FloatProgress(value=0.0, layout=Layout(width='auto'), style=ProgressStyle(bar_color='black'))"
      ]
     },
     "metadata": {},
     "output_type": "display_data"
    },
    {
     "name": "stdout",
     "output_type": "stream",
     "text": [
      "\n",
      "--- Phase 2: Preparing Master DataFrame ---\n",
      "✅ Successfully created master DataFrame with 176 total columns.\n",
      "\n",
      "--- Processing Day: 2024-06-07 ---\n",
      "Fetching options across 533.44\n"
     ]
    },
    {
     "data": {
      "application/vnd.jupyter.widget-view+json": {
       "model_id": "4bd377de8d3f4de78948702b0276a325",
       "version_major": 2,
       "version_minor": 0
      },
      "text/plain": [
       "FloatProgress(value=0.0, layout=Layout(width='auto'), style=ProgressStyle(bar_color='black'))"
      ]
     },
     "metadata": {},
     "output_type": "display_data"
    },
    {
     "name": "stdout",
     "output_type": "stream",
     "text": [
      "\n",
      "--- Phase 2: Preparing Master DataFrame ---\n",
      "✅ Successfully created master DataFrame with 176 total columns.\n",
      "  -> SHORT ENTRY for P_533.0_20240607 at 10:38:00 at 0.41\n",
      "Hedge expiry is 20240610\n",
      "  -> HEDGE ENTRY of qty 80 for P_533.0_20240610 against P_533.0_20240607 and primary qty of 100 at price 0.62\n",
      "  -> COMBINED: Net credit = $-9.60\n",
      "  [EOD] Checking positions to close at 15:45:00\n",
      "  [EOD] Current positions: ['P_533.0_20240607', 'P_533.0_20240610']\n",
      "  [EOD] Processing P_533.0_20240607: side=-1, price=0.07\n",
      "  -> EOD EXIT for P_533.0_20240607. Profit: $33.00 and exit price is 0.07\n",
      "  [EOD] Processing P_533.0_20240610: side=1, price=0.64\n",
      "  -> EOD EXIT for P_533.0_20240610. Profit: $1.60 and exit price is 0.64\n",
      "\n",
      "--- Processing Day: 2024-06-10 ---\n",
      "Fetching options across 533.22\n"
     ]
    },
    {
     "data": {
      "application/vnd.jupyter.widget-view+json": {
       "model_id": "c45fa61b9d554e648991ae2c35a84283",
       "version_major": 2,
       "version_minor": 0
      },
      "text/plain": [
       "FloatProgress(value=0.0, layout=Layout(width='auto'), style=ProgressStyle(bar_color='black'))"
      ]
     },
     "metadata": {},
     "output_type": "display_data"
    },
    {
     "name": "stdout",
     "output_type": "stream",
     "text": [
      "\n",
      "--- Phase 2: Preparing Master DataFrame ---\n",
      "✅ Successfully created master DataFrame with 176 total columns.\n",
      "\n",
      "--- Processing Day: 2024-06-11 ---\n",
      "Fetching options across 533.74\n"
     ]
    },
    {
     "data": {
      "application/vnd.jupyter.widget-view+json": {
       "model_id": "13184f449828494e9ac8167768fb3bb2",
       "version_major": 2,
       "version_minor": 0
      },
      "text/plain": [
       "FloatProgress(value=0.0, layout=Layout(width='auto'), style=ProgressStyle(bar_color='black'))"
      ]
     },
     "metadata": {},
     "output_type": "display_data"
    },
    {
     "name": "stdout",
     "output_type": "stream",
     "text": [
      "\n",
      "--- Phase 2: Preparing Master DataFrame ---\n",
      "✅ Successfully created master DataFrame with 176 total columns.\n",
      "\n",
      "--- Processing Day: 2024-06-12 ---\n",
      "Fetching options across 541.26\n"
     ]
    },
    {
     "data": {
      "application/vnd.jupyter.widget-view+json": {
       "model_id": "e95934116f194b068a58d3f281ceb34a",
       "version_major": 2,
       "version_minor": 0
      },
      "text/plain": [
       "FloatProgress(value=0.0, layout=Layout(width='auto'), style=ProgressStyle(bar_color='black'))"
      ]
     },
     "metadata": {},
     "output_type": "display_data"
    },
    {
     "name": "stdout",
     "output_type": "stream",
     "text": [
      "\n",
      "--- Phase 2: Preparing Master DataFrame ---\n",
      "✅ Successfully created master DataFrame with 176 total columns.\n",
      "\n",
      "--- Processing Day: 2024-06-13 ---\n",
      "Fetching options across 542.9\n"
     ]
    },
    {
     "data": {
      "application/vnd.jupyter.widget-view+json": {
       "model_id": "3a2825b6949a4ecd99c89bc9daac2fee",
       "version_major": 2,
       "version_minor": 0
      },
      "text/plain": [
       "FloatProgress(value=0.0, layout=Layout(width='auto'), style=ProgressStyle(bar_color='black'))"
      ]
     },
     "metadata": {},
     "output_type": "display_data"
    },
    {
     "name": "stdout",
     "output_type": "stream",
     "text": [
      "\n",
      "--- Phase 2: Preparing Master DataFrame ---\n",
      "✅ Successfully created master DataFrame with 176 total columns.\n",
      "\n",
      "--- Processing Day: 2024-06-14 ---\n",
      "Fetching options across 540.86\n"
     ]
    },
    {
     "data": {
      "application/vnd.jupyter.widget-view+json": {
       "model_id": "6043290c5dbc4113ab8941569db50267",
       "version_major": 2,
       "version_minor": 0
      },
      "text/plain": [
       "FloatProgress(value=0.0, layout=Layout(width='auto'), style=ProgressStyle(bar_color='black'))"
      ]
     },
     "metadata": {},
     "output_type": "display_data"
    },
    {
     "name": "stdout",
     "output_type": "stream",
     "text": [
      "\n",
      "--- Phase 2: Preparing Master DataFrame ---\n",
      "✅ Successfully created master DataFrame with 176 total columns.\n",
      "\n",
      "--- Processing Day: 2024-06-17 ---\n",
      "Fetching options across 541.95\n"
     ]
    },
    {
     "data": {
      "application/vnd.jupyter.widget-view+json": {
       "model_id": "c73dc76a54134d91bc0d4cf1e424514f",
       "version_major": 2,
       "version_minor": 0
      },
      "text/plain": [
       "FloatProgress(value=0.0, layout=Layout(width='auto'), style=ProgressStyle(bar_color='black'))"
      ]
     },
     "metadata": {},
     "output_type": "display_data"
    },
    {
     "name": "stdout",
     "output_type": "stream",
     "text": [
      "\n",
      "--- Phase 2: Preparing Master DataFrame ---\n",
      "✅ Successfully created master DataFrame with 176 total columns.\n",
      "\n",
      "--- Processing Day: 2024-06-18 ---\n",
      "Fetching options across 547.25\n"
     ]
    },
    {
     "data": {
      "application/vnd.jupyter.widget-view+json": {
       "model_id": "85bdc8b2fd974282b7eed68050c0f57a",
       "version_major": 2,
       "version_minor": 0
      },
      "text/plain": [
       "FloatProgress(value=0.0, layout=Layout(width='auto'), style=ProgressStyle(bar_color='black'))"
      ]
     },
     "metadata": {},
     "output_type": "display_data"
    },
    {
     "name": "stdout",
     "output_type": "stream",
     "text": [
      "\n",
      "--- Phase 2: Preparing Master DataFrame ---\n",
      "✅ Successfully created master DataFrame with 168 total columns.\n",
      "\n",
      "--- Processing Day: 2024-06-20 ---\n",
      "Fetching options across 549.18\n"
     ]
    },
    {
     "data": {
      "application/vnd.jupyter.widget-view+json": {
       "model_id": "b45bbe3817664c4ca01b73053631ab74",
       "version_major": 2,
       "version_minor": 0
      },
      "text/plain": [
       "FloatProgress(value=0.0, layout=Layout(width='auto'), style=ProgressStyle(bar_color='black'))"
      ]
     },
     "metadata": {},
     "output_type": "display_data"
    },
    {
     "name": "stdout",
     "output_type": "stream",
     "text": [
      "\n",
      "--- Phase 2: Preparing Master DataFrame ---\n",
      "✅ Successfully created master DataFrame with 176 total columns.\n",
      "\n",
      "--- Processing Day: 2024-06-21 ---\n",
      "Fetching options across 544.22\n"
     ]
    },
    {
     "data": {
      "application/vnd.jupyter.widget-view+json": {
       "model_id": "3c9d149fc1c647c48df5086cb6f8c2b6",
       "version_major": 2,
       "version_minor": 0
      },
      "text/plain": [
       "FloatProgress(value=0.0, layout=Layout(width='auto'), style=ProgressStyle(bar_color='black'))"
      ]
     },
     "metadata": {},
     "output_type": "display_data"
    },
    {
     "name": "stdout",
     "output_type": "stream",
     "text": [
      "\n",
      "--- Phase 2: Preparing Master DataFrame ---\n",
      "✅ Successfully created master DataFrame with 176 total columns.\n",
      "\n",
      "--- Processing Day: 2024-06-24 ---\n",
      "Fetching options across 544.16\n"
     ]
    },
    {
     "data": {
      "application/vnd.jupyter.widget-view+json": {
       "model_id": "a7a30fe43f0b4a95b9dc33660c37c208",
       "version_major": 2,
       "version_minor": 0
      },
      "text/plain": [
       "FloatProgress(value=0.0, layout=Layout(width='auto'), style=ProgressStyle(bar_color='black'))"
      ]
     },
     "metadata": {},
     "output_type": "display_data"
    },
    {
     "name": "stdout",
     "output_type": "stream",
     "text": [
      "\n",
      "--- Phase 2: Preparing Master DataFrame ---\n",
      "✅ Successfully created master DataFrame with 176 total columns.\n",
      "  -> SHORT ENTRY for P_545.0_20240624 at 10:11:00 at 0.43\n",
      "Hedge expiry is 20240625\n",
      "  -> HEDGE ENTRY of qty 80 for P_545.0_20240625 against P_545.0_20240624 and primary qty of 100 at price 1.07\n",
      "  -> COMBINED: Net credit = $-43.60\n",
      "  🚨 STOP-LOSS TRIGGERED for P_545.0_20240624+P_545.0_20240625 at 2024-06-24 13:35:00\n",
      "     Entry short was : $0.42, Current short leg price: $1.43\n",
      "     Entry long was : $1.07, Current long leg price: $1.98\n",
      "     Loss: $-28.20\n",
      "  -> SPREAD_STOP_LOSS EXIT for P_545.0_20240624. Profit: $-101.00 and exit price is 1.43\n",
      "  -> SPREAD_STOP_LOSS EXIT for P_545.0_20240625. Profit: $72.80 and exit price is 1.98\n",
      "\n",
      "--- Processing Day: 2024-06-25 ---\n",
      "Fetching options across 543.63\n"
     ]
    },
    {
     "data": {
      "application/vnd.jupyter.widget-view+json": {
       "model_id": "855fe215b63e419487d30480296851c2",
       "version_major": 2,
       "version_minor": 0
      },
      "text/plain": [
       "FloatProgress(value=0.0, layout=Layout(width='auto'), style=ProgressStyle(bar_color='black'))"
      ]
     },
     "metadata": {},
     "output_type": "display_data"
    },
    {
     "name": "stdout",
     "output_type": "stream",
     "text": [
      "\n",
      "--- Phase 2: Preparing Master DataFrame ---\n",
      "✅ Successfully created master DataFrame with 176 total columns.\n",
      "\n",
      "--- Processing Day: 2024-06-26 ---\n",
      "Fetching options across 543.59\n"
     ]
    },
    {
     "data": {
      "application/vnd.jupyter.widget-view+json": {
       "model_id": "132888d84a2c4b0b9200c761f5305ff8",
       "version_major": 2,
       "version_minor": 0
      },
      "text/plain": [
       "FloatProgress(value=0.0, layout=Layout(width='auto'), style=ProgressStyle(bar_color='black'))"
      ]
     },
     "metadata": {},
     "output_type": "display_data"
    },
    {
     "name": "stdout",
     "output_type": "stream",
     "text": [
      "\n",
      "--- Phase 2: Preparing Master DataFrame ---\n",
      "✅ Successfully created master DataFrame with 176 total columns.\n",
      "\n",
      "--- Processing Day: 2024-06-27 ---\n",
      "Fetching options across 545.54\n"
     ]
    },
    {
     "data": {
      "application/vnd.jupyter.widget-view+json": {
       "model_id": "a0686a9d569241b38628d3855055a00f",
       "version_major": 2,
       "version_minor": 0
      },
      "text/plain": [
       "FloatProgress(value=0.0, layout=Layout(width='auto'), style=ProgressStyle(bar_color='black'))"
      ]
     },
     "metadata": {},
     "output_type": "display_data"
    },
    {
     "name": "stdout",
     "output_type": "stream",
     "text": [
      "\n",
      "--- Phase 2: Preparing Master DataFrame ---\n",
      "✅ Successfully created master DataFrame with 176 total columns.\n",
      "\n",
      "--- Processing Day: 2024-06-28 ---\n",
      "Fetching options across 546.71\n"
     ]
    },
    {
     "data": {
      "application/vnd.jupyter.widget-view+json": {
       "model_id": "821e75e585b14a3796e6e57d71a5d3bd",
       "version_major": 2,
       "version_minor": 0
      },
      "text/plain": [
       "FloatProgress(value=0.0, layout=Layout(width='auto'), style=ProgressStyle(bar_color='black'))"
      ]
     },
     "metadata": {},
     "output_type": "display_data"
    },
    {
     "name": "stdout",
     "output_type": "stream",
     "text": [
      "\n",
      "--- Phase 2: Preparing Master DataFrame ---\n",
      "✅ Successfully created master DataFrame with 176 total columns.\n",
      "  -> SHORT ENTRY for P_547.0_20240628 at 10:03:00 at 0.46\n",
      "Hedge expiry is 20240701\n",
      "  -> HEDGE ENTRY of qty 80 for P_547.0_20240701 against P_547.0_20240628 and primary qty of 100 at price 1.07\n",
      "  -> COMBINED: Net credit = $-40.60\n",
      "  🚨 STOP-LOSS TRIGGERED for P_547.0_20240628+P_547.0_20240701 at 2024-06-28 12:39:00\n",
      "     Entry short was : $0.45, Current short leg price: $1.50\n",
      "     Entry long was : $1.07, Current long leg price: $2.03\n",
      "     Loss: $-28.20\n",
      "  -> SPREAD_STOP_LOSS EXIT for P_547.0_20240628. Profit: $-105.00 and exit price is 1.50\n",
      "  -> SPREAD_STOP_LOSS EXIT for P_547.0_20240701. Profit: $76.80 and exit price is 2.03\n",
      "\n",
      "--- Processing Day: 2024-07-01 ---\n",
      "Fetching options across 545.28\n"
     ]
    },
    {
     "data": {
      "application/vnd.jupyter.widget-view+json": {
       "model_id": "d61eabd63e61424e8638429653dceb28",
       "version_major": 2,
       "version_minor": 0
      },
      "text/plain": [
       "FloatProgress(value=0.0, layout=Layout(width='auto'), style=ProgressStyle(bar_color='black'))"
      ]
     },
     "metadata": {},
     "output_type": "display_data"
    },
    {
     "name": "stdout",
     "output_type": "stream",
     "text": [
      "\n",
      "--- Phase 2: Preparing Master DataFrame ---\n",
      "✅ Successfully created master DataFrame with 176 total columns.\n",
      "\n",
      "--- Processing Day: 2024-07-02 ---\n",
      "Fetching options across 543.71\n"
     ]
    },
    {
     "data": {
      "application/vnd.jupyter.widget-view+json": {
       "model_id": "12ebd8c9e7404520b1297bc30d41cbc1",
       "version_major": 2,
       "version_minor": 0
      },
      "text/plain": [
       "FloatProgress(value=0.0, layout=Layout(width='auto'), style=ProgressStyle(bar_color='black'))"
      ]
     },
     "metadata": {},
     "output_type": "display_data"
    },
    {
     "name": "stdout",
     "output_type": "stream",
     "text": [
      "\n",
      "--- Phase 2: Preparing Master DataFrame ---\n",
      "✅ Successfully created master DataFrame with 176 total columns.\n",
      "\n",
      "--- Processing Day: 2024-07-03 ---\n",
      "Fetching options across 549.29\n"
     ]
    },
    {
     "data": {
      "application/vnd.jupyter.widget-view+json": {
       "model_id": "4ab28b0161724bd6a4b68f1b9755e9d7",
       "version_major": 2,
       "version_minor": 0
      },
      "text/plain": [
       "FloatProgress(value=0.0, layout=Layout(width='auto'), style=ProgressStyle(bar_color='black'))"
      ]
     },
     "metadata": {},
     "output_type": "display_data"
    },
    {
     "name": "stdout",
     "output_type": "stream",
     "text": [
      "\n",
      "--- Phase 2: Preparing Master DataFrame ---\n",
      "✅ Successfully created master DataFrame with 176 total columns.\n",
      "\n",
      "--- Processing Day: 2024-07-11 ---\n",
      "Fetching options across 560.14\n"
     ]
    },
    {
     "data": {
      "application/vnd.jupyter.widget-view+json": {
       "model_id": "0432871c979a4dabbb04f055833b719f",
       "version_major": 2,
       "version_minor": 0
      },
      "text/plain": [
       "FloatProgress(value=0.0, layout=Layout(width='auto'), style=ProgressStyle(bar_color='black'))"
      ]
     },
     "metadata": {},
     "output_type": "display_data"
    },
    {
     "name": "stdout",
     "output_type": "stream",
     "text": [
      "\n",
      "--- Phase 2: Preparing Master DataFrame ---\n",
      "✅ Successfully created master DataFrame with 176 total columns.\n",
      "\n",
      "--- Processing Day: 2024-07-12 ---\n",
      "Fetching options across 557.35\n"
     ]
    },
    {
     "data": {
      "application/vnd.jupyter.widget-view+json": {
       "model_id": "8bec7295707b4cf681a605018892ef38",
       "version_major": 2,
       "version_minor": 0
      },
      "text/plain": [
       "FloatProgress(value=0.0, layout=Layout(width='auto'), style=ProgressStyle(bar_color='black'))"
      ]
     },
     "metadata": {},
     "output_type": "display_data"
    },
    {
     "name": "stdout",
     "output_type": "stream",
     "text": [
      "\n",
      "--- Phase 2: Preparing Master DataFrame ---\n",
      "✅ Successfully created master DataFrame with 176 total columns.\n",
      "\n",
      "--- Processing Day: 2024-07-15 ---\n",
      "Fetching options across 562.16\n"
     ]
    },
    {
     "data": {
      "application/vnd.jupyter.widget-view+json": {
       "model_id": "03dfdc6624454c419004ce1dad601eb6",
       "version_major": 2,
       "version_minor": 0
      },
      "text/plain": [
       "FloatProgress(value=0.0, layout=Layout(width='auto'), style=ProgressStyle(bar_color='black'))"
      ]
     },
     "metadata": {},
     "output_type": "display_data"
    },
    {
     "name": "stdout",
     "output_type": "stream",
     "text": [
      "\n",
      "--- Phase 2: Preparing Master DataFrame ---\n",
      "✅ Successfully created master DataFrame with 176 total columns.\n",
      "\n",
      "--- Processing Day: 2024-07-16 ---\n",
      "Fetching options across 562.8\n"
     ]
    },
    {
     "data": {
      "application/vnd.jupyter.widget-view+json": {
       "model_id": "089ef62b421040ca9804fed956118974",
       "version_major": 2,
       "version_minor": 0
      },
      "text/plain": [
       "FloatProgress(value=0.0, layout=Layout(width='auto'), style=ProgressStyle(bar_color='black'))"
      ]
     },
     "metadata": {},
     "output_type": "display_data"
    },
    {
     "name": "stdout",
     "output_type": "stream",
     "text": [
      "\n",
      "--- Phase 2: Preparing Master DataFrame ---\n",
      "✅ Successfully created master DataFrame with 176 total columns.\n",
      "\n",
      "--- Processing Day: 2024-07-17 ---\n",
      "Fetching options across 559.14\n"
     ]
    },
    {
     "data": {
      "application/vnd.jupyter.widget-view+json": {
       "model_id": "2bdde571916e4968a7bbfe1224c9cec1",
       "version_major": 2,
       "version_minor": 0
      },
      "text/plain": [
       "FloatProgress(value=0.0, layout=Layout(width='auto'), style=ProgressStyle(bar_color='black'))"
      ]
     },
     "metadata": {},
     "output_type": "display_data"
    },
    {
     "name": "stdout",
     "output_type": "stream",
     "text": [
      "\n",
      "--- Phase 2: Preparing Master DataFrame ---\n",
      "✅ Successfully created master DataFrame with 176 total columns.\n",
      "\n",
      "--- Processing Day: 2024-07-18 ---\n",
      "Fetching options across 558.29\n"
     ]
    },
    {
     "data": {
      "application/vnd.jupyter.widget-view+json": {
       "model_id": "f796da121e9049c88cad33fa092f65f5",
       "version_major": 2,
       "version_minor": 0
      },
      "text/plain": [
       "FloatProgress(value=0.0, layout=Layout(width='auto'), style=ProgressStyle(bar_color='black'))"
      ]
     },
     "metadata": {},
     "output_type": "display_data"
    },
    {
     "name": "stdout",
     "output_type": "stream",
     "text": [
      "\n",
      "--- Phase 2: Preparing Master DataFrame ---\n",
      "✅ Successfully created master DataFrame with 176 total columns.\n",
      "\n",
      "--- Processing Day: 2024-07-19 ---\n",
      "Fetching options across 552.55\n"
     ]
    },
    {
     "data": {
      "application/vnd.jupyter.widget-view+json": {
       "model_id": "ad168dd965b9403993c4582778524f18",
       "version_major": 2,
       "version_minor": 0
      },
      "text/plain": [
       "FloatProgress(value=0.0, layout=Layout(width='auto'), style=ProgressStyle(bar_color='black'))"
      ]
     },
     "metadata": {},
     "output_type": "display_data"
    },
    {
     "name": "stdout",
     "output_type": "stream",
     "text": [
      "\n",
      "--- Phase 2: Preparing Master DataFrame ---\n",
      "✅ Successfully created master DataFrame with 176 total columns.\n",
      "  -> SHORT ENTRY for P_552.0_20240719 at 09:42:00 at 0.9\n",
      "Hedge expiry is 20240722\n",
      "  -> HEDGE ENTRY of qty 80 for P_552.0_20240722 against P_552.0_20240719 and primary qty of 100 at price 1.97\n",
      "  -> COMBINED: Net credit = $-68.60\n",
      "  🚨 STOP-LOSS TRIGGERED for P_552.0_20240719+P_552.0_20240722 at 2024-07-19 10:30:00\n",
      "     Entry short was : $0.89, Current short leg price: $1.98\n",
      "     Entry long was : $1.97, Current long leg price: $2.67\n",
      "     Loss: $-53.00\n",
      "  -> SPREAD_STOP_LOSS EXIT for P_552.0_20240719. Profit: $-109.00 and exit price is 1.98\n",
      "  -> SPREAD_STOP_LOSS EXIT for P_552.0_20240722. Profit: $56.00 and exit price is 2.67\n",
      "\n",
      "--- Processing Day: 2024-07-22 ---\n",
      "Fetching options across 552.51\n"
     ]
    },
    {
     "data": {
      "application/vnd.jupyter.widget-view+json": {
       "model_id": "4421d6f7822e4a66a91a43305767b7b9",
       "version_major": 2,
       "version_minor": 0
      },
      "text/plain": [
       "FloatProgress(value=0.0, layout=Layout(width='auto'), style=ProgressStyle(bar_color='black'))"
      ]
     },
     "metadata": {},
     "output_type": "display_data"
    },
    {
     "name": "stdout",
     "output_type": "stream",
     "text": [
      "\n",
      "--- Phase 2: Preparing Master DataFrame ---\n",
      "✅ Successfully created master DataFrame with 176 total columns.\n",
      "\n",
      "--- Processing Day: 2024-07-23 ---\n",
      "Fetching options across 554.9\n"
     ]
    },
    {
     "data": {
      "application/vnd.jupyter.widget-view+json": {
       "model_id": "0d9b3cf9725c4c2d86f7b9420028927d",
       "version_major": 2,
       "version_minor": 0
      },
      "text/plain": [
       "FloatProgress(value=0.0, layout=Layout(width='auto'), style=ProgressStyle(bar_color='black'))"
      ]
     },
     "metadata": {},
     "output_type": "display_data"
    },
    {
     "name": "stdout",
     "output_type": "stream",
     "text": [
      "\n",
      "--- Phase 2: Preparing Master DataFrame ---\n",
      "✅ Successfully created master DataFrame with 176 total columns.\n",
      "  -> SHORT ENTRY for P_554.0_20240723 at 10:08:00 at 0.6\n",
      "Hedge expiry is 20240724\n",
      "  -> HEDGE ENTRY of qty 80 for P_554.0_20240724 against P_554.0_20240723 and primary qty of 100 at price 1.25\n",
      "  -> COMBINED: Net credit = $-41.00\n",
      "  [EOD] Checking positions to close at 15:45:00\n",
      "  [EOD] Current positions: ['P_554.0_20240723', 'P_554.0_20240724']\n",
      "  [EOD] Processing P_554.0_20240723: side=-1, price=0.81\n",
      "  -> EOD EXIT for P_554.0_20240723. Profit: $-22.00 and exit price is 0.81\n",
      "  [EOD] Processing P_554.0_20240724: side=1, price=1.73\n",
      "  -> EOD EXIT for P_554.0_20240724. Profit: $38.40 and exit price is 1.73\n",
      "\n",
      "--- Processing Day: 2024-07-24 ---\n",
      "Fetching options across 549.1\n"
     ]
    },
    {
     "data": {
      "application/vnd.jupyter.widget-view+json": {
       "model_id": "591065405f194d4dbae6d02a868e3f80",
       "version_major": 2,
       "version_minor": 0
      },
      "text/plain": [
       "FloatProgress(value=0.0, layout=Layout(width='auto'), style=ProgressStyle(bar_color='black'))"
      ]
     },
     "metadata": {},
     "output_type": "display_data"
    },
    {
     "name": "stdout",
     "output_type": "stream",
     "text": [
      "\n",
      "--- Phase 2: Preparing Master DataFrame ---\n",
      "✅ Successfully created master DataFrame with 176 total columns.\n",
      "\n",
      "--- Processing Day: 2024-07-25 ---\n",
      "Fetching options across 541.53\n"
     ]
    },
    {
     "data": {
      "application/vnd.jupyter.widget-view+json": {
       "model_id": "1183817a0fd247728984391f84f0e7cc",
       "version_major": 2,
       "version_minor": 0
      },
      "text/plain": [
       "FloatProgress(value=0.0, layout=Layout(width='auto'), style=ProgressStyle(bar_color='black'))"
      ]
     },
     "metadata": {},
     "output_type": "display_data"
    },
    {
     "name": "stdout",
     "output_type": "stream",
     "text": [
      "\n",
      "--- Phase 2: Preparing Master DataFrame ---\n",
      "✅ Successfully created master DataFrame with 176 total columns.\n",
      "  -> SHORT ENTRY for P_539.0_20240725 at 10:44:00 at 0.82\n",
      "Hedge expiry is 20240726\n",
      "  -> HEDGE ENTRY of qty 80 for P_539.0_20240726 against P_539.0_20240725 and primary qty of 100 at price 1.3\n",
      "  -> COMBINED: Net credit = $-23.00\n",
      "  [EOD] Checking positions to close at 15:45:00\n",
      "  [EOD] Current positions: ['P_539.0_20240725', 'P_539.0_20240726']\n",
      "  [EOD] Processing P_539.0_20240725: side=-1, price=0.12\n",
      "  -> EOD EXIT for P_539.0_20240725. Profit: $69.00 and exit price is 0.12\n",
      "  [EOD] Processing P_539.0_20240726: side=1, price=1.44\n",
      "  -> EOD EXIT for P_539.0_20240726. Profit: $11.20 and exit price is 1.44\n",
      "\n",
      "--- Processing Day: 2024-07-26 ---\n",
      "Fetching options across 541.85\n"
     ]
    },
    {
     "data": {
      "application/vnd.jupyter.widget-view+json": {
       "model_id": "8a39fab553fa46f5b6af78ad1d709e5c",
       "version_major": 2,
       "version_minor": 0
      },
      "text/plain": [
       "FloatProgress(value=0.0, layout=Layout(width='auto'), style=ProgressStyle(bar_color='black'))"
      ]
     },
     "metadata": {},
     "output_type": "display_data"
    },
    {
     "name": "stdout",
     "output_type": "stream",
     "text": [
      "\n",
      "--- Phase 2: Preparing Master DataFrame ---\n",
      "✅ Successfully created master DataFrame with 176 total columns.\n",
      "\n",
      "--- Processing Day: 2024-07-29 ---\n",
      "Fetching options across 545.73\n"
     ]
    },
    {
     "data": {
      "application/vnd.jupyter.widget-view+json": {
       "model_id": "d5757f14f01a4bdbbe58ea2ef3156ebc",
       "version_major": 2,
       "version_minor": 0
      },
      "text/plain": [
       "FloatProgress(value=0.0, layout=Layout(width='auto'), style=ProgressStyle(bar_color='black'))"
      ]
     },
     "metadata": {},
     "output_type": "display_data"
    },
    {
     "name": "stdout",
     "output_type": "stream",
     "text": [
      "\n",
      "--- Phase 2: Preparing Master DataFrame ---\n",
      "✅ Successfully created master DataFrame with 176 total columns.\n",
      "  -> SHORT ENTRY for P_545.0_20240729 at 10:01:00 at 0.75\n",
      "Hedge expiry is 20240730\n",
      "  -> HEDGE ENTRY of qty 80 for P_545.0_20240730 against P_545.0_20240729 and primary qty of 100 at price 1.97\n",
      "  -> COMBINED: Net credit = $-83.60\n",
      "  🚨 STOP-LOSS TRIGGERED for P_545.0_20240729+P_545.0_20240730 at 2024-07-29 11:00:00\n",
      "     Entry short was : $0.74, Current short leg price: $1.74\n",
      "     Entry long was : $1.97, Current long leg price: $2.75\n",
      "     Loss: $-37.60\n",
      "  -> SPREAD_STOP_LOSS EXIT for P_545.0_20240729. Profit: $-100.00 and exit price is 1.74\n",
      "  -> SPREAD_STOP_LOSS EXIT for P_545.0_20240730. Profit: $62.40 and exit price is 2.75\n",
      "\n",
      "--- Processing Day: 2024-07-30 ---\n",
      "Fetching options across 546.65\n"
     ]
    },
    {
     "data": {
      "application/vnd.jupyter.widget-view+json": {
       "model_id": "a508c3a707d744a6815df46afe7769ec",
       "version_major": 2,
       "version_minor": 0
      },
      "text/plain": [
       "FloatProgress(value=0.0, layout=Layout(width='auto'), style=ProgressStyle(bar_color='black'))"
      ]
     },
     "metadata": {},
     "output_type": "display_data"
    },
    {
     "name": "stdout",
     "output_type": "stream",
     "text": [
      "\n",
      "--- Phase 2: Preparing Master DataFrame ---\n",
      "✅ Successfully created master DataFrame with 176 total columns.\n",
      "\n",
      "--- Processing Day: 2024-07-31 ---\n",
      "Fetching options across 548.65\n",
      "\n",
      "--- Phase 2: Preparing Master DataFrame ---\n",
      "✅ Successfully created master DataFrame with 176 total columns.\n",
      "\n",
      "--- Processing Day: 2024-08-01 ---\n",
      "Fetching options across 552.77\n",
      "\n",
      "--- Phase 2: Preparing Master DataFrame ---\n",
      "✅ Successfully created master DataFrame with 176 total columns.\n",
      "\n",
      "--- Processing Day: 2024-08-02 ---\n",
      "Fetching options across 535.43\n",
      "\n",
      "--- Phase 2: Preparing Master DataFrame ---\n",
      "✅ Successfully created master DataFrame with 176 total columns.\n",
      "\n",
      "--- Processing Day: 2024-08-06 ---\n",
      "Fetching options across 518.98\n",
      "\n",
      "--- Phase 2: Preparing Master DataFrame ---\n",
      "✅ Successfully created master DataFrame with 160 total columns.\n",
      "\n",
      "--- Processing Day: 2024-08-07 ---\n",
      "Fetching options across 528.49\n",
      "\n",
      "--- Phase 2: Preparing Master DataFrame ---\n",
      "✅ Successfully created master DataFrame with 176 total columns.\n",
      "\n",
      "--- Processing Day: 2024-08-08 ---\n",
      "Fetching options across 524.13\n"
     ]
    },
    {
     "data": {
      "application/vnd.jupyter.widget-view+json": {
       "model_id": "196d23bfd8c244bba773e05b0d94d3df",
       "version_major": 2,
       "version_minor": 0
      },
      "text/plain": [
       "FloatProgress(value=0.0, layout=Layout(width='auto'), style=ProgressStyle(bar_color='black'))"
      ]
     },
     "metadata": {},
     "output_type": "display_data"
    },
    {
     "name": "stdout",
     "output_type": "stream",
     "text": [
      "\n",
      "--- Phase 2: Preparing Master DataFrame ---\n",
      "✅ Successfully created master DataFrame with 176 total columns.\n",
      "\n",
      "--- Processing Day: 2024-08-09 ---\n",
      "Fetching options across 529.91\n"
     ]
    },
    {
     "data": {
      "application/vnd.jupyter.widget-view+json": {
       "model_id": "44b3ab42e7394ddd9f661045ba8b1845",
       "version_major": 2,
       "version_minor": 0
      },
      "text/plain": [
       "FloatProgress(value=0.0, layout=Layout(width='auto'), style=ProgressStyle(bar_color='black'))"
      ]
     },
     "metadata": {},
     "output_type": "display_data"
    },
    {
     "name": "stdout",
     "output_type": "stream",
     "text": [
      "\n",
      "--- Phase 2: Preparing Master DataFrame ---\n",
      "✅ Successfully created master DataFrame with 160 total columns.\n",
      "  -> SHORT ENTRY for P_529.0_20240809 at 10:52:00 at 1.2\n",
      "Hedge expiry is 20240812\n",
      "  -> HEDGE ENTRY of qty 80 for P_529.0_20240812 against P_529.0_20240809 and primary qty of 100 at price 2.15\n",
      "  -> COMBINED: Net credit = $-53.00\n",
      "  [EOD] Checking positions to close at 15:45:00\n",
      "  [EOD] Current positions: ['P_529.0_20240809', 'P_529.0_20240812']\n",
      "  [EOD] Processing P_529.0_20240809: side=-1, price=0.03\n",
      "  -> EOD EXIT for P_529.0_20240809. Profit: $116.00 and exit price is 0.03\n",
      "  [EOD] Processing P_529.0_20240812: side=1, price=1.27\n",
      "  -> EOD EXIT for P_529.0_20240812. Profit: $-70.40 and exit price is 1.27\n",
      "\n",
      "--- Processing Day: 2024-08-12 ---\n",
      "Fetching options across 534.31\n"
     ]
    },
    {
     "data": {
      "application/vnd.jupyter.widget-view+json": {
       "model_id": "1537bf7c66a04af988e65e78d985b5fe",
       "version_major": 2,
       "version_minor": 0
      },
      "text/plain": [
       "FloatProgress(value=0.0, layout=Layout(width='auto'), style=ProgressStyle(bar_color='black'))"
      ]
     },
     "metadata": {},
     "output_type": "display_data"
    },
    {
     "name": "stdout",
     "output_type": "stream",
     "text": [
      "\n",
      "--- Phase 2: Preparing Master DataFrame ---\n",
      "✅ Successfully created master DataFrame with 176 total columns.\n",
      "  -> SHORT ENTRY for P_531.0_20240812 at 10:10:00 at 0.82\n",
      "Hedge expiry is 20240813\n",
      "  -> HEDGE ENTRY of qty 80 for P_531.0_20240813 against P_531.0_20240812 and primary qty of 100 at price 1.42\n",
      "  -> COMBINED: Net credit = $-32.60\n",
      "  [EOD] Checking positions to close at 15:45:00\n",
      "  [EOD] Current positions: ['P_531.0_20240812', 'P_531.0_20240813']\n",
      "  [EOD] Processing P_531.0_20240812: side=-1, price=0.19\n",
      "  -> EOD EXIT for P_531.0_20240812. Profit: $62.00 and exit price is 0.19\n",
      "  [EOD] Processing P_531.0_20240813: side=1, price=2.18\n",
      "  -> EOD EXIT for P_531.0_20240813. Profit: $60.80 and exit price is 2.18\n",
      "\n",
      "--- Processing Day: 2024-08-13 ---\n",
      "Fetching options across 536.63\n"
     ]
    },
    {
     "data": {
      "application/vnd.jupyter.widget-view+json": {
       "model_id": "b0b7c04240e44a57a468ae0fe287154a",
       "version_major": 2,
       "version_minor": 0
      },
      "text/plain": [
       "FloatProgress(value=0.0, layout=Layout(width='auto'), style=ProgressStyle(bar_color='black'))"
      ]
     },
     "metadata": {},
     "output_type": "display_data"
    },
    {
     "name": "stdout",
     "output_type": "stream",
     "text": [
      "\n",
      "--- Phase 2: Preparing Master DataFrame ---\n",
      "✅ Successfully created master DataFrame with 176 total columns.\n",
      "\n",
      "--- Processing Day: 2024-08-14 ---\n",
      "Fetching options across 543.0\n"
     ]
    },
    {
     "data": {
      "application/vnd.jupyter.widget-view+json": {
       "model_id": "3385c611f609456fbbda1155c0c163fe",
       "version_major": 2,
       "version_minor": 0
      },
      "text/plain": [
       "FloatProgress(value=0.0, layout=Layout(width='auto'), style=ProgressStyle(bar_color='black'))"
      ]
     },
     "metadata": {},
     "output_type": "display_data"
    },
    {
     "name": "stdout",
     "output_type": "stream",
     "text": [
      "\n",
      "--- Phase 2: Preparing Master DataFrame ---\n",
      "✅ Successfully created master DataFrame with 176 total columns.\n",
      "  -> SHORT ENTRY for P_540.0_20240814 at 10:57:00 at 0.59\n",
      "Hedge expiry is 20240815\n",
      "  -> HEDGE ENTRY of qty 80 for P_540.0_20240815 against P_540.0_20240814 and primary qty of 100 at price 1.05\n",
      "  -> COMBINED: Net credit = $-26.00\n",
      "  [EOD] Checking positions to close at 15:45:00\n",
      "  [EOD] Current positions: ['P_540.0_20240814', 'P_540.0_20240815']\n",
      "  [EOD] Processing P_540.0_20240814: side=-1, price=0.02\n",
      "  -> EOD EXIT for P_540.0_20240814. Profit: $56.00 and exit price is 0.02\n",
      "  [EOD] Processing P_540.0_20240815: side=1, price=0.93\n",
      "  -> EOD EXIT for P_540.0_20240815. Profit: $-9.60 and exit price is 0.93\n",
      "\n",
      "--- Processing Day: 2024-08-15 ---\n",
      "Fetching options across 549.92\n"
     ]
    },
    {
     "data": {
      "application/vnd.jupyter.widget-view+json": {
       "model_id": "ecea3f082189454b80498b2de1bab7b4",
       "version_major": 2,
       "version_minor": 0
      },
      "text/plain": [
       "FloatProgress(value=0.0, layout=Layout(width='auto'), style=ProgressStyle(bar_color='black'))"
      ]
     },
     "metadata": {},
     "output_type": "display_data"
    },
    {
     "name": "stdout",
     "output_type": "stream",
     "text": [
      "\n",
      "--- Phase 2: Preparing Master DataFrame ---\n",
      "✅ Successfully created master DataFrame with 176 total columns.\n",
      "\n",
      "--- Processing Day: 2024-08-16 ---\n",
      "Fetching options across 551.63\n"
     ]
    },
    {
     "data": {
      "application/vnd.jupyter.widget-view+json": {
       "model_id": "b76d2f92eda34f71aeec14ea119f40d8",
       "version_major": 2,
       "version_minor": 0
      },
      "text/plain": [
       "FloatProgress(value=0.0, layout=Layout(width='auto'), style=ProgressStyle(bar_color='black'))"
      ]
     },
     "metadata": {},
     "output_type": "display_data"
    },
    {
     "name": "stdout",
     "output_type": "stream",
     "text": [
      "\n",
      "--- Phase 2: Preparing Master DataFrame ---\n",
      "✅ Successfully created master DataFrame with 176 total columns.\n",
      "\n",
      "--- Processing Day: 2024-08-19 ---\n",
      "Fetching options across 554.75\n"
     ]
    },
    {
     "data": {
      "application/vnd.jupyter.widget-view+json": {
       "model_id": "0b673e3a9fb6461f8474ce47ab038626",
       "version_major": 2,
       "version_minor": 0
      },
      "text/plain": [
       "FloatProgress(value=0.0, layout=Layout(width='auto'), style=ProgressStyle(bar_color='black'))"
      ]
     },
     "metadata": {},
     "output_type": "display_data"
    },
    {
     "name": "stdout",
     "output_type": "stream",
     "text": [
      "\n",
      "--- Phase 2: Preparing Master DataFrame ---\n",
      "✅ Successfully created master DataFrame with 176 total columns.\n",
      "\n",
      "--- Processing Day: 2024-08-20 ---\n",
      "Fetching options across 559.3\n"
     ]
    },
    {
     "data": {
      "application/vnd.jupyter.widget-view+json": {
       "model_id": "0b46e5c446844a6d9ebef40a4c78bb16",
       "version_major": 2,
       "version_minor": 0
      },
      "text/plain": [
       "FloatProgress(value=0.0, layout=Layout(width='auto'), style=ProgressStyle(bar_color='black'))"
      ]
     },
     "metadata": {},
     "output_type": "display_data"
    },
    {
     "name": "stdout",
     "output_type": "stream",
     "text": [
      "\n",
      "--- Phase 2: Preparing Master DataFrame ---\n",
      "✅ Successfully created master DataFrame with 144 total columns.\n",
      "\n",
      "--- Processing Day: 2024-08-21 ---\n",
      "Fetching options across 559.71\n"
     ]
    },
    {
     "data": {
      "application/vnd.jupyter.widget-view+json": {
       "model_id": "cbcfc18514bd4f189c161e3155563830",
       "version_major": 2,
       "version_minor": 0
      },
      "text/plain": [
       "FloatProgress(value=0.0, layout=Layout(width='auto'), style=ProgressStyle(bar_color='black'))"
      ]
     },
     "metadata": {},
     "output_type": "display_data"
    },
    {
     "name": "stdout",
     "output_type": "stream",
     "text": [
      "\n",
      "--- Phase 2: Preparing Master DataFrame ---\n",
      "✅ Successfully created master DataFrame with 176 total columns.\n",
      "  -> SHORT ENTRY for P_559.0_20240821 at 10:38:00 at 0.44\n",
      "Hedge expiry is 20240822\n",
      "  -> HEDGE ENTRY of qty 80 for P_559.0_20240822 against P_559.0_20240821 and primary qty of 100 at price 1.25\n",
      "  -> COMBINED: Net credit = $-57.00\n",
      "  🚨 STOP-LOSS TRIGGERED for P_559.0_20240821+P_559.0_20240822 at 2024-08-21 11:02:00\n",
      "     Entry short was : $0.43, Current short leg price: $1.44\n",
      "     Entry long was : $1.25, Current long leg price: $2.25\n",
      "     Loss: $-21.00\n",
      "  -> SPREAD_STOP_LOSS EXIT for P_559.0_20240821. Profit: $-101.00 and exit price is 1.44\n",
      "  -> SPREAD_STOP_LOSS EXIT for P_559.0_20240822. Profit: $80.00 and exit price is 2.25\n",
      "\n",
      "--- Processing Day: 2024-08-22 ---\n",
      "Fetching options across 562.85\n",
      "\n",
      "--- Phase 2: Preparing Master DataFrame ---\n",
      "✅ Successfully created master DataFrame with 176 total columns.\n",
      "  -> SHORT ENTRY for P_558.0_20240822 at 12:27:00 at 0.43\n",
      "Hedge expiry is 20240823\n",
      "  -> HEDGE ENTRY of qty 80 for P_558.0_20240823 against P_558.0_20240822 and primary qty of 100 at price 2.1\n",
      "  -> COMBINED: Net credit = $-126.00\n",
      "  🚨 STOP-LOSS TRIGGERED for P_558.0_20240822+P_558.0_20240823 at 2024-08-22 13:04:00\n",
      "     Entry short was : $0.42, Current short leg price: $1.62\n",
      "     Entry long was : $2.10, Current long leg price: $3.16\n",
      "     Loss: $-35.20\n",
      "  -> SPREAD_STOP_LOSS EXIT for P_558.0_20240822. Profit: $-120.00 and exit price is 1.62\n",
      "  -> SPREAD_STOP_LOSS EXIT for P_558.0_20240823. Profit: $84.80 and exit price is 3.16\n",
      "\n",
      "--- Processing Day: 2024-08-23 ---\n",
      "Fetching options across 559.33\n"
     ]
    },
    {
     "data": {
      "application/vnd.jupyter.widget-view+json": {
       "model_id": "403cce9acf49486fa30f36f7acee13a4",
       "version_major": 2,
       "version_minor": 0
      },
      "text/plain": [
       "FloatProgress(value=0.0, layout=Layout(width='auto'), style=ProgressStyle(bar_color='black'))"
      ]
     },
     "metadata": {},
     "output_type": "display_data"
    },
    {
     "name": "stdout",
     "output_type": "stream",
     "text": [
      "\n",
      "--- Phase 2: Preparing Master DataFrame ---\n",
      "✅ Successfully created master DataFrame with 176 total columns.\n",
      "  -> SHORT ENTRY for P_560.0_20240823 at 10:02:00 at 1.24\n",
      "Hedge expiry is 20240826\n",
      "  -> HEDGE ENTRY of qty 80 for P_560.0_20240826 against P_560.0_20240823 and primary qty of 100 at price 2.13\n",
      "  -> COMBINED: Net credit = $-47.40\n",
      "  🚨 STOP-LOSS TRIGGERED for P_560.0_20240823+P_560.0_20240826 at 2024-08-23 10:52:00\n",
      "     Entry short was : $1.23, Current short leg price: $2.43\n",
      "     Entry long was : $2.13, Current long leg price: $3.11\n",
      "     Loss: $-41.60\n",
      "  -> SPREAD_STOP_LOSS EXIT for P_560.0_20240823. Profit: $-120.00 and exit price is 2.43\n",
      "  -> SPREAD_STOP_LOSS EXIT for P_560.0_20240826. Profit: $78.40 and exit price is 3.11\n",
      "\n",
      "--- Processing Day: 2024-08-26 ---\n",
      "Fetching options across 563.23\n"
     ]
    },
    {
     "data": {
      "application/vnd.jupyter.widget-view+json": {
       "model_id": "675f1f46ace84a80af94692a88421ce4",
       "version_major": 2,
       "version_minor": 0
      },
      "text/plain": [
       "FloatProgress(value=0.0, layout=Layout(width='auto'), style=ProgressStyle(bar_color='black'))"
      ]
     },
     "metadata": {},
     "output_type": "display_data"
    },
    {
     "name": "stdout",
     "output_type": "stream",
     "text": [
      "\n",
      "--- Phase 2: Preparing Master DataFrame ---\n",
      "✅ Successfully created master DataFrame with 176 total columns.\n",
      "\n",
      "--- Processing Day: 2024-08-27 ---\n",
      "Fetching options across 559.38\n"
     ]
    },
    {
     "data": {
      "application/vnd.jupyter.widget-view+json": {
       "model_id": "bbad79a41ef34e21a6d4d18efadb1a8e",
       "version_major": 2,
       "version_minor": 0
      },
      "text/plain": [
       "FloatProgress(value=0.0, layout=Layout(width='auto'), style=ProgressStyle(bar_color='black'))"
      ]
     },
     "metadata": {},
     "output_type": "display_data"
    },
    {
     "name": "stdout",
     "output_type": "stream",
     "text": [
      "\n",
      "--- Phase 2: Preparing Master DataFrame ---\n",
      "✅ Successfully created master DataFrame with 176 total columns.\n",
      "  -> SHORT ENTRY for P_559.0_20240827 at 10:25:00 at 0.46\n",
      "Hedge expiry is 20240828\n",
      "  -> HEDGE ENTRY of qty 80 for P_559.0_20240828 against P_559.0_20240827 and primary qty of 100 at price 1.36\n",
      "  -> COMBINED: Net credit = $-63.80\n",
      "  [EOD] Checking positions to close at 15:45:00\n",
      "  [EOD] Current positions: ['P_559.0_20240827', 'P_559.0_20240828']\n",
      "  [EOD] Processing P_559.0_20240827: side=-1, price=0.02\n",
      "  -> EOD EXIT for P_559.0_20240827. Profit: $43.00 and exit price is 0.02\n",
      "  [EOD] Processing P_559.0_20240828: side=1, price=1.18\n",
      "  -> EOD EXIT for P_559.0_20240828. Profit: $-14.40 and exit price is 1.18\n",
      "\n",
      "--- Processing Day: 2024-08-28 ---\n",
      "Fetching options across 561.53\n"
     ]
    },
    {
     "data": {
      "application/vnd.jupyter.widget-view+json": {
       "model_id": "30b1b04b978a46939ad3fc4cedae1e4a",
       "version_major": 2,
       "version_minor": 0
      },
      "text/plain": [
       "FloatProgress(value=0.0, layout=Layout(width='auto'), style=ProgressStyle(bar_color='black'))"
      ]
     },
     "metadata": {},
     "output_type": "display_data"
    },
    {
     "name": "stdout",
     "output_type": "stream",
     "text": [
      "\n",
      "--- Phase 2: Preparing Master DataFrame ---\n",
      "✅ Successfully created master DataFrame with 176 total columns.\n",
      "\n",
      "--- Processing Day: 2024-08-29 ---\n",
      "Fetching options across 559.98\n"
     ]
    },
    {
     "data": {
      "application/vnd.jupyter.widget-view+json": {
       "model_id": "aed6b436553c440faa7f377f56d324be",
       "version_major": 2,
       "version_minor": 0
      },
      "text/plain": [
       "FloatProgress(value=0.0, layout=Layout(width='auto'), style=ProgressStyle(bar_color='black'))"
      ]
     },
     "metadata": {},
     "output_type": "display_data"
    },
    {
     "name": "stdout",
     "output_type": "stream",
     "text": [
      "\n",
      "--- Phase 2: Preparing Master DataFrame ---\n",
      "✅ Successfully created master DataFrame with 176 total columns.\n",
      "\n",
      "--- Processing Day: 2024-08-30 ---\n",
      "Fetching options across 560.83\n"
     ]
    },
    {
     "data": {
      "application/vnd.jupyter.widget-view+json": {
       "model_id": "e9b934981ce147b6b78b25e25cffec1a",
       "version_major": 2,
       "version_minor": 0
      },
      "text/plain": [
       "FloatProgress(value=0.0, layout=Layout(width='auto'), style=ProgressStyle(bar_color='black'))"
      ]
     },
     "metadata": {},
     "output_type": "display_data"
    },
    {
     "name": "stdout",
     "output_type": "stream",
     "text": [
      "\n",
      "--- Phase 2: Preparing Master DataFrame ---\n",
      "✅ Successfully created master DataFrame with 176 total columns.\n",
      "  -> SHORT ENTRY for P_558.0_20240830 at 13:04:00 at 0.45\n",
      "Hedge expiry is 20240903\n",
      "  -> HEDGE ENTRY of qty 80 for P_558.0_20240903 against P_558.0_20240830 and primary qty of 100 at price 1.39\n",
      "  -> COMBINED: Net credit = $-67.20\n",
      "  [EOD] Checking positions to close at 15:45:00\n",
      "  [EOD] Current positions: ['P_558.0_20240830', 'P_558.0_20240903']\n",
      "  [EOD] Processing P_558.0_20240830: side=-1, price=0.03\n",
      "  -> EOD EXIT for P_558.0_20240830. Profit: $41.00 and exit price is 0.03\n",
      "  [EOD] Processing P_558.0_20240903: side=1, price=0.47\n",
      "  -> EOD EXIT for P_558.0_20240903. Profit: $-73.60 and exit price is 0.47\n",
      "\n",
      "--- Processing Day: 2024-09-03 ---\n",
      "Fetching options across 560.6\n"
     ]
    },
    {
     "data": {
      "application/vnd.jupyter.widget-view+json": {
       "model_id": "e9930e0a51d9421081306e6ecfb99701",
       "version_major": 2,
       "version_minor": 0
      },
      "text/plain": [
       "FloatProgress(value=0.0, layout=Layout(width='auto'), style=ProgressStyle(bar_color='black'))"
      ]
     },
     "metadata": {},
     "output_type": "display_data"
    },
    {
     "name": "stdout",
     "output_type": "stream",
     "text": [
      "\n",
      "--- Phase 2: Preparing Master DataFrame ---\n",
      "✅ Successfully created master DataFrame with 176 total columns.\n",
      "\n",
      "--- Processing Day: 2024-09-04 ---\n",
      "Fetching options across 550.14\n"
     ]
    },
    {
     "data": {
      "application/vnd.jupyter.widget-view+json": {
       "model_id": "d47afec144094800a9ddd4965e378938",
       "version_major": 2,
       "version_minor": 0
      },
      "text/plain": [
       "FloatProgress(value=0.0, layout=Layout(width='auto'), style=ProgressStyle(bar_color='black'))"
      ]
     },
     "metadata": {},
     "output_type": "display_data"
    },
    {
     "name": "stdout",
     "output_type": "stream",
     "text": [
      "\n",
      "--- Phase 2: Preparing Master DataFrame ---\n",
      "✅ Successfully created master DataFrame with 176 total columns.\n",
      "  -> SHORT ENTRY for P_550.0_20240904 at 09:57:00 at 0.93\n",
      "Hedge expiry is 20240905\n",
      "  -> HEDGE ENTRY of qty 80 for P_550.0_20240905 against P_550.0_20240904 and primary qty of 100 at price 2.84\n",
      "  -> COMBINED: Net credit = $-135.20\n",
      "  [EOD] Checking positions to close at 15:45:00\n",
      "  [EOD] Current positions: ['P_550.0_20240904', 'P_550.0_20240905']\n",
      "  [EOD] Processing P_550.0_20240904: side=-1, price=0.24\n",
      "  -> EOD EXIT for P_550.0_20240904. Profit: $68.00 and exit price is 0.24\n",
      "  [EOD] Processing P_550.0_20240905: side=1, price=1.8\n",
      "  -> EOD EXIT for P_550.0_20240905. Profit: $-83.20 and exit price is 1.80\n",
      "\n",
      "--- Processing Day: 2024-09-05 ---\n",
      "Fetching options across 551.32\n"
     ]
    },
    {
     "data": {
      "application/vnd.jupyter.widget-view+json": {
       "model_id": "7eba10849e274334b1e116d22c2b04dd",
       "version_major": 2,
       "version_minor": 0
      },
      "text/plain": [
       "FloatProgress(value=0.0, layout=Layout(width='auto'), style=ProgressStyle(bar_color='black'))"
      ]
     },
     "metadata": {},
     "output_type": "display_data"
    },
    {
     "name": "stdout",
     "output_type": "stream",
     "text": [
      "\n",
      "--- Phase 2: Preparing Master DataFrame ---\n",
      "✅ Successfully created master DataFrame with 176 total columns.\n",
      "  -> SHORT ENTRY for P_551.0_20240905 at 10:02:00 at 0.85\n",
      "Hedge expiry is 20240906\n",
      "  -> HEDGE ENTRY of qty 80 for P_551.0_20240906 against P_551.0_20240905 and primary qty of 100 at price 2.67\n",
      "  -> COMBINED: Net credit = $-129.60\n",
      "  🚨 STOP-LOSS TRIGGERED for P_551.0_20240905+P_551.0_20240906 at 2024-09-05 11:01:00\n",
      "     Entry short was : $0.84, Current short leg price: $1.85\n",
      "     Entry long was : $2.67, Current long leg price: $3.52\n",
      "     Loss: $-33.00\n",
      "  -> SPREAD_STOP_LOSS EXIT for P_551.0_20240905. Profit: $-101.00 and exit price is 1.85\n",
      "  -> SPREAD_STOP_LOSS EXIT for P_551.0_20240906. Profit: $68.00 and exit price is 3.52\n",
      "\n",
      "--- Processing Day: 2024-09-06 ---\n",
      "Fetching options across 550.3\n"
     ]
    },
    {
     "data": {
      "application/vnd.jupyter.widget-view+json": {
       "model_id": "22676a34e09f4bc0aae7ec58cd0ffb52",
       "version_major": 2,
       "version_minor": 0
      },
      "text/plain": [
       "FloatProgress(value=0.0, layout=Layout(width='auto'), style=ProgressStyle(bar_color='black'))"
      ]
     },
     "metadata": {},
     "output_type": "display_data"
    },
    {
     "name": "stdout",
     "output_type": "stream",
     "text": [
      "\n",
      "--- Phase 2: Preparing Master DataFrame ---\n",
      "✅ Successfully created master DataFrame with 176 total columns.\n",
      "\n",
      "--- Processing Day: 2024-09-09 ---\n",
      "Fetching options across 544.5\n"
     ]
    },
    {
     "data": {
      "application/vnd.jupyter.widget-view+json": {
       "model_id": "79c36a70841c4ed7978eb3aac237cc41",
       "version_major": 2,
       "version_minor": 0
      },
      "text/plain": [
       "FloatProgress(value=0.0, layout=Layout(width='auto'), style=ProgressStyle(bar_color='black'))"
      ]
     },
     "metadata": {},
     "output_type": "display_data"
    },
    {
     "name": "stdout",
     "output_type": "stream",
     "text": [
      "\n",
      "--- Phase 2: Preparing Master DataFrame ---\n",
      "✅ Successfully created master DataFrame with 176 total columns.\n",
      "\n",
      "--- Processing Day: 2024-09-10 ---\n",
      "Fetching options across 548.32\n"
     ]
    },
    {
     "data": {
      "application/vnd.jupyter.widget-view+json": {
       "model_id": "8f1e69d7e9f74d46afe2fcbab1b2cfc5",
       "version_major": 2,
       "version_minor": 0
      },
      "text/plain": [
       "FloatProgress(value=0.0, layout=Layout(width='auto'), style=ProgressStyle(bar_color='black'))"
      ]
     },
     "metadata": {},
     "output_type": "display_data"
    },
    {
     "name": "stdout",
     "output_type": "stream",
     "text": [
      "\n",
      "--- Phase 2: Preparing Master DataFrame ---\n",
      "✅ Successfully created master DataFrame with 176 total columns.\n",
      "  -> SHORT ENTRY for P_544.0_20240910 at 12:55:00 at 0.53\n",
      "Hedge expiry is 20240911\n",
      "  -> HEDGE ENTRY of qty 80 for P_544.0_20240911 against P_544.0_20240910 and primary qty of 100 at price 2.43\n",
      "  -> COMBINED: Net credit = $-142.40\n",
      "  [EOD] Checking positions to close at 15:45:00\n",
      "  [EOD] Current positions: ['P_544.0_20240910', 'P_544.0_20240911']\n",
      "  [EOD] Processing P_544.0_20240910: side=-1, price=0.02\n",
      "  -> EOD EXIT for P_544.0_20240910. Profit: $50.00 and exit price is 0.02\n",
      "  [EOD] Processing P_544.0_20240911: side=1, price=1.07\n",
      "  -> EOD EXIT for P_544.0_20240911. Profit: $-108.80 and exit price is 1.07\n",
      "\n",
      "--- Processing Day: 2024-09-11 ---\n",
      "Fetching options across 548.1\n"
     ]
    },
    {
     "data": {
      "application/vnd.jupyter.widget-view+json": {
       "model_id": "93128541536d4cc995891d70500bfd62",
       "version_major": 2,
       "version_minor": 0
      },
      "text/plain": [
       "FloatProgress(value=0.0, layout=Layout(width='auto'), style=ProgressStyle(bar_color='black'))"
      ]
     },
     "metadata": {},
     "output_type": "display_data"
    },
    {
     "name": "stdout",
     "output_type": "stream",
     "text": [
      "\n",
      "--- Phase 2: Preparing Master DataFrame ---\n",
      "✅ Successfully created master DataFrame with 176 total columns.\n",
      "\n",
      "--- Processing Day: 2024-09-12 ---\n",
      "Fetching options across 554.64\n"
     ]
    },
    {
     "data": {
      "application/vnd.jupyter.widget-view+json": {
       "model_id": "bbaeec16944d47fa96a355c973324397",
       "version_major": 2,
       "version_minor": 0
      },
      "text/plain": [
       "FloatProgress(value=0.0, layout=Layout(width='auto'), style=ProgressStyle(bar_color='black'))"
      ]
     },
     "metadata": {},
     "output_type": "display_data"
    },
    {
     "name": "stdout",
     "output_type": "stream",
     "text": [
      "\n",
      "--- Phase 2: Preparing Master DataFrame ---\n",
      "✅ Successfully created master DataFrame with 176 total columns.\n",
      "  -> SHORT ENTRY for P_553.0_20240912 at 10:13:00 at 1.0\n",
      "Hedge expiry is 20240913\n",
      "  -> HEDGE ENTRY of qty 80 for P_553.0_20240913 against P_553.0_20240912 and primary qty of 100 at price 1.33\n",
      "  -> COMBINED: Net credit = $-7.40\n",
      "  [EOD] Checking positions to close at 15:45:00\n",
      "  [EOD] Current positions: ['P_553.0_20240912', 'P_553.0_20240913']\n",
      "  [EOD] Processing P_553.0_20240912: side=-1, price=0.02\n",
      "  -> EOD EXIT for P_553.0_20240912. Profit: $97.00 and exit price is 0.02\n",
      "  [EOD] Processing P_553.0_20240913: side=1, price=0.29\n",
      "  -> EOD EXIT for P_553.0_20240913. Profit: $-83.20 and exit price is 0.29\n",
      "\n",
      "--- Processing Day: 2024-09-13 ---\n",
      "Fetching options across 559.65\n"
     ]
    },
    {
     "data": {
      "application/vnd.jupyter.widget-view+json": {
       "model_id": "cf45e91e913a498db16e840cf2032555",
       "version_major": 2,
       "version_minor": 0
      },
      "text/plain": [
       "FloatProgress(value=0.0, layout=Layout(width='auto'), style=ProgressStyle(bar_color='black'))"
      ]
     },
     "metadata": {},
     "output_type": "display_data"
    },
    {
     "name": "stdout",
     "output_type": "stream",
     "text": [
      "\n",
      "--- Phase 2: Preparing Master DataFrame ---\n",
      "✅ Successfully created master DataFrame with 176 total columns.\n",
      "  -> SHORT ENTRY for P_560.0_20240913 at 10:19:00 at 0.83\n",
      "Hedge expiry is 20240916\n",
      "  -> HEDGE ENTRY of qty 80 for P_560.0_20240916 against P_560.0_20240913 and primary qty of 100 at price 1.75\n",
      "  -> COMBINED: Net credit = $-58.00\n",
      "  [EOD] Checking positions to close at 15:45:00\n",
      "  [EOD] Current positions: ['P_560.0_20240913', 'P_560.0_20240916']\n",
      "  [EOD] Processing P_560.0_20240913: side=-1, price=0.06\n",
      "  -> EOD EXIT for P_560.0_20240913. Profit: $76.00 and exit price is 0.06\n",
      "  [EOD] Processing P_560.0_20240916: side=1, price=0.98\n",
      "  -> EOD EXIT for P_560.0_20240916. Profit: $-61.60 and exit price is 0.98\n",
      "\n",
      "--- Processing Day: 2024-09-16 ---\n",
      "Fetching options across 561.91\n"
     ]
    },
    {
     "data": {
      "application/vnd.jupyter.widget-view+json": {
       "model_id": "bec0b4e18336491481eb2fdd91a96907",
       "version_major": 2,
       "version_minor": 0
      },
      "text/plain": [
       "FloatProgress(value=0.0, layout=Layout(width='auto'), style=ProgressStyle(bar_color='black'))"
      ]
     },
     "metadata": {},
     "output_type": "display_data"
    },
    {
     "name": "stdout",
     "output_type": "stream",
     "text": [
      "\n",
      "--- Phase 2: Preparing Master DataFrame ---\n",
      "✅ Successfully created master DataFrame with 176 total columns.\n",
      "\n",
      "--- Processing Day: 2024-09-17 ---\n",
      "Fetching options across 564.77\n"
     ]
    },
    {
     "data": {
      "application/vnd.jupyter.widget-view+json": {
       "model_id": "e33a1a6c2d1747dc9d30a5084125d204",
       "version_major": 2,
       "version_minor": 0
      },
      "text/plain": [
       "FloatProgress(value=0.0, layout=Layout(width='auto'), style=ProgressStyle(bar_color='black'))"
      ]
     },
     "metadata": {},
     "output_type": "display_data"
    },
    {
     "name": "stdout",
     "output_type": "stream",
     "text": [
      "\n",
      "--- Phase 2: Preparing Master DataFrame ---\n",
      "✅ Successfully created master DataFrame with 176 total columns.\n",
      "\n",
      "--- Processing Day: 2024-09-18 ---\n",
      "Fetching options across 563.33\n"
     ]
    },
    {
     "data": {
      "application/vnd.jupyter.widget-view+json": {
       "model_id": "f3dcd727eb2d4cc791c026b8db0f27d6",
       "version_major": 2,
       "version_minor": 0
      },
      "text/plain": [
       "FloatProgress(value=0.0, layout=Layout(width='auto'), style=ProgressStyle(bar_color='black'))"
      ]
     },
     "metadata": {},
     "output_type": "display_data"
    },
    {
     "name": "stdout",
     "output_type": "stream",
     "text": [
      "\n",
      "--- Phase 2: Preparing Master DataFrame ---\n",
      "✅ Successfully created master DataFrame with 176 total columns.\n",
      "  -> SHORT ENTRY for P_564.0_20240918 at 14:21:00 at 1.24\n",
      "Hedge expiry is 20240919\n",
      "  -> HEDGE ENTRY of qty 80 for P_564.0_20240919 against P_564.0_20240918 and primary qty of 100 at price 2.57\n",
      "  -> COMBINED: Net credit = $-83.60\n",
      "  🚨 STOP-LOSS TRIGGERED for P_564.0_20240918+P_564.0_20240919 at 2024-09-18 15:02:00\n",
      "     Entry short was : $1.22, Current short leg price: $2.24\n",
      "     Entry long was : $2.57, Current long leg price: $3.42\n",
      "     Loss: $-34.00\n",
      "  -> SPREAD_STOP_LOSS EXIT for P_564.0_20240918. Profit: $-102.00 and exit price is 2.24\n",
      "  -> SPREAD_STOP_LOSS EXIT for P_564.0_20240919. Profit: $68.00 and exit price is 3.42\n",
      "\n",
      "--- Processing Day: 2024-09-19 ---\n",
      "Fetching options across 570.88\n"
     ]
    },
    {
     "data": {
      "application/vnd.jupyter.widget-view+json": {
       "model_id": "ea1fd270d79944b48cab57df02c755ef",
       "version_major": 2,
       "version_minor": 0
      },
      "text/plain": [
       "FloatProgress(value=0.0, layout=Layout(width='auto'), style=ProgressStyle(bar_color='black'))"
      ]
     },
     "metadata": {},
     "output_type": "display_data"
    },
    {
     "name": "stdout",
     "output_type": "stream",
     "text": [
      "\n",
      "--- Phase 2: Preparing Master DataFrame ---\n",
      "✅ Successfully created master DataFrame with 176 total columns.\n",
      "\n",
      "--- Processing Day: 2024-09-20 ---\n",
      "Fetching options across 568.1\n"
     ]
    },
    {
     "data": {
      "application/vnd.jupyter.widget-view+json": {
       "model_id": "53c04f254f064c7fb66410ff18dae052",
       "version_major": 2,
       "version_minor": 0
      },
      "text/plain": [
       "FloatProgress(value=0.0, layout=Layout(width='auto'), style=ProgressStyle(bar_color='black'))"
      ]
     },
     "metadata": {},
     "output_type": "display_data"
    },
    {
     "name": "stdout",
     "output_type": "stream",
     "text": [
      "\n",
      "--- Phase 2: Preparing Master DataFrame ---\n",
      "✅ Successfully created master DataFrame with 176 total columns.\n",
      "  -> SHORT ENTRY for P_566.0_20240920 at 12:24:00 at 0.46\n",
      "Hedge expiry is 20240923\n",
      "  -> HEDGE ENTRY of qty 80 for P_566.0_20240923 against P_566.0_20240920 and primary qty of 100 at price 1.24\n",
      "  -> COMBINED: Net credit = $-54.20\n",
      "  [EOD] Checking positions to close at 15:45:00\n",
      "  [EOD] Current positions: ['P_566.0_20240920', 'P_566.0_20240923']\n",
      "  [EOD] Processing P_566.0_20240920: side=-1, price=0.03\n",
      "  -> EOD EXIT for P_566.0_20240920. Profit: $42.00 and exit price is 0.03\n",
      "  [EOD] Processing P_566.0_20240923: side=1, price=0.57\n",
      "  -> EOD EXIT for P_566.0_20240923. Profit: $-53.60 and exit price is 0.57\n",
      "\n",
      "--- Processing Day: 2024-09-23 ---\n",
      "Fetching options across 569.0\n"
     ]
    },
    {
     "data": {
      "application/vnd.jupyter.widget-view+json": {
       "model_id": "ffaa84fc25fa43898a084056667c9388",
       "version_major": 2,
       "version_minor": 0
      },
      "text/plain": [
       "FloatProgress(value=0.0, layout=Layout(width='auto'), style=ProgressStyle(bar_color='black'))"
      ]
     },
     "metadata": {},
     "output_type": "display_data"
    },
    {
     "name": "stdout",
     "output_type": "stream",
     "text": [
      "\n",
      "--- Phase 2: Preparing Master DataFrame ---\n",
      "✅ Successfully created master DataFrame with 176 total columns.\n",
      "\n",
      "--- Processing Day: 2024-09-24 ---\n",
      "Fetching options across 570.21\n"
     ]
    },
    {
     "data": {
      "application/vnd.jupyter.widget-view+json": {
       "model_id": "65a231fb13084d13b638445ba3d9f5c3",
       "version_major": 2,
       "version_minor": 0
      },
      "text/plain": [
       "FloatProgress(value=0.0, layout=Layout(width='auto'), style=ProgressStyle(bar_color='black'))"
      ]
     },
     "metadata": {},
     "output_type": "display_data"
    },
    {
     "name": "stdout",
     "output_type": "stream",
     "text": [
      "\n",
      "--- Phase 2: Preparing Master DataFrame ---\n",
      "✅ Successfully created master DataFrame with 176 total columns.\n",
      "\n",
      "--- Processing Day: 2024-09-25 ---\n",
      "Fetching options across 571.55\n"
     ]
    },
    {
     "data": {
      "application/vnd.jupyter.widget-view+json": {
       "model_id": "cac69ff22ae443918ec4594770396925",
       "version_major": 2,
       "version_minor": 0
      },
      "text/plain": [
       "FloatProgress(value=0.0, layout=Layout(width='auto'), style=ProgressStyle(bar_color='black'))"
      ]
     },
     "metadata": {},
     "output_type": "display_data"
    },
    {
     "name": "stdout",
     "output_type": "stream",
     "text": [
      "\n",
      "--- Phase 2: Preparing Master DataFrame ---\n",
      "✅ Successfully created master DataFrame with 176 total columns.\n",
      "\n",
      "--- Processing Day: 2024-09-26 ---\n",
      "Fetching options across 574.03\n"
     ]
    },
    {
     "data": {
      "application/vnd.jupyter.widget-view+json": {
       "model_id": "e4b2b81c235f4f91a880b366c6a8464d",
       "version_major": 2,
       "version_minor": 0
      },
      "text/plain": [
       "FloatProgress(value=0.0, layout=Layout(width='auto'), style=ProgressStyle(bar_color='black'))"
      ]
     },
     "metadata": {},
     "output_type": "display_data"
    },
    {
     "name": "stdout",
     "output_type": "stream",
     "text": [
      "\n",
      "--- Phase 2: Preparing Master DataFrame ---\n",
      "✅ Successfully created master DataFrame with 176 total columns.\n",
      "\n",
      "--- Processing Day: 2024-09-27 ---\n",
      "Fetching options across 573.23\n"
     ]
    },
    {
     "data": {
      "application/vnd.jupyter.widget-view+json": {
       "model_id": "3bb6c78a389b4259b81f9e954638400e",
       "version_major": 2,
       "version_minor": 0
      },
      "text/plain": [
       "FloatProgress(value=0.0, layout=Layout(width='auto'), style=ProgressStyle(bar_color='black'))"
      ]
     },
     "metadata": {},
     "output_type": "display_data"
    },
    {
     "name": "stdout",
     "output_type": "stream",
     "text": [
      "\n",
      "--- Phase 2: Preparing Master DataFrame ---\n",
      "✅ Successfully created master DataFrame with 176 total columns.\n",
      "\n",
      "--- Processing Day: 2024-09-30 ---\n",
      "Fetching options across 570.53\n"
     ]
    },
    {
     "data": {
      "application/vnd.jupyter.widget-view+json": {
       "model_id": "345fc47f5a5a4472a2d4a445df24703f",
       "version_major": 2,
       "version_minor": 0
      },
      "text/plain": [
       "FloatProgress(value=0.0, layout=Layout(width='auto'), style=ProgressStyle(bar_color='black'))"
      ]
     },
     "metadata": {},
     "output_type": "display_data"
    },
    {
     "name": "stdout",
     "output_type": "stream",
     "text": [
      "\n",
      "--- Phase 2: Preparing Master DataFrame ---\n",
      "✅ Successfully created master DataFrame with 176 total columns.\n",
      "\n",
      "--- Processing Day: 2024-10-01 ---\n",
      "Fetching options across 573.16\n"
     ]
    },
    {
     "data": {
      "application/vnd.jupyter.widget-view+json": {
       "model_id": "7351538c3e2b4747829368f1fc0a7264",
       "version_major": 2,
       "version_minor": 0
      },
      "text/plain": [
       "FloatProgress(value=0.0, layout=Layout(width='auto'), style=ProgressStyle(bar_color='black'))"
      ]
     },
     "metadata": {},
     "output_type": "display_data"
    },
    {
     "name": "stdout",
     "output_type": "stream",
     "text": [
      "\n",
      "--- Phase 2: Preparing Master DataFrame ---\n",
      "✅ Successfully created master DataFrame with 176 total columns.\n",
      "\n",
      "--- Processing Day: 2024-10-02 ---\n",
      "Fetching options across 567.24\n"
     ]
    },
    {
     "data": {
      "application/vnd.jupyter.widget-view+json": {
       "model_id": "99c8d2eede0147a1a3e08d5825932596",
       "version_major": 2,
       "version_minor": 0
      },
      "text/plain": [
       "FloatProgress(value=0.0, layout=Layout(width='auto'), style=ProgressStyle(bar_color='black'))"
      ]
     },
     "metadata": {},
     "output_type": "display_data"
    },
    {
     "name": "stdout",
     "output_type": "stream",
     "text": [
      "\n",
      "--- Phase 2: Preparing Master DataFrame ---\n",
      "✅ Successfully created master DataFrame with 176 total columns.\n",
      "  -> SHORT ENTRY for P_566.0_20241002 at 10:04:00 at 0.81\n",
      "Hedge expiry is 20241003\n",
      "  -> HEDGE ENTRY of qty 80 for P_566.0_20241003 against P_566.0_20241002 and primary qty of 100 at price 1.33\n",
      "  -> COMBINED: Net credit = $-26.40\n",
      "  [EOD] Checking positions to close at 15:45:00\n",
      "  [EOD] Current positions: ['P_566.0_20241002', 'P_566.0_20241003']\n",
      "  [EOD] Processing P_566.0_20241002: side=-1, price=0.03\n",
      "  -> EOD EXIT for P_566.0_20241002. Profit: $77.00 and exit price is 0.03\n",
      "  [EOD] Processing P_566.0_20241003: side=1, price=0.91\n",
      "  -> EOD EXIT for P_566.0_20241003. Profit: $-33.60 and exit price is 0.91\n",
      "\n",
      "--- Processing Day: 2024-10-03 ---\n",
      "Fetching options across 567.57\n"
     ]
    },
    {
     "data": {
      "application/vnd.jupyter.widget-view+json": {
       "model_id": "e417c3637d1e4414a406ec37faa9e230",
       "version_major": 2,
       "version_minor": 0
      },
      "text/plain": [
       "FloatProgress(value=0.0, layout=Layout(width='auto'), style=ProgressStyle(bar_color='black'))"
      ]
     },
     "metadata": {},
     "output_type": "display_data"
    },
    {
     "name": "stdout",
     "output_type": "stream",
     "text": [
      "\n",
      "--- Phase 2: Preparing Master DataFrame ---\n",
      "✅ Successfully created master DataFrame with 176 total columns.\n",
      "  -> SHORT ENTRY for P_567.0_20241003 at 10:03:00 at 0.71\n",
      "Hedge expiry is 20241004\n",
      "  -> HEDGE ENTRY of qty 80 for P_567.0_20241004 against P_567.0_20241003 and primary qty of 100 at price 2.49\n",
      "  -> COMBINED: Net credit = $-129.20\n",
      "  🚨 STOP-LOSS TRIGGERED for P_567.0_20241003+P_567.0_20241004 at 2024-10-03 10:44:00\n",
      "     Entry short was : $0.70, Current short leg price: $1.71\n",
      "     Entry long was : $2.49, Current long leg price: $3.44\n",
      "     Loss: $-25.00\n",
      "  -> SPREAD_STOP_LOSS EXIT for P_567.0_20241003. Profit: $-101.00 and exit price is 1.71\n",
      "  -> SPREAD_STOP_LOSS EXIT for P_567.0_20241004. Profit: $76.00 and exit price is 3.44\n",
      "\n",
      "--- Processing Day: 2024-10-04 ---\n",
      "Fetching options across 572.29\n"
     ]
    },
    {
     "data": {
      "application/vnd.jupyter.widget-view+json": {
       "model_id": "a9a40a8a84a24c5da8b237727b83af48",
       "version_major": 2,
       "version_minor": 0
      },
      "text/plain": [
       "FloatProgress(value=0.0, layout=Layout(width='auto'), style=ProgressStyle(bar_color='black'))"
      ]
     },
     "metadata": {},
     "output_type": "display_data"
    },
    {
     "name": "stdout",
     "output_type": "stream",
     "text": [
      "\n",
      "--- Phase 2: Preparing Master DataFrame ---\n",
      "✅ Successfully created master DataFrame with 176 total columns.\n",
      "\n",
      "--- Processing Day: 2024-10-07 ---\n",
      "Fetching options across 571.36\n"
     ]
    },
    {
     "data": {
      "application/vnd.jupyter.widget-view+json": {
       "model_id": "5a83edbcf8874093bcb913981528a7f8",
       "version_major": 2,
       "version_minor": 0
      },
      "text/plain": [
       "FloatProgress(value=0.0, layout=Layout(width='auto'), style=ProgressStyle(bar_color='black'))"
      ]
     },
     "metadata": {},
     "output_type": "display_data"
    },
    {
     "name": "stdout",
     "output_type": "stream",
     "text": [
      "\n",
      "--- Phase 2: Preparing Master DataFrame ---\n",
      "✅ Successfully created master DataFrame with 176 total columns.\n",
      "\n",
      "--- Processing Day: 2024-10-08 ---\n",
      "Fetching options across 570.27\n"
     ]
    },
    {
     "data": {
      "application/vnd.jupyter.widget-view+json": {
       "model_id": "6c94d5057e35453daa9af63d60bf13c1",
       "version_major": 2,
       "version_minor": 0
      },
      "text/plain": [
       "FloatProgress(value=0.0, layout=Layout(width='auto'), style=ProgressStyle(bar_color='black'))"
      ]
     },
     "metadata": {},
     "output_type": "display_data"
    },
    {
     "name": "stdout",
     "output_type": "stream",
     "text": [
      "\n",
      "--- Phase 2: Preparing Master DataFrame ---\n",
      "✅ Successfully created master DataFrame with 176 total columns.\n",
      "\n",
      "--- Processing Day: 2024-10-09 ---\n",
      "Fetching options across 572.86\n"
     ]
    },
    {
     "data": {
      "application/vnd.jupyter.widget-view+json": {
       "model_id": "8732ce35ecb94dcbb8f5b1e61756264b",
       "version_major": 2,
       "version_minor": 0
      },
      "text/plain": [
       "FloatProgress(value=0.0, layout=Layout(width='auto'), style=ProgressStyle(bar_color='black'))"
      ]
     },
     "metadata": {},
     "output_type": "display_data"
    },
    {
     "name": "stdout",
     "output_type": "stream",
     "text": [
      "\n",
      "--- Phase 2: Preparing Master DataFrame ---\n",
      "✅ Successfully created master DataFrame with 176 total columns.\n",
      "  -> SHORT ENTRY for P_573.0_20241009 at 10:59:00 at 0.5\n",
      "Hedge expiry is 20241010\n",
      "  -> HEDGE ENTRY of qty 80 for P_573.0_20241010 against P_573.0_20241009 and primary qty of 100 at price 1.49\n",
      "  -> COMBINED: Net credit = $-70.20\n",
      "  [EOD] Checking positions to close at 15:45:00\n",
      "  [EOD] Current positions: ['P_573.0_20241009', 'P_573.0_20241010']\n",
      "  [EOD] Processing P_573.0_20241009: side=-1, price=0.02\n",
      "  -> EOD EXIT for P_573.0_20241009. Profit: $47.00 and exit price is 0.02\n",
      "  [EOD] Processing P_573.0_20241010: side=1, price=0.82\n",
      "  -> EOD EXIT for P_573.0_20241010. Profit: $-53.60 and exit price is 0.82\n",
      "\n",
      "--- Processing Day: 2024-10-10 ---\n",
      "Fetching options across 575.54\n"
     ]
    },
    {
     "data": {
      "application/vnd.jupyter.widget-view+json": {
       "model_id": "6f1e5dad461840689a9fa10d0ff7cbf6",
       "version_major": 2,
       "version_minor": 0
      },
      "text/plain": [
       "FloatProgress(value=0.0, layout=Layout(width='auto'), style=ProgressStyle(bar_color='black'))"
      ]
     },
     "metadata": {},
     "output_type": "display_data"
    },
    {
     "name": "stdout",
     "output_type": "stream",
     "text": [
      "\n",
      "--- Phase 2: Preparing Master DataFrame ---\n",
      "✅ Successfully created master DataFrame with 176 total columns.\n",
      "\n",
      "--- Processing Day: 2024-10-11 ---\n",
      "Fetching options across 576.19\n"
     ]
    },
    {
     "data": {
      "application/vnd.jupyter.widget-view+json": {
       "model_id": "51aec94049b74111a307ac2182f47ea9",
       "version_major": 2,
       "version_minor": 0
      },
      "text/plain": [
       "FloatProgress(value=0.0, layout=Layout(width='auto'), style=ProgressStyle(bar_color='black'))"
      ]
     },
     "metadata": {},
     "output_type": "display_data"
    },
    {
     "name": "stdout",
     "output_type": "stream",
     "text": [
      "\n",
      "--- Phase 2: Preparing Master DataFrame ---\n",
      "✅ Successfully created master DataFrame with 176 total columns.\n",
      "  -> SHORT ENTRY for P_576.0_20241011 at 10:08:00 at 0.42\n",
      "Hedge expiry is 20241014\n",
      "  -> HEDGE ENTRY of qty 80 for P_576.0_20241014 against P_576.0_20241011 and primary qty of 100 at price 0.95\n",
      "  -> COMBINED: Net credit = $-35.00\n",
      "  [EOD] Checking positions to close at 15:45:00\n",
      "  [EOD] Current positions: ['P_576.0_20241011', 'P_576.0_20241014']\n",
      "  [EOD] Processing P_576.0_20241011: side=-1, price=0.02\n",
      "  -> EOD EXIT for P_576.0_20241011. Profit: $39.00 and exit price is 0.02\n",
      "  [EOD] Processing P_576.0_20241014: side=1, price=0.47\n",
      "  -> EOD EXIT for P_576.0_20241014. Profit: $-38.40 and exit price is 0.47\n",
      "\n",
      "--- Processing Day: 2024-10-14 ---\n",
      "Fetching options across 581.02\n"
     ]
    },
    {
     "data": {
      "application/vnd.jupyter.widget-view+json": {
       "model_id": "920d0cc6708f47a3a01c3670df369d29",
       "version_major": 2,
       "version_minor": 0
      },
      "text/plain": [
       "FloatProgress(value=0.0, layout=Layout(width='auto'), style=ProgressStyle(bar_color='black'))"
      ]
     },
     "metadata": {},
     "output_type": "display_data"
    },
    {
     "name": "stdout",
     "output_type": "stream",
     "text": [
      "\n",
      "--- Phase 2: Preparing Master DataFrame ---\n",
      "✅ Successfully created master DataFrame with 176 total columns.\n",
      "\n",
      "--- Processing Day: 2024-10-15 ---\n",
      "Fetching options across 584.59\n"
     ]
    },
    {
     "data": {
      "application/vnd.jupyter.widget-view+json": {
       "model_id": "dc56d13491014a3bab691d9872db14d0",
       "version_major": 2,
       "version_minor": 0
      },
      "text/plain": [
       "FloatProgress(value=0.0, layout=Layout(width='auto'), style=ProgressStyle(bar_color='black'))"
      ]
     },
     "metadata": {},
     "output_type": "display_data"
    },
    {
     "name": "stdout",
     "output_type": "stream",
     "text": [
      "\n",
      "--- Phase 2: Preparing Master DataFrame ---\n",
      "✅ Successfully created master DataFrame with 152 total columns.\n",
      "\n",
      "--- Processing Day: 2024-10-16 ---\n",
      "Fetching options across 579.85\n"
     ]
    },
    {
     "data": {
      "application/vnd.jupyter.widget-view+json": {
       "model_id": "aa0ffdc7264d42fc9079e04d47cb70eb",
       "version_major": 2,
       "version_minor": 0
      },
      "text/plain": [
       "FloatProgress(value=0.0, layout=Layout(width='auto'), style=ProgressStyle(bar_color='black'))"
      ]
     },
     "metadata": {},
     "output_type": "display_data"
    },
    {
     "name": "stdout",
     "output_type": "stream",
     "text": [
      "\n",
      "--- Phase 2: Preparing Master DataFrame ---\n",
      "✅ Successfully created master DataFrame with 176 total columns.\n",
      "\n",
      "--- Processing Day: 2024-10-17 ---\n",
      "Fetching options across 585.43\n"
     ]
    },
    {
     "data": {
      "application/vnd.jupyter.widget-view+json": {
       "model_id": "cf5a62a24d494ab28c2e5f660f7d32ae",
       "version_major": 2,
       "version_minor": 0
      },
      "text/plain": [
       "FloatProgress(value=0.0, layout=Layout(width='auto'), style=ProgressStyle(bar_color='black'))"
      ]
     },
     "metadata": {},
     "output_type": "display_data"
    },
    {
     "name": "stdout",
     "output_type": "stream",
     "text": [
      "\n",
      "--- Phase 2: Preparing Master DataFrame ---\n",
      "✅ Successfully created master DataFrame with 176 total columns.\n",
      "\n",
      "--- Processing Day: 2024-10-18 ---\n",
      "Fetching options across 583.78\n"
     ]
    },
    {
     "data": {
      "application/vnd.jupyter.widget-view+json": {
       "model_id": "e6b836666b154181ba6f83b586036df5",
       "version_major": 2,
       "version_minor": 0
      },
      "text/plain": [
       "FloatProgress(value=0.0, layout=Layout(width='auto'), style=ProgressStyle(bar_color='black'))"
      ]
     },
     "metadata": {},
     "output_type": "display_data"
    },
    {
     "name": "stdout",
     "output_type": "stream",
     "text": [
      "\n",
      "--- Phase 2: Preparing Master DataFrame ---\n",
      "✅ Successfully created master DataFrame with 176 total columns.\n",
      "\n",
      "--- Processing Day: 2024-10-21 ---\n",
      "Fetching options across 583.89\n"
     ]
    },
    {
     "data": {
      "application/vnd.jupyter.widget-view+json": {
       "model_id": "774436fa3de24aae8995bce64c4f27fb",
       "version_major": 2,
       "version_minor": 0
      },
      "text/plain": [
       "FloatProgress(value=0.0, layout=Layout(width='auto'), style=ProgressStyle(bar_color='black'))"
      ]
     },
     "metadata": {},
     "output_type": "display_data"
    },
    {
     "name": "stdout",
     "output_type": "stream",
     "text": [
      "\n",
      "--- Phase 2: Preparing Master DataFrame ---\n",
      "✅ Successfully created master DataFrame with 176 total columns.\n",
      "\n",
      "--- Processing Day: 2024-10-22 ---\n",
      "Fetching options across 581.2\n"
     ]
    },
    {
     "data": {
      "application/vnd.jupyter.widget-view+json": {
       "model_id": "76fe865e1cac4558812b2d71f73e77c5",
       "version_major": 2,
       "version_minor": 0
      },
      "text/plain": [
       "FloatProgress(value=0.0, layout=Layout(width='auto'), style=ProgressStyle(bar_color='black'))"
      ]
     },
     "metadata": {},
     "output_type": "display_data"
    },
    {
     "name": "stdout",
     "output_type": "stream",
     "text": [
      "\n",
      "--- Phase 2: Preparing Master DataFrame ---\n",
      "✅ Successfully created master DataFrame with 176 total columns.\n",
      "\n",
      "--- Processing Day: 2024-10-23 ---\n",
      "Fetching options across 581.65\n"
     ]
    },
    {
     "data": {
      "application/vnd.jupyter.widget-view+json": {
       "model_id": "e7def528699842af83411f0e6c1b24a0",
       "version_major": 2,
       "version_minor": 0
      },
      "text/plain": [
       "FloatProgress(value=0.0, layout=Layout(width='auto'), style=ProgressStyle(bar_color='black'))"
      ]
     },
     "metadata": {},
     "output_type": "display_data"
    },
    {
     "name": "stdout",
     "output_type": "stream",
     "text": [
      "\n",
      "--- Phase 2: Preparing Master DataFrame ---\n",
      "✅ Successfully created master DataFrame with 176 total columns.\n",
      "\n",
      "--- Processing Day: 2024-10-24 ---\n",
      "Fetching options across 579.5\n"
     ]
    },
    {
     "data": {
      "application/vnd.jupyter.widget-view+json": {
       "model_id": "31e3bb8da4a74ee1a80dd3fac48b1db5",
       "version_major": 2,
       "version_minor": 0
      },
      "text/plain": [
       "FloatProgress(value=0.0, layout=Layout(width='auto'), style=ProgressStyle(bar_color='black'))"
      ]
     },
     "metadata": {},
     "output_type": "display_data"
    },
    {
     "name": "stdout",
     "output_type": "stream",
     "text": [
      "\n",
      "--- Phase 2: Preparing Master DataFrame ---\n",
      "✅ Successfully created master DataFrame with 176 total columns.\n",
      "\n",
      "--- Processing Day: 2024-10-25 ---\n",
      "Fetching options across 582.24\n",
      "\n",
      "--- Phase 2: Preparing Master DataFrame ---\n",
      "✅ Successfully created master DataFrame with 176 total columns.\n",
      "\n",
      "--- Processing Day: 2024-10-28 ---\n",
      "Fetching options across 582.17\n",
      "\n",
      "--- Phase 2: Preparing Master DataFrame ---\n",
      "✅ Successfully created master DataFrame with 176 total columns.\n",
      "\n",
      "--- Processing Day: 2024-10-29 ---\n",
      "Fetching options across 579.64\n"
     ]
    },
    {
     "data": {
      "application/vnd.jupyter.widget-view+json": {
       "model_id": "98830b00121d4ade979e40a9b806b3f8",
       "version_major": 2,
       "version_minor": 0
      },
      "text/plain": [
       "FloatProgress(value=0.0, layout=Layout(width='auto'), style=ProgressStyle(bar_color='black'))"
      ]
     },
     "metadata": {},
     "output_type": "display_data"
    },
    {
     "name": "stdout",
     "output_type": "stream",
     "text": [
      "\n",
      "--- Phase 2: Preparing Master DataFrame ---\n",
      "✅ Successfully created master DataFrame with 176 total columns.\n",
      "  -> SHORT ENTRY for P_579.0_20241029 at 10:04:00 at 0.79\n",
      "Hedge expiry is 20241030\n",
      "  -> HEDGE ENTRY of qty 80 for P_579.0_20241030 against P_579.0_20241029 and primary qty of 100 at price 1.14\n",
      "  -> COMBINED: Net credit = $-13.20\n",
      "  [EOD] Checking positions to close at 15:45:00\n",
      "  [EOD] Current positions: ['P_579.0_20241029', 'P_579.0_20241030']\n",
      "  [EOD] Processing P_579.0_20241029: side=-1, price=0.04\n",
      "  -> EOD EXIT for P_579.0_20241029. Profit: $74.00 and exit price is 0.04\n",
      "  [EOD] Processing P_579.0_20241030: side=1, price=0.74\n",
      "  -> EOD EXIT for P_579.0_20241030. Profit: $-32.00 and exit price is 0.74\n",
      "\n",
      "--- Processing Day: 2024-10-30 ---\n",
      "Fetching options across 581.27\n",
      "\n",
      "--- Phase 2: Preparing Master DataFrame ---\n",
      "✅ Successfully created master DataFrame with 176 total columns.\n",
      "  -> SHORT ENTRY for P_580.0_20241030 at 10:01:00 at 0.72\n",
      "Hedge expiry is 20241031\n",
      "  -> HEDGE ENTRY of qty 80 for P_580.0_20241031 against P_580.0_20241030 and primary qty of 100 at price 1.21\n",
      "  -> COMBINED: Net credit = $-25.80\n",
      "  [EOD] Checking positions to close at 15:45:00\n",
      "  [EOD] Current positions: ['P_580.0_20241030', 'P_580.0_20241031']\n",
      "  [EOD] Processing P_580.0_20241030: side=-1, price=0.61\n",
      "  -> EOD EXIT for P_580.0_20241030. Profit: $10.00 and exit price is 0.61\n",
      "  [EOD] Processing P_580.0_20241031: side=1, price=1.73\n",
      "  -> EOD EXIT for P_580.0_20241031. Profit: $41.60 and exit price is 1.73\n",
      "\n",
      "--- Processing Day: 2024-10-31 ---\n",
      "Fetching options across 575.2\n",
      "\n",
      "--- Phase 2: Preparing Master DataFrame ---\n",
      "✅ Successfully created master DataFrame with 176 total columns.\n",
      "\n",
      "--- Processing Day: 2024-11-01 ---\n",
      "Fetching options across 571.37\n"
     ]
    },
    {
     "data": {
      "application/vnd.jupyter.widget-view+json": {
       "model_id": "5d73ac6e60934c0da7cb2f60387f4f20",
       "version_major": 2,
       "version_minor": 0
      },
      "text/plain": [
       "FloatProgress(value=0.0, layout=Layout(width='auto'), style=ProgressStyle(bar_color='black'))"
      ]
     },
     "metadata": {},
     "output_type": "display_data"
    },
    {
     "name": "stdout",
     "output_type": "stream",
     "text": [
      "\n",
      "--- Phase 2: Preparing Master DataFrame ---\n",
      "✅ Successfully created master DataFrame with 176 total columns.\n",
      "\n",
      "--- Processing Day: 2024-11-04 ---\n",
      "Fetching options across 571.31\n",
      "\n",
      "--- Phase 2: Preparing Master DataFrame ---\n",
      "✅ Successfully created master DataFrame with 176 total columns.\n",
      "  -> SHORT ENTRY for P_570.0_20241104 at 10:07:00 at 0.68\n",
      "Hedge expiry is 20241105\n",
      "  -> HEDGE ENTRY of qty 80 for P_570.0_20241105 against P_570.0_20241104 and primary qty of 100 at price 1.57\n",
      "  -> COMBINED: Net credit = $-58.60\n",
      "  🚨 STOP-LOSS TRIGGERED for P_570.0_20241104+P_570.0_20241105 at 2024-11-04 11:47:00\n",
      "     Entry short was : $0.67, Current short leg price: $1.72\n",
      "     Entry long was : $1.57, Current long leg price: $2.76\n",
      "     Loss: $-9.80\n",
      "  -> SPREAD_STOP_LOSS EXIT for P_570.0_20241104. Profit: $-105.00 and exit price is 1.72\n",
      "  -> SPREAD_STOP_LOSS EXIT for P_570.0_20241105. Profit: $95.20 and exit price is 2.76\n",
      "\n",
      "--- Processing Day: 2024-11-05 ---\n",
      "Fetching options across 571.11\n",
      "\n",
      "--- Phase 2: Preparing Master DataFrame ---\n",
      "✅ Successfully created master DataFrame with 176 total columns.\n",
      "  -> SHORT ENTRY for P_571.0_20241105 at 09:55:00 at 0.66\n",
      "Hedge expiry is 20241106\n",
      "  -> HEDGE ENTRY of qty 80 for P_571.0_20241106 against P_571.0_20241105 and primary qty of 100 at price 3.31\n",
      "  -> COMBINED: Net credit = $-199.80\n",
      "  [EOD] Checking positions to close at 15:45:00\n",
      "  [EOD] Current positions: ['P_571.0_20241105', 'P_571.0_20241106']\n",
      "  [EOD] Processing P_571.0_20241105: side=-1, price=0.01\n",
      "  -> EOD EXIT for P_571.0_20241105. Profit: $64.00 and exit price is 0.01\n",
      "  [EOD] Processing P_571.0_20241106: side=1, price=2.52\n",
      "  -> EOD EXIT for P_571.0_20241106. Profit: $-63.20 and exit price is 2.52\n",
      "\n",
      "--- Processing Day: 2024-11-06 ---\n",
      "Fetching options across 588.26\n"
     ]
    },
    {
     "data": {
      "application/vnd.jupyter.widget-view+json": {
       "model_id": "9d288d14c9ee4611a90e18bb2afe918a",
       "version_major": 2,
       "version_minor": 0
      },
      "text/plain": [
       "FloatProgress(value=0.0, layout=Layout(width='auto'), style=ProgressStyle(bar_color='black'))"
      ]
     },
     "metadata": {},
     "output_type": "display_data"
    },
    {
     "name": "stdout",
     "output_type": "stream",
     "text": [
      "\n",
      "--- Phase 2: Preparing Master DataFrame ---\n",
      "✅ Successfully created master DataFrame with 176 total columns.\n",
      "\n",
      "--- Processing Day: 2024-11-07 ---\n",
      "Fetching options across 593.27\n"
     ]
    },
    {
     "data": {
      "application/vnd.jupyter.widget-view+json": {
       "model_id": "846a4c2140f94581ba79ba699b85b240",
       "version_major": 2,
       "version_minor": 0
      },
      "text/plain": [
       "FloatProgress(value=0.0, layout=Layout(width='auto'), style=ProgressStyle(bar_color='black'))"
      ]
     },
     "metadata": {},
     "output_type": "display_data"
    },
    {
     "name": "stdout",
     "output_type": "stream",
     "text": [
      "\n",
      "--- Phase 2: Preparing Master DataFrame ---\n",
      "✅ Successfully created master DataFrame with 176 total columns.\n",
      "\n",
      "--- Processing Day: 2024-11-08 ---\n",
      "Fetching options across 596.51\n"
     ]
    },
    {
     "data": {
      "application/vnd.jupyter.widget-view+json": {
       "model_id": "ec09e3e0c2594f61a8f8f3de697842e5",
       "version_major": 2,
       "version_minor": 0
      },
      "text/plain": [
       "FloatProgress(value=0.0, layout=Layout(width='auto'), style=ProgressStyle(bar_color='black'))"
      ]
     },
     "metadata": {},
     "output_type": "display_data"
    },
    {
     "name": "stdout",
     "output_type": "stream",
     "text": [
      "\n",
      "--- Phase 2: Preparing Master DataFrame ---\n",
      "✅ Successfully created master DataFrame with 176 total columns.\n",
      "\n",
      "--- Processing Day: 2024-11-11 ---\n",
      "Fetching options across 600.03\n"
     ]
    },
    {
     "data": {
      "application/vnd.jupyter.widget-view+json": {
       "model_id": "a3ad0c9f5c1b4aae8423f2dd2fc01246",
       "version_major": 2,
       "version_minor": 0
      },
      "text/plain": [
       "FloatProgress(value=0.0, layout=Layout(width='auto'), style=ProgressStyle(bar_color='black'))"
      ]
     },
     "metadata": {},
     "output_type": "display_data"
    },
    {
     "name": "stdout",
     "output_type": "stream",
     "text": [
      "\n",
      "--- Phase 2: Preparing Master DataFrame ---\n",
      "✅ Successfully created master DataFrame with 192 total columns.\n",
      "\n",
      "--- Processing Day: 2024-11-12 ---\n",
      "Fetching options across 598.93\n"
     ]
    },
    {
     "data": {
      "application/vnd.jupyter.widget-view+json": {
       "model_id": "0637be67f07245e091838513a3620085",
       "version_major": 2,
       "version_minor": 0
      },
      "text/plain": [
       "FloatProgress(value=0.0, layout=Layout(width='auto'), style=ProgressStyle(bar_color='black'))"
      ]
     },
     "metadata": {},
     "output_type": "display_data"
    },
    {
     "name": "stdout",
     "output_type": "stream",
     "text": [
      "\n",
      "--- Phase 2: Preparing Master DataFrame ---\n",
      "✅ Successfully created master DataFrame with 176 total columns.\n",
      "\n",
      "--- Processing Day: 2024-11-13 ---\n",
      "Fetching options across 597.31\n"
     ]
    },
    {
     "data": {
      "application/vnd.jupyter.widget-view+json": {
       "model_id": "427c9914111d43e69afb5873ebf25c48",
       "version_major": 2,
       "version_minor": 0
      },
      "text/plain": [
       "FloatProgress(value=0.0, layout=Layout(width='auto'), style=ProgressStyle(bar_color='black'))"
      ]
     },
     "metadata": {},
     "output_type": "display_data"
    },
    {
     "name": "stdout",
     "output_type": "stream",
     "text": [
      "\n",
      "--- Phase 2: Preparing Master DataFrame ---\n",
      "✅ Successfully created master DataFrame with 176 total columns.\n",
      "\n",
      "--- Processing Day: 2024-11-14 ---\n",
      "Fetching options across 597.7\n"
     ]
    },
    {
     "data": {
      "application/vnd.jupyter.widget-view+json": {
       "model_id": "8b2093e951a54f3fa921e175de6a55da",
       "version_major": 2,
       "version_minor": 0
      },
      "text/plain": [
       "FloatProgress(value=0.0, layout=Layout(width='auto'), style=ProgressStyle(bar_color='black'))"
      ]
     },
     "metadata": {},
     "output_type": "display_data"
    },
    {
     "name": "stdout",
     "output_type": "stream",
     "text": [
      "\n",
      "--- Phase 2: Preparing Master DataFrame ---\n",
      "✅ Successfully created master DataFrame with 176 total columns.\n",
      "\n",
      "--- Processing Day: 2024-11-15 ---\n",
      "Fetching options across 589.94\n"
     ]
    },
    {
     "data": {
      "application/vnd.jupyter.widget-view+json": {
       "model_id": "c6b7f54410c54f2ab17823817b42b6d6",
       "version_major": 2,
       "version_minor": 0
      },
      "text/plain": [
       "FloatProgress(value=0.0, layout=Layout(width='auto'), style=ProgressStyle(bar_color='black'))"
      ]
     },
     "metadata": {},
     "output_type": "display_data"
    },
    {
     "name": "stdout",
     "output_type": "stream",
     "text": [
      "\n",
      "--- Phase 2: Preparing Master DataFrame ---\n",
      "✅ Successfully created master DataFrame with 176 total columns.\n",
      "\n",
      "--- Processing Day: 2024-11-18 ---\n",
      "Fetching options across 585.88\n"
     ]
    },
    {
     "data": {
      "application/vnd.jupyter.widget-view+json": {
       "model_id": "a95407741473488c92a9b87938581ce3",
       "version_major": 2,
       "version_minor": 0
      },
      "text/plain": [
       "FloatProgress(value=0.0, layout=Layout(width='auto'), style=ProgressStyle(bar_color='black'))"
      ]
     },
     "metadata": {},
     "output_type": "display_data"
    },
    {
     "name": "stdout",
     "output_type": "stream",
     "text": [
      "\n",
      "--- Phase 2: Preparing Master DataFrame ---\n",
      "✅ Successfully created master DataFrame with 176 total columns.\n",
      "  -> SHORT ENTRY for P_586.0_20241118 at 10:31:00 at 0.43\n",
      "Hedge expiry is 20241119\n",
      "  -> HEDGE ENTRY of qty 80 for P_586.0_20241119 against P_586.0_20241118 and primary qty of 100 at price 0.8\n",
      "  -> COMBINED: Net credit = $-22.00\n",
      "  [EOD] Checking positions to close at 15:45:00\n",
      "  [EOD] Current positions: ['P_586.0_20241118', 'P_586.0_20241119']\n",
      "  [EOD] Processing P_586.0_20241118: side=-1, price=0.02\n",
      "  -> EOD EXIT for P_586.0_20241118. Profit: $40.00 and exit price is 0.02\n",
      "  [EOD] Processing P_586.0_20241119: side=1, price=0.71\n",
      "  -> EOD EXIT for P_586.0_20241119. Profit: $-7.20 and exit price is 0.71\n",
      "\n",
      "--- Processing Day: 2024-11-19 ---\n",
      "Fetching options across 584.79\n"
     ]
    },
    {
     "data": {
      "application/vnd.jupyter.widget-view+json": {
       "model_id": "2a742becb9a34b6ca94d8fc7b3c76c66",
       "version_major": 2,
       "version_minor": 0
      },
      "text/plain": [
       "FloatProgress(value=0.0, layout=Layout(width='auto'), style=ProgressStyle(bar_color='black'))"
      ]
     },
     "metadata": {},
     "output_type": "display_data"
    },
    {
     "name": "stdout",
     "output_type": "stream",
     "text": [
      "\n",
      "--- Phase 2: Preparing Master DataFrame ---\n",
      "✅ Successfully created master DataFrame with 176 total columns.\n",
      "\n",
      "--- Processing Day: 2024-11-20 ---\n",
      "Fetching options across 590.13\n"
     ]
    },
    {
     "data": {
      "application/vnd.jupyter.widget-view+json": {
       "model_id": "42b6d13a64754bab98125a82ee8c0325",
       "version_major": 2,
       "version_minor": 0
      },
      "text/plain": [
       "FloatProgress(value=0.0, layout=Layout(width='auto'), style=ProgressStyle(bar_color='black'))"
      ]
     },
     "metadata": {},
     "output_type": "display_data"
    },
    {
     "name": "stdout",
     "output_type": "stream",
     "text": [
      "\n",
      "--- Phase 2: Preparing Master DataFrame ---\n",
      "✅ Successfully created master DataFrame with 176 total columns.\n",
      "\n",
      "--- Processing Day: 2024-11-21 ---\n",
      "Fetching options across 592.86\n"
     ]
    },
    {
     "data": {
      "application/vnd.jupyter.widget-view+json": {
       "model_id": "ed879f0f309a46c2baa99d37b6f61b4c",
       "version_major": 2,
       "version_minor": 0
      },
      "text/plain": [
       "FloatProgress(value=0.0, layout=Layout(width='auto'), style=ProgressStyle(bar_color='black'))"
      ]
     },
     "metadata": {},
     "output_type": "display_data"
    },
    {
     "name": "stdout",
     "output_type": "stream",
     "text": [
      "\n",
      "--- Phase 2: Preparing Master DataFrame ---\n",
      "✅ Successfully created master DataFrame with 176 total columns.\n",
      "  -> SHORT ENTRY for P_589.0_20241121 at 09:50:00 at 0.81\n",
      "Hedge expiry is 20241122\n",
      "  -> HEDGE ENTRY of qty 80 for P_589.0_20241122 against P_589.0_20241121 and primary qty of 100 at price 1.83\n",
      "  -> COMBINED: Net credit = $-66.40\n",
      "  🚨 STOP-LOSS TRIGGERED for P_589.0_20241121+P_589.0_20241122 at 2024-11-21 10:05:00\n",
      "     Entry short was : $0.80, Current short leg price: $1.85\n",
      "     Entry long was : $1.83, Current long leg price: $2.69\n",
      "     Loss: $-36.20\n",
      "  -> SPREAD_STOP_LOSS EXIT for P_589.0_20241121. Profit: $-105.00 and exit price is 1.85\n",
      "  -> SPREAD_STOP_LOSS EXIT for P_589.0_20241122. Profit: $68.80 and exit price is 2.69\n",
      "\n",
      "--- Processing Day: 2024-11-22 ---\n",
      "Fetching options across 594.22\n"
     ]
    },
    {
     "data": {
      "application/vnd.jupyter.widget-view+json": {
       "model_id": "41213e3baacd406f9d0f0463dfabf03d",
       "version_major": 2,
       "version_minor": 0
      },
      "text/plain": [
       "FloatProgress(value=0.0, layout=Layout(width='auto'), style=ProgressStyle(bar_color='black'))"
      ]
     },
     "metadata": {},
     "output_type": "display_data"
    },
    {
     "name": "stdout",
     "output_type": "stream",
     "text": [
      "\n",
      "--- Phase 2: Preparing Master DataFrame ---\n",
      "✅ Successfully created master DataFrame with 176 total columns.\n",
      "  -> SHORT ENTRY for P_594.0_20241122 at 09:46:00 at 0.7\n",
      "Hedge expiry is 20241125\n",
      "  -> HEDGE ENTRY of qty 80 for P_594.0_20241125 against P_594.0_20241122 and primary qty of 100 at price 1.67\n",
      "  -> COMBINED: Net credit = $-64.60\n",
      "  🚨 STOP-LOSS TRIGGERED for P_594.0_20241122+P_594.0_20241125 at 2024-11-22 10:29:00\n",
      "     Entry short was : $0.69, Current short leg price: $1.73\n",
      "     Entry long was : $1.67, Current long leg price: $2.58\n",
      "     Loss: $-31.20\n",
      "  -> SPREAD_STOP_LOSS EXIT for P_594.0_20241122. Profit: $-104.00 and exit price is 1.73\n",
      "  -> SPREAD_STOP_LOSS EXIT for P_594.0_20241125. Profit: $72.80 and exit price is 2.58\n",
      "\n",
      "--- Processing Day: 2024-11-25 ---\n",
      "Fetching options across 599.01\n"
     ]
    },
    {
     "data": {
      "application/vnd.jupyter.widget-view+json": {
       "model_id": "5a7f6ff9b0da4685b254a37138f58cf7",
       "version_major": 2,
       "version_minor": 0
      },
      "text/plain": [
       "FloatProgress(value=0.0, layout=Layout(width='auto'), style=ProgressStyle(bar_color='black'))"
      ]
     },
     "metadata": {},
     "output_type": "display_data"
    },
    {
     "name": "stdout",
     "output_type": "stream",
     "text": [
      "\n",
      "--- Phase 2: Preparing Master DataFrame ---\n",
      "✅ Successfully created master DataFrame with 176 total columns.\n",
      "\n",
      "--- Processing Day: 2024-11-26 ---\n",
      "Fetching options across 598.8\n",
      "\n",
      "--- Phase 2: Preparing Master DataFrame ---\n",
      "✅ Successfully created master DataFrame with 176 total columns.\n",
      "\n",
      "--- Processing Day: 2024-11-27 ---\n",
      "Fetching options across 600.28\n",
      "\n",
      "--- Phase 2: Preparing Master DataFrame ---\n",
      "✅ Successfully created master DataFrame with 192 total columns.\n",
      "\n",
      "--- Processing Day: 2024-12-02 ---\n",
      "Fetching options across 603.29\n",
      "\n",
      "--- Phase 2: Preparing Master DataFrame ---\n",
      "✅ Successfully created master DataFrame with 192 total columns.\n",
      "\n",
      "--- Processing Day: 2024-12-03 ---\n",
      "Fetching options across 603.41\n",
      "\n",
      "--- Phase 2: Preparing Master DataFrame ---\n",
      "✅ Successfully created master DataFrame with 192 total columns.\n",
      "\n",
      "--- Processing Day: 2024-12-04 ---\n",
      "Fetching options across 605.67\n",
      "\n",
      "--- Phase 2: Preparing Master DataFrame ---\n",
      "✅ Successfully created master DataFrame with 192 total columns.\n",
      "\n",
      "--- Processing Day: 2024-12-05 ---\n",
      "Fetching options across 607.78\n"
     ]
    },
    {
     "data": {
      "application/vnd.jupyter.widget-view+json": {
       "model_id": "9ee566064c96436887287c6ee9a37fb9",
       "version_major": 2,
       "version_minor": 0
      },
      "text/plain": [
       "FloatProgress(value=0.0, layout=Layout(width='auto'), style=ProgressStyle(bar_color='black'))"
      ]
     },
     "metadata": {},
     "output_type": "display_data"
    },
    {
     "name": "stdout",
     "output_type": "stream",
     "text": [
      "\n",
      "--- Phase 2: Preparing Master DataFrame ---\n",
      "✅ Successfully created master DataFrame with 192 total columns.\n",
      "\n",
      "--- Processing Day: 2024-12-06 ---\n",
      "Fetching options across 607.74\n"
     ]
    },
    {
     "data": {
      "application/vnd.jupyter.widget-view+json": {
       "model_id": "01a5080c62224ce99d75ef9bf32c1ccf",
       "version_major": 2,
       "version_minor": 0
      },
      "text/plain": [
       "FloatProgress(value=0.0, layout=Layout(width='auto'), style=ProgressStyle(bar_color='black'))"
      ]
     },
     "metadata": {},
     "output_type": "display_data"
    },
    {
     "name": "stdout",
     "output_type": "stream",
     "text": [
      "\n",
      "--- Phase 2: Preparing Master DataFrame ---\n",
      "✅ Successfully created master DataFrame with 192 total columns.\n",
      "\n",
      "--- Processing Day: 2024-12-09 ---\n",
      "Fetching options across 607.48\n"
     ]
    },
    {
     "data": {
      "application/vnd.jupyter.widget-view+json": {
       "model_id": "4447dee28f4e4a15b8a35f53a99e4e7e",
       "version_major": 2,
       "version_minor": 0
      },
      "text/plain": [
       "FloatProgress(value=0.0, layout=Layout(width='auto'), style=ProgressStyle(bar_color='black'))"
      ]
     },
     "metadata": {},
     "output_type": "display_data"
    },
    {
     "name": "stdout",
     "output_type": "stream",
     "text": [
      "\n",
      "--- Phase 2: Preparing Master DataFrame ---\n",
      "✅ Successfully created master DataFrame with 192 total columns.\n",
      "\n",
      "--- Processing Day: 2024-12-10 ---\n",
      "Fetching options across 604.94\n",
      "\n",
      "--- Phase 2: Preparing Master DataFrame ---\n",
      "✅ Successfully created master DataFrame with 192 total columns.\n",
      "\n",
      "--- Processing Day: 2024-12-11 ---\n",
      "Fetching options across 605.65\n",
      "\n",
      "--- Phase 2: Preparing Master DataFrame ---\n",
      "✅ Successfully created master DataFrame with 192 total columns.\n",
      "\n",
      "--- Processing Day: 2024-12-12 ---\n",
      "Fetching options across 606.54\n",
      "\n",
      "--- Phase 2: Preparing Master DataFrame ---\n",
      "✅ Successfully created master DataFrame with 192 total columns.\n",
      "\n",
      "--- Processing Day: 2024-12-13 ---\n",
      "Fetching options across 606.35\n",
      "\n",
      "--- Phase 2: Preparing Master DataFrame ---\n",
      "✅ Successfully created master DataFrame with 192 total columns.\n",
      "\n",
      "--- Processing Day: 2024-12-16 ---\n",
      "Fetching options across 606.35\n"
     ]
    },
    {
     "data": {
      "application/vnd.jupyter.widget-view+json": {
       "model_id": "04feafbcb4414f1297d8c8cd01556dcd",
       "version_major": 2,
       "version_minor": 0
      },
      "text/plain": [
       "FloatProgress(value=0.0, layout=Layout(width='auto'), style=ProgressStyle(bar_color='black'))"
      ]
     },
     "metadata": {},
     "output_type": "display_data"
    },
    {
     "name": "stdout",
     "output_type": "stream",
     "text": [
      "\n",
      "--- Phase 2: Preparing Master DataFrame ---\n",
      "✅ Successfully created master DataFrame with 192 total columns.\n",
      "\n",
      "--- Processing Day: 2024-12-17 ---\n",
      "Fetching options across 603.83\n"
     ]
    },
    {
     "data": {
      "application/vnd.jupyter.widget-view+json": {
       "model_id": "271ea2c52c0c4991bab93e57adb7abbc",
       "version_major": 2,
       "version_minor": 0
      },
      "text/plain": [
       "FloatProgress(value=0.0, layout=Layout(width='auto'), style=ProgressStyle(bar_color='black'))"
      ]
     },
     "metadata": {},
     "output_type": "display_data"
    },
    {
     "name": "stdout",
     "output_type": "stream",
     "text": [
      "\n",
      "--- Phase 2: Preparing Master DataFrame ---\n",
      "✅ Successfully created master DataFrame with 192 total columns.\n",
      "\n",
      "--- Processing Day: 2024-12-18 ---\n",
      "Fetching options across 604.08\n"
     ]
    },
    {
     "data": {
      "application/vnd.jupyter.widget-view+json": {
       "model_id": "88d73db6f68b4e68a4d146ef1a5ce325",
       "version_major": 2,
       "version_minor": 0
      },
      "text/plain": [
       "FloatProgress(value=0.0, layout=Layout(width='auto'), style=ProgressStyle(bar_color='black'))"
      ]
     },
     "metadata": {},
     "output_type": "display_data"
    },
    {
     "name": "stdout",
     "output_type": "stream",
     "text": [
      "\n",
      "--- Phase 2: Preparing Master DataFrame ---\n",
      "✅ Successfully created master DataFrame with 192 total columns.\n",
      "  -> SHORT ENTRY for P_604.0_20241218 at 10:35:00 at 0.82\n",
      "Hedge expiry is 20241219\n",
      "  -> HEDGE ENTRY of qty 80 for P_604.0_20241219 against P_604.0_20241218 and primary qty of 100 at price 1.6\n",
      "  -> COMBINED: Net credit = $-47.00\n",
      "  🚨 STOP-LOSS TRIGGERED for P_604.0_20241218+P_604.0_20241219 at 2024-12-18 14:07:00\n",
      "     Entry short was : $0.81, Current short leg price: $2.38\n",
      "     Entry long was : $1.60, Current long leg price: $3.06\n",
      "     Loss: $-40.20\n",
      "  -> SPREAD_STOP_LOSS EXIT for P_604.0_20241218. Profit: $-157.00 and exit price is 2.38\n",
      "  -> SPREAD_STOP_LOSS EXIT for P_604.0_20241219. Profit: $116.80 and exit price is 3.06\n",
      "\n",
      "--- Processing Day: 2024-12-19 ---\n",
      "Fetching options across 591.51\n"
     ]
    },
    {
     "data": {
      "application/vnd.jupyter.widget-view+json": {
       "model_id": "a66a58eff6334b3abe9615b016f97a26",
       "version_major": 2,
       "version_minor": 0
      },
      "text/plain": [
       "FloatProgress(value=0.0, layout=Layout(width='auto'), style=ProgressStyle(bar_color='black'))"
      ]
     },
     "metadata": {},
     "output_type": "display_data"
    },
    {
     "name": "stdout",
     "output_type": "stream",
     "text": [
      "\n",
      "--- Phase 2: Preparing Master DataFrame ---\n",
      "✅ Successfully created master DataFrame with 176 total columns.\n",
      "\n",
      "--- Processing Day: 2024-12-20 ---\n",
      "Fetching options across 581.16\n"
     ]
    },
    {
     "data": {
      "application/vnd.jupyter.widget-view+json": {
       "model_id": "8e4c8fe3833d4c8c94979ac8ff6dbd93",
       "version_major": 2,
       "version_minor": 0
      },
      "text/plain": [
       "FloatProgress(value=0.0, layout=Layout(width='auto'), style=ProgressStyle(bar_color='black'))"
      ]
     },
     "metadata": {},
     "output_type": "display_data"
    },
    {
     "name": "stdout",
     "output_type": "stream",
     "text": [
      "\n",
      "--- Phase 2: Preparing Master DataFrame ---\n",
      "✅ Successfully created master DataFrame with 176 total columns.\n",
      "  -> SHORT ENTRY for P_582.0_20241220 at 10:07:00 at 1.21\n",
      "Hedge expiry is 20241223\n",
      "  -> HEDGE ENTRY of qty 80 for P_582.0_20241223 against P_582.0_20241220 and primary qty of 100 at price 2.65\n",
      "  -> COMBINED: Net credit = $-92.00\n",
      "  [EOD] Checking positions to close at 15:45:00\n",
      "  [EOD] Current positions: ['P_582.0_20241220', 'P_582.0_20241223']\n",
      "  [EOD] Processing P_582.0_20241220: side=-1, price=0.02\n",
      "  -> EOD EXIT for P_582.0_20241220. Profit: $118.00 and exit price is 0.02\n",
      "  [EOD] Processing P_582.0_20241223: side=1, price=0.36\n",
      "  -> EOD EXIT for P_582.0_20241223. Profit: $-183.20 and exit price is 0.36\n",
      "\n",
      "--- Processing Day: 2024-12-23 ---\n",
      "Fetching options across 591.68\n",
      "\n",
      "--- Phase 2: Preparing Master DataFrame ---\n",
      "✅ Successfully created master DataFrame with 176 total columns.\n",
      "  -> SHORT ENTRY for P_588.0_20241223 at 10:39:00 at 0.81\n",
      "Hedge expiry is 20241224\n",
      "  -> HEDGE ENTRY of qty 80 for P_588.0_20241224 against P_588.0_20241223 and primary qty of 100 at price 1.8\n",
      "  -> COMBINED: Net credit = $-64.00\n",
      "  [EOD] Checking positions to close at 15:45:00\n",
      "  [EOD] Current positions: ['P_588.0_20241223', 'P_588.0_20241224']\n",
      "  [EOD] Processing P_588.0_20241223: side=-1, price=0.01\n",
      "  -> EOD EXIT for P_588.0_20241223. Profit: $79.00 and exit price is 0.01\n",
      "  [EOD] Processing P_588.0_20241224: side=1, price=0.2\n",
      "  -> EOD EXIT for P_588.0_20241224. Profit: $-128.00 and exit price is 0.20\n",
      "\n",
      "--- Processing Day: 2024-12-24 ---\n",
      "Fetching options across 595.66\n",
      "\n",
      "--- Phase 2: Preparing Master DataFrame ---\n",
      "✅ Successfully created master DataFrame with 176 total columns.\n",
      "Trading completed. Total trades: 94\n"
     ]
    }
   ],
   "source": [
    "# ==============================================================================\n",
    "# SCRIPT STARTS HERE\n",
    "# ==============================================================================\n",
    "\n",
    "import pandas_market_calendars as mcal\n",
    "lookback_days = 1\n",
    "nyse = mcal.get_calendar('NYSE')\n",
    "\n",
    "# Initialize a list to hold all trade dictionaries.\n",
    "final_trade_log_list = []\n",
    "option_multiplier = 1\n",
    "\n",
    "# --- Main Loop: Iterate Through Each Day ---\n",
    "unique_days = com_df.index.normalize().unique()\n",
    "print(f\"🚀 Starting backtest for {len(unique_days)} unique days...\")\n",
    "for day in unique_days[2:]:\n",
    "    day_str = day.strftime('%Y-%m-%d')\n",
    "    print(f\"\\n--- Processing Day: {day_str} ---\")\n",
    "    daily_stop_loss_hit = False    \n",
    "    try:\n",
    "        # --- PHASE 1: PRE-FETCH DATA ---\n",
    "        daily_underlying_df = com_df[com_df.index.date == day.date()]\n",
    "        if daily_underlying_df.empty: \n",
    "            continue\n",
    "            \n",
    "        open_price = daily_underlying_df['SPY_close'].iloc[0]\n",
    "        print(f\"Fetching options across {open_price}\")\n",
    "                \n",
    "        if pd.isna(open_price): \n",
    "            continue\n",
    "        \n",
    "        atm_strike_open = np.round(open_price)\n",
    "\n",
    "        # ==============================================================================\n",
    "        # --- PHASE 1: PRE-FETCH ALL POTENTIAL OPTION DATA FOR THE DAY ---\n",
    "        # ==============================================================================\n",
    "        \n",
    "        strikes_to_fetch = set()\n",
    "        expiries_to_fetch = set()\n",
    "        legs_to_trade_info = {} # Store info to map data back to legs\n",
    "\n",
    "        for leg_name, params in strategy_config.items():\n",
    "            center_target_strike = atm_strike_open \n",
    "            # 1. Calculate the lower and upper price bounds\n",
    "            lower_bound = center_target_strike * 0.9875\n",
    "            upper_bound = center_target_strike * 1.005\n",
    "\n",
    "            # 2. Round the bounds to the nearest valid strike\n",
    "            rounded_lower = round_to_nearest(lower_bound, interval=strike_interval)\n",
    "            rounded_upper = round_to_nearest(upper_bound, interval=strike_interval)\n",
    "\n",
    "            # 3. Generate all strikes from the lower to upper bound, inclusive\n",
    "            all_strikes_in_range = np.arange(rounded_lower, rounded_upper + strike_interval, strike_interval)\n",
    "                    \n",
    "            # 4. Add all of these strikes to your set for fetching\n",
    "            strikes_to_fetch.update(all_strikes_in_range)\n",
    "\n",
    "            # The schedule is fetched once\n",
    "            schedule = nyse.schedule(start_date=day, end_date=day + pd.Timedelta(days=14))\n",
    "\n",
    "            # 1. Get the primary expiry offset from your config\n",
    "            primary_offset = params['expiry_offset']\n",
    "\n",
    "            # 2. Get and add the primary target expiry date\n",
    "            target_expiry_str = schedule.index[primary_offset].strftime('%Y-%m-%d')\n",
    "            expiries_to_fetch.add(target_expiry_str)\n",
    "\n",
    "            # 3. Calculate the offset for the next trading day\n",
    "            next_day_offset = primary_offset + 1\n",
    "\n",
    "            # 4. Safely get and add the next day's expiry date\n",
    "            if next_day_offset < len(schedule.index):\n",
    "                next_day_expiry_str = schedule.index[next_day_offset].strftime('%Y-%m-%d')\n",
    "                expiries_to_fetch.add(next_day_expiry_str)\n",
    "            else:\n",
    "                print(f\"  -> Added expiry: {target_expiry_str} (No further date in schedule)\")\n",
    "            \n",
    "            # Store the central parameters for this leg\n",
    "            legs_to_trade_info[leg_name] = {'strike': center_target_strike, 'expiry': target_expiry_str}\n",
    "\n",
    "        # Make one single, efficient call to fetch all data\n",
    "        bulk_data_df = fetch_bulk_option_data_call_put(\n",
    "            con=con, ticker='SPY', end_date_str=day_str, n_days=lookback_days,\n",
    "            strikes=list(strikes_to_fetch), expiries=list(expiries_to_fetch), option_type=-1)\n",
    "\n",
    "        if bulk_data_df.empty:\n",
    "            print(\"Could not pre-fetch any option data for the day. Skipping.\")\n",
    "            continue\n",
    "\n",
    "        grps = bulk_data_df.groupby(by=['strike', 'optionType', 'expiry'])\n",
    "        total_legs = grps.ngroups \n",
    "\n",
    "        print(\"\\n--- Phase 2: Preparing Master DataFrame ---\")\n",
    "\n",
    "        # 1. Create a list to hold the processed DataFrame for each option contract\n",
    "        all_option_dfs = []\n",
    "\n",
    "        # 2. Loop through each group (each unique option contract)\n",
    "        for (strike, option_type, expiry), contract_df in grps:\n",
    "            \n",
    "            # 3. Create a unique, descriptive prefix for this specific contract\n",
    "            type_char = 'C' if option_type == 1 else 'P'\n",
    "            expiry_str = pd.to_datetime(expiry).strftime('%Y%m%d')\n",
    "            prefix = f\"{type_char}_{strike}_{expiry_str}_\"\n",
    "            \n",
    "            # 4. Add the prefix to all columns of this contract's DataFrame\n",
    "            prefixed_df = contract_df.add_prefix(prefix)\n",
    "            \n",
    "            # 5. Add the prepared DataFrame to our list\n",
    "            all_option_dfs.append(prefixed_df)\n",
    "\n",
    "        # 6. Concatenate all individual option DataFrames into one wide DataFrame\n",
    "        if all_option_dfs:\n",
    "            com_legs_df = pd.concat(all_option_dfs, axis=1, join='outer')\n",
    "            print(f\"✅ Successfully created master DataFrame with {len(com_legs_df.columns)} total columns.\")\n",
    "        else:\n",
    "            print(\"❌ No valid option groups to process.\")\n",
    "            continue\n",
    "\n",
    "        legs_to_process = [symbol for symbol in com_legs_df.filter(like='_close').columns.str.replace('_close', '').unique()\n",
    "                          if symbol.startswith('C_') or symbol.startswith('P_')]\n",
    "\n",
    "        #print(legs_to_process)\n",
    "\n",
    "        # Apply rolling calculations\n",
    "        com_legs_df[[f\"{legs}_intraday_low\" for legs in legs_to_process]] = com_legs_df[[f\"{legs}_bidPrice\" for legs in legs_to_process]].apply(lambda x: intraday_low(com_legs_df, low_col=x.name, agg_func='min'))\n",
    "\n",
    "        com_legs_df[[f\"{legs}_intraday_high\" for legs in legs_to_process]] = com_legs_df[[f\"{legs}_askPrice\" for legs in legs_to_process]].apply(lambda x: intraday_high(com_legs_df, high_col=x.name, agg_func='max'))\n",
    "\n",
    "        close_cols = [f'{leg}_close' for leg in legs_to_process]\n",
    "        com_legs_df[[f'{leg}_ma10' for leg in legs_to_process]] = com_legs_df[close_cols].rolling(window=10).mean()\n",
    "\n",
    "        # Calculate Today's Opening Price for each leg\n",
    "        com_legs_df[[f'{leg}_todayo' for leg in legs_to_process]] = com_legs_df[[f'{leg}_close' for leg in legs_to_process]].resample('D').transform('first')\n",
    "\n",
    "        com_legs_df[[f'{leg}_ROC_5' for leg in legs_to_process]] = com_legs_df[[f\"{leg}_close\" for leg in legs_to_process]].pct_change(periods=5)\n",
    "        \n",
    "        # 7. Join the wide option data with the underlying SPY data\n",
    "        com_df3 = pd.concat([daily_underlying_df, com_legs_df], join='outer', axis=1)\n",
    "                \n",
    "        # 1. Calculate the rounded ATM strike for every row\n",
    "        atm_strikes = round_to_nearest(com_df3['SPY_close'], interval=1)\n",
    "        atm1_strikes = round_to_nearest(com_df3['SPY_close'], interval=1) + 1\n",
    "\n",
    "        # 2. Build the corresponding leg name for every row\n",
    "        com_df3['current_atm_leg'] = 'C_' + atm_strikes.astype(str) + '_' + day.strftime('%Y%m%d')        \n",
    "\n",
    "        # --- STATE DICTIONARIES (Reset for each day) ---\n",
    "        is_in_position = {}\n",
    "        position_side = {}\n",
    "        entry_price = {}\n",
    "        entry_spy_price = {} \n",
    "        qty = {}\n",
    "        entry_timestamp = {}\n",
    "        has_been_hedged = {}\n",
    "        hedge_for_leg = {}\n",
    "        bar_count = {}\n",
    "        net_premiums = {}\n",
    "\n",
    "        #== Risk management parameters\n",
    "        daily_trade_count = 0\n",
    "        daily_max_trades = 2\n",
    "        \n",
    "\n",
    "\n",
    "\n",
    "        for i in range(len(com_df3)):\n",
    "            \n",
    "            timestamp = com_df3.index[i]\n",
    "            row = com_df3.iloc[i]\n",
    "\n",
    "            # --- CHECK DAILY LIMIT ---\n",
    "            if daily_stop_loss_hit:\n",
    "                # Stop loss already hit today, skip new entries\n",
    "                continue\n",
    "\n",
    "\n",
    "                    # Package all state dictionaries to pass to the helper function\n",
    "            state_dictionaries = {\n",
    "                'is_in_position': is_in_position, 'position_side': position_side, 'entry_price': entry_price,\n",
    "                'qty': qty, 'entry_timestamp': entry_timestamp, 'bar_count': bar_count, \n",
    "                'entry_spy_price': entry_spy_price, 'has_been_hedged': has_been_hedged         }\n",
    "\n",
    "\n",
    "            # Update bar counts for existing positions\n",
    "            for leg_name in list(is_in_position.keys()):\n",
    "                bar_count[leg_name] = bar_count.get(leg_name, 0) + 1\n",
    "\n",
    "            # --- Part A: Check for NEW Short Entry ---\n",
    "            is_short_open = -1 in position_side.values()\n",
    "            \n",
    "            # Entry Condition: SPY is $1 below its open price today\n",
    "            short_entry_condition = (row['SPY_close'] > (com_df3['SPY_intraday_low'].iloc[i-1] + 2) and timestamp.time() > time(9, 41) and (row['SPY_todayo'] < (com_df3['SPY_prevdayc'].iloc[i-1]*1.01) and row['SPY_close'] < (com_df3['SPY_prevdayh'].iloc[i-1]*1.005)  and timestamp.time() < time(14, 25) and \n",
    "                daily_trade_count < daily_max_trades))\n",
    "\n",
    "            if not is_short_open and short_entry_condition:\n",
    "                atm_strike = round_to_nearest(row['SPY_close'], 1)\n",
    "                target_strike = atm_strike - 2\n",
    "                expiry_0dte = timestamp.strftime('%Y%m%d')\n",
    "                #print(f\"Short expiry is {expiry_0dte}\")\n",
    "                leg_name = f\"P_{target_strike}_{expiry_0dte}\"\n",
    "                \n",
    "                if f\"{leg_name}_askPrice\" in row and row[f\"{leg_name}_askPrice\"] > 0.4 and row[f\"{leg_name}_askPrice\"] < 1.25 and row[f\"{leg_name}_bidPrice\"]>row[f\"{leg_name}_intraday_high\"]*0.25 and row[f\"{leg_name}_askPrice\"]<row[f\"{leg_name}_todayo\"]*0.9 :\n",
    "                    is_in_position[leg_name] = True\n",
    "                    position_side[leg_name] = -1  # Sell\n",
    "                    entry_price[leg_name] = row[f\"{leg_name}_bidPrice\"]\n",
    "                    qty[leg_name] = 100\n",
    "                    entry_spy_price[leg_name] = row['SPY_close']\n",
    "                    entry_timestamp[leg_name] = timestamp\n",
    "                    has_been_hedged[leg_name] = False\n",
    "                    bar_count[leg_name] = 0\n",
    "                    daily_trade_count += 1\n",
    "                    print(f\"  -> SHORT ENTRY for {leg_name} at {timestamp.time()} at {row[f'{leg_name}_askPrice']}\")\n",
    "                    \n",
    "            # --- Part B: Check for Hedge Entry ---\n",
    "            primary_short_leg = next((leg for leg, side in position_side.items() if side == -1 and not has_been_hedged.get(leg, False)), None)\n",
    "            short_strike = float(primary_short_leg.split('_')[1]) if primary_short_leg else None\n",
    "\n",
    "            if primary_short_leg:\n",
    "                #print(f\"Primary short Strike: {short_strike}\")\n",
    "                spy_at_entry = entry_spy_price[primary_short_leg]\n",
    "                current_spy = row['SPY_close']\n",
    "                            # Skip if current SPY is NaN\n",
    "                if pd.isna(current_spy):\n",
    "                    continue\n",
    "                hedge_qty = 0\n",
    "                hedge_ratio = 0 \n",
    "                \n",
    "                if current_spy <= spy_at_entry - 0.5:\n",
    "\n",
    "                    hedge_ratio = 1\n",
    "                elif current_spy >= spy_at_entry + 1:\n",
    "                    hedge_ratio = 0.7    \n",
    "                \n",
    "                #print(f\"  [HEDGE CHECK] {primary_short_leg}: Entry SPY={spy_at_entry:.2f}, Current={current_spy:.2f}\")\n",
    "\n",
    "                if hedge_ratio > 0:\n",
    "                    #hedge_strike = round_to_nearest(current_spy, 1) - 1\n",
    "                    hedge_strike = short_strike\n",
    "\n",
    "                    expiry_1dte = next_day_expiry_str.replace('-', '')\n",
    "                    print(f\"Hedge expiry is {expiry_1dte}\")\n",
    "                    hedge_leg = f\"P_{hedge_strike}_{expiry_1dte}\"\n",
    "\n",
    "                    if f\"{hedge_leg}_askPrice\" in row and row[f\"{hedge_leg}_askPrice\"] > 0:\n",
    "                        \n",
    "                        # Get the current prices and original quantity\n",
    "                        short_price = row[f\"{primary_short_leg}_askPrice\"] # Current cost to close the short\n",
    "                        hedge_price = row[f\"{hedge_leg}_askPrice\"]\n",
    "                        short_qty = qty[primary_short_leg]\n",
    "                        \n",
    "                        # ▼▼▼ THIS IS THE DYNAMIC CALCULATION ▼▼▼\n",
    "                        # Calculate the ideal quantity based on notional value\n",
    "                        dynamic_qty = (hedge_ratio * short_price * short_qty) / hedge_price\n",
    "                        \n",
    "                        # Round to the nearest whole number for the final quantity\n",
    "                        hedge_qty = max(80 , int(round(dynamic_qty, 0)))\n",
    "\n",
    "                        print(f\"  -> HEDGE ENTRY of qty {hedge_qty} for {hedge_leg} against {primary_short_leg} and primary qty of {short_qty} at price {row[f'{hedge_leg}_askPrice']}\")\n",
    "                        is_in_position[hedge_leg] = True\n",
    "                        position_side[hedge_leg] = 1  # Buy\n",
    "                        entry_price[hedge_leg] = row[f\"{hedge_leg}_askPrice\"]\n",
    "                        qty[hedge_leg] = int(hedge_qty)\n",
    "                        entry_timestamp[hedge_leg] = timestamp\n",
    "                        bar_count[hedge_leg] = 0\n",
    "                        \n",
    "                        has_been_hedged[primary_short_leg] = True\n",
    "                        hedge_for_leg[primary_short_leg] = hedge_leg\n",
    "\n",
    "                        # Track net premium\n",
    "                        short_premium = entry_price[primary_short_leg] * qty[primary_short_leg]\n",
    "                        long_premium = entry_price[hedge_leg] * qty[hedge_leg]\n",
    "                        net_credit = short_premium - long_premium\n",
    "                        net_premiums[primary_short_leg] = net_credit\n",
    "                        print(f\"  -> COMBINED: Net credit = ${net_credit:.2f}\")\n",
    "\n",
    "            # --- Part C: Check Stop-Loss for Combined Positions ---\n",
    "            for primary_leg in list(net_premiums.keys()):\n",
    "                if primary_leg not in is_in_position:\n",
    "                    continue\n",
    "                if primary_leg not in hedge_for_leg:\n",
    "                    continue\n",
    "                    \n",
    "                hedge_leg = hedge_for_leg[primary_leg]\n",
    "\n",
    "                            # Check if both legs have been held for at least 15 bars\n",
    "                primary_bar_count = bar_count.get(primary_leg, 0)\n",
    "                hedge_bar_count = bar_count.get(hedge_leg, 0)\n",
    "\n",
    "                short_current = row.get(f\"{primary_leg}_askPrice\", 0)\n",
    "                long_current = row.get(f\"{hedge_leg}_bidPrice\", 0)\n",
    "                \n",
    "                if primary_bar_count <= 10 or hedge_bar_count <= 10:\n",
    "                    continue  # Skip stop-loss check if either leg is too new\n",
    "\n",
    "\n",
    "                if short_current > 0 or long_current > 0:\n",
    "                    short_entry_price = entry_price[primary_leg]\n",
    "                    long_entry_price = entry_price[hedge_leg]\n",
    "\n",
    "                    # Get quantities\n",
    "                    short_qty = qty[primary_leg]\n",
    "                    long_qty = qty[hedge_leg]\n",
    "\n",
    "                    # 1. Calculate P&L for the SHORT leg\n",
    "                    pnl_short = (short_entry_price - short_current) * short_qty\n",
    "\n",
    "                    # 2. Calculate P&L for the LONG leg\n",
    "                    pnl_long = (long_current - long_entry_price) * long_qty\n",
    "\n",
    "                    # 3. Calculate the total combined P&L\n",
    "                    pnl_change = pnl_short + pnl_long\n",
    "\n",
    "                                                \n",
    "                    \n",
    "                    \n",
    "                    if pnl_change <= -100 or pnl_short <= -100:\n",
    "                        \n",
    "                        print(f\"  🚨 STOP-LOSS TRIGGERED for {primary_leg}+{hedge_leg} at {timestamp}\")\n",
    "                        print(f\"     Entry short was : ${short_entry_price:.2f}, Current short leg price: ${short_current:.2f}\")\n",
    "                        print(f\"     Entry long was : ${long_entry_price:.2f}, Current long leg price: ${long_current:.2f}\")\n",
    "                        print(f\"     Loss: ${pnl_change:.2f}\")\n",
    "                        daily_stop_loss_hit = True  # Prevent any new entries for the rest of the day\n",
    "                                            # Call the helper function for the SHORT leg\n",
    "                        log_and_close_trade(\n",
    "                            leg_name=primary_leg, \n",
    "                            exit_timestamp=timestamp, \n",
    "                            exit_price=short_current, # Use the askPrice to buy-to-close\n",
    "                            exit_reason='SPREAD_STOP_LOSS', \n",
    "                            state_dicts=state_dictionaries, \n",
    "                            final_trade_log_list=final_trade_log_list\n",
    "                        )\n",
    "                        \n",
    "                        # Call the helper function for the LONG leg\n",
    "                        log_and_close_trade(\n",
    "                            leg_name=hedge_leg, \n",
    "                            exit_timestamp=timestamp, \n",
    "                            exit_price=long_current, # Use the bidPrice to sell-to-close\n",
    "                            exit_reason='SPREAD_STOP_LOSS', \n",
    "                            state_dicts=state_dictionaries, \n",
    "                            final_trade_log_list=final_trade_log_list\n",
    "                        )\n",
    "                        \n",
    "                        # Clean up the spread-specific dictionaries\n",
    "                        del hedge_for_leg[primary_leg]\n",
    "                        del net_premiums[primary_leg]\n",
    "\n",
    "            # --- Part D: Manage EOD Exits ---\n",
    "            if timestamp.time() >= time(15, 45) and is_in_position:\n",
    "                print(f\"  [EOD] Checking positions to close at {timestamp.time()}\")\n",
    "                print(f\"  [EOD] Current positions: {list(is_in_position.keys())}\")\n",
    "                for leg_name in list(is_in_position.keys()):\n",
    "                    side = position_side[leg_name]\n",
    "\n",
    "                                # Get appropriate exit price with multiple fallbacks\n",
    "                    if side == -1:  # Short - buy to close at ask price\n",
    "                        exit_price = (row.get(f\"{leg_name}_askPrice\") or \n",
    "                                    row.get(f\"{leg_name}_close\") or \n",
    "                                    0.01)  # Final fallback\n",
    "                    else:  # Long (hedge) - sell to close at bid price\n",
    "                        exit_price = (row.get(f\"{leg_name}_bidPrice\") or \n",
    "                                    row.get(f\"{leg_name}_close\") or \n",
    "                                    0.01)  # Final fallback\n",
    "                                \n",
    "                    print(f\"  [EOD] Processing {leg_name}: side={side}, price={exit_price}\")\n",
    "                    if pd.notna(exit_price) and exit_price > 0:\n",
    "                        # ▼▼▼ REPLACED with function call ▼▼▼\n",
    "                        log_and_close_trade(leg_name, timestamp, exit_price, 'EOD', state_dictionaries, final_trade_log_list, option_multiplier)\n",
    "                        \n",
    "                        # Clean up any remaining spread-specific state if this was a primary leg\n",
    "                        if leg_name in hedge_for_leg: del hedge_for_leg[leg_name]\n",
    "                        if leg_name in net_premiums: del net_premiums[leg_name]\n",
    "                            # Clear all tracking dictionaries\n",
    "                is_in_position.clear()\n",
    "                position_side.clear()\n",
    "                entry_price.clear()\n",
    "                qty.clear()\n",
    "                entry_timestamp.clear()\n",
    "                bar_count.clear()\n",
    "                entry_spy_price.clear()\n",
    "                has_been_hedged.clear()\n",
    "                hedge_for_leg.clear()\n",
    "                net_premiums.clear()      \n",
    "\n",
    "    except Exception as e:\n",
    "        print(f\"  ❌ An error occurred on {day_str}: {e}\")\n",
    "        import traceback\n",
    "        traceback.print_exc()\n",
    "\n",
    "# --- Convert final log to DataFrame ---\n",
    "if final_trade_log_list:\n",
    "    local_trade_log2 = pd.DataFrame(final_trade_log_list)\n",
    "    print(f\"Trading completed. Total trades: {len(local_trade_log2)}\")\n",
    "else:\n",
    "    print(\"No trades were made.\")"
   ]
  },
  {
   "cell_type": "code",
   "execution_count": 160,
   "id": "dbd886c1",
   "metadata": {},
   "outputs": [],
   "source": [
    "local_trade_log2 = pd.DataFrame(final_trade_log_list)\n",
    "daily_profits = local_trade_log2.groupby(local_trade_log2['entry_date'].dt.date)['profit'].sum()"
   ]
  },
  {
   "cell_type": "code",
   "execution_count": 161,
   "id": "d4b99fb5",
   "metadata": {},
   "outputs": [
    {
     "data": {
      "text/plain": [
       "-3.9531914893617035"
      ]
     },
     "execution_count": 161,
     "metadata": {},
     "output_type": "execute_result"
    }
   ],
   "source": [
    "daily_profits.mean()"
   ]
  },
  {
   "cell_type": "code",
   "execution_count": 149,
   "id": "524383e6",
   "metadata": {},
   "outputs": [],
   "source": [
    "xx = pd.read_parquet(r\"C:\\Users\\aakas\\Downloads\\2025-10-02_3min_live_candles.parquet\")"
   ]
  },
  {
   "cell_type": "code",
   "execution_count": 151,
   "id": "6711534a",
   "metadata": {},
   "outputs": [
    {
     "data": {
      "text/plain": [
       "60"
      ]
     },
     "execution_count": 151,
     "metadata": {},
     "output_type": "execute_result"
    }
   ],
   "source": [
    "len(xx['symbol'].unique())"
   ]
  },
  {
   "cell_type": "code",
   "execution_count": 145,
   "id": "5655558f",
   "metadata": {},
   "outputs": [
    {
     "data": {
      "text/plain": [
       "60"
      ]
     },
     "execution_count": 145,
     "metadata": {},
     "output_type": "execute_result"
    }
   ],
   "source": [
    "len(xx['symbol'].unique())"
   ]
  },
  {
   "cell_type": "code",
   "execution_count": 36,
   "id": "5f3e441d",
   "metadata": {},
   "outputs": [],
   "source": [
    "local_trade_log2.to_csv(r\"Tst.csv\")"
   ]
  },
  {
   "cell_type": "code",
   "execution_count": 162,
   "id": "4bdea031",
   "metadata": {},
   "outputs": [
    {
     "name": "stdout",
     "output_type": "stream",
     "text": [
      "Positive days: 19 (40.43%)\n",
      "Negative days: 28 (59.57%)\n"
     ]
    }
   ],
   "source": [
    "negative_days = (daily_profits < 0).sum()\n",
    "positive_days = (daily_profits > 0).sum()\n",
    "total_days = daily_profits.count()\n",
    "\n",
    "positive_pct = 100 * positive_days / total_days\n",
    "negative_pct = 100 * negative_days / total_days\n",
    "\n",
    "print(f\"Positive days: {positive_days} ({positive_pct:.2f}%)\")\n",
    "print(f\"Negative days: {negative_days} ({negative_pct:.2f}%)\")"
   ]
  },
  {
   "cell_type": "code",
   "execution_count": 157,
   "id": "b8ae5c84",
   "metadata": {},
   "outputs": [
    {
     "data": {
      "text/plain": [
       "-67.19999999999999"
      ]
     },
     "execution_count": 157,
     "metadata": {},
     "output_type": "execute_result"
    }
   ],
   "source": [
    "daily_profits.min()"
   ]
  },
  {
   "cell_type": "code",
   "execution_count": 163,
   "id": "f2c707ff",
   "metadata": {},
   "outputs": [
    {
     "data": {
      "text/plain": [
       "<Axes: title={'center': 'Cumulative Daily Profits Over Time'}, xlabel='entry_date'>"
      ]
     },
     "execution_count": 163,
     "metadata": {},
     "output_type": "execute_result"
    },
    {
     "data": {
      "image/png": "[encoded data removed]",
      "text/plain": [
       "<Figure size 1200x600 with 1 Axes>"
      ]
     },
     "metadata": {},
     "output_type": "display_data"
    }
   ],
   "source": [
    "daily_profits.cumsum().plot(figsize=(12, 6), title='Cumulative Daily Profits Over Time', grid=True)"
   ]
  },
  {
   "cell_type": "code",
   "execution_count": 77,
   "id": "0fe1d1ab",
   "metadata": {},
   "outputs": [
    {
     "data": {
      "text/plain": [
       "<Axes: title={'center': 'SPY Close Price Over Time'}, xlabel='timestamp'>"
      ]
     },
     "execution_count": 77,
     "metadata": {},
     "output_type": "execute_result"
    },
    {
     "data": {
      "image/png": "[encoded data removed]",
      "text/plain": [
       "<Figure size 1200x600 with 1 Axes>"
      ]
     },
     "metadata": {},
     "output_type": "display_data"
    }
   ],
   "source": [
    "com_df['SPY_close'].plot(figsize=(12, 6), title='SPY Close Price Over Time', grid=True)"
   ]
  },
  {
   "cell_type": "code",
   "execution_count": null,
   "id": "2664cbc3",
   "metadata": {},
   "outputs": [],
   "source": [
    "daily_profits"
   ]
  },
  {
   "cell_type": "code",
   "execution_count": null,
   "id": "3135d3fe",
   "metadata": {},
   "outputs": [],
   "source": []
  }
 ],
 "metadata": {
  "kernelspec": {
   "display_name": "base",
   "language": "python",
   "name": "python3"
  },
  "language_info": {
   "codemirror_mode": {
    "name": "ipython",
    "version": 3
   },
   "file_extension": ".py",
   "mimetype": "text/x-python",
   "name": "python",
   "nbconvert_exporter": "python",
   "pygments_lexer": "ipython3",
   "version": "3.12.7"
  }
 },
 "nbformat": 4,
 "nbformat_minor": 5
}
